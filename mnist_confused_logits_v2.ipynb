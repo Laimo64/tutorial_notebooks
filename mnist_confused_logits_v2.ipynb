{
  "nbformat": 4,
  "nbformat_minor": 0,
  "metadata": {
    "colab": {
      "name": "mnist_confused_logits_v2.ipynb",
      "provenance": [],
      "collapsed_sections": [],
      "include_colab_link": true
    },
    "kernelspec": {
      "name": "python3",
      "display_name": "Python 3"
    },
    "language_info": {
      "name": "python"
    },
    "accelerator": "GPU",
    "widgets": {
      "application/vnd.jupyter.widget-state+json": {
        "b7d10ab6d40a4017856b9a8856b3dd32": {
          "model_module": "@jupyter-widgets/controls",
          "model_name": "HBoxModel",
          "model_module_version": "1.5.0",
          "state": {
            "_dom_classes": [],
            "_model_module": "@jupyter-widgets/controls",
            "_model_module_version": "1.5.0",
            "_model_name": "HBoxModel",
            "_view_count": null,
            "_view_module": "@jupyter-widgets/controls",
            "_view_module_version": "1.5.0",
            "_view_name": "HBoxView",
            "box_style": "",
            "children": [
              "IPY_MODEL_8097c627b9df43cb92343304b90a7b9d",
              "IPY_MODEL_678dd30cd67c46d88db1d0dc3e0e76a4",
              "IPY_MODEL_6cb1ee7b7fe14cabb49ef5abcb9684a2"
            ],
            "layout": "IPY_MODEL_03b7f8e0c60b4093bc6563ca74dc62b7"
          }
        },
        "8097c627b9df43cb92343304b90a7b9d": {
          "model_module": "@jupyter-widgets/controls",
          "model_name": "HTMLModel",
          "model_module_version": "1.5.0",
          "state": {
            "_dom_classes": [],
            "_model_module": "@jupyter-widgets/controls",
            "_model_module_version": "1.5.0",
            "_model_name": "HTMLModel",
            "_view_count": null,
            "_view_module": "@jupyter-widgets/controls",
            "_view_module_version": "1.5.0",
            "_view_name": "HTMLView",
            "description": "",
            "description_tooltip": null,
            "layout": "IPY_MODEL_42e871467f714c25a6604fe40af04ba6",
            "placeholder": "​",
            "style": "IPY_MODEL_2048b9b44f68406ba359e22803c4ebd1",
            "value": ""
          }
        },
        "678dd30cd67c46d88db1d0dc3e0e76a4": {
          "model_module": "@jupyter-widgets/controls",
          "model_name": "FloatProgressModel",
          "model_module_version": "1.5.0",
          "state": {
            "_dom_classes": [],
            "_model_module": "@jupyter-widgets/controls",
            "_model_module_version": "1.5.0",
            "_model_name": "FloatProgressModel",
            "_view_count": null,
            "_view_module": "@jupyter-widgets/controls",
            "_view_module_version": "1.5.0",
            "_view_name": "ProgressView",
            "bar_style": "success",
            "description": "",
            "description_tooltip": null,
            "layout": "IPY_MODEL_8633bea0fa844bdea8d8fa32b43478b7",
            "max": 9912422,
            "min": 0,
            "orientation": "horizontal",
            "style": "IPY_MODEL_7967b4627f71466abd7676f51ca0032d",
            "value": 9912422
          }
        },
        "6cb1ee7b7fe14cabb49ef5abcb9684a2": {
          "model_module": "@jupyter-widgets/controls",
          "model_name": "HTMLModel",
          "model_module_version": "1.5.0",
          "state": {
            "_dom_classes": [],
            "_model_module": "@jupyter-widgets/controls",
            "_model_module_version": "1.5.0",
            "_model_name": "HTMLModel",
            "_view_count": null,
            "_view_module": "@jupyter-widgets/controls",
            "_view_module_version": "1.5.0",
            "_view_name": "HTMLView",
            "description": "",
            "description_tooltip": null,
            "layout": "IPY_MODEL_cf195aa21c7a489e97e3f3147a3a5613",
            "placeholder": "​",
            "style": "IPY_MODEL_18e819537c704e5fb831bdf7115c9834",
            "value": " 9913344/? [00:00&lt;00:00, 16500030.79it/s]"
          }
        },
        "03b7f8e0c60b4093bc6563ca74dc62b7": {
          "model_module": "@jupyter-widgets/base",
          "model_name": "LayoutModel",
          "model_module_version": "1.2.0",
          "state": {
            "_model_module": "@jupyter-widgets/base",
            "_model_module_version": "1.2.0",
            "_model_name": "LayoutModel",
            "_view_count": null,
            "_view_module": "@jupyter-widgets/base",
            "_view_module_version": "1.2.0",
            "_view_name": "LayoutView",
            "align_content": null,
            "align_items": null,
            "align_self": null,
            "border": null,
            "bottom": null,
            "display": null,
            "flex": null,
            "flex_flow": null,
            "grid_area": null,
            "grid_auto_columns": null,
            "grid_auto_flow": null,
            "grid_auto_rows": null,
            "grid_column": null,
            "grid_gap": null,
            "grid_row": null,
            "grid_template_areas": null,
            "grid_template_columns": null,
            "grid_template_rows": null,
            "height": null,
            "justify_content": null,
            "justify_items": null,
            "left": null,
            "margin": null,
            "max_height": null,
            "max_width": null,
            "min_height": null,
            "min_width": null,
            "object_fit": null,
            "object_position": null,
            "order": null,
            "overflow": null,
            "overflow_x": null,
            "overflow_y": null,
            "padding": null,
            "right": null,
            "top": null,
            "visibility": null,
            "width": null
          }
        },
        "42e871467f714c25a6604fe40af04ba6": {
          "model_module": "@jupyter-widgets/base",
          "model_name": "LayoutModel",
          "model_module_version": "1.2.0",
          "state": {
            "_model_module": "@jupyter-widgets/base",
            "_model_module_version": "1.2.0",
            "_model_name": "LayoutModel",
            "_view_count": null,
            "_view_module": "@jupyter-widgets/base",
            "_view_module_version": "1.2.0",
            "_view_name": "LayoutView",
            "align_content": null,
            "align_items": null,
            "align_self": null,
            "border": null,
            "bottom": null,
            "display": null,
            "flex": null,
            "flex_flow": null,
            "grid_area": null,
            "grid_auto_columns": null,
            "grid_auto_flow": null,
            "grid_auto_rows": null,
            "grid_column": null,
            "grid_gap": null,
            "grid_row": null,
            "grid_template_areas": null,
            "grid_template_columns": null,
            "grid_template_rows": null,
            "height": null,
            "justify_content": null,
            "justify_items": null,
            "left": null,
            "margin": null,
            "max_height": null,
            "max_width": null,
            "min_height": null,
            "min_width": null,
            "object_fit": null,
            "object_position": null,
            "order": null,
            "overflow": null,
            "overflow_x": null,
            "overflow_y": null,
            "padding": null,
            "right": null,
            "top": null,
            "visibility": null,
            "width": null
          }
        },
        "2048b9b44f68406ba359e22803c4ebd1": {
          "model_module": "@jupyter-widgets/controls",
          "model_name": "DescriptionStyleModel",
          "model_module_version": "1.5.0",
          "state": {
            "_model_module": "@jupyter-widgets/controls",
            "_model_module_version": "1.5.0",
            "_model_name": "DescriptionStyleModel",
            "_view_count": null,
            "_view_module": "@jupyter-widgets/base",
            "_view_module_version": "1.2.0",
            "_view_name": "StyleView",
            "description_width": ""
          }
        },
        "8633bea0fa844bdea8d8fa32b43478b7": {
          "model_module": "@jupyter-widgets/base",
          "model_name": "LayoutModel",
          "model_module_version": "1.2.0",
          "state": {
            "_model_module": "@jupyter-widgets/base",
            "_model_module_version": "1.2.0",
            "_model_name": "LayoutModel",
            "_view_count": null,
            "_view_module": "@jupyter-widgets/base",
            "_view_module_version": "1.2.0",
            "_view_name": "LayoutView",
            "align_content": null,
            "align_items": null,
            "align_self": null,
            "border": null,
            "bottom": null,
            "display": null,
            "flex": null,
            "flex_flow": null,
            "grid_area": null,
            "grid_auto_columns": null,
            "grid_auto_flow": null,
            "grid_auto_rows": null,
            "grid_column": null,
            "grid_gap": null,
            "grid_row": null,
            "grid_template_areas": null,
            "grid_template_columns": null,
            "grid_template_rows": null,
            "height": null,
            "justify_content": null,
            "justify_items": null,
            "left": null,
            "margin": null,
            "max_height": null,
            "max_width": null,
            "min_height": null,
            "min_width": null,
            "object_fit": null,
            "object_position": null,
            "order": null,
            "overflow": null,
            "overflow_x": null,
            "overflow_y": null,
            "padding": null,
            "right": null,
            "top": null,
            "visibility": null,
            "width": null
          }
        },
        "7967b4627f71466abd7676f51ca0032d": {
          "model_module": "@jupyter-widgets/controls",
          "model_name": "ProgressStyleModel",
          "model_module_version": "1.5.0",
          "state": {
            "_model_module": "@jupyter-widgets/controls",
            "_model_module_version": "1.5.0",
            "_model_name": "ProgressStyleModel",
            "_view_count": null,
            "_view_module": "@jupyter-widgets/base",
            "_view_module_version": "1.2.0",
            "_view_name": "StyleView",
            "bar_color": null,
            "description_width": ""
          }
        },
        "cf195aa21c7a489e97e3f3147a3a5613": {
          "model_module": "@jupyter-widgets/base",
          "model_name": "LayoutModel",
          "model_module_version": "1.2.0",
          "state": {
            "_model_module": "@jupyter-widgets/base",
            "_model_module_version": "1.2.0",
            "_model_name": "LayoutModel",
            "_view_count": null,
            "_view_module": "@jupyter-widgets/base",
            "_view_module_version": "1.2.0",
            "_view_name": "LayoutView",
            "align_content": null,
            "align_items": null,
            "align_self": null,
            "border": null,
            "bottom": null,
            "display": null,
            "flex": null,
            "flex_flow": null,
            "grid_area": null,
            "grid_auto_columns": null,
            "grid_auto_flow": null,
            "grid_auto_rows": null,
            "grid_column": null,
            "grid_gap": null,
            "grid_row": null,
            "grid_template_areas": null,
            "grid_template_columns": null,
            "grid_template_rows": null,
            "height": null,
            "justify_content": null,
            "justify_items": null,
            "left": null,
            "margin": null,
            "max_height": null,
            "max_width": null,
            "min_height": null,
            "min_width": null,
            "object_fit": null,
            "object_position": null,
            "order": null,
            "overflow": null,
            "overflow_x": null,
            "overflow_y": null,
            "padding": null,
            "right": null,
            "top": null,
            "visibility": null,
            "width": null
          }
        },
        "18e819537c704e5fb831bdf7115c9834": {
          "model_module": "@jupyter-widgets/controls",
          "model_name": "DescriptionStyleModel",
          "model_module_version": "1.5.0",
          "state": {
            "_model_module": "@jupyter-widgets/controls",
            "_model_module_version": "1.5.0",
            "_model_name": "DescriptionStyleModel",
            "_view_count": null,
            "_view_module": "@jupyter-widgets/base",
            "_view_module_version": "1.2.0",
            "_view_name": "StyleView",
            "description_width": ""
          }
        },
        "c7807cdd872542b4acc1ffb9c020376d": {
          "model_module": "@jupyter-widgets/controls",
          "model_name": "HBoxModel",
          "model_module_version": "1.5.0",
          "state": {
            "_dom_classes": [],
            "_model_module": "@jupyter-widgets/controls",
            "_model_module_version": "1.5.0",
            "_model_name": "HBoxModel",
            "_view_count": null,
            "_view_module": "@jupyter-widgets/controls",
            "_view_module_version": "1.5.0",
            "_view_name": "HBoxView",
            "box_style": "",
            "children": [
              "IPY_MODEL_414bf0bf42224edfab1970929ca9891e",
              "IPY_MODEL_c1578ae7d4b54cf1b9d8a539d0db9931",
              "IPY_MODEL_4e5d2d842f354146a7fa47718053a305"
            ],
            "layout": "IPY_MODEL_3a74f440c2e144f68905f63714e71330"
          }
        },
        "414bf0bf42224edfab1970929ca9891e": {
          "model_module": "@jupyter-widgets/controls",
          "model_name": "HTMLModel",
          "model_module_version": "1.5.0",
          "state": {
            "_dom_classes": [],
            "_model_module": "@jupyter-widgets/controls",
            "_model_module_version": "1.5.0",
            "_model_name": "HTMLModel",
            "_view_count": null,
            "_view_module": "@jupyter-widgets/controls",
            "_view_module_version": "1.5.0",
            "_view_name": "HTMLView",
            "description": "",
            "description_tooltip": null,
            "layout": "IPY_MODEL_6c0747049bde4b569d97826315043712",
            "placeholder": "​",
            "style": "IPY_MODEL_d02e161ab3134d84b3dec67de04b4c47",
            "value": ""
          }
        },
        "c1578ae7d4b54cf1b9d8a539d0db9931": {
          "model_module": "@jupyter-widgets/controls",
          "model_name": "FloatProgressModel",
          "model_module_version": "1.5.0",
          "state": {
            "_dom_classes": [],
            "_model_module": "@jupyter-widgets/controls",
            "_model_module_version": "1.5.0",
            "_model_name": "FloatProgressModel",
            "_view_count": null,
            "_view_module": "@jupyter-widgets/controls",
            "_view_module_version": "1.5.0",
            "_view_name": "ProgressView",
            "bar_style": "success",
            "description": "",
            "description_tooltip": null,
            "layout": "IPY_MODEL_71c4e7235e4c41e9898f0f0085ee2dd1",
            "max": 28881,
            "min": 0,
            "orientation": "horizontal",
            "style": "IPY_MODEL_46efa076f09d413aa17cf270a575f68e",
            "value": 28881
          }
        },
        "4e5d2d842f354146a7fa47718053a305": {
          "model_module": "@jupyter-widgets/controls",
          "model_name": "HTMLModel",
          "model_module_version": "1.5.0",
          "state": {
            "_dom_classes": [],
            "_model_module": "@jupyter-widgets/controls",
            "_model_module_version": "1.5.0",
            "_model_name": "HTMLModel",
            "_view_count": null,
            "_view_module": "@jupyter-widgets/controls",
            "_view_module_version": "1.5.0",
            "_view_name": "HTMLView",
            "description": "",
            "description_tooltip": null,
            "layout": "IPY_MODEL_7e583df827264fdc8218be3c73c7d0ec",
            "placeholder": "​",
            "style": "IPY_MODEL_7e6bd24d152f45e0b34c55a3e7c21e0b",
            "value": " 29696/? [00:00&lt;00:00, 10064.93it/s]"
          }
        },
        "3a74f440c2e144f68905f63714e71330": {
          "model_module": "@jupyter-widgets/base",
          "model_name": "LayoutModel",
          "model_module_version": "1.2.0",
          "state": {
            "_model_module": "@jupyter-widgets/base",
            "_model_module_version": "1.2.0",
            "_model_name": "LayoutModel",
            "_view_count": null,
            "_view_module": "@jupyter-widgets/base",
            "_view_module_version": "1.2.0",
            "_view_name": "LayoutView",
            "align_content": null,
            "align_items": null,
            "align_self": null,
            "border": null,
            "bottom": null,
            "display": null,
            "flex": null,
            "flex_flow": null,
            "grid_area": null,
            "grid_auto_columns": null,
            "grid_auto_flow": null,
            "grid_auto_rows": null,
            "grid_column": null,
            "grid_gap": null,
            "grid_row": null,
            "grid_template_areas": null,
            "grid_template_columns": null,
            "grid_template_rows": null,
            "height": null,
            "justify_content": null,
            "justify_items": null,
            "left": null,
            "margin": null,
            "max_height": null,
            "max_width": null,
            "min_height": null,
            "min_width": null,
            "object_fit": null,
            "object_position": null,
            "order": null,
            "overflow": null,
            "overflow_x": null,
            "overflow_y": null,
            "padding": null,
            "right": null,
            "top": null,
            "visibility": null,
            "width": null
          }
        },
        "6c0747049bde4b569d97826315043712": {
          "model_module": "@jupyter-widgets/base",
          "model_name": "LayoutModel",
          "model_module_version": "1.2.0",
          "state": {
            "_model_module": "@jupyter-widgets/base",
            "_model_module_version": "1.2.0",
            "_model_name": "LayoutModel",
            "_view_count": null,
            "_view_module": "@jupyter-widgets/base",
            "_view_module_version": "1.2.0",
            "_view_name": "LayoutView",
            "align_content": null,
            "align_items": null,
            "align_self": null,
            "border": null,
            "bottom": null,
            "display": null,
            "flex": null,
            "flex_flow": null,
            "grid_area": null,
            "grid_auto_columns": null,
            "grid_auto_flow": null,
            "grid_auto_rows": null,
            "grid_column": null,
            "grid_gap": null,
            "grid_row": null,
            "grid_template_areas": null,
            "grid_template_columns": null,
            "grid_template_rows": null,
            "height": null,
            "justify_content": null,
            "justify_items": null,
            "left": null,
            "margin": null,
            "max_height": null,
            "max_width": null,
            "min_height": null,
            "min_width": null,
            "object_fit": null,
            "object_position": null,
            "order": null,
            "overflow": null,
            "overflow_x": null,
            "overflow_y": null,
            "padding": null,
            "right": null,
            "top": null,
            "visibility": null,
            "width": null
          }
        },
        "d02e161ab3134d84b3dec67de04b4c47": {
          "model_module": "@jupyter-widgets/controls",
          "model_name": "DescriptionStyleModel",
          "model_module_version": "1.5.0",
          "state": {
            "_model_module": "@jupyter-widgets/controls",
            "_model_module_version": "1.5.0",
            "_model_name": "DescriptionStyleModel",
            "_view_count": null,
            "_view_module": "@jupyter-widgets/base",
            "_view_module_version": "1.2.0",
            "_view_name": "StyleView",
            "description_width": ""
          }
        },
        "71c4e7235e4c41e9898f0f0085ee2dd1": {
          "model_module": "@jupyter-widgets/base",
          "model_name": "LayoutModel",
          "model_module_version": "1.2.0",
          "state": {
            "_model_module": "@jupyter-widgets/base",
            "_model_module_version": "1.2.0",
            "_model_name": "LayoutModel",
            "_view_count": null,
            "_view_module": "@jupyter-widgets/base",
            "_view_module_version": "1.2.0",
            "_view_name": "LayoutView",
            "align_content": null,
            "align_items": null,
            "align_self": null,
            "border": null,
            "bottom": null,
            "display": null,
            "flex": null,
            "flex_flow": null,
            "grid_area": null,
            "grid_auto_columns": null,
            "grid_auto_flow": null,
            "grid_auto_rows": null,
            "grid_column": null,
            "grid_gap": null,
            "grid_row": null,
            "grid_template_areas": null,
            "grid_template_columns": null,
            "grid_template_rows": null,
            "height": null,
            "justify_content": null,
            "justify_items": null,
            "left": null,
            "margin": null,
            "max_height": null,
            "max_width": null,
            "min_height": null,
            "min_width": null,
            "object_fit": null,
            "object_position": null,
            "order": null,
            "overflow": null,
            "overflow_x": null,
            "overflow_y": null,
            "padding": null,
            "right": null,
            "top": null,
            "visibility": null,
            "width": null
          }
        },
        "46efa076f09d413aa17cf270a575f68e": {
          "model_module": "@jupyter-widgets/controls",
          "model_name": "ProgressStyleModel",
          "model_module_version": "1.5.0",
          "state": {
            "_model_module": "@jupyter-widgets/controls",
            "_model_module_version": "1.5.0",
            "_model_name": "ProgressStyleModel",
            "_view_count": null,
            "_view_module": "@jupyter-widgets/base",
            "_view_module_version": "1.2.0",
            "_view_name": "StyleView",
            "bar_color": null,
            "description_width": ""
          }
        },
        "7e583df827264fdc8218be3c73c7d0ec": {
          "model_module": "@jupyter-widgets/base",
          "model_name": "LayoutModel",
          "model_module_version": "1.2.0",
          "state": {
            "_model_module": "@jupyter-widgets/base",
            "_model_module_version": "1.2.0",
            "_model_name": "LayoutModel",
            "_view_count": null,
            "_view_module": "@jupyter-widgets/base",
            "_view_module_version": "1.2.0",
            "_view_name": "LayoutView",
            "align_content": null,
            "align_items": null,
            "align_self": null,
            "border": null,
            "bottom": null,
            "display": null,
            "flex": null,
            "flex_flow": null,
            "grid_area": null,
            "grid_auto_columns": null,
            "grid_auto_flow": null,
            "grid_auto_rows": null,
            "grid_column": null,
            "grid_gap": null,
            "grid_row": null,
            "grid_template_areas": null,
            "grid_template_columns": null,
            "grid_template_rows": null,
            "height": null,
            "justify_content": null,
            "justify_items": null,
            "left": null,
            "margin": null,
            "max_height": null,
            "max_width": null,
            "min_height": null,
            "min_width": null,
            "object_fit": null,
            "object_position": null,
            "order": null,
            "overflow": null,
            "overflow_x": null,
            "overflow_y": null,
            "padding": null,
            "right": null,
            "top": null,
            "visibility": null,
            "width": null
          }
        },
        "7e6bd24d152f45e0b34c55a3e7c21e0b": {
          "model_module": "@jupyter-widgets/controls",
          "model_name": "DescriptionStyleModel",
          "model_module_version": "1.5.0",
          "state": {
            "_model_module": "@jupyter-widgets/controls",
            "_model_module_version": "1.5.0",
            "_model_name": "DescriptionStyleModel",
            "_view_count": null,
            "_view_module": "@jupyter-widgets/base",
            "_view_module_version": "1.2.0",
            "_view_name": "StyleView",
            "description_width": ""
          }
        },
        "85a0528185d5496b8ac1584f3a08607d": {
          "model_module": "@jupyter-widgets/controls",
          "model_name": "HBoxModel",
          "model_module_version": "1.5.0",
          "state": {
            "_dom_classes": [],
            "_model_module": "@jupyter-widgets/controls",
            "_model_module_version": "1.5.0",
            "_model_name": "HBoxModel",
            "_view_count": null,
            "_view_module": "@jupyter-widgets/controls",
            "_view_module_version": "1.5.0",
            "_view_name": "HBoxView",
            "box_style": "",
            "children": [
              "IPY_MODEL_e85b8a54d9fd424084d6e82342973401",
              "IPY_MODEL_ab4a86938ac04e3c9b45283241d74457",
              "IPY_MODEL_40c121a5eb5445c78aba23ee2cd61e13"
            ],
            "layout": "IPY_MODEL_5d1c638c493b433ba28a2ee596f61c40"
          }
        },
        "e85b8a54d9fd424084d6e82342973401": {
          "model_module": "@jupyter-widgets/controls",
          "model_name": "HTMLModel",
          "model_module_version": "1.5.0",
          "state": {
            "_dom_classes": [],
            "_model_module": "@jupyter-widgets/controls",
            "_model_module_version": "1.5.0",
            "_model_name": "HTMLModel",
            "_view_count": null,
            "_view_module": "@jupyter-widgets/controls",
            "_view_module_version": "1.5.0",
            "_view_name": "HTMLView",
            "description": "",
            "description_tooltip": null,
            "layout": "IPY_MODEL_5f410ea9c4f14e11afd1c321b30a4ff0",
            "placeholder": "​",
            "style": "IPY_MODEL_7c8a4d7a105f48bc8721bcc42d5ea5cb",
            "value": ""
          }
        },
        "ab4a86938ac04e3c9b45283241d74457": {
          "model_module": "@jupyter-widgets/controls",
          "model_name": "FloatProgressModel",
          "model_module_version": "1.5.0",
          "state": {
            "_dom_classes": [],
            "_model_module": "@jupyter-widgets/controls",
            "_model_module_version": "1.5.0",
            "_model_name": "FloatProgressModel",
            "_view_count": null,
            "_view_module": "@jupyter-widgets/controls",
            "_view_module_version": "1.5.0",
            "_view_name": "ProgressView",
            "bar_style": "success",
            "description": "",
            "description_tooltip": null,
            "layout": "IPY_MODEL_5857c026e8bc490dbecd4ed68a7ce805",
            "max": 1648877,
            "min": 0,
            "orientation": "horizontal",
            "style": "IPY_MODEL_000a02520be74086b69f67c7ccdc6335",
            "value": 1648877
          }
        },
        "40c121a5eb5445c78aba23ee2cd61e13": {
          "model_module": "@jupyter-widgets/controls",
          "model_name": "HTMLModel",
          "model_module_version": "1.5.0",
          "state": {
            "_dom_classes": [],
            "_model_module": "@jupyter-widgets/controls",
            "_model_module_version": "1.5.0",
            "_model_name": "HTMLModel",
            "_view_count": null,
            "_view_module": "@jupyter-widgets/controls",
            "_view_module_version": "1.5.0",
            "_view_name": "HTMLView",
            "description": "",
            "description_tooltip": null,
            "layout": "IPY_MODEL_ae19b9f6e83b4f79b2d5f4acd6076cc1",
            "placeholder": "​",
            "style": "IPY_MODEL_2e3426da68174310ad23b2f874f917f8",
            "value": " 1649664/? [00:00&lt;00:00, 5912671.73it/s]"
          }
        },
        "5d1c638c493b433ba28a2ee596f61c40": {
          "model_module": "@jupyter-widgets/base",
          "model_name": "LayoutModel",
          "model_module_version": "1.2.0",
          "state": {
            "_model_module": "@jupyter-widgets/base",
            "_model_module_version": "1.2.0",
            "_model_name": "LayoutModel",
            "_view_count": null,
            "_view_module": "@jupyter-widgets/base",
            "_view_module_version": "1.2.0",
            "_view_name": "LayoutView",
            "align_content": null,
            "align_items": null,
            "align_self": null,
            "border": null,
            "bottom": null,
            "display": null,
            "flex": null,
            "flex_flow": null,
            "grid_area": null,
            "grid_auto_columns": null,
            "grid_auto_flow": null,
            "grid_auto_rows": null,
            "grid_column": null,
            "grid_gap": null,
            "grid_row": null,
            "grid_template_areas": null,
            "grid_template_columns": null,
            "grid_template_rows": null,
            "height": null,
            "justify_content": null,
            "justify_items": null,
            "left": null,
            "margin": null,
            "max_height": null,
            "max_width": null,
            "min_height": null,
            "min_width": null,
            "object_fit": null,
            "object_position": null,
            "order": null,
            "overflow": null,
            "overflow_x": null,
            "overflow_y": null,
            "padding": null,
            "right": null,
            "top": null,
            "visibility": null,
            "width": null
          }
        },
        "5f410ea9c4f14e11afd1c321b30a4ff0": {
          "model_module": "@jupyter-widgets/base",
          "model_name": "LayoutModel",
          "model_module_version": "1.2.0",
          "state": {
            "_model_module": "@jupyter-widgets/base",
            "_model_module_version": "1.2.0",
            "_model_name": "LayoutModel",
            "_view_count": null,
            "_view_module": "@jupyter-widgets/base",
            "_view_module_version": "1.2.0",
            "_view_name": "LayoutView",
            "align_content": null,
            "align_items": null,
            "align_self": null,
            "border": null,
            "bottom": null,
            "display": null,
            "flex": null,
            "flex_flow": null,
            "grid_area": null,
            "grid_auto_columns": null,
            "grid_auto_flow": null,
            "grid_auto_rows": null,
            "grid_column": null,
            "grid_gap": null,
            "grid_row": null,
            "grid_template_areas": null,
            "grid_template_columns": null,
            "grid_template_rows": null,
            "height": null,
            "justify_content": null,
            "justify_items": null,
            "left": null,
            "margin": null,
            "max_height": null,
            "max_width": null,
            "min_height": null,
            "min_width": null,
            "object_fit": null,
            "object_position": null,
            "order": null,
            "overflow": null,
            "overflow_x": null,
            "overflow_y": null,
            "padding": null,
            "right": null,
            "top": null,
            "visibility": null,
            "width": null
          }
        },
        "7c8a4d7a105f48bc8721bcc42d5ea5cb": {
          "model_module": "@jupyter-widgets/controls",
          "model_name": "DescriptionStyleModel",
          "model_module_version": "1.5.0",
          "state": {
            "_model_module": "@jupyter-widgets/controls",
            "_model_module_version": "1.5.0",
            "_model_name": "DescriptionStyleModel",
            "_view_count": null,
            "_view_module": "@jupyter-widgets/base",
            "_view_module_version": "1.2.0",
            "_view_name": "StyleView",
            "description_width": ""
          }
        },
        "5857c026e8bc490dbecd4ed68a7ce805": {
          "model_module": "@jupyter-widgets/base",
          "model_name": "LayoutModel",
          "model_module_version": "1.2.0",
          "state": {
            "_model_module": "@jupyter-widgets/base",
            "_model_module_version": "1.2.0",
            "_model_name": "LayoutModel",
            "_view_count": null,
            "_view_module": "@jupyter-widgets/base",
            "_view_module_version": "1.2.0",
            "_view_name": "LayoutView",
            "align_content": null,
            "align_items": null,
            "align_self": null,
            "border": null,
            "bottom": null,
            "display": null,
            "flex": null,
            "flex_flow": null,
            "grid_area": null,
            "grid_auto_columns": null,
            "grid_auto_flow": null,
            "grid_auto_rows": null,
            "grid_column": null,
            "grid_gap": null,
            "grid_row": null,
            "grid_template_areas": null,
            "grid_template_columns": null,
            "grid_template_rows": null,
            "height": null,
            "justify_content": null,
            "justify_items": null,
            "left": null,
            "margin": null,
            "max_height": null,
            "max_width": null,
            "min_height": null,
            "min_width": null,
            "object_fit": null,
            "object_position": null,
            "order": null,
            "overflow": null,
            "overflow_x": null,
            "overflow_y": null,
            "padding": null,
            "right": null,
            "top": null,
            "visibility": null,
            "width": null
          }
        },
        "000a02520be74086b69f67c7ccdc6335": {
          "model_module": "@jupyter-widgets/controls",
          "model_name": "ProgressStyleModel",
          "model_module_version": "1.5.0",
          "state": {
            "_model_module": "@jupyter-widgets/controls",
            "_model_module_version": "1.5.0",
            "_model_name": "ProgressStyleModel",
            "_view_count": null,
            "_view_module": "@jupyter-widgets/base",
            "_view_module_version": "1.2.0",
            "_view_name": "StyleView",
            "bar_color": null,
            "description_width": ""
          }
        },
        "ae19b9f6e83b4f79b2d5f4acd6076cc1": {
          "model_module": "@jupyter-widgets/base",
          "model_name": "LayoutModel",
          "model_module_version": "1.2.0",
          "state": {
            "_model_module": "@jupyter-widgets/base",
            "_model_module_version": "1.2.0",
            "_model_name": "LayoutModel",
            "_view_count": null,
            "_view_module": "@jupyter-widgets/base",
            "_view_module_version": "1.2.0",
            "_view_name": "LayoutView",
            "align_content": null,
            "align_items": null,
            "align_self": null,
            "border": null,
            "bottom": null,
            "display": null,
            "flex": null,
            "flex_flow": null,
            "grid_area": null,
            "grid_auto_columns": null,
            "grid_auto_flow": null,
            "grid_auto_rows": null,
            "grid_column": null,
            "grid_gap": null,
            "grid_row": null,
            "grid_template_areas": null,
            "grid_template_columns": null,
            "grid_template_rows": null,
            "height": null,
            "justify_content": null,
            "justify_items": null,
            "left": null,
            "margin": null,
            "max_height": null,
            "max_width": null,
            "min_height": null,
            "min_width": null,
            "object_fit": null,
            "object_position": null,
            "order": null,
            "overflow": null,
            "overflow_x": null,
            "overflow_y": null,
            "padding": null,
            "right": null,
            "top": null,
            "visibility": null,
            "width": null
          }
        },
        "2e3426da68174310ad23b2f874f917f8": {
          "model_module": "@jupyter-widgets/controls",
          "model_name": "DescriptionStyleModel",
          "model_module_version": "1.5.0",
          "state": {
            "_model_module": "@jupyter-widgets/controls",
            "_model_module_version": "1.5.0",
            "_model_name": "DescriptionStyleModel",
            "_view_count": null,
            "_view_module": "@jupyter-widgets/base",
            "_view_module_version": "1.2.0",
            "_view_name": "StyleView",
            "description_width": ""
          }
        },
        "27524a46070b476a97362846244e34b5": {
          "model_module": "@jupyter-widgets/controls",
          "model_name": "HBoxModel",
          "model_module_version": "1.5.0",
          "state": {
            "_dom_classes": [],
            "_model_module": "@jupyter-widgets/controls",
            "_model_module_version": "1.5.0",
            "_model_name": "HBoxModel",
            "_view_count": null,
            "_view_module": "@jupyter-widgets/controls",
            "_view_module_version": "1.5.0",
            "_view_name": "HBoxView",
            "box_style": "",
            "children": [
              "IPY_MODEL_11f0903700fb401da0c59e6d5bd01bde",
              "IPY_MODEL_6d399a6cd80a4ed48aabcd50b8171134",
              "IPY_MODEL_2a659a5f74e54721a97222de1eac041e"
            ],
            "layout": "IPY_MODEL_d291d1968c664a909698f8f67aad927e"
          }
        },
        "11f0903700fb401da0c59e6d5bd01bde": {
          "model_module": "@jupyter-widgets/controls",
          "model_name": "HTMLModel",
          "model_module_version": "1.5.0",
          "state": {
            "_dom_classes": [],
            "_model_module": "@jupyter-widgets/controls",
            "_model_module_version": "1.5.0",
            "_model_name": "HTMLModel",
            "_view_count": null,
            "_view_module": "@jupyter-widgets/controls",
            "_view_module_version": "1.5.0",
            "_view_name": "HTMLView",
            "description": "",
            "description_tooltip": null,
            "layout": "IPY_MODEL_a2c7a86fccef49f599736ef876ac3e0a",
            "placeholder": "​",
            "style": "IPY_MODEL_eca108def6d943d1b384f6db13d43147",
            "value": ""
          }
        },
        "6d399a6cd80a4ed48aabcd50b8171134": {
          "model_module": "@jupyter-widgets/controls",
          "model_name": "FloatProgressModel",
          "model_module_version": "1.5.0",
          "state": {
            "_dom_classes": [],
            "_model_module": "@jupyter-widgets/controls",
            "_model_module_version": "1.5.0",
            "_model_name": "FloatProgressModel",
            "_view_count": null,
            "_view_module": "@jupyter-widgets/controls",
            "_view_module_version": "1.5.0",
            "_view_name": "ProgressView",
            "bar_style": "success",
            "description": "",
            "description_tooltip": null,
            "layout": "IPY_MODEL_8aa3a06b69cd4f0a8531767b96a858b3",
            "max": 4542,
            "min": 0,
            "orientation": "horizontal",
            "style": "IPY_MODEL_f683771c1884489eb7fd1a7d3fde31b5",
            "value": 4542
          }
        },
        "2a659a5f74e54721a97222de1eac041e": {
          "model_module": "@jupyter-widgets/controls",
          "model_name": "HTMLModel",
          "model_module_version": "1.5.0",
          "state": {
            "_dom_classes": [],
            "_model_module": "@jupyter-widgets/controls",
            "_model_module_version": "1.5.0",
            "_model_name": "HTMLModel",
            "_view_count": null,
            "_view_module": "@jupyter-widgets/controls",
            "_view_module_version": "1.5.0",
            "_view_name": "HTMLView",
            "description": "",
            "description_tooltip": null,
            "layout": "IPY_MODEL_3a4ccad27fe94bda9baaa54260fd745a",
            "placeholder": "​",
            "style": "IPY_MODEL_2b7106a900be4bf08cf34d92de3329a5",
            "value": " 5120/? [00:00&lt;00:00, 75736.16it/s]"
          }
        },
        "d291d1968c664a909698f8f67aad927e": {
          "model_module": "@jupyter-widgets/base",
          "model_name": "LayoutModel",
          "model_module_version": "1.2.0",
          "state": {
            "_model_module": "@jupyter-widgets/base",
            "_model_module_version": "1.2.0",
            "_model_name": "LayoutModel",
            "_view_count": null,
            "_view_module": "@jupyter-widgets/base",
            "_view_module_version": "1.2.0",
            "_view_name": "LayoutView",
            "align_content": null,
            "align_items": null,
            "align_self": null,
            "border": null,
            "bottom": null,
            "display": null,
            "flex": null,
            "flex_flow": null,
            "grid_area": null,
            "grid_auto_columns": null,
            "grid_auto_flow": null,
            "grid_auto_rows": null,
            "grid_column": null,
            "grid_gap": null,
            "grid_row": null,
            "grid_template_areas": null,
            "grid_template_columns": null,
            "grid_template_rows": null,
            "height": null,
            "justify_content": null,
            "justify_items": null,
            "left": null,
            "margin": null,
            "max_height": null,
            "max_width": null,
            "min_height": null,
            "min_width": null,
            "object_fit": null,
            "object_position": null,
            "order": null,
            "overflow": null,
            "overflow_x": null,
            "overflow_y": null,
            "padding": null,
            "right": null,
            "top": null,
            "visibility": null,
            "width": null
          }
        },
        "a2c7a86fccef49f599736ef876ac3e0a": {
          "model_module": "@jupyter-widgets/base",
          "model_name": "LayoutModel",
          "model_module_version": "1.2.0",
          "state": {
            "_model_module": "@jupyter-widgets/base",
            "_model_module_version": "1.2.0",
            "_model_name": "LayoutModel",
            "_view_count": null,
            "_view_module": "@jupyter-widgets/base",
            "_view_module_version": "1.2.0",
            "_view_name": "LayoutView",
            "align_content": null,
            "align_items": null,
            "align_self": null,
            "border": null,
            "bottom": null,
            "display": null,
            "flex": null,
            "flex_flow": null,
            "grid_area": null,
            "grid_auto_columns": null,
            "grid_auto_flow": null,
            "grid_auto_rows": null,
            "grid_column": null,
            "grid_gap": null,
            "grid_row": null,
            "grid_template_areas": null,
            "grid_template_columns": null,
            "grid_template_rows": null,
            "height": null,
            "justify_content": null,
            "justify_items": null,
            "left": null,
            "margin": null,
            "max_height": null,
            "max_width": null,
            "min_height": null,
            "min_width": null,
            "object_fit": null,
            "object_position": null,
            "order": null,
            "overflow": null,
            "overflow_x": null,
            "overflow_y": null,
            "padding": null,
            "right": null,
            "top": null,
            "visibility": null,
            "width": null
          }
        },
        "eca108def6d943d1b384f6db13d43147": {
          "model_module": "@jupyter-widgets/controls",
          "model_name": "DescriptionStyleModel",
          "model_module_version": "1.5.0",
          "state": {
            "_model_module": "@jupyter-widgets/controls",
            "_model_module_version": "1.5.0",
            "_model_name": "DescriptionStyleModel",
            "_view_count": null,
            "_view_module": "@jupyter-widgets/base",
            "_view_module_version": "1.2.0",
            "_view_name": "StyleView",
            "description_width": ""
          }
        },
        "8aa3a06b69cd4f0a8531767b96a858b3": {
          "model_module": "@jupyter-widgets/base",
          "model_name": "LayoutModel",
          "model_module_version": "1.2.0",
          "state": {
            "_model_module": "@jupyter-widgets/base",
            "_model_module_version": "1.2.0",
            "_model_name": "LayoutModel",
            "_view_count": null,
            "_view_module": "@jupyter-widgets/base",
            "_view_module_version": "1.2.0",
            "_view_name": "LayoutView",
            "align_content": null,
            "align_items": null,
            "align_self": null,
            "border": null,
            "bottom": null,
            "display": null,
            "flex": null,
            "flex_flow": null,
            "grid_area": null,
            "grid_auto_columns": null,
            "grid_auto_flow": null,
            "grid_auto_rows": null,
            "grid_column": null,
            "grid_gap": null,
            "grid_row": null,
            "grid_template_areas": null,
            "grid_template_columns": null,
            "grid_template_rows": null,
            "height": null,
            "justify_content": null,
            "justify_items": null,
            "left": null,
            "margin": null,
            "max_height": null,
            "max_width": null,
            "min_height": null,
            "min_width": null,
            "object_fit": null,
            "object_position": null,
            "order": null,
            "overflow": null,
            "overflow_x": null,
            "overflow_y": null,
            "padding": null,
            "right": null,
            "top": null,
            "visibility": null,
            "width": null
          }
        },
        "f683771c1884489eb7fd1a7d3fde31b5": {
          "model_module": "@jupyter-widgets/controls",
          "model_name": "ProgressStyleModel",
          "model_module_version": "1.5.0",
          "state": {
            "_model_module": "@jupyter-widgets/controls",
            "_model_module_version": "1.5.0",
            "_model_name": "ProgressStyleModel",
            "_view_count": null,
            "_view_module": "@jupyter-widgets/base",
            "_view_module_version": "1.2.0",
            "_view_name": "StyleView",
            "bar_color": null,
            "description_width": ""
          }
        },
        "3a4ccad27fe94bda9baaa54260fd745a": {
          "model_module": "@jupyter-widgets/base",
          "model_name": "LayoutModel",
          "model_module_version": "1.2.0",
          "state": {
            "_model_module": "@jupyter-widgets/base",
            "_model_module_version": "1.2.0",
            "_model_name": "LayoutModel",
            "_view_count": null,
            "_view_module": "@jupyter-widgets/base",
            "_view_module_version": "1.2.0",
            "_view_name": "LayoutView",
            "align_content": null,
            "align_items": null,
            "align_self": null,
            "border": null,
            "bottom": null,
            "display": null,
            "flex": null,
            "flex_flow": null,
            "grid_area": null,
            "grid_auto_columns": null,
            "grid_auto_flow": null,
            "grid_auto_rows": null,
            "grid_column": null,
            "grid_gap": null,
            "grid_row": null,
            "grid_template_areas": null,
            "grid_template_columns": null,
            "grid_template_rows": null,
            "height": null,
            "justify_content": null,
            "justify_items": null,
            "left": null,
            "margin": null,
            "max_height": null,
            "max_width": null,
            "min_height": null,
            "min_width": null,
            "object_fit": null,
            "object_position": null,
            "order": null,
            "overflow": null,
            "overflow_x": null,
            "overflow_y": null,
            "padding": null,
            "right": null,
            "top": null,
            "visibility": null,
            "width": null
          }
        },
        "2b7106a900be4bf08cf34d92de3329a5": {
          "model_module": "@jupyter-widgets/controls",
          "model_name": "DescriptionStyleModel",
          "model_module_version": "1.5.0",
          "state": {
            "_model_module": "@jupyter-widgets/controls",
            "_model_module_version": "1.5.0",
            "_model_name": "DescriptionStyleModel",
            "_view_count": null,
            "_view_module": "@jupyter-widgets/base",
            "_view_module_version": "1.2.0",
            "_view_name": "StyleView",
            "description_width": ""
          }
        }
      }
    }
  },
  "cells": [
    {
      "cell_type": "markdown",
      "metadata": {
        "id": "view-in-github",
        "colab_type": "text"
      },
      "source": [
        "<a href=\"https://colab.research.google.com/github/mobarakol/tutorial_notebooks/blob/main/mnist_confused_logits_v2.ipynb\" target=\"_parent\"><img src=\"https://colab.research.google.com/assets/colab-badge.svg\" alt=\"Open In Colab\"/></a>"
      ]
    },
    {
      "cell_type": "markdown",
      "source": [
        "Scratch: https://colab.research.google.com/drive/16HVAJHdCkyj7W43Q3ZChnxZ7DOwx6K5i?usp=sharing\n",
        "\n",
        "Confused Logit: https://www.pytorchlightning.ai/blog/looking-inside-the-blackbox-how-to-trick-a-neural-network <br>\n",
        "https://pytorch-lightning-bolts.readthedocs.io/en/stable/vision_callbacks.html\n",
        "\n",
        "<img src=\"https://pytorch-lightning-bolts.readthedocs.io/en/stable/_images/confused_logit.png\">\n"
      ],
      "metadata": {
        "id": "HLALs6A7L6Vx"
      }
    },
    {
      "cell_type": "code",
      "execution_count": null,
      "metadata": {
        "id": "w5eFsC_xfsCy"
      },
      "outputs": [],
      "source": [
        "import argparse\n",
        "import torch\n",
        "import torch.nn as nn\n",
        "import torch.nn.functional as F\n",
        "import torch.optim as optim\n",
        "from torchvision import datasets, transforms\n",
        "from torch.autograd import Variable\n",
        "\n",
        "args={}\n",
        "kwargs={}\n",
        "args['batch_size']=1000\n",
        "args['test_batch_size']=1000\n",
        "args['epochs']=10  #The number of Epochs is the number of times you go through the full dataset. \n",
        "args['lr']=0.01 #Learning rate is how fast it will decend. \n",
        "args['momentum']=0.5 #SGD momentum (default: 0.5) Momentum is a moving average of our gradients (helps to keep direction).\n",
        "\n",
        "args['seed']=1 #random seed\n",
        "args['log_interval']=10\n",
        "args['cuda']=False"
      ]
    },
    {
      "cell_type": "markdown",
      "source": [
        "Prepare dataset"
      ],
      "metadata": {
        "id": "rRP_f42PKc5O"
      }
    },
    {
      "cell_type": "code",
      "source": [
        "#load the data\n",
        "train_loader = torch.utils.data.DataLoader(\n",
        "    datasets.MNIST('../data', train=True, download=True,\n",
        "                   transform=transforms.Compose([\n",
        "                       transforms.ToTensor(),\n",
        "                       transforms.Normalize((0.1307,), (0.3081,))\n",
        "                   ])),\n",
        "    batch_size=args['batch_size'], shuffle=True, **kwargs)\n",
        "test_loader = torch.utils.data.DataLoader(\n",
        "    datasets.MNIST('../data', train=False, transform=transforms.Compose([\n",
        "                       transforms.ToTensor(),\n",
        "                       transforms.Normalize((0.1307,), (0.3081,))\n",
        "                   ])),\n",
        "    batch_size=args['test_batch_size'], shuffle=True, **kwargs)\n"
      ],
      "metadata": {
        "id": "qiwPQBylfyn2",
        "colab": {
          "base_uri": "https://localhost:8080/",
          "height": 431,
          "referenced_widgets": [
            "b7d10ab6d40a4017856b9a8856b3dd32",
            "8097c627b9df43cb92343304b90a7b9d",
            "678dd30cd67c46d88db1d0dc3e0e76a4",
            "6cb1ee7b7fe14cabb49ef5abcb9684a2",
            "03b7f8e0c60b4093bc6563ca74dc62b7",
            "42e871467f714c25a6604fe40af04ba6",
            "2048b9b44f68406ba359e22803c4ebd1",
            "8633bea0fa844bdea8d8fa32b43478b7",
            "7967b4627f71466abd7676f51ca0032d",
            "cf195aa21c7a489e97e3f3147a3a5613",
            "18e819537c704e5fb831bdf7115c9834",
            "c7807cdd872542b4acc1ffb9c020376d",
            "414bf0bf42224edfab1970929ca9891e",
            "c1578ae7d4b54cf1b9d8a539d0db9931",
            "4e5d2d842f354146a7fa47718053a305",
            "3a74f440c2e144f68905f63714e71330",
            "6c0747049bde4b569d97826315043712",
            "d02e161ab3134d84b3dec67de04b4c47",
            "71c4e7235e4c41e9898f0f0085ee2dd1",
            "46efa076f09d413aa17cf270a575f68e",
            "7e583df827264fdc8218be3c73c7d0ec",
            "7e6bd24d152f45e0b34c55a3e7c21e0b",
            "85a0528185d5496b8ac1584f3a08607d",
            "e85b8a54d9fd424084d6e82342973401",
            "ab4a86938ac04e3c9b45283241d74457",
            "40c121a5eb5445c78aba23ee2cd61e13",
            "5d1c638c493b433ba28a2ee596f61c40",
            "5f410ea9c4f14e11afd1c321b30a4ff0",
            "7c8a4d7a105f48bc8721bcc42d5ea5cb",
            "5857c026e8bc490dbecd4ed68a7ce805",
            "000a02520be74086b69f67c7ccdc6335",
            "ae19b9f6e83b4f79b2d5f4acd6076cc1",
            "2e3426da68174310ad23b2f874f917f8",
            "27524a46070b476a97362846244e34b5",
            "11f0903700fb401da0c59e6d5bd01bde",
            "6d399a6cd80a4ed48aabcd50b8171134",
            "2a659a5f74e54721a97222de1eac041e",
            "d291d1968c664a909698f8f67aad927e",
            "a2c7a86fccef49f599736ef876ac3e0a",
            "eca108def6d943d1b384f6db13d43147",
            "8aa3a06b69cd4f0a8531767b96a858b3",
            "f683771c1884489eb7fd1a7d3fde31b5",
            "3a4ccad27fe94bda9baaa54260fd745a",
            "2b7106a900be4bf08cf34d92de3329a5"
          ]
        },
        "outputId": "6872b582-c776-4c16-fbbf-950c64f5c514"
      },
      "execution_count": null,
      "outputs": [
        {
          "output_type": "stream",
          "name": "stdout",
          "text": [
            "Downloading http://yann.lecun.com/exdb/mnist/train-images-idx3-ubyte.gz\n",
            "Downloading http://yann.lecun.com/exdb/mnist/train-images-idx3-ubyte.gz to ../data/MNIST/raw/train-images-idx3-ubyte.gz\n"
          ]
        },
        {
          "output_type": "display_data",
          "data": {
            "text/plain": [
              "  0%|          | 0/9912422 [00:00<?, ?it/s]"
            ],
            "application/vnd.jupyter.widget-view+json": {
              "version_major": 2,
              "version_minor": 0,
              "model_id": "b7d10ab6d40a4017856b9a8856b3dd32"
            }
          },
          "metadata": {}
        },
        {
          "output_type": "stream",
          "name": "stdout",
          "text": [
            "Extracting ../data/MNIST/raw/train-images-idx3-ubyte.gz to ../data/MNIST/raw\n",
            "\n",
            "Downloading http://yann.lecun.com/exdb/mnist/train-labels-idx1-ubyte.gz\n",
            "Downloading http://yann.lecun.com/exdb/mnist/train-labels-idx1-ubyte.gz to ../data/MNIST/raw/train-labels-idx1-ubyte.gz\n"
          ]
        },
        {
          "output_type": "display_data",
          "data": {
            "text/plain": [
              "  0%|          | 0/28881 [00:00<?, ?it/s]"
            ],
            "application/vnd.jupyter.widget-view+json": {
              "version_major": 2,
              "version_minor": 0,
              "model_id": "c7807cdd872542b4acc1ffb9c020376d"
            }
          },
          "metadata": {}
        },
        {
          "output_type": "stream",
          "name": "stdout",
          "text": [
            "Extracting ../data/MNIST/raw/train-labels-idx1-ubyte.gz to ../data/MNIST/raw\n",
            "\n",
            "Downloading http://yann.lecun.com/exdb/mnist/t10k-images-idx3-ubyte.gz\n",
            "Downloading http://yann.lecun.com/exdb/mnist/t10k-images-idx3-ubyte.gz to ../data/MNIST/raw/t10k-images-idx3-ubyte.gz\n"
          ]
        },
        {
          "output_type": "display_data",
          "data": {
            "text/plain": [
              "  0%|          | 0/1648877 [00:00<?, ?it/s]"
            ],
            "application/vnd.jupyter.widget-view+json": {
              "version_major": 2,
              "version_minor": 0,
              "model_id": "85a0528185d5496b8ac1584f3a08607d"
            }
          },
          "metadata": {}
        },
        {
          "output_type": "stream",
          "name": "stdout",
          "text": [
            "Extracting ../data/MNIST/raw/t10k-images-idx3-ubyte.gz to ../data/MNIST/raw\n",
            "\n",
            "Downloading http://yann.lecun.com/exdb/mnist/t10k-labels-idx1-ubyte.gz\n",
            "Downloading http://yann.lecun.com/exdb/mnist/t10k-labels-idx1-ubyte.gz to ../data/MNIST/raw/t10k-labels-idx1-ubyte.gz\n"
          ]
        },
        {
          "output_type": "display_data",
          "data": {
            "text/plain": [
              "  0%|          | 0/4542 [00:00<?, ?it/s]"
            ],
            "application/vnd.jupyter.widget-view+json": {
              "version_major": 2,
              "version_minor": 0,
              "model_id": "27524a46070b476a97362846244e34b5"
            }
          },
          "metadata": {}
        },
        {
          "output_type": "stream",
          "name": "stdout",
          "text": [
            "Extracting ../data/MNIST/raw/t10k-labels-idx1-ubyte.gz to ../data/MNIST/raw\n",
            "\n"
          ]
        }
      ]
    },
    {
      "cell_type": "markdown",
      "source": [
        "Architecture and training script"
      ],
      "metadata": {
        "id": "bf9u4XrTKhel"
      }
    },
    {
      "cell_type": "code",
      "source": [
        "class Net(nn.Module):\n",
        "    #This defines the structure of the NN.\n",
        "    def __init__(self):\n",
        "        super(Net, self).__init__()\n",
        "        self.conv1 = nn.Conv2d(1, 10, kernel_size=5)\n",
        "        self.conv2 = nn.Conv2d(10, 20, kernel_size=5)\n",
        "        self.conv2_drop = nn.Dropout2d()  #Dropout\n",
        "        self.fc1 = nn.Linear(320, 50)\n",
        "        self.fc2 = nn.Linear(50, 10)\n",
        "\n",
        "    def forward(self, x):\n",
        "        x = F.relu(F.max_pool2d(self.conv1(x), 2)) \n",
        "        x = F.relu(F.max_pool2d(self.conv2_drop(self.conv2(x)), 2))\n",
        "        x = x.view(-1, 320)\n",
        "        x = F.relu(self.fc1(x))\n",
        "        x = F.dropout(x, training=self.training)\n",
        "        x = self.fc2(x)\n",
        "        return x\n",
        "\n",
        "\n",
        "\n",
        "def train(epoch):\n",
        "    model.train()\n",
        "    for batch_idx, (data, target) in enumerate(train_loader):\n",
        "        if args['cuda']:\n",
        "            data, target = data.cuda(), target.cuda()\n",
        "        #Variables in Pytorch are differenciable. \n",
        "        data, target = Variable(data), Variable(target)\n",
        "        #This will zero out the gradients for this batch. \n",
        "        optimizer.zero_grad()\n",
        "        output = model(data)\n",
        "        loss = F.cross_entropy(output, target)\n",
        "        #dloss/dx for every Variable \n",
        "        loss.backward()\n",
        "        #to do a one-step update on our parameter.\n",
        "        optimizer.step()\n",
        "        # #Print out the loss periodically. \n",
        "        # if batch_idx % args['log_interval'] == 0:\n",
        "        #     print('Train Epoch: {} [{}/{} ({:.0f}%)]\\tLoss: {:.6f}'.format(\n",
        "        #         epoch, batch_idx * len(data), len(train_loader.dataset),\n",
        "        #         100. * batch_idx / len(train_loader), loss.data[0]))\n",
        "\n",
        "def test():\n",
        "    model.eval()\n",
        "    test_loss = 0\n",
        "    correct = 0\n",
        "    for data, target in test_loader:\n",
        "        if args['cuda']:\n",
        "            data, target = data.cuda(), target.cuda()\n",
        "        data, target = Variable(data, volatile=True), Variable(target)\n",
        "        output = model(data)\n",
        "        test_loss += F.cross_entropy(output, target, size_average=False).item()\n",
        "        pred = output.max(1, keepdim=True)[1]\n",
        "        correct += pred.eq(target.data.view_as(pred)).long().cpu().sum()\n",
        "\n",
        "    test_loss /= len(test_loader.dataset)\n",
        "    return test_loss, correct\n",
        "\n",
        "\n"
      ],
      "metadata": {
        "id": "tF0PBqyPf6hF"
      },
      "execution_count": null,
      "outputs": []
    },
    {
      "cell_type": "markdown",
      "source": [
        "Train the model"
      ],
      "metadata": {
        "id": "O5th2xsnKaPr"
      }
    },
    {
      "cell_type": "code",
      "source": [
        "model = Net()\n",
        "if args['cuda']:\n",
        "    model.cuda()\n",
        "\n",
        "optimizer = optim.SGD(model.parameters(), lr=args['lr'], momentum=args['momentum'])\n",
        "\n",
        "for epoch in range(1, args['epochs'] + 1):\n",
        "    train(epoch)\n",
        "    test_loss, correct = test()\n",
        "    print('Test set: Epoch:{}, Average loss: {:.4f}, Accuracy: {}/{} ({:.0f}%)'.format(\n",
        "        epoch, test_loss, correct, len(test_loader.dataset),\n",
        "        100. * correct / len(test_loader.dataset)))"
      ],
      "metadata": {
        "colab": {
          "base_uri": "https://localhost:8080/"
        },
        "id": "Cqg4zWdsgEjU",
        "outputId": "58db7bda-ea52-4d44-abae-efaa43c9286f"
      },
      "execution_count": null,
      "outputs": [
        {
          "output_type": "stream",
          "name": "stderr",
          "text": [
            "/usr/local/lib/python3.7/dist-packages/ipykernel_launcher.py:50: UserWarning: volatile was removed and now has no effect. Use `with torch.no_grad():` instead.\n",
            "/usr/local/lib/python3.7/dist-packages/torch/nn/_reduction.py:42: UserWarning: size_average and reduce args will be deprecated, please use reduction='sum' instead.\n",
            "  warnings.warn(warning.format(ret))\n"
          ]
        },
        {
          "output_type": "stream",
          "name": "stdout",
          "text": [
            "Test set: Epoch:1, Average loss: 2.1926, Accuracy: 4788/10000 (48%)\n",
            "Test set: Epoch:2, Average loss: 1.5934, Accuracy: 7383/10000 (74%)\n",
            "Test set: Epoch:3, Average loss: 0.7625, Accuracy: 8378/10000 (84%)\n",
            "Test set: Epoch:4, Average loss: 0.5072, Accuracy: 8747/10000 (87%)\n",
            "Test set: Epoch:5, Average loss: 0.4076, Accuracy: 8924/10000 (89%)\n",
            "Test set: Epoch:6, Average loss: 0.3468, Accuracy: 9073/10000 (91%)\n",
            "Test set: Epoch:7, Average loss: 0.3068, Accuracy: 9155/10000 (92%)\n",
            "Test set: Epoch:8, Average loss: 0.2791, Accuracy: 9212/10000 (92%)\n",
            "Test set: Epoch:9, Average loss: 0.2512, Accuracy: 9271/10000 (93%)\n",
            "Test set: Epoch:10, Average loss: 0.2338, Accuracy: 9314/10000 (93%)\n"
          ]
        }
      ]
    },
    {
      "cell_type": "markdown",
      "source": [
        "Visualize first 100 samples and correcponding prediction"
      ],
      "metadata": {
        "id": "iW9rarnAKmy_"
      }
    },
    {
      "cell_type": "code",
      "source": [
        "import numpy as np\n",
        "\n",
        "train_loader = torch.utils.data.DataLoader(\n",
        "    datasets.MNIST('../data', train=True, download=True,\n",
        "                   transform=transforms.Compose([\n",
        "                       transforms.ToTensor(),\n",
        "                       transforms.Normalize((0.1307,), (0.3081,))\n",
        "                   ])),\n",
        "    batch_size=args['batch_size'], shuffle=False, **kwargs)\n",
        "\n",
        "\n",
        "x, y = next(iter(train_loader))\n",
        "#x = x.view(x.size(0), -1)\n",
        "sample = 13\n",
        "for sample in range(100):\n",
        "    input = torch.nn.Parameter(x[sample])\n",
        "    outputs = model(input[None])\n",
        "    prob = F.softmax(outputs, dim=-1)\n",
        "    pred = outputs.max(1, keepdim=True)[1]\n",
        "    print(sample, pred, y[sample],round(prob.max().item(),2), np.round(prob.detach().numpy(),3))\n",
        "#print(preds,'\\n', prob)"
      ],
      "metadata": {
        "colab": {
          "base_uri": "https://localhost:8080/"
        },
        "id": "Ik_HA6_Xgo9c",
        "outputId": "cac5bf84-8701-4414-d322-4958d3f6f7fe"
      },
      "execution_count": null,
      "outputs": [
        {
          "output_type": "stream",
          "name": "stdout",
          "text": [
            "0 tensor([[3]]) tensor(5) 0.49 [[0.003 0.    0.002 0.49  0.    0.424 0.    0.001 0.08  0.001]]\n",
            "1 tensor([[0]]) tensor(0) 1.0 [[1. 0. 0. 0. 0. 0. 0. 0. 0. 0.]]\n",
            "2 tensor([[4]]) tensor(4) 0.86 [[0.    0.    0.001 0.002 0.856 0.001 0.    0.003 0.001 0.137]]\n",
            "3 tensor([[1]]) tensor(1) 0.98 [[0.    0.976 0.005 0.001 0.    0.    0.    0.001 0.016 0.   ]]\n",
            "4 tensor([[9]]) tensor(9) 0.91 [[0.    0.    0.    0.    0.083 0.001 0.    0.002 0.003 0.912]]\n",
            "5 tensor([[2]]) tensor(2) 0.87 [[0.    0.002 0.868 0.051 0.    0.001 0.    0.012 0.064 0.001]]\n",
            "6 tensor([[1]]) tensor(1) 0.99 [[0.    0.99  0.003 0.003 0.    0.    0.    0.    0.003 0.   ]]\n",
            "7 tensor([[3]]) tensor(3) 1.0 [[0.    0.    0.    0.997 0.    0.    0.    0.    0.002 0.   ]]\n",
            "8 tensor([[1]]) tensor(1) 0.98 [[0.    0.977 0.002 0.005 0.    0.002 0.001 0.002 0.007 0.004]]\n",
            "9 tensor([[4]]) tensor(4) 0.99 [[0.    0.    0.    0.    0.987 0.    0.001 0.    0.    0.012]]\n",
            "10 tensor([[3]]) tensor(3) 1.0 [[0.    0.    0.    0.999 0.    0.    0.    0.    0.    0.   ]]\n",
            "11 tensor([[5]]) tensor(5) 0.49 [[0.03  0.037 0.086 0.011 0.031 0.488 0.079 0.002 0.221 0.017]]\n",
            "12 tensor([[3]]) tensor(3) 1.0 [[0. 0. 0. 1. 0. 0. 0. 0. 0. 0.]]\n",
            "13 tensor([[6]]) tensor(6) 0.99 [[0.    0.    0.002 0.    0.002 0.001 0.994 0.    0.001 0.   ]]\n",
            "14 tensor([[1]]) tensor(1) 0.98 [[0.    0.977 0.002 0.002 0.    0.002 0.001 0.002 0.012 0.002]]\n",
            "15 tensor([[7]]) tensor(7) 0.93 [[0.    0.    0.    0.    0.    0.    0.    0.933 0.    0.066]]\n",
            "16 tensor([[2]]) tensor(2) 0.96 [[0.    0.001 0.956 0.026 0.    0.    0.    0.012 0.004 0.001]]\n",
            "17 tensor([[8]]) tensor(8) 0.93 [[0.    0.024 0.01  0.007 0.001 0.011 0.    0.005 0.931 0.01 ]]\n",
            "18 tensor([[6]]) tensor(6) 0.82 [[0.024 0.    0.003 0.002 0.002 0.076 0.823 0.    0.067 0.001]]\n",
            "19 tensor([[9]]) tensor(9) 0.83 [[0.    0.003 0.    0.02  0.014 0.013 0.    0.078 0.042 0.83 ]]\n",
            "20 tensor([[4]]) tensor(4) 0.99 [[0.    0.    0.    0.    0.991 0.    0.    0.    0.    0.009]]\n",
            "21 tensor([[0]]) tensor(0) 1.0 [[0.996 0.    0.    0.    0.    0.003 0.    0.    0.    0.   ]]\n",
            "22 tensor([[9]]) tensor(9) 0.58 [[0.    0.003 0.002 0.001 0.378 0.003 0.001 0.012 0.022 0.579]]\n",
            "23 tensor([[1]]) tensor(1) 0.97 [[0.    0.965 0.007 0.001 0.    0.    0.    0.003 0.022 0.001]]\n",
            "24 tensor([[3]]) tensor(1) 0.58 [[0.005 0.222 0.066 0.58  0.002 0.052 0.01  0.016 0.033 0.013]]\n",
            "25 tensor([[2]]) tensor(2) 0.97 [[0.    0.    0.967 0.027 0.    0.    0.    0.    0.007 0.   ]]\n",
            "26 tensor([[4]]) tensor(4) 0.55 [[0.    0.    0.    0.001 0.549 0.002 0.    0.004 0.003 0.441]]\n",
            "27 tensor([[3]]) tensor(3) 1.0 [[0.    0.    0.    0.999 0.    0.    0.    0.    0.    0.   ]]\n",
            "28 tensor([[7]]) tensor(2) 0.55 [[0.    0.    0.448 0.001 0.    0.    0.    0.549 0.001 0.   ]]\n",
            "29 tensor([[7]]) tensor(7) 0.75 [[0.    0.014 0.011 0.011 0.004 0.001 0.    0.75  0.08  0.129]]\n",
            "30 tensor([[3]]) tensor(3) 0.75 [[0.001 0.112 0.016 0.754 0.002 0.033 0.002 0.033 0.036 0.011]]\n",
            "31 tensor([[8]]) tensor(8) 0.79 [[0.003 0.057 0.082 0.052 0.    0.008 0.    0.004 0.789 0.004]]\n",
            "32 tensor([[6]]) tensor(6) 0.99 [[0.001 0.    0.002 0.    0.001 0.001 0.994 0.    0.001 0.   ]]\n",
            "33 tensor([[7]]) tensor(9) 0.78 [[0.    0.001 0.    0.023 0.001 0.    0.    0.784 0.005 0.186]]\n",
            "34 tensor([[0]]) tensor(0) 0.95 [[0.953 0.    0.003 0.002 0.    0.008 0.014 0.    0.017 0.001]]\n",
            "35 tensor([[5]]) tensor(5) 0.83 [[0.016 0.002 0.003 0.065 0.003 0.829 0.004 0.001 0.064 0.012]]\n",
            "36 tensor([[6]]) tensor(6) 1.0 [[0.    0.    0.    0.    0.    0.    0.999 0.    0.    0.   ]]\n",
            "37 tensor([[0]]) tensor(0) 1.0 [[0.997 0.    0.    0.    0.    0.001 0.001 0.    0.    0.   ]]\n",
            "38 tensor([[7]]) tensor(7) 0.88 [[0.    0.002 0.05  0.024 0.    0.    0.    0.881 0.005 0.037]]\n",
            "39 tensor([[6]]) tensor(6) 0.99 [[0.001 0.    0.003 0.    0.002 0.001 0.992 0.    0.001 0.   ]]\n",
            "40 tensor([[1]]) tensor(1) 1.0 [[0.    0.997 0.    0.001 0.    0.    0.    0.    0.001 0.   ]]\n",
            "41 tensor([[8]]) tensor(8) 0.97 [[0.    0.002 0.005 0.008 0.    0.009 0.    0.    0.975 0.001]]\n",
            "42 tensor([[7]]) tensor(7) 0.93 [[0.    0.002 0.001 0.012 0.    0.    0.    0.935 0.001 0.049]]\n",
            "43 tensor([[9]]) tensor(9) 0.75 [[0.    0.006 0.    0.027 0.015 0.008 0.    0.145 0.049 0.749]]\n",
            "44 tensor([[3]]) tensor(3) 0.96 [[0.    0.004 0.007 0.964 0.    0.002 0.    0.012 0.008 0.002]]\n",
            "45 tensor([[9]]) tensor(9) 0.97 [[0.    0.    0.    0.    0.028 0.    0.    0.006 0.001 0.965]]\n",
            "46 tensor([[8]]) tensor(8) 0.96 [[0.001 0.001 0.009 0.01  0.    0.016 0.    0.001 0.957 0.004]]\n",
            "47 tensor([[5]]) tensor(5) 0.99 [[0.001 0.    0.    0.    0.    0.99  0.    0.    0.009 0.   ]]\n",
            "48 tensor([[5]]) tensor(9) 0.58 [[0.006 0.001 0.    0.342 0.003 0.578 0.001 0.008 0.035 0.026]]\n",
            "49 tensor([[3]]) tensor(3) 0.97 [[0.    0.    0.    0.969 0.    0.028 0.    0.    0.003 0.   ]]\n",
            "50 tensor([[3]]) tensor(3) 0.98 [[0.    0.    0.    0.98  0.    0.017 0.    0.    0.002 0.001]]\n",
            "51 tensor([[0]]) tensor(0) 1.0 [[1. 0. 0. 0. 0. 0. 0. 0. 0. 0.]]\n",
            "52 tensor([[7]]) tensor(7) 1.0 [[0.    0.    0.    0.    0.    0.    0.    0.997 0.    0.003]]\n",
            "53 tensor([[4]]) tensor(4) 0.55 [[0.    0.004 0.    0.002 0.554 0.012 0.    0.003 0.014 0.411]]\n",
            "54 tensor([[9]]) tensor(9) 0.84 [[0.    0.    0.    0.003 0.04  0.    0.    0.113 0.002 0.843]]\n",
            "55 tensor([[8]]) tensor(8) 0.82 [[0.    0.003 0.002 0.008 0.002 0.002 0.    0.066 0.823 0.095]]\n",
            "56 tensor([[0]]) tensor(0) 1.0 [[1. 0. 0. 0. 0. 0. 0. 0. 0. 0.]]\n",
            "57 tensor([[9]]) tensor(9) 0.95 [[0.    0.    0.    0.001 0.037 0.    0.    0.01  0.001 0.951]]\n",
            "58 tensor([[4]]) tensor(4) 0.95 [[0.    0.    0.    0.    0.949 0.    0.    0.    0.    0.051]]\n",
            "59 tensor([[1]]) tensor(1) 0.99 [[0.    0.986 0.002 0.    0.    0.    0.    0.    0.011 0.   ]]\n",
            "60 tensor([[4]]) tensor(4) 0.96 [[0.    0.    0.004 0.    0.956 0.001 0.02  0.    0.    0.018]]\n",
            "61 tensor([[4]]) tensor(4) 0.9 [[0.    0.001 0.    0.    0.901 0.002 0.    0.    0.005 0.092]]\n",
            "62 tensor([[6]]) tensor(6) 0.99 [[0.001 0.    0.    0.    0.    0.007 0.987 0.    0.006 0.   ]]\n",
            "63 tensor([[0]]) tensor(0) 0.95 [[0.95  0.    0.    0.008 0.    0.036 0.    0.    0.002 0.002]]\n",
            "64 tensor([[6]]) tensor(4) 0.71 [[0.009 0.    0.021 0.    0.246 0.004 0.706 0.    0.002 0.011]]\n",
            "65 tensor([[5]]) tensor(5) 0.84 [[0.006 0.002 0.001 0.009 0.005 0.837 0.003 0.    0.128 0.008]]\n",
            "66 tensor([[6]]) tensor(6) 1.0 [[0.001 0.    0.    0.    0.    0.002 0.996 0.    0.001 0.   ]]\n",
            "67 tensor([[1]]) tensor(1) 1.0 [[0.    0.995 0.001 0.    0.    0.    0.    0.    0.003 0.   ]]\n",
            "68 tensor([[0]]) tensor(0) 0.99 [[0.993 0.    0.004 0.    0.    0.002 0.    0.    0.001 0.   ]]\n",
            "69 tensor([[0]]) tensor(0) 0.98 [[0.984 0.    0.    0.002 0.    0.008 0.001 0.    0.004 0.   ]]\n",
            "70 tensor([[2]]) tensor(1) 0.61 [[0.    0.261 0.606 0.05  0.    0.003 0.008 0.001 0.071 0.   ]]\n",
            "71 tensor([[7]]) tensor(7) 0.96 [[0.    0.    0.    0.002 0.    0.    0.    0.961 0.    0.036]]\n",
            "72 tensor([[1]]) tensor(1) 0.99 [[0.    0.987 0.003 0.001 0.    0.    0.001 0.002 0.004 0.001]]\n",
            "73 tensor([[6]]) tensor(6) 0.99 [[0.001 0.    0.003 0.    0.001 0.001 0.993 0.    0.001 0.   ]]\n",
            "74 tensor([[3]]) tensor(3) 1.0 [[0.    0.    0.    0.996 0.    0.003 0.    0.    0.001 0.   ]]\n",
            "75 tensor([[0]]) tensor(0) 0.99 [[0.986 0.    0.    0.003 0.    0.01  0.    0.    0.    0.   ]]\n",
            "76 tensor([[2]]) tensor(2) 0.95 [[0.    0.006 0.945 0.008 0.    0.    0.    0.    0.041 0.   ]]\n",
            "77 tensor([[1]]) tensor(1) 1.0 [[0.    0.995 0.    0.    0.    0.    0.    0.    0.004 0.   ]]\n",
            "78 tensor([[1]]) tensor(1) 0.97 [[0.    0.972 0.015 0.002 0.    0.    0.    0.003 0.007 0.   ]]\n",
            "79 tensor([[7]]) tensor(7) 0.96 [[0.    0.    0.    0.002 0.    0.    0.    0.956 0.001 0.041]]\n",
            "80 tensor([[8]]) tensor(9) 0.27 [[0.239 0.    0.012 0.199 0.    0.262 0.012 0.002 0.27  0.004]]\n",
            "81 tensor([[0]]) tensor(0) 0.99 [[0.989 0.    0.    0.001 0.    0.009 0.    0.    0.001 0.   ]]\n",
            "82 tensor([[2]]) tensor(2) 1.0 [[0.    0.    0.999 0.001 0.    0.    0.    0.    0.    0.   ]]\n",
            "83 tensor([[6]]) tensor(6) 0.98 [[0.005 0.    0.005 0.    0.002 0.003 0.982 0.    0.002 0.   ]]\n",
            "84 tensor([[7]]) tensor(7) 1.0 [[0.    0.    0.    0.    0.    0.    0.    0.997 0.    0.002]]\n",
            "85 tensor([[8]]) tensor(8) 0.91 [[0.    0.007 0.007 0.065 0.    0.005 0.    0.002 0.91  0.004]]\n",
            "86 tensor([[3]]) tensor(3) 0.93 [[0.    0.002 0.    0.929 0.001 0.032 0.    0.024 0.003 0.009]]\n",
            "87 tensor([[9]]) tensor(9) 0.97 [[0.    0.    0.    0.    0.008 0.    0.    0.022 0.001 0.969]]\n",
            "88 tensor([[0]]) tensor(0) 1.0 [[1. 0. 0. 0. 0. 0. 0. 0. 0. 0.]]\n",
            "89 tensor([[4]]) tensor(4) 0.97 [[0.    0.    0.    0.    0.968 0.    0.    0.    0.    0.032]]\n",
            "90 tensor([[6]]) tensor(6) 1.0 [[0.    0.    0.    0.    0.001 0.    0.999 0.    0.    0.   ]]\n",
            "91 tensor([[7]]) tensor(7) 0.98 [[0.    0.    0.    0.001 0.    0.    0.    0.978 0.    0.021]]\n",
            "92 tensor([[4]]) tensor(4) 0.93 [[0.    0.    0.    0.    0.934 0.    0.    0.    0.    0.065]]\n",
            "93 tensor([[6]]) tensor(6) 0.98 [[0.003 0.    0.002 0.    0.002 0.005 0.983 0.    0.004 0.   ]]\n",
            "94 tensor([[8]]) tensor(8) 0.99 [[0.    0.    0.001 0.    0.    0.003 0.    0.    0.994 0.002]]\n",
            "95 tensor([[0]]) tensor(0) 1.0 [[0.999 0.    0.    0.    0.    0.    0.    0.    0.    0.   ]]\n",
            "96 tensor([[7]]) tensor(7) 0.99 [[0.    0.    0.    0.001 0.    0.    0.    0.994 0.    0.005]]\n",
            "97 tensor([[8]]) tensor(8) 0.99 [[0.    0.001 0.003 0.003 0.    0.003 0.    0.    0.988 0.001]]\n",
            "98 tensor([[3]]) tensor(3) 1.0 [[0.    0.    0.    0.995 0.    0.002 0.    0.    0.001 0.001]]\n",
            "99 tensor([[1]]) tensor(1) 0.97 [[0.    0.969 0.008 0.005 0.    0.    0.    0.009 0.006 0.002]]\n"
          ]
        }
      ]
    },
    {
      "cell_type": "markdown",
      "source": [
        "Get output for a selected sample:"
      ],
      "metadata": {
        "id": "J5-lL05qKtp4"
      }
    },
    {
      "cell_type": "code",
      "source": [
        "sample = 22\n",
        "input = torch.nn.Parameter(x[sample])\n",
        "outputs = model(input[None])\n",
        "prob = F.softmax(outputs, dim=-1)\n",
        "pred = outputs.max(1, keepdim=True)[1]\n",
        "#print(sample, pred, y[sample],round(prob.max().item(),2), np.round(prob.detach().numpy(),3))\n",
        "print('label:',y[sample], 'pred:', pred, 'prob:',np.round(prob.detach().numpy(),3))"
      ],
      "metadata": {
        "colab": {
          "base_uri": "https://localhost:8080/"
        },
        "id": "7-V2scW-2zY0",
        "outputId": "546d5070-1831-4e73-e400-6ba4676ab7e7"
      },
      "execution_count": null,
      "outputs": [
        {
          "output_type": "stream",
          "name": "stdout",
          "text": [
            "label: tensor(9) pred: tensor([[9]]) prob: [[0.    0.003 0.002 0.001 0.378 0.003 0.001 0.012 0.022 0.579]]\n"
          ]
        }
      ]
    },
    {
      "cell_type": "markdown",
      "source": [
        "Generate Desire Input: 4"
      ],
      "metadata": {
        "id": "6s9Y_8gcvPsP"
      }
    },
    {
      "cell_type": "code",
      "source": [
        "import matplotlib.pyplot as plt\n",
        "\n",
        "def NormalizeData(data):\n",
        "    return (data - np.min(data)) / (np.max(data) - np.min(data))\n",
        "\n",
        "desire_label_index = 4\n",
        "desire_label_prob = prob[0, desire_label_index]\n",
        "desire_label_prob.backward()\n",
        "input_grad = input.grad.view(28, 28)\n",
        "fused_img = NormalizeData(input[0].detach().numpy()) + NormalizeData(input_grad.detach().numpy())\n",
        "\n",
        "print('pred:', pred, 'prob:',np.round(prob.detach().numpy(),3))\n",
        "\n",
        "plt.subplot(1,3,1)\n",
        "plt.imshow(input[0].detach().numpy(), cmap='gray')\n",
        "plt.title('Input')\n",
        "plt.axis('off')\n",
        "\n",
        "plt.subplot(1,3,2)\n",
        "plt.imshow(input_grad)\n",
        "plt.title('Input Grad for {}'.format(desire_label_index))\n",
        "plt.axis('off')\n",
        "\n",
        "plt.subplot(1,3,3)\n",
        "plt.imshow(fused_img, cmap='gray')\n",
        "plt.title('Fused In for {}'.format(desire_label_index))\n",
        "plt.axis('off');"
      ],
      "metadata": {
        "colab": {
          "base_uri": "https://localhost:8080/",
          "height": 163
        },
        "id": "NxVH0nNTvOTD",
        "outputId": "2e606006-b0f6-41b9-d9d3-c4b0a43887e5"
      },
      "execution_count": null,
      "outputs": [
        {
          "output_type": "stream",
          "name": "stdout",
          "text": [
            "pred: tensor([[9]]) prob: [[0.    0.003 0.002 0.001 0.378 0.003 0.001 0.012 0.022 0.579]]\n"
          ]
        },
        {
          "output_type": "display_data",
          "data": {
            "text/plain": [
              "<Figure size 432x288 with 3 Axes>"
            ],
            "image/png": "[encoded data removed]"
          },
          "metadata": {
            "needs_background": "light"
          }
        }
      ]
    },
    {
      "cell_type": "code",
      "source": [
        "import matplotlib.pyplot as plt\n",
        "\n",
        "input = torch.nn.Parameter(torch.tensor(fused_img))\n",
        "outputs = model(input[None, None])\n",
        "prob = F.softmax(outputs, dim=-1)\n",
        "pred = outputs.max(1, keepdim=True)[1]\n",
        "print('pred:', pred, 'prob:',np.round(prob.detach().numpy(),3))\n",
        "\n",
        "def NormalizeData(data):\n",
        "    return (data - np.min(data)) / (np.max(data) - np.min(data))\n",
        "\n",
        "desire_label_index = 4\n",
        "desire_label_prob = prob[0, desire_label_index]\n",
        "desire_label_prob.backward()\n",
        "input_grad = input.grad.view(28, 28)\n",
        "fused_img = NormalizeData(input[0].detach().numpy()) + NormalizeData(input_grad.detach().numpy())\n",
        "\n",
        "plt.subplot(1,3,1)\n",
        "plt.imshow(input.detach().numpy(), cmap='gray')\n",
        "plt.title('Input')\n",
        "plt.axis('off')\n",
        "\n",
        "plt.subplot(1,3,2)\n",
        "plt.imshow(input_grad)\n",
        "plt.title('Input Grad for {}'.format(desire_label_index))\n",
        "plt.axis('off')\n",
        "\n",
        "plt.subplot(1,3,3)\n",
        "plt.imshow(fused_img, cmap='gray')\n",
        "plt.title('Fused In for {}'.format(desire_label_index))\n",
        "plt.axis('off');"
      ],
      "metadata": {
        "colab": {
          "base_uri": "https://localhost:8080/",
          "height": 163
        },
        "id": "G2fZ8Y7303dm",
        "outputId": "a9e997e6-3001-45a1-e9c3-992b0567fa83"
      },
      "execution_count": null,
      "outputs": [
        {
          "output_type": "stream",
          "name": "stdout",
          "text": [
            "pred: tensor([[4]]) prob: [[0.018 0.029 0.046 0.017 0.382 0.134 0.091 0.024 0.112 0.148]]\n"
          ]
        },
        {
          "output_type": "display_data",
          "data": {
            "text/plain": [
              "<Figure size 432x288 with 3 Axes>"
            ],
            "image/png": "[encoded data removed]"
          },
          "metadata": {
            "needs_background": "light"
          }
        }
      ]
    },
    {
      "cell_type": "code",
      "source": [
        "import matplotlib.pyplot as plt\n",
        "\n",
        "input = torch.nn.Parameter(torch.tensor(fused_img))\n",
        "outputs = model(input[None, None])\n",
        "prob = F.softmax(outputs, dim=-1)\n",
        "pred = outputs.max(1, keepdim=True)[1]\n",
        "print('pred:', pred, 'prob:',np.round(prob.detach().numpy(),3))\n",
        "\n",
        "def NormalizeData(data):\n",
        "    return (data - np.min(data)) / (np.max(data) - np.min(data))\n",
        "\n",
        "desire_label_index = 4\n",
        "desire_label_prob = prob[0, desire_label_index]\n",
        "desire_label_prob.backward()\n",
        "input_grad = input.grad.view(28, 28)\n",
        "fused_img = NormalizeData(input[0].detach().numpy()) + NormalizeData(input_grad.detach().numpy())\n",
        "\n",
        "plt.subplot(1,3,1)\n",
        "plt.imshow(input.detach().numpy(), cmap='gray')\n",
        "plt.title('Input')\n",
        "plt.axis('off')\n",
        "\n",
        "plt.subplot(1,3,2)\n",
        "plt.imshow(input_grad)\n",
        "plt.title('Input Grad for {}'.format(desire_label_index))\n",
        "plt.axis('off')\n",
        "\n",
        "plt.subplot(1,3,3)\n",
        "plt.imshow(fused_img, cmap='gray')\n",
        "plt.title('Fused In for {}'.format(desire_label_index))\n",
        "plt.axis('off');"
      ],
      "metadata": {
        "colab": {
          "base_uri": "https://localhost:8080/",
          "height": 163
        },
        "id": "F84tM_B20DTX",
        "outputId": "94c8c0c9-b65a-4322-fc68-8feffdbbcb0c"
      },
      "execution_count": null,
      "outputs": [
        {
          "output_type": "stream",
          "name": "stdout",
          "text": [
            "pred: tensor([[4]]) prob: [[0.029 0.042 0.053 0.051 0.269 0.15  0.059 0.05  0.132 0.166]]\n"
          ]
        },
        {
          "output_type": "display_data",
          "data": {
            "text/plain": [
              "<Figure size 432x288 with 3 Axes>"
            ],
            "image/png": "[encoded data removed]"
          },
          "metadata": {
            "needs_background": "light"
          }
        }
      ]
    },
    {
      "cell_type": "code",
      "source": [
        "plt.subplot(1,3,1)\n",
        "plt.imshow(input[0].detach().numpy(), cmap='gray')\n",
        "plt.title('Input')\n",
        "plt.axis('off')\n",
        "\n",
        "plt.subplot(1,3,2)\n",
        "plt.imshow(input_grad)\n",
        "plt.title('Input Grad for {}'.format(desire_label_index))\n",
        "plt.axis('off')\n",
        "\n",
        "plt.subplot(1,3,3)\n",
        "fused_img = NormalizeData(input[0].detach().numpy()) + NormalizeData(input_grad.detach().numpy())\n",
        "plt.imshow(fused_img, cmap='gray')\n",
        "plt.title('Fused In for {}'.format(desire_label_index))\n",
        "plt.axis('off');"
      ],
      "metadata": {
        "colab": {
          "base_uri": "https://localhost:8080/",
          "height": 145
        },
        "id": "zUqEqTB8whGH",
        "outputId": "3ab29f08-1b7e-4a09-cf10-8d3e1d22ff1c"
      },
      "execution_count": null,
      "outputs": [
        {
          "output_type": "display_data",
          "data": {
            "text/plain": [
              "<Figure size 432x288 with 3 Axes>"
            ],
            "image/png": "[encoded data removed]"
          },
          "metadata": {
            "needs_background": "light"
          }
        }
      ]
    },
    {
      "cell_type": "code",
      "source": [
        "import matplotlib.pyplot as plt\n",
        "# calculate gradient of 6th output with respect to the input (param)\n",
        "desire_label_index = 9\n",
        "label_5_pred = prob[0, desire_label_index]\n",
        "label_5_pred.backward()\n",
        "\n",
        "grad_img = input.grad.view(28, 28)\n",
        "print(grad_img.sum())\n",
        "\n",
        "plt.subplot(1,3,1)\n",
        "plt.imshow(input[0].detach().numpy())\n",
        "\n",
        "plt.subplot(1,3,2)\n",
        "plt.imshow(grad_img)\n",
        "\n",
        "plt.subplot(1,3,3)\n",
        "fused_img = input[0].detach().numpy() + grad_img.detach().numpy()\n",
        "plt.imshow(fused_img)"
      ],
      "metadata": {
        "colab": {
          "base_uri": "https://localhost:8080/",
          "height": 185
        },
        "id": "xdNZLaA8ohw2",
        "outputId": "fc67f883-b95b-4084-e866-ade177ab431b"
      },
      "execution_count": null,
      "outputs": [
        {
          "output_type": "stream",
          "name": "stdout",
          "text": [
            "tensor(-0.1519)\n"
          ]
        },
        {
          "output_type": "execute_result",
          "data": {
            "text/plain": [
              "<matplotlib.image.AxesImage at 0x7fb4726c3c50>"
            ]
          },
          "metadata": {},
          "execution_count": 12
        },
        {
          "output_type": "display_data",
          "data": {
            "text/plain": [
              "<Figure size 432x288 with 3 Axes>"
            ],
            "image/png": "[encoded data removed]"
          },
          "metadata": {
            "needs_background": "light"
          }
        }
      ]
    },
    {
      "cell_type": "markdown",
      "source": [
        "Fuse the gradient properly:"
      ],
      "metadata": {
        "id": "Mmqt3zeyLAPR"
      }
    },
    {
      "cell_type": "code",
      "source": [
        "import numpy as np\n",
        "\n",
        "def NormalizeData(data):\n",
        "    return (data - np.min(data)) / (np.max(data) - np.min(data))\n",
        "\n",
        "plt.subplot(1,3,1)\n",
        "plt.imshow(input[0].detach().numpy(), cmap='gray')\n",
        "\n",
        "plt.subplot(1,3,2)\n",
        "plt.imshow(grad_img)\n",
        "\n",
        "plt.subplot(1,3,3)\n",
        "fused_img = NormalizeData(input[0].detach().numpy()) + NormalizeData(grad_img.detach().numpy())\n",
        "plt.imshow(fused_img, cmap='gray')"
      ],
      "metadata": {
        "colab": {
          "base_uri": "https://localhost:8080/",
          "height": 167
        },
        "id": "gWO4NQ4UvTc3",
        "outputId": "654ba2e9-af63-4b45-83ac-fda44028bfe0"
      },
      "execution_count": null,
      "outputs": [
        {
          "output_type": "execute_result",
          "data": {
            "text/plain": [
              "<matplotlib.image.AxesImage at 0x7fb4725c7950>"
            ]
          },
          "metadata": {},
          "execution_count": 13
        },
        {
          "output_type": "display_data",
          "data": {
            "text/plain": [
              "<Figure size 432x288 with 3 Axes>"
            ],
            "image/png": "[encoded data removed]"
          },
          "metadata": {
            "needs_background": "light"
          }
        }
      ]
    },
    {
      "cell_type": "markdown",
      "source": [
        "Prediction with fused gradient image to get desire prediction:"
      ],
      "metadata": {
        "id": "Cw_Y4uROLFTn"
      }
    },
    {
      "cell_type": "code",
      "source": [
        "outputs = model(torch.tensor(fused_img)[None, None])\n",
        "prob = F.softmax(outputs, dim=-1)\n",
        "pred = outputs.max(1, keepdim=True)[1]\n",
        "print(sample, pred, y[sample],round(prob.max().item(),2), np.round(prob.detach().numpy(),3))"
      ],
      "metadata": {
        "colab": {
          "base_uri": "https://localhost:8080/"
        },
        "id": "Wj948hn9owq1",
        "outputId": "8a39b56c-19b3-4e7b-810c-0dd3ee7cbc71"
      },
      "execution_count": null,
      "outputs": [
        {
          "output_type": "stream",
          "name": "stdout",
          "text": [
            "22 tensor([[4]]) tensor(9) 0.29 [[0.028 0.041 0.037 0.038 0.29  0.101 0.122 0.053 0.128 0.163]]\n"
          ]
        }
      ]
    },
    {
      "cell_type": "code",
      "source": [
        ""
      ],
      "metadata": {
        "id": "IgbMtLRM1VMM"
      },
      "execution_count": null,
      "outputs": []
    },
    {
      "cell_type": "markdown",
      "source": [
        "Fuse as lib: https://www.pytorchlightning.ai/blog/looking-inside-the-blackbox-how-to-trick-a-neural-network"
      ],
      "metadata": {
        "id": "PlWrwzGHMuF3"
      }
    },
    {
      "cell_type": "code",
      "source": [
        "import numpy as np\n",
        "\n",
        "def NormalizeData(data):\n",
        "    return (data - np.min(data)) / (np.max(data) - np.min(data))\n",
        "\n",
        "plt.subplot(1,3,1)\n",
        "plt.imshow(input[0].detach().numpy(), cmap='gray')\n",
        "\n",
        "plt.subplot(1,3,2)\n",
        "plt.imshow(grad_img)\n",
        "\n",
        "plt.subplot(1,3,3)\n",
        "fused_img = input[0].detach().numpy() + 2 * grad_img.detach().numpy()\n",
        "plt.imshow(fused_img, cmap='gray')"
      ],
      "metadata": {
        "id": "vhnxtjYUvCmI",
        "colab": {
          "base_uri": "https://localhost:8080/",
          "height": 167
        },
        "outputId": "f35474d0-de78-45e4-94f6-bc90dc13ea75"
      },
      "execution_count": null,
      "outputs": [
        {
          "output_type": "execute_result",
          "data": {
            "text/plain": [
              "<matplotlib.image.AxesImage at 0x7fb4727bf250>"
            ]
          },
          "metadata": {},
          "execution_count": 10
        },
        {
          "output_type": "display_data",
          "data": {
            "text/plain": [
              "<Figure size 432x288 with 3 Axes>"
            ],
            "image/png": "[encoded data removed]"
          },
          "metadata": {
            "needs_background": "light"
          }
        }
      ]
    },
    {
      "cell_type": "code",
      "source": [
        "outputs = model(torch.tensor(fused_img)[None, None])\n",
        "prob = F.softmax(outputs, dim=-1)\n",
        "pred = outputs.max(1, keepdim=True)[1]\n",
        "print(sample, pred, y[sample],round(prob.max().item(),2), np.round(prob.detach().numpy(),3))"
      ],
      "metadata": {
        "colab": {
          "base_uri": "https://localhost:8080/"
        },
        "id": "7wJxE0M5NNbS",
        "outputId": "6c706fb4-d972-4256-d5a1-2a6dfba80414"
      },
      "execution_count": null,
      "outputs": [
        {
          "output_type": "stream",
          "name": "stdout",
          "text": [
            "22 tensor([[9]]) tensor(9) 0.58 [[0.001 0.005 0.002 0.004 0.311 0.006 0.003 0.055 0.036 0.578]]\n"
          ]
        }
      ]
    },
    {
      "cell_type": "code",
      "source": [
        ""
      ],
      "metadata": {
        "id": "y7mOS8nbNT-h"
      },
      "execution_count": null,
      "outputs": []
    }
  ]
}