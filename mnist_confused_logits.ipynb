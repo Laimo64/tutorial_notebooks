{
  "nbformat": 4,
  "nbformat_minor": 0,
  "metadata": {
    "colab": {
      "name": "mnist_confused_logits.ipynb",
      "provenance": [],
      "collapsed_sections": [],
      "authorship_tag": "ABX9TyOrvqiG69dSb5XEKhXRLqz3",
      "include_colab_link": true
    },
    "kernelspec": {
      "name": "python3",
      "display_name": "Python 3"
    },
    "language_info": {
      "name": "python"
    },
    "accelerator": "GPU",
    "widgets": {
      "application/vnd.jupyter.widget-state+json": {
        "ab9f0018d9ad4247bef410786a04a94c": {
          "model_module": "@jupyter-widgets/controls",
          "model_name": "HBoxModel",
          "model_module_version": "1.5.0",
          "state": {
            "_dom_classes": [],
            "_model_module": "@jupyter-widgets/controls",
            "_model_module_version": "1.5.0",
            "_model_name": "HBoxModel",
            "_view_count": null,
            "_view_module": "@jupyter-widgets/controls",
            "_view_module_version": "1.5.0",
            "_view_name": "HBoxView",
            "box_style": "",
            "children": [
              "IPY_MODEL_ea15064a3f364c03a25a1564dcab9139",
              "IPY_MODEL_67f5315f3adf4d748c21348219664df1",
              "IPY_MODEL_c15f735e87b24a48b8165796f5b0caf6"
            ],
            "layout": "IPY_MODEL_33fa539eb469425f8fde183c08257d51"
          }
        },
        "ea15064a3f364c03a25a1564dcab9139": {
          "model_module": "@jupyter-widgets/controls",
          "model_name": "HTMLModel",
          "model_module_version": "1.5.0",
          "state": {
            "_dom_classes": [],
            "_model_module": "@jupyter-widgets/controls",
            "_model_module_version": "1.5.0",
            "_model_name": "HTMLModel",
            "_view_count": null,
            "_view_module": "@jupyter-widgets/controls",
            "_view_module_version": "1.5.0",
            "_view_name": "HTMLView",
            "description": "",
            "description_tooltip": null,
            "layout": "IPY_MODEL_966faa59f5464f79be7d9cf1e09f2d1a",
            "placeholder": "​",
            "style": "IPY_MODEL_d26591e341fe4b63948f0e827db1041e",
            "value": ""
          }
        },
        "67f5315f3adf4d748c21348219664df1": {
          "model_module": "@jupyter-widgets/controls",
          "model_name": "FloatProgressModel",
          "model_module_version": "1.5.0",
          "state": {
            "_dom_classes": [],
            "_model_module": "@jupyter-widgets/controls",
            "_model_module_version": "1.5.0",
            "_model_name": "FloatProgressModel",
            "_view_count": null,
            "_view_module": "@jupyter-widgets/controls",
            "_view_module_version": "1.5.0",
            "_view_name": "ProgressView",
            "bar_style": "success",
            "description": "",
            "description_tooltip": null,
            "layout": "IPY_MODEL_a62565d9b93e4503aee65308495ed2d8",
            "max": 9912422,
            "min": 0,
            "orientation": "horizontal",
            "style": "IPY_MODEL_461c8e888f3f47fe8f22a1b05f38bb66",
            "value": 9912422
          }
        },
        "c15f735e87b24a48b8165796f5b0caf6": {
          "model_module": "@jupyter-widgets/controls",
          "model_name": "HTMLModel",
          "model_module_version": "1.5.0",
          "state": {
            "_dom_classes": [],
            "_model_module": "@jupyter-widgets/controls",
            "_model_module_version": "1.5.0",
            "_model_name": "HTMLModel",
            "_view_count": null,
            "_view_module": "@jupyter-widgets/controls",
            "_view_module_version": "1.5.0",
            "_view_name": "HTMLView",
            "description": "",
            "description_tooltip": null,
            "layout": "IPY_MODEL_b5bb4af65119472a803c03e9ebf3dc03",
            "placeholder": "​",
            "style": "IPY_MODEL_44cdd4a1dccb4d6e9ba37e6718d52629",
            "value": " 9913344/? [00:00&lt;00:00, 43675250.92it/s]"
          }
        },
        "33fa539eb469425f8fde183c08257d51": {
          "model_module": "@jupyter-widgets/base",
          "model_name": "LayoutModel",
          "model_module_version": "1.2.0",
          "state": {
            "_model_module": "@jupyter-widgets/base",
            "_model_module_version": "1.2.0",
            "_model_name": "LayoutModel",
            "_view_count": null,
            "_view_module": "@jupyter-widgets/base",
            "_view_module_version": "1.2.0",
            "_view_name": "LayoutView",
            "align_content": null,
            "align_items": null,
            "align_self": null,
            "border": null,
            "bottom": null,
            "display": null,
            "flex": null,
            "flex_flow": null,
            "grid_area": null,
            "grid_auto_columns": null,
            "grid_auto_flow": null,
            "grid_auto_rows": null,
            "grid_column": null,
            "grid_gap": null,
            "grid_row": null,
            "grid_template_areas": null,
            "grid_template_columns": null,
            "grid_template_rows": null,
            "height": null,
            "justify_content": null,
            "justify_items": null,
            "left": null,
            "margin": null,
            "max_height": null,
            "max_width": null,
            "min_height": null,
            "min_width": null,
            "object_fit": null,
            "object_position": null,
            "order": null,
            "overflow": null,
            "overflow_x": null,
            "overflow_y": null,
            "padding": null,
            "right": null,
            "top": null,
            "visibility": null,
            "width": null
          }
        },
        "966faa59f5464f79be7d9cf1e09f2d1a": {
          "model_module": "@jupyter-widgets/base",
          "model_name": "LayoutModel",
          "model_module_version": "1.2.0",
          "state": {
            "_model_module": "@jupyter-widgets/base",
            "_model_module_version": "1.2.0",
            "_model_name": "LayoutModel",
            "_view_count": null,
            "_view_module": "@jupyter-widgets/base",
            "_view_module_version": "1.2.0",
            "_view_name": "LayoutView",
            "align_content": null,
            "align_items": null,
            "align_self": null,
            "border": null,
            "bottom": null,
            "display": null,
            "flex": null,
            "flex_flow": null,
            "grid_area": null,
            "grid_auto_columns": null,
            "grid_auto_flow": null,
            "grid_auto_rows": null,
            "grid_column": null,
            "grid_gap": null,
            "grid_row": null,
            "grid_template_areas": null,
            "grid_template_columns": null,
            "grid_template_rows": null,
            "height": null,
            "justify_content": null,
            "justify_items": null,
            "left": null,
            "margin": null,
            "max_height": null,
            "max_width": null,
            "min_height": null,
            "min_width": null,
            "object_fit": null,
            "object_position": null,
            "order": null,
            "overflow": null,
            "overflow_x": null,
            "overflow_y": null,
            "padding": null,
            "right": null,
            "top": null,
            "visibility": null,
            "width": null
          }
        },
        "d26591e341fe4b63948f0e827db1041e": {
          "model_module": "@jupyter-widgets/controls",
          "model_name": "DescriptionStyleModel",
          "model_module_version": "1.5.0",
          "state": {
            "_model_module": "@jupyter-widgets/controls",
            "_model_module_version": "1.5.0",
            "_model_name": "DescriptionStyleModel",
            "_view_count": null,
            "_view_module": "@jupyter-widgets/base",
            "_view_module_version": "1.2.0",
            "_view_name": "StyleView",
            "description_width": ""
          }
        },
        "a62565d9b93e4503aee65308495ed2d8": {
          "model_module": "@jupyter-widgets/base",
          "model_name": "LayoutModel",
          "model_module_version": "1.2.0",
          "state": {
            "_model_module": "@jupyter-widgets/base",
            "_model_module_version": "1.2.0",
            "_model_name": "LayoutModel",
            "_view_count": null,
            "_view_module": "@jupyter-widgets/base",
            "_view_module_version": "1.2.0",
            "_view_name": "LayoutView",
            "align_content": null,
            "align_items": null,
            "align_self": null,
            "border": null,
            "bottom": null,
            "display": null,
            "flex": null,
            "flex_flow": null,
            "grid_area": null,
            "grid_auto_columns": null,
            "grid_auto_flow": null,
            "grid_auto_rows": null,
            "grid_column": null,
            "grid_gap": null,
            "grid_row": null,
            "grid_template_areas": null,
            "grid_template_columns": null,
            "grid_template_rows": null,
            "height": null,
            "justify_content": null,
            "justify_items": null,
            "left": null,
            "margin": null,
            "max_height": null,
            "max_width": null,
            "min_height": null,
            "min_width": null,
            "object_fit": null,
            "object_position": null,
            "order": null,
            "overflow": null,
            "overflow_x": null,
            "overflow_y": null,
            "padding": null,
            "right": null,
            "top": null,
            "visibility": null,
            "width": null
          }
        },
        "461c8e888f3f47fe8f22a1b05f38bb66": {
          "model_module": "@jupyter-widgets/controls",
          "model_name": "ProgressStyleModel",
          "model_module_version": "1.5.0",
          "state": {
            "_model_module": "@jupyter-widgets/controls",
            "_model_module_version": "1.5.0",
            "_model_name": "ProgressStyleModel",
            "_view_count": null,
            "_view_module": "@jupyter-widgets/base",
            "_view_module_version": "1.2.0",
            "_view_name": "StyleView",
            "bar_color": null,
            "description_width": ""
          }
        },
        "b5bb4af65119472a803c03e9ebf3dc03": {
          "model_module": "@jupyter-widgets/base",
          "model_name": "LayoutModel",
          "model_module_version": "1.2.0",
          "state": {
            "_model_module": "@jupyter-widgets/base",
            "_model_module_version": "1.2.0",
            "_model_name": "LayoutModel",
            "_view_count": null,
            "_view_module": "@jupyter-widgets/base",
            "_view_module_version": "1.2.0",
            "_view_name": "LayoutView",
            "align_content": null,
            "align_items": null,
            "align_self": null,
            "border": null,
            "bottom": null,
            "display": null,
            "flex": null,
            "flex_flow": null,
            "grid_area": null,
            "grid_auto_columns": null,
            "grid_auto_flow": null,
            "grid_auto_rows": null,
            "grid_column": null,
            "grid_gap": null,
            "grid_row": null,
            "grid_template_areas": null,
            "grid_template_columns": null,
            "grid_template_rows": null,
            "height": null,
            "justify_content": null,
            "justify_items": null,
            "left": null,
            "margin": null,
            "max_height": null,
            "max_width": null,
            "min_height": null,
            "min_width": null,
            "object_fit": null,
            "object_position": null,
            "order": null,
            "overflow": null,
            "overflow_x": null,
            "overflow_y": null,
            "padding": null,
            "right": null,
            "top": null,
            "visibility": null,
            "width": null
          }
        },
        "44cdd4a1dccb4d6e9ba37e6718d52629": {
          "model_module": "@jupyter-widgets/controls",
          "model_name": "DescriptionStyleModel",
          "model_module_version": "1.5.0",
          "state": {
            "_model_module": "@jupyter-widgets/controls",
            "_model_module_version": "1.5.0",
            "_model_name": "DescriptionStyleModel",
            "_view_count": null,
            "_view_module": "@jupyter-widgets/base",
            "_view_module_version": "1.2.0",
            "_view_name": "StyleView",
            "description_width": ""
          }
        },
        "fa80a7495efd4ba997d88739ffdedb6d": {
          "model_module": "@jupyter-widgets/controls",
          "model_name": "HBoxModel",
          "model_module_version": "1.5.0",
          "state": {
            "_dom_classes": [],
            "_model_module": "@jupyter-widgets/controls",
            "_model_module_version": "1.5.0",
            "_model_name": "HBoxModel",
            "_view_count": null,
            "_view_module": "@jupyter-widgets/controls",
            "_view_module_version": "1.5.0",
            "_view_name": "HBoxView",
            "box_style": "",
            "children": [
              "IPY_MODEL_cced12f5b4f94dabb82d4a02964384b9",
              "IPY_MODEL_df718f10678e4dff8083aa2cbfe5033f",
              "IPY_MODEL_6e9ea3fda85b40b9a8773cde8e44560c"
            ],
            "layout": "IPY_MODEL_a15f4aa9353d497eb32547a8e9de5fb6"
          }
        },
        "cced12f5b4f94dabb82d4a02964384b9": {
          "model_module": "@jupyter-widgets/controls",
          "model_name": "HTMLModel",
          "model_module_version": "1.5.0",
          "state": {
            "_dom_classes": [],
            "_model_module": "@jupyter-widgets/controls",
            "_model_module_version": "1.5.0",
            "_model_name": "HTMLModel",
            "_view_count": null,
            "_view_module": "@jupyter-widgets/controls",
            "_view_module_version": "1.5.0",
            "_view_name": "HTMLView",
            "description": "",
            "description_tooltip": null,
            "layout": "IPY_MODEL_7569a76a390345e7b76222d453a06a6f",
            "placeholder": "​",
            "style": "IPY_MODEL_e437c631e13e49138680e71a43a38f1c",
            "value": ""
          }
        },
        "df718f10678e4dff8083aa2cbfe5033f": {
          "model_module": "@jupyter-widgets/controls",
          "model_name": "FloatProgressModel",
          "model_module_version": "1.5.0",
          "state": {
            "_dom_classes": [],
            "_model_module": "@jupyter-widgets/controls",
            "_model_module_version": "1.5.0",
            "_model_name": "FloatProgressModel",
            "_view_count": null,
            "_view_module": "@jupyter-widgets/controls",
            "_view_module_version": "1.5.0",
            "_view_name": "ProgressView",
            "bar_style": "success",
            "description": "",
            "description_tooltip": null,
            "layout": "IPY_MODEL_78609d7989cd4e8cbd8603db0f8dd3f5",
            "max": 28881,
            "min": 0,
            "orientation": "horizontal",
            "style": "IPY_MODEL_bd22efb7c64c4527af366d24ba486fba",
            "value": 28881
          }
        },
        "6e9ea3fda85b40b9a8773cde8e44560c": {
          "model_module": "@jupyter-widgets/controls",
          "model_name": "HTMLModel",
          "model_module_version": "1.5.0",
          "state": {
            "_dom_classes": [],
            "_model_module": "@jupyter-widgets/controls",
            "_model_module_version": "1.5.0",
            "_model_name": "HTMLModel",
            "_view_count": null,
            "_view_module": "@jupyter-widgets/controls",
            "_view_module_version": "1.5.0",
            "_view_name": "HTMLView",
            "description": "",
            "description_tooltip": null,
            "layout": "IPY_MODEL_587d01bcef0a4da4993dea0bb47218e1",
            "placeholder": "​",
            "style": "IPY_MODEL_ccb967c4c4244476bbc003d04a152724",
            "value": " 29696/? [00:00&lt;00:00, 749580.55it/s]"
          }
        },
        "a15f4aa9353d497eb32547a8e9de5fb6": {
          "model_module": "@jupyter-widgets/base",
          "model_name": "LayoutModel",
          "model_module_version": "1.2.0",
          "state": {
            "_model_module": "@jupyter-widgets/base",
            "_model_module_version": "1.2.0",
            "_model_name": "LayoutModel",
            "_view_count": null,
            "_view_module": "@jupyter-widgets/base",
            "_view_module_version": "1.2.0",
            "_view_name": "LayoutView",
            "align_content": null,
            "align_items": null,
            "align_self": null,
            "border": null,
            "bottom": null,
            "display": null,
            "flex": null,
            "flex_flow": null,
            "grid_area": null,
            "grid_auto_columns": null,
            "grid_auto_flow": null,
            "grid_auto_rows": null,
            "grid_column": null,
            "grid_gap": null,
            "grid_row": null,
            "grid_template_areas": null,
            "grid_template_columns": null,
            "grid_template_rows": null,
            "height": null,
            "justify_content": null,
            "justify_items": null,
            "left": null,
            "margin": null,
            "max_height": null,
            "max_width": null,
            "min_height": null,
            "min_width": null,
            "object_fit": null,
            "object_position": null,
            "order": null,
            "overflow": null,
            "overflow_x": null,
            "overflow_y": null,
            "padding": null,
            "right": null,
            "top": null,
            "visibility": null,
            "width": null
          }
        },
        "7569a76a390345e7b76222d453a06a6f": {
          "model_module": "@jupyter-widgets/base",
          "model_name": "LayoutModel",
          "model_module_version": "1.2.0",
          "state": {
            "_model_module": "@jupyter-widgets/base",
            "_model_module_version": "1.2.0",
            "_model_name": "LayoutModel",
            "_view_count": null,
            "_view_module": "@jupyter-widgets/base",
            "_view_module_version": "1.2.0",
            "_view_name": "LayoutView",
            "align_content": null,
            "align_items": null,
            "align_self": null,
            "border": null,
            "bottom": null,
            "display": null,
            "flex": null,
            "flex_flow": null,
            "grid_area": null,
            "grid_auto_columns": null,
            "grid_auto_flow": null,
            "grid_auto_rows": null,
            "grid_column": null,
            "grid_gap": null,
            "grid_row": null,
            "grid_template_areas": null,
            "grid_template_columns": null,
            "grid_template_rows": null,
            "height": null,
            "justify_content": null,
            "justify_items": null,
            "left": null,
            "margin": null,
            "max_height": null,
            "max_width": null,
            "min_height": null,
            "min_width": null,
            "object_fit": null,
            "object_position": null,
            "order": null,
            "overflow": null,
            "overflow_x": null,
            "overflow_y": null,
            "padding": null,
            "right": null,
            "top": null,
            "visibility": null,
            "width": null
          }
        },
        "e437c631e13e49138680e71a43a38f1c": {
          "model_module": "@jupyter-widgets/controls",
          "model_name": "DescriptionStyleModel",
          "model_module_version": "1.5.0",
          "state": {
            "_model_module": "@jupyter-widgets/controls",
            "_model_module_version": "1.5.0",
            "_model_name": "DescriptionStyleModel",
            "_view_count": null,
            "_view_module": "@jupyter-widgets/base",
            "_view_module_version": "1.2.0",
            "_view_name": "StyleView",
            "description_width": ""
          }
        },
        "78609d7989cd4e8cbd8603db0f8dd3f5": {
          "model_module": "@jupyter-widgets/base",
          "model_name": "LayoutModel",
          "model_module_version": "1.2.0",
          "state": {
            "_model_module": "@jupyter-widgets/base",
            "_model_module_version": "1.2.0",
            "_model_name": "LayoutModel",
            "_view_count": null,
            "_view_module": "@jupyter-widgets/base",
            "_view_module_version": "1.2.0",
            "_view_name": "LayoutView",
            "align_content": null,
            "align_items": null,
            "align_self": null,
            "border": null,
            "bottom": null,
            "display": null,
            "flex": null,
            "flex_flow": null,
            "grid_area": null,
            "grid_auto_columns": null,
            "grid_auto_flow": null,
            "grid_auto_rows": null,
            "grid_column": null,
            "grid_gap": null,
            "grid_row": null,
            "grid_template_areas": null,
            "grid_template_columns": null,
            "grid_template_rows": null,
            "height": null,
            "justify_content": null,
            "justify_items": null,
            "left": null,
            "margin": null,
            "max_height": null,
            "max_width": null,
            "min_height": null,
            "min_width": null,
            "object_fit": null,
            "object_position": null,
            "order": null,
            "overflow": null,
            "overflow_x": null,
            "overflow_y": null,
            "padding": null,
            "right": null,
            "top": null,
            "visibility": null,
            "width": null
          }
        },
        "bd22efb7c64c4527af366d24ba486fba": {
          "model_module": "@jupyter-widgets/controls",
          "model_name": "ProgressStyleModel",
          "model_module_version": "1.5.0",
          "state": {
            "_model_module": "@jupyter-widgets/controls",
            "_model_module_version": "1.5.0",
            "_model_name": "ProgressStyleModel",
            "_view_count": null,
            "_view_module": "@jupyter-widgets/base",
            "_view_module_version": "1.2.0",
            "_view_name": "StyleView",
            "bar_color": null,
            "description_width": ""
          }
        },
        "587d01bcef0a4da4993dea0bb47218e1": {
          "model_module": "@jupyter-widgets/base",
          "model_name": "LayoutModel",
          "model_module_version": "1.2.0",
          "state": {
            "_model_module": "@jupyter-widgets/base",
            "_model_module_version": "1.2.0",
            "_model_name": "LayoutModel",
            "_view_count": null,
            "_view_module": "@jupyter-widgets/base",
            "_view_module_version": "1.2.0",
            "_view_name": "LayoutView",
            "align_content": null,
            "align_items": null,
            "align_self": null,
            "border": null,
            "bottom": null,
            "display": null,
            "flex": null,
            "flex_flow": null,
            "grid_area": null,
            "grid_auto_columns": null,
            "grid_auto_flow": null,
            "grid_auto_rows": null,
            "grid_column": null,
            "grid_gap": null,
            "grid_row": null,
            "grid_template_areas": null,
            "grid_template_columns": null,
            "grid_template_rows": null,
            "height": null,
            "justify_content": null,
            "justify_items": null,
            "left": null,
            "margin": null,
            "max_height": null,
            "max_width": null,
            "min_height": null,
            "min_width": null,
            "object_fit": null,
            "object_position": null,
            "order": null,
            "overflow": null,
            "overflow_x": null,
            "overflow_y": null,
            "padding": null,
            "right": null,
            "top": null,
            "visibility": null,
            "width": null
          }
        },
        "ccb967c4c4244476bbc003d04a152724": {
          "model_module": "@jupyter-widgets/controls",
          "model_name": "DescriptionStyleModel",
          "model_module_version": "1.5.0",
          "state": {
            "_model_module": "@jupyter-widgets/controls",
            "_model_module_version": "1.5.0",
            "_model_name": "DescriptionStyleModel",
            "_view_count": null,
            "_view_module": "@jupyter-widgets/base",
            "_view_module_version": "1.2.0",
            "_view_name": "StyleView",
            "description_width": ""
          }
        },
        "0c4300f4b0014c53b53ea2566866acdd": {
          "model_module": "@jupyter-widgets/controls",
          "model_name": "HBoxModel",
          "model_module_version": "1.5.0",
          "state": {
            "_dom_classes": [],
            "_model_module": "@jupyter-widgets/controls",
            "_model_module_version": "1.5.0",
            "_model_name": "HBoxModel",
            "_view_count": null,
            "_view_module": "@jupyter-widgets/controls",
            "_view_module_version": "1.5.0",
            "_view_name": "HBoxView",
            "box_style": "",
            "children": [
              "IPY_MODEL_9205f90cee5d41109c4d92c266873b83",
              "IPY_MODEL_9890ceb084934016b580595b8747e346",
              "IPY_MODEL_aeda7b96c02140b0b626bece963e4c85"
            ],
            "layout": "IPY_MODEL_2bd561264337451ab7cfa65ca54b53ee"
          }
        },
        "9205f90cee5d41109c4d92c266873b83": {
          "model_module": "@jupyter-widgets/controls",
          "model_name": "HTMLModel",
          "model_module_version": "1.5.0",
          "state": {
            "_dom_classes": [],
            "_model_module": "@jupyter-widgets/controls",
            "_model_module_version": "1.5.0",
            "_model_name": "HTMLModel",
            "_view_count": null,
            "_view_module": "@jupyter-widgets/controls",
            "_view_module_version": "1.5.0",
            "_view_name": "HTMLView",
            "description": "",
            "description_tooltip": null,
            "layout": "IPY_MODEL_bdcc4cec95a540e7a50c5cd5cd64c4ac",
            "placeholder": "​",
            "style": "IPY_MODEL_1a223d3b778b4704aca46fee6a7678a3",
            "value": ""
          }
        },
        "9890ceb084934016b580595b8747e346": {
          "model_module": "@jupyter-widgets/controls",
          "model_name": "FloatProgressModel",
          "model_module_version": "1.5.0",
          "state": {
            "_dom_classes": [],
            "_model_module": "@jupyter-widgets/controls",
            "_model_module_version": "1.5.0",
            "_model_name": "FloatProgressModel",
            "_view_count": null,
            "_view_module": "@jupyter-widgets/controls",
            "_view_module_version": "1.5.0",
            "_view_name": "ProgressView",
            "bar_style": "success",
            "description": "",
            "description_tooltip": null,
            "layout": "IPY_MODEL_539b63760b7e4915a3291379f7bc5a99",
            "max": 1648877,
            "min": 0,
            "orientation": "horizontal",
            "style": "IPY_MODEL_ace699ad013b4488a6014a9e126cd2ee",
            "value": 1648877
          }
        },
        "aeda7b96c02140b0b626bece963e4c85": {
          "model_module": "@jupyter-widgets/controls",
          "model_name": "HTMLModel",
          "model_module_version": "1.5.0",
          "state": {
            "_dom_classes": [],
            "_model_module": "@jupyter-widgets/controls",
            "_model_module_version": "1.5.0",
            "_model_name": "HTMLModel",
            "_view_count": null,
            "_view_module": "@jupyter-widgets/controls",
            "_view_module_version": "1.5.0",
            "_view_name": "HTMLView",
            "description": "",
            "description_tooltip": null,
            "layout": "IPY_MODEL_f84a5782071e4db7a4f6ecbbcd99ce7b",
            "placeholder": "​",
            "style": "IPY_MODEL_3d7c9e69140449eab2991eff5a3132ca",
            "value": " 1649664/? [00:00&lt;00:00, 9154546.90it/s]"
          }
        },
        "2bd561264337451ab7cfa65ca54b53ee": {
          "model_module": "@jupyter-widgets/base",
          "model_name": "LayoutModel",
          "model_module_version": "1.2.0",
          "state": {
            "_model_module": "@jupyter-widgets/base",
            "_model_module_version": "1.2.0",
            "_model_name": "LayoutModel",
            "_view_count": null,
            "_view_module": "@jupyter-widgets/base",
            "_view_module_version": "1.2.0",
            "_view_name": "LayoutView",
            "align_content": null,
            "align_items": null,
            "align_self": null,
            "border": null,
            "bottom": null,
            "display": null,
            "flex": null,
            "flex_flow": null,
            "grid_area": null,
            "grid_auto_columns": null,
            "grid_auto_flow": null,
            "grid_auto_rows": null,
            "grid_column": null,
            "grid_gap": null,
            "grid_row": null,
            "grid_template_areas": null,
            "grid_template_columns": null,
            "grid_template_rows": null,
            "height": null,
            "justify_content": null,
            "justify_items": null,
            "left": null,
            "margin": null,
            "max_height": null,
            "max_width": null,
            "min_height": null,
            "min_width": null,
            "object_fit": null,
            "object_position": null,
            "order": null,
            "overflow": null,
            "overflow_x": null,
            "overflow_y": null,
            "padding": null,
            "right": null,
            "top": null,
            "visibility": null,
            "width": null
          }
        },
        "bdcc4cec95a540e7a50c5cd5cd64c4ac": {
          "model_module": "@jupyter-widgets/base",
          "model_name": "LayoutModel",
          "model_module_version": "1.2.0",
          "state": {
            "_model_module": "@jupyter-widgets/base",
            "_model_module_version": "1.2.0",
            "_model_name": "LayoutModel",
            "_view_count": null,
            "_view_module": "@jupyter-widgets/base",
            "_view_module_version": "1.2.0",
            "_view_name": "LayoutView",
            "align_content": null,
            "align_items": null,
            "align_self": null,
            "border": null,
            "bottom": null,
            "display": null,
            "flex": null,
            "flex_flow": null,
            "grid_area": null,
            "grid_auto_columns": null,
            "grid_auto_flow": null,
            "grid_auto_rows": null,
            "grid_column": null,
            "grid_gap": null,
            "grid_row": null,
            "grid_template_areas": null,
            "grid_template_columns": null,
            "grid_template_rows": null,
            "height": null,
            "justify_content": null,
            "justify_items": null,
            "left": null,
            "margin": null,
            "max_height": null,
            "max_width": null,
            "min_height": null,
            "min_width": null,
            "object_fit": null,
            "object_position": null,
            "order": null,
            "overflow": null,
            "overflow_x": null,
            "overflow_y": null,
            "padding": null,
            "right": null,
            "top": null,
            "visibility": null,
            "width": null
          }
        },
        "1a223d3b778b4704aca46fee6a7678a3": {
          "model_module": "@jupyter-widgets/controls",
          "model_name": "DescriptionStyleModel",
          "model_module_version": "1.5.0",
          "state": {
            "_model_module": "@jupyter-widgets/controls",
            "_model_module_version": "1.5.0",
            "_model_name": "DescriptionStyleModel",
            "_view_count": null,
            "_view_module": "@jupyter-widgets/base",
            "_view_module_version": "1.2.0",
            "_view_name": "StyleView",
            "description_width": ""
          }
        },
        "539b63760b7e4915a3291379f7bc5a99": {
          "model_module": "@jupyter-widgets/base",
          "model_name": "LayoutModel",
          "model_module_version": "1.2.0",
          "state": {
            "_model_module": "@jupyter-widgets/base",
            "_model_module_version": "1.2.0",
            "_model_name": "LayoutModel",
            "_view_count": null,
            "_view_module": "@jupyter-widgets/base",
            "_view_module_version": "1.2.0",
            "_view_name": "LayoutView",
            "align_content": null,
            "align_items": null,
            "align_self": null,
            "border": null,
            "bottom": null,
            "display": null,
            "flex": null,
            "flex_flow": null,
            "grid_area": null,
            "grid_auto_columns": null,
            "grid_auto_flow": null,
            "grid_auto_rows": null,
            "grid_column": null,
            "grid_gap": null,
            "grid_row": null,
            "grid_template_areas": null,
            "grid_template_columns": null,
            "grid_template_rows": null,
            "height": null,
            "justify_content": null,
            "justify_items": null,
            "left": null,
            "margin": null,
            "max_height": null,
            "max_width": null,
            "min_height": null,
            "min_width": null,
            "object_fit": null,
            "object_position": null,
            "order": null,
            "overflow": null,
            "overflow_x": null,
            "overflow_y": null,
            "padding": null,
            "right": null,
            "top": null,
            "visibility": null,
            "width": null
          }
        },
        "ace699ad013b4488a6014a9e126cd2ee": {
          "model_module": "@jupyter-widgets/controls",
          "model_name": "ProgressStyleModel",
          "model_module_version": "1.5.0",
          "state": {
            "_model_module": "@jupyter-widgets/controls",
            "_model_module_version": "1.5.0",
            "_model_name": "ProgressStyleModel",
            "_view_count": null,
            "_view_module": "@jupyter-widgets/base",
            "_view_module_version": "1.2.0",
            "_view_name": "StyleView",
            "bar_color": null,
            "description_width": ""
          }
        },
        "f84a5782071e4db7a4f6ecbbcd99ce7b": {
          "model_module": "@jupyter-widgets/base",
          "model_name": "LayoutModel",
          "model_module_version": "1.2.0",
          "state": {
            "_model_module": "@jupyter-widgets/base",
            "_model_module_version": "1.2.0",
            "_model_name": "LayoutModel",
            "_view_count": null,
            "_view_module": "@jupyter-widgets/base",
            "_view_module_version": "1.2.0",
            "_view_name": "LayoutView",
            "align_content": null,
            "align_items": null,
            "align_self": null,
            "border": null,
            "bottom": null,
            "display": null,
            "flex": null,
            "flex_flow": null,
            "grid_area": null,
            "grid_auto_columns": null,
            "grid_auto_flow": null,
            "grid_auto_rows": null,
            "grid_column": null,
            "grid_gap": null,
            "grid_row": null,
            "grid_template_areas": null,
            "grid_template_columns": null,
            "grid_template_rows": null,
            "height": null,
            "justify_content": null,
            "justify_items": null,
            "left": null,
            "margin": null,
            "max_height": null,
            "max_width": null,
            "min_height": null,
            "min_width": null,
            "object_fit": null,
            "object_position": null,
            "order": null,
            "overflow": null,
            "overflow_x": null,
            "overflow_y": null,
            "padding": null,
            "right": null,
            "top": null,
            "visibility": null,
            "width": null
          }
        },
        "3d7c9e69140449eab2991eff5a3132ca": {
          "model_module": "@jupyter-widgets/controls",
          "model_name": "DescriptionStyleModel",
          "model_module_version": "1.5.0",
          "state": {
            "_model_module": "@jupyter-widgets/controls",
            "_model_module_version": "1.5.0",
            "_model_name": "DescriptionStyleModel",
            "_view_count": null,
            "_view_module": "@jupyter-widgets/base",
            "_view_module_version": "1.2.0",
            "_view_name": "StyleView",
            "description_width": ""
          }
        },
        "3d0b13eb0635450cabb1aab419f4e1ca": {
          "model_module": "@jupyter-widgets/controls",
          "model_name": "HBoxModel",
          "model_module_version": "1.5.0",
          "state": {
            "_dom_classes": [],
            "_model_module": "@jupyter-widgets/controls",
            "_model_module_version": "1.5.0",
            "_model_name": "HBoxModel",
            "_view_count": null,
            "_view_module": "@jupyter-widgets/controls",
            "_view_module_version": "1.5.0",
            "_view_name": "HBoxView",
            "box_style": "",
            "children": [
              "IPY_MODEL_ab16483100c14718a80ef9013f9082d8",
              "IPY_MODEL_cdf8e310cb2a455380f7326836ba1f14",
              "IPY_MODEL_4517ce659ddb4ba5a6e3aafc4d39e85e"
            ],
            "layout": "IPY_MODEL_d437b19633eb4820b31428c43792ecaa"
          }
        },
        "ab16483100c14718a80ef9013f9082d8": {
          "model_module": "@jupyter-widgets/controls",
          "model_name": "HTMLModel",
          "model_module_version": "1.5.0",
          "state": {
            "_dom_classes": [],
            "_model_module": "@jupyter-widgets/controls",
            "_model_module_version": "1.5.0",
            "_model_name": "HTMLModel",
            "_view_count": null,
            "_view_module": "@jupyter-widgets/controls",
            "_view_module_version": "1.5.0",
            "_view_name": "HTMLView",
            "description": "",
            "description_tooltip": null,
            "layout": "IPY_MODEL_f29113befff648769ec715b0afdc161d",
            "placeholder": "​",
            "style": "IPY_MODEL_3df9e0d8c39b4a61a56e1bc931c7bef7",
            "value": ""
          }
        },
        "cdf8e310cb2a455380f7326836ba1f14": {
          "model_module": "@jupyter-widgets/controls",
          "model_name": "FloatProgressModel",
          "model_module_version": "1.5.0",
          "state": {
            "_dom_classes": [],
            "_model_module": "@jupyter-widgets/controls",
            "_model_module_version": "1.5.0",
            "_model_name": "FloatProgressModel",
            "_view_count": null,
            "_view_module": "@jupyter-widgets/controls",
            "_view_module_version": "1.5.0",
            "_view_name": "ProgressView",
            "bar_style": "success",
            "description": "",
            "description_tooltip": null,
            "layout": "IPY_MODEL_5e4209a2a4b244dc8db59f4df69da387",
            "max": 4542,
            "min": 0,
            "orientation": "horizontal",
            "style": "IPY_MODEL_7ad19c7c238f4cda8e79e9c6e7b0b9c2",
            "value": 4542
          }
        },
        "4517ce659ddb4ba5a6e3aafc4d39e85e": {
          "model_module": "@jupyter-widgets/controls",
          "model_name": "HTMLModel",
          "model_module_version": "1.5.0",
          "state": {
            "_dom_classes": [],
            "_model_module": "@jupyter-widgets/controls",
            "_model_module_version": "1.5.0",
            "_model_name": "HTMLModel",
            "_view_count": null,
            "_view_module": "@jupyter-widgets/controls",
            "_view_module_version": "1.5.0",
            "_view_name": "HTMLView",
            "description": "",
            "description_tooltip": null,
            "layout": "IPY_MODEL_c129614cba9844f0bd8a7926e264f935",
            "placeholder": "​",
            "style": "IPY_MODEL_b11838fbebab41818243d64601660299",
            "value": " 5120/? [00:00&lt;00:00, 142393.80it/s]"
          }
        },
        "d437b19633eb4820b31428c43792ecaa": {
          "model_module": "@jupyter-widgets/base",
          "model_name": "LayoutModel",
          "model_module_version": "1.2.0",
          "state": {
            "_model_module": "@jupyter-widgets/base",
            "_model_module_version": "1.2.0",
            "_model_name": "LayoutModel",
            "_view_count": null,
            "_view_module": "@jupyter-widgets/base",
            "_view_module_version": "1.2.0",
            "_view_name": "LayoutView",
            "align_content": null,
            "align_items": null,
            "align_self": null,
            "border": null,
            "bottom": null,
            "display": null,
            "flex": null,
            "flex_flow": null,
            "grid_area": null,
            "grid_auto_columns": null,
            "grid_auto_flow": null,
            "grid_auto_rows": null,
            "grid_column": null,
            "grid_gap": null,
            "grid_row": null,
            "grid_template_areas": null,
            "grid_template_columns": null,
            "grid_template_rows": null,
            "height": null,
            "justify_content": null,
            "justify_items": null,
            "left": null,
            "margin": null,
            "max_height": null,
            "max_width": null,
            "min_height": null,
            "min_width": null,
            "object_fit": null,
            "object_position": null,
            "order": null,
            "overflow": null,
            "overflow_x": null,
            "overflow_y": null,
            "padding": null,
            "right": null,
            "top": null,
            "visibility": null,
            "width": null
          }
        },
        "f29113befff648769ec715b0afdc161d": {
          "model_module": "@jupyter-widgets/base",
          "model_name": "LayoutModel",
          "model_module_version": "1.2.0",
          "state": {
            "_model_module": "@jupyter-widgets/base",
            "_model_module_version": "1.2.0",
            "_model_name": "LayoutModel",
            "_view_count": null,
            "_view_module": "@jupyter-widgets/base",
            "_view_module_version": "1.2.0",
            "_view_name": "LayoutView",
            "align_content": null,
            "align_items": null,
            "align_self": null,
            "border": null,
            "bottom": null,
            "display": null,
            "flex": null,
            "flex_flow": null,
            "grid_area": null,
            "grid_auto_columns": null,
            "grid_auto_flow": null,
            "grid_auto_rows": null,
            "grid_column": null,
            "grid_gap": null,
            "grid_row": null,
            "grid_template_areas": null,
            "grid_template_columns": null,
            "grid_template_rows": null,
            "height": null,
            "justify_content": null,
            "justify_items": null,
            "left": null,
            "margin": null,
            "max_height": null,
            "max_width": null,
            "min_height": null,
            "min_width": null,
            "object_fit": null,
            "object_position": null,
            "order": null,
            "overflow": null,
            "overflow_x": null,
            "overflow_y": null,
            "padding": null,
            "right": null,
            "top": null,
            "visibility": null,
            "width": null
          }
        },
        "3df9e0d8c39b4a61a56e1bc931c7bef7": {
          "model_module": "@jupyter-widgets/controls",
          "model_name": "DescriptionStyleModel",
          "model_module_version": "1.5.0",
          "state": {
            "_model_module": "@jupyter-widgets/controls",
            "_model_module_version": "1.5.0",
            "_model_name": "DescriptionStyleModel",
            "_view_count": null,
            "_view_module": "@jupyter-widgets/base",
            "_view_module_version": "1.2.0",
            "_view_name": "StyleView",
            "description_width": ""
          }
        },
        "5e4209a2a4b244dc8db59f4df69da387": {
          "model_module": "@jupyter-widgets/base",
          "model_name": "LayoutModel",
          "model_module_version": "1.2.0",
          "state": {
            "_model_module": "@jupyter-widgets/base",
            "_model_module_version": "1.2.0",
            "_model_name": "LayoutModel",
            "_view_count": null,
            "_view_module": "@jupyter-widgets/base",
            "_view_module_version": "1.2.0",
            "_view_name": "LayoutView",
            "align_content": null,
            "align_items": null,
            "align_self": null,
            "border": null,
            "bottom": null,
            "display": null,
            "flex": null,
            "flex_flow": null,
            "grid_area": null,
            "grid_auto_columns": null,
            "grid_auto_flow": null,
            "grid_auto_rows": null,
            "grid_column": null,
            "grid_gap": null,
            "grid_row": null,
            "grid_template_areas": null,
            "grid_template_columns": null,
            "grid_template_rows": null,
            "height": null,
            "justify_content": null,
            "justify_items": null,
            "left": null,
            "margin": null,
            "max_height": null,
            "max_width": null,
            "min_height": null,
            "min_width": null,
            "object_fit": null,
            "object_position": null,
            "order": null,
            "overflow": null,
            "overflow_x": null,
            "overflow_y": null,
            "padding": null,
            "right": null,
            "top": null,
            "visibility": null,
            "width": null
          }
        },
        "7ad19c7c238f4cda8e79e9c6e7b0b9c2": {
          "model_module": "@jupyter-widgets/controls",
          "model_name": "ProgressStyleModel",
          "model_module_version": "1.5.0",
          "state": {
            "_model_module": "@jupyter-widgets/controls",
            "_model_module_version": "1.5.0",
            "_model_name": "ProgressStyleModel",
            "_view_count": null,
            "_view_module": "@jupyter-widgets/base",
            "_view_module_version": "1.2.0",
            "_view_name": "StyleView",
            "bar_color": null,
            "description_width": ""
          }
        },
        "c129614cba9844f0bd8a7926e264f935": {
          "model_module": "@jupyter-widgets/base",
          "model_name": "LayoutModel",
          "model_module_version": "1.2.0",
          "state": {
            "_model_module": "@jupyter-widgets/base",
            "_model_module_version": "1.2.0",
            "_model_name": "LayoutModel",
            "_view_count": null,
            "_view_module": "@jupyter-widgets/base",
            "_view_module_version": "1.2.0",
            "_view_name": "LayoutView",
            "align_content": null,
            "align_items": null,
            "align_self": null,
            "border": null,
            "bottom": null,
            "display": null,
            "flex": null,
            "flex_flow": null,
            "grid_area": null,
            "grid_auto_columns": null,
            "grid_auto_flow": null,
            "grid_auto_rows": null,
            "grid_column": null,
            "grid_gap": null,
            "grid_row": null,
            "grid_template_areas": null,
            "grid_template_columns": null,
            "grid_template_rows": null,
            "height": null,
            "justify_content": null,
            "justify_items": null,
            "left": null,
            "margin": null,
            "max_height": null,
            "max_width": null,
            "min_height": null,
            "min_width": null,
            "object_fit": null,
            "object_position": null,
            "order": null,
            "overflow": null,
            "overflow_x": null,
            "overflow_y": null,
            "padding": null,
            "right": null,
            "top": null,
            "visibility": null,
            "width": null
          }
        },
        "b11838fbebab41818243d64601660299": {
          "model_module": "@jupyter-widgets/controls",
          "model_name": "DescriptionStyleModel",
          "model_module_version": "1.5.0",
          "state": {
            "_model_module": "@jupyter-widgets/controls",
            "_model_module_version": "1.5.0",
            "_model_name": "DescriptionStyleModel",
            "_view_count": null,
            "_view_module": "@jupyter-widgets/base",
            "_view_module_version": "1.2.0",
            "_view_name": "StyleView",
            "description_width": ""
          }
        }
      }
    }
  },
  "cells": [
    {
      "cell_type": "markdown",
      "metadata": {
        "id": "view-in-github",
        "colab_type": "text"
      },
      "source": [
        "<a href=\"https://colab.research.google.com/github/mobarakol/tutorial_notebooks/blob/main/mnist_confused_logits.ipynb\" target=\"_parent\"><img src=\"https://colab.research.google.com/assets/colab-badge.svg\" alt=\"Open In Colab\"/></a>"
      ]
    },
    {
      "cell_type": "code",
      "execution_count": 2,
      "metadata": {
        "id": "w5eFsC_xfsCy"
      },
      "outputs": [],
      "source": [
        "import argparse\n",
        "import torch\n",
        "import torch.nn as nn\n",
        "import torch.nn.functional as F\n",
        "import torch.optim as optim\n",
        "from torchvision import datasets, transforms\n",
        "from torch.autograd import Variable\n",
        "\n",
        "args={}\n",
        "kwargs={}\n",
        "args['batch_size']=1000\n",
        "args['test_batch_size']=1000\n",
        "args['epochs']=10  #The number of Epochs is the number of times you go through the full dataset. \n",
        "args['lr']=0.01 #Learning rate is how fast it will decend. \n",
        "args['momentum']=0.5 #SGD momentum (default: 0.5) Momentum is a moving average of our gradients (helps to keep direction).\n",
        "\n",
        "args['seed']=1 #random seed\n",
        "args['log_interval']=10\n",
        "args['cuda']=False"
      ]
    },
    {
      "cell_type": "markdown",
      "source": [
        "Prepare dataset"
      ],
      "metadata": {
        "id": "rRP_f42PKc5O"
      }
    },
    {
      "cell_type": "code",
      "source": [
        "#load the data\n",
        "train_loader = torch.utils.data.DataLoader(\n",
        "    datasets.MNIST('../data', train=True, download=True,\n",
        "                   transform=transforms.Compose([\n",
        "                       transforms.ToTensor(),\n",
        "                       transforms.Normalize((0.1307,), (0.3081,))\n",
        "                   ])),\n",
        "    batch_size=args['batch_size'], shuffle=True, **kwargs)\n",
        "test_loader = torch.utils.data.DataLoader(\n",
        "    datasets.MNIST('../data', train=False, transform=transforms.Compose([\n",
        "                       transforms.ToTensor(),\n",
        "                       transforms.Normalize((0.1307,), (0.3081,))\n",
        "                   ])),\n",
        "    batch_size=args['test_batch_size'], shuffle=True, **kwargs)\n"
      ],
      "metadata": {
        "colab": {
          "base_uri": "https://localhost:8080/",
          "height": 417,
          "referenced_widgets": [
            "ab9f0018d9ad4247bef410786a04a94c",
            "ea15064a3f364c03a25a1564dcab9139",
            "67f5315f3adf4d748c21348219664df1",
            "c15f735e87b24a48b8165796f5b0caf6",
            "33fa539eb469425f8fde183c08257d51",
            "966faa59f5464f79be7d9cf1e09f2d1a",
            "d26591e341fe4b63948f0e827db1041e",
            "a62565d9b93e4503aee65308495ed2d8",
            "461c8e888f3f47fe8f22a1b05f38bb66",
            "b5bb4af65119472a803c03e9ebf3dc03",
            "44cdd4a1dccb4d6e9ba37e6718d52629",
            "fa80a7495efd4ba997d88739ffdedb6d",
            "cced12f5b4f94dabb82d4a02964384b9",
            "df718f10678e4dff8083aa2cbfe5033f",
            "6e9ea3fda85b40b9a8773cde8e44560c",
            "a15f4aa9353d497eb32547a8e9de5fb6",
            "7569a76a390345e7b76222d453a06a6f",
            "e437c631e13e49138680e71a43a38f1c",
            "78609d7989cd4e8cbd8603db0f8dd3f5",
            "bd22efb7c64c4527af366d24ba486fba",
            "587d01bcef0a4da4993dea0bb47218e1",
            "ccb967c4c4244476bbc003d04a152724",
            "0c4300f4b0014c53b53ea2566866acdd",
            "9205f90cee5d41109c4d92c266873b83",
            "9890ceb084934016b580595b8747e346",
            "aeda7b96c02140b0b626bece963e4c85",
            "2bd561264337451ab7cfa65ca54b53ee",
            "bdcc4cec95a540e7a50c5cd5cd64c4ac",
            "1a223d3b778b4704aca46fee6a7678a3",
            "539b63760b7e4915a3291379f7bc5a99",
            "ace699ad013b4488a6014a9e126cd2ee",
            "f84a5782071e4db7a4f6ecbbcd99ce7b",
            "3d7c9e69140449eab2991eff5a3132ca",
            "3d0b13eb0635450cabb1aab419f4e1ca",
            "ab16483100c14718a80ef9013f9082d8",
            "cdf8e310cb2a455380f7326836ba1f14",
            "4517ce659ddb4ba5a6e3aafc4d39e85e",
            "d437b19633eb4820b31428c43792ecaa",
            "f29113befff648769ec715b0afdc161d",
            "3df9e0d8c39b4a61a56e1bc931c7bef7",
            "5e4209a2a4b244dc8db59f4df69da387",
            "7ad19c7c238f4cda8e79e9c6e7b0b9c2",
            "c129614cba9844f0bd8a7926e264f935",
            "b11838fbebab41818243d64601660299"
          ]
        },
        "id": "qiwPQBylfyn2",
        "outputId": "eb18608a-b16d-4a9f-f9cf-a0354cae66e5"
      },
      "execution_count": 3,
      "outputs": [
        {
          "output_type": "stream",
          "name": "stdout",
          "text": [
            "Downloading http://yann.lecun.com/exdb/mnist/train-images-idx3-ubyte.gz\n",
            "Downloading http://yann.lecun.com/exdb/mnist/train-images-idx3-ubyte.gz to ../data/MNIST/raw/train-images-idx3-ubyte.gz\n"
          ]
        },
        {
          "output_type": "display_data",
          "data": {
            "text/plain": [
              "  0%|          | 0/9912422 [00:00<?, ?it/s]"
            ],
            "application/vnd.jupyter.widget-view+json": {
              "version_major": 2,
              "version_minor": 0,
              "model_id": "ab9f0018d9ad4247bef410786a04a94c"
            }
          },
          "metadata": {}
        },
        {
          "output_type": "stream",
          "name": "stdout",
          "text": [
            "Extracting ../data/MNIST/raw/train-images-idx3-ubyte.gz to ../data/MNIST/raw\n",
            "\n",
            "Downloading http://yann.lecun.com/exdb/mnist/train-labels-idx1-ubyte.gz\n",
            "Downloading http://yann.lecun.com/exdb/mnist/train-labels-idx1-ubyte.gz to ../data/MNIST/raw/train-labels-idx1-ubyte.gz\n"
          ]
        },
        {
          "output_type": "display_data",
          "data": {
            "text/plain": [
              "  0%|          | 0/28881 [00:00<?, ?it/s]"
            ],
            "application/vnd.jupyter.widget-view+json": {
              "version_major": 2,
              "version_minor": 0,
              "model_id": "fa80a7495efd4ba997d88739ffdedb6d"
            }
          },
          "metadata": {}
        },
        {
          "output_type": "stream",
          "name": "stdout",
          "text": [
            "Extracting ../data/MNIST/raw/train-labels-idx1-ubyte.gz to ../data/MNIST/raw\n",
            "\n",
            "Downloading http://yann.lecun.com/exdb/mnist/t10k-images-idx3-ubyte.gz\n",
            "Downloading http://yann.lecun.com/exdb/mnist/t10k-images-idx3-ubyte.gz to ../data/MNIST/raw/t10k-images-idx3-ubyte.gz\n"
          ]
        },
        {
          "output_type": "display_data",
          "data": {
            "text/plain": [
              "  0%|          | 0/1648877 [00:00<?, ?it/s]"
            ],
            "application/vnd.jupyter.widget-view+json": {
              "version_major": 2,
              "version_minor": 0,
              "model_id": "0c4300f4b0014c53b53ea2566866acdd"
            }
          },
          "metadata": {}
        },
        {
          "output_type": "stream",
          "name": "stdout",
          "text": [
            "Extracting ../data/MNIST/raw/t10k-images-idx3-ubyte.gz to ../data/MNIST/raw\n",
            "\n",
            "Downloading http://yann.lecun.com/exdb/mnist/t10k-labels-idx1-ubyte.gz\n",
            "Downloading http://yann.lecun.com/exdb/mnist/t10k-labels-idx1-ubyte.gz to ../data/MNIST/raw/t10k-labels-idx1-ubyte.gz\n"
          ]
        },
        {
          "output_type": "display_data",
          "data": {
            "text/plain": [
              "  0%|          | 0/4542 [00:00<?, ?it/s]"
            ],
            "application/vnd.jupyter.widget-view+json": {
              "version_major": 2,
              "version_minor": 0,
              "model_id": "3d0b13eb0635450cabb1aab419f4e1ca"
            }
          },
          "metadata": {}
        },
        {
          "output_type": "stream",
          "name": "stdout",
          "text": [
            "Extracting ../data/MNIST/raw/t10k-labels-idx1-ubyte.gz to ../data/MNIST/raw\n",
            "\n"
          ]
        }
      ]
    },
    {
      "cell_type": "markdown",
      "source": [
        "Architecture and training script"
      ],
      "metadata": {
        "id": "bf9u4XrTKhel"
      }
    },
    {
      "cell_type": "code",
      "source": [
        "class Net(nn.Module):\n",
        "    #This defines the structure of the NN.\n",
        "    def __init__(self):\n",
        "        super(Net, self).__init__()\n",
        "        self.conv1 = nn.Conv2d(1, 10, kernel_size=5)\n",
        "        self.conv2 = nn.Conv2d(10, 20, kernel_size=5)\n",
        "        self.conv2_drop = nn.Dropout2d()  #Dropout\n",
        "        self.fc1 = nn.Linear(320, 50)\n",
        "        self.fc2 = nn.Linear(50, 10)\n",
        "\n",
        "    def forward(self, x):\n",
        "        x = F.relu(F.max_pool2d(self.conv1(x), 2)) \n",
        "        x = F.relu(F.max_pool2d(self.conv2_drop(self.conv2(x)), 2))\n",
        "        x = x.view(-1, 320)\n",
        "        x = F.relu(self.fc1(x))\n",
        "        x = F.dropout(x, training=self.training)\n",
        "        x = self.fc2(x)\n",
        "        return x\n",
        "\n",
        "\n",
        "\n",
        "def train(epoch):\n",
        "    model.train()\n",
        "    for batch_idx, (data, target) in enumerate(train_loader):\n",
        "        if args['cuda']:\n",
        "            data, target = data.cuda(), target.cuda()\n",
        "        #Variables in Pytorch are differenciable. \n",
        "        data, target = Variable(data), Variable(target)\n",
        "        #This will zero out the gradients for this batch. \n",
        "        optimizer.zero_grad()\n",
        "        output = model(data)\n",
        "        loss = F.cross_entropy(output, target)\n",
        "        #dloss/dx for every Variable \n",
        "        loss.backward()\n",
        "        #to do a one-step update on our parameter.\n",
        "        optimizer.step()\n",
        "        # #Print out the loss periodically. \n",
        "        # if batch_idx % args['log_interval'] == 0:\n",
        "        #     print('Train Epoch: {} [{}/{} ({:.0f}%)]\\tLoss: {:.6f}'.format(\n",
        "        #         epoch, batch_idx * len(data), len(train_loader.dataset),\n",
        "        #         100. * batch_idx / len(train_loader), loss.data[0]))\n",
        "\n",
        "def test():\n",
        "    model.eval()\n",
        "    test_loss = 0\n",
        "    correct = 0\n",
        "    for data, target in test_loader:\n",
        "        if args['cuda']:\n",
        "            data, target = data.cuda(), target.cuda()\n",
        "        data, target = Variable(data, volatile=True), Variable(target)\n",
        "        output = model(data)\n",
        "        test_loss += F.cross_entropy(output, target, size_average=False).item()\n",
        "        pred = output.max(1, keepdim=True)[1]\n",
        "        correct += pred.eq(target.data.view_as(pred)).long().cpu().sum()\n",
        "\n",
        "    test_loss /= len(test_loader.dataset)\n",
        "    return test_loss, correct\n",
        "\n",
        "\n"
      ],
      "metadata": {
        "id": "tF0PBqyPf6hF"
      },
      "execution_count": 4,
      "outputs": []
    },
    {
      "cell_type": "markdown",
      "source": [
        "Train the model"
      ],
      "metadata": {
        "id": "O5th2xsnKaPr"
      }
    },
    {
      "cell_type": "code",
      "source": [
        "model = Net()\n",
        "if args['cuda']:\n",
        "    model.cuda()\n",
        "\n",
        "optimizer = optim.SGD(model.parameters(), lr=args['lr'], momentum=args['momentum'])\n",
        "\n",
        "for epoch in range(1, args['epochs'] + 1):\n",
        "    train(epoch)\n",
        "    test_loss, correct = test()\n",
        "    print('Test set: Epoch:{}, Average loss: {:.4f}, Accuracy: {}/{} ({:.0f}%)'.format(\n",
        "        epoch, test_loss, correct, len(test_loader.dataset),\n",
        "        100. * correct / len(test_loader.dataset)))"
      ],
      "metadata": {
        "colab": {
          "base_uri": "https://localhost:8080/"
        },
        "id": "Cqg4zWdsgEjU",
        "outputId": "e9335973-fab5-4eb5-f5f1-b3b398f3e7f6"
      },
      "execution_count": 5,
      "outputs": [
        {
          "output_type": "stream",
          "name": "stderr",
          "text": [
            "/usr/local/lib/python3.7/dist-packages/ipykernel_launcher.py:50: UserWarning: volatile was removed and now has no effect. Use `with torch.no_grad():` instead.\n",
            "/usr/local/lib/python3.7/dist-packages/torch/nn/_reduction.py:42: UserWarning: size_average and reduce args will be deprecated, please use reduction='sum' instead.\n",
            "  warnings.warn(warning.format(ret))\n"
          ]
        },
        {
          "output_type": "stream",
          "name": "stdout",
          "text": [
            "Test set: Epoch:1, Average loss: 2.1331, Accuracy: 4984/10000 (50%)\n",
            "Test set: Epoch:2, Average loss: 1.3770, Accuracy: 7000/10000 (70%)\n",
            "Test set: Epoch:3, Average loss: 0.7531, Accuracy: 8245/10000 (82%)\n",
            "Test set: Epoch:4, Average loss: 0.5435, Accuracy: 8654/10000 (87%)\n",
            "Test set: Epoch:5, Average loss: 0.4313, Accuracy: 8854/10000 (89%)\n",
            "Test set: Epoch:6, Average loss: 0.3716, Accuracy: 8993/10000 (90%)\n",
            "Test set: Epoch:7, Average loss: 0.3291, Accuracy: 9089/10000 (91%)\n",
            "Test set: Epoch:8, Average loss: 0.2949, Accuracy: 9183/10000 (92%)\n",
            "Test set: Epoch:9, Average loss: 0.2682, Accuracy: 9249/10000 (92%)\n",
            "Test set: Epoch:10, Average loss: 0.2477, Accuracy: 9292/10000 (93%)\n"
          ]
        }
      ]
    },
    {
      "cell_type": "markdown",
      "source": [
        "Visualize first 100 samples and correcponding prediction"
      ],
      "metadata": {
        "id": "iW9rarnAKmy_"
      }
    },
    {
      "cell_type": "code",
      "source": [
        "import numpy as np\n",
        "\n",
        "train_loader = torch.utils.data.DataLoader(\n",
        "    datasets.MNIST('../data', train=True, download=True,\n",
        "                   transform=transforms.Compose([\n",
        "                       transforms.ToTensor(),\n",
        "                       transforms.Normalize((0.1307,), (0.3081,))\n",
        "                   ])),\n",
        "    batch_size=args['batch_size'], shuffle=False, **kwargs)\n",
        "\n",
        "\n",
        "x, y = next(iter(train_loader))\n",
        "#x = x.view(x.size(0), -1)\n",
        "sample = 13\n",
        "for sample in range(100):\n",
        "    input = torch.nn.Parameter(x[sample])\n",
        "    outputs = model(input[None])\n",
        "    prob = F.softmax(outputs, dim=-1)\n",
        "    pred = outputs.max(1, keepdim=True)[1]\n",
        "    print(sample, pred, y[sample],round(prob.max().item(),2), np.round(prob.detach().numpy(),3))\n",
        "#print(preds,'\\n', prob)"
      ],
      "metadata": {
        "colab": {
          "base_uri": "https://localhost:8080/"
        },
        "id": "Ik_HA6_Xgo9c",
        "outputId": "27fdef76-6af5-411a-e44b-ecc2e968f711"
      },
      "execution_count": 6,
      "outputs": [
        {
          "output_type": "stream",
          "name": "stdout",
          "text": [
            "0 tensor([[3]]) tensor(5) 0.72 [[0.    0.002 0.    0.716 0.    0.277 0.    0.002 0.002 0.001]]\n",
            "1 tensor([[0]]) tensor(0) 1.0 [[0.998 0.    0.    0.    0.    0.002 0.    0.    0.    0.   ]]\n",
            "2 tensor([[4]]) tensor(4) 0.92 [[0.    0.    0.003 0.001 0.923 0.    0.    0.002 0.001 0.07 ]]\n",
            "3 tensor([[1]]) tensor(1) 0.99 [[0.    0.993 0.004 0.    0.    0.    0.    0.    0.002 0.   ]]\n",
            "4 tensor([[9]]) tensor(9) 0.85 [[0.    0.    0.    0.    0.13  0.    0.    0.023 0.001 0.846]]\n",
            "5 tensor([[2]]) tensor(2) 0.65 [[0.003 0.005 0.652 0.133 0.007 0.005 0.001 0.102 0.07  0.025]]\n",
            "6 tensor([[1]]) tensor(1) 0.98 [[0.    0.978 0.006 0.004 0.    0.001 0.002 0.002 0.007 0.   ]]\n",
            "7 tensor([[3]]) tensor(3) 1.0 [[0.    0.    0.    0.996 0.    0.002 0.    0.    0.001 0.   ]]\n",
            "8 tensor([[1]]) tensor(1) 0.97 [[0.    0.974 0.003 0.005 0.001 0.002 0.002 0.004 0.008 0.001]]\n",
            "9 tensor([[4]]) tensor(4) 0.99 [[0.    0.    0.001 0.    0.994 0.    0.    0.    0.    0.005]]\n",
            "10 tensor([[3]]) tensor(3) 0.99 [[0.    0.    0.    0.988 0.    0.01  0.    0.    0.001 0.   ]]\n",
            "11 tensor([[8]]) tensor(5) 0.3 [[0.055 0.154 0.132 0.046 0.03  0.153 0.104 0.014 0.299 0.012]]\n",
            "12 tensor([[3]]) tensor(3) 1.0 [[0.    0.    0.    0.998 0.    0.002 0.    0.    0.    0.   ]]\n",
            "13 tensor([[6]]) tensor(6) 0.99 [[0.    0.    0.    0.    0.002 0.002 0.995 0.    0.001 0.   ]]\n",
            "14 tensor([[1]]) tensor(1) 0.98 [[0.    0.977 0.004 0.002 0.    0.001 0.002 0.002 0.011 0.001]]\n",
            "15 tensor([[7]]) tensor(7) 0.96 [[0.    0.    0.    0.    0.    0.    0.    0.962 0.    0.037]]\n",
            "16 tensor([[2]]) tensor(2) 0.96 [[0.    0.    0.96  0.03  0.001 0.    0.    0.006 0.002 0.001]]\n",
            "17 tensor([[8]]) tensor(8) 0.96 [[0.    0.004 0.006 0.017 0.001 0.01  0.001 0.001 0.956 0.005]]\n",
            "18 tensor([[6]]) tensor(6) 0.85 [[0.015 0.    0.004 0.001 0.004 0.072 0.853 0.    0.05  0.001]]\n",
            "19 tensor([[9]]) tensor(9) 0.7 [[0.    0.014 0.    0.027 0.014 0.023 0.    0.17  0.048 0.704]]\n",
            "20 tensor([[4]]) tensor(4) 0.99 [[0.    0.    0.001 0.    0.994 0.    0.    0.    0.    0.004]]\n",
            "21 tensor([[0]]) tensor(0) 1.0 [[0.998 0.    0.    0.    0.    0.002 0.    0.    0.    0.   ]]\n",
            "22 tensor([[9]]) tensor(9) 0.5 [[0.    0.003 0.006 0.001 0.403 0.001 0.001 0.053 0.027 0.504]]\n",
            "23 tensor([[1]]) tensor(1) 0.99 [[0.    0.991 0.005 0.    0.    0.    0.    0.001 0.003 0.   ]]\n",
            "24 tensor([[3]]) tensor(1) 0.38 [[0.015 0.219 0.11  0.382 0.004 0.116 0.014 0.077 0.04  0.022]]\n",
            "25 tensor([[2]]) tensor(2) 0.98 [[0.001 0.    0.985 0.012 0.    0.    0.    0.    0.002 0.   ]]\n",
            "26 tensor([[4]]) tensor(4) 0.78 [[0.    0.    0.    0.001 0.779 0.    0.    0.005 0.003 0.212]]\n",
            "27 tensor([[3]]) tensor(3) 1.0 [[0.    0.    0.    0.999 0.    0.001 0.    0.    0.    0.   ]]\n",
            "28 tensor([[7]]) tensor(2) 0.87 [[0.001 0.    0.115 0.011 0.    0.    0.    0.87  0.002 0.   ]]\n",
            "29 tensor([[7]]) tensor(7) 0.68 [[0.    0.014 0.004 0.007 0.019 0.002 0.    0.677 0.062 0.214]]\n",
            "30 tensor([[3]]) tensor(3) 0.66 [[0.    0.096 0.015 0.66  0.004 0.041 0.002 0.04  0.123 0.019]]\n",
            "31 tensor([[8]]) tensor(8) 0.66 [[0.005 0.123 0.084 0.083 0.001 0.015 0.021 0.002 0.661 0.004]]\n",
            "32 tensor([[6]]) tensor(6) 1.0 [[0.001 0.    0.001 0.    0.001 0.002 0.995 0.    0.001 0.   ]]\n",
            "33 tensor([[7]]) tensor(9) 0.69 [[0.    0.002 0.    0.006 0.002 0.001 0.    0.686 0.006 0.297]]\n",
            "34 tensor([[0]]) tensor(0) 0.94 [[0.94  0.    0.004 0.002 0.    0.021 0.008 0.    0.024 0.   ]]\n",
            "35 tensor([[5]]) tensor(5) 0.65 [[0.011 0.052 0.005 0.195 0.003 0.651 0.006 0.005 0.061 0.012]]\n",
            "36 tensor([[6]]) tensor(6) 1.0 [[0.    0.    0.001 0.    0.    0.    0.998 0.    0.    0.   ]]\n",
            "37 tensor([[0]]) tensor(0) 0.99 [[0.995 0.    0.    0.    0.    0.004 0.001 0.    0.    0.   ]]\n",
            "38 tensor([[7]]) tensor(7) 0.85 [[0.    0.004 0.035 0.009 0.008 0.    0.    0.85  0.007 0.088]]\n",
            "39 tensor([[6]]) tensor(6) 0.99 [[0.002 0.    0.003 0.    0.003 0.003 0.987 0.    0.002 0.   ]]\n",
            "40 tensor([[1]]) tensor(1) 1.0 [[0.    0.996 0.001 0.001 0.    0.    0.    0.001 0.002 0.   ]]\n",
            "41 tensor([[8]]) tensor(8) 0.97 [[0.    0.002 0.006 0.009 0.    0.009 0.001 0.    0.972 0.001]]\n",
            "42 tensor([[7]]) tensor(7) 0.93 [[0.    0.001 0.    0.001 0.    0.    0.    0.934 0.001 0.062]]\n",
            "43 tensor([[9]]) tensor(9) 0.76 [[0.    0.002 0.    0.011 0.011 0.005 0.    0.192 0.015 0.763]]\n",
            "44 tensor([[3]]) tensor(3) 0.83 [[0.    0.024 0.006 0.832 0.    0.023 0.    0.087 0.014 0.013]]\n",
            "45 tensor([[9]]) tensor(9) 0.93 [[0.    0.    0.    0.    0.032 0.    0.    0.032 0.001 0.935]]\n",
            "46 tensor([[8]]) tensor(8) 0.95 [[0.001 0.003 0.014 0.014 0.001 0.013 0.001 0.002 0.946 0.006]]\n",
            "47 tensor([[5]]) tensor(5) 0.98 [[0.003 0.    0.    0.004 0.    0.979 0.002 0.    0.011 0.   ]]\n",
            "48 tensor([[5]]) tensor(9) 0.52 [[0.001 0.014 0.001 0.37  0.001 0.525 0.    0.006 0.063 0.02 ]]\n",
            "49 tensor([[3]]) tensor(3) 0.93 [[0.    0.    0.    0.929 0.    0.07  0.    0.    0.001 0.   ]]\n",
            "50 tensor([[3]]) tensor(3) 0.98 [[0.    0.    0.001 0.984 0.    0.014 0.    0.    0.    0.   ]]\n",
            "51 tensor([[0]]) tensor(0) 1.0 [[0.999 0.    0.    0.    0.    0.001 0.    0.    0.    0.   ]]\n",
            "52 tensor([[7]]) tensor(7) 1.0 [[0.    0.    0.    0.    0.    0.    0.    0.996 0.    0.004]]\n",
            "53 tensor([[4]]) tensor(4) 0.7 [[0.    0.043 0.002 0.01  0.699 0.031 0.008 0.011 0.054 0.142]]\n",
            "54 tensor([[9]]) tensor(9) 0.83 [[0.    0.    0.    0.    0.076 0.    0.    0.093 0.001 0.83 ]]\n",
            "55 tensor([[8]]) tensor(8) 0.94 [[0.    0.001 0.004 0.019 0.001 0.002 0.    0.008 0.939 0.027]]\n",
            "56 tensor([[0]]) tensor(0) 1.0 [[0.997 0.    0.    0.    0.    0.003 0.    0.    0.    0.   ]]\n",
            "57 tensor([[9]]) tensor(9) 0.89 [[0.    0.    0.    0.    0.047 0.    0.    0.057 0.002 0.893]]\n",
            "58 tensor([[4]]) tensor(4) 0.97 [[0.    0.    0.    0.    0.968 0.    0.    0.    0.    0.032]]\n",
            "59 tensor([[1]]) tensor(1) 1.0 [[0.    0.996 0.002 0.    0.    0.    0.    0.    0.002 0.   ]]\n",
            "60 tensor([[4]]) tensor(4) 0.87 [[0.002 0.    0.073 0.    0.868 0.003 0.031 0.    0.003 0.02 ]]\n",
            "61 tensor([[4]]) tensor(4) 0.96 [[0.    0.001 0.001 0.    0.956 0.003 0.002 0.    0.015 0.022]]\n",
            "62 tensor([[6]]) tensor(6) 0.99 [[0.    0.    0.    0.    0.    0.006 0.989 0.    0.005 0.   ]]\n",
            "63 tensor([[0]]) tensor(0) 0.99 [[0.988 0.    0.    0.    0.    0.011 0.    0.    0.    0.   ]]\n",
            "64 tensor([[6]]) tensor(4) 0.43 [[0.055 0.    0.077 0.    0.388 0.021 0.43  0.    0.009 0.018]]\n",
            "65 tensor([[5]]) tensor(5) 0.51 [[0.002 0.027 0.004 0.079 0.011 0.509 0.022 0.001 0.336 0.009]]\n",
            "66 tensor([[6]]) tensor(6) 1.0 [[0.001 0.    0.    0.    0.    0.002 0.996 0.    0.001 0.   ]]\n",
            "67 tensor([[1]]) tensor(1) 1.0 [[0.    0.995 0.001 0.    0.    0.    0.    0.001 0.003 0.   ]]\n",
            "68 tensor([[0]]) tensor(0) 0.94 [[0.942 0.    0.03  0.002 0.    0.012 0.002 0.    0.012 0.   ]]\n",
            "69 tensor([[0]]) tensor(0) 0.99 [[0.989 0.    0.    0.001 0.    0.007 0.    0.    0.001 0.   ]]\n",
            "70 tensor([[2]]) tensor(1) 0.65 [[0.001 0.193 0.652 0.021 0.    0.003 0.031 0.001 0.098 0.   ]]\n",
            "71 tensor([[7]]) tensor(7) 0.92 [[0.    0.    0.    0.    0.    0.001 0.    0.916 0.    0.082]]\n",
            "72 tensor([[1]]) tensor(1) 0.98 [[0.    0.983 0.004 0.001 0.    0.    0.001 0.003 0.006 0.001]]\n",
            "73 tensor([[6]]) tensor(6) 0.99 [[0.001 0.    0.005 0.    0.002 0.001 0.986 0.    0.004 0.   ]]\n",
            "74 tensor([[3]]) tensor(3) 0.97 [[0.    0.    0.    0.97  0.    0.028 0.    0.    0.001 0.   ]]\n",
            "75 tensor([[0]]) tensor(0) 0.99 [[0.987 0.    0.    0.003 0.    0.01  0.    0.    0.    0.   ]]\n",
            "76 tensor([[2]]) tensor(2) 0.96 [[0.001 0.004 0.956 0.004 0.    0.    0.001 0.    0.034 0.   ]]\n",
            "77 tensor([[1]]) tensor(1) 0.99 [[0.    0.995 0.001 0.    0.    0.    0.    0.    0.003 0.   ]]\n",
            "78 tensor([[1]]) tensor(1) 0.97 [[0.    0.972 0.016 0.    0.    0.    0.    0.008 0.003 0.   ]]\n",
            "79 tensor([[7]]) tensor(7) 0.92 [[0.    0.    0.    0.    0.    0.    0.    0.92  0.    0.079]]\n",
            "80 tensor([[0]]) tensor(9) 0.59 [[0.595 0.001 0.022 0.062 0.001 0.153 0.032 0.001 0.133 0.002]]\n",
            "81 tensor([[0]]) tensor(0) 0.99 [[0.994 0.    0.    0.    0.    0.006 0.    0.    0.    0.   ]]\n",
            "82 tensor([[2]]) tensor(2) 1.0 [[0.    0.    0.999 0.001 0.    0.    0.    0.    0.    0.   ]]\n",
            "83 tensor([[6]]) tensor(6) 0.98 [[0.004 0.    0.004 0.    0.001 0.005 0.981 0.    0.005 0.   ]]\n",
            "84 tensor([[7]]) tensor(7) 0.99 [[0.    0.    0.    0.    0.    0.    0.    0.995 0.    0.005]]\n",
            "85 tensor([[8]]) tensor(8) 0.84 [[0.    0.002 0.005 0.121 0.001 0.015 0.    0.002 0.844 0.009]]\n",
            "86 tensor([[3]]) tensor(3) 0.78 [[0.    0.018 0.001 0.779 0.001 0.143 0.    0.02  0.019 0.019]]\n",
            "87 tensor([[9]]) tensor(9) 0.94 [[0.    0.    0.    0.    0.025 0.    0.    0.036 0.001 0.938]]\n",
            "88 tensor([[0]]) tensor(0) 1.0 [[0.999 0.    0.    0.    0.    0.001 0.    0.    0.    0.   ]]\n",
            "89 tensor([[4]]) tensor(4) 0.9 [[0.    0.    0.    0.    0.904 0.    0.    0.    0.    0.095]]\n",
            "90 tensor([[6]]) tensor(6) 1.0 [[0.    0.    0.    0.    0.    0.    0.999 0.    0.    0.   ]]\n",
            "91 tensor([[7]]) tensor(7) 0.96 [[0.    0.    0.    0.    0.    0.    0.    0.959 0.    0.041]]\n",
            "92 tensor([[4]]) tensor(4) 0.96 [[0.    0.    0.001 0.    0.958 0.    0.001 0.    0.001 0.039]]\n",
            "93 tensor([[6]]) tensor(6) 0.98 [[0.001 0.    0.001 0.    0.001 0.006 0.979 0.    0.011 0.   ]]\n",
            "94 tensor([[8]]) tensor(8) 0.99 [[0.    0.    0.002 0.003 0.    0.003 0.    0.    0.99  0.001]]\n",
            "95 tensor([[0]]) tensor(0) 1.0 [[0.998 0.    0.    0.    0.    0.002 0.    0.    0.    0.   ]]\n",
            "96 tensor([[7]]) tensor(7) 0.99 [[0.    0.    0.    0.    0.    0.    0.    0.988 0.    0.012]]\n",
            "97 tensor([[8]]) tensor(8) 0.98 [[0.    0.    0.005 0.009 0.    0.003 0.    0.    0.981 0.001]]\n",
            "98 tensor([[3]]) tensor(3) 0.98 [[0.    0.    0.    0.98  0.    0.018 0.    0.    0.001 0.   ]]\n",
            "99 tensor([[1]]) tensor(1) 0.96 [[0.    0.963 0.01  0.002 0.    0.    0.    0.021 0.004 0.   ]]\n"
          ]
        }
      ]
    },
    {
      "cell_type": "markdown",
      "source": [
        "Get output for a selected sample:"
      ],
      "metadata": {
        "id": "J5-lL05qKtp4"
      }
    },
    {
      "cell_type": "code",
      "source": [
        "sample = 22\n",
        "input = torch.nn.Parameter(x[sample])\n",
        "outputs = model(input[None])\n",
        "prob = F.softmax(outputs, dim=-1)\n",
        "pred = outputs.max(1, keepdim=True)[1]\n",
        "print(sample, pred, y[sample],round(prob.max().item(),2), np.round(prob.detach().numpy(),3))"
      ],
      "metadata": {
        "colab": {
          "base_uri": "https://localhost:8080/"
        },
        "id": "7-V2scW-2zY0",
        "outputId": "9d3b8845-ecfa-46f4-eae7-5521ae604656"
      },
      "execution_count": 28,
      "outputs": [
        {
          "output_type": "stream",
          "name": "stdout",
          "text": [
            "22 tensor([[9]]) tensor(9) 0.5 [[0.    0.003 0.006 0.001 0.403 0.001 0.001 0.053 0.027 0.504]]\n"
          ]
        }
      ]
    },
    {
      "cell_type": "code",
      "source": [
        "import matplotlib.pyplot as plt\n",
        "# calculate gradient of 6th output with respect to the input (param)\n",
        "desire_label_index = 4\n",
        "label_5_pred = prob[0, desire_label_index]\n",
        "label_5_pred.backward()\n",
        "\n",
        "grad_img = input.grad.view(28, 28)\n",
        "print(grad_img.sum())\n",
        "\n",
        "plt.subplot(1,3,1)\n",
        "plt.imshow(input[0].detach().numpy())\n",
        "\n",
        "plt.subplot(1,3,2)\n",
        "plt.imshow(grad_img)\n",
        "\n",
        "plt.subplot(1,3,3)\n",
        "fused_img = input[0].detach().numpy() + grad_img.detach().numpy()\n",
        "plt.imshow(fused_img)"
      ],
      "metadata": {
        "colab": {
          "base_uri": "https://localhost:8080/",
          "height": 183
        },
        "id": "xdNZLaA8ohw2",
        "outputId": "db88a106-20df-445d-d97c-251f93ab1e0f"
      },
      "execution_count": 27,
      "outputs": [
        {
          "output_type": "stream",
          "name": "stdout",
          "text": [
            "tensor(-0.2249)\n"
          ]
        },
        {
          "output_type": "execute_result",
          "data": {
            "text/plain": [
              "<matplotlib.image.AxesImage at 0x7f5181efbf10>"
            ]
          },
          "metadata": {},
          "execution_count": 27
        },
        {
          "output_type": "display_data",
          "data": {
            "text/plain": [
              "<Figure size 432x288 with 3 Axes>"
            ],
            "image/png": "[encoded data removed]"
          },
          "metadata": {
            "needs_background": "light"
          }
        }
      ]
    },
    {
      "cell_type": "markdown",
      "source": [
        "Fuse the gradient properly:"
      ],
      "metadata": {
        "id": "Mmqt3zeyLAPR"
      }
    },
    {
      "cell_type": "code",
      "source": [
        "import numpy as np\n",
        "\n",
        "def NormalizeData(data):\n",
        "    return (data - np.min(data)) / (np.max(data) - np.min(data))\n",
        "\n",
        "plt.subplot(1,3,1)\n",
        "plt.imshow(input[0].detach().numpy(), cmap='gray')\n",
        "\n",
        "plt.subplot(1,3,2)\n",
        "plt.imshow(grad_img)\n",
        "\n",
        "plt.subplot(1,3,3)\n",
        "fused_img = NormalizeData(input[0].detach().numpy()) + NormalizeData(grad_img.detach().numpy())\n",
        "plt.imshow(fused_img, cmap='gray')"
      ],
      "metadata": {
        "colab": {
          "base_uri": "https://localhost:8080/",
          "height": 166
        },
        "id": "gWO4NQ4UvTc3",
        "outputId": "eeed0371-9fd0-46fe-8c21-b56275ea3397"
      },
      "execution_count": 22,
      "outputs": [
        {
          "output_type": "execute_result",
          "data": {
            "text/plain": [
              "<matplotlib.image.AxesImage at 0x7f5182229850>"
            ]
          },
          "metadata": {},
          "execution_count": 22
        },
        {
          "output_type": "display_data",
          "data": {
            "text/plain": [
              "<Figure size 432x288 with 3 Axes>"
            ],
            "image/png": "[encoded data removed]"
          },
          "metadata": {
            "needs_background": "light"
          }
        }
      ]
    },
    {
      "cell_type": "markdown",
      "source": [
        "Prediction with fused gradient image to get desire prediction:"
      ],
      "metadata": {
        "id": "Cw_Y4uROLFTn"
      }
    },
    {
      "cell_type": "code",
      "source": [
        "outputs = model(torch.tensor(fused_img)[None, None])\n",
        "prob = F.softmax(outputs, dim=-1)\n",
        "pred = outputs.max(1, keepdim=True)[1]\n",
        "print(sample, pred, y[sample],round(prob.max().item(),2), np.round(prob.detach().numpy(),3))"
      ],
      "metadata": {
        "colab": {
          "base_uri": "https://localhost:8080/"
        },
        "id": "Wj948hn9owq1",
        "outputId": "655a22f1-1656-47de-e406-15757f61c820"
      },
      "execution_count": 23,
      "outputs": [
        {
          "output_type": "stream",
          "name": "stdout",
          "text": [
            "22 tensor([[4]]) tensor(9) 0.26 [[0.027 0.035 0.146 0.039 0.258 0.078 0.13  0.023 0.153 0.11 ]]\n"
          ]
        }
      ]
    },
    {
      "cell_type": "code",
      "source": [
        ""
      ],
      "metadata": {
        "id": "vhnxtjYUvCmI"
      },
      "execution_count": null,
      "outputs": []
    }
  ]
}