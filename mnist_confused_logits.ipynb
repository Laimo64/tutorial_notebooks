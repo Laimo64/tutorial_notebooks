{
  "nbformat": 4,
  "nbformat_minor": 0,
  "metadata": {
    "colab": {
      "name": "mnist_confused_logits.ipynb",
      "provenance": [],
      "collapsed_sections": [],
      "authorship_tag": "ABX9TyOnLwHGjqofqHTIQyAE5A1g",
      "include_colab_link": true
    },
    "kernelspec": {
      "name": "python3",
      "display_name": "Python 3"
    },
    "language_info": {
      "name": "python"
    },
    "accelerator": "GPU"
  },
  "cells": [
    {
      "cell_type": "markdown",
      "metadata": {
        "id": "view-in-github",
        "colab_type": "text"
      },
      "source": [
        "<a href=\"https://colab.research.google.com/github/mobarakol/tutorial_notebooks/blob/main/mnist_confused_logits.ipynb\" target=\"_parent\"><img src=\"https://colab.research.google.com/assets/colab-badge.svg\" alt=\"Open In Colab\"/></a>"
      ]
    },
    {
      "cell_type": "markdown",
      "source": [
        "Confused Logit: https://www.pytorchlightning.ai/blog/looking-inside-the-blackbox-how-to-trick-a-neural-network <br>\n",
        "https://pytorch-lightning-bolts.readthedocs.io/en/stable/vision_callbacks.html\n",
        "\n",
        "<img src=\"https://pytorch-lightning-bolts.readthedocs.io/en/stable/_images/confused_logit.png\">\n"
      ],
      "metadata": {
        "id": "HLALs6A7L6Vx"
      }
    },
    {
      "cell_type": "code",
      "execution_count": 30,
      "metadata": {
        "id": "w5eFsC_xfsCy"
      },
      "outputs": [],
      "source": [
        "import argparse\n",
        "import torch\n",
        "import torch.nn as nn\n",
        "import torch.nn.functional as F\n",
        "import torch.optim as optim\n",
        "from torchvision import datasets, transforms\n",
        "from torch.autograd import Variable\n",
        "\n",
        "args={}\n",
        "kwargs={}\n",
        "args['batch_size']=1000\n",
        "args['test_batch_size']=1000\n",
        "args['epochs']=10  #The number of Epochs is the number of times you go through the full dataset. \n",
        "args['lr']=0.01 #Learning rate is how fast it will decend. \n",
        "args['momentum']=0.5 #SGD momentum (default: 0.5) Momentum is a moving average of our gradients (helps to keep direction).\n",
        "\n",
        "args['seed']=1 #random seed\n",
        "args['log_interval']=10\n",
        "args['cuda']=False"
      ]
    },
    {
      "cell_type": "markdown",
      "source": [
        "Prepare dataset"
      ],
      "metadata": {
        "id": "rRP_f42PKc5O"
      }
    },
    {
      "cell_type": "code",
      "source": [
        "#load the data\n",
        "train_loader = torch.utils.data.DataLoader(\n",
        "    datasets.MNIST('../data', train=True, download=True,\n",
        "                   transform=transforms.Compose([\n",
        "                       transforms.ToTensor(),\n",
        "                       transforms.Normalize((0.1307,), (0.3081,))\n",
        "                   ])),\n",
        "    batch_size=args['batch_size'], shuffle=True, **kwargs)\n",
        "test_loader = torch.utils.data.DataLoader(\n",
        "    datasets.MNIST('../data', train=False, transform=transforms.Compose([\n",
        "                       transforms.ToTensor(),\n",
        "                       transforms.Normalize((0.1307,), (0.3081,))\n",
        "                   ])),\n",
        "    batch_size=args['test_batch_size'], shuffle=True, **kwargs)\n"
      ],
      "metadata": {
        "id": "qiwPQBylfyn2"
      },
      "execution_count": 31,
      "outputs": []
    },
    {
      "cell_type": "markdown",
      "source": [
        "Architecture and training script"
      ],
      "metadata": {
        "id": "bf9u4XrTKhel"
      }
    },
    {
      "cell_type": "code",
      "source": [
        "class Net(nn.Module):\n",
        "    #This defines the structure of the NN.\n",
        "    def __init__(self):\n",
        "        super(Net, self).__init__()\n",
        "        self.conv1 = nn.Conv2d(1, 10, kernel_size=5)\n",
        "        self.conv2 = nn.Conv2d(10, 20, kernel_size=5)\n",
        "        self.conv2_drop = nn.Dropout2d()  #Dropout\n",
        "        self.fc1 = nn.Linear(320, 50)\n",
        "        self.fc2 = nn.Linear(50, 10)\n",
        "\n",
        "    def forward(self, x):\n",
        "        x = F.relu(F.max_pool2d(self.conv1(x), 2)) \n",
        "        x = F.relu(F.max_pool2d(self.conv2_drop(self.conv2(x)), 2))\n",
        "        x = x.view(-1, 320)\n",
        "        x = F.relu(self.fc1(x))\n",
        "        x = F.dropout(x, training=self.training)\n",
        "        x = self.fc2(x)\n",
        "        return x\n",
        "\n",
        "\n",
        "\n",
        "def train(epoch):\n",
        "    model.train()\n",
        "    for batch_idx, (data, target) in enumerate(train_loader):\n",
        "        if args['cuda']:\n",
        "            data, target = data.cuda(), target.cuda()\n",
        "        #Variables in Pytorch are differenciable. \n",
        "        data, target = Variable(data), Variable(target)\n",
        "        #This will zero out the gradients for this batch. \n",
        "        optimizer.zero_grad()\n",
        "        output = model(data)\n",
        "        loss = F.cross_entropy(output, target)\n",
        "        #dloss/dx for every Variable \n",
        "        loss.backward()\n",
        "        #to do a one-step update on our parameter.\n",
        "        optimizer.step()\n",
        "        # #Print out the loss periodically. \n",
        "        # if batch_idx % args['log_interval'] == 0:\n",
        "        #     print('Train Epoch: {} [{}/{} ({:.0f}%)]\\tLoss: {:.6f}'.format(\n",
        "        #         epoch, batch_idx * len(data), len(train_loader.dataset),\n",
        "        #         100. * batch_idx / len(train_loader), loss.data[0]))\n",
        "\n",
        "def test():\n",
        "    model.eval()\n",
        "    test_loss = 0\n",
        "    correct = 0\n",
        "    for data, target in test_loader:\n",
        "        if args['cuda']:\n",
        "            data, target = data.cuda(), target.cuda()\n",
        "        data, target = Variable(data, volatile=True), Variable(target)\n",
        "        output = model(data)\n",
        "        test_loss += F.cross_entropy(output, target, size_average=False).item()\n",
        "        pred = output.max(1, keepdim=True)[1]\n",
        "        correct += pred.eq(target.data.view_as(pred)).long().cpu().sum()\n",
        "\n",
        "    test_loss /= len(test_loader.dataset)\n",
        "    return test_loss, correct\n",
        "\n",
        "\n"
      ],
      "metadata": {
        "id": "tF0PBqyPf6hF"
      },
      "execution_count": 32,
      "outputs": []
    },
    {
      "cell_type": "markdown",
      "source": [
        "Train the model"
      ],
      "metadata": {
        "id": "O5th2xsnKaPr"
      }
    },
    {
      "cell_type": "code",
      "source": [
        "model = Net()\n",
        "if args['cuda']:\n",
        "    model.cuda()\n",
        "\n",
        "optimizer = optim.SGD(model.parameters(), lr=args['lr'], momentum=args['momentum'])\n",
        "\n",
        "for epoch in range(1, args['epochs'] + 1):\n",
        "    train(epoch)\n",
        "    test_loss, correct = test()\n",
        "    print('Test set: Epoch:{}, Average loss: {:.4f}, Accuracy: {}/{} ({:.0f}%)'.format(\n",
        "        epoch, test_loss, correct, len(test_loader.dataset),\n",
        "        100. * correct / len(test_loader.dataset)))"
      ],
      "metadata": {
        "colab": {
          "base_uri": "https://localhost:8080/"
        },
        "id": "Cqg4zWdsgEjU",
        "outputId": "c6f7b4a8-a9f5-4f5c-c8e5-d77eefa96a9e"
      },
      "execution_count": 33,
      "outputs": [
        {
          "output_type": "stream",
          "name": "stderr",
          "text": [
            "/usr/local/lib/python3.7/dist-packages/ipykernel_launcher.py:50: UserWarning: volatile was removed and now has no effect. Use `with torch.no_grad():` instead.\n",
            "/usr/local/lib/python3.7/dist-packages/torch/nn/_reduction.py:42: UserWarning: size_average and reduce args will be deprecated, please use reduction='sum' instead.\n",
            "  warnings.warn(warning.format(ret))\n"
          ]
        },
        {
          "output_type": "stream",
          "name": "stdout",
          "text": [
            "Test set: Epoch:1, Average loss: 2.1123, Accuracy: 5293/10000 (53%)\n",
            "Test set: Epoch:2, Average loss: 1.2857, Accuracy: 7387/10000 (74%)\n",
            "Test set: Epoch:3, Average loss: 0.6766, Accuracy: 8419/10000 (84%)\n",
            "Test set: Epoch:4, Average loss: 0.4995, Accuracy: 8730/10000 (87%)\n",
            "Test set: Epoch:5, Average loss: 0.4099, Accuracy: 8889/10000 (89%)\n",
            "Test set: Epoch:6, Average loss: 0.3514, Accuracy: 9009/10000 (90%)\n",
            "Test set: Epoch:7, Average loss: 0.3151, Accuracy: 9095/10000 (91%)\n",
            "Test set: Epoch:8, Average loss: 0.2899, Accuracy: 9181/10000 (92%)\n",
            "Test set: Epoch:9, Average loss: 0.2652, Accuracy: 9237/10000 (92%)\n",
            "Test set: Epoch:10, Average loss: 0.2490, Accuracy: 9270/10000 (93%)\n"
          ]
        }
      ]
    },
    {
      "cell_type": "markdown",
      "source": [
        "Visualize first 100 samples and correcponding prediction"
      ],
      "metadata": {
        "id": "iW9rarnAKmy_"
      }
    },
    {
      "cell_type": "code",
      "source": [
        "import numpy as np\n",
        "\n",
        "train_loader = torch.utils.data.DataLoader(\n",
        "    datasets.MNIST('../data', train=True, download=True,\n",
        "                   transform=transforms.Compose([\n",
        "                       transforms.ToTensor(),\n",
        "                       transforms.Normalize((0.1307,), (0.3081,))\n",
        "                   ])),\n",
        "    batch_size=args['batch_size'], shuffle=False, **kwargs)\n",
        "\n",
        "\n",
        "x, y = next(iter(train_loader))\n",
        "#x = x.view(x.size(0), -1)\n",
        "sample = 13\n",
        "for sample in range(100):\n",
        "    input = torch.nn.Parameter(x[sample])\n",
        "    outputs = model(input[None])\n",
        "    prob = F.softmax(outputs, dim=-1)\n",
        "    pred = outputs.max(1, keepdim=True)[1]\n",
        "    print(sample, pred, y[sample],round(prob.max().item(),2), np.round(prob.detach().numpy(),3))\n",
        "#print(preds,'\\n', prob)"
      ],
      "metadata": {
        "colab": {
          "base_uri": "https://localhost:8080/"
        },
        "id": "Ik_HA6_Xgo9c",
        "outputId": "1ea8b3c7-20aa-48eb-864f-b4c2569a8db6"
      },
      "execution_count": 34,
      "outputs": [
        {
          "output_type": "stream",
          "name": "stdout",
          "text": [
            "0 tensor([[3]]) tensor(5) 0.72 [[0.    0.    0.007 0.72  0.    0.269 0.    0.001 0.003 0.   ]]\n",
            "1 tensor([[0]]) tensor(0) 1.0 [[1. 0. 0. 0. 0. 0. 0. 0. 0. 0.]]\n",
            "2 tensor([[4]]) tensor(4) 0.89 [[0.    0.    0.002 0.001 0.89  0.001 0.003 0.003 0.002 0.098]]\n",
            "3 tensor([[1]]) tensor(1) 0.98 [[0.    0.981 0.002 0.003 0.    0.    0.001 0.002 0.011 0.   ]]\n",
            "4 tensor([[9]]) tensor(9) 0.89 [[0.    0.    0.    0.    0.099 0.001 0.    0.006 0.001 0.893]]\n",
            "5 tensor([[2]]) tensor(2) 0.71 [[0.005 0.007 0.712 0.095 0.002 0.002 0.001 0.048 0.114 0.013]]\n",
            "6 tensor([[1]]) tensor(1) 0.96 [[0.    0.961 0.006 0.021 0.    0.001 0.002 0.001 0.007 0.001]]\n",
            "7 tensor([[3]]) tensor(3) 1.0 [[0.    0.    0.    0.999 0.    0.001 0.    0.    0.    0.   ]]\n",
            "8 tensor([[1]]) tensor(1) 0.96 [[0.    0.963 0.001 0.017 0.001 0.004 0.001 0.003 0.007 0.004]]\n",
            "9 tensor([[4]]) tensor(4) 0.98 [[0.    0.    0.    0.    0.983 0.    0.001 0.    0.    0.015]]\n",
            "10 tensor([[3]]) tensor(3) 1.0 [[0.    0.    0.    0.997 0.    0.003 0.    0.    0.    0.   ]]\n",
            "11 tensor([[5]]) tensor(5) 0.32 [[0.032 0.127 0.087 0.016 0.012 0.315 0.232 0.007 0.167 0.006]]\n",
            "12 tensor([[3]]) tensor(3) 1.0 [[0.    0.    0.    0.998 0.    0.001 0.    0.    0.    0.   ]]\n",
            "13 tensor([[6]]) tensor(6) 0.99 [[0.    0.    0.001 0.    0.002 0.001 0.994 0.    0.001 0.   ]]\n",
            "14 tensor([[1]]) tensor(1) 0.98 [[0.    0.983 0.002 0.003 0.    0.001 0.002 0.001 0.006 0.   ]]\n",
            "15 tensor([[7]]) tensor(7) 0.94 [[0.    0.    0.    0.    0.    0.    0.    0.938 0.    0.062]]\n",
            "16 tensor([[2]]) tensor(2) 0.94 [[0.001 0.    0.936 0.035 0.    0.    0.    0.019 0.007 0.001]]\n",
            "17 tensor([[8]]) tensor(8) 0.97 [[0.    0.007 0.005 0.003 0.001 0.011 0.002 0.001 0.966 0.004]]\n",
            "18 tensor([[6]]) tensor(6) 0.68 [[0.045 0.003 0.005 0.007 0.007 0.185 0.681 0.001 0.062 0.003]]\n",
            "19 tensor([[9]]) tensor(9) 0.79 [[0.    0.023 0.    0.015 0.039 0.038 0.    0.051 0.046 0.788]]\n",
            "20 tensor([[4]]) tensor(4) 0.98 [[0.    0.    0.001 0.    0.979 0.    0.013 0.    0.    0.007]]\n",
            "21 tensor([[0]]) tensor(0) 1.0 [[0.997 0.    0.    0.    0.    0.003 0.    0.    0.    0.   ]]\n",
            "22 tensor([[9]]) tensor(9) 0.58 [[0.    0.002 0.001 0.002 0.336 0.006 0.001 0.045 0.028 0.579]]\n",
            "23 tensor([[1]]) tensor(1) 0.98 [[0.    0.977 0.001 0.005 0.    0.    0.    0.004 0.011 0.   ]]\n",
            "24 tensor([[3]]) tensor(1) 0.34 [[0.008 0.276 0.177 0.338 0.001 0.12  0.024 0.014 0.038 0.003]]\n",
            "25 tensor([[2]]) tensor(2) 0.95 [[0.    0.    0.947 0.042 0.    0.    0.    0.    0.011 0.   ]]\n",
            "26 tensor([[4]]) tensor(4) 0.72 [[0.    0.    0.    0.001 0.725 0.002 0.    0.007 0.002 0.263]]\n",
            "27 tensor([[3]]) tensor(3) 1.0 [[0. 0. 0. 1. 0. 0. 0. 0. 0. 0.]]\n",
            "28 tensor([[7]]) tensor(2) 0.94 [[0.    0.    0.047 0.012 0.    0.    0.    0.941 0.    0.   ]]\n",
            "29 tensor([[7]]) tensor(7) 0.72 [[0.002 0.027 0.007 0.009 0.019 0.003 0.001 0.722 0.073 0.136]]\n",
            "30 tensor([[3]]) tensor(3) 0.79 [[0.    0.131 0.01  0.795 0.002 0.013 0.    0.008 0.033 0.008]]\n",
            "31 tensor([[8]]) tensor(8) 0.67 [[0.002 0.093 0.111 0.096 0.    0.007 0.003 0.011 0.669 0.006]]\n",
            "32 tensor([[6]]) tensor(6) 0.99 [[0.001 0.    0.003 0.    0.001 0.002 0.994 0.    0.    0.   ]]\n",
            "33 tensor([[7]]) tensor(9) 0.86 [[0.    0.004 0.    0.01  0.001 0.    0.    0.862 0.003 0.12 ]]\n",
            "34 tensor([[0]]) tensor(0) 0.95 [[0.948 0.    0.005 0.006 0.    0.023 0.006 0.    0.012 0.   ]]\n",
            "35 tensor([[5]]) tensor(5) 0.84 [[0.012 0.038 0.004 0.041 0.011 0.836 0.012 0.005 0.028 0.014]]\n",
            "36 tensor([[6]]) tensor(6) 1.0 [[0.    0.    0.001 0.    0.    0.    0.999 0.    0.    0.   ]]\n",
            "37 tensor([[0]]) tensor(0) 1.0 [[0.997 0.    0.    0.    0.    0.002 0.    0.    0.    0.   ]]\n",
            "38 tensor([[7]]) tensor(7) 0.83 [[0.    0.007 0.045 0.019 0.006 0.    0.    0.832 0.014 0.077]]\n",
            "39 tensor([[6]]) tensor(6) 0.99 [[0.001 0.    0.004 0.    0.001 0.001 0.992 0.    0.001 0.   ]]\n",
            "40 tensor([[1]]) tensor(1) 1.0 [[0.    0.996 0.    0.002 0.    0.    0.    0.    0.    0.   ]]\n",
            "41 tensor([[8]]) tensor(8) 0.98 [[0.    0.002 0.002 0.002 0.    0.007 0.001 0.    0.984 0.001]]\n",
            "42 tensor([[7]]) tensor(7) 0.93 [[0.    0.002 0.001 0.002 0.    0.    0.    0.931 0.001 0.064]]\n",
            "43 tensor([[9]]) tensor(9) 0.84 [[0.    0.006 0.    0.009 0.024 0.013 0.    0.087 0.019 0.841]]\n",
            "44 tensor([[3]]) tensor(3) 0.93 [[0.    0.014 0.007 0.93  0.    0.006 0.    0.008 0.027 0.008]]\n",
            "45 tensor([[9]]) tensor(9) 0.96 [[0.    0.    0.    0.    0.028 0.    0.    0.014 0.    0.957]]\n",
            "46 tensor([[8]]) tensor(8) 0.97 [[0.    0.002 0.004 0.004 0.    0.013 0.001 0.001 0.97  0.003]]\n",
            "47 tensor([[5]]) tensor(5) 1.0 [[0.    0.    0.    0.    0.    0.997 0.001 0.    0.002 0.   ]]\n",
            "48 tensor([[5]]) tensor(9) 0.65 [[0.001 0.005 0.002 0.285 0.001 0.646 0.001 0.006 0.041 0.012]]\n",
            "49 tensor([[3]]) tensor(3) 0.99 [[0.    0.    0.    0.991 0.    0.008 0.    0.    0.    0.   ]]\n",
            "50 tensor([[3]]) tensor(3) 0.98 [[0.    0.    0.001 0.982 0.    0.016 0.    0.    0.    0.   ]]\n",
            "51 tensor([[0]]) tensor(0) 1.0 [[1. 0. 0. 0. 0. 0. 0. 0. 0. 0.]]\n",
            "52 tensor([[7]]) tensor(7) 1.0 [[0.    0.    0.    0.    0.    0.    0.    0.999 0.    0.001]]\n",
            "53 tensor([[4]]) tensor(4) 0.66 [[0.    0.005 0.    0.004 0.662 0.021 0.001 0.007 0.009 0.292]]\n",
            "54 tensor([[9]]) tensor(9) 0.86 [[0.    0.    0.    0.    0.105 0.001 0.    0.032 0.001 0.861]]\n",
            "55 tensor([[8]]) tensor(8) 0.96 [[0.    0.001 0.001 0.002 0.001 0.008 0.    0.004 0.962 0.022]]\n",
            "56 tensor([[0]]) tensor(0) 1.0 [[0.999 0.    0.    0.    0.    0.001 0.    0.    0.    0.   ]]\n",
            "57 tensor([[9]]) tensor(9) 0.91 [[0.    0.    0.    0.    0.049 0.001 0.    0.035 0.001 0.914]]\n",
            "58 tensor([[4]]) tensor(4) 0.96 [[0.    0.    0.    0.    0.963 0.    0.    0.    0.    0.036]]\n",
            "59 tensor([[1]]) tensor(1) 0.99 [[0.    0.988 0.001 0.002 0.    0.    0.001 0.001 0.007 0.   ]]\n",
            "60 tensor([[4]]) tensor(4) 0.88 [[0.    0.    0.015 0.    0.878 0.001 0.016 0.003 0.006 0.08 ]]\n",
            "61 tensor([[4]]) tensor(4) 0.93 [[0.    0.    0.    0.    0.934 0.003 0.001 0.    0.003 0.058]]\n",
            "62 tensor([[6]]) tensor(6) 0.97 [[0.001 0.    0.    0.    0.    0.021 0.973 0.    0.006 0.   ]]\n",
            "63 tensor([[0]]) tensor(0) 0.98 [[0.981 0.    0.001 0.003 0.    0.013 0.    0.001 0.001 0.   ]]\n",
            "64 tensor([[6]]) tensor(4) 0.58 [[0.005 0.    0.015 0.    0.356 0.004 0.583 0.001 0.007 0.029]]\n",
            "65 tensor([[5]]) tensor(5) 0.63 [[0.003 0.01  0.001 0.001 0.008 0.629 0.05  0.001 0.294 0.004]]\n",
            "66 tensor([[6]]) tensor(6) 0.99 [[0.003 0.    0.    0.    0.    0.006 0.991 0.    0.    0.   ]]\n",
            "67 tensor([[1]]) tensor(1) 0.99 [[0.    0.994 0.    0.002 0.    0.    0.    0.001 0.002 0.   ]]\n",
            "68 tensor([[0]]) tensor(0) 0.95 [[0.948 0.    0.015 0.002 0.    0.033 0.    0.    0.001 0.   ]]\n",
            "69 tensor([[0]]) tensor(0) 0.99 [[0.989 0.    0.001 0.002 0.    0.007 0.    0.    0.001 0.   ]]\n",
            "70 tensor([[2]]) tensor(1) 0.78 [[0.    0.149 0.785 0.006 0.    0.001 0.053 0.    0.006 0.   ]]\n",
            "71 tensor([[7]]) tensor(7) 0.97 [[0.    0.    0.    0.    0.    0.    0.    0.974 0.    0.025]]\n",
            "72 tensor([[1]]) tensor(1) 0.99 [[0.    0.986 0.003 0.003 0.    0.    0.002 0.002 0.003 0.   ]]\n",
            "73 tensor([[6]]) tensor(6) 0.99 [[0.    0.001 0.005 0.    0.    0.001 0.992 0.    0.001 0.   ]]\n",
            "74 tensor([[3]]) tensor(3) 0.99 [[0.    0.    0.    0.99  0.    0.009 0.    0.    0.    0.   ]]\n",
            "75 tensor([[0]]) tensor(0) 0.99 [[0.989 0.    0.001 0.005 0.    0.004 0.    0.    0.    0.   ]]\n",
            "76 tensor([[2]]) tensor(2) 0.89 [[0.    0.008 0.892 0.045 0.    0.    0.001 0.    0.054 0.   ]]\n",
            "77 tensor([[1]]) tensor(1) 0.99 [[0.    0.992 0.    0.002 0.    0.    0.    0.001 0.004 0.   ]]\n",
            "78 tensor([[1]]) tensor(1) 0.97 [[0.    0.97  0.004 0.01  0.    0.    0.    0.009 0.006 0.   ]]\n",
            "79 tensor([[7]]) tensor(7) 0.95 [[0.    0.    0.    0.    0.    0.    0.    0.947 0.    0.052]]\n",
            "80 tensor([[0]]) tensor(9) 0.57 [[0.567 0.    0.033 0.108 0.    0.228 0.01  0.002 0.052 0.   ]]\n",
            "81 tensor([[0]]) tensor(0) 1.0 [[0.995 0.    0.    0.    0.    0.004 0.    0.    0.    0.   ]]\n",
            "82 tensor([[2]]) tensor(2) 1.0 [[0.    0.    0.999 0.001 0.    0.    0.    0.    0.    0.   ]]\n",
            "83 tensor([[6]]) tensor(6) 0.98 [[0.007 0.001 0.006 0.    0.    0.003 0.981 0.    0.002 0.   ]]\n",
            "84 tensor([[7]]) tensor(7) 1.0 [[0.    0.    0.    0.    0.    0.    0.    0.998 0.    0.002]]\n",
            "85 tensor([[8]]) tensor(8) 0.85 [[0.    0.008 0.01  0.12  0.    0.008 0.    0.002 0.848 0.003]]\n",
            "86 tensor([[3]]) tensor(3) 0.92 [[0.    0.005 0.001 0.92  0.    0.035 0.    0.013 0.011 0.014]]\n",
            "87 tensor([[9]]) tensor(9) 0.95 [[0.    0.    0.    0.    0.015 0.    0.    0.034 0.001 0.95 ]]\n",
            "88 tensor([[0]]) tensor(0) 1.0 [[0.999 0.    0.    0.    0.    0.001 0.    0.    0.    0.   ]]\n",
            "89 tensor([[4]]) tensor(4) 0.96 [[0.    0.    0.    0.    0.956 0.    0.    0.    0.    0.044]]\n",
            "90 tensor([[6]]) tensor(6) 1.0 [[0. 0. 0. 0. 0. 0. 1. 0. 0. 0.]]\n",
            "91 tensor([[7]]) tensor(7) 0.99 [[0.    0.    0.    0.    0.    0.    0.    0.987 0.    0.013]]\n",
            "92 tensor([[4]]) tensor(4) 0.97 [[0.    0.    0.    0.    0.974 0.001 0.002 0.    0.    0.023]]\n",
            "93 tensor([[6]]) tensor(6) 0.98 [[0.003 0.001 0.003 0.    0.    0.006 0.981 0.    0.006 0.   ]]\n",
            "94 tensor([[8]]) tensor(8) 0.99 [[0.    0.    0.001 0.    0.    0.008 0.    0.    0.988 0.001]]\n",
            "95 tensor([[0]]) tensor(0) 1.0 [[0.998 0.    0.    0.    0.    0.001 0.    0.    0.    0.   ]]\n",
            "96 tensor([[7]]) tensor(7) 0.99 [[0.    0.    0.    0.    0.    0.    0.    0.993 0.    0.007]]\n",
            "97 tensor([[8]]) tensor(8) 0.99 [[0.    0.001 0.002 0.001 0.    0.004 0.    0.    0.991 0.   ]]\n",
            "98 tensor([[3]]) tensor(3) 0.99 [[0.    0.    0.    0.992 0.    0.008 0.    0.    0.    0.   ]]\n",
            "99 tensor([[1]]) tensor(1) 0.97 [[0.    0.969 0.001 0.012 0.001 0.    0.    0.012 0.004 0.001]]\n"
          ]
        }
      ]
    },
    {
      "cell_type": "markdown",
      "source": [
        "Get output for a selected sample:"
      ],
      "metadata": {
        "id": "J5-lL05qKtp4"
      }
    },
    {
      "cell_type": "code",
      "source": [
        "sample = 22\n",
        "input = torch.nn.Parameter(x[sample])\n",
        "outputs = model(input[None])\n",
        "prob = F.softmax(outputs, dim=-1)\n",
        "pred = outputs.max(1, keepdim=True)[1]\n",
        "print(sample, pred, y[sample],round(prob.max().item(),2), np.round(prob.detach().numpy(),3))"
      ],
      "metadata": {
        "colab": {
          "base_uri": "https://localhost:8080/"
        },
        "id": "7-V2scW-2zY0",
        "outputId": "f8487c7f-f531-4b3b-c2b3-b19afb7e8e29"
      },
      "execution_count": 35,
      "outputs": [
        {
          "output_type": "stream",
          "name": "stdout",
          "text": [
            "22 tensor([[9]]) tensor(9) 0.58 [[0.    0.002 0.001 0.002 0.336 0.006 0.001 0.045 0.028 0.579]]\n"
          ]
        }
      ]
    },
    {
      "cell_type": "code",
      "source": [
        "import matplotlib.pyplot as plt\n",
        "# calculate gradient of 6th output with respect to the input (param)\n",
        "desire_label_index = 4\n",
        "label_5_pred = prob[0, desire_label_index]\n",
        "label_5_pred.backward()\n",
        "\n",
        "grad_img = input.grad.view(28, 28)\n",
        "print(grad_img.sum())\n",
        "\n",
        "plt.subplot(1,3,1)\n",
        "plt.imshow(input[0].detach().numpy())\n",
        "\n",
        "plt.subplot(1,3,2)\n",
        "plt.imshow(grad_img)\n",
        "\n",
        "plt.subplot(1,3,3)\n",
        "fused_img = input[0].detach().numpy() + grad_img.detach().numpy()\n",
        "plt.imshow(fused_img)"
      ],
      "metadata": {
        "colab": {
          "base_uri": "https://localhost:8080/",
          "height": 183
        },
        "id": "xdNZLaA8ohw2",
        "outputId": "d79a5b90-e265-427c-cc95-6216f2420bea"
      },
      "execution_count": 36,
      "outputs": [
        {
          "output_type": "stream",
          "name": "stdout",
          "text": [
            "tensor(-0.2223)\n"
          ]
        },
        {
          "output_type": "execute_result",
          "data": {
            "text/plain": [
              "<matplotlib.image.AxesImage at 0x7f5181eda490>"
            ]
          },
          "metadata": {},
          "execution_count": 36
        },
        {
          "output_type": "display_data",
          "data": {
            "text/plain": [
              "<Figure size 432x288 with 3 Axes>"
            ],
            "image/png": "[encoded data removed]"
          },
          "metadata": {
            "needs_background": "light"
          }
        }
      ]
    },
    {
      "cell_type": "markdown",
      "source": [
        "Fuse the gradient properly:"
      ],
      "metadata": {
        "id": "Mmqt3zeyLAPR"
      }
    },
    {
      "cell_type": "code",
      "source": [
        "import numpy as np\n",
        "\n",
        "def NormalizeData(data):\n",
        "    return (data - np.min(data)) / (np.max(data) - np.min(data))\n",
        "\n",
        "plt.subplot(1,3,1)\n",
        "plt.imshow(input[0].detach().numpy(), cmap='gray')\n",
        "\n",
        "plt.subplot(1,3,2)\n",
        "plt.imshow(grad_img)\n",
        "\n",
        "plt.subplot(1,3,3)\n",
        "fused_img = NormalizeData(input[0].detach().numpy()) + NormalizeData(grad_img.detach().numpy())\n",
        "plt.imshow(fused_img, cmap='gray')"
      ],
      "metadata": {
        "colab": {
          "base_uri": "https://localhost:8080/",
          "height": 166
        },
        "id": "gWO4NQ4UvTc3",
        "outputId": "0094d1b9-b994-461e-8d2c-9c6d1345d377"
      },
      "execution_count": 37,
      "outputs": [
        {
          "output_type": "execute_result",
          "data": {
            "text/plain": [
              "<matplotlib.image.AxesImage at 0x7f5181b7b950>"
            ]
          },
          "metadata": {},
          "execution_count": 37
        },
        {
          "output_type": "display_data",
          "data": {
            "text/plain": [
              "<Figure size 432x288 with 3 Axes>"
            ],
            "image/png": "[encoded data removed]"
          },
          "metadata": {
            "needs_background": "light"
          }
        }
      ]
    },
    {
      "cell_type": "markdown",
      "source": [
        "Prediction with fused gradient image to get desire prediction:"
      ],
      "metadata": {
        "id": "Cw_Y4uROLFTn"
      }
    },
    {
      "cell_type": "code",
      "source": [
        "outputs = model(torch.tensor(fused_img)[None, None])\n",
        "prob = F.softmax(outputs, dim=-1)\n",
        "pred = outputs.max(1, keepdim=True)[1]\n",
        "print(sample, pred, y[sample],round(prob.max().item(),2), np.round(prob.detach().numpy(),3))"
      ],
      "metadata": {
        "colab": {
          "base_uri": "https://localhost:8080/"
        },
        "id": "Wj948hn9owq1",
        "outputId": "655a22f1-1656-47de-e406-15757f61c820"
      },
      "execution_count": null,
      "outputs": [
        {
          "output_type": "stream",
          "name": "stdout",
          "text": [
            "22 tensor([[4]]) tensor(9) 0.26 [[0.027 0.035 0.146 0.039 0.258 0.078 0.13  0.023 0.153 0.11 ]]\n"
          ]
        }
      ]
    },
    {
      "cell_type": "markdown",
      "source": [
        "Fuse as lib: https://www.pytorchlightning.ai/blog/looking-inside-the-blackbox-how-to-trick-a-neural-network"
      ],
      "metadata": {
        "id": "PlWrwzGHMuF3"
      }
    },
    {
      "cell_type": "code",
      "source": [
        "import numpy as np\n",
        "\n",
        "def NormalizeData(data):\n",
        "    return (data - np.min(data)) / (np.max(data) - np.min(data))\n",
        "\n",
        "plt.subplot(1,3,1)\n",
        "plt.imshow(input[0].detach().numpy(), cmap='gray')\n",
        "\n",
        "plt.subplot(1,3,2)\n",
        "plt.imshow(grad_img)\n",
        "\n",
        "plt.subplot(1,3,3)\n",
        "fused_img = input[0].detach().numpy() + 2 * grad_img.detach().numpy()\n",
        "plt.imshow(fused_img, cmap='gray')"
      ],
      "metadata": {
        "id": "vhnxtjYUvCmI",
        "colab": {
          "base_uri": "https://localhost:8080/",
          "height": 166
        },
        "outputId": "6c572345-80aa-4255-bb96-c19f3e91c61c"
      },
      "execution_count": 38,
      "outputs": [
        {
          "output_type": "execute_result",
          "data": {
            "text/plain": [
              "<matplotlib.image.AxesImage at 0x7f5181c49990>"
            ]
          },
          "metadata": {},
          "execution_count": 38
        },
        {
          "output_type": "display_data",
          "data": {
            "text/plain": [
              "<Figure size 432x288 with 3 Axes>"
            ],
            "image/png": "[encoded data removed]"
          },
          "metadata": {
            "needs_background": "light"
          }
        }
      ]
    },
    {
      "cell_type": "code",
      "source": [
        "outputs = model(torch.tensor(fused_img)[None, None])\n",
        "prob = F.softmax(outputs, dim=-1)\n",
        "pred = outputs.max(1, keepdim=True)[1]\n",
        "print(sample, pred, y[sample],round(prob.max().item(),2), np.round(prob.detach().numpy(),3))"
      ],
      "metadata": {
        "colab": {
          "base_uri": "https://localhost:8080/"
        },
        "id": "7wJxE0M5NNbS",
        "outputId": "10ecacb0-c12b-4f11-a06b-4f8106f45695"
      },
      "execution_count": 39,
      "outputs": [
        {
          "output_type": "stream",
          "name": "stdout",
          "text": [
            "22 tensor([[4]]) tensor(9) 0.48 [[0.    0.001 0.001 0.001 0.484 0.006 0.002 0.025 0.023 0.456]]\n"
          ]
        }
      ]
    },
    {
      "cell_type": "code",
      "source": [
        ""
      ],
      "metadata": {
        "id": "y7mOS8nbNT-h"
      },
      "execution_count": null,
      "outputs": []
    }
  ]
}