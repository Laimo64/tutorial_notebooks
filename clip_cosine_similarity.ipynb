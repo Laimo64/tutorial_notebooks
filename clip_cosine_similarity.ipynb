{
  "nbformat": 4,
  "nbformat_minor": 0,
  "metadata": {
    "colab": {
      "provenance": [],
      "gpuType": "T4",
      "include_colab_link": true
    },
    "kernelspec": {
      "name": "python3",
      "display_name": "Python 3"
    },
    "language_info": {
      "name": "python"
    },
    "accelerator": "GPU"
  },
  "cells": [
    {
      "cell_type": "markdown",
      "metadata": {
        "id": "view-in-github",
        "colab_type": "text"
      },
      "source": [
        "<a href=\"https://colab.research.google.com/github/mobarakol/tutorial_notebooks/blob/main/clip_cosine_similarity.ipynb\" target=\"_parent\"><img src=\"https://colab.research.google.com/assets/colab-badge.svg\" alt=\"Open In Colab\"/></a>"
      ]
    },
    {
      "cell_type": "markdown",
      "source": [
        "Endovis 2018"
      ],
      "metadata": {
        "id": "5963_eNSztPW"
      }
    },
    {
      "cell_type": "code",
      "execution_count": 1,
      "metadata": {
        "id": "OIqI5zG1jHw_"
      },
      "outputs": [],
      "source": [
        "import gdown\n",
        "\n",
        "#endovis18 dataset\n",
        "url = 'https://drive.google.com/uc?id=1lRNAgC-6QgIQd-vum-jr523tYPr6yNM7'\n",
        "gdown.download(url,'endovis18.zip',quiet=True)\n",
        "!unzip -q endovis18.zip\n",
        "\n",
        "url = 'https://drive.google.com/uc?id=1hY6jXjREiDXGx25bSdzNYb58amYkTzCL'\n",
        "gdown.download(url,'paper_fig.zip',quiet=True)\n",
        "!unzip -q paper_fig.zip"
      ]
    },
    {
      "cell_type": "markdown",
      "source": [
        "Using OpenCLIP"
      ],
      "metadata": {
        "id": "v1sCeG8155Qn"
      }
    },
    {
      "cell_type": "code",
      "source": [
        "!pip -q install git+https://github.com/openai/CLIP.git\n",
        "!pip -q install open_clip_torch\n",
        "!pip -q install sentence_transformers"
      ],
      "metadata": {
        "colab": {
          "base_uri": "https://localhost:8080/"
        },
        "id": "kJuqXFOVMeWu",
        "outputId": "fe7b37d3-9de5-4f65-88ab-ce8a02b6e329"
      },
      "execution_count": 5,
      "outputs": [
        {
          "output_type": "stream",
          "name": "stdout",
          "text": [
            "  Preparing metadata (setup.py) ... \u001b[?25l\u001b[?25hdone\n",
            "\u001b[2K     \u001b[90m━━━━━━━━━━━━━━━━━━━━━━━━━━━━━━━━━━━━━━━━\u001b[0m \u001b[32m53.4/53.4 kB\u001b[0m \u001b[31m961.6 kB/s\u001b[0m eta \u001b[36m0:00:00\u001b[0m\n",
            "\u001b[?25h  Building wheel for clip (setup.py) ... \u001b[?25l\u001b[?25hdone\n",
            "\u001b[2K     \u001b[90m━━━━━━━━━━━━━━━━━━━━━━━━━━━━━━━━━━━━━━━━\u001b[0m \u001b[32m1.5/1.5 MB\u001b[0m \u001b[31m6.4 MB/s\u001b[0m eta \u001b[36m0:00:00\u001b[0m\n",
            "\u001b[2K     \u001b[90m━━━━━━━━━━━━━━━━━━━━━━━━━━━━━━━━━━━━━━━━\u001b[0m \u001b[32m1.3/1.3 MB\u001b[0m \u001b[31m55.1 MB/s\u001b[0m eta \u001b[36m0:00:00\u001b[0m\n",
            "\u001b[2K     \u001b[90m━━━━━━━━━━━━━━━━━━━━━━━━━━━━━━━━━━━━━━━━\u001b[0m \u001b[32m2.2/2.2 MB\u001b[0m \u001b[31m80.4 MB/s\u001b[0m eta \u001b[36m0:00:00\u001b[0m\n",
            "\u001b[2K     \u001b[90m━━━━━━━━━━━━━━━━━━━━━━━━━━━━━━━━━━━━━━━━\u001b[0m \u001b[32m86.0/86.0 kB\u001b[0m \u001b[31m1.2 MB/s\u001b[0m eta \u001b[36m0:00:00\u001b[0m\n",
            "\u001b[?25h  Preparing metadata (setup.py) ... \u001b[?25l\u001b[?25hdone\n",
            "  Building wheel for sentence_transformers (setup.py) ... \u001b[?25l\u001b[?25hdone\n"
          ]
        }
      ]
    },
    {
      "cell_type": "code",
      "source": [
        "import torch\n",
        "import open_clip\n",
        "import cv2\n",
        "from sentence_transformers import util\n",
        "from PIL import Image\n",
        "import cv2\n",
        "from glob import glob\n",
        "import numpy as np\n",
        "\n",
        "# Load images\n",
        "img1_path = '/content/paper_fig/img1.png'\n",
        "img2_path= '/content/endovis18/seq_1/left_frames/frame000.png'\n",
        "\n",
        "device = \"cuda\" if torch.cuda.is_available() else \"cpu\"\n",
        "model, _, preprocess = open_clip.create_model_and_transforms('ViT-B-16-plus-240', pretrained=\"laion400m_e32\")\n",
        "model.to(device)\n",
        "def imageEncoder(img):\n",
        "    img1 = Image.fromarray(img).convert('RGB')\n",
        "    img1 = preprocess(img1).unsqueeze(0).to(device)\n",
        "    img1 = model.encode_image(img1)\n",
        "    return img1\n",
        "def generateScore(image1, image2):\n",
        "    test_img = cv2.imread(img1_path, cv2.IMREAD_UNCHANGED)\n",
        "    data_img = cv2.imread(img2_path, cv2.IMREAD_UNCHANGED)\n",
        "    img1 = imageEncoder(test_img)\n",
        "    img2 = imageEncoder(data_img)\n",
        "    cos_scores = util.pytorch_cos_sim(img1, img2)\n",
        "    score = round(float(cos_scores[0][0])*100, 2)\n",
        "    return score\n",
        "\n",
        "\n",
        "print(f\"similarity Score: \", round(generateScore(img_path, img_path), 2))"
      ],
      "metadata": {
        "colab": {
          "base_uri": "https://localhost:8080/"
        },
        "id": "SoeO2NKe57tK",
        "outputId": "7768096f-b82e-4970-c93c-27d2b27f7ec7"
      },
      "execution_count": 15,
      "outputs": [
        {
          "output_type": "stream",
          "name": "stdout",
          "text": [
            "similarity Score:  86.3\n"
          ]
        }
      ]
    },
    {
      "cell_type": "code",
      "source": [
        "from torch.utils.data import Dataset, DataLoader\n",
        "from glob import glob\n",
        "import numpy as np\n",
        "from sentence_transformers import util\n",
        "\n",
        "class ImageDataset(Dataset):\n",
        "    def __init__(self, root_paths =None, transform=None):\n",
        "        self.img_path_all = []\n",
        "        for root_path in root_paths:\n",
        "            self.img_path_all.extend(glob (root_path))\n",
        "        self.transform = transform\n",
        "\n",
        "    def __len__(self):\n",
        "        return len(self.img_path_all)\n",
        "\n",
        "    def __getitem__(self, i):\n",
        "        img = Image.open(self.img_path_all[i]).convert('RGB')\n",
        "        if self.transform:\n",
        "            img = self.transform(img)\n",
        "        return img, self.img_path_all[i]\n",
        "\n",
        "# def main():\n",
        "\n",
        "\n",
        "device = \"cuda\" if torch.cuda.is_available() else \"cpu\"\n",
        "model, _, preprocess = open_clip.create_model_and_transforms('ViT-B-16-plus-240', pretrained=\"laion400m_e32\")\n",
        "model.to(device)\n",
        "root_paths = ['endovis18/*/left_frames/*.png', 'endovis17/*/images/*.png']\n",
        "paper_root_paths = ['/content/paper_fig/*.png']\n",
        "img_dataset = ImageDataset(root_paths=root_paths, transform=preprocess)\n",
        "paper_img_dataset = ImageDataset(root_paths=paper_root_paths, transform=preprocess)\n",
        "paper_imgs, paper_paths = paper_img_dataset[0]\n",
        "img_batch, paths = img_dataset[0]\n",
        "paper_img_features = model.encode_image(paper_imgs[None].to(device))\n",
        "feature_batch = model.encode_image(img_batch[None].to(device))\n"
      ],
      "metadata": {
        "id": "8yQ0QkPHCPPS"
      },
      "execution_count": null,
      "outputs": []
    },
    {
      "cell_type": "code",
      "source": [
        "paper_img_features = model.encode_image(paper_imgs[None].to(device))\n",
        "feature_batch = model.encode_image(img_batch[None].to(device))\n",
        "cos_scores = util.pytorch_cos_sim(feature_batch, paper_img_features)\n",
        "cos_scores"
      ],
      "metadata": {
        "colab": {
          "base_uri": "https://localhost:8080/"
        },
        "id": "yMIoCl-6fogs",
        "outputId": "a72c1b2d-08d2-42f5-be88-ac051d67ec9b"
      },
      "execution_count": 14,
      "outputs": [
        {
          "output_type": "execute_result",
          "data": {
            "text/plain": [
              "tensor([[0.7323]], device='cuda:0', grad_fn=<MmBackward0>)"
            ]
          },
          "metadata": {},
          "execution_count": 14
        }
      ]
    }
  ]
}