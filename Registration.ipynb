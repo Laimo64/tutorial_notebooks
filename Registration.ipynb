{
  "nbformat": 4,
  "nbformat_minor": 0,
  "metadata": {
    "colab": {
      "provenance": [],
      "collapsed_sections": [],
      "authorship_tag": "ABX9TyPITIa/HhZR5v810Y5++rZT",
      "include_colab_link": true
    },
    "kernelspec": {
      "name": "python3",
      "display_name": "Python 3"
    },
    "language_info": {
      "name": "python"
    }
  },
  "cells": [
    {
      "cell_type": "markdown",
      "metadata": {
        "id": "view-in-github",
        "colab_type": "text"
      },
      "source": [
        "<a href=\"https://colab.research.google.com/github/mobarakol/tutorial_notebooks/blob/main/Registration.ipynb\" target=\"_parent\"><img src=\"https://colab.research.google.com/assets/colab-badge.svg\" alt=\"Open In Colab\"/></a>"
      ]
    },
    {
      "cell_type": "markdown",
      "source": [
        "#Point Based Registration"
      ],
      "metadata": {
        "id": "YHI2g0JIG56K"
      }
    },
    {
      "cell_type": "code",
      "source": [
        "!pip -q install scikit-surgerycore"
      ],
      "metadata": {
        "colab": {
          "base_uri": "https://localhost:8080/"
        },
        "id": "umRy7JznHEAj",
        "outputId": "c397923c-6cb5-46c0-f2db-dbca72ac33f0"
      },
      "execution_count": 1,
      "outputs": [
        {
          "output_type": "stream",
          "name": "stdout",
          "text": [
            "  Building wheel for scikit-surgerycore (setup.py) ... \u001b[?25l\u001b[?25hdone\n"
          ]
        }
      ]
    },
    {
      "cell_type": "markdown",
      "source": [
        "Registration using Orthogonal Procrustes method:<br>\n",
        "using \"Least-Squares Fitting of two, 3-D Point Sets, Arun, 1987\"<br>\n",
        "Fiducial/landmark: Fiducial points are points on your specimen that you mark to help you align subsequent sections. \n",
        "\n"
      ],
      "metadata": {
        "id": "XCrCmmAOghbj"
      }
    },
    {
      "cell_type": "code",
      "execution_count": 12,
      "metadata": {
        "colab": {
          "base_uri": "https://localhost:8080/",
          "height": 1000
        },
        "id": "ElUbdrHVG3it",
        "outputId": "00ce5741-b308-4f7b-a30e-b28031ad2420"
      },
      "outputs": [
        {
          "output_type": "display_data",
          "data": {
            "text/plain": [
              "<Figure size 432x288 with 1 Axes>"
            ],
            "image/png": "[encoded data removed]"
          },
          "metadata": {
            "needs_background": "light"
          }
        },
        {
          "output_type": "display_data",
          "data": {
            "text/plain": [
              "<Figure size 432x288 with 1 Axes>"
            ],
            "image/png": "[encoded data removed]"
          },
          "metadata": {
            "needs_background": "light"
          }
        },
        {
          "output_type": "stream",
          "name": "stdout",
          "text": [
            "# Compute Transformation from image to tracker:\n",
            "Rotation R:\n",
            " [[ 1.00000000e+00 -4.26642159e-17  0.00000000e+00]\n",
            " [ 3.58404070e-17  1.00000000e+00  0.00000000e+00]\n",
            " [ 0.00000000e+00  0.00000000e+00  1.00000000e+00]]\n",
            "Translation t:\n",
            " [[    5.]\n",
            " [    5.]\n",
            " [-1000.]]\n",
            "Fiducial Registration Error, FRE:\n",
            " 1.4503892858778862e-15\n",
            "Transformation T:\n",
            " [[ 1.00000000e+00 -4.26642159e-17  0.00000000e+00  5.00000000e+00]\n",
            " [ 3.58404070e-17  1.00000000e+00  0.00000000e+00  5.00000000e+00]\n",
            " [ 0.00000000e+00  0.00000000e+00  1.00000000e+00 -1.00000000e+03]\n",
            " [ 0.00000000e+00  0.00000000e+00  0.00000000e+00  1.00000000e+00]]\n",
            "# Compute Transformation from tracker to image:\n",
            "Rotation R:\n",
            " [[ 1.00000000e+00 -4.26642159e-17  0.00000000e+00]\n",
            " [ 3.58404070e-17  1.00000000e+00  0.00000000e+00]\n",
            " [ 0.00000000e+00  0.00000000e+00  1.00000000e+00]]\n",
            "Translation t:\n",
            " [[  -5.]\n",
            " [  -5.]\n",
            " [1000.]]\n",
            "Fiducial Registration Error, FRE:\n",
            " 1.9186846773327266e-15\n",
            "Transformation T:\n",
            " [[ 1.00000000e+00 -4.26642159e-17  0.00000000e+00 -5.00000000e+00]\n",
            " [ 3.58404070e-17  1.00000000e+00  0.00000000e+00 -5.00000000e+00]\n",
            " [ 0.00000000e+00  0.00000000e+00  1.00000000e+00  1.00000000e+03]\n",
            " [ 0.00000000e+00  0.00000000e+00  0.00000000e+00  1.00000000e+00]]\n",
            "Image to Tracker:\n",
            "FRE adding noise in one coordinate:\n",
            " 0.44015551225972854\n"
          ]
        }
      ],
      "source": [
        "import sys\n",
        "# All imports for this notebook\n",
        "import numpy as np\n",
        "import matplotlib\n",
        "import matplotlib.pyplot as plt\n",
        "\n",
        "# Note that the scikit-surgery libraries provide point-based registration using Arun's method and matrix utilities.\n",
        "import sksurgerycore.algorithms.procrustes as pbr\n",
        "import sksurgerycore.transforms.matrix as mu\n",
        "\n",
        "# Define 3 points, as if they were in an image\n",
        "image_points = np.zeros((3,3))\n",
        "image_points[0][0] = 0\n",
        "image_points[0][1] = 0\n",
        "image_points[0][2] = 0\n",
        "\n",
        "image_points[1][0] = 10\n",
        "image_points[1][1] = 0\n",
        "image_points[1][2] = 0\n",
        "\n",
        "image_points[2][0] = 0\n",
        "image_points[2][1] = 10\n",
        "image_points[2][2] = 0\n",
        "\n",
        "# Draw them in 2D. Its a triangle.\n",
        "plt.scatter(image_points[:,0], image_points[:,1])\n",
        "plt.title('3 points in an image,  z-axis: 0')\n",
        "plt.show()\n",
        "\n",
        "# Define 3 points, as if they were in tracker space\n",
        "tracker_points = np.zeros((3,3))\n",
        "tracker_points[0][0] = 5\n",
        "tracker_points[0][1] = 5\n",
        "tracker_points[0][2] = -1000\n",
        "\n",
        "tracker_points[1][0] = 15\n",
        "tracker_points[1][1] = 5\n",
        "tracker_points[1][2] = -1000\n",
        "\n",
        "tracker_points[2][0] = 5\n",
        "tracker_points[2][1] = 15\n",
        "tracker_points[2][2] = -1000\n",
        "\n",
        "# Draw them in 2D. Its a triangle, same point order, different location.\n",
        "plt.scatter(tracker_points[:,0], tracker_points[:,1])\n",
        "plt.title('3 points in tracker space, z-axis: -1000')\n",
        "plt.show()\n",
        "\n",
        "# Compute Transformation from image to tracker\n",
        "# Implements point based registration via the Orthogonal Procrustes method. Based on Arun's method\n",
        "R, t, FRE = pbr.orthogonal_procrustes(tracker_points, image_points)#orthogonal_procrustes(fixed, moving)\n",
        "T = mu.construct_rigid_transformation(R,t)\n",
        "print('# Compute Transformation from image to tracker:')\n",
        "print('Rotation R:\\n',R)\n",
        "print('Translation t:\\n',t)\n",
        "print('Fiducial Registration Error, FRE:\\n',FRE) #Fiducial Registration Error, equal to the root mean squared error between corresponding fiducials\n",
        "print('Transformation T:\\n', T)\n",
        "\n",
        "# Compute Transformation from tracker to image\n",
        "# Construct inverse\n",
        "R2, t2, FRE2 = pbr.orthogonal_procrustes(image_points, tracker_points)#orthogonal_procrustes(fixed, moving)\n",
        "T2 = mu.construct_rigid_transformation(R2,t2)\n",
        "print('# Compute Transformation from tracker to image:')\n",
        "print('Rotation R:\\n',R2)\n",
        "print('Translation t:\\n',t2)\n",
        "print('Fiducial Registration Error, FRE:\\n',FRE2) #Fiducial Registration Error, equal to the root mean squared error between corresponding fiducials\n",
        "print('Transformation T:\\n', T2)\n",
        "\n",
        "# Add noise to 1 point, recalculate, look at FRE\n",
        "image_points[0][0] = 1\n",
        "R, t, FREnoise = pbr.orthogonal_procrustes(tracker_points, image_points)\n",
        "print('Image to Tracker:\\nFRE adding noise in one coordinate:\\n',FREnoise)\n"
      ]
    },
    {
      "cell_type": "markdown",
      "source": [
        "Transform image points into tracker space using obtained R and t from Procrustes method"
      ],
      "metadata": {
        "id": "_DhHHuAojLoJ"
      }
    },
    {
      "cell_type": "code",
      "source": [
        "from sklearn.metrics import mean_squared_error\n",
        "\n",
        "print('tracker_points:\\n',tracker_points)\n",
        "print('image_points:\\n',image_points)\n",
        "# Transform image points into tracker space\n",
        "print('#Transform image points into tracker space')\n",
        "transformed_image_points = np.transpose(np.matmul(R, np.transpose(image_points)) + t)\n",
        "print('transformed_image_points:\\n',transformed_image_points)\n",
        "\n",
        "rmse = mean_squared_error(tracker_points, transformed_image_points, squared=False)\n",
        "print('RMES or FRE:',rmse)\n",
        "# Plot tracker points and transformed image points\n",
        "fig = plt.figure()\n",
        "ax1 = fig.add_subplot(111)\n",
        "ax1.scatter(tracker_points[:,0], tracker_points[:,1], s=10, c='b', marker=\"s\", label='tracker')\n",
        "ax1.scatter(transformed_image_points[:,0], transformed_image_points[:,1], s=10, c='r', marker=\"o\", label='transformed image')\n",
        "plt.legend(loc='upper right');\n",
        "plt.show()"
      ],
      "metadata": {
        "colab": {
          "base_uri": "https://localhost:8080/",
          "height": 508
        },
        "id": "ifIJrp7DHCGH",
        "outputId": "186dac19-4264-4ab5-8864-d4257592b33e"
      },
      "execution_count": 19,
      "outputs": [
        {
          "output_type": "stream",
          "name": "stdout",
          "text": [
            "tracker_points:\n",
            " [[    5.     5. -1000.]\n",
            " [   15.     5. -1000.]\n",
            " [    5.    15. -1000.]]\n",
            "image_points:\n",
            " [[ 1.  0.  0.]\n",
            " [10.  0.  0.]\n",
            " [ 0. 10.  0.]]\n",
            "#Transform image points into tracker space\n",
            "transformed_image_points:\n",
            " [[    5.58210085     5.06944883 -1000.        ]\n",
            " [   14.57914373     4.83875543 -1000.        ]\n",
            " [    4.83875543    15.09179574 -1000.        ]]\n",
            "RMES or FRE: 0.1798051166384289\n"
          ]
        },
        {
          "output_type": "display_data",
          "data": {
            "text/plain": [
              "<Figure size 432x288 with 1 Axes>"
            ],
            "image/png": "[encoded data removed]"
          },
          "metadata": {
            "needs_background": "light"
          }
        }
      ]
    },
    {
      "cell_type": "markdown",
      "source": [
        "# Laparoscopic Liver Surgery Simulations\n",
        "src: https://mphy0026.readthedocs.io/en/latest/notebooks/lap_liver_sim.html\n",
        "\n",
        "<img src=https://mphy0026.readthedocs.io/en/latest/_images/lap_liver_sim_diagram.jpg>"
      ],
      "metadata": {
        "id": "Kect5Ivr3KBy"
      }
    },
    {
      "cell_type": "code",
      "source": [
        "!git clone https://github.com/UCL/MPHY0026.git"
      ],
      "metadata": {
        "colab": {
          "base_uri": "https://localhost:8080/"
        },
        "id": "FrUFrz7ejA9e",
        "outputId": "054ddd34-12e8-4eff-fb90-2bd8f121a9de"
      },
      "execution_count": 2,
      "outputs": [
        {
          "output_type": "stream",
          "name": "stdout",
          "text": [
            "Cloning into 'MPHY0026'...\n",
            "remote: Enumerating objects: 5769, done.\u001b[K\n",
            "remote: Counting objects: 100% (421/421), done.\u001b[K\n",
            "remote: Compressing objects: 100% (176/176), done.\u001b[K\n",
            "remote: Total 5769 (delta 233), reused 401 (delta 223), pack-reused 5348\u001b[K\n",
            "Receiving objects: 100% (5769/5769), 444.48 MiB | 27.53 MiB/s, done.\n",
            "Resolving deltas: 100% (3066/3066), done.\n",
            "Checking out files: 100% (2478/2478), done.\n"
          ]
        }
      ]
    },
    {
      "cell_type": "code",
      "source": [
        "!pip -q install scikit-surgeryimage scikit-surgerycore scikit-surgeryvtk\n",
        "!pip -q install scikit-surgerynditracker scikit-surgeryarucotracker scikit-surgerypclcpp \n",
        "!pip -q install scikit-surgeryopencvcpp scikit-surgeryfred scikit-surgerybard scikit-surgerycalibration "
      ],
      "metadata": {
        "colab": {
          "base_uri": "https://localhost:8080/"
        },
        "id": "Yh7v70URx2pI",
        "outputId": "e5c56ec2-a8cf-4c80-a787-03d40af2b01a"
      },
      "execution_count": 2,
      "outputs": [
        {
          "output_type": "stream",
          "name": "stdout",
          "text": [
            "\u001b[K     |████████████████████████████████| 44 kB 2.3 MB/s \n",
            "\u001b[K     |████████████████████████████████| 88 kB 6.9 MB/s \n",
            "\u001b[K     |████████████████████████████████| 54.5 MB 32 kB/s \n",
            "\u001b[K     |████████████████████████████████| 88.3 MB 98 kB/s \n",
            "\u001b[K     |████████████████████████████████| 166.0 MB 27 kB/s \n",
            "\u001b[K     |████████████████████████████████| 856 kB 49.8 MB/s \n",
            "\u001b[?25h  Building wheel for scikit-surgeryimage (setup.py) ... \u001b[?25l\u001b[?25hdone\n",
            "\u001b[K     |████████████████████████████████| 644 kB 40.6 MB/s \n",
            "\u001b[K     |████████████████████████████████| 230 kB 69.5 MB/s \n",
            "\u001b[K     |████████████████████████████████| 90 kB 10.7 MB/s \n",
            "\u001b[?25h  Building wheel for scikit-surgerynditracker (setup.py) ... \u001b[?25l\u001b[?25hdone\n",
            "  Building wheel for scikit-surgeryarucotracker (setup.py) ... \u001b[?25l\u001b[?25hdone\n",
            "\u001b[K     |████████████████████████████████| 4.5 MB 32.5 MB/s \n",
            "\u001b[K     |████████████████████████████████| 40 kB 5.2 MB/s \n",
            "\u001b[K     |████████████████████████████████| 63 kB 1.6 MB/s \n",
            "\u001b[K     |████████████████████████████████| 94 kB 3.2 MB/s \n",
            "\u001b[K     |████████████████████████████████| 65 kB 4.2 MB/s \n",
            "\u001b[K     |████████████████████████████████| 1.6 MB 51.2 MB/s \n",
            "\u001b[?25h  Building wheel for scikit-surgeryfred (setup.py) ... \u001b[?25l\u001b[?25hdone\n",
            "  Building wheel for scikit-surgerybard (setup.py) ... \u001b[?25l\u001b[?25hdone\n",
            "  Building wheel for scikit-surgerycalibration (setup.py) ... \u001b[?25l\u001b[?25hdone\n"
          ]
        }
      ]
    },
    {
      "cell_type": "code",
      "source": [
        "%cd MPHY0026/doc/notebooks/"
      ],
      "metadata": {
        "colab": {
          "base_uri": "https://localhost:8080/"
        },
        "id": "KH-CZ7JBwauR",
        "outputId": "52710e1c-18ab-4836-8b12-350f8dd971eb"
      },
      "execution_count": 3,
      "outputs": [
        {
          "output_type": "stream",
          "name": "stdout",
          "text": [
            "/content/MPHY0026/doc/notebooks\n"
          ]
        }
      ]
    },
    {
      "cell_type": "code",
      "source": [
        "# Jupyter notebook sets the cwd to the folder containing the notebook.\n",
        "# So, you want to add the root of the project to the sys path, so modules load correctly.\n",
        "import sys\n",
        "sys.path.append(\"../../\")\n",
        "# All imports.\n",
        "import random\n",
        "import copy\n",
        "import cv2\n",
        "import numpy as np\n",
        "from scipy.spatial.transform import Rotation as R\n",
        "import sksurgeryopencvpython as cvpy\n",
        "import matplotlib.pyplot as plt\n",
        "\n",
        "def extract_rigid_body_parameters(matrix):\n",
        "    t = matrix[0:3, 3]\n",
        "    r = matrix[0:3, 0:3]\n",
        "    r = R.from_matrix(r)\n",
        "    euler = r.as_euler('zyx', degrees=True)\n",
        "    return [euler[0], euler[1], euler[2], t[0], t[1], t[2]]\n",
        "\n",
        "def rigid_body_parameters_to_matrix(params):\n",
        "    matrix = np.eye(4)\n",
        "    r = (R.from_euler('zyx', [params[0], params[1], params[2]], degrees=True)).as_matrix()\n",
        "    matrix[0:3, 0:3] = r\n",
        "    matrix[0][3] = params[3]\n",
        "    matrix[1][3] = params[4]\n",
        "    matrix[2][3] = params[5]\n",
        "    return matrix\n",
        "\n",
        "def convert_camera_point_to_world(point, camera_to_marker, marker_to_world):\n",
        "    return marker_to_world @ camera_to_marker @ point\n",
        "\n",
        "def convert_4x1_to_1x1x3(p_41):\n",
        "    p_113 = np.zeros((1,1,3))\n",
        "    p_113[0][0][0] = p_41[0][0]\n",
        "    p_113[0][0][1] = p_41[1][0]\n",
        "    p_113[0][0][2] = p_41[2][0]\n",
        "    return p_113\n",
        "\n",
        "def convert_1x2_to_1x1x2(p_12):\n",
        "    p_112 = np.zeros((1,1,2))\n",
        "    p_112[0][0][0] = p_12[0]\n",
        "    p_112[0][0][1] = p_12[1] \n",
        "    return p_112\n",
        "\n",
        "def project_camera_point_to_image(point, intrinsics, distortion):\n",
        "    rvec = np.zeros((1,3))\n",
        "    tvec = np.zeros((1,3))\n",
        "    image_points, jacobian = cv2.projectPoints(convert_4x1_to_1x1x3(point), rvec, tvec, intrinsics, distortion)\n",
        "    return image_points[0][0] # returns a list\n",
        "           \n",
        "def convert_left_camera_to_right_camera(point, left_to_right):\n",
        "    return left_to_right @ point\n",
        "\n",
        "def triangulate_points_to_3d(left_point, left_intrinsic, left_distortion, right_point, right_intrinsic, right_distortion, left_to_right):\n",
        "    left_point_undistorted = cv2.undistortPoints(convert_1x2_to_1x1x2(left_point), left_intrinsic, left_distortion, None, left_intrinsic)\n",
        "    right_point_undistorted = cv2.undistortPoints(convert_1x2_to_1x1x2(right_point), right_intrinsic, right_distortion, None, right_intrinsic)\n",
        "    image_points = np.zeros((1,4))\n",
        "    image_points[0][0] = left_point_undistorted[0][0][0]\n",
        "    image_points[0][1] = left_point_undistorted[0][0][1]\n",
        "    image_points[0][2] = right_point_undistorted[0][0][0]\n",
        "    image_points[0][3] = right_point_undistorted[0][0][1]\n",
        "    reconstructed = cvpy.triangulate_points_using_hartley(image_points,\n",
        "                                                          left_intrinsic,\n",
        "                                                          right_intrinsic,\n",
        "                                                          left_to_right[0:3, 0:3],\n",
        "                                                          left_to_right[0:3, 3]\n",
        "                                                          )\n",
        "    result = np.ones((4,1))\n",
        "    result[0][0] = reconstructed[0][0]\n",
        "    result[1][0] = reconstructed[0][1]\n",
        "    result[2][0] = reconstructed[0][2]\n",
        "    return result                                   \n",
        "\n",
        "def initialise_gold_standard(cam_x, cam_y, cam_z):\n",
        "    point_in_left_camera_space = np.ones((4,1))\n",
        "    point_in_left_camera_space[0][0] = cam_x\n",
        "    point_in_left_camera_space[1][0] = cam_y\n",
        "    point_in_left_camera_space[2][0] = cam_z\n",
        "    point_in_right_camera_space = convert_left_camera_to_right_camera(point_in_left_camera_space, left_to_right)\n",
        "\n",
        "    left_image_point = project_camera_point_to_image(point_in_left_camera_space, left_intrinsics, left_distortion)\n",
        "    right_image_point = project_camera_point_to_image(point_in_right_camera_space, right_intrinsics, right_distortion)\n",
        "    reconstructed = triangulate_points_to_3d(left_image_point, left_intrinsics, left_distortion, right_image_point, right_intrinsics, right_distortion, left_to_right)\n",
        "\n",
        "    assert np.allclose(point_in_left_camera_space, reconstructed)\n",
        "\n",
        "    gold_standard_world_point = convert_camera_point_to_world(point_in_left_camera_space, camera_to_marker, marker_to_world)\n",
        "    return point_in_left_camera_space, gold_standard_world_point, left_image_point, right_image_point\n"
      ],
      "metadata": {
        "id": "CBp7B0oWwzuk"
      },
      "execution_count": 4,
      "outputs": []
    },
    {
      "cell_type": "markdown",
      "source": [
        "Load reference data.\n",
        "This data comes from the SmartLiver system."
      ],
      "metadata": {
        "id": "jIOUHa7-zhWP"
      }
    },
    {
      "cell_type": "code",
      "source": [
        "# Camera intrinsic calibration\n",
        "left_intrinsics = np.loadtxt('LaparoscopicLiverSimulation/lap_liver_left_intrinsics.txt')\n",
        "left_distortion = np.loadtxt('LaparoscopicLiverSimulation/lap_liver_left_distortion.txt')\n",
        "right_intrinsics = np.loadtxt('LaparoscopicLiverSimulation/lap_liver_right_intrinsics.txt')\n",
        "right_distortion = np.loadtxt('LaparoscopicLiverSimulation/lap_liver_right_distortion.txt')\n",
        "\n",
        "# Hand-eye or, marker-to-camera\n",
        "marker_to_camera = np.loadtxt('LaparoscopicLiverSimulation/lap_liver_sim_marker_to_camera.txt')\n",
        "camera_to_marker = np.linalg.inv(marker_to_camera)\n",
        "\n",
        "# Its a stereo laparoscope, so separation between right and left camera.\n",
        "left_to_right = np.loadtxt('LaparoscopicLiverSimulation/lap_liver_sim_l2r.txt')\n",
        "\n",
        "# And it's tracked, so, the marker to world transform.\n",
        "marker_to_world = np.loadtxt('LaparoscopicLiverSimulation/lap_liver_sim_marker_to_world.txt')\n",
        "\n",
        "#Create Simulation Parameters\n",
        "# First parameterise the main transformations.\n",
        "# The order is: rx, ry, rx, tx, ty, tz, where rotations are in degrees and translations in millimetres.\n",
        "marker2camera = extract_rigid_body_parameters(marker_to_camera)\n",
        "marker2world = extract_rigid_body_parameters(marker_to_world)\n",
        "left2right = extract_rigid_body_parameters(left_to_right)\n",
        "\n",
        "# Create some fixed parameters\n",
        "image_size = (1920, 1080) # width, height, in pixels\n",
        "distance_from_camera = 75 # millimetres"
      ],
      "metadata": {
        "id": "I4DE2UFtw6s2"
      },
      "execution_count": 5,
      "outputs": []
    },
    {
      "cell_type": "markdown",
      "source": [
        "Create Gold Standard. We need to define the thing we are measuring or evaluating. Imagine we are trying to assess the accuracy of triangulating a point that is in front of the camera, and correctly positioning it in world space. So, first, generate a point in camera coordinates, project to 2D left and right images, triangulate back to 3D, to check we get the same point, and convert to world space."
      ],
      "metadata": {
        "id": "lUHy2j--25aQ"
      }
    },
    {
      "cell_type": "code",
      "source": [
        "gold_left_camera_point, gold_world_point, gold_left_image_point, gold_right_image_point = initialise_gold_standard(5, 10, distance_from_camera)\n",
        "\n",
        "print(\"Starting gold standard:\")\n",
        "print(\"Left camera point:\" + str(gold_left_camera_point))\n",
        "print(\"World point:\" + str(gold_world_point))\n",
        "print(\"Left image point:\" + str(gold_left_image_point))\n",
        "print(\"Right image point:\" + str(gold_right_image_point))"
      ],
      "metadata": {
        "colab": {
          "base_uri": "https://localhost:8080/"
        },
        "id": "ymLZff5Rziof",
        "outputId": "9f47dd09-e348-4447-c656-088cdc075ecb"
      },
      "execution_count": 6,
      "outputs": [
        {
          "output_type": "stream",
          "name": "stdout",
          "text": [
            "Starting gold standard:\n",
            "Left camera point:[[ 5.]\n",
            " [10.]\n",
            " [75.]\n",
            " [ 1.]]\n",
            "World point:[[ 1.02579661e+02]\n",
            " [ 2.55747093e+00]\n",
            " [-1.76820496e+03]\n",
            " [ 1.00000000e+00]]\n",
            "Left image point:[904.48111684 790.14748833]\n",
            "Right image point:[1028.96090457  791.28608348]\n"
          ]
        }
      ]
    },
    {
      "cell_type": "markdown",
      "source": [
        "Experiment 1: Effect of noise on 2D feature detector<br>\n",
        "So, given the gold standard we have established, we can start to investigate characteristics of the system. For example, if we are triangulating points, then how accurate will it be. Or put another way, what is the effect of errors in our feature detector?"
      ],
      "metadata": {
        "id": "ni8OH5673UOO"
      }
    },
    {
      "cell_type": "code",
      "source": [
        "left_image_point = np.zeros((2))\n",
        "right_image_point = np.zeros((2))\n",
        "number_samples = 1000\n",
        "x_values = []\n",
        "y_values = []\n",
        "for sigma_counter in range(0, 25, 1):\n",
        "    sigma = sigma_counter / 5\n",
        "    rms = 0\n",
        "    for i in range(number_samples):\n",
        "        left_image_point[0] = gold_left_image_point[0] + random.normalvariate(0, sigma)\n",
        "        left_image_point[1] = gold_left_image_point[1] + random.normalvariate(0, sigma)\n",
        "        right_image_point[0] = gold_right_image_point[0] + random.normalvariate(0, sigma)\n",
        "        right_image_point[1] = gold_right_image_point[1] + random.normalvariate(0, sigma)\n",
        "        left_camera_point = triangulate_points_to_3d(left_image_point,\n",
        "                                                     left_intrinsics,\n",
        "                                                     left_distortion,\n",
        "                                                     right_image_point,\n",
        "                                                     right_intrinsics,\n",
        "                                                     right_distortion,\n",
        "                                                     left_to_right)\n",
        "        left_world_point = convert_camera_point_to_world(left_camera_point,\n",
        "                                                         camera_to_marker,\n",
        "                                                         marker_to_world\n",
        "                                                        )\n",
        "        diff = np.linalg.norm(gold_world_point - left_world_point)\n",
        "        diff = diff * diff\n",
        "        rms = rms + diff\n",
        "    rms = rms / number_samples\n",
        "    rms = np.sqrt(rms)\n",
        "    x_values.append(sigma)\n",
        "    y_values.append(rms)\n",
        "\n",
        "plt.plot(x_values, y_values, 'r', label='RMS (mm)')\n",
        "plt.legend(loc='upper left')\n",
        "plt.xlabel('sigma (pixels)')\n",
        "plt.ylabel('error (mm)')\n",
        "plt.show()"
      ],
      "metadata": {
        "colab": {
          "base_uri": "https://localhost:8080/",
          "height": 279
        },
        "id": "3e969IKp3Bge",
        "outputId": "e5ec639d-69dc-4558-8bbd-db2094fb1ea6"
      },
      "execution_count": 7,
      "outputs": [
        {
          "output_type": "display_data",
          "data": {
            "text/plain": [
              "<Figure size 432x288 with 1 Axes>"
            ],
            "image/png": "[encoded data removed]"
          },
          "metadata": {
            "needs_background": "light"
          }
        }
      ]
    },
    {
      "cell_type": "markdown",
      "source": [
        "Experiment 1: Discussion, Conclusion<br>\n",
        "So as noise increases, so does the triangulation error in millimetres. So, we know that our feature detector for triangulation purposes must be sub-pixel accuracy to get triangulation accuracy around 1mm."
      ],
      "metadata": {
        "id": "ZcIASJyW3otw"
      }
    },
    {
      "cell_type": "markdown",
      "source": [
        "Experiment 2: Accuracy of stereo calibration<br>\n",
        "What is the effect of inaccuracies in our stereo calibration?"
      ],
      "metadata": {
        "id": "Ni3cb7xz38C_"
      }
    },
    {
      "cell_type": "code",
      "source": [
        "print('What is the effect of inaccuracies in our stereo calibration?')\n",
        "print(left2right)\n",
        "#So, rotation about y axis, or translation in x-axis are of interest.\n",
        "number_samples = 1000\n",
        "x_values = []\n",
        "y_values = []\n",
        "for sigma_counter in range(0, 25, 1):\n",
        "    sigma = sigma_counter / 50\n",
        "    rms = 0\n",
        "    for i in range(number_samples):\n",
        "        tmp_left2right = copy.deepcopy(left2right)\n",
        "        tmp_left2right[1] = tmp_left2right[1] + random.normalvariate(0, sigma)\n",
        "        tmp_stereo_matrix = rigid_body_parameters_to_matrix(tmp_left2right)\n",
        "        left_camera_point = triangulate_points_to_3d(gold_left_image_point,\n",
        "                                                     left_intrinsics,\n",
        "                                                     left_distortion,\n",
        "                                                     gold_right_image_point,\n",
        "                                                     right_intrinsics,\n",
        "                                                     right_distortion,\n",
        "                                                     tmp_stereo_matrix)\n",
        "        left_world_point = convert_camera_point_to_world(left_camera_point,\n",
        "                                                         camera_to_marker,\n",
        "                                                         marker_to_world\n",
        "                                                        )\n",
        "        diff = np.linalg.norm(gold_world_point - left_world_point)\n",
        "        diff = diff * diff\n",
        "        rms = rms + diff\n",
        "    rms = rms / number_samples\n",
        "    rms = np.sqrt(rms)\n",
        "    x_values.append(sigma)\n",
        "    y_values.append(rms)\n",
        "\n",
        "rotation_values = copy.deepcopy(y_values)\n",
        "\n",
        "# Repeat of above, just doing translation.\n",
        "y_values = []\n",
        "for sigma_counter in range(0, 25, 1):\n",
        "    sigma = sigma_counter / 50\n",
        "    rms = 0\n",
        "    for i in range(number_samples):\n",
        "        tmp_left2right = copy.deepcopy(left2right)\n",
        "        tmp_left2right[3] = tmp_left2right[3] + random.normalvariate(0, sigma)\n",
        "        tmp_stereo_matrix = rigid_body_parameters_to_matrix(tmp_left2right)\n",
        "        left_camera_point = triangulate_points_to_3d(gold_left_image_point,\n",
        "                                                     left_intrinsics,\n",
        "                                                     left_distortion,\n",
        "                                                     gold_right_image_point,\n",
        "                                                     right_intrinsics,\n",
        "                                                     right_distortion,\n",
        "                                                     tmp_stereo_matrix)\n",
        "        left_world_point = convert_camera_point_to_world(left_camera_point,\n",
        "                                                         camera_to_marker,\n",
        "                                                         marker_to_world\n",
        "                                                        )\n",
        "        diff = np.linalg.norm(gold_world_point - left_world_point)\n",
        "        diff = diff * diff\n",
        "        rms = rms + diff\n",
        "    rms = rms / number_samples\n",
        "    rms = np.sqrt(rms)\n",
        "    y_values.append(rms)\n",
        "\n",
        "translation_values = copy.deepcopy(y_values)\n",
        "\n",
        "plt.plot(x_values, rotation_values, 'r', label='Ry')\n",
        "plt.plot(x_values, translation_values, 'g', label='Tx')\n",
        "plt.legend(loc='upper left')\n",
        "plt.xlabel('sigma (degrees)')\n",
        "plt.ylabel('error (mm)')\n",
        "plt.show()"
      ],
      "metadata": {
        "colab": {
          "base_uri": "https://localhost:8080/",
          "height": 334
        },
        "id": "A5hYJnBa3j7D",
        "outputId": "36ef23fa-5a41-4701-825d-1579f4d31312"
      },
      "execution_count": 9,
      "outputs": [
        {
          "output_type": "stream",
          "name": "stdout",
          "text": [
            "What is the effect of inaccuracies in our stereo calibration?\n",
            "[-0.18663586637738608, -1.022194275896184, -0.31552983713490357, -6.05146, 0.058148, -0.143609]\n"
          ]
        },
        {
          "output_type": "display_data",
          "data": {
            "text/plain": [
              "<Figure size 432x288 with 1 Axes>"
            ],
            "image/png": "[encoded data removed]"
          },
          "metadata": {
            "needs_background": "light"
          }
        }
      ]
    },
    {
      "cell_type": "markdown",
      "source": [
        "Experiment 2: Discussion and Conclusion<br>\n",
        "These numbers are interesting. With only 4-6mm baseline, the system is very sensitive to changes in the stereo calibration parameters. The standard deviation on both rotation and translation, should be less than tenths of a millimetre or degree. This is exceptionally hard to achieve as each calibration gives numbers that vary by more than this. This suggests that we cannot be confident about the stereo calibration, and it should probably be done once by an engineer, under lab conditions, checked, and not done by a user in the field."
      ],
      "metadata": {
        "id": "96CJF26r4XxL"
      }
    },
    {
      "cell_type": "markdown",
      "source": [
        "Experiment 3: Accuracy of hand-eye calibration<br>\n",
        "Similarly for hand-eye. Harder to isolate calibration errors to individual parameters. So, we will try just adding noise to all parameters.\n"
      ],
      "metadata": {
        "id": "hrNtDVQC4dT1"
      }
    },
    {
      "cell_type": "code",
      "source": [
        "print(marker2camera)\n",
        "number_samples = 1000\n",
        "x_values = []\n",
        "y_values = []\n",
        "for sigma_counter in range(0, 25, 1):\n",
        "    sigma = sigma_counter / 50\n",
        "    rms = 0\n",
        "    for i in range(number_samples):\n",
        "        tmp_marker2camera = copy.deepcopy(marker2camera)\n",
        "        for j in range(6):\n",
        "            tmp_marker2camera[j] = tmp_marker2camera[j] + random.normalvariate(0, sigma)\n",
        "        tmp_marker2camera_matrix = rigid_body_parameters_to_matrix(tmp_marker2camera)\n",
        "        tmp_camera2marker = np.linalg.inv(tmp_marker2camera_matrix)\n",
        "        left_world_point = convert_camera_point_to_world(gold_left_camera_point,\n",
        "                                                         tmp_camera2marker,\n",
        "                                                         marker_to_world\n",
        "                                                        )\n",
        "        diff = np.linalg.norm(gold_world_point - left_world_point)\n",
        "        diff = diff * diff\n",
        "        rms = rms + diff\n",
        "    rms = rms / number_samples\n",
        "    rms = np.sqrt(rms)\n",
        "    x_values.append(sigma)\n",
        "    y_values.append(rms)\n",
        "\n",
        "plt.plot(x_values, y_values, 'r')\n",
        "plt.xlabel('sigma (degrees/mm)')\n",
        "plt.ylabel('error (mm)')\n",
        "plt.show()"
      ],
      "metadata": {
        "colab": {
          "base_uri": "https://localhost:8080/",
          "height": 316
        },
        "id": "vPlc8Fr34Gcv",
        "outputId": "3ba547b8-9450-40c2-c7bc-49050c7740ea"
      },
      "execution_count": 10,
      "outputs": [
        {
          "output_type": "stream",
          "name": "stdout",
          "text": [
            "[88.04229429051159, -41.70296857104104, -149.50452705845592, 20.81503, 131.959603, -247.139331]\n"
          ]
        },
        {
          "output_type": "display_data",
          "data": {
            "text/plain": [
              "<Figure size 432x288 with 1 Axes>"
            ],
            "image/png": "[encoded data removed]"
          },
          "metadata": {
            "needs_background": "light"
          }
        }
      ]
    },
    {
      "cell_type": "markdown",
      "source": [
        "Experiment 3: Brief Discussion and Conclusion<br>\n",
        "So, it can be seen that any noise on the calibration parameters of hand-eye calibration can have a huge affect on the final accuracy of the ability to measure the location of a world/tracker coordinate. The x-axis shows sigma, which is is used, assuming a Gaussian noise model, to add noise to the 3 rotation and 3 translation parameters of the hand-eye matrix. You can see that these parameters must be correct to within a sigma of 0.2 millimetres or degrees in order to keep the accuracy of measurement within 2mm. So, is this realistic, in the field? You should do a user study and look at the variation in calibration parameters when many users do many calibrations. If the variability in the calibration parameters that you see in the field, is larger than this, could we ever assume that system accuracy is good enough in practice? If not, then how would you design your tracking marker and laparoscope? Is calibration something that the user should be doing? If nott, what should the vendor do?"
      ],
      "metadata": {
        "id": "yq0jH_WB4n0-"
      }
    },
    {
      "cell_type": "markdown",
      "source": [
        "#RANSAC example\n",
        "src:https://github.com/UCL/MPHY0026/blob/master/doc/notebooks/RANSAC.ipynb<br>\n",
        "In this example, we compare the performance of a normal algebraic one step (AOS) Pivot Calibration [Yaniv2010], with a RANSAC version of the same algorithm."
      ],
      "metadata": {
        "id": "f6j_eTeV5dEg"
      }
    },
    {
      "cell_type": "code",
      "source": [
        "import sys\n",
        "sys.path.append(\"../../\")\n",
        "from glob import glob\n",
        "import copy\n",
        "import random\n",
        "import cv2\n",
        "import numpy as np\n",
        "import matplotlib.pyplot as plt\n",
        "\n",
        "# Note that the scikit-surgery libraries provide pivot and RANSAC. \n",
        "import sksurgerycalibration.algorithms.pivot as p   # AOS Pivot algorithm and a RANSAC version.\n",
        "import sksurgerycore.transforms.matrix as m  # For creating 4x4 matrices.\n",
        "\n",
        "# Load test data\n",
        "file_names = glob('PivotCalibrationData/*')\n",
        "arrays = [np.loadtxt(f) for f in file_names]\n",
        "matrices = np.concatenate(arrays)\n",
        "number_of_matrices = int(matrices.size/16)\n",
        "tracking_matrices = matrices.reshape(number_of_matrices, 4, 4)\n",
        "print(tracking_matrices.shape)\n",
        "\n",
        "# Do a normal pivot calibration using all data.\n",
        "offset_1, pivot_1, residual_1 = p.pivot_calibration(tracking_matrices)\n",
        "print(\"Offset is:\" + str(offset_1))\n",
        "print(\"Pivot is:\" + str(pivot_1))\n",
        "print(\"RMS error about centroid is:\" + str(residual_1))\n",
        "\n",
        "print('So, if we add noisy data, we should be able to see the difference between\\\n",
        " a normal pivot calibration (least squares), and the RANSAC version. We have about 1000 matrices, so lets add noise up to 100 of them.')"
      ],
      "metadata": {
        "colab": {
          "base_uri": "https://localhost:8080/"
        },
        "id": "tO_P_ldD4k6u",
        "outputId": "30337e98-99c2-4107-ed0d-604dcdeee5f2"
      },
      "execution_count": 13,
      "outputs": [
        {
          "output_type": "stream",
          "name": "stdout",
          "text": [
            "(1151, 4, 4)\n",
            "Offset is:[[-14.47617201]\n",
            " [395.14282161]\n",
            " [ -7.55790421]]\n",
            "Pivot is:[[ -805.28473588]\n",
            " [  -85.44779266]\n",
            " [-2112.0664371 ]]\n",
            "RMS error about centroid is:1.838466442010008\n",
            "So, if we add noisy data, we should be able to see the difference between a normal pivot calibration (least squares), and the RANSAC version. We have about 1000 matrices, so lets add noise up to 100 of them.\n"
          ]
        }
      ]
    },
    {
      "cell_type": "code",
      "source": [
        "# Parameters to play with\n",
        "number_of_matrices_to_add_noise_to = 100\n",
        "rotation_offset_in_degrees = 5\n",
        "translation_offset_in_millimetres = 5\n",
        "number_iterations = 10\n",
        "error_in_millimetres = 4\n",
        "minimum_percentage = 0.25\n",
        "\n",
        "# Create an array representing how many to add noise to.\n",
        "rms_error_ls = []\n",
        "rms_error_RANSAC = []\n",
        "x_values = []\n",
        "indices = range(tracking_matrices.shape[0])\n",
        "for counter in range(0, number_of_matrices_to_add_noise_to, 10):\n",
        "    matrices_copy = copy.deepcopy(tracking_matrices)\n",
        "    random_indices = random.sample(indices, counter)\n",
        "    for random_index in random_indices:\n",
        "        random_rotation = m.construct_rotm_from_euler((np.random.rand() * rotation_offset_in_degrees*2)-rotation_offset_in_degrees,\n",
        "                                                      (np.random.rand() * rotation_offset_in_degrees*2)-rotation_offset_in_degrees,\n",
        "                                                      (np.random.rand() * rotation_offset_in_degrees*2)-rotation_offset_in_degrees,\n",
        "                                                      \"zyx\", is_in_radians=False)\n",
        "        random_translation = np.zeros((3,1))\n",
        "        random_translation[0][0] = (np.random.rand() * translation_offset_in_millimetres*2)-translation_offset_in_millimetres\n",
        "        random_translation[1][0] = (np.random.rand() * translation_offset_in_millimetres*2)-translation_offset_in_millimetres\n",
        "        random_translation[2][0] = (np.random.rand() * translation_offset_in_millimetres*2)-translation_offset_in_millimetres\n",
        "        random_transform = m.construct_rigid_transformation(random_rotation, random_translation)\n",
        "        matrices_copy[random_index] = matrices_copy[random_index] @ random_transform\n",
        "    offset_2, pivot_2, residual_2 = p.pivot_calibration(matrices_copy)\n",
        "    offset_3, pivot_3, residual_3 = p.pivot_calibration_with_ransac(matrices_copy, number_iterations, error_in_millimetres, minimum_percentage)\n",
        "    x_values.append(counter)\n",
        "    rms_error_ls.append(residual_2)\n",
        "    rms_error_RANSAC.append(residual_3)\n",
        "\n",
        "plt.plot(x_values, rms_error_ls, 'r', label='Least Squares (LS)')  \n",
        "plt.plot(x_values, rms_error_RANSAC, 'g', label='RANSAC') \n",
        "plt.legend(loc='upper left')\n",
        "plt.show()"
      ],
      "metadata": {
        "colab": {
          "base_uri": "https://localhost:8080/",
          "height": 493
        },
        "id": "YK3N9Iex5vv5",
        "outputId": "94a8dc3b-2037-4181-cfa7-06e99ee6af29"
      },
      "execution_count": 15,
      "outputs": [
        {
          "output_type": "stream",
          "name": "stdout",
          "text": [
            "RANSAC Pivot, from 1151 matrices, used 1010 matrices, with error threshold = 4 and consensus threshold = 0.25\n",
            "RANSAC Pivot, from 1151 matrices, used 929 matrices, with error threshold = 4 and consensus threshold = 0.25\n",
            "RANSAC Pivot, from 1151 matrices, used 1006 matrices, with error threshold = 4 and consensus threshold = 0.25\n",
            "RANSAC Pivot, from 1151 matrices, used 945 matrices, with error threshold = 4 and consensus threshold = 0.25\n",
            "RANSAC, iteration 8, failed.\n",
            "RANSAC Pivot, from 1151 matrices, used 924 matrices, with error threshold = 4 and consensus threshold = 0.25\n",
            "RANSAC Pivot, from 1151 matrices, used 889 matrices, with error threshold = 4 and consensus threshold = 0.25\n",
            "RANSAC Pivot, from 1151 matrices, used 930 matrices, with error threshold = 4 and consensus threshold = 0.25\n",
            "RANSAC, iteration 8, failed.\n",
            "RANSAC Pivot, from 1151 matrices, used 850 matrices, with error threshold = 4 and consensus threshold = 0.25\n",
            "RANSAC Pivot, from 1151 matrices, used 879 matrices, with error threshold = 4 and consensus threshold = 0.25\n",
            "RANSAC Pivot, from 1151 matrices, used 881 matrices, with error threshold = 4 and consensus threshold = 0.25\n"
          ]
        },
        {
          "output_type": "display_data",
          "data": {
            "text/plain": [
              "<Figure size 432x288 with 1 Axes>"
            ],
            "image/png": "[encoded data removed]"
          },
          "metadata": {
            "needs_background": "light"
          }
        }
      ]
    },
    {
      "cell_type": "code",
      "source": [],
      "metadata": {
        "id": "uEwA5BRi55Gx"
      },
      "execution_count": null,
      "outputs": []
    }
  ]
}