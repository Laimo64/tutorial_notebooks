{
  "nbformat": 4,
  "nbformat_minor": 0,
  "metadata": {
    "colab": {
      "provenance": [],
      "authorship_tag": "ABX9TyO4bdHl5X654fMPBZQvvMC1",
      "include_colab_link": true
    },
    "kernelspec": {
      "name": "python3",
      "display_name": "Python 3"
    },
    "language_info": {
      "name": "python"
    }
  },
  "cells": [
    {
      "cell_type": "markdown",
      "metadata": {
        "id": "view-in-github",
        "colab_type": "text"
      },
      "source": [
        "<a href=\"https://colab.research.google.com/github/mobarakol/tutorial_notebooks/blob/main/VQA_BioGPT.ipynb\" target=\"_parent\"><img src=\"https://colab.research.google.com/assets/colab-badge.svg\" alt=\"Open In Colab\"/></a>"
      ]
    },
    {
      "cell_type": "code",
      "execution_count": 2,
      "metadata": {
        "colab": {
          "base_uri": "https://localhost:8080/"
        },
        "id": "CC8Be48cCKcu",
        "outputId": "e411fd13-64d8-47a5-ae57-6a93d3f8c651"
      },
      "outputs": [
        {
          "output_type": "stream",
          "name": "stdout",
          "text": [
            "\u001b[2K     \u001b[90m━━━━━━━━━━━━━━━━━━━━━━━━━━━━━━━━━━━━━━━━\u001b[0m \u001b[32m11.0/11.0 MB\u001b[0m \u001b[31m94.5 MB/s\u001b[0m eta \u001b[36m0:00:00\u001b[0m\n",
            "\u001b[2K     \u001b[90m━━━━━━━━━━━━━━━━━━━━━━━━━━━━━━━━━━━━━━\u001b[0m \u001b[32m118.9/118.9 KB\u001b[0m \u001b[31m12.5 MB/s\u001b[0m eta \u001b[36m0:00:00\u001b[0m\n",
            "\u001b[2K     \u001b[90m━━━━━━━━━━━━━━━━━━━━━━━━━━━━━━━━━━━━━━\u001b[0m \u001b[32m240.4/240.4 KB\u001b[0m \u001b[31m26.9 MB/s\u001b[0m eta \u001b[36m0:00:00\u001b[0m\n",
            "\u001b[2K     \u001b[90m━━━━━━━━━━━━━━━━━━━━━━━━━━━━━━━━━━━━━━\u001b[0m \u001b[32m123.8/123.8 KB\u001b[0m \u001b[31m14.1 MB/s\u001b[0m eta \u001b[36m0:00:00\u001b[0m\n",
            "\u001b[2K     \u001b[90m━━━━━━━━━━━━━━━━━━━━━━━━━━━━━━━━━━━━━━\u001b[0m \u001b[32m112.4/112.4 KB\u001b[0m \u001b[31m12.5 MB/s\u001b[0m eta \u001b[36m0:00:00\u001b[0m\n",
            "\u001b[?25h  Preparing metadata (setup.py) ... \u001b[?25l\u001b[?25hdone\n",
            "  Building wheel for antlr4-python3-runtime (setup.py) ... \u001b[?25l\u001b[?25hdone\n"
          ]
        }
      ],
      "source": [
        "!pip -q install fairseq"
      ]
    },
    {
      "cell_type": "code",
      "source": [
        "!pip -q install moses"
      ],
      "metadata": {
        "colab": {
          "base_uri": "https://localhost:8080/"
        },
        "id": "UoRC_aPzCXMO",
        "outputId": "2384cbbc-4e4a-4fb1-a991-29cb537aa3aa"
      },
      "execution_count": 1,
      "outputs": [
        {
          "output_type": "stream",
          "name": "stdout",
          "text": [
            "  Preparing metadata (setup.py) ... \u001b[?25l\u001b[?25hdone\n",
            "  Building wheel for moses (setup.py) ... \u001b[?25l\u001b[?25hdone\n"
          ]
        }
      ]
    },
    {
      "cell_type": "code",
      "source": [
        "!pip -q install fastBPE"
      ],
      "metadata": {
        "colab": {
          "base_uri": "https://localhost:8080/"
        },
        "id": "-KqD_rdpCblB",
        "outputId": "2f280491-9528-4d60-fd11-98c1f834fb46"
      },
      "execution_count": 3,
      "outputs": [
        {
          "output_type": "stream",
          "name": "stdout",
          "text": [
            "Looking in indexes: https://pypi.org/simple, https://us-python.pkg.dev/colab-wheels/public/simple/\n",
            "Collecting fastBPE\n",
            "  Downloading fastBPE-0.1.0.tar.gz (35 kB)\n",
            "  Preparing metadata (setup.py) ... \u001b[?25l\u001b[?25hdone\n",
            "Building wheels for collected packages: fastBPE\n",
            "  Building wheel for fastBPE (setup.py) ... \u001b[?25l\u001b[?25hdone\n",
            "  Created wheel for fastBPE: filename=fastBPE-0.1.0-cp38-cp38-linux_x86_64.whl size=759287 sha256=233480930393f393adb81ccdb917bdfbcb1c6510f9daaf7246092455deb260e3\n",
            "  Stored in directory: /root/.cache/pip/wheels/64/a8/c6/07fb6443539116f05252337e751bbccd2bd2dd6c585ba94ca8\n",
            "Successfully built fastBPE\n",
            "Installing collected packages: fastBPE\n",
            "Successfully installed fastBPE-0.1.0\n"
          ]
        }
      ]
    },
    {
      "cell_type": "code",
      "source": [
        "!pip -q install sacremoses"
      ],
      "metadata": {
        "colab": {
          "base_uri": "https://localhost:8080/"
        },
        "id": "PjkZalLACs72",
        "outputId": "a3b38054-7c6a-4b7c-d028-2f47ae042319"
      },
      "execution_count": 4,
      "outputs": [
        {
          "output_type": "stream",
          "name": "stdout",
          "text": [
            "\u001b[?25l     \u001b[90m━━━━━━━━━━━━━━━━━━━━━━━━━━━━━━━━━━━━━━━━\u001b[0m \u001b[32m0.0/880.6 KB\u001b[0m \u001b[31m?\u001b[0m eta \u001b[36m-:--:--\u001b[0m\r\u001b[2K     \u001b[91m━━━━━━━━━━━━━━━━━━━━━━━━━━━━━━━━━━━━━\u001b[0m\u001b[91m╸\u001b[0m \u001b[32m870.4/880.6 KB\u001b[0m \u001b[31m29.8 MB/s\u001b[0m eta \u001b[36m0:00:01\u001b[0m\r\u001b[2K     \u001b[90m━━━━━━━━━━━━━━━━━━━━━━━━━━━━━━━━━━━━━━\u001b[0m \u001b[32m880.6/880.6 KB\u001b[0m \u001b[31m15.8 MB/s\u001b[0m eta \u001b[36m0:00:00\u001b[0m\n",
            "\u001b[?25h  Preparing metadata (setup.py) ... \u001b[?25l\u001b[?25hdone\n",
            "  Building wheel for sacremoses (setup.py) ... \u001b[?25l\u001b[?25hdone\n"
          ]
        }
      ]
    },
    {
      "cell_type": "code",
      "source": [
        "!git clone https://github.com/microsoft/BioGPT.git\n",
        "%cd BioGPT"
      ],
      "metadata": {
        "colab": {
          "base_uri": "https://localhost:8080/"
        },
        "id": "dYYisx6gCwwe",
        "outputId": "7e576fd8-3e89-47b2-8a4e-6ba1f4c12e08"
      },
      "execution_count": 5,
      "outputs": [
        {
          "output_type": "stream",
          "name": "stdout",
          "text": [
            "Cloning into 'BioGPT'...\n",
            "remote: Enumerating objects: 299, done.\u001b[K\n",
            "remote: Counting objects: 100% (299/299), done.\u001b[K\n",
            "remote: Compressing objects: 100% (179/179), done.\u001b[K\n",
            "remote: Total 299 (delta 150), reused 228 (delta 109), pack-reused 0\u001b[K\n",
            "Receiving objects: 100% (299/299), 31.43 MiB | 35.41 MiB/s, done.\n",
            "Resolving deltas: 100% (150/150), done.\n",
            "/content/BioGPT\n"
          ]
        }
      ]
    },
    {
      "cell_type": "code",
      "source": [
        "!mkdir checkpoints\n",
        "%cd checkpoints\n",
        "!wget https://msramllasc.blob.core.windows.net/modelrelease/BioGPT/checkpoints/Pre-trained-BioGPT.tgz\n",
        "!tar -zxvf Pre-trained-BioGPT.tgz\n",
        "%cd .."
      ],
      "metadata": {
        "colab": {
          "base_uri": "https://localhost:8080/"
        },
        "id": "tVhFwEXpC2wc",
        "outputId": "356fa3bf-67e4-4f93-d5f6-772a373314ce"
      },
      "execution_count": 6,
      "outputs": [
        {
          "output_type": "stream",
          "name": "stdout",
          "text": [
            "/content/BioGPT/checkpoints\n",
            "--2023-02-03 11:31:29--  https://msramllasc.blob.core.windows.net/modelrelease/BioGPT/checkpoints/Pre-trained-BioGPT.tgz\n",
            "Resolving msramllasc.blob.core.windows.net (msramllasc.blob.core.windows.net)... 20.209.34.164\n",
            "Connecting to msramllasc.blob.core.windows.net (msramllasc.blob.core.windows.net)|20.209.34.164|:443... connected.\n",
            "HTTP request sent, awaiting response... 200 OK\n",
            "Length: 3414384105 (3.2G) [application/octet-stream]\n",
            "Saving to: ‘Pre-trained-BioGPT.tgz’\n",
            "\n",
            "Pre-trained-BioGPT. 100%[===================>]   3.18G  21.6MB/s    in 2m 15s  \n",
            "\n",
            "2023-02-03 11:33:43 (24.2 MB/s) - ‘Pre-trained-BioGPT.tgz’ saved [3414384105/3414384105]\n",
            "\n",
            "Pre-trained-BioGPT/\n",
            "Pre-trained-BioGPT/checkpoint.pt\n",
            "/content/BioGPT\n"
          ]
        }
      ]
    },
    {
      "cell_type": "code",
      "source": [
        "import torch\n",
        "from fairseq.models.transformer_lm import TransformerLanguageModel\n",
        "m = TransformerLanguageModel.from_pretrained(\n",
        "        \"checkpoints/Pre-trained-BioGPT\", \n",
        "        \"checkpoint.pt\", \n",
        "        \"data\",\n",
        "        tokenizer='moses', \n",
        "        bpe='fastbpe', \n",
        "        bpe_codes=\"data/bpecodes\",\n",
        "        min_len=100,\n",
        "        max_len_b=1024)\n",
        "# m.cuda()\n",
        "src_tokens = m.encode(\"COVID-19 is a disease\")\n",
        "generate = m.generate([src_tokens], beam=5)[0]\n",
        "output = m.decode(generate[0][\"tokens\"])\n",
        "print(output)"
      ],
      "metadata": {
        "colab": {
          "base_uri": "https://localhost:8080/"
        },
        "id": "njvKhER-C7Qs",
        "outputId": "6db0c2c9-632b-49cd-fac5-10fef0489786"
      },
      "execution_count": 11,
      "outputs": [
        {
          "output_type": "stream",
          "name": "stdout",
          "text": [
            "COVID-19 is a disease caused by severe acute respiratory syndrome coronavirus 2 (SARS-CoV-2), which was first identified in Wuhan, China, in December 2019 and has since spread to more than 200 countries and territories, including the United States, Canada, the United Kingdom, the United States of America, the United States of America, Australia, New Zealand, Canada, and the United States of America, as well as the rest of the world, including Europe, Asia, Africa, and South America.\n"
          ]
        }
      ]
    },
    {
      "cell_type": "code",
      "source": [
        "src_tokens = m.encode(\"COVID-19 is not a\")\n",
        "generate = m.generate([src_tokens], beam=4)[0]\n",
        "output = m.decode(generate[0][\"tokens\"])\n",
        "print(len(generate))\n",
        "print(output)\n",
        "print(generate[0]['positional_scores'], generate[0]['positional_scores'].shape)"
      ],
      "metadata": {
        "colab": {
          "base_uri": "https://localhost:8080/"
        },
        "id": "2C4-Rub-Dpjs",
        "outputId": "7f6e4524-98b6-4e1c-d8b2-8842c5662106"
      },
      "execution_count": 30,
      "outputs": [
        {
          "output_type": "stream",
          "name": "stdout",
          "text": [
            "4\n",
            "COVID-19 is not a single disease, but rather a group of diseases that are caused by a novel coronavirus, SARS-CoV-2, which was first identified in December 2019 in Wuhan, Hubei Province, China, and has since spread rapidly to other parts of the world, including the United States, Canada, and the United Kingdom, as well as other countries in Asia, Europe, Africa, and the Middle East, as well as to the United States, Canada, and the United States.\n",
            "tensor([-1.0468e+01, -1.4261e-02, -3.3998e-03, -2.5903e+00, -4.9233e+00,\n",
            "        -1.4998e+00, -2.1849e+00, -4.5880e-01, -1.1768e+00, -2.0609e-01,\n",
            "        -1.0960e+00, -3.6957e-01, -1.9237e+00, -1.2863e-02, -1.3079e+00,\n",
            "        -1.7819e+00, -1.6281e+00, -1.0102e+00, -1.0113e-02, -7.9506e-01,\n",
            "        -6.9929e-01, -2.6900e-01, -1.1905e+00, -3.8622e-01, -1.1929e-02,\n",
            "        -3.9898e-02, -6.1951e-03, -1.9455e-03, -1.4751e+00, -1.1080e+00,\n",
            "        -1.8896e+00, -4.0522e-01, -5.4012e-01, -5.1334e-02, -1.3673e+00,\n",
            "        -1.4217e-02, -4.1369e-01, -4.6619e-01, -7.2479e-05, -6.0379e-02,\n",
            "        -2.1409e+00, -1.3981e-02, -8.3160e-04, -3.6388e-01, -1.7395e-01,\n",
            "        -5.6465e-02, -2.5438e+00, -1.8389e-01, -1.7859e+00, -8.3097e-01,\n",
            "        -2.2504e-01, -9.8682e-01, -2.0262e+00, -1.9060e+00, -1.0663e+00,\n",
            "        -4.7569e-03, -2.2325e-01, -4.4399e-02, -2.2934e+00, -6.0968e-01,\n",
            "        -1.1334e+00, -5.3924e-01, -3.4157e-02, -8.1154e-01, -7.3659e-01,\n",
            "        -3.8559e-02, -7.4255e-01, -1.7388e+00, -1.7509e-01, -1.6922e-02,\n",
            "        -2.6114e+00, -1.8303e+00, -6.3133e-02, -1.4351e-02, -2.2872e+00,\n",
            "        -2.3089e-01, -9.0820e-01, -8.1834e-01, -1.1881e+00, -5.3075e-01,\n",
            "        -3.9955e-02, -2.5420e+00, -3.2242e-02, -1.4816e-01, -1.3803e+00,\n",
            "        -4.3680e-01, -8.4457e-03, -3.6485e+00, -2.0712e+00, -4.9486e-01,\n",
            "        -5.5237e-03, -2.4426e+00, -1.8010e+00, -1.5736e+00, -1.5587e-02,\n",
            "        -2.0480e+00, -1.0474e+00, -2.2079e-02, -3.3009e-01, -1.2486e+00,\n",
            "        -1.9718e-01, -2.9597e-01, -9.2949e-01, -1.6861e-03]) torch.Size([104])\n"
          ]
        }
      ]
    },
    {
      "cell_type": "code",
      "source": [
        "src_tokens = m.encode(\"COVID-19 is a disease originated from\")\n",
        "generate = m.generate([src_tokens], beam=5)[0]\n",
        "output = m.decode(generate[0][\"tokens\"])\n",
        "print(len(generate))\n",
        "print(output)\n",
        "print(generate[0]['positional_scores'], generate[0]['positional_scores'].shape)"
      ],
      "metadata": {
        "colab": {
          "base_uri": "https://localhost:8080/"
        },
        "id": "e_v1JoktEu7M",
        "outputId": "d51395bc-ad11-43dd-f8f6-77aa8c42c9e8"
      },
      "execution_count": 28,
      "outputs": [
        {
          "output_type": "stream",
          "name": "stdout",
          "text": [
            "5\n",
            "COVID-19 is a disease originated from severe acute respiratory syndrome coronavirus 2 (SARS-CoV-2), which was first identified in Wuhan, China, in December 2019 and has since spread to more than 200 countries and territories, including the United States, Canada, Australia, New Zealand, the United Kingdom, the United States of America, the United States of America, the United Kingdom, France, Germany, Italy, Spain, the United Kingdom, and the United States of America, including the United States of America.\n",
            "tensor([-1.0468e+01, -1.4261e-02, -3.3998e-03, -2.5903e+00, -6.5561e-01,\n",
            "        -3.6940e+00, -6.7434e+00, -1.3912e+00, -3.2693e+00, -5.2650e-02,\n",
            "        -4.1676e-03, -1.1541e-02, -1.1666e-01, -1.8737e-01, -2.6432e-01,\n",
            "        -8.8348e-03, -2.4990e-02, -2.6752e-02, -7.5588e-03, -4.6539e-04,\n",
            "        -1.7010e-02, -1.1486e+00, -7.0353e-01, -2.0638e+00, -4.8047e-01,\n",
            "        -8.1303e-01, -6.4625e-02, -6.8348e-01, -1.5640e-04, -2.1694e-01,\n",
            "        -1.7050e-01, -5.9023e-01, -2.7578e-01, -1.5761e-01, -1.5106e-02,\n",
            "        -1.9427e+00, -1.4666e+00, -1.8277e+00, -1.6032e-01, -1.4530e+00,\n",
            "        -1.8006e+00, -3.6133e-02, -2.1614e+00, -1.2665e-02, -1.2162e+00,\n",
            "        -2.0850e-01, -2.2287e+00, -9.6025e-01, -1.1142e+00, -4.0274e-01,\n",
            "        -2.5543e-02, -8.8972e-01, -6.0868e-01, -1.7563e-02, -2.2577e+00,\n",
            "        -3.0231e-02, -1.0190e+00, -1.7448e-02, -2.3525e-02, -2.5778e+00,\n",
            "        -4.1357e-01, -1.0437e-02, -4.6249e-02, -1.8058e+00, -2.5456e-01,\n",
            "        -6.7822e-02, -2.4717e-01, -5.5855e-02, -1.2147e-01, -2.0243e+00,\n",
            "        -6.2091e-01, -5.5435e-01, -3.3554e-02, -5.7568e-01, -2.2956e-01,\n",
            "        -2.0613e+00, -8.6312e-01, -4.0232e-01, -1.7876e-01, -2.2791e+00,\n",
            "        -1.4603e-02, -6.4096e-01, -1.7929e-02, -1.2702e+00, -1.6792e-02,\n",
            "        -1.2737e+00, -1.6083e-02, -2.1852e+00, -6.5804e-01, -4.4250e-01,\n",
            "        -2.8056e-01, -1.5035e+00, -8.8936e-01, -3.1084e-01, -3.3723e-01,\n",
            "        -2.0049e-01, -1.1336e-01, -2.3570e+00, -2.9559e+00, -6.4210e-01,\n",
            "        -4.6140e-01, -9.0225e-02, -7.4533e-01, -3.8956e-02, -5.6601e-01,\n",
            "        -1.9073e-03]) torch.Size([106])\n"
          ]
        }
      ]
    },
    {
      "cell_type": "code",
      "source": [],
      "metadata": {
        "id": "U3CtLsoOFbzC"
      },
      "execution_count": null,
      "outputs": []
    }
  ]
}