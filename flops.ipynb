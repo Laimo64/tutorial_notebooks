{
  "nbformat": 4,
  "nbformat_minor": 0,
  "metadata": {
    "colab": {
      "name": "flops.ipynb",
      "provenance": [],
      "authorship_tag": "ABX9TyNMq3wA5zCVnXfLVJve/kYp",
      "include_colab_link": true
    },
    "kernelspec": {
      "name": "python3",
      "display_name": "Python 3"
    },
    "language_info": {
      "name": "python"
    },
    "accelerator": "GPU"
  },
  "cells": [
    {
      "cell_type": "markdown",
      "metadata": {
        "id": "view-in-github",
        "colab_type": "text"
      },
      "source": [
        "<a href=\"https://colab.research.google.com/github/mobarakol/tutorial_notebooks/blob/main/flops.ipynb\" target=\"_parent\"><img src=\"https://colab.research.google.com/assets/colab-badge.svg\" alt=\"Open In Colab\"/></a>"
      ]
    },
    {
      "cell_type": "markdown",
      "source": [
        "# Calculating FLOPS using ptflops:\n",
        "reference: https://pypi.org/project/ptflops/"
      ],
      "metadata": {
        "id": "IIBT5R9R5GVx"
      }
    },
    {
      "cell_type": "markdown",
      "source": [
        "Installing ptflops library<br>\n",
        "GFLops = 2 * GMACs <br>\n",
        "MAC = Multiply–accumulate operation <br>\n",
        "FLOPS = floating point operations per second"
      ],
      "metadata": {
        "id": "rFdxt0JAxJSR"
      }
    },
    {
      "cell_type": "code",
      "source": [
        "!pip -q install ptflops"
      ],
      "metadata": {
        "colab": {
          "base_uri": "https://localhost:8080/"
        },
        "id": "dQwi2LMttxg2",
        "outputId": "70f4a46a-cace-47af-ea2b-e9c3939e8842"
      },
      "execution_count": 1,
      "outputs": [
        {
          "output_type": "stream",
          "name": "stdout",
          "text": [
            "  Building wheel for ptflops (setup.py) ... \u001b[?25l\u001b[?25hdone\n"
          ]
        }
      ]
    },
    {
      "cell_type": "code",
      "source": [
        "import torchvision.models as models\n",
        "import torch\n",
        "from ptflops import get_model_complexity_info\n",
        "\n",
        "with torch.cuda.device(0):\n",
        "  net = models.densenet121()\n",
        "  flops, params = get_model_complexity_info(net, (3, 224, 224), as_strings=True,\n",
        "                                           print_per_layer_stat=False, verbose=True);\n",
        "  print('{:<30}  {:<8}'.format('Flops: ', flops))\n",
        "  #print('{:<30}  {:<4} GFLOPS'.format('Flops: ', 2 * float(flops[:4])))\n",
        "  print('{:<30}  {:<8}'.format('Number of parameters: ', params))"
      ],
      "metadata": {
        "colab": {
          "base_uri": "https://localhost:8080/"
        },
        "id": "TCZKDQ_BucyE",
        "outputId": "90888edc-fa7a-4c5b-8ab3-19c1eb99c1e7"
      },
      "execution_count": 49,
      "outputs": [
        {
          "output_type": "stream",
          "name": "stdout",
          "text": [
            "Warning: module _DenseLayer is treated as a zero-op.\n",
            "Warning: module _DenseBlock is treated as a zero-op.\n",
            "Warning: module _Transition is treated as a zero-op.\n",
            "Warning: module DenseNet is treated as a zero-op.\n",
            "Flops:                          2.88 GMac\n",
            "Number of parameters:           7.98 M  \n"
          ]
        }
      ]
    },
    {
      "cell_type": "markdown",
      "source": [
        "Ref: https://arxiv.org/pdf/1905.11946.pdf"
      ],
      "metadata": {
        "id": "wJFtG6CfLHyw"
      }
    },
    {
      "cell_type": "code",
      "source": [
        "import torchvision.models as models\n",
        "import torch\n",
        "from ptflops import get_model_complexity_info\n",
        "\n",
        "with torch.cuda.device(0):\n",
        "  net = models.densenet169()\n",
        "  flops, params = get_model_complexity_info(net, (3, 224, 224), as_strings=True,\n",
        "                                           print_per_layer_stat=False, verbose=True);\n",
        "  print('Densenet169 {:<22}  {:<8}'.format('Flops: ', flops))\n",
        "  print('{:<30}  {:<8}'.format('Number of parameters: ', params))\n",
        "\n",
        "\n",
        "with torch.cuda.device(0):\n",
        "  net = models.resnet50()\n",
        "  flops, params = get_model_complexity_info(net, (3, 224, 224), as_strings=True,\n",
        "                                           print_per_layer_stat=False, verbose=True);\n",
        "  print('resnet50 {:<22}  {:<8}'.format('Flops: ', flops))\n",
        "  print('{:<30}  {:<8}'.format('Number of parameters: ', params))"
      ],
      "metadata": {
        "colab": {
          "base_uri": "https://localhost:8080/"
        },
        "id": "4HsVcddcK2vT",
        "outputId": "9900e75c-5b7a-453e-93c3-5f6a1d06e4ef"
      },
      "execution_count": 48,
      "outputs": [
        {
          "output_type": "stream",
          "name": "stdout",
          "text": [
            "Warning: module _DenseLayer is treated as a zero-op.\n",
            "Warning: module _DenseBlock is treated as a zero-op.\n",
            "Warning: module _Transition is treated as a zero-op.\n",
            "Warning: module DenseNet is treated as a zero-op.\n",
            "Densenet169 Flops:                  3.42 GMac\n",
            "Number of parameters:           14.15 M \n",
            "Warning: module Bottleneck is treated as a zero-op.\n",
            "Warning: module ResNet is treated as a zero-op.\n",
            "resnet50 Flops:                  4.12 GMac\n",
            "Number of parameters:           25.56 M \n"
          ]
        }
      ]
    },
    {
      "cell_type": "markdown",
      "source": [
        "# Using fvcore:\n",
        "reference: https://github.com/facebookresearch/fvcore/blob/main/docs/flop_count.md"
      ],
      "metadata": {
        "id": "xp4EhvzCHQIf"
      }
    },
    {
      "cell_type": "code",
      "source": [
        "!pip -q install fvcore"
      ],
      "metadata": {
        "colab": {
          "base_uri": "https://localhost:8080/"
        },
        "id": "_lxFkUsZHUG_",
        "outputId": "3cc3b8b5-c5f4-42be-b644-e40ef83886fc"
      },
      "execution_count": 30,
      "outputs": [
        {
          "output_type": "stream",
          "name": "stdout",
          "text": [
            "\u001b[K     |████████████████████████████████| 55 kB 2.5 MB/s \n",
            "\u001b[K     |████████████████████████████████| 596 kB 27.5 MB/s \n",
            "\u001b[?25h  Building wheel for fvcore (setup.py) ... \u001b[?25l\u001b[?25hdone\n"
          ]
        }
      ]
    },
    {
      "cell_type": "code",
      "source": [
        "from fvcore.nn import FlopCountAnalysis\n",
        "net = models.densenet121()\n",
        "input = torch.rand([1, 3, 224, 224])\n",
        "flops = FlopCountAnalysis(net, input)\n",
        "print(flops.total()/1000000000)"
      ],
      "metadata": {
        "colab": {
          "base_uri": "https://localhost:8080/"
        },
        "id": "rDnp7GZjHH29",
        "outputId": "38d39436-2b4e-426d-ffcc-cad1ec9d3afa"
      },
      "execution_count": 42,
      "outputs": [
        {
          "output_type": "stream",
          "name": "stderr",
          "text": [
            "Unsupported operator aten::max_pool2d encountered 1 time(s)\n",
            "Unsupported operator aten::avg_pool2d encountered 3 time(s)\n"
          ]
        },
        {
          "output_type": "stream",
          "name": "stdout",
          "text": [
            "2.91254912\n"
          ]
        }
      ]
    },
    {
      "cell_type": "markdown",
      "source": [
        "# Using thop:\n",
        "ref: https://github.com/Lyken17/pytorch-OpCounter"
      ],
      "metadata": {
        "id": "xHZ2cYqdJlLv"
      }
    },
    {
      "cell_type": "code",
      "source": [
        "!pip -q install thop"
      ],
      "metadata": {
        "id": "E7apjnEuJkrC"
      },
      "execution_count": 34,
      "outputs": []
    },
    {
      "cell_type": "code",
      "source": [
        "import torchvision.models as models\n",
        "from thop import profile\n",
        "model = models.densenet121()\n",
        "input = torch.randn(1, 3, 224, 224)\n",
        "macs, params = profile(model, inputs=(input, ))\n",
        "print(macs/1000000000)"
      ],
      "metadata": {
        "colab": {
          "base_uri": "https://localhost:8080/"
        },
        "id": "eWtU78zxJxcO",
        "outputId": "317006ab-3457-4f9b-95ae-c2d46cbe6636"
      },
      "execution_count": 41,
      "outputs": [
        {
          "output_type": "stream",
          "name": "stdout",
          "text": [
            "[INFO] Register count_convNd() for <class 'torch.nn.modules.conv.Conv2d'>.\n",
            "[INFO] Register count_bn() for <class 'torch.nn.modules.batchnorm.BatchNorm2d'>.\n",
            "[INFO] Register zero_ops() for <class 'torch.nn.modules.activation.ReLU'>.\n",
            "[INFO] Register zero_ops() for <class 'torch.nn.modules.pooling.MaxPool2d'>.\n",
            "\u001b[91m[WARN] Cannot find rule for <class 'torchvision.models.densenet._DenseLayer'>. Treat it as zero Macs and zero Params.\u001b[00m\n",
            "\u001b[91m[WARN] Cannot find rule for <class 'torchvision.models.densenet._DenseBlock'>. Treat it as zero Macs and zero Params.\u001b[00m\n",
            "[INFO] Register count_avgpool() for <class 'torch.nn.modules.pooling.AvgPool2d'>.\n",
            "\u001b[91m[WARN] Cannot find rule for <class 'torchvision.models.densenet._Transition'>. Treat it as zero Macs and zero Params.\u001b[00m\n",
            "\u001b[91m[WARN] Cannot find rule for <class 'torch.nn.modules.container.Sequential'>. Treat it as zero Macs and zero Params.\u001b[00m\n",
            "[INFO] Register count_linear() for <class 'torch.nn.modules.linear.Linear'>.\n",
            "\u001b[91m[WARN] Cannot find rule for <class 'torchvision.models.densenet.DenseNet'>. Treat it as zero Macs and zero Params.\u001b[00m\n",
            "2.865672192\n"
          ]
        }
      ]
    },
    {
      "cell_type": "markdown",
      "source": [
        "# Calculating FLOPS using pynvml:"
      ],
      "metadata": {
        "id": "-t07H7MP5Of5"
      }
    },
    {
      "cell_type": "code",
      "source": [
        "\n",
        "from pynvml import *\n",
        "import torch\n",
        "\n",
        "\n",
        "def convert_bytes(bytes_number):\n",
        "    # tags = [ \"Byte\", \"Kilobyte\", \"Megabyte\", \"GB\", \"Terabyte\" ]\n",
        "\n",
        "    i = 0\n",
        "    double_bytes = bytes_number\n",
        "\n",
        "    while i < 2:\n",
        "        double_bytes = bytes_number / 1024.0\n",
        "        i = i + 1\n",
        "        bytes_number = bytes_number / 1024\n",
        "\n",
        "    return round(double_bytes, 3)  # + \" \" + tags[i]\n",
        "\n",
        "\n",
        "def profile_model(func, arg):\n",
        "    with torch.profiler.profile(\n",
        "        activities=[\n",
        "            torch.profiler.ProfilerActivity.CPU,\n",
        "        ],\n",
        "        profile_memory=True,\n",
        "        with_flops=True,\n",
        "    ) as p:\n",
        "        size = func(arg)\n",
        "    return (\n",
        "        sum([e.flops for e in p.events() if e.flops is not None]),\n",
        "        sum([e.cpu_memory_usage for e in p.events() if e.cpu_memory_usage is not None]),\n",
        "        size,\n",
        "    )\n",
        "    \n",
        "\n",
        "import torchvision.models as models\n",
        "\n",
        "@torch.no_grad()\n",
        "def memory_densenet(arg):\n",
        "    model = models.densenet121()\n",
        "    model.eval()\n",
        "    inp = torch.rand([1, 3, 224, 224])\n",
        "    out = model(inp)\n",
        "\n",
        "    torch.save(model, \"./temp.pth\")\n",
        "    return os.path.getsize(\"./temp.pth\")\n",
        "\n",
        "\n",
        "flops, _, memory_used = profile_model(memory_densenet, None)\n",
        "print('{:<30}  {:<8}'.format('Flops: ', flops))\n",
        "print('{:<30}  {:<8}'.format('Memory used: ', memory_used))\n"
      ],
      "metadata": {
        "colab": {
          "base_uri": "https://localhost:8080/"
        },
        "id": "Tu3PIWEj48Ty",
        "outputId": "28139d88-d27e-4c27-84c1-faa88c5ca0f0"
      },
      "execution_count": 4,
      "outputs": [
        {
          "output_type": "stream",
          "name": "stdout",
          "text": [
            "Flops:                          8613052416\n",
            "Memory used:                    32531347\n"
          ]
        }
      ]
    }
  ]
}