{
  "nbformat": 4,
  "nbformat_minor": 0,
  "metadata": {
    "colab": {
      "name": "flops.ipynb",
      "provenance": [],
      "authorship_tag": "ABX9TyNMqQdrexHBHHOHszTtIklt",
      "include_colab_link": true
    },
    "kernelspec": {
      "name": "python3",
      "display_name": "Python 3"
    },
    "language_info": {
      "name": "python"
    },
    "accelerator": "GPU"
  },
  "cells": [
    {
      "cell_type": "markdown",
      "metadata": {
        "id": "view-in-github",
        "colab_type": "text"
      },
      "source": [
        "<a href=\"https://colab.research.google.com/github/mobarakol/tutorial_notebooks/blob/main/flops.ipynb\" target=\"_parent\"><img src=\"https://colab.research.google.com/assets/colab-badge.svg\" alt=\"Open In Colab\"/></a>"
      ]
    },
    {
      "cell_type": "markdown",
      "source": [
        "Installing ptflops library"
      ],
      "metadata": {
        "id": "rFdxt0JAxJSR"
      }
    },
    {
      "cell_type": "code",
      "source": [
        "!pip -q install ptflops"
      ],
      "metadata": {
        "colab": {
          "base_uri": "https://localhost:8080/"
        },
        "id": "dQwi2LMttxg2",
        "outputId": "dfd1a33e-78b5-45d5-a883-446622e22ae4"
      },
      "execution_count": 1,
      "outputs": [
        {
          "output_type": "stream",
          "name": "stdout",
          "text": [
            "  Building wheel for ptflops (setup.py) ... \u001b[?25l\u001b[?25hdone\n"
          ]
        }
      ]
    },
    {
      "cell_type": "code",
      "source": [
        "import torchvision.models as models\n",
        "import torch\n",
        "from ptflops import get_model_complexity_info\n",
        "\n",
        "with torch.cuda.device(0):\n",
        "  net = models.densenet121()\n",
        "  flops, params = get_model_complexity_info(net, (3, 224, 224), as_strings=True,\n",
        "                                           print_per_layer_stat=False, verbose=True);\n",
        "  print('{:<30}  {:<8}'.format('Flops: ', flops))\n",
        "  print('{:<30}  {:<8}'.format('Number of parameters: ', params))"
      ],
      "metadata": {
        "colab": {
          "base_uri": "https://localhost:8080/"
        },
        "id": "TCZKDQ_BucyE",
        "outputId": "9839e35f-42be-4e01-dd03-6fad1ac2dd8b"
      },
      "execution_count": 13,
      "outputs": [
        {
          "output_type": "stream",
          "name": "stdout",
          "text": [
            "Warning: module _DenseLayer is treated as a zero-op.\n",
            "Warning: module _DenseBlock is treated as a zero-op.\n",
            "Warning: module _Transition is treated as a zero-op.\n",
            "Warning: module DenseNet is treated as a zero-op.\n",
            "Flops:                          2.88 GMac\n",
            "Number of parameters:           7.98 M  \n"
          ]
        }
      ]
    }
  ]
}