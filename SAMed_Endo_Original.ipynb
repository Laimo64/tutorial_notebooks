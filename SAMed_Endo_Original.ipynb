{
  "cells": [
    {
      "cell_type": "markdown",
      "metadata": {
        "id": "view-in-github",
        "colab_type": "text"
      },
      "source": [
        "<a href=\"https://colab.research.google.com/github/mobarakol/tutorial_notebooks/blob/main/SAMed_Endo_Original.ipynb\" target=\"_parent\"><img src=\"https://colab.research.google.com/assets/colab-badge.svg\" alt=\"Open In Colab\"/></a>"
      ]
    },
    {
      "cell_type": "markdown",
      "source": [
        "# Testing Urvi's Endonasal DataLoader\n",
        "\n",
        "17:33, Sep 27 - Resolved without actually having to test the dataloader since it was an issue with having a learning rate that is too high."
      ],
      "metadata": {
        "id": "eOsWljD0Omtz"
      }
    },
    {
      "cell_type": "code",
      "source": [
        "!git clone https://github.com/hitachinsk/SAMed.git\n",
        "%cd SAMed"
      ],
      "metadata": {
        "id": "OOdj5hfErLWK",
        "outputId": "92065068-2463-4ece-b24c-d38174411e6d",
        "colab": {
          "base_uri": "https://localhost:8080/"
        }
      },
      "execution_count": 1,
      "outputs": [
        {
          "output_type": "stream",
          "name": "stdout",
          "text": [
            "Cloning into 'SAMed'...\n",
            "remote: Enumerating objects: 225, done.\u001b[K\n",
            "remote: Counting objects: 100% (58/58), done.\u001b[K\n",
            "remote: Compressing objects: 100% (29/29), done.\u001b[K\n",
            "remote: Total 225 (delta 42), reused 29 (delta 29), pack-reused 167 (from 1)\u001b[K\n",
            "Receiving objects: 100% (225/225), 636.92 KiB | 13.00 MiB/s, done.\n",
            "Resolving deltas: 100% (103/103), done.\n",
            "/content/SAMed\n"
          ]
        }
      ]
    },
    {
      "cell_type": "code",
      "source": [
        "!gdown 157Q_e4oR4b-Wo4lywUIvQSHnNb7LFgR5\n",
        "!gdown 1P0Bm-05l-rfeghbrT1B62v5eN-3A-uOr\n",
        "!gdown 1_oCdoEEu3mNhRfFxeWyRerOKt8OEUvcg\n",
        "!unzip -q Endonasal_Slices_All.zip"
      ],
      "metadata": {
        "colab": {
          "base_uri": "https://localhost:8080/"
        },
        "id": "FbhpCXI-P8w7",
        "outputId": "613aaebd-274e-41af-8a74-76eb82aa0fde"
      },
      "execution_count": 2,
      "outputs": [
        {
          "output_type": "stream",
          "name": "stdout",
          "text": [
            "Downloading...\n",
            "From (original): https://drive.google.com/uc?id=157Q_e4oR4b-Wo4lywUIvQSHnNb7LFgR5\n",
            "From (redirected): https://drive.google.com/uc?id=157Q_e4oR4b-Wo4lywUIvQSHnNb7LFgR5&confirm=t&uuid=fbc367cf-b8c3-4eb7-ae48-9e498026d732\n",
            "To: /content/SAMed/Endonasal_Slices_All.zip\n",
            "100% 914M/914M [00:36<00:00, 25.0MB/s]\n",
            "Downloading...\n",
            "From: https://drive.google.com/uc?id=1P0Bm-05l-rfeghbrT1B62v5eN-3A-uOr\n",
            "To: /content/SAMed/epoch_159.pth\n",
            "100% 19.7M/19.7M [00:00<00:00, 163MB/s]\n",
            "Downloading...\n",
            "From (original): https://drive.google.com/uc?id=1_oCdoEEu3mNhRfFxeWyRerOKt8OEUvcg\n",
            "From (redirected): https://drive.google.com/uc?id=1_oCdoEEu3mNhRfFxeWyRerOKt8OEUvcg&confirm=t&uuid=01500747-5806-4fc2-8547-1bb12843a74b\n",
            "To: /content/SAMed/sam_vit_b_01ec64.pth\n",
            "100% 375M/375M [00:07<00:00, 47.4MB/s]\n"
          ]
        }
      ]
    },
    {
      "cell_type": "code",
      "source": [
        "!pip install -q einops==0.6.1 icecream==2.1.3 MedPy==0.4.0 monai==1.1.0 opencv_python==4.5.4.58 SimpleITK==2.2.1 tensorboardX==2.6 ml-collections==0.1.1 onnx==1.13.1 onnxruntime==1.14.1 tensorboardX torchmetrics"
      ],
      "metadata": {
        "id": "lBH-p_C-o_S2",
        "outputId": "e04327ab-4eee-42a2-9a06-8d146a737ffa",
        "colab": {
          "base_uri": "https://localhost:8080/"
        }
      },
      "execution_count": 3,
      "outputs": [
        {
          "output_type": "stream",
          "name": "stdout",
          "text": [
            "\u001b[?25l     \u001b[90m━━━━━━━━━━━━━━━━━━━━━━━━━━━━━━━━━━━━━━━━\u001b[0m \u001b[32m0.0/151.8 kB\u001b[0m \u001b[31m?\u001b[0m eta \u001b[36m-:--:--\u001b[0m\r\u001b[2K     \u001b[90m━━━━━━━━━━━━━━━━━━━━━━━━━━━━━━━━━━━━━━━━\u001b[0m \u001b[32m151.8/151.8 kB\u001b[0m \u001b[31m10.4 MB/s\u001b[0m eta \u001b[36m0:00:00\u001b[0m\n",
            "\u001b[?25h  Preparing metadata (setup.py) ... \u001b[?25l\u001b[?25hdone\n",
            "\u001b[2K     \u001b[90m━━━━━━━━━━━━━━━━━━━━━━━━━━━━━━━━━━━━━━━━\u001b[0m \u001b[32m77.9/77.9 kB\u001b[0m \u001b[31m6.9 MB/s\u001b[0m eta \u001b[36m0:00:00\u001b[0m\n",
            "\u001b[?25h  Preparing metadata (setup.py) ... \u001b[?25l\u001b[?25hdone\n",
            "\u001b[33mWARNING: The candidate selected for download or install is a yanked version: 'opencv-python' candidate (version 4.5.4.58 at https://files.pythonhosted.org/packages/ea/8c/e01428f31e473f765355c65c24f2dbd62a6a093a3248a9fa97bc65eeeb22/opencv_python-4.5.4.58-cp310-cp310-manylinux2014_x86_64.whl (from https://pypi.org/simple/opencv-python/) (requires-python:>=3.6))\n",
            "Reason for being yanked: deprecated, use  4.5.4.60\u001b[0m\u001b[33m\n",
            "\u001b[2K   \u001b[90m━━━━━━━━━━━━━━━━━━━━━━━━━━━━━━━━━━━━━━━━\u001b[0m \u001b[32m42.2/42.2 kB\u001b[0m \u001b[31m3.7 MB/s\u001b[0m eta \u001b[36m0:00:00\u001b[0m\n",
            "\u001b[2K   \u001b[90m━━━━━━━━━━━━━━━━━━━━━━━━━━━━━━━━━━━━━━━━\u001b[0m \u001b[32m1.2/1.2 MB\u001b[0m \u001b[31m56.9 MB/s\u001b[0m eta \u001b[36m0:00:00\u001b[0m\n",
            "\u001b[2K   \u001b[90m━━━━━━━━━━━━━━━━━━━━━━━━━━━━━━━━━━━━━━━━\u001b[0m \u001b[32m60.3/60.3 MB\u001b[0m \u001b[31m11.2 MB/s\u001b[0m eta \u001b[36m0:00:00\u001b[0m\n",
            "\u001b[2K   \u001b[90m━━━━━━━━━━━━━━━━━━━━━━━━━━━━━━━━━━━━━━━━\u001b[0m \u001b[32m52.7/52.7 MB\u001b[0m \u001b[31m9.7 MB/s\u001b[0m eta \u001b[36m0:00:00\u001b[0m\n",
            "\u001b[2K   \u001b[90m━━━━━━━━━━━━━━━━━━━━━━━━━━━━━━━━━━━━━━━━\u001b[0m \u001b[32m114.5/114.5 kB\u001b[0m \u001b[31m11.3 MB/s\u001b[0m eta \u001b[36m0:00:00\u001b[0m\n",
            "\u001b[2K   \u001b[90m━━━━━━━━━━━━━━━━━━━━━━━━━━━━━━━━━━━━━━━━\u001b[0m \u001b[32m13.5/13.5 MB\u001b[0m \u001b[31m90.3 MB/s\u001b[0m eta \u001b[36m0:00:00\u001b[0m\n",
            "\u001b[2K   \u001b[90m━━━━━━━━━━━━━━━━━━━━━━━━━━━━━━━━━━━━━━━━\u001b[0m \u001b[32m5.0/5.0 MB\u001b[0m \u001b[31m14.2 MB/s\u001b[0m eta \u001b[36m0:00:00\u001b[0m\n",
            "\u001b[2K   \u001b[90m━━━━━━━━━━━━━━━━━━━━━━━━━━━━━━━━━━━━━━━━\u001b[0m \u001b[32m869.5/869.5 kB\u001b[0m \u001b[31m47.1 MB/s\u001b[0m eta \u001b[36m0:00:00\u001b[0m\n",
            "\u001b[2K   \u001b[90m━━━━━━━━━━━━━━━━━━━━━━━━━━━━━━━━━━━━━━━━\u001b[0m \u001b[32m46.0/46.0 kB\u001b[0m \u001b[31m3.8 MB/s\u001b[0m eta \u001b[36m0:00:00\u001b[0m\n",
            "\u001b[2K   \u001b[90m━━━━━━━━━━━━━━━━━━━━━━━━━━━━━━━━━━━━━━━━\u001b[0m \u001b[32m86.8/86.8 kB\u001b[0m \u001b[31m8.1 MB/s\u001b[0m eta \u001b[36m0:00:00\u001b[0m\n",
            "\u001b[?25h  Building wheel for MedPy (setup.py) ... \u001b[?25l\u001b[?25hdone\n",
            "  Building wheel for ml-collections (setup.py) ... \u001b[?25l\u001b[?25hdone\n"
          ]
        }
      ]
    },
    {
      "cell_type": "code",
      "source": [
        "!pip3 -q install tqdm imageio[pyav] imageio-ffmpeg"
      ],
      "metadata": {
        "colab": {
          "base_uri": "https://localhost:8080/"
        },
        "id": "pX4Aot6Iiu6s",
        "outputId": "4cfc6fa4-f3f2-4cc3-cfe5-9351e1b8f3f4"
      },
      "execution_count": 4,
      "outputs": [
        {
          "output_type": "stream",
          "name": "stdout",
          "text": [
            "\u001b[2K   \u001b[90m━━━━━━━━━━━━━━━━━━━━━━━━━━━━━━━━━━━━━━━━\u001b[0m \u001b[32m33.1/33.1 MB\u001b[0m \u001b[31m17.5 MB/s\u001b[0m eta \u001b[36m0:00:00\u001b[0m\n",
            "\u001b[?25h"
          ]
        }
      ]
    },
    {
      "cell_type": "code",
      "source": [
        "%cd /content/SAMed\n",
        "import os\n",
        "import torch\n",
        "from torch.utils.data import Dataset, DataLoader\n",
        "from glob import glob\n",
        "import imageio as iio\n",
        "import matplotlib.pyplot as plt\n",
        "from glob import glob\n",
        "import numpy as np\n",
        "from scipy.ndimage import zoom\n",
        "from einops import repeat\n",
        "from scipy import ndimage\n",
        "import random\n",
        "from PIL import Image\n",
        "import cv2\n",
        "\n",
        "def normalise_intensity(image, ROI_thres=0.1):\n",
        "    pixel_thres = np.percentile(image, ROI_thres)\n",
        "    ROI = np.where(image > pixel_thres, image, 0) # If image value is greater than pixel threshold, return image value, otherwise return 0\n",
        "    mean = np.mean(ROI)\n",
        "    std = np.std(ROI)\n",
        "    ROI_norm = (ROI - mean) / (std + 1e-8) # Normalise ROI\n",
        "    return ROI_norm\n",
        "\n",
        "def random_rot_flip(image, label):\n",
        "    k = np.random.randint(0, 4)\n",
        "    image = np.rot90(image, k)\n",
        "    label = np.rot90(label, k)\n",
        "    axis = np.random.randint(0, 2)\n",
        "    image = np.flip(image, axis=axis).copy()\n",
        "    label = np.flip(label, axis=axis).copy()\n",
        "    return image, label\n",
        "\n",
        "\n",
        "def random_rotate(image, label):\n",
        "    angle = np.random.randint(-20, 20)\n",
        "    image = ndimage.rotate(image, angle, order=0, reshape=False)\n",
        "    label = ndimage.rotate(label, angle, order=0, reshape=False)\n",
        "    return image, label\n",
        "\n",
        "\n",
        "class RandomGenerator(object):\n",
        "    def __init__(self, output_size, low_res):\n",
        "        self.output_size = output_size\n",
        "        self.low_res = low_res\n",
        "\n",
        "    def __call__(self, sample):\n",
        "        image, label = sample['image'], sample['label']\n",
        "\n",
        "        if random.random() > 0.5:\n",
        "            image, label = random_rot_flip(image, label)\n",
        "        elif random.random() > 0.5:\n",
        "            image, label = random_rotate(image, label)\n",
        "        x, y = image.shape\n",
        "        if x != self.output_size[0] or y != self.output_size[1]:\n",
        "            image = zoom(image, (self.output_size[0] / x, self.output_size[1] / y), order=3)  # why not 3?\n",
        "            label = zoom(label, (self.output_size[0] / x, self.output_size[1] / y), order=0)\n",
        "        label_h, label_w = label.shape\n",
        "        low_res_label = zoom(label, (self.low_res[0] / label_h, self.low_res[1] / label_w), order=0)\n",
        "        image = torch.from_numpy(image.astype(np.float32)).unsqueeze(0)\n",
        "        image = repeat(image, 'c h w -> (repeat c) h w', repeat=3)\n",
        "        label = torch.from_numpy(label.astype(np.float32))\n",
        "        low_res_label = torch.from_numpy(low_res_label.astype(np.float32))\n",
        "        sample = {'image': image, 'label': label.long(), 'low_res_label': low_res_label.long()}\n",
        "        return sample\n",
        "\n",
        "class EndonasalDataset(Dataset):\n",
        "    def __init__(self, root='endonasal_train', low_res=None, isTrain=False):\n",
        "        self.img_path_all = glob(root + '/mri_t1c/*.png')  # Update the path and pattern\n",
        "        # print(self.img_path_all)\n",
        "        self.mask_path_all = [img_path.replace('mri_t1c', 'mri_masks') for img_path in self.img_path_all]\n",
        "        self.isTrain = isTrain\n",
        "        self.low_res = low_res\n",
        "\n",
        "    def __len__(self):\n",
        "      return len(self.img_path_all)\n",
        "\n",
        "    def __getitem__(self, index):\n",
        "        if not os.path.exists(self.img_path_all[index]):\n",
        "            raise ValueError(f\"Image file not found: {self.img_path_all[index]}\")\n",
        "\n",
        "        image = iio.imread(self.img_path_all[index])\n",
        "\n",
        "        # Add a check to handle potential errors during image reading\n",
        "        if image is None:\n",
        "            raise ValueError(f\"Failed to read image: {self.img_path_all[index]}\")\n",
        "\n",
        "        image = normalise_intensity(image)\n",
        "        image = zoom(image, (512/image.shape[0], 512/image.shape[1]), order=0)\n",
        "\n",
        "        # Check if the mask file exists\n",
        "        if not os.path.exists(self.mask_path_all[index]):\n",
        "            raise ValueError(f\"Mask file not found: {self.mask_path_all[index]}\")\n",
        "\n",
        "        label = iio.imread(self.mask_path_all[index])\n",
        "\n",
        "        if label is None:\n",
        "            raise ValueError(f\"Failed to read mask: {self.mask_path_all[index]}\")\n",
        "\n",
        "        label = zoom(label, (512/label.shape[0], 512/label.shape[1]), order=0)\n",
        "\n",
        "        if self.isTrain:\n",
        "            if random.random() > 0.5:\n",
        "                image, label = random_rot_flip(image, label)\n",
        "            elif random.random() > 0.5:\n",
        "                image, label = random_rotate(image, label)\n",
        "\n",
        "        image = repeat(np.expand_dims(image, axis=0), 'c h w -> (repeat c) h w', repeat=3)\n",
        "        image = torch.from_numpy(image).float() # Converting double to single precision float\n",
        "        sample = {'image': image, 'label': label}\n",
        "        if self.low_res:\n",
        "            low_res_label = zoom(label, (self.low_res/label.shape[0], self.low_res/label.shape[1]), order=0)\n",
        "            sample = {'image': image, 'label': label, 'low_res_label': low_res_label}\n",
        "\n",
        "        return sample\n",
        "\n",
        "seed = 1234\n",
        "batch_size = 10\n",
        "# Need to change the name of the Endonasal_Slices folder after gdowning\n",
        "db_train = EndonasalDataset(root='/content/SAMed/Endonasal_Slices_All/Train', low_res=128, isTrain=True)\n",
        "db_test = EndonasalDataset(root='/content/SAMed/Endonasal_Slices_All/Test', low_res=128)\n",
        "# print('Train Sample:', len(db_train), 'Test Sample:', len(db_test))\n",
        "\n",
        "\n",
        "def worker_init_fn(worker_id):\n",
        "        random.seed(seed + worker_id)\n",
        "\n",
        "trainloader = DataLoader(db_train, batch_size=batch_size, shuffle=True, num_workers=0, pin_memory=True,\n",
        "                             worker_init_fn=worker_init_fn)\n",
        "validloader = DataLoader(db_test, batch_size=batch_size, shuffle=False, num_workers=0, pin_memory=True,\n",
        "                             worker_init_fn=worker_init_fn)\n",
        "\n",
        "print('Training on:', 'train sample size:', len(db_train), 'test sample size:', len(db_test))\n",
        "import matplotlib.pyplot as plt\n",
        "idx = 0\n",
        "for sample_b in validloader:\n",
        "    # print(sample_b['image'][idx].shape, sample_b['label'][idx].shape)\n",
        "    print(sample_b['label'][idx].unique())\n",
        "    break\n",
        "\n",
        "plt.subplot(121); plt.imshow(sample_b['image'][idx][0], cmap='gray')\n",
        "plt.subplot(122); plt.imshow(sample_b['label'][idx], cmap='gray')"
      ],
      "metadata": {
        "id": "sjBWhYHsOq8g",
        "outputId": "ee091889-2643-411f-be4c-cb4218fb7803",
        "colab": {
          "base_uri": "https://localhost:8080/",
          "height": 454
        }
      },
      "execution_count": 5,
      "outputs": [
        {
          "output_type": "stream",
          "name": "stdout",
          "text": [
            "/content/SAMed\n",
            "Training on: train sample size: 7966 test sample size: 3414\n"
          ]
        },
        {
          "output_type": "stream",
          "name": "stderr",
          "text": [
            "<ipython-input-5-fc4575bc6682>:82: DeprecationWarning: Starting with ImageIO v3 the behavior of this function will switch to that of iio.v3.imread. To keep the current behavior (and make this warning disappear) use `import imageio.v2 as imageio` or call `imageio.v2.imread` directly.\n",
            "  image = iio.imread(self.img_path_all[index])\n",
            "<ipython-input-5-fc4575bc6682>:95: DeprecationWarning: Starting with ImageIO v3 the behavior of this function will switch to that of iio.v3.imread. To keep the current behavior (and make this warning disappear) use `import imageio.v2 as imageio` or call `imageio.v2.imread` directly.\n",
            "  label = iio.imread(self.mask_path_all[index])\n"
          ]
        },
        {
          "output_type": "stream",
          "name": "stdout",
          "text": [
            "tensor([0], dtype=torch.uint8)\n"
          ]
        },
        {
          "output_type": "execute_result",
          "data": {
            "text/plain": [
              "<matplotlib.image.AxesImage at 0x7ee45e2b1330>"
            ]
          },
          "metadata": {},
          "execution_count": 5
        },
        {
          "output_type": "display_data",
          "data": {
            "text/plain": [
              "<Figure size 640x480 with 2 Axes>"
            ],
            "image/png": "[encoded data removed]"
          },
          "metadata": {}
        }
      ]
    },
    {
      "cell_type": "code",
      "source": [
        "%cd /content/SAMed\n",
        "import argparse\n",
        "import logging\n",
        "import os\n",
        "import sys\n",
        "import random\n",
        "import numpy as np\n",
        "import torch\n",
        "import torch.backends.cudnn as cudnn\n",
        "from torch import nn\n",
        "import torch.optim as optim\n",
        "from tensorboardX import SummaryWriter\n",
        "from tqdm import tqdm\n",
        "from utils import DiceLoss, Focal_loss\n",
        "\n",
        "from importlib import import_module\n",
        "\n",
        "from sam_lora_image_encoder import LoRA_Sam\n",
        "from segment_anything import sam_model_registry\n",
        "from torch.nn.modules.loss import CrossEntropyLoss\n",
        "from utils import DiceLoss, Focal_loss\n",
        "import warnings\n",
        "\n",
        "# Disable all warnings\n",
        "warnings.filterwarnings(\"ignore\")\n",
        "\n",
        "# from trainer import trainer_synapse\n",
        "from icecream import ic\n",
        "\n",
        "def calc_loss(outputs, low_res_label_batch, ce_loss, dice_loss, dice_weight:float=0.8):\n",
        "    low_res_logits = outputs['low_res_logits']\n",
        "    loss_ce = ce_loss(low_res_logits, low_res_label_batch[:].long())\n",
        "    loss_dice = dice_loss(low_res_logits, low_res_label_batch, softmax=True)\n",
        "    loss = (1 - dice_weight) * loss_ce + dice_weight * loss_dice\n",
        "    return loss, loss_ce, loss_dice\n",
        "\n",
        "def trainer_synapse(args, model, snapshot_path, multimask_output, low_res):\n",
        "    # from datasets.dataset_synapse import Synapse_dataset, RandomGenerator\n",
        "    logging.basicConfig(filename=snapshot_path + \"/log.txt\", level=logging.INFO,\n",
        "                        format='[%(asctime)s.%(msecs)03d] %(message)s', datefmt='%H:%M:%S')\n",
        "    logging.getLogger().addHandler(logging.StreamHandler(sys.stdout))\n",
        "    logging.info(str(args))\n",
        "    base_lr = args.base_lr\n",
        "    num_classes = args.num_classes\n",
        "    batch_size = args.batch_size * args.n_gpu\n",
        "    # max_iterations = args.max_iterations\n",
        "    # db_train = Synapse_dataset(base_dir=args.root_path, list_dir=args.list_dir, split=\"train\",\n",
        "    #                            transform=transforms.Compose(\n",
        "    #                                [RandomGenerator(output_size=[args.img_size, args.img_size], low_res=[low_res, low_res])]))\n",
        "    # print(\"The length of train set is: {}\".format(len(db_train)))\n",
        "    db_train = EndonasalDataset(root=(args.root_path+'/Train'), low_res=128, isTrain=True)\n",
        "    db_valid = EndonasalDataset(root=(args.root_path+'/Test'), low_res=128)\n",
        "    # trainloader = DataLoader(train_dataset, batch_size=args.batch_size, shuffle=True, num_workers=2)\n",
        "    # testloader = DataLoader(test_dataset, batch_size=args.batch_size, shuffle=False, num_workers=2)\n",
        "    print('Training on:', 'train sample size:', len(db_train), 'test sample size:', len(db_valid), 'batch:', batch_size)\n",
        "\n",
        "\n",
        "    def worker_init_fn(worker_id):\n",
        "        random.seed(args.seed + worker_id)\n",
        "\n",
        "    trainloader = DataLoader(db_train, batch_size=batch_size, shuffle=True, num_workers=8, pin_memory=True,\n",
        "                             worker_init_fn=worker_init_fn)\n",
        "    validloader = DataLoader(db_valid, batch_size=batch_size, shuffle=False, num_workers=8, pin_memory=True,\n",
        "                             worker_init_fn=worker_init_fn)\n",
        "    if args.n_gpu > 1:\n",
        "        model = nn.DataParallel(model)\n",
        "    model.train()\n",
        "    ce_loss = CrossEntropyLoss()\n",
        "    dice_loss = DiceLoss(num_classes + 1)\n",
        "    if args.warmup:\n",
        "        b_lr = base_lr / args.warmup_period\n",
        "    else:\n",
        "        b_lr = base_lr\n",
        "    if args.AdamW:\n",
        "        optimizer = optim.AdamW(filter(lambda p: p.requires_grad, model.parameters()), lr=b_lr, betas=(0.9, 0.999), weight_decay=0.1)\n",
        "    else:\n",
        "        optimizer = optim.SGD(filter(lambda p: p.requires_grad, model.parameters()), lr=b_lr, momentum=0.9, weight_decay=0.0001)  # Even pass the model.parameters(), the `requires_grad=False` layers will not update\n",
        "    writer = SummaryWriter(snapshot_path + '/log')\n",
        "    iter_num = 0\n",
        "    max_epoch = args.max_epochs\n",
        "    stop_epoch = args.stop_epoch\n",
        "    max_iterations = args.max_epochs * len(trainloader)  # max_epoch = max_iterations // len(trainloader) + 1\n",
        "    logging.info(\"{} iterations per epoch. {} max iterations \".format(len(trainloader), max_iterations))\n",
        "    best_performance = 0.0\n",
        "    # iterator = tqdm(range(max_epoch), ncols=70)\n",
        "    best_epoch = 0\n",
        "    best_loss_val = np.inf\n",
        "    for epoch_num in range(max_epoch):\n",
        "        for i_batch, sampled_batch in enumerate(tqdm(trainloader)):\n",
        "            image_batch, label_batch = sampled_batch['image'], sampled_batch['label']  # [b, c, h, w], [b, h, w]\n",
        "            low_res_label_batch = sampled_batch['low_res_label']\n",
        "            image_batch, label_batch = image_batch.cuda(), label_batch.cuda()\n",
        "            low_res_label_batch = low_res_label_batch.cuda()\n",
        "            # print('image_batchimage_batch:',image_batch.shape)\n",
        "            # assert image_batch.max() <= 3, f'image_batch max: {image_batch.max()}'\n",
        "            outputs = model(image_batch, multimask_output, args.img_size)\n",
        "            loss, loss_ce, loss_dice = calc_loss(outputs, low_res_label_batch, ce_loss, dice_loss, args.dice_param)\n",
        "            # print(\"Epoch:{}/{}, loss:{}, loss_ce:{}, loss_dice:{}\".format(epoch_num, iterator, loss.item(), loss_ce.item(), loss_dice.item()))\n",
        "            optimizer.zero_grad()\n",
        "            loss.backward()\n",
        "            optimizer.step()\n",
        "            if args.warmup and iter_num < args.warmup_period:\n",
        "                lr_ = base_lr * ((iter_num + 1) / args.warmup_period)\n",
        "                for param_group in optimizer.param_groups:\n",
        "                    param_group['lr'] = lr_\n",
        "            else:\n",
        "                if args.warmup:\n",
        "                    shift_iter = iter_num - args.warmup_period\n",
        "                    assert shift_iter >= 0, f'Shift iter is {shift_iter}, smaller than zero'\n",
        "                else:\n",
        "                    shift_iter = iter_num\n",
        "                lr_ = base_lr * (1.0 - shift_iter / max_iterations) ** 0.9  # learning rate adjustment depends on the max iterations\n",
        "                for param_group in optimizer.param_groups:\n",
        "                    param_group['lr'] = lr_\n",
        "\n",
        "            iter_num = iter_num + 1\n",
        "            writer.add_scalar('info/lr', lr_, iter_num)\n",
        "            writer.add_scalar('info/total_loss', loss, iter_num)\n",
        "            writer.add_scalar('info/loss_ce', loss_ce, iter_num)\n",
        "            writer.add_scalar('info/loss_dice', loss_dice, iter_num)\n",
        "\n",
        "            logging.info('iteration %d : loss : %f, loss_ce: %f, loss_dice: %f' % (iter_num, loss.item(), loss_ce.item(), loss_dice.item()))\n",
        "\n",
        "            if iter_num % 20 == 0:\n",
        "                image = image_batch[1, 0:1, :, :]\n",
        "                image = (image - image.min()) / (image.max() - image.min())\n",
        "                writer.add_image('train/Image', image, iter_num)\n",
        "                output_masks = outputs['masks']\n",
        "                output_masks = torch.argmax(torch.softmax(output_masks, dim=1), dim=1, keepdim=True)\n",
        "                writer.add_image('train/Prediction', output_masks[1, ...] * 50, iter_num)\n",
        "                labs = label_batch[1, ...].unsqueeze(0) * 50\n",
        "                writer.add_image('train/GroundTruth', labs, iter_num)\n",
        "        with torch.no_grad():\n",
        "            for i_batch, sampled_batch in enumerate(validloader):\n",
        "                image_batch, label_batch = sampled_batch['image'], sampled_batch['label']  # [b, c, h, w], [b, h, w]\n",
        "                low_res_label_batch = sampled_batch['low_res_label']\n",
        "                image_batch, label_batch = image_batch.cuda(), label_batch.cuda()\n",
        "                low_res_label_batch = low_res_label_batch.cuda()\n",
        "                # assert image_batch.max() <= 3, f'image_batch max: {image_batch.max()}'\n",
        "                outputs = model(image_batch, multimask_output, args.img_size)\n",
        "                loss_val, _, _ = calc_loss(outputs, low_res_label_batch, ce_loss, dice_loss, args.dice_param)\n",
        "\n",
        "        if loss_val < best_loss_val:\n",
        "            best_loss_val = loss_val\n",
        "            best_epoch = epoch_num\n",
        "            save_mode_path = os.path.join(snapshot_path, 'epoch_' + str(epoch_num) + '.pth')\n",
        "            try:\n",
        "                model.save_lora_parameters(save_mode_path)\n",
        "            except:\n",
        "                model.module.save_lora_parameters(save_mode_path)\n",
        "\n",
        "        print(\"Epoch:{}/{}, loss:{}, best loss:{}, best epoch:{}\".format(epoch_num, max_epoch, loss_val, best_loss_val, best_epoch))\n",
        "        # print(\"Epoch:{}/{}, loss:{}\".format(epoch_num, iterator, loss.item())\n",
        "        # save_interval = 20 # int(max_epoch/6)\n",
        "        # if (epoch_num + 1) % save_interval == 0:\n",
        "        #     save_mode_path = os.path.join(snapshot_path, 'epoch_' + str(epoch_num) + '.pth')\n",
        "        #     try:\n",
        "        #         model.save_lora_parameters(save_mode_path)\n",
        "        #     except:\n",
        "        #         model.module.save_lora_parameters(save_mode_path)\n",
        "        #     logging.info(\"save model to {}\".format(save_mode_path))\n",
        "\n",
        "        if epoch_num >= max_epoch - 1 or epoch_num >= stop_epoch - 1:\n",
        "            save_mode_path = os.path.join(snapshot_path, 'epoch_' + str(epoch_num) + '.pth')\n",
        "            try:\n",
        "                model.save_lora_parameters(save_mode_path)\n",
        "            except:\n",
        "                model.module.save_lora_parameters(save_mode_path)\n",
        "            logging.info(\"save model to {}\".format(save_mode_path))\n",
        "            iterator.close()\n",
        "            break\n",
        "\n",
        "    writer.close()\n",
        "    return \"Training Finished!\"\n",
        "\n",
        "\n",
        "\n",
        "parser = argparse.ArgumentParser()\n",
        "parser.add_argument('--root_path', type=str,\n",
        "                    default='/data/LarryXu/Synapse/preprocessed_data/train_npz', help='root dir for data')\n",
        "parser.add_argument('--output', type=str, default='/output/sam/results')\n",
        "parser.add_argument('--dataset', type=str,\n",
        "                    default='Synapse', help='experiment_name')\n",
        "parser.add_argument('--list_dir', type=str,\n",
        "                    default='./lists/lists_Synapse', help='list dir')\n",
        "parser.add_argument('--num_classes', type=int,\n",
        "                    default=2, help='output channel of network')\n",
        "parser.add_argument('--max_iterations', type=int,\n",
        "                    default=30000, help='maximum epoch number to train')\n",
        "parser.add_argument('--max_epochs', type=int,\n",
        "                    default=200, help='maximum epoch number to train')\n",
        "parser.add_argument('--stop_epoch', type=int,\n",
        "                    default=160, help='maximum epoch number to train')\n",
        "parser.add_argument('--batch_size', type=int,\n",
        "                    default=4, help='batch_size per gpu')\n",
        "parser.add_argument('--n_gpu', type=int, default=1, help='total gpu')\n",
        "parser.add_argument('--deterministic', type=int, default=1,\n",
        "                    help='whether use deterministic training')\n",
        "parser.add_argument('--base_lr', type=float, default=0.0005,\n",
        "                    help='segmentation network learning rate')\n",
        "parser.add_argument('--img_size', type=int,\n",
        "                    default=512, help='input patch size of network input')\n",
        "parser.add_argument('--seed', type=int,\n",
        "                    default=1234, help='random seed')\n",
        "parser.add_argument('--vit_name', type=str,\n",
        "                    default='vit_b', help='select one vit model')\n",
        "parser.add_argument('--ckpt', type=str, default='checkpoints/sam_vit_b_01ec64.pth',\n",
        "                    help='Pretrained checkpoint')\n",
        "parser.add_argument('--lora_ckpt', type=str, default=None, help='Finetuned lora checkpoint')\n",
        "parser.add_argument('--rank', type=int, default=6, help='Rank for LoRA adaptation')\n",
        "parser.add_argument('--warmup', action='store_true', help='If activated, warp up the learning from a lower lr to the base_lr')\n",
        "parser.add_argument('--warmup_period', type=int, default=250,\n",
        "                    help='Warp up iterations, only valid whrn warmup is activated')\n",
        "parser.add_argument('--AdamW', action='store_true', help='If activated, use AdamW to finetune SAM model')\n",
        "parser.add_argument('--module', type=str, default='sam_lora_image_encoder')\n",
        "parser.add_argument('--dice_param', type=float, default=0.8)\n",
        "\n",
        "if 'ipykernel' in sys.modules:\n",
        "    args = parser.parse_args([])\n",
        "else:\n",
        "    args = parser.parse_args()\n",
        "\n",
        "args.output_dir = 'results'\n",
        "args.ckpt = 'sam_vit_b_01ec64.pth'\n",
        "args.lora_ckpt = 'epoch_159.pth'\n",
        "args.root_path = '/content/SAMed/Endonasal_Slices_All'\n",
        "os.makedirs(args.output_dir, exist_ok = True)\n",
        "\n",
        "\n",
        "if __name__ == \"__main__\":\n",
        "    if not args.deterministic:\n",
        "        cudnn.benchmark = True\n",
        "        cudnn.deterministic = False\n",
        "    else:\n",
        "        cudnn.benchmark = False\n",
        "        cudnn.deterministic = True\n",
        "\n",
        "    random.seed(args.seed)\n",
        "    np.random.seed(args.seed)\n",
        "    torch.manual_seed(args.seed)\n",
        "    torch.cuda.manual_seed(args.seed)\n",
        "    dataset_name = args.dataset\n",
        "    dataset_config = {\n",
        "        'Synapse': {\n",
        "            'root_path': args.root_path,\n",
        "            'list_dir': args.list_dir,\n",
        "            'num_classes': args.num_classes,\n",
        "        }\n",
        "    }\n",
        "    args.is_pretrain = True\n",
        "    args.exp = dataset_name + '_' + str(args.img_size)\n",
        "    snapshot_path = os.path.join(args.output, \"{}\".format(args.exp))\n",
        "    snapshot_path = snapshot_path + '_pretrain' if args.is_pretrain else snapshot_path\n",
        "    snapshot_path += '_' + args.vit_name\n",
        "    snapshot_path = snapshot_path + '_' + str(args.max_iterations)[\n",
        "                                          0:2] + 'k' if args.max_iterations != 30000 else snapshot_path\n",
        "    snapshot_path = snapshot_path + '_epo' + str(args.max_epochs) if args.max_epochs != 30 else snapshot_path\n",
        "    snapshot_path = snapshot_path + '_bs' + str(args.batch_size)\n",
        "    snapshot_path = snapshot_path + '_lr' + str(args.base_lr) if args.base_lr != 0.01 else snapshot_path\n",
        "    snapshot_path = snapshot_path + '_s' + str(args.seed) if args.seed != 1234 else snapshot_path\n",
        "\n",
        "    if not os.path.exists(snapshot_path):\n",
        "        os.makedirs(snapshot_path)\n",
        "\n",
        "    # register model\n",
        "    sam, img_embedding_size = sam_model_registry[args.vit_name](image_size=args.img_size,\n",
        "                                                                num_classes=args.num_classes,\n",
        "                                                                checkpoint=args.ckpt, pixel_mean=[0, 0, 0],\n",
        "                                                                pixel_std=[1, 1, 1])\n",
        "\n",
        "    pkg = import_module(args.module)\n",
        "    net = pkg.LoRA_Sam(sam, args.rank).cuda()\n",
        "\n",
        "    # net = LoRA_Sam(sam, args.rank).cuda()\n",
        "    # if args.lora_ckpt is not None:\n",
        "    #     net.load_lora_parameters(args.lora_ckpt)\n",
        "\n",
        "    if args.num_classes > 1:\n",
        "        multimask_output = True\n",
        "    else:\n",
        "        multimask_output = False\n",
        "\n",
        "    low_res = img_embedding_size * 4\n",
        "\n",
        "    config_file = os.path.join(snapshot_path, 'config.txt')\n",
        "    config_items = []\n",
        "    for key, value in args.__dict__.items():\n",
        "        config_items.append(f'{key}: {value}\\n')\n",
        "\n",
        "    with open(config_file, 'w') as f:\n",
        "        f.writelines(config_items)\n",
        "\n",
        "    trainer = {'Synapse': trainer_synapse}\n",
        "    trainer[dataset_name](args, net, snapshot_path, multimask_output, low_res)"
      ],
      "metadata": {
        "id": "SCeWxD-QrT1j",
        "outputId": "a9c03157-2cdb-4d35-aa5c-b7c9ddd421d7",
        "colab": {
          "base_uri": "https://localhost:8080/",
          "height": 501
        }
      },
      "execution_count": 12,
      "outputs": [
        {
          "output_type": "stream",
          "name": "stdout",
          "text": [
            "/content/SAMed\n",
            "Training on: train sample size: 7966 test sample size: 3414 batch: 4\n"
          ]
        },
        {
          "output_type": "stream",
          "name": "stderr",
          "text": [
            "  5%|▍         | 99/1992 [01:24<25:54,  1.22it/s]WARNING:tensorboardX.x2num:NaN or Inf found in input tensor.\n"
          ]
        },
        {
          "output_type": "stream",
          "name": "stdout",
          "text": [
            "NaN or Inf found in input tensor.\n",
            "NaN or Inf found in input tensor.\n",
            "NaN or Inf found in input tensor.\n",
            "NaN or Inf found in input tensor.\n",
            "NaN or Inf found in input tensor.\n",
            "NaN or Inf found in input tensor.\n",
            "NaN or Inf found in input tensor.\n"
          ]
        },
        {
          "output_type": "stream",
          "name": "stderr",
          "text": [
            "100%|██████████| 1992/1992 [27:29<00:00,  1.21it/s]\n"
          ]
        },
        {
          "output_type": "error",
          "ename": "NameError",
          "evalue": "name 'iterator' is not defined",
          "traceback": [
            "\u001b[0;31m---------------------------------------------------------------------------\u001b[0m",
            "\u001b[0;31mNameError\u001b[0m                                 Traceback (most recent call last)",
            "\u001b[0;32m<ipython-input-12-b038b8f7557b>\u001b[0m in \u001b[0;36m<cell line: 230>\u001b[0;34m()\u001b[0m\n\u001b[1;32m    292\u001b[0m \u001b[0;34m\u001b[0m\u001b[0m\n\u001b[1;32m    293\u001b[0m     \u001b[0mtrainer\u001b[0m \u001b[0;34m=\u001b[0m \u001b[0;34m{\u001b[0m\u001b[0;34m'Synapse'\u001b[0m\u001b[0;34m:\u001b[0m \u001b[0mtrainer_synapse\u001b[0m\u001b[0;34m}\u001b[0m\u001b[0;34m\u001b[0m\u001b[0;34m\u001b[0m\u001b[0m\n\u001b[0;32m--> 294\u001b[0;31m     \u001b[0mtrainer\u001b[0m\u001b[0;34m[\u001b[0m\u001b[0mdataset_name\u001b[0m\u001b[0;34m]\u001b[0m\u001b[0;34m(\u001b[0m\u001b[0margs\u001b[0m\u001b[0;34m,\u001b[0m \u001b[0mnet\u001b[0m\u001b[0;34m,\u001b[0m \u001b[0msnapshot_path\u001b[0m\u001b[0;34m,\u001b[0m \u001b[0mmultimask_output\u001b[0m\u001b[0;34m,\u001b[0m \u001b[0mlow_res\u001b[0m\u001b[0;34m)\u001b[0m\u001b[0;34m\u001b[0m\u001b[0;34m\u001b[0m\u001b[0m\n\u001b[0m",
            "\u001b[0;32m<ipython-input-12-b038b8f7557b>\u001b[0m in \u001b[0;36mtrainer_synapse\u001b[0;34m(args, model, snapshot_path, multimask_output, low_res)\u001b[0m\n\u001b[1;32m    150\u001b[0m                 \u001b[0mmodel\u001b[0m\u001b[0;34m.\u001b[0m\u001b[0mmodule\u001b[0m\u001b[0;34m.\u001b[0m\u001b[0msave_lora_parameters\u001b[0m\u001b[0;34m(\u001b[0m\u001b[0msave_mode_path\u001b[0m\u001b[0;34m)\u001b[0m\u001b[0;34m\u001b[0m\u001b[0;34m\u001b[0m\u001b[0m\n\u001b[1;32m    151\u001b[0m \u001b[0;34m\u001b[0m\u001b[0m\n\u001b[0;32m--> 152\u001b[0;31m         \u001b[0mprint\u001b[0m\u001b[0;34m(\u001b[0m\u001b[0;34m\"Epoch:{}/{}, loss:{}, best loss:{}, best epoch:{}\"\u001b[0m\u001b[0;34m.\u001b[0m\u001b[0mformat\u001b[0m\u001b[0;34m(\u001b[0m\u001b[0mepoch_num\u001b[0m\u001b[0;34m,\u001b[0m \u001b[0miterator\u001b[0m\u001b[0;34m,\u001b[0m \u001b[0mloss_val\u001b[0m\u001b[0;34m,\u001b[0m \u001b[0mbest_loss_val\u001b[0m\u001b[0;34m,\u001b[0m \u001b[0mbest_epoch\u001b[0m\u001b[0;34m)\u001b[0m\u001b[0;34m)\u001b[0m\u001b[0;34m\u001b[0m\u001b[0;34m\u001b[0m\u001b[0m\n\u001b[0m\u001b[1;32m    153\u001b[0m         \u001b[0;31m# print(\"Epoch:{}/{}, loss:{}\".format(epoch_num, iterator, loss.item())\u001b[0m\u001b[0;34m\u001b[0m\u001b[0;34m\u001b[0m\u001b[0m\n\u001b[1;32m    154\u001b[0m         \u001b[0;31m# save_interval = 20 # int(max_epoch/6)\u001b[0m\u001b[0;34m\u001b[0m\u001b[0;34m\u001b[0m\u001b[0m\n",
            "\u001b[0;31mNameError\u001b[0m: name 'iterator' is not defined"
          ]
        }
      ]
    },
    {
      "cell_type": "code",
      "source": [
        "!nvidia-smi"
      ],
      "metadata": {
        "id": "WZk4L-4_s4PF",
        "outputId": "de6d6518-4e09-417b-83cc-e7ef21cb0578",
        "colab": {
          "base_uri": "https://localhost:8080/"
        }
      },
      "execution_count": null,
      "outputs": [
        {
          "output_type": "stream",
          "name": "stdout",
          "text": [
            "Mon Oct 14 19:26:20 2024       \n",
            "+---------------------------------------------------------------------------------------+\n",
            "| NVIDIA-SMI 535.104.05             Driver Version: 535.104.05   CUDA Version: 12.2     |\n",
            "|-----------------------------------------+----------------------+----------------------+\n",
            "| GPU  Name                 Persistence-M | Bus-Id        Disp.A | Volatile Uncorr. ECC |\n",
            "| Fan  Temp   Perf          Pwr:Usage/Cap |         Memory-Usage | GPU-Util  Compute M. |\n",
            "|                                         |                      |               MIG M. |\n",
            "|=========================================+======================+======================|\n",
            "|   0  Tesla T4                       Off | 00000000:00:04.0 Off |                    0 |\n",
            "| N/A   73C    P0              32W /  70W |   6929MiB / 15360MiB |      0%      Default |\n",
            "|                                         |                      |                  N/A |\n",
            "+-----------------------------------------+----------------------+----------------------+\n",
            "                                                                                         \n",
            "+---------------------------------------------------------------------------------------+\n",
            "| Processes:                                                                            |\n",
            "|  GPU   GI   CI        PID   Type   Process name                            GPU Memory |\n",
            "|        ID   ID                                                             Usage      |\n",
            "|=======================================================================================|\n",
            "+---------------------------------------------------------------------------------------+\n"
          ]
        }
      ]
    },
    {
      "cell_type": "code",
      "source": [],
      "metadata": {
        "id": "t9rb3hcOc3TY"
      },
      "execution_count": null,
      "outputs": []
    }
  ],
  "metadata": {
    "colab": {
      "provenance": [],
      "collapsed_sections": [
        "HdvvuXWAYXAw",
        "gd7ctcOzVl2y"
      ],
      "gpuType": "T4",
      "include_colab_link": true
    },
    "kernelspec": {
      "display_name": "Python 3",
      "name": "python3"
    },
    "language_info": {
      "name": "python"
    },
    "accelerator": "GPU"
  },
  "nbformat": 4,
  "nbformat_minor": 0
}