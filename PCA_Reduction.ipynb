{
  "nbformat": 4,
  "nbformat_minor": 0,
  "metadata": {
    "colab": {
      "provenance": [],
      "authorship_tag": "ABX9TyOuiqXQOUAy6sjl8zva+afW",
      "include_colab_link": true
    },
    "kernelspec": {
      "name": "python3",
      "display_name": "Python 3"
    },
    "language_info": {
      "name": "python"
    }
  },
  "cells": [
    {
      "cell_type": "markdown",
      "metadata": {
        "id": "view-in-github",
        "colab_type": "text"
      },
      "source": [
        "<a href=\"https://colab.research.google.com/github/mobarakol/tutorial_notebooks/blob/main/PCA_Reduction.ipynb\" target=\"_parent\"><img src=\"https://colab.research.google.com/assets/colab-badge.svg\" alt=\"Open In Colab\"/></a>"
      ]
    },
    {
      "cell_type": "markdown",
      "source": [
        "PCA from scratch:"
      ],
      "metadata": {
        "id": "IpdwVCmsVwEn"
      }
    },
    {
      "cell_type": "code",
      "execution_count": 8,
      "metadata": {
        "colab": {
          "base_uri": "https://localhost:8080/"
        },
        "id": "pbAPbEwWPXiY",
        "outputId": "b1077663-5412-491d-ce82-f54b1763ab1d"
      },
      "outputs": [
        {
          "output_type": "execute_result",
          "data": {
            "text/plain": [
              "((20, 5), (20, 2))"
            ]
          },
          "metadata": {},
          "execution_count": 8
        }
      ],
      "source": [
        "#Importing required libraries\n",
        "import numpy as np\n",
        "\n",
        "#Generate a dummy dataset.\n",
        "X = np.random.randint(10,50,100).reshape(20,5)\n",
        "# mean Centering the data\n",
        "X_meaned = X - np.mean(X , axis = 0)\n",
        "\n",
        "# calculating the covariance matrix of the mean-centered data.\n",
        "cov_mat = np.cov(X_meaned , rowvar = False)\n",
        "\n",
        "#Calculating Eigenvalues and Eigenvectors of the covariance matrix\n",
        "eigen_values , eigen_vectors = np.linalg.eigh(cov_mat)\n",
        "\n",
        "#sort the eigenvalues in descending order\n",
        "sorted_index = np.argsort(eigen_values)[::-1]\n",
        "\n",
        "sorted_eigenvalue = eigen_values[sorted_index]\n",
        "#similarly sort the eigenvectors\n",
        "sorted_eigenvectors = eigen_vectors[:,sorted_index]\n",
        "\n",
        "# select the first n eigenvectors, n is desired dimension\n",
        "# of our final reduced data.\n",
        "\n",
        "n_components = 2 #you can select any number of components.\n",
        "eigenvector_subset = sorted_eigenvectors[:,0:n_components]\n",
        "\n",
        "#Transform the data\n",
        "X_reduced = np.dot(eigenvector_subset.transpose(),X_meaned.transpose()).transpose()\n",
        "X.shape, X_reduced.shape"
      ]
    },
    {
      "cell_type": "markdown",
      "source": [
        "Exact PCA from SKLEARN:"
      ],
      "metadata": {
        "id": "61pyTg29SV77"
      }
    },
    {
      "cell_type": "code",
      "source": [
        "from sklearn.decomposition import PCA\n",
        "X = np.random.randint(10,50,100).reshape(20,5)\n",
        "pca = PCA(n_components = 2)\n",
        "fit = pca.fit(X)\n",
        "X_reduced = fit.components_\n",
        "X.shape, X_reduced.shape"
      ],
      "metadata": {
        "colab": {
          "base_uri": "https://localhost:8080/"
        },
        "id": "ZmTVJ0pkPaVl",
        "outputId": "3879346f-fdd2-4b80-e671-1449224bb39b"
      },
      "execution_count": 20,
      "outputs": [
        {
          "output_type": "execute_result",
          "data": {
            "text/plain": [
              "((20, 5), (2, 5))"
            ]
          },
          "metadata": {},
          "execution_count": 20
        }
      ]
    },
    {
      "cell_type": "code",
      "source": [
        "from sklearn.decomposition import PCA\n",
        "X = np.random.randint(10,50,100).reshape(20,5)\n",
        "X = X.transpose(1,0)\n",
        "pca = PCA(n_components = 2)\n",
        "fit = pca.fit(X)\n",
        "X_reduced = fit.components_\n",
        "X.shape, X_reduced.shape"
      ],
      "metadata": {
        "colab": {
          "base_uri": "https://localhost:8080/"
        },
        "id": "qg9N8rW2QX7n",
        "outputId": "79906ce9-523a-406e-8932-5c6023334e18"
      },
      "execution_count": 22,
      "outputs": [
        {
          "output_type": "execute_result",
          "data": {
            "text/plain": [
              "((5, 20), (2, 20))"
            ]
          },
          "metadata": {},
          "execution_count": 22
        }
      ]
    },
    {
      "cell_type": "markdown",
      "source": [
        "Incremental PCA:"
      ],
      "metadata": {
        "id": "7CFHjjmHSZeo"
      }
    },
    {
      "cell_type": "code",
      "source": [
        "from sklearn.datasets import load_digits\n",
        "from sklearn.decomposition import IncrementalPCA\n",
        "\n",
        "X = np.random.randint(10,50,100).reshape(20,5)\n",
        "pca = IncrementalPCA(n_components = 2)\n",
        "fit = pca.fit(X)\n",
        "X_reduced = fit.components_\n",
        "X.shape, X_reduced.shape"
      ],
      "metadata": {
        "colab": {
          "base_uri": "https://localhost:8080/"
        },
        "id": "G6Gu87kDRnu3",
        "outputId": "4ca61b72-7f93-4e04-fb6a-f1b8838a6167"
      },
      "execution_count": 23,
      "outputs": [
        {
          "output_type": "execute_result",
          "data": {
            "text/plain": [
              "((20, 5), (2, 5))"
            ]
          },
          "metadata": {},
          "execution_count": 23
        }
      ]
    },
    {
      "cell_type": "code",
      "source": [
        "from sklearn.decomposition import IncrementalPCA\n",
        "\n",
        "X = np.random.randint(10,50,100).reshape(20,5)\n",
        "X = X.transpose(1,0)\n",
        "pca = IncrementalPCA(n_components = 2)\n",
        "X_transformed = pca.fit_transform(X)\n",
        "X.shape, X_transformed.shape"
      ],
      "metadata": {
        "colab": {
          "base_uri": "https://localhost:8080/"
        },
        "id": "CV1k-PNBS4Tq",
        "outputId": "0ea8a478-0101-4fe7-f22c-f100e223363d"
      },
      "execution_count": 26,
      "outputs": [
        {
          "output_type": "execute_result",
          "data": {
            "text/plain": [
              "((5, 20), (5, 2))"
            ]
          },
          "metadata": {},
          "execution_count": 26
        }
      ]
    },
    {
      "cell_type": "markdown",
      "source": [
        "Kernel PCA:"
      ],
      "metadata": {
        "id": "GaA5pkQ8Sl7Q"
      }
    },
    {
      "cell_type": "code",
      "source": [
        "from sklearn.decomposition import KernelPCA\n",
        "\n",
        "X = np.random.randint(10,50,100).reshape(20,5)\n",
        "X = X.transpose(1,0)\n",
        "pca = KernelPCA(n_components = 2,  kernel = 'sigmoid')\n",
        "X_transformed = pca.fit_transform(X)\n",
        "X.shape, X_transformed.shape"
      ],
      "metadata": {
        "colab": {
          "base_uri": "https://localhost:8080/"
        },
        "id": "gTG5gaPKSih7",
        "outputId": "4232a55f-f946-4d63-fb96-c058041333e2"
      },
      "execution_count": 28,
      "outputs": [
        {
          "output_type": "execute_result",
          "data": {
            "text/plain": [
              "((5, 20), (5, 2))"
            ]
          },
          "metadata": {},
          "execution_count": 28
        }
      ]
    },
    {
      "cell_type": "markdown",
      "source": [
        "PCA using randomized SVD:"
      ],
      "metadata": {
        "id": "W2t1vTxOTT6j"
      }
    },
    {
      "cell_type": "code",
      "source": [
        "from sklearn.decomposition import KernelPCA\n",
        "\n",
        "X = np.random.randint(10,50,100).reshape(20,5)\n",
        "pca = PCA(n_components = 2, svd_solver = 'randomized')\n",
        "fit = pca.fit(X)\n",
        "X_reduced = fit.components_\n",
        "X.shape, X_reduced.shape"
      ],
      "metadata": {
        "colab": {
          "base_uri": "https://localhost:8080/"
        },
        "id": "hOsSsK8NUhJm",
        "outputId": "48866f2f-2312-4fa1-b1db-096ce3defc78"
      },
      "execution_count": 30,
      "outputs": [
        {
          "output_type": "execute_result",
          "data": {
            "text/plain": [
              "((20, 5), (2, 5))"
            ]
          },
          "metadata": {},
          "execution_count": 30
        }
      ]
    },
    {
      "cell_type": "markdown",
      "source": [
        "SVD for dimension reduction:"
      ],
      "metadata": {
        "id": "VTpVtUDBXADZ"
      }
    },
    {
      "cell_type": "code",
      "source": [
        "from sklearn.decomposition import TruncatedSVD\n",
        "X = np.random.randint(10,50,100).reshape(20,5)\n",
        "X = X.transpose(1,0)\n",
        "svd = TruncatedSVD(n_components=2)\n",
        "X_transformed = pca.fit_transform(X)\n",
        "X.shape, X_transformed.shape"
      ],
      "metadata": {
        "colab": {
          "base_uri": "https://localhost:8080/"
        },
        "id": "ypHKGWLvVGT7",
        "outputId": "e60165bf-a821-43e8-93c2-a9d8ca2305b3"
      },
      "execution_count": 32,
      "outputs": [
        {
          "output_type": "execute_result",
          "data": {
            "text/plain": [
              "((5, 20), (5, 2))"
            ]
          },
          "metadata": {},
          "execution_count": 32
        }
      ]
    },
    {
      "cell_type": "code",
      "source": [],
      "metadata": {
        "id": "eGD_hjjiW8Oe"
      },
      "execution_count": null,
      "outputs": []
    }
  ]
}