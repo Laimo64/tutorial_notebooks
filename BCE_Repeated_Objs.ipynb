{
  "nbformat": 4,
  "nbformat_minor": 0,
  "metadata": {
    "colab": {
      "provenance": [],
      "authorship_tag": "ABX9TyPTjB5eEPcPwA/Rq2LkOY6b",
      "include_colab_link": true
    },
    "kernelspec": {
      "name": "python3",
      "display_name": "Python 3"
    },
    "language_info": {
      "name": "python"
    },
    "accelerator": "GPU"
  },
  "cells": [
    {
      "cell_type": "markdown",
      "metadata": {
        "id": "view-in-github",
        "colab_type": "text"
      },
      "source": [
        "<a href=\"https://colab.research.google.com/github/mobarakol/tutorial_notebooks/blob/main/BCE_Repeated_Objs.ipynb\" target=\"_parent\"><img src=\"https://colab.research.google.com/assets/colab-badge.svg\" alt=\"Open In Colab\"/></a>"
      ]
    },
    {
      "cell_type": "markdown",
      "source": [
        "# BCE Vs MultiLabelSoftMarginLoss\n",
        "Downloading:"
      ],
      "metadata": {
        "id": "Wq9GdTPzfYa5"
      }
    },
    {
      "cell_type": "code",
      "source": [
        "!pip install -U -q PyDrive\n",
        "from pydrive.auth import GoogleAuth\n",
        "from pydrive.drive import GoogleDrive\n",
        "from google.colab import auth\n",
        "from oauth2client.client import GoogleCredentials\n",
        "\n",
        "# Authenticate and create the PyDrive client.\n",
        "auth.authenticate_user()\n",
        "gauth = GoogleAuth()\n",
        "gauth.credentials = GoogleCredentials.get_application_default()\n",
        "drive = GoogleDrive(gauth)\n",
        "id = ['1pZgspfWi1Mh8sqV_lbJLQTuFZyhnTPlA']\n",
        "downloaded = drive.CreateFile({'id':id[0]}) \n",
        "downloaded.GetContentFile('localization_2.zip')\n",
        "!unzip localization_2.zip"
      ],
      "metadata": {
        "colab": {
          "base_uri": "https://localhost:8080/"
        },
        "id": "FZTzKSqQZqcy",
        "outputId": "5d34c9ef-5065-40dc-f450-bfee1e490c69"
      },
      "execution_count": 3,
      "outputs": [
        {
          "output_type": "stream",
          "name": "stdout",
          "text": [
            "Archive:  localization_2.zip\n",
            "  inflating: localization/001202.png  \n",
            "  inflating: localization/001203.png  \n",
            "  inflating: localization/1_frame132.png  \n",
            "  inflating: localization/1_frame146.png  \n",
            "  inflating: localization/16_frame119.png  \n",
            "  inflating: localization/16_frame122.png  \n",
            "  inflating: localization/5_frame078.png  \n",
            "  inflating: localization/5_frame118.png  \n",
            "  inflating: localization/combine_miccai18_ResNet50_256,320_170_best_checkpoint.pth.tar  \n",
            "  inflating: localization/raw_image.png  \n"
          ]
        }
      ]
    },
    {
      "cell_type": "code",
      "source": [
        "from torchvision import models\n",
        "import torch.nn as nn\n",
        "from torch.nn import DataParallel\n",
        "import torch.nn.functional as F\n",
        "from torchvision import transforms as tf\n",
        "import torch\n",
        "from PIL import Image\n",
        "import matplotlib.pyplot as plt\n",
        "import cv2\n",
        "import random\n",
        "import torch\n",
        "import numpy as np\n",
        "import os\n",
        "\n",
        "model = models.resnet50(pretrained=True)\n",
        "model.fc = nn.Linear(model.fc.in_features, 11)\n",
        "model = DataParallel(model)\n",
        "result_filename = 'combine_miccai18_ResNet50_256,320_170'\n",
        "best_checkpoint_path = 'localization/' + result_filename + '_best_checkpoint.pth.tar'\n",
        "checkpoint = torch.load(best_checkpoint_path, map_location=torch.device('cpu'))\n",
        "model.load_state_dict(checkpoint)\n",
        "model = model.module\n",
        "model.cuda();\n",
        "model.eval()\n",
        "\n",
        "image_name = \"localization/1_frame146.png\"   \n",
        "classes = ['bipolar_forceps', 'prograsp_forceps', 'large_needle_driver', 'monopolar_curved_scissors', 'ultrasound_probe', 'suction', 'clip_applier', 'stapler', 'hook', 'specimen_bag', 'tissue']\n",
        "\n",
        "'''------------------------------------- Load image ------------------------------------'''\n",
        "image = Image.open(image_name).convert('RGB')\n",
        "transforms = tf.Compose([tf.Resize((256,320)), \n",
        "                        tf.ToTensor(),\n",
        "                        tf.Normalize([0.4084945, 0.25513682, 0.25353566], [0.22662906, 0.20201652, 0.1962526 ])])\n",
        "\n",
        "img = transforms(image).cuda()\n",
        "lab = torch.tensor([1,0,0,1,0,1,0,0,0,0,1])\n",
        "img, lab = torch.stack([img, img]).cuda(), torch.stack([lab,lab])#.cuda()\n",
        "logits = model(img)\n",
        "print(logits.shape, lab.shape)"
      ],
      "metadata": {
        "colab": {
          "base_uri": "https://localhost:8080/"
        },
        "id": "5jN6vGbFZ28z",
        "outputId": "aad9208c-d240-4ab8-b5b7-c77869e7bbda"
      },
      "execution_count": 13,
      "outputs": [
        {
          "output_type": "stream",
          "name": "stderr",
          "text": [
            "/usr/local/lib/python3.7/dist-packages/torchvision/models/_utils.py:209: UserWarning: The parameter 'pretrained' is deprecated since 0.13 and will be removed in 0.15, please use 'weights' instead.\n",
            "  f\"The parameter '{pretrained_param}' is deprecated since 0.13 and will be removed in 0.15, \"\n",
            "/usr/local/lib/python3.7/dist-packages/torchvision/models/_utils.py:223: UserWarning: Arguments other than a weight enum or `None` for 'weights' are deprecated since 0.13 and will be removed in 0.15. The current behavior is equivalent to passing `weights=ResNet50_Weights.IMAGENET1K_V1`. You can also use `weights=ResNet50_Weights.DEFAULT` to get the most up-to-date weights.\n",
            "  warnings.warn(msg)\n"
          ]
        },
        {
          "output_type": "stream",
          "name": "stdout",
          "text": [
            "torch.Size([2, 11]) torch.Size([2, 11])\n"
          ]
        }
      ]
    },
    {
      "cell_type": "markdown",
      "source": [
        "Comparisons"
      ],
      "metadata": {
        "id": "1wFMiDmpfwTx"
      }
    },
    {
      "cell_type": "code",
      "source": [
        "#Version1:\n",
        "import torch.nn.functional as F\n",
        "prob = torch.sigmoid(logits)\n",
        "loss_bce_f = F.binary_cross_entropy(prob.detach().cpu(), lab.float())\n",
        "print('loss_bce_f:',loss_bce_f.item())\n",
        "\n",
        "#Version2:\n",
        "from torch.nn import BCELoss\n",
        "prob = torch.sigmoid(logits)\n",
        "loss_bce_nn = BCELoss()(prob.detach().cpu(), lab.float())\n",
        "print('loss_bce_nn:',loss_bce_nn.item())\n",
        "\n",
        "#Version3:\n",
        "from torch.nn import BCEWithLogitsLoss\n",
        "loss_bce_logits = BCEWithLogitsLoss()(logits.detach().cpu(), lab.float())\n",
        "print('loss_bce_logits:',loss_bce_logits.item())\n",
        "\n",
        "#Version4:\n",
        "from torch.nn import MultiLabelSoftMarginLoss\n",
        "loss_MultiLabelSoftMarginLoss = MultiLabelSoftMarginLoss()(logits.detach().cpu(), lab.float())\n",
        "print('loss_MultiLabelSoftMarginLoss:',loss_MultiLabelSoftMarginLoss.item())"
      ],
      "metadata": {
        "colab": {
          "base_uri": "https://localhost:8080/"
        },
        "id": "lFdK6n09b0MQ",
        "outputId": "2e8fcdbe-10ea-475c-e75c-28bbe8f9e3cf"
      },
      "execution_count": 14,
      "outputs": [
        {
          "output_type": "stream",
          "name": "stdout",
          "text": [
            "loss_bce_f: 0.05638723075389862\n",
            "loss_bce_nn: 0.05638723075389862\n",
            "loss_bce_logits: 0.05638723075389862\n",
            "loss_MultiLabelSoftMarginLoss: 0.056387219578027725\n"
          ]
        }
      ]
    },
    {
      "cell_type": "markdown",
      "source": [
        "# Comparison for two repeated classes:"
      ],
      "metadata": {
        "id": "w4UcD61cf_5K"
      }
    },
    {
      "cell_type": "code",
      "source": [
        "image = Image.open(image_name).convert('RGB')\n",
        "transforms = tf.Compose([tf.Resize((256,320)), \n",
        "                        tf.ToTensor(),\n",
        "                        tf.Normalize([0.4084945, 0.25513682, 0.25353566], [0.22662906, 0.20201652, 0.1962526 ])])\n",
        "\n",
        "img = transforms(image).cuda()\n",
        "\n",
        "lab = [[1,0,0,1,0,1,0,0,0,0,1],\n",
        "      [1,0,0,1,0,1,0,0,0,0,1]]\n",
        "lab = torch.tensor(lab)\n",
        "img, lab = torch.stack([img, img]).cuda(), torch.stack([lab,lab])#.cuda()\n",
        "\n",
        "model = models.resnet50(pretrained=True)\n",
        "num_classes = 11\n",
        "max_repeated_objs = 2\n",
        "model.fc = nn.Linear(model.fc.in_features, num_classes * max_repeated_objs)\n",
        "model.cuda()\n",
        "logits = model(img)\n",
        "print('logit:',logits.shape, 'lab:',lab.shape)\n",
        "print('lab after flatten',lab.flatten(start_dim=1).shape)\n",
        "\n",
        "import torch.nn.functional as F\n",
        "prob = torch.sigmoid(logits)\n",
        "loss_bce_f = F.binary_cross_entropy(prob.detach().cpu(), lab.float().flatten(start_dim=1))\n",
        "print('loss_bce_f:',loss_bce_f.item())"
      ],
      "metadata": {
        "colab": {
          "base_uri": "https://localhost:8080/"
        },
        "id": "twO2a_kYf71T",
        "outputId": "a426690a-84b6-48ee-907c-d229c76afd2a"
      },
      "execution_count": 27,
      "outputs": [
        {
          "output_type": "stream",
          "name": "stdout",
          "text": [
            "logit: torch.Size([2, 22]) lab: torch.Size([2, 2, 11])\n",
            "lab after flatten torch.Size([2, 22])\n",
            "loss_bce_f: 0.7434186935424805\n"
          ]
        }
      ]
    },
    {
      "cell_type": "code",
      "source": [
        "#Version1:\n",
        "import torch.nn.functional as F\n",
        "prob = torch.sigmoid(logits)\n",
        "loss_bce_f = F.binary_cross_entropy(prob.detach().cpu(), lab.float().flatten(start_dim=1))\n",
        "print('loss_bce_f:',loss_bce_f.item())\n",
        "\n",
        "#Version2:\n",
        "from torch.nn import BCELoss\n",
        "prob = torch.sigmoid(logits)\n",
        "loss_bce_nn = BCELoss()(prob.detach().cpu(), lab.float().flatten(start_dim=1))\n",
        "print('loss_bce_nn:',loss_bce_nn.item())\n",
        "\n",
        "#Version3:\n",
        "from torch.nn import BCEWithLogitsLoss\n",
        "loss_bce_logits = BCEWithLogitsLoss()(logits.detach().cpu(), lab.float().flatten(start_dim=1))\n",
        "print('loss_bce_logits:',loss_bce_logits.item())\n",
        "\n",
        "#Version4:\n",
        "from torch.nn import MultiLabelSoftMarginLoss\n",
        "loss_MultiLabelSoftMarginLoss = MultiLabelSoftMarginLoss()(logits.detach().cpu(), lab.float().flatten(start_dim=1))\n",
        "print('loss_MultiLabelSoftMarginLoss:',loss_MultiLabelSoftMarginLoss.item())"
      ],
      "metadata": {
        "colab": {
          "base_uri": "https://localhost:8080/"
        },
        "id": "IulITPwniw6_",
        "outputId": "c2d83e72-25bc-4215-9816-da2ce5ce96bf"
      },
      "execution_count": 24,
      "outputs": [
        {
          "output_type": "stream",
          "name": "stdout",
          "text": [
            "loss_bce_f: 0.6977637410163879\n",
            "loss_bce_nn: 0.6977637410163879\n",
            "loss_bce_logits: 0.6977637410163879\n",
            "loss_MultiLabelSoftMarginLoss: 0.6977637410163879\n"
          ]
        }
      ]
    }
  ]
}