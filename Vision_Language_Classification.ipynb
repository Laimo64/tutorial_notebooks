{
  "nbformat": 4,
  "nbformat_minor": 0,
  "metadata": {
    "colab": {
      "provenance": [],
      "gpuType": "T4",
      "include_colab_link": true
    },
    "kernelspec": {
      "name": "python3",
      "display_name": "Python 3"
    },
    "language_info": {
      "name": "python"
    },
    "accelerator": "GPU",
    "widgets": {
      "application/vnd.jupyter.widget-state+json": {
        "fc08e04f711b40f2abaa1d300978c225": {
          "model_module": "@jupyter-widgets/controls",
          "model_name": "HBoxModel",
          "model_module_version": "1.5.0",
          "state": {
            "_dom_classes": [],
            "_model_module": "@jupyter-widgets/controls",
            "_model_module_version": "1.5.0",
            "_model_name": "HBoxModel",
            "_view_count": null,
            "_view_module": "@jupyter-widgets/controls",
            "_view_module_version": "1.5.0",
            "_view_name": "HBoxView",
            "box_style": "",
            "children": [
              "IPY_MODEL_81ba83da1d134c8f873fc3b118bafff0",
              "IPY_MODEL_b10dc43f787046cfa63b6907becfe88d",
              "IPY_MODEL_c5fb19cdd8804e6e9f5de3cb11a64a62"
            ],
            "layout": "IPY_MODEL_35b4930e2a0f401085c5384285f6efe7"
          }
        },
        "81ba83da1d134c8f873fc3b118bafff0": {
          "model_module": "@jupyter-widgets/controls",
          "model_name": "HTMLModel",
          "model_module_version": "1.5.0",
          "state": {
            "_dom_classes": [],
            "_model_module": "@jupyter-widgets/controls",
            "_model_module_version": "1.5.0",
            "_model_name": "HTMLModel",
            "_view_count": null,
            "_view_module": "@jupyter-widgets/controls",
            "_view_module_version": "1.5.0",
            "_view_name": "HTMLView",
            "description": "",
            "description_tooltip": null,
            "layout": "IPY_MODEL_3ea47e303d5d4420b627a153b2d1a96c",
            "placeholder": "​",
            "style": "IPY_MODEL_791098cc152e4bb98e17f731038e7b25",
            "value": "Downloading pytorch_model.bin: 100%"
          }
        },
        "b10dc43f787046cfa63b6907becfe88d": {
          "model_module": "@jupyter-widgets/controls",
          "model_name": "FloatProgressModel",
          "model_module_version": "1.5.0",
          "state": {
            "_dom_classes": [],
            "_model_module": "@jupyter-widgets/controls",
            "_model_module_version": "1.5.0",
            "_model_name": "FloatProgressModel",
            "_view_count": null,
            "_view_module": "@jupyter-widgets/controls",
            "_view_module_version": "1.5.0",
            "_view_name": "ProgressView",
            "bar_style": "success",
            "description": "",
            "description_tooltip": null,
            "layout": "IPY_MODEL_4c1bfe78466e4455bb4de3626bc5c059",
            "max": 448356189,
            "min": 0,
            "orientation": "horizontal",
            "style": "IPY_MODEL_ffe1da066f634e9598532e2a13be6af7",
            "value": 448356189
          }
        },
        "c5fb19cdd8804e6e9f5de3cb11a64a62": {
          "model_module": "@jupyter-widgets/controls",
          "model_name": "HTMLModel",
          "model_module_version": "1.5.0",
          "state": {
            "_dom_classes": [],
            "_model_module": "@jupyter-widgets/controls",
            "_model_module_version": "1.5.0",
            "_model_name": "HTMLModel",
            "_view_count": null,
            "_view_module": "@jupyter-widgets/controls",
            "_view_module_version": "1.5.0",
            "_view_name": "HTMLView",
            "description": "",
            "description_tooltip": null,
            "layout": "IPY_MODEL_d6b1dfc566a546a28e8fca65d4dd8a30",
            "placeholder": "​",
            "style": "IPY_MODEL_75d13e8b7b174941abbc123f1890f3ff",
            "value": " 448M/448M [00:06&lt;00:00, 117MB/s]"
          }
        },
        "35b4930e2a0f401085c5384285f6efe7": {
          "model_module": "@jupyter-widgets/base",
          "model_name": "LayoutModel",
          "model_module_version": "1.2.0",
          "state": {
            "_model_module": "@jupyter-widgets/base",
            "_model_module_version": "1.2.0",
            "_model_name": "LayoutModel",
            "_view_count": null,
            "_view_module": "@jupyter-widgets/base",
            "_view_module_version": "1.2.0",
            "_view_name": "LayoutView",
            "align_content": null,
            "align_items": null,
            "align_self": null,
            "border": null,
            "bottom": null,
            "display": null,
            "flex": null,
            "flex_flow": null,
            "grid_area": null,
            "grid_auto_columns": null,
            "grid_auto_flow": null,
            "grid_auto_rows": null,
            "grid_column": null,
            "grid_gap": null,
            "grid_row": null,
            "grid_template_areas": null,
            "grid_template_columns": null,
            "grid_template_rows": null,
            "height": null,
            "justify_content": null,
            "justify_items": null,
            "left": null,
            "margin": null,
            "max_height": null,
            "max_width": null,
            "min_height": null,
            "min_width": null,
            "object_fit": null,
            "object_position": null,
            "order": null,
            "overflow": null,
            "overflow_x": null,
            "overflow_y": null,
            "padding": null,
            "right": null,
            "top": null,
            "visibility": null,
            "width": null
          }
        },
        "3ea47e303d5d4420b627a153b2d1a96c": {
          "model_module": "@jupyter-widgets/base",
          "model_name": "LayoutModel",
          "model_module_version": "1.2.0",
          "state": {
            "_model_module": "@jupyter-widgets/base",
            "_model_module_version": "1.2.0",
            "_model_name": "LayoutModel",
            "_view_count": null,
            "_view_module": "@jupyter-widgets/base",
            "_view_module_version": "1.2.0",
            "_view_name": "LayoutView",
            "align_content": null,
            "align_items": null,
            "align_self": null,
            "border": null,
            "bottom": null,
            "display": null,
            "flex": null,
            "flex_flow": null,
            "grid_area": null,
            "grid_auto_columns": null,
            "grid_auto_flow": null,
            "grid_auto_rows": null,
            "grid_column": null,
            "grid_gap": null,
            "grid_row": null,
            "grid_template_areas": null,
            "grid_template_columns": null,
            "grid_template_rows": null,
            "height": null,
            "justify_content": null,
            "justify_items": null,
            "left": null,
            "margin": null,
            "max_height": null,
            "max_width": null,
            "min_height": null,
            "min_width": null,
            "object_fit": null,
            "object_position": null,
            "order": null,
            "overflow": null,
            "overflow_x": null,
            "overflow_y": null,
            "padding": null,
            "right": null,
            "top": null,
            "visibility": null,
            "width": null
          }
        },
        "791098cc152e4bb98e17f731038e7b25": {
          "model_module": "@jupyter-widgets/controls",
          "model_name": "DescriptionStyleModel",
          "model_module_version": "1.5.0",
          "state": {
            "_model_module": "@jupyter-widgets/controls",
            "_model_module_version": "1.5.0",
            "_model_name": "DescriptionStyleModel",
            "_view_count": null,
            "_view_module": "@jupyter-widgets/base",
            "_view_module_version": "1.2.0",
            "_view_name": "StyleView",
            "description_width": ""
          }
        },
        "4c1bfe78466e4455bb4de3626bc5c059": {
          "model_module": "@jupyter-widgets/base",
          "model_name": "LayoutModel",
          "model_module_version": "1.2.0",
          "state": {
            "_model_module": "@jupyter-widgets/base",
            "_model_module_version": "1.2.0",
            "_model_name": "LayoutModel",
            "_view_count": null,
            "_view_module": "@jupyter-widgets/base",
            "_view_module_version": "1.2.0",
            "_view_name": "LayoutView",
            "align_content": null,
            "align_items": null,
            "align_self": null,
            "border": null,
            "bottom": null,
            "display": null,
            "flex": null,
            "flex_flow": null,
            "grid_area": null,
            "grid_auto_columns": null,
            "grid_auto_flow": null,
            "grid_auto_rows": null,
            "grid_column": null,
            "grid_gap": null,
            "grid_row": null,
            "grid_template_areas": null,
            "grid_template_columns": null,
            "grid_template_rows": null,
            "height": null,
            "justify_content": null,
            "justify_items": null,
            "left": null,
            "margin": null,
            "max_height": null,
            "max_width": null,
            "min_height": null,
            "min_width": null,
            "object_fit": null,
            "object_position": null,
            "order": null,
            "overflow": null,
            "overflow_x": null,
            "overflow_y": null,
            "padding": null,
            "right": null,
            "top": null,
            "visibility": null,
            "width": null
          }
        },
        "ffe1da066f634e9598532e2a13be6af7": {
          "model_module": "@jupyter-widgets/controls",
          "model_name": "ProgressStyleModel",
          "model_module_version": "1.5.0",
          "state": {
            "_model_module": "@jupyter-widgets/controls",
            "_model_module_version": "1.5.0",
            "_model_name": "ProgressStyleModel",
            "_view_count": null,
            "_view_module": "@jupyter-widgets/base",
            "_view_module_version": "1.2.0",
            "_view_name": "StyleView",
            "bar_color": null,
            "description_width": ""
          }
        },
        "d6b1dfc566a546a28e8fca65d4dd8a30": {
          "model_module": "@jupyter-widgets/base",
          "model_name": "LayoutModel",
          "model_module_version": "1.2.0",
          "state": {
            "_model_module": "@jupyter-widgets/base",
            "_model_module_version": "1.2.0",
            "_model_name": "LayoutModel",
            "_view_count": null,
            "_view_module": "@jupyter-widgets/base",
            "_view_module_version": "1.2.0",
            "_view_name": "LayoutView",
            "align_content": null,
            "align_items": null,
            "align_self": null,
            "border": null,
            "bottom": null,
            "display": null,
            "flex": null,
            "flex_flow": null,
            "grid_area": null,
            "grid_auto_columns": null,
            "grid_auto_flow": null,
            "grid_auto_rows": null,
            "grid_column": null,
            "grid_gap": null,
            "grid_row": null,
            "grid_template_areas": null,
            "grid_template_columns": null,
            "grid_template_rows": null,
            "height": null,
            "justify_content": null,
            "justify_items": null,
            "left": null,
            "margin": null,
            "max_height": null,
            "max_width": null,
            "min_height": null,
            "min_width": null,
            "object_fit": null,
            "object_position": null,
            "order": null,
            "overflow": null,
            "overflow_x": null,
            "overflow_y": null,
            "padding": null,
            "right": null,
            "top": null,
            "visibility": null,
            "width": null
          }
        },
        "75d13e8b7b174941abbc123f1890f3ff": {
          "model_module": "@jupyter-widgets/controls",
          "model_name": "DescriptionStyleModel",
          "model_module_version": "1.5.0",
          "state": {
            "_model_module": "@jupyter-widgets/controls",
            "_model_module_version": "1.5.0",
            "_model_name": "DescriptionStyleModel",
            "_view_count": null,
            "_view_module": "@jupyter-widgets/base",
            "_view_module_version": "1.2.0",
            "_view_name": "StyleView",
            "description_width": ""
          }
        }
      }
    }
  },
  "cells": [
    {
      "cell_type": "markdown",
      "metadata": {
        "id": "view-in-github",
        "colab_type": "text"
      },
      "source": [
        "<a href=\"https://colab.research.google.com/github/mobarakol/tutorial_notebooks/blob/main/Vision_Language_Classification.ipynb\" target=\"_parent\"><img src=\"https://colab.research.google.com/assets/colab-badge.svg\" alt=\"Open In Colab\"/></a>"
      ]
    },
    {
      "cell_type": "markdown",
      "source": [
        "Download Dataset"
      ],
      "metadata": {
        "id": "nPY5qD6tVTwt"
      }
    },
    {
      "cell_type": "code",
      "execution_count": 1,
      "metadata": {
        "id": "fICJtLD5tteM"
      },
      "outputs": [],
      "source": [
        "import gdown\n",
        "url = 'https://drive.google.com/uc?id=1AOuJXt9yWZfLwPoZsFfWFEgrcERGehOm'\n",
        "gdown.download(url,'archive.zip',quiet=True)\n",
        "!unzip -q archive.zip"
      ]
    },
    {
      "cell_type": "markdown",
      "source": [
        "Install Packages"
      ],
      "metadata": {
        "id": "7W4KvlbeVXbA"
      }
    },
    {
      "cell_type": "code",
      "source": [
        "!pip -q install transformers"
      ],
      "metadata": {
        "colab": {
          "base_uri": "https://localhost:8080/"
        },
        "id": "zoEoTEsv4U7t",
        "outputId": "f4f5ad9f-348c-46a0-d822-9f7f581bec38"
      },
      "execution_count": 2,
      "outputs": [
        {
          "output_type": "stream",
          "name": "stdout",
          "text": [
            "\u001b[2K     \u001b[90m━━━━━━━━━━━━━━━━━━━━━━━━━━━━━━━━━━━━━━━━\u001b[0m \u001b[32m7.4/7.4 MB\u001b[0m \u001b[31m19.6 MB/s\u001b[0m eta \u001b[36m0:00:00\u001b[0m\n",
            "\u001b[2K     \u001b[90m━━━━━━━━━━━━━━━━━━━━━━━━━━━━━━━━━━━━━━\u001b[0m \u001b[32m268.8/268.8 kB\u001b[0m \u001b[31m27.4 MB/s\u001b[0m eta \u001b[36m0:00:00\u001b[0m\n",
            "\u001b[2K     \u001b[90m━━━━━━━━━━━━━━━━━━━━━━━━━━━━━━━━━━━━━━━━\u001b[0m \u001b[32m7.8/7.8 MB\u001b[0m \u001b[31m45.9 MB/s\u001b[0m eta \u001b[36m0:00:00\u001b[0m\n",
            "\u001b[2K     \u001b[90m━━━━━━━━━━━━━━━━━━━━━━━━━━━━━━━━━━━━━━━━\u001b[0m \u001b[32m1.3/1.3 MB\u001b[0m \u001b[31m46.1 MB/s\u001b[0m eta \u001b[36m0:00:00\u001b[0m\n",
            "\u001b[?25h"
          ]
        }
      ]
    },
    {
      "cell_type": "markdown",
      "source": [
        "Prepare Dataloader"
      ],
      "metadata": {
        "id": "HbuBYtALVa1P"
      }
    },
    {
      "cell_type": "code",
      "source": [
        "import torchvision.transforms as transforms\n",
        "from torch.utils.data import Dataset, DataLoader\n",
        "from transformers import BertTokenizerFast\n",
        "import pandas as pd\n",
        "from PIL import Image\n",
        "import os\n",
        "\n",
        "class CustomDataset(Dataset):\n",
        "    def __init__(self, data_root=None, transform=None, istrain=True):\n",
        "        if istrain:\n",
        "            self.data_json= pd.read_json(path_or_buf=os.path.join(data_root,'train.jsonl'), lines=True)\n",
        "        else:\n",
        "            self.data_json= pd.read_json(path_or_buf=os.path.join(data_root,'dev.jsonl'), lines=True)\n",
        "\n",
        "        self.transform = transform\n",
        "        self.img_root = os.path.join( data_root, 'img')\n",
        "\n",
        "    def __len__(self):\n",
        "      return len(self.data_json['id'])\n",
        "\n",
        "    def __getitem__(self, i):\n",
        "        img = Image.open(os.path.join( data_root, 'img', str(\"{:05d}\".format(self.data_json['id'][i]))+'.png')).convert('RGB')\n",
        "        text = self.data_json['text'][i]\n",
        "        label = self.data_json['label'][i]\n",
        "        if self.transform:\n",
        "            img = self.transform(img)\n",
        "        return img, text, label\n",
        "\n",
        "\n",
        "transform = transforms.Compose([\n",
        "    transforms.Resize((224, 224)),\n",
        "    transforms.ToTensor(),\n",
        "    transforms.Normalize(\n",
        "        mean=[0.485, 0.456, 0.406],\n",
        "        std=[0.229, 0.224, 0.225]\n",
        "        )\n",
        "    ])\n",
        "\n",
        "data_root = '/content/data'\n",
        "dataset_train = CustomDataset(data_root=data_root, transform=transform, istrain=True)\n",
        "dataset_test = CustomDataset(data_root=data_root, transform=transform, istrain=False)\n",
        "print('Number of training samples:', len(dataset_train), 'Number of test samples:',len(dataset_test))\n",
        "\n",
        "dataloader_train = DataLoader(dataset_train, batch_size=2, shuffle=True, num_workers=2)\n",
        "dataloader_test = DataLoader(dataset_test, batch_size=4, shuffle=False, num_workers=2)\n",
        "print('Number of training loader:', len(dataloader_train), 'Number of test loader:',len(dataloader_test))"
      ],
      "metadata": {
        "colab": {
          "base_uri": "https://localhost:8080/"
        },
        "id": "Qbt3NhwQ80hZ",
        "outputId": "c81e2f57-8f5c-4a1f-bf43-337218a53711"
      },
      "execution_count": 21,
      "outputs": [
        {
          "output_type": "stream",
          "name": "stdout",
          "text": [
            "Number of training samples: 8500 Number of test samples: 500\n",
            "Number of training loader: 4250 Number of test loader: 125\n"
          ]
        }
      ]
    },
    {
      "cell_type": "code",
      "source": [
        "bert_tokenizer = BertTokenizerFast.from_pretrained(\"bert-base-uncased\")\n",
        "visualbert = VisualBertModel.from_pretrained(\"uclanlp/visualbert-vqa-coco-pre\")"
      ],
      "metadata": {
        "colab": {
          "base_uri": "https://localhost:8080/",
          "height": 49,
          "referenced_widgets": [
            "fc08e04f711b40f2abaa1d300978c225",
            "81ba83da1d134c8f873fc3b118bafff0",
            "b10dc43f787046cfa63b6907becfe88d",
            "c5fb19cdd8804e6e9f5de3cb11a64a62",
            "35b4930e2a0f401085c5384285f6efe7",
            "3ea47e303d5d4420b627a153b2d1a96c",
            "791098cc152e4bb98e17f731038e7b25",
            "4c1bfe78466e4455bb4de3626bc5c059",
            "ffe1da066f634e9598532e2a13be6af7",
            "d6b1dfc566a546a28e8fca65d4dd8a30",
            "75d13e8b7b174941abbc123f1890f3ff"
          ]
        },
        "id": "U62mmirrcCOm",
        "outputId": "7bc6bc5b-5295-44f7-d9e1-05c5f070b921"
      },
      "execution_count": 26,
      "outputs": [
        {
          "output_type": "display_data",
          "data": {
            "text/plain": [
              "Downloading pytorch_model.bin:   0%|          | 0.00/448M [00:00<?, ?B/s]"
            ],
            "application/vnd.jupyter.widget-view+json": {
              "version_major": 2,
              "version_minor": 0,
              "model_id": "fc08e04f711b40f2abaa1d300978c225"
            }
          },
          "metadata": {}
        }
      ]
    },
    {
      "cell_type": "markdown",
      "source": [
        "Training"
      ],
      "metadata": {
        "id": "rnQzH8JUVeGF"
      }
    },
    {
      "cell_type": "code",
      "source": [
        "import sys\n",
        "import os\n",
        "import argparse\n",
        "import torch\n",
        "from torch import nn\n",
        "from torchvision.models import resnet18\n",
        "from transformers import VisualBertModel, VisualBertConfig, BertTokenizerFast\n",
        "\n",
        "device = 'cuda' if torch.cuda.is_available() else 'cpu'\n",
        "\n",
        "def get_args():\n",
        "    parser = argparse.ArgumentParser(description='CIFAR-10H Training')\n",
        "    parser.add_argument('--lr', default=0.00001, type=float, help='learning rate')\n",
        "    parser.add_argument('--batch_size', default=20, type=int, help='batch size')\n",
        "    parser.add_argument('--test_batch_size', default=40, type=int, help='batch size')\n",
        "    parser.add_argument('--num_epoch', default=2, type=int, help='epoch number')\n",
        "    parser.add_argument('--num_classes', type=int, default=2, help='number classes')\n",
        "\n",
        "    if 'ipykernel' in sys.modules:\n",
        "        args = parser.parse_args([])\n",
        "    else:\n",
        "        args = parser.parse_args()\n",
        "\n",
        "    return args\n",
        "\n",
        "\n",
        "class visual_feat_extractor(nn.Module):\n",
        "    def __init__(self, ):\n",
        "        super(visual_feat_extractor, self).__init__()\n",
        "        self.model_visual_feat = resnet18(pretrained=True)#b 1000\n",
        "        self.model_visual_feat.avgpool = nn.Identity()\n",
        "        self.model_visual_feat.fc = nn.Identity()\n",
        "        self.model_visual_feat.to(device)\n",
        "        self.model_visual_feat.eval()\n",
        "\n",
        "    def forward(self, img):\n",
        "        visual_embeds = self.model_visual_feat(img).view(-1, 49, 512) #b 49 512\n",
        "        return visual_embeds\n",
        "\n",
        "class VisualBERT_VQA(nn.Module):\n",
        "    def __init__(self, num_labels=2):\n",
        "        super(VisualBERT_VQA, self).__init__()\n",
        "        self.config = VisualBertConfig.from_pretrained(\"uclanlp/visualbert-vqa-coco-pre\")\n",
        "        self.config.visual_embedding_dim = 512\n",
        "        self.visualbert = VisualBertModel(config=self.config)\n",
        "        self.cls = nn.Linear(768, num_labels)\n",
        "\n",
        "    def forward(self, inputs):\n",
        "        last_hidden_state = self.visualbert(**inputs).last_hidden_state #[1, 56, 768]\n",
        "\n",
        "        # Get the index of the last text token\n",
        "        index_to_gather = inputs['attention_mask'].sum(1) - 2  # as in original\n",
        "        index_to_gather = (\n",
        "            index_to_gather.unsqueeze(-1).unsqueeze(-1).expand(index_to_gather.size(0), 1, last_hidden_state.size(-1))\n",
        "        ) # [b c hw]=[1, 1, 768]\n",
        "        pooled_output = torch.gather(last_hidden_state, 1, index_to_gather) # [1, 1, 768]\n",
        "        logits = self.cls(pooled_output).squeeze(1)\n",
        "        return logits\n",
        "\n",
        "def train_epoch(model_vqa, text_model, img_model, dataloader_train, criterion, optimizer):\n",
        "    model_vqa.train()\n",
        "    for batch_idx, (imgs, texts, targets) in enumerate(dataloader_train):\n",
        "        imgs, targets = imgs.to(device), targets.to(device)\n",
        "        inputs = text_model(texts, return_tensors=\"pt\", padding=\"max_length\", max_length=20, truncation=True).to(device)#b 20\n",
        "        with torch.no_grad():\n",
        "            img_embed = img_model(imgs)#b 512\n",
        "\n",
        "        visual_token_type_ids = torch.ones(img_embed.shape[:-1], dtype=torch.long).to(device)\n",
        "        visual_attention_mask = torch.ones(img_embed.shape[:-1], dtype=torch.float).to(device)\n",
        "        inputs.update({\n",
        "                \"visual_embeds\": img_embed,\n",
        "                \"visual_token_type_ids\": visual_token_type_ids,\n",
        "                \"visual_attention_mask\": visual_attention_mask,\n",
        "            })\n",
        "        logits = model_vqa(inputs)\n",
        "        loss = criterion(logits, targets)\n",
        "        loss.backward()\n",
        "        optimizer.step()\n",
        "\n",
        "def test_epoch(model, text_model, img_model, dataloader_test):\n",
        "    model_vqa.eval()\n",
        "    correct = 0\n",
        "\n",
        "    with torch.no_grad():\n",
        "        for batch_idx, (imgs, texts, targets) in enumerate(dataloader_test):\n",
        "            imgs, targets = imgs.to(device), targets.to(device)\n",
        "            inputs = text_model(texts, return_tensors=\"pt\", padding=\"max_length\", max_length=20, truncation=True).to(device)\n",
        "            with torch.no_grad():\n",
        "                img_embed = img_model(imgs)\n",
        "\n",
        "            visual_token_type_ids = torch.ones(img_embed.shape[:-1], dtype=torch.long).to(device)\n",
        "            visual_attention_mask = torch.ones(img_embed.shape[:-1], dtype=torch.float).to(device)\n",
        "            inputs.update({\n",
        "                    \"visual_embeds\": img_embed,\n",
        "                    \"visual_token_type_ids\": visual_token_type_ids,\n",
        "                    \"visual_attention_mask\": visual_attention_mask,\n",
        "                })\n",
        "            logits = model_vqa(inputs)# b C logits/Prob. 40 2 1 img [0.1 0.9]\n",
        "            _, predicted = logits.max(1)\n",
        "            #targets 40\n",
        "            correct += predicted.eq(targets).sum().item()\n",
        "\n",
        "    return correct / len(dataloader_test.dataset)\n",
        "\n",
        "\n",
        "args = get_args()\n",
        "visual_embeds_model = visual_feat_extractor().to(device)\n",
        "visual_embeds_model.eval()\n",
        "bert_tokenizer = BertTokenizerFast.from_pretrained(\"bert-base-uncased\")\n",
        "\n",
        "model_vqa = VisualBERT_VQA(num_labels=args.num_classes).to(device)\n",
        "criterion = nn.CrossEntropyLoss()\n",
        "optimizer = torch.optim.Adam(model_vqa.parameters(), lr=args.lr)\n",
        "dataloader_train = DataLoader(dataset_train, batch_size=args.batch_size, shuffle=True, num_workers=2)\n",
        "dataloader_test = DataLoader(dataset_test, batch_size=args.test_batch_size, shuffle=False, num_workers=2)\n",
        "best_epoch, best_acc = 0.0, 0\n",
        "\n",
        "for epoch in range(args.num_epoch):\n",
        "    train_epoch(model_vqa, bert_tokenizer, visual_embeds_model, dataloader_train, criterion, optimizer)\n",
        "    accuracy = test_epoch(model_vqa, bert_tokenizer, visual_embeds_model, dataloader_test)\n",
        "    if accuracy > best_acc:\n",
        "        best_acc = accuracy\n",
        "        best_epoch = epoch\n",
        "        torch.save(model_vqa.state_dict(), 'best_model.pth.tar')\n",
        "\n",
        "    print('epoch: {}  acc: {:.4f}  best epoch: {}  best acc: {:.4f}'.format(\n",
        "                epoch, accuracy, best_epoch, best_acc))\n",
        "\n"
      ],
      "metadata": {
        "colab": {
          "base_uri": "https://localhost:8080/"
        },
        "id": "-_6957STC3bl",
        "outputId": "22cca225-06a4-4f35-9be9-9466b948dccd"
      },
      "execution_count": 20,
      "outputs": [
        {
          "output_type": "stream",
          "name": "stderr",
          "text": [
            "/usr/local/lib/python3.10/dist-packages/torchvision/models/_utils.py:208: UserWarning: The parameter 'pretrained' is deprecated since 0.13 and may be removed in the future, please use 'weights' instead.\n",
            "  warnings.warn(\n",
            "/usr/local/lib/python3.10/dist-packages/torchvision/models/_utils.py:223: UserWarning: Arguments other than a weight enum or `None` for 'weights' are deprecated since 0.13 and may be removed in the future. The current behavior is equivalent to passing `weights=ResNet18_Weights.IMAGENET1K_V1`. You can also use `weights=ResNet18_Weights.DEFAULT` to get the most up-to-date weights.\n",
            "  warnings.warn(msg)\n"
          ]
        },
        {
          "output_type": "stream",
          "name": "stdout",
          "text": [
            "epoch: 0  acc: 0.5000  best epoch: 0  best acc: 0.5000\n"
          ]
        }
      ]
    }
  ]
}