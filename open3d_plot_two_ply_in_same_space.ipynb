{
  "cells": [
    {
      "cell_type": "markdown",
      "metadata": {
        "id": "view-in-github",
        "colab_type": "text"
      },
      "source": [
        "<a href=\"https://colab.research.google.com/github/mobarakol/tutorial_notebooks/blob/main/open3d_plot_two_ply_in_same_space.ipynb\" target=\"_parent\"><img src=\"https://colab.research.google.com/assets/colab-badge.svg\" alt=\"Open In Colab\"/></a>"
      ]
    },
    {
      "cell_type": "code",
      "execution_count": null,
      "id": "183e9bdd-07cb-4785-8174-e8bc56b8ca97",
      "metadata": {
        "id": "183e9bdd-07cb-4785-8174-e8bc56b8ca97"
      },
      "outputs": [],
      "source": [
        "import open3d as o3d"
      ]
    },
    {
      "cell_type": "code",
      "execution_count": null,
      "id": "06be2c11-2233-4e9a-a21b-136120f4ccc4",
      "metadata": {
        "id": "06be2c11-2233-4e9a-a21b-136120f4ccc4",
        "outputId": "e7b7978c-8cc7-4fbe-ef3f-e4779be9af94"
      },
      "outputs": [
        {
          "name": "stdout",
          "output_type": "stream",
          "text": [
            "0004502_GS.ply  0004502v2_1.ply 0004502v2_3.ply 0004502v3.ply   Untitled.ipynb\n",
            "0004502v2.ply   0004502v2_2.ply 0004502v2_4.ply 05.ply\n"
          ]
        }
      ],
      "source": [
        "!ls"
      ]
    },
    {
      "cell_type": "code",
      "execution_count": null,
      "id": "fcf8b5cb-54e2-4db8-a536-c2d2e654780e",
      "metadata": {
        "id": "fcf8b5cb-54e2-4db8-a536-c2d2e654780e",
        "outputId": "ea0e38f5-b81c-4ed0-b309-c39570646c9c"
      },
      "outputs": [
        {
          "name": "stdout",
          "output_type": "stream",
          "text": [
            "\u001b[1;33m[Open3D WARNING] GLFW Error: Cocoa: Failed to find service port for display\u001b[0;m\n",
            "\u001b[1;33m[Open3D WARNING] GLFW Error: Cocoa: Failed to find service port for display\u001b[0;m\n",
            "\u001b[1;33m[Open3D WARNING] GLFW Error: Cocoa: Failed to find service port for display\u001b[0;m\n",
            "\u001b[1;33m[Open3D WARNING] GLFW Error: Cocoa: Failed to find service port for display\u001b[0;m\n",
            "\u001b[1;33m[Open3D WARNING] GLFW Error: Cocoa: Failed to find service port for display\u001b[0;m\n",
            "\u001b[1;33m[Open3D WARNING] GLFW Error: Cocoa: Failed to find service port for display\u001b[0;m\n",
            "\u001b[1;33m[Open3D WARNING] GLFW Error: Cocoa: Failed to find service port for display\u001b[0;m\n",
            "\u001b[1;33m[Open3D WARNING] GLFW Error: Cocoa: Failed to find service port for display\u001b[0;m\n",
            "\u001b[1;33m[Open3D WARNING] GLFW Error: Cocoa: Failed to find service port for display\u001b[0;m\n",
            "\u001b[1;33m[Open3D WARNING] GLFW Error: Cocoa: Failed to find service port for display\u001b[0;m\n",
            "\u001b[1;33m[Open3D WARNING] GLFW Error: Cocoa: Failed to find service port for display\u001b[0;m\n",
            "\u001b[1;33m[Open3D WARNING] GLFW Error: Cocoa: Failed to find service port for display\u001b[0;m\n",
            "\u001b[1;33m[Open3D WARNING] GLFW Error: Cocoa: Failed to find service port for display\u001b[0;m\n",
            "\u001b[1;33m[Open3D WARNING] GLFW Error: Cocoa: Failed to find service port for display\u001b[0;m\n",
            "\u001b[1;33m[Open3D WARNING] GLFW Error: Cocoa: Failed to find service port for display\u001b[0;m\n",
            "\u001b[1;33m[Open3D WARNING] GLFW Error: Cocoa: Failed to find service port for display\u001b[0;m\n",
            "\u001b[1;33m[Open3D WARNING] GLFW Error: Cocoa: Failed to find service port for display\u001b[0;m\n",
            "\u001b[1;33m[Open3D WARNING] GLFW Error: Cocoa: Failed to find service port for display\u001b[0;m\n",
            "\u001b[1;33m[Open3D WARNING] GLFW Error: Cocoa: Failed to find service port for display\u001b[0;m\n",
            "\u001b[1;33m[Open3D WARNING] GLFW Error: Cocoa: Failed to find service port for display\u001b[0;m\n"
          ]
        }
      ],
      "source": [
        "import open3d as o3d\n",
        "import numpy as np\n",
        "\n",
        "def transform_and_visualise_ply_pcs(ply_1_pth, ply_2_pth):\n",
        "    # 1) load open3d pointcloud\n",
        "    pcd_1 = o3d.io.read_point_cloud(ply_1_pth)\n",
        "    pcd_2 = o3d.io.read_point_cloud(ply_2_pth)\n",
        "    # 2) create transformation matrix\n",
        "    T = np.array([\n",
        "        [1,0,0,0],\n",
        "        [0,1,0,0],\n",
        "        [0,0,1,0],\n",
        "        [0,0,0,1]\n",
        "    ])\n",
        "    # 3) transform pointcloud\n",
        "    pcd_1.transform(np.linalg.inv(T.squeeze()))\n",
        "    o3d.visualization.draw_geometries([pcd_1, pcd_2])\n",
        "\n",
        "transform_and_visualise_ply_pcs('0004502v2_4.ply', '05.ply')"
      ]
    },
    {
      "cell_type": "code",
      "execution_count": null,
      "id": "046eb402-13e0-4ca0-8b8e-cd16b6824357",
      "metadata": {
        "id": "046eb402-13e0-4ca0-8b8e-cd16b6824357",
        "outputId": "d60422de-bc70-439e-e4e4-79c67fe34f45"
      },
      "outputs": [
        {
          "name": "stdout",
          "output_type": "stream",
          "text": [
            "Original model bounds: [2.1540907  1.92732024 1.01148283]\n",
            "Scaled model bounds: [43.08181405 38.54640484 20.2296567 ]\n",
            "\u001b[1;33m[Open3D WARNING] GLFW Error: Cocoa: Failed to find service port for display\u001b[0;m\n",
            "\u001b[1;33m[Open3D WARNING] GLFW Error: Cocoa: Failed to find service port for display\u001b[0;m\n"
          ]
        },
        {
          "data": {
            "text/plain": [
              "True"
            ]
          },
          "execution_count": 2,
          "metadata": {},
          "output_type": "execute_result"
        }
      ],
      "source": [
        "import open3d as o3d\n",
        "\n",
        "# Load the .ply file (point cloud or mesh)\n",
        "model = o3d.io.read_point_cloud(\"0004502_GS.ply\")  # For point cloud\n",
        "# model = o3d.io.read_triangle_mesh(\"path_to_your_model.ply\")  # For a mesh, uncomment this line\n",
        "\n",
        "# Print the original bounds of the model (optional)\n",
        "print(\"Original model bounds:\", model.get_max_bound() - model.get_min_bound())\n",
        "\n",
        "# Apply a scaling factor to the model to make it bigger\n",
        "scaling_factor = 20  # You can adjust this value to scale up the model\n",
        "model.scale(scaling_factor, center=model.get_center())\n",
        "\n",
        "# Print the new bounds of the model (optional)\n",
        "print(\"Scaled model bounds:\", model.get_max_bound() - model.get_min_bound())\n",
        "\n",
        "# Visualize the scaled model (optional)\n",
        "o3d.visualization.draw_geometries([model])\n",
        "\n",
        "# Save the scaled model back to a new .ply file\n",
        "o3d.io.write_point_cloud(\"0004502_GS20.ply\", model)  # For point cloud\n",
        "# o3d.io.write_triangle_mesh(\"scaled_model.ply\", model)  # For a mesh, uncomment this line\n"
      ]
    },
    {
      "cell_type": "code",
      "execution_count": null,
      "id": "379bc8ef-a69b-4eaa-a0cc-cb8f3d4c4741",
      "metadata": {
        "id": "379bc8ef-a69b-4eaa-a0cc-cb8f3d4c4741"
      },
      "outputs": [],
      "source": []
    }
  ],
  "metadata": {
    "kernelspec": {
      "display_name": "Python 3 (ipykernel)",
      "language": "python",
      "name": "python3"
    },
    "language_info": {
      "codemirror_mode": {
        "name": "ipython",
        "version": 3
      },
      "file_extension": ".py",
      "mimetype": "text/x-python",
      "name": "python",
      "nbconvert_exporter": "python",
      "pygments_lexer": "ipython3",
      "version": "3.11.7"
    },
    "colab": {
      "provenance": [],
      "include_colab_link": true
    }
  },
  "nbformat": 4,
  "nbformat_minor": 5
}