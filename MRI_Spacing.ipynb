{
  "cells": [
    {
      "cell_type": "markdown",
      "metadata": {
        "id": "view-in-github",
        "colab_type": "text"
      },
      "source": [
        "<a href=\"https://colab.research.google.com/github/mobarakol/tutorial_notebooks/blob/main/MRI_Spacing.ipynb\" target=\"_parent\"><img src=\"https://colab.research.google.com/assets/colab-badge.svg\" alt=\"Open In Colab\"/></a>"
      ]
    },
    {
      "cell_type": "code",
      "execution_count": null,
      "id": "6e643e44-aa6c-4ee2-8d87-59613da0b880",
      "metadata": {
        "id": "6e643e44-aa6c-4ee2-8d87-59613da0b880",
        "outputId": "f59762ca-af2e-47a3-9ccb-ff9aa5c7f482"
      },
      "outputs": [
        {
          "name": "stdout",
          "output_type": "stream",
          "text": [
            "endonasal_mri/mri_167/mri_167_t1c.nii.gz\n",
            "(0.48828125, 0.48828125, 1.5) (114, 512, 512)\n",
            "(1.0, 1.0, 1.0) (171, 250, 250)\n",
            "endonasal_mri/mri_169/mri_169_t1c.nii.gz\n",
            "(0.48828125, 0.48828125, 1.5) (114, 512, 512)\n",
            "(1.0, 1.0, 1.0) (171, 250, 250)\n",
            "endonasal_mri/mri_151/mri_151_t1c.nii.gz\n",
            "(0.48828125, 0.48828125, 1.5) (114, 512, 512)\n",
            "(1.0, 1.0, 1.0) (171, 250, 250)\n",
            "endonasal_mri/mri_170/mri_170_t1c.nii.gz\n",
            "(0.48828125, 0.48828125, 1.5) (114, 512, 512)\n",
            "(1.0, 1.0, 1.0) (171, 250, 250)\n",
            "endonasal_mri/mri_066/mri_066_t1c.nii.gz\n",
            "(0.48828125, 0.48828125, 1.5) (114, 512, 512)\n",
            "(1.0, 1.0, 1.0) (171, 250, 250)\n",
            "endonasal_mri/mri_164/mri_164_t1c.nii.gz\n",
            "(0.48828125, 0.48828125, 1.5) (114, 512, 512)\n",
            "(1.0, 1.0, 1.0) (171, 250, 250)\n",
            "endonasal_mri/mri_152/mri_152_t1c.nii.gz\n",
            "(0.48828125, 0.48828125, 1.5) (114, 512, 512)\n",
            "(1.0, 1.0, 1.0) (171, 250, 250)\n",
            "endonasal_mri/mri_155/mri_155_t1c.nii.gz\n",
            "(0.48828125, 0.48828125, 1.5) (114, 512, 512)\n",
            "(1.0, 1.0, 1.0) (171, 250, 250)\n",
            "endonasal_mri/mri_154/mri_154_t1c.nii.gz\n",
            "(0.48828125, 0.48828125, 1.5) (114, 512, 512)\n",
            "(1.0, 1.0, 1.0) (171, 250, 250)\n",
            "endonasal_mri/mri_153/mri_153_t1c.nii.gz\n",
            "(0.48828125, 0.48828125, 1.5) (114, 512, 512)\n",
            "(1.0, 1.0, 1.0) (171, 250, 250)\n"
          ]
        }
      ],
      "source": [
        "from glob import glob\n",
        "import numpy as np\n",
        "import os\n",
        "import SimpleITK as sitk\n",
        "\n",
        "def resample_img(itk_image, out_spacing=[1, 1, 1], is_label=False):\n",
        "    # resample images to 2mm spacing with simple itk\n",
        "\n",
        "    original_spacing = itk_image.GetSpacing()\n",
        "    original_size = itk_image.GetSize()\n",
        "\n",
        "    out_size = [\n",
        "        int(np.round(original_size[0] * (original_spacing[0] / out_spacing[0]))),\n",
        "        int(np.round(original_size[1] * (original_spacing[1] / out_spacing[1]))),\n",
        "        int(np.round(original_size[2] * (original_spacing[2] / out_spacing[2])))]\n",
        "\n",
        "    resample = sitk.ResampleImageFilter()\n",
        "    resample.SetOutputSpacing(out_spacing)\n",
        "    resample.SetSize(out_size)\n",
        "    resample.SetOutputDirection(itk_image.GetDirection())\n",
        "    resample.SetOutputOrigin(itk_image.GetOrigin())\n",
        "    resample.SetTransform(sitk.Transform())\n",
        "    resample.SetDefaultPixelValue(itk_image.GetPixelIDValue())\n",
        "\n",
        "    if is_label:\n",
        "        resample.SetInterpolator(sitk.sitkNearestNeighbor)\n",
        "    else:\n",
        "        resample.SetInterpolator(sitk.sitkBSpline)\n",
        "\n",
        "    return resample.Execute(itk_image)\n",
        "\n",
        "\n",
        "mri_path_all = glob('endonasal_mri/*/*t1c.nii.gz')\n",
        "for mri_path in mri_path_all:\n",
        "    print(mri_path)\n",
        "    mri_path_space = os.path.join('endonasal_mri_spacing', mri_path[14:])\n",
        "    os.makedirs(os.path.dirname(mri_path_space), mode = 0o777, exist_ok = True)\n",
        "    mri = sitk.ReadImage(mri_path)\n",
        "    print(mri.GetSpacing(), sitk.GetArrayFromImage(mri).shape)\n",
        "    mri_iso = resample_img(mri, is_label=False)\n",
        "    writer = sitk.ImageFileWriter()\n",
        "    writer.SetFileName(mri_path_space)\n",
        "    writer.Execute(mri_iso)\n",
        "    print(mri_iso.GetSpacing(), sitk.GetArrayFromImage(mri_iso).shape)\n",
        "    #break\n",
        "#os.makedirs(os.path.dirname(mask_path), mode = 0o777, exist_ok = True)"
      ]
    },
    {
      "cell_type": "code",
      "execution_count": null,
      "id": "afe1c985-e8e6-4111-8304-96a05f9be876",
      "metadata": {
        "id": "afe1c985-e8e6-4111-8304-96a05f9be876",
        "outputId": "eabe5eb9-40c4-4f35-df41-65d70055f118"
      },
      "outputs": [
        {
          "name": "stdout",
          "output_type": "stream",
          "text": [
            "endonasal_mri/mri_167/mri_167_mask.nii.gz\n",
            "(0.48828125, 0.48828125, 1.5) (114, 512, 512)\n",
            "(1.0, 1.0, 1.0) (171, 250, 250)\n",
            "endonasal_mri/mri_169/mri_169_mask.nii.gz\n",
            "(0.48828125, 0.48828125, 1.5) (114, 512, 512)\n",
            "(1.0, 1.0, 1.0) (171, 250, 250)\n",
            "endonasal_mri/mri_151/mri_151_mask.nii.gz\n",
            "(0.48828125, 0.48828125, 1.5) (114, 512, 512)\n",
            "(1.0, 1.0, 1.0) (171, 250, 250)\n",
            "endonasal_mri/mri_170/mri_170_mask.nii.gz\n",
            "(0.48828125, 0.48828125, 1.5) (114, 512, 512)\n",
            "(1.0, 1.0, 1.0) (171, 250, 250)\n",
            "endonasal_mri/mri_066/mri_066_mask.nii.gz\n",
            "(0.48828125, 0.48828125, 1.5) (114, 512, 512)\n",
            "(1.0, 1.0, 1.0) (171, 250, 250)\n",
            "endonasal_mri/mri_164/mri_164_mask.nii.gz\n",
            "(0.48828125, 0.48828125, 1.5) (114, 512, 512)\n",
            "(1.0, 1.0, 1.0) (171, 250, 250)\n",
            "endonasal_mri/mri_152/mri_152_mask.nii.gz\n",
            "(0.48828125, 0.48828125, 1.5) (114, 512, 512)\n",
            "(1.0, 1.0, 1.0) (171, 250, 250)\n",
            "endonasal_mri/mri_155/mri_155_mask.nii.gz\n",
            "(0.48828125, 0.48828125, 1.5) (114, 512, 512)\n",
            "(1.0, 1.0, 1.0) (171, 250, 250)\n",
            "endonasal_mri/mri_154/mri_154_mask.nii.gz\n",
            "(0.48828125, 0.48828125, 1.5) (114, 512, 512)\n",
            "(1.0, 1.0, 1.0) (171, 250, 250)\n",
            "endonasal_mri/mri_153/mri_153_mask.nii.gz\n",
            "(0.48828125, 0.48828125, 1.5) (114, 512, 512)\n",
            "(1.0, 1.0, 1.0) (171, 250, 250)\n"
          ]
        }
      ],
      "source": [
        "from glob import glob\n",
        "import numpy as np\n",
        "import os\n",
        "import SimpleITK as sitk\n",
        "\n",
        "def resample_img(itk_image, out_spacing=[1, 1, 1], is_label=False):\n",
        "    # resample images to 2mm spacing with simple itk\n",
        "\n",
        "    original_spacing = itk_image.GetSpacing()\n",
        "    original_size = itk_image.GetSize()\n",
        "\n",
        "    out_size = [\n",
        "        int(np.round(original_size[0] * (original_spacing[0] / out_spacing[0]))),\n",
        "        int(np.round(original_size[1] * (original_spacing[1] / out_spacing[1]))),\n",
        "        int(np.round(original_size[2] * (original_spacing[2] / out_spacing[2])))]\n",
        "\n",
        "    resample = sitk.ResampleImageFilter()\n",
        "    resample.SetOutputSpacing(out_spacing)\n",
        "    resample.SetSize(out_size)\n",
        "    resample.SetOutputDirection(itk_image.GetDirection())\n",
        "    resample.SetOutputOrigin(itk_image.GetOrigin())\n",
        "    resample.SetTransform(sitk.Transform())\n",
        "    resample.SetDefaultPixelValue(itk_image.GetPixelIDValue())\n",
        "\n",
        "    if is_label:\n",
        "        resample.SetInterpolator(sitk.sitkNearestNeighbor)\n",
        "    else:\n",
        "        resample.SetInterpolator(sitk.sitkBSpline)\n",
        "\n",
        "    return resample.Execute(itk_image)\n",
        "\n",
        "\n",
        "mri_path_all = glob('endonasal_mri/*/*mask.nii.gz')\n",
        "for mri_path in mri_path_all:\n",
        "    print(mri_path)\n",
        "    mri_path_space = os.path.join('endonasal_mri_spacing', mri_path[14:])\n",
        "    os.makedirs(os.path.dirname(mri_path_space), mode = 0o777, exist_ok = True)\n",
        "    mri = sitk.ReadImage(mri_path)\n",
        "    print(mri.GetSpacing(), sitk.GetArrayFromImage(mri).shape)\n",
        "    mri_iso = resample_img(mri, is_label=True)\n",
        "    writer = sitk.ImageFileWriter()\n",
        "    writer.SetFileName(mri_path_space)\n",
        "    writer.Execute(mri_iso)\n",
        "    print(mri_iso.GetSpacing(), sitk.GetArrayFromImage(mri_iso).shape)\n",
        "    #break\n"
      ]
    },
    {
      "cell_type": "code",
      "execution_count": null,
      "id": "1f4e7ee6-cc6e-47f9-8c2b-048e869b67ea",
      "metadata": {
        "id": "1f4e7ee6-cc6e-47f9-8c2b-048e869b67ea"
      },
      "outputs": [],
      "source": []
    }
  ],
  "metadata": {
    "kernelspec": {
      "display_name": "Python 3 (ipykernel)",
      "language": "python",
      "name": "python3"
    },
    "language_info": {
      "codemirror_mode": {
        "name": "ipython",
        "version": 3
      },
      "file_extension": ".py",
      "mimetype": "text/x-python",
      "name": "python",
      "nbconvert_exporter": "python",
      "pygments_lexer": "ipython3",
      "version": "3.11.7"
    },
    "colab": {
      "provenance": [],
      "include_colab_link": true
    }
  },
  "nbformat": 4,
  "nbformat_minor": 5
}