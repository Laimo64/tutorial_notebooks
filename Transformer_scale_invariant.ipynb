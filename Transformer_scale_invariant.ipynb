{
  "nbformat": 4,
  "nbformat_minor": 0,
  "metadata": {
    "colab": {
      "provenance": [],
      "authorship_tag": "ABX9TyPDqcqMQYxmox56dBvliNSr",
      "include_colab_link": true
    },
    "kernelspec": {
      "name": "python3",
      "display_name": "Python 3"
    },
    "language_info": {
      "name": "python"
    }
  },
  "cells": [
    {
      "cell_type": "markdown",
      "metadata": {
        "id": "view-in-github",
        "colab_type": "text"
      },
      "source": [
        "<a href=\"https://colab.research.google.com/github/mobarakol/tutorial_notebooks/blob/main/Transformer_scale_invariant.ipynb\" target=\"_parent\"><img src=\"https://colab.research.google.com/assets/colab-badge.svg\" alt=\"Open In Colab\"/></a>"
      ]
    },
    {
      "cell_type": "markdown",
      "source": [
        "#Install TIMM library"
      ],
      "metadata": {
        "id": "koOegSRwpm5Z"
      }
    },
    {
      "cell_type": "code",
      "execution_count": 1,
      "metadata": {
        "colab": {
          "base_uri": "https://localhost:8080/"
        },
        "id": "DRbqoviSovUq",
        "outputId": "76fd6536-fa58-4340-8058-2ffd390c9dee"
      },
      "outputs": [
        {
          "output_type": "stream",
          "name": "stdout",
          "text": [
            "\u001b[2K     \u001b[90m━━━━━━━━━━━━━━━━━━━━━━━━━━━━━━━━━━━━━━━━\u001b[0m \u001b[32m2.2/2.2 MB\u001b[0m \u001b[31m17.6 MB/s\u001b[0m eta \u001b[36m0:00:00\u001b[0m\n",
            "\u001b[2K     \u001b[90m━━━━━━━━━━━━━━━━━━━━━━━━━━━━━━━━━━━━━━\u001b[0m \u001b[32m268.8/268.8 kB\u001b[0m \u001b[31m18.1 MB/s\u001b[0m eta \u001b[36m0:00:00\u001b[0m\n",
            "\u001b[2K     \u001b[90m━━━━━━━━━━━━━━━━━━━━━━━━━━━━━━━━━━━━━━━━\u001b[0m \u001b[32m1.3/1.3 MB\u001b[0m \u001b[31m57.9 MB/s\u001b[0m eta \u001b[36m0:00:00\u001b[0m\n",
            "\u001b[?25h"
          ]
        }
      ],
      "source": [
        "!pip -q install timm"
      ]
    },
    {
      "cell_type": "markdown",
      "source": [
        "#ViT with fixed image size:224x224"
      ],
      "metadata": {
        "id": "yny_myY6pgsF"
      }
    },
    {
      "cell_type": "code",
      "source": [
        "from timm import create_model\n",
        "import torch\n",
        "from torch import nn\n",
        "from PIL import Image\n",
        "import requests\n",
        "from torchvision.models import resnet18, resnet34, resnet101\n",
        "from torchvision import transforms\n",
        "\n",
        "img_url = 'https://www.animalfunfacts.net/images/stories/pets/dogs/pembroke_welsh_corgi_l.jpg'\n",
        "img_raw = Image.open(requests.get(img_url, stream=True).raw)\n",
        "mean, std = torch.tensor([0.485, 0.456, 0.406]), torch.tensor([0.229, 0.224, 0.225])\n",
        "transform = transforms.Compose([transforms.Resize((224, 224)),\n",
        "                                transforms.ToTensor(),\n",
        "                                transforms.Normalize(mean=mean, std=std)])\n",
        "img = transform(img_raw)[None]\n",
        "device = 'cuda' if torch.cuda.is_available() else 'cpu'\n",
        "model = create_model(\"vit_base_patch16_224\", pretrained=True).to(device)\n",
        "patches = model.patch_embed(img)\n",
        "print('patches:', patches.shape)\n",
        "\n",
        "print('model.cls_token', model.cls_token.shape)\n",
        "print('model.pos_embed', model.pos_embed.shape)\n",
        "transformer_input = torch.cat((model.cls_token, patches), dim=1) + model.pos_embed\n",
        "print(\"Input tensor to Transformer (z0): \", transformer_input.shape)\n",
        "x = transformer_input.clone()\n",
        "for i, blk in enumerate(model.blocks):\n",
        "    print(\"Entering the Transformer Encoder {}, input:{}\".format(i, x.shape))\n",
        "    x = blk(x)\n",
        "x = model.norm(x)\n",
        "transformer_output = x[:, 0]\n",
        "print(\"Output vector from Transformer (z12-0):\", transformer_output.shape)\n",
        "\n",
        "#then use any classification head\n",
        "num_labels=10\n",
        "cls_head = nn.Linear(768, num_labels)\n",
        "logits = cls_head(transformer_output)\n",
        "print(logits.shape)"
      ],
      "metadata": {
        "colab": {
          "base_uri": "https://localhost:8080/"
        },
        "id": "ZGxMID7No7BV",
        "outputId": "bb9ffab6-9b6b-439a-fa54-446502f5d9ff"
      },
      "execution_count": 4,
      "outputs": [
        {
          "output_type": "stream",
          "name": "stdout",
          "text": [
            "patches: torch.Size([1, 196, 768])\n",
            "model.cls_token torch.Size([1, 1, 768])\n",
            "model.pos_embed torch.Size([1, 197, 768])\n",
            "Input tensor to Transformer (z0):  torch.Size([1, 197, 768])\n",
            "Entering the Transformer Encoder 0, input:torch.Size([1, 197, 768])\n",
            "Entering the Transformer Encoder 1, input:torch.Size([1, 197, 768])\n",
            "Entering the Transformer Encoder 2, input:torch.Size([1, 197, 768])\n",
            "Entering the Transformer Encoder 3, input:torch.Size([1, 197, 768])\n",
            "Entering the Transformer Encoder 4, input:torch.Size([1, 197, 768])\n",
            "Entering the Transformer Encoder 5, input:torch.Size([1, 197, 768])\n",
            "Entering the Transformer Encoder 6, input:torch.Size([1, 197, 768])\n",
            "Entering the Transformer Encoder 7, input:torch.Size([1, 197, 768])\n",
            "Entering the Transformer Encoder 8, input:torch.Size([1, 197, 768])\n",
            "Entering the Transformer Encoder 9, input:torch.Size([1, 197, 768])\n",
            "Entering the Transformer Encoder 10, input:torch.Size([1, 197, 768])\n",
            "Entering the Transformer Encoder 11, input:torch.Size([1, 197, 768])\n",
            "Output vector from Transformer (z12-0): torch.Size([1, 768])\n",
            "torch.Size([1, 10])\n"
          ]
        }
      ]
    },
    {
      "cell_type": "markdown",
      "source": [
        "#ViT with Invariant Image Scale"
      ],
      "metadata": {
        "id": "_gq7EH2ZpwUS"
      }
    },
    {
      "cell_type": "code",
      "source": [
        "from timm import create_model\n",
        "import torch\n",
        "from torch import nn\n",
        "from PIL import Image\n",
        "import requests\n",
        "from torchvision.models import resnet18, resnet34, resnet101\n",
        "from torchvision import transforms\n",
        "\n",
        "img_url = 'https://www.animalfunfacts.net/images/stories/pets/dogs/pembroke_welsh_corgi_l.jpg'\n",
        "img_raw = Image.open(requests.get(img_url, stream=True).raw)\n",
        "mean, std = torch.tensor([0.485, 0.456, 0.406]), torch.tensor([0.229, 0.224, 0.225])\n",
        "transform = transforms.Compose([transforms.Resize((224, 324)),\n",
        "                                transforms.ToTensor(),\n",
        "                                transforms.Normalize(mean=mean, std=std)])\n",
        "img = transform(img_raw)[None]\n",
        "device = 'cuda' if torch.cuda.is_available() else 'cpu'\n",
        "model = create_model(\"vit_base_patch16_224\", pretrained=True).to(device)\n",
        "model.patch_embed.strict_img_size = False\n",
        "model.patch_embed.dynamic_img_pad = True\n",
        "#If it is necessary to change the model.embed_dim=768\n",
        "# model.embed_dim=798\n",
        "patches = model.patch_embed(img)\n",
        "print('patches:', patches.shape)\n",
        "\n",
        "num_patches = patches.shape[1]\n",
        "embed_len = num_patches + model.num_prefix_tokens\n",
        "\n",
        "#If it is necessary to change the model.embed_dim=768\n",
        "embed_dim = model.embed_dim\n",
        "model.pos_embed = nn.Parameter(torch.randn(1, embed_len, embed_dim) * .02)\n",
        "\n",
        "print('model.cls_token', model.cls_token.shape)\n",
        "print('model.pos_embed', model.pos_embed.shape)\n",
        "transformer_input = torch.cat((model.cls_token, patches), dim=1) + model.pos_embed\n",
        "print(\"Input tensor to Transformer (z0): \", transformer_input.shape)\n",
        "x = transformer_input.clone()\n",
        "for i, blk in enumerate(model.blocks):\n",
        "    print(\"Entering the Transformer Encoder {}, input:{}\".format(i, x.shape))\n",
        "    x = blk(x)\n",
        "x = model.norm(x)\n",
        "transformer_output = x[:, 0]\n",
        "print(\"Output vector from Transformer (z12-0):\", transformer_output.shape)\n",
        "\n",
        "#then use any classification head\n",
        "# num_labels=10\n",
        "# cls_head = nn.Linear(768, num_labels)\n",
        "# logits = cls_head(transformer_output)\n",
        "# print(logits.shape)"
      ],
      "metadata": {
        "colab": {
          "base_uri": "https://localhost:8080/"
        },
        "id": "OKpi0y3ZpWtq",
        "outputId": "906aee2e-b85d-4867-d1a6-d3b827adb228"
      },
      "execution_count": 10,
      "outputs": [
        {
          "output_type": "stream",
          "name": "stdout",
          "text": [
            "patches: torch.Size([1, 294, 768])\n",
            "model.cls_token torch.Size([1, 1, 768])\n",
            "model.pos_embed torch.Size([1, 295, 768])\n",
            "Input tensor to Transformer (z0):  torch.Size([1, 295, 768])\n",
            "Entering the Transformer Encoder 0, input:torch.Size([1, 295, 768])\n",
            "Entering the Transformer Encoder 1, input:torch.Size([1, 295, 768])\n",
            "Entering the Transformer Encoder 2, input:torch.Size([1, 295, 768])\n",
            "Entering the Transformer Encoder 3, input:torch.Size([1, 295, 768])\n",
            "Entering the Transformer Encoder 4, input:torch.Size([1, 295, 768])\n",
            "Entering the Transformer Encoder 5, input:torch.Size([1, 295, 768])\n",
            "Entering the Transformer Encoder 6, input:torch.Size([1, 295, 768])\n",
            "Entering the Transformer Encoder 7, input:torch.Size([1, 295, 768])\n",
            "Entering the Transformer Encoder 8, input:torch.Size([1, 295, 768])\n",
            "Entering the Transformer Encoder 9, input:torch.Size([1, 295, 768])\n",
            "Entering the Transformer Encoder 10, input:torch.Size([1, 295, 768])\n",
            "Entering the Transformer Encoder 11, input:torch.Size([1, 295, 768])\n",
            "Output vector from Transformer (z12-0): torch.Size([1, 768])\n"
          ]
        }
      ]
    }
  ]
}