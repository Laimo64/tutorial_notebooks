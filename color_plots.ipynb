{
  "nbformat": 4,
  "nbformat_minor": 0,
  "metadata": {
    "colab": {
      "name": "color_plots.ipynb",
      "provenance": [],
      "authorship_tag": "ABX9TyN1NpNTMC3RIYVCyjo68IUC",
      "include_colab_link": true
    },
    "kernelspec": {
      "name": "python3",
      "display_name": "Python 3"
    },
    "language_info": {
      "name": "python"
    }
  },
  "cells": [
    {
      "cell_type": "markdown",
      "metadata": {
        "id": "view-in-github",
        "colab_type": "text"
      },
      "source": [
        "<a href=\"https://colab.research.google.com/github/mobarakol/tutorial_notebooks/blob/main/color_plots.ipynb\" target=\"_parent\"><img src=\"https://colab.research.google.com/assets/colab-badge.svg\" alt=\"Open In Colab\"/></a>"
      ]
    },
    {
      "cell_type": "markdown",
      "source": [
        "# Default settings"
      ],
      "metadata": {
        "id": "JLADvkZo4EeU"
      }
    },
    {
      "cell_type": "code",
      "source": [
        "import matplotlib.pyplot as plt\n",
        "import seaborn as sns\n",
        "import numpy as np\n",
        "\n",
        "x = np.array([[0.89, 0.91, 0.88, 0.90],\n",
        "     [0.92, 0.86, 0.85, 0.86],\n",
        "     [0.93, 0.92, 0.92, 0.91]])\n",
        "x = x*100\n",
        "x = x-x.mean()\n",
        "yticklabels = [40, 50, 60, 70]\n",
        "xticklabels = [0.9, 0.8, 0.7]\n",
        "\n",
        "\n",
        "ax = sns.heatmap(\n",
        "    np.array(x).transpose(1,0), \n",
        "    vmin=x.min(), vmax=x.max(), center=0,\n",
        "    cmap=sns.diverging_palette(20, 220, n=50),\n",
        "    square=True, \n",
        ")\n",
        "ax.set_yticklabels(yticklabels)\n",
        "ax.set_xticklabels(xticklabels)\n",
        "ax.set_ylabel('End epoch of CL')\n",
        "ax.set_xlabel('Initial ratio of the easy samples')\n",
        "\n",
        "plt.savefig(\"color_plot.pdf\", bbox_inches='tight', dpi=1200)"
      ],
      "metadata": {
        "colab": {
          "base_uri": "https://localhost:8080/",
          "height": 279
        },
        "id": "JEKdYuY04FbS",
        "outputId": "4adfb2e6-46c8-4951-c835-bedcd2f6df7a"
      },
      "execution_count": 1,
      "outputs": [
        {
          "output_type": "display_data",
          "data": {
            "text/plain": [
              "<Figure size 432x288 with 2 Axes>"
            ],
            "image/png": "[encoded data removed]"
          },
          "metadata": {
            "needs_background": "light"
          }
        }
      ]
    },
    {
      "cell_type": "markdown",
      "source": [
        "# Controlling Figure Size"
      ],
      "metadata": {
        "id": "epogN0uM4if3"
      }
    },
    {
      "cell_type": "code",
      "execution_count": 2,
      "metadata": {
        "colab": {
          "base_uri": "https://localhost:8080/",
          "height": 301
        },
        "id": "XgdaKsKawfQU",
        "outputId": "836de284-2094-4e19-d650-2e889a6c72b1"
      },
      "outputs": [
        {
          "output_type": "display_data",
          "data": {
            "text/plain": [
              "<Figure size 288x576 with 2 Axes>"
            ],
            "image/png": "[encoded data removed]"
          },
          "metadata": {
            "needs_background": "light"
          }
        }
      ],
      "source": [
        "import matplotlib.pyplot as plt\n",
        "import seaborn as sns\n",
        "import numpy as np\n",
        "\n",
        "x = np.array([[0.89, 0.91, 0.88, 0.90],\n",
        "     [0.92, 0.86, 0.85, 0.86],\n",
        "     [0.93, 0.92, 0.92, 0.91]])\n",
        "x = x*10\n",
        "x = x-x.mean()\n",
        "yticklabels = [40, 50, 60, 70]\n",
        "xticklabels = [0.9, 0.8, 0.7]\n",
        "\n",
        "#sns.set(rc = {'figure.figsize':(4,8)})\n",
        "plt.figure(figsize = (4,8))\n",
        "ax = sns.heatmap(\n",
        "    np.array(x).transpose(1,0), \n",
        "    vmin=x.min(), vmax=x.max(), center=0,\n",
        "    cmap=sns.diverging_palette(20, 220, n=50),\n",
        "    square=True, \n",
        "    cbar=True,\n",
        "    cbar_kws={\"shrink\": .55}\n",
        ")\n",
        "#plt.gcf().set_size_inches(4, 8)\n",
        "ax.set_yticklabels(yticklabels)\n",
        "ax.set_xticklabels(xticklabels)\n",
        "ax.set_ylabel('End epoch of CL')\n",
        "ax.set_xlabel('Initial ratio of the easy samples')\n",
        "#plt.colorbar(ax)\n",
        "plt.savefig(\"color_plot.pdf\", bbox_inches='tight', dpi=1200)"
      ]
    },
    {
      "cell_type": "code",
      "source": [
        ""
      ],
      "metadata": {
        "id": "f53LSqqg1Smz"
      },
      "execution_count": null,
      "outputs": []
    }
  ]
}