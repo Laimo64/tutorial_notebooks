{
  "nbformat": 4,
  "nbformat_minor": 0,
  "metadata": {
    "colab": {
      "name": "color_plots.ipynb",
      "provenance": [],
      "include_colab_link": true
    },
    "kernelspec": {
      "name": "python3",
      "display_name": "Python 3"
    },
    "language_info": {
      "name": "python"
    }
  },
  "cells": [
    {
      "cell_type": "markdown",
      "metadata": {
        "id": "view-in-github",
        "colab_type": "text"
      },
      "source": [
        "<a href=\"https://colab.research.google.com/github/mobarakol/tutorial_notebooks/blob/main/color_plots.ipynb\" target=\"_parent\"><img src=\"https://colab.research.google.com/assets/colab-badge.svg\" alt=\"Open In Colab\"/></a>"
      ]
    },
    {
      "cell_type": "markdown",
      "source": [
        "# Default settings"
      ],
      "metadata": {
        "id": "JLADvkZo4EeU"
      }
    },
    {
      "cell_type": "code",
      "source": [
        "import matplotlib.pyplot as plt\n",
        "import seaborn as sns\n",
        "import numpy as np\n",
        "\n",
        "x = np.array([[0.89, 0.91, 0.88, 0.90],\n",
        "     [0.92, 0.86, 0.85, 0.86],\n",
        "     [0.93, 0.92, 0.92, 0.91]])\n",
        "x = x*100\n",
        "x = x-x.mean()\n",
        "yticklabels = [40, 50, 60]\n",
        "xticklabels = [0.9, 0.8, 0.7, 0.6]\n",
        "\n",
        "\n",
        "ax = sns.heatmap(\n",
        "    np.array(x), \n",
        "    vmin=x.min(), vmax=x.max(), center=0,\n",
        "    cmap=sns.diverging_palette(20, 220, n=50),\n",
        "    square=True, \n",
        ")\n",
        "ax.set_yticklabels(yticklabels)\n",
        "ax.set_xticklabels(xticklabels)\n",
        "ax.set_ylabel('End epoch of CL')\n",
        "ax.set_xlabel('Initial ratio of the easy samples')\n",
        "\n",
        "plt.savefig(\"color_plot.pdf\", bbox_inches='tight', dpi=1200)"
      ],
      "metadata": {
        "colab": {
          "base_uri": "https://localhost:8080/",
          "height": 271
        },
        "id": "JEKdYuY04FbS",
        "outputId": "761faaad-06b9-4e3b-fc17-9783e46a3e20"
      },
      "execution_count": null,
      "outputs": [
        {
          "output_type": "display_data",
          "data": {
            "text/plain": [
              "<Figure size 432x288 with 2 Axes>"
            ],
            "image/png": "[encoded data removed]"
          },
          "metadata": {
            "needs_background": "light"
          }
        }
      ]
    },
    {
      "cell_type": "markdown",
      "source": [
        "# Controlling Figure Size"
      ],
      "metadata": {
        "id": "epogN0uM4if3"
      }
    },
    {
      "cell_type": "code",
      "execution_count": null,
      "metadata": {
        "colab": {
          "base_uri": "https://localhost:8080/",
          "height": 196
        },
        "id": "XgdaKsKawfQU",
        "outputId": "3fdf6a7f-6283-44ab-c47b-9c4fc7a0bb86"
      },
      "outputs": [
        {
          "output_type": "display_data",
          "data": {
            "text/plain": [
              "<Figure size 288x576 with 2 Axes>"
            ],
            "image/png": "[encoded data removed]"
          },
          "metadata": {
            "needs_background": "light"
          }
        }
      ],
      "source": [
        "import matplotlib.pyplot as plt\n",
        "import seaborn as sns\n",
        "import numpy as np\n",
        "\n",
        "x = np.array([[0.89, 0.91, 0.88, 0.90],\n",
        "     [0.92, 0.86, 0.85, 0.86],\n",
        "     [0.93, 0.92, 0.92, 0.91]])\n",
        "x = x*100\n",
        "x = x-x.mean()\n",
        "yticklabels = [40, 50, 60]\n",
        "xticklabels = [0.9, 0.8, 0.7, 0.6]\n",
        "\n",
        "#sns.set(rc = {'figure.figsize':(4,8)})\n",
        "plt.figure(figsize = (4,8))\n",
        "ax = sns.heatmap(\n",
        "    np.array(x), \n",
        "    vmin=x.min(), vmax=x.max(), center=0,\n",
        "    cmap=sns.diverging_palette(20, 220, n=50),\n",
        "    square=True, \n",
        "    cbar=True,\n",
        "    cbar_kws={\"shrink\": .31}\n",
        ")\n",
        "#plt.gcf().set_size_inches(4, 8)\n",
        "ax.set_yticklabels(yticklabels)\n",
        "ax.set_xticklabels(xticklabels)\n",
        "ax.set_ylabel('End epoch of CL')\n",
        "ax.set_xlabel('Initial ratio of the easy samples')\n",
        "#plt.colorbar(ax)\n",
        "plt.savefig(\"color_plot.pdf\", bbox_inches='tight', dpi=1200)"
      ]
    },
    {
      "cell_type": "code",
      "source": [
        "import matplotlib.pyplot as plt\n",
        "import seaborn as sns\n",
        "import numpy as np\n",
        "\n",
        "x = np.array([[0.89, 0.91, 0.88, 0.90],\n",
        "     [0.92, 0.86, 0.85, 0.86],\n",
        "     [0.93, 0.92, 0.92, 0.91]])\n",
        "#x = x*100\n",
        "#x = x-x.mean()\n",
        "yticklabels = [40, 50, 60]\n",
        "xticklabels = [0.9, 0.8, 0.7, 0.6]\n",
        "\n",
        "#sns.set(rc = {'figure.figsize':(4,8)})\n",
        "plt.figure(figsize = (4,8))\n",
        "ax = sns.heatmap(\n",
        "    np.array(x), \n",
        "    vmin=x.min(), vmax=x.max(), center=x.mean(),\n",
        "    cmap=sns.diverging_palette(20, 220, n=50),\n",
        "    square=True, \n",
        "    cbar=True,\n",
        "    cbar_kws={\"shrink\": .31}\n",
        ")\n",
        "#plt.gcf().set_size_inches(4, 8)\n",
        "ax.set_yticklabels(yticklabels)\n",
        "ax.set_xticklabels(xticklabels)\n",
        "ax.set_ylabel('End epoch of CL')\n",
        "ax.set_xlabel('Initial ratio of the easy samples')\n",
        "#plt.colorbar(ax)\n",
        "plt.savefig(\"color_plot.pdf\", bbox_inches='tight', dpi=1200)"
      ],
      "metadata": {
        "id": "f53LSqqg1Smz",
        "colab": {
          "base_uri": "https://localhost:8080/",
          "height": 196
        },
        "outputId": "c6944bd6-9f83-4cb7-eb47-0016aa190834"
      },
      "execution_count": null,
      "outputs": [
        {
          "output_type": "display_data",
          "data": {
            "text/plain": [
              "<Figure size 288x576 with 2 Axes>"
            ],
            "image/png": "[encoded data removed]"
          },
          "metadata": {
            "needs_background": "light"
          }
        }
      ]
    },
    {
      "cell_type": "code",
      "source": [
        "x = np.array([[0.89, 0.91, 0.88, 0.90],\n",
        "     [0.92, 0.86, 0.85, 0.86],\n",
        "     [0.93, 0.92, 0.92, 0.91]])\n",
        "x.mean(), np.median(x)"
      ],
      "metadata": {
        "colab": {
          "base_uri": "https://localhost:8080/"
        },
        "id": "Jl5UMMin4x8h",
        "outputId": "223cb11f-bc4f-4e45-d784-8236a69b8f18"
      },
      "execution_count": null,
      "outputs": [
        {
          "output_type": "execute_result",
          "data": {
            "text/plain": [
              "(0.8958333333333334, 0.905)"
            ]
          },
          "metadata": {},
          "execution_count": 13
        }
      ]
    },
    {
      "cell_type": "code",
      "source": [
        ""
      ],
      "metadata": {
        "id": "bsByOLJY42YZ"
      },
      "execution_count": null,
      "outputs": []
    }
  ]
}