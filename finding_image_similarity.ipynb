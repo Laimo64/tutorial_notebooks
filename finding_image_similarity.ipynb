{
  "nbformat": 4,
  "nbformat_minor": 0,
  "metadata": {
    "colab": {
      "provenance": [],
      "authorship_tag": "ABX9TyPL1nP0NT7v6sFvAr/Y+tEa",
      "include_colab_link": true
    },
    "kernelspec": {
      "name": "python3",
      "display_name": "Python 3"
    },
    "language_info": {
      "name": "python"
    }
  },
  "cells": [
    {
      "cell_type": "markdown",
      "metadata": {
        "id": "view-in-github",
        "colab_type": "text"
      },
      "source": [
        "<a href=\"https://colab.research.google.com/github/mobarakol/tutorial_notebooks/blob/main/finding_image_similarity.ipynb\" target=\"_parent\"><img src=\"https://colab.research.google.com/assets/colab-badge.svg\" alt=\"Open In Colab\"/></a>"
      ]
    },
    {
      "cell_type": "markdown",
      "source": [
        "Endovis 2018"
      ],
      "metadata": {
        "id": "5963_eNSztPW"
      }
    },
    {
      "cell_type": "code",
      "execution_count": 1,
      "metadata": {
        "id": "OIqI5zG1jHw_"
      },
      "outputs": [],
      "source": [
        "import gdown\n",
        "\n",
        "#endovis18 dataset\n",
        "url = 'https://drive.google.com/uc?id=1lRNAgC-6QgIQd-vum-jr523tYPr6yNM7'\n",
        "gdown.download(url,'endovis18.zip',quiet=True)\n",
        "!unzip -q endovis18.zip"
      ]
    },
    {
      "cell_type": "code",
      "source": [
        "from skimage.metrics import structural_similarity as ssim\n",
        "import cv2\n",
        "from glob import glob\n",
        "img_path = glob ('endovis18/*/left_frames/*.png')\n",
        "\n",
        "imageA = cv2.imread('/content/img.png') #cropped and upload the image from paper as name img.png\n",
        "imageA = cv2.cvtColor(imageA, cv2.COLOR_BGR2GRAY)\n",
        "imageA = cv2.resize(imageA, (224,224))\n",
        "\n",
        "for path in img_path:\n",
        "    imageB = cv2.imread(path)\n",
        "    imageB = cv2.cvtColor(imageB, cv2.COLOR_BGR2GRAY)\n",
        "    imageB = cv2.resize(imageB, (224, 224))\n",
        "    s = ssim(imageA, imageB)\n",
        "    if s >= .9:\n",
        "        print(path)\n"
      ],
      "metadata": {
        "colab": {
          "base_uri": "https://localhost:8080/"
        },
        "id": "Ss-L3kUewxiD",
        "outputId": "4c18f282-8c15-4e58-d706-976ea15486fa"
      },
      "execution_count": 13,
      "outputs": [
        {
          "output_type": "stream",
          "name": "stdout",
          "text": [
            "endovis18/seq_5/left_frames/frame029.png\n"
          ]
        }
      ]
    },
    {
      "cell_type": "markdown",
      "source": [
        "Endovis 2017"
      ],
      "metadata": {
        "id": "EmQaSBFpzvsg"
      }
    },
    {
      "cell_type": "code",
      "source": [
        "import gdown\n",
        "\n",
        "url = 'https://drive.google.com/uc?id=1nroWvgxBRCIx9PP0bbIOFPretpmvTVuH'\n",
        "gdown.download(url,'endovis17.zip',quiet=True)\n",
        "!unzip -q endovis17.zip -d endovis17"
      ],
      "metadata": {
        "id": "dLMgVcv9zw_-"
      },
      "execution_count": 14,
      "outputs": []
    },
    {
      "cell_type": "code",
      "source": [
        "from skimage.metrics import structural_similarity as ssim\n",
        "import cv2\n",
        "from glob import glob\n",
        "img_path = glob ('endovis17/*/images/*.png')\n",
        "\n",
        "imageA = cv2.imread('/content/img.png') #cropped and upload the image from paper as name img.png\n",
        "imageA = cv2.cvtColor(imageA, cv2.COLOR_BGR2GRAY)\n",
        "imageA = cv2.resize(imageA, (224,224))\n",
        "\n",
        "for path in img_path:\n",
        "    imageB = cv2.imread(path)\n",
        "    imageB = cv2.cvtColor(imageB, cv2.COLOR_BGR2GRAY)\n",
        "    imageB = cv2.resize(imageB, (224, 224))\n",
        "    s = ssim(imageA, imageB)\n",
        "    if s >= .9:\n",
        "        print(path)\n"
      ],
      "metadata": {
        "id": "9ffskmJpz8b9"
      },
      "execution_count": null,
      "outputs": []
    },
    {
      "cell_type": "code",
      "source": [
        "\n",
        "import gdown\n",
        "\n",
        "url = 'https://drive.google.com/uc?id=1hY6jXjREiDXGx25bSdzNYb58amYkTzCL'\n",
        "gdown.download(url,'paper_fig.zip',quiet=True)\n",
        "!unzip -q paper_fig.zip"
      ],
      "metadata": {
        "id": "KPJ-ZdtiGIOz"
      },
      "execution_count": 16,
      "outputs": []
    },
    {
      "cell_type": "code",
      "source": [
        "from skimage.metrics import structural_similarity as ssim\n",
        "import cv2\n",
        "from glob import glob\n",
        "import numpy as np\n",
        "img_path_all = glob ('endovis18/*/left_frames/*.png')\n",
        "img_path_all.extend(glob ('endovis17/*/images/*.png'))\n",
        "paper_img_path_all = glob('/content/paper_fig/*.png')\n",
        "\n",
        "for paper_img_path in paper_img_path_all:\n",
        "\n",
        "    print('Paper image:', paper_img_path)\n",
        "    imageA = cv2.imread(paper_img_path) #cropped and upload the image from paper as name img.png\n",
        "    imageA = cv2.cvtColor(imageA, cv2.COLOR_BGR2GRAY)\n",
        "    imageA = cv2.resize(imageA, (224,224))\n",
        "    ssim_all = []\n",
        "    for img_path in img_path_all:\n",
        "        imageB = cv2.imread(img_path)\n",
        "        imageB = cv2.cvtColor(imageB, cv2.COLOR_BGR2GRAY)\n",
        "        imageB = cv2.resize(imageB, (224, 224))\n",
        "        s = ssim(imageA, imageB)\n",
        "        ssim_all.append(s)\n",
        "        # if s >= .9:\n",
        "        #     print(img_path)\n",
        "    sorted_idx = np.array(ssim_all).argsort()[::-1]\n",
        "    print('best match 1:', ssim_all[sorted_idx[0]], ' Path:', img_path_all[sorted_idx[0]])\n",
        "    print('best match 2:', ssim_all[sorted_idx[1]], ' Path:', img_path_all[sorted_idx[1]])"
      ],
      "metadata": {
        "colab": {
          "base_uri": "https://localhost:8080/"
        },
        "id": "T9LMMvz4GOl7",
        "outputId": "ea7a1208-1662-4cf6-b715-e8a41b09463c"
      },
      "execution_count": 36,
      "outputs": [
        {
          "output_type": "stream",
          "name": "stdout",
          "text": [
            "Paper image: /content/paper_fig/img5.png\n",
            "best match 1: 0.34576360245934257  Path: endovis18/seq_11/left_frames/frame071.png\n",
            "best match 2: 0.3418935009214506  Path: endovis18/seq_11/left_frames/frame075.png\n",
            "Paper image: /content/paper_fig/img3.png\n",
            "best match 1: 0.3235894792031916  Path: endovis18/seq_9/left_frames/frame140.png\n",
            "best match 2: 0.3102478524991027  Path: endovis18/seq_11/left_frames/frame067.png\n",
            "Paper image: /content/paper_fig/img1.png\n",
            "best match 1: 0.9021694661231222  Path: endovis18/seq_5/left_frames/frame029.png\n",
            "best match 2: 0.4685447914196505  Path: endovis18/seq_5/left_frames/frame028.png\n",
            "Paper image: /content/paper_fig/img8.png\n",
            "best match 1: 0.2574462098603774  Path: endovis18/seq_7/left_frames/frame007.png\n",
            "best match 2: 0.2547443297776073  Path: endovis18/seq_12/left_frames/frame013.png\n",
            "Paper image: /content/paper_fig/img17.png\n",
            "best match 1: 0.33502525484448686  Path: endovis18/seq_11/left_frames/frame075.png\n",
            "best match 2: 0.3348258773080969  Path: endovis18/seq_11/left_frames/frame071.png\n",
            "Paper image: /content/paper_fig/img11.png\n",
            "best match 1: 0.2896038200508162  Path: endovis18/seq_11/left_frames/frame067.png\n",
            "best match 2: 0.2881523853947103  Path: endovis18/seq_11/left_frames/frame077.png\n",
            "Paper image: /content/paper_fig/img7.png\n",
            "best match 1: 0.354988584752694  Path: endovis18/seq_11/left_frames/frame071.png\n",
            "best match 2: 0.3533336385055525  Path: endovis18/seq_11/left_frames/frame075.png\n",
            "Paper image: /content/paper_fig/img14.png\n",
            "best match 1: 0.3266665082009036  Path: endovis18/seq_11/left_frames/frame067.png\n",
            "best match 2: 0.3138147602792565  Path: endovis18/seq_11/left_frames/frame071.png\n",
            "Paper image: /content/paper_fig/img9.png\n",
            "best match 1: 0.35465871273163785  Path: endovis18/seq_11/left_frames/frame067.png\n",
            "best match 2: 0.34252006680302644  Path: endovis18/seq_11/left_frames/frame075.png\n",
            "Paper image: /content/paper_fig/img15.png\n",
            "best match 1: 0.3376880732485524  Path: endovis18/seq_11/left_frames/frame067.png\n",
            "best match 2: 0.33688254291493563  Path: endovis18/seq_11/left_frames/frame075.png\n",
            "Paper image: /content/paper_fig/img6.png\n",
            "best match 1: 0.35177843075243975  Path: endovis18/seq_9/left_frames/frame140.png\n",
            "best match 2: 0.34918526026088137  Path: endovis18/seq_15/left_frames/frame117.png\n",
            "Paper image: /content/paper_fig/img12.png\n",
            "best match 1: 0.33085438265020245  Path: endovis18/seq_11/left_frames/frame067.png\n",
            "best match 2: 0.3225172813794282  Path: endovis18/seq_11/left_frames/frame071.png\n",
            "Paper image: /content/paper_fig/img2.png\n",
            "best match 1: 0.3325559615030328  Path: endovis18/seq_11/left_frames/frame071.png\n",
            "best match 2: 0.33221750789334725  Path: endovis18/seq_11/left_frames/frame075.png\n",
            "Paper image: /content/paper_fig/img10.png\n",
            "best match 1: 0.3520731580579095  Path: endovis18/seq_9/left_frames/frame140.png\n",
            "best match 2: 0.3251297206345889  Path: endovis18/seq_12/left_frames/frame000.png\n",
            "Paper image: /content/paper_fig/img4.png\n",
            "best match 1: 0.9507021995341024  Path: endovis18/seq_2/left_frames/frame037.png\n",
            "best match 2: 0.4473509456495345  Path: endovis18/seq_2/left_frames/frame036.png\n",
            "Paper image: /content/paper_fig/img13.png\n",
            "best match 1: 0.4209499189782918  Path: endovis18/seq_9/left_frames/frame140.png\n",
            "best match 2: 0.38494637216254374  Path: endovis18/seq_9/left_frames/frame141.png\n",
            "Paper image: /content/paper_fig/img16.png\n",
            "best match 1: 0.35568026163377015  Path: endovis18/seq_11/left_frames/frame077.png\n",
            "best match 2: 0.35017855314529794  Path: endovis18/seq_11/left_frames/frame071.png\n"
          ]
        }
      ]
    },
    {
      "cell_type": "code",
      "source": [
        "import numpy as np\n",
        "ssim_all = [.2,.1,.3]\n",
        "sorted_idx = np.array(ssim_all).argsort()[::-1]"
      ],
      "metadata": {
        "id": "BTHxtW8iHMfu"
      },
      "execution_count": 34,
      "outputs": []
    },
    {
      "cell_type": "code",
      "source": [
        "ssim_all[sorted_idx[0]], ssim_all[sorted_idx[1]],"
      ],
      "metadata": {
        "colab": {
          "base_uri": "https://localhost:8080/"
        },
        "id": "UQP_UQicMcLx",
        "outputId": "4b21ce94-4333-4327-f530-bad7302546fa"
      },
      "execution_count": 35,
      "outputs": [
        {
          "output_type": "execute_result",
          "data": {
            "text/plain": [
              "(0.3, 0.2)"
            ]
          },
          "metadata": {},
          "execution_count": 35
        }
      ]
    },
    {
      "cell_type": "code",
      "source": [],
      "metadata": {
        "id": "kJuqXFOVMeWu"
      },
      "execution_count": null,
      "outputs": []
    }
  ]
}