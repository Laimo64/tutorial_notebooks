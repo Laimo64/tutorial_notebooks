{
  "nbformat": 4,
  "nbformat_minor": 0,
  "metadata": {
    "colab": {
      "provenance": [],
      "authorship_tag": "ABX9TyPBv8prVcLQis2yGx4flSdz",
      "include_colab_link": true
    },
    "kernelspec": {
      "name": "python3",
      "display_name": "Python 3"
    },
    "language_info": {
      "name": "python"
    }
  },
  "cells": [
    {
      "cell_type": "markdown",
      "metadata": {
        "id": "view-in-github",
        "colab_type": "text"
      },
      "source": [
        "<a href=\"https://colab.research.google.com/github/mobarakol/tutorial_notebooks/blob/main/finding_image_similarity.ipynb\" target=\"_parent\"><img src=\"https://colab.research.google.com/assets/colab-badge.svg\" alt=\"Open In Colab\"/></a>"
      ]
    },
    {
      "cell_type": "markdown",
      "source": [
        "Endovis 2018"
      ],
      "metadata": {
        "id": "5963_eNSztPW"
      }
    },
    {
      "cell_type": "code",
      "execution_count": 1,
      "metadata": {
        "id": "OIqI5zG1jHw_"
      },
      "outputs": [],
      "source": [
        "import gdown\n",
        "\n",
        "#endovis18 dataset\n",
        "url = 'https://drive.google.com/uc?id=1lRNAgC-6QgIQd-vum-jr523tYPr6yNM7'\n",
        "gdown.download(url,'endovis18.zip',quiet=True)\n",
        "!unzip -q endovis18.zip"
      ]
    },
    {
      "cell_type": "code",
      "source": [
        "from skimage.metrics import structural_similarity as ssim\n",
        "import cv2\n",
        "from glob import glob\n",
        "img_path = glob ('endovis18/*/left_frames/*.png')\n",
        "\n",
        "imageA = cv2.imread('/content/img.png') #cropped and upload the image from paper as name img.png\n",
        "imageA = cv2.cvtColor(imageA, cv2.COLOR_BGR2GRAY)\n",
        "imageA = cv2.resize(imageA, (224,224))\n",
        "\n",
        "for path in img_path:\n",
        "    imageB = cv2.imread(path)\n",
        "    imageB = cv2.cvtColor(imageB, cv2.COLOR_BGR2GRAY)\n",
        "    imageB = cv2.resize(imageB, (224, 224))\n",
        "    s = ssim(imageA, imageB)\n",
        "    if s >= .9:\n",
        "        print(path)\n"
      ],
      "metadata": {
        "colab": {
          "base_uri": "https://localhost:8080/"
        },
        "id": "Ss-L3kUewxiD",
        "outputId": "4c18f282-8c15-4e58-d706-976ea15486fa"
      },
      "execution_count": 13,
      "outputs": [
        {
          "output_type": "stream",
          "name": "stdout",
          "text": [
            "endovis18/seq_5/left_frames/frame029.png\n"
          ]
        }
      ]
    },
    {
      "cell_type": "markdown",
      "source": [
        "Endovis 2017"
      ],
      "metadata": {
        "id": "EmQaSBFpzvsg"
      }
    },
    {
      "cell_type": "code",
      "source": [
        "import gdown\n",
        "\n",
        "url = 'https://drive.google.com/uc?id=1nroWvgxBRCIx9PP0bbIOFPretpmvTVuH'\n",
        "gdown.download(url,'endovis17.zip',quiet=True)\n",
        "!unzip -q endovis17.zip -d endovis17"
      ],
      "metadata": {
        "id": "dLMgVcv9zw_-"
      },
      "execution_count": 14,
      "outputs": []
    },
    {
      "cell_type": "code",
      "source": [
        "from skimage.metrics import structural_similarity as ssim\n",
        "import cv2\n",
        "from glob import glob\n",
        "img_path = glob ('endovis17/*/images/*.png')\n",
        "\n",
        "imageA = cv2.imread('/content/img.png') #cropped and upload the image from paper as name img.png\n",
        "imageA = cv2.cvtColor(imageA, cv2.COLOR_BGR2GRAY)\n",
        "imageA = cv2.resize(imageA, (224,224))\n",
        "\n",
        "for path in img_path:\n",
        "    imageB = cv2.imread(path)\n",
        "    imageB = cv2.cvtColor(imageB, cv2.COLOR_BGR2GRAY)\n",
        "    imageB = cv2.resize(imageB, (224, 224))\n",
        "    s = ssim(imageA, imageB)\n",
        "    if s >= .9:\n",
        "        print(path)\n"
      ],
      "metadata": {
        "id": "9ffskmJpz8b9"
      },
      "execution_count": null,
      "outputs": []
    }
  ]
}