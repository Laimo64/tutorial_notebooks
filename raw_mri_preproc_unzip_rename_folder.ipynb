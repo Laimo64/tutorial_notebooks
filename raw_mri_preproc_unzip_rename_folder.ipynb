{
  "cells": [
    {
      "cell_type": "markdown",
      "metadata": {
        "id": "view-in-github",
        "colab_type": "text"
      },
      "source": [
        "<a href=\"https://colab.research.google.com/github/mobarakol/tutorial_notebooks/blob/main/raw_mri_preproc_unzip_rename_folder.ipynb\" target=\"_parent\"><img src=\"https://colab.research.google.com/assets/colab-badge.svg\" alt=\"Open In Colab\"/></a>"
      ]
    },
    {
      "cell_type": "code",
      "execution_count": null,
      "id": "2d5a1a96",
      "metadata": {
        "id": "2d5a1a96",
        "outputId": "b0de33dd-6c1d-4cba-86e8-ed90d95a1366"
      },
      "outputs": [
        {
          "name": "stdout",
          "output_type": "stream",
          "text": [
            "\u001b[34mMRIs\u001b[m\u001b[m                            OneDrive_19_9-6-2024.zip\r\n",
            "OneDrive_11_9-6-2024.zip        OneDrive_20_9-6-2024.zip\r\n",
            "OneDrive_12_9-6-2024.zip        OneDrive_21_9-6-2024.zip\r\n",
            "OneDrive_13_9-6-2024.zip        OneDrive_22_9-6-2024.zip\r\n",
            "OneDrive_14_9-6-2024.zip        OneDrive_23_9-6-2024.zip\r\n",
            "OneDrive_15_9-6-2024.zip        OneDrive_25_9-6-2024.zip\r\n",
            "OneDrive_16_9-6-2024.zip        OneDrive_4_9-6-2024_1-10.zip\r\n",
            "OneDrive_17_9-6-2024.zip        OneDrive_9_9-6-2024_100-109.zip\r\n",
            "OneDrive_18_9-6-2024.zip\r\n"
          ]
        }
      ],
      "source": [
        "!ls endonasal_mri_v2"
      ]
    },
    {
      "cell_type": "code",
      "execution_count": null,
      "id": "2460fad7",
      "metadata": {
        "id": "2460fad7",
        "outputId": "586dbc90-6858-4501-f892-c6e0e7aa09c3"
      },
      "outputs": [
        {
          "name": "stdout",
          "output_type": "stream",
          "text": [
            "endonasal_mri_v2/OneDrive_23_9-6-2024.zip\n",
            "warning [endonasal_mri_v2/OneDrive_23_9-6-2024.zip]:  5324800 extra bytes at beginning or within zipfile\n",
            "  (attempting to process anyway)\n",
            "file #1:  bad zipfile offset (local header sig):  5324800\n",
            "  (attempting to re-compensate)\n",
            "file #2:  bad zipfile offset (local header sig):  93779\n",
            "  (attempting to re-compensate)\n",
            "file #2:  bad zipfile offset (local header sig):  93779\n",
            "file #3:  bad zipfile offset (local header sig):  5418824\n",
            "file #4:  bad zipfile offset (local header sig):  5419071\n",
            "file #5:  bad zipfile offset (local header sig):  5773922\n",
            "file #6:  bad zipfile offset (local header sig):  5841393\n",
            "file #7:  bad zipfile offset (local header sig):  5841639\n",
            "file #8:  bad zipfile offset (local header sig):  5841887\n",
            "file #9:  bad zipfile offset (local header sig):  6101148\n",
            "endonasal_mri_v2/OneDrive_12_9-6-2024.zip\n",
            "endonasal_mri_v2/OneDrive_15_9-6-2024.zip\n",
            "endonasal_mri_v2/OneDrive_25_9-6-2024.zip\n",
            "endonasal_mri_v2/OneDrive_22_9-6-2024.zip\n",
            "warning [endonasal_mri_v2/OneDrive_22_9-6-2024.zip]:  130170880 extra bytes at beginning or within zipfile\n",
            "  (attempting to process anyway)\n",
            "file #1:  bad zipfile offset (local header sig):  130170880\n",
            "  (attempting to re-compensate)\n",
            "file #9:  bad zipfile offset (local header sig):  807128263\n",
            "  (attempting to re-compensate)\n",
            "file #9:  bad zipfile offset (local header sig):  807128263\n",
            "file #10:  bad zipfile offset (local header sig):  937299388\n",
            "file #11:  bad zipfile offset (local header sig):  937299635\n",
            "file #12:  bad zipfile offset (local header sig):  937574662\n",
            "endonasal_mri_v2/OneDrive_14_9-6-2024.zip\n",
            "endonasal_mri_v2/OneDrive_13_9-6-2024.zip\n",
            "endonasal_mri_v2/OneDrive_19_9-6-2024.zip\n",
            "warning [endonasal_mri_v2/OneDrive_19_9-6-2024.zip]:  102236160 extra bytes at beginning or within zipfile\n",
            "  (attempting to process anyway)\n",
            "file #1:  bad zipfile offset (local header sig):  102236160\n",
            "  (attempting to re-compensate)\n",
            "file #34:  bad zipfile offset (local header sig):  3029005323\n",
            "  (attempting to re-compensate)\n",
            "file #34:  bad zipfile offset (local header sig):  3029005323\n",
            "file #35:  bad zipfile offset (local header sig):  3131241730\n",
            "file #36:  bad zipfile offset (local header sig):  3131509773\n",
            "endonasal_mri_v2/OneDrive_18_9-6-2024.zip\n",
            "endonasal_mri_v2/OneDrive_9_9-6-2024_100-109.zip\n",
            "endonasal_mri_v2/OneDrive_4_9-6-2024_1-10.zip\n",
            "endonasal_mri_v2/OneDrive_20_9-6-2024.zip\n",
            "warning [endonasal_mri_v2/OneDrive_20_9-6-2024.zip]:  9256960 extra bytes at beginning or within zipfile\n",
            "  (attempting to process anyway)\n",
            "file #1:  bad zipfile offset (local header sig):  9256960\n",
            "  (attempting to re-compensate)\n",
            "file #2:  bad zipfile offset (local header sig):  68451\n",
            "  (attempting to re-compensate)\n",
            "file #2:  bad zipfile offset (local header sig):  68451\n",
            "endonasal_mri_v2/OneDrive_11_9-6-2024.zip\n",
            "endonasal_mri_v2/OneDrive_16_9-6-2024.zip\n",
            "endonasal_mri_v2/OneDrive_21_9-6-2024.zip\n",
            "warning [endonasal_mri_v2/OneDrive_21_9-6-2024.zip]:  163676160 extra bytes at beginning or within zipfile\n",
            "  (attempting to process anyway)\n",
            "file #1:  bad zipfile offset (local header sig):  163676160\n",
            "  (attempting to re-compensate)\n",
            "file #10:  bad zipfile offset (local header sig):  785493221\n",
            "  (attempting to re-compensate)\n",
            "file #10:  bad zipfile offset (local header sig):  785493221\n",
            "file #11:  bad zipfile offset (local header sig):  949169626\n",
            "file #12:  bad zipfile offset (local header sig):  949169873\n",
            "file #13:  bad zipfile offset (local header sig):  949170123\n",
            "endonasal_mri_v2/OneDrive_17_9-6-2024.zip\n"
          ]
        }
      ],
      "source": [
        "from glob import glob\n",
        "zips = glob('endonasal_mri_v2/*.zip')\n",
        "for zip1 in zips:\n",
        "    print(zip1)\n",
        "    !unzip -o -q $zip1 -d endonasal_mri_v2/MRIs_ALL"
      ]
    },
    {
      "cell_type": "code",
      "execution_count": null,
      "id": "28a06c82",
      "metadata": {
        "id": "28a06c82",
        "outputId": "e75c80a0-721a-48f7-f5e3-512caff558d6"
      },
      "outputs": [
        {
          "name": "stdout",
          "output_type": "stream",
          "text": [
            "endonasal_mri_v2/new/OneDrive_31_9-7-2024.zip\n",
            "endonasal_mri_v2/new/OneDrive_36_9-7-2024.zip\n",
            "endonasal_mri_v2/new/OneDrive_37_9-7-2024.zip\n",
            "endonasal_mri_v2/new/OneDrive_30_9-7-2024.zip\n",
            "endonasal_mri_v2/new/OneDrive_28_9-7-2024.zip\n",
            "endonasal_mri_v2/new/OneDrive_29_9-7-2024.zip\n",
            "endonasal_mri_v2/new/OneDrive_32_9-7-2024.zip\n",
            "endonasal_mri_v2/new/OneDrive_35_9-7-2024.zip\n",
            "endonasal_mri_v2/new/OneDrive_34_9-7-2024.zip\n",
            "endonasal_mri_v2/new/OneDrive_33_9-7-2024.zip\n"
          ]
        }
      ],
      "source": [
        "from glob import glob\n",
        "zips = glob('endonasal_mri_v2/new/*.zip')\n",
        "for zip1 in zips:\n",
        "    print(zip1)\n",
        "    !unzip -o -q $zip1 -d endonasal_mri_v2/MRIs_ALL"
      ]
    },
    {
      "cell_type": "code",
      "execution_count": null,
      "id": "9094014e",
      "metadata": {
        "id": "9094014e",
        "outputId": "342b8ff6-19a9-4b5b-8bc4-14a4b054995d"
      },
      "outputs": [
        {
          "name": "stdout",
          "output_type": "stream",
          "text": [
            "100_T1.nii.gz         17_tumor_f.nii.gz     59_carotids_f.nii.gz\r\n",
            "100_T2_f.nii.gz       18_T1.nii.gz          59_tumor_f.nii.gz\r\n",
            "100_carotids_f.nii.gz 18_carotids_f.nii.gz  5_T1.nii.gz\r\n",
            "100_tumor_f.nii.gz    18_tumor_f.nii.gz     5_T2_f.nii.gz\r\n",
            "101_T1.nii.gz         19_T1.nii.gz          5_carotids_f.nii.gz\r\n",
            "101_T2_f.nii.gz       19_carotids_f.nii.gz  5_tumor_f.nii.gz\r\n",
            "101_carotids_f.nii.gz 19_tumor_f.nii.gz     60_T1.nii.gz\r\n",
            "101_tumor_f.nii.gz    1_T1.nii.gz           60_T2_f.nii.gz\r\n",
            "102_T1.nii.gz         1_T2_f.nii.gz         60_carotids_f.nii.gz\r\n",
            "102_T2_f.nii.gz       1_carotids_f.nii.gz   60_tumor_f.nii.gz\r\n",
            "102_carotids_f.nii.gz 1_tumor_f.nii.gz      61_T1.nii.gz\r\n",
            "102_tumor_f.nii.gz    20_T1.nii.gz          61_carotids_f.nii.gz\r\n",
            "103_T1.nii.gz         20_carotids_f.nii.gz  61_tumor_f.nii.gz\r\n",
            "103_T2_f.nii.gz       20_tumor_f.nii.gz     62_T1.nii.gz\r\n",
            "103_carotids_f.nii.gz 21_T1.nii.gz          62_carotids_f.nii.gz\r\n",
            "103_tumor_f.nii.gz    21_carotids_f.nii.gz  62_tumor_f.nii.gz\r\n",
            "104_T1.nii.gz         21_tumor_f.nii.gz     63_T1.nii.gz\r\n",
            "104_T2_f.nii.gz       22_T1.nii.gz          63_T2_f.nii.gz\r\n",
            "104_carotids_f.nii.gz 22_T2_f.nii.gz        63_carotids_f.nii.gz\r\n",
            "104_tumor_f.nii.gz    22_carotids_f.nii.gz  63_tumor_f.nii.gz\r\n",
            "105_T1.nii.gz         22_tumor_f.nii.gz     64_T1.nii.gz\r\n",
            "105_T2_f.nii.gz       23_T1.nii.gz          64_T2_f.nii.gz\r\n",
            "105_carotids_f.nii.gz 23_carotids_f.nii.gz  64_carotids_f.nii.gz\r\n",
            "105_tumor_f.nii.gz    23_tumor_f.nii.gz     64_tumor_f.nii.gz\r\n",
            "106_T1.nii.gz         24_T1.nii.gz          65_T1.nii.gz\r\n",
            "106_T2_f.nii.gz       24_carotids_f.nii.gz  65_T2_f.nii.gz\r\n",
            "106_carotids_f.nii.gz 24_tumor_f.nii.gz     65_carotids_f.nii.gz\r\n",
            "106_tumor_f.nii.gz    25_T1.nii.gz          65_tumor_f.nii.gz\r\n",
            "107_T1.nii.gz         25_T2_f.nii.gz        66_T1.nii.gz\r\n",
            "107_carotids_f.nii.gz 25_carotids_f.nii.gz  66_T2_f.nii.gz\r\n",
            "107_tumor_f.nii.gz    25_tumor_f.nii.gz     66_carotids_f.nii.gz\r\n",
            "108_T1.nii.gz         26_T1.nii.gz          66_tumor_f.nii.gz\r\n",
            "108_carotids_f.nii.gz 26_T2_f.nii.gz        67_T1.nii.gz\r\n",
            "108_tumor_f.nii.gz    26_carotids_f.nii.gz  67_T2_f.nii.gz\r\n",
            "109_T1.nii.gz         26_tumor_f.nii.gz     67_carotids_f.nii.gz\r\n",
            "109_T2_f.nii.gz       27_T1.nii.gz          67_tumor_f.nii.gz\r\n",
            "109_carotids_f.nii.gz 27_T2_f.nii.gz        68_T1.nii.gz\r\n",
            "109_tumor_f.nii.gz    27_carotids_f.nii.gz  68_T2_f.nii.gz\r\n",
            "10_T1.nii.gz          27_tumor_f.nii.gz     68_carotids_f.nii.gz\r\n",
            "10_carotids_f.nii.gz  28_T1.nii.gz          68_tumor_f.nii.gz\r\n",
            "10_tumor_f.nii.gz     28_T2_f.nii.gz        69_T1.nii.gz\r\n",
            "110_T1.nii.gz         28_carotids_f.nii.gz  69_T2_f.nii.gz\r\n",
            "110_T2_f.nii.gz       28_tumor_f.nii.gz     69_carotids_f.nii.gz\r\n",
            "110_carotids_f.nii.gz 29_T1.nii.gz          69_tumor_f.nii.gz\r\n",
            "110_tumor_f.nii.gz    29_T2_f.nii.gz        6_T1.nii.gz\r\n",
            "111_T1.nii.gz         29_carotids_f.nii.gz  6_T2_f.nii.gz\r\n",
            "111_carotids_f.nii.gz 29_tumor_f.nii.gz     6_carotids_f.nii.gz\r\n",
            "111_tumor_f.nii.gz    2_T1.nii.gz           6_tumor_f.nii.gz\r\n",
            "112_T1.nii.gz         2_carotids_f.nii.gz   70_T1.nii.gz\r\n",
            "112_T2_f.nii.gz       2_tumor_f.nii.gz      70_T2_f.nii.gz\r\n",
            "112_carotids_f.nii.gz 30_T1.nii.gz          70_carotids_f.nii.gz\r\n",
            "112_tumor_f.nii.gz    30_T2_f.nii.gz        70_tumor_f.nii.gz\r\n",
            "113_T1.nii.gz         30_carotids_f.nii.gz  71_T1.nii.gz\r\n",
            "113_T2_f.nii.gz       30_tumor_f.nii.gz     71_carotids_f.nii.gz\r\n",
            "113_carotids_f.nii.gz 31_T1.nii.gz          71_tumor_f.nii.gz\r\n",
            "113_tumor_f.nii.gz    31_T2_f.nii.gz        72_T1.nii.gz\r\n",
            "114_T1.nii.gz         31_carotids_f.nii.gz  72_T2_f.nii.gz\r\n",
            "114_T2_f.nii.gz       31_tumor_f.nii.gz     72_carotids_f.nii.gz\r\n",
            "114_carotids_f.nii.gz 32_T1.nii.gz          72_tumor_f.nii.gz\r\n",
            "114_tumor_f.nii.gz    32_T2_f.nii.gz        73_T1.nii.gz\r\n",
            "115_T1.nii.gz         32_carotids_f.nii.gz  73_tumor.nii.gz\r\n",
            "115_T2_f.nii.gz       32_tumor_f.nii.gz     74_T1.nii.gz\r\n",
            "115_carotids_f.nii.gz 33_T1.nii.gz          74_T2_f.nii.gz\r\n",
            "115_tumor_f.nii.gz    33_carotids_f.nii.gz  74_carotids_f.nii.gz\r\n",
            "116_T1.nii.gz         33_tumor_f.nii.gz     74_tumor_f.nii.gz\r\n",
            "116_T2_f.nii.gz       34_T1.nii.gz          75_T1.nii.gz\r\n",
            "116_carotids_f.nii.gz 34_T2_f.nii.gz        75_T2_f.nii.gz\r\n",
            "116_tumor_f.nii.gz    34_carotids_f.nii.gz  75_tumor_f.nii.gz\r\n",
            "117_T1.nii.gz         34_tumor_f.nii.gz     76_T1.nii.gz\r\n",
            "117_T2_f.nii.gz       35_T1.nii.gz          76_T2_f.nii.gz\r\n",
            "117_carotids_f.nii.gz 35_carotids_f.nii.gz  76_carotids_f.nii.gz\r\n",
            "117_tumor_f.nii.gz    35_tumor_f.nii.gz     76_tumor_f.nii.gz\r\n",
            "118_T1.nii.gz         36_T1.nii.gz          77_T1.nii.gz\r\n",
            "118_T2_f.nii.gz       36_T2_f.nii.gz        77_carotids_f.nii.gz\r\n",
            "118_carotids_f.nii.gz 36_carotids_f.nii.gz  77_tumor_f.nii.gz\r\n",
            "118_tumor_f.nii.gz    36_tumor_f.nii.gz     78_T1.nii.gz\r\n",
            "119_T1.nii.gz         37_T1.nii.gz          78_T2_f.nii.gz\r\n",
            "119_carotids_f.nii.gz 37_carotids_f.nii.gz  78_carotids_f.nii.gz\r\n",
            "119_tumor_f.nii.gz    37_tumor_f.nii.gz     78_tumor_f.nii.gz\r\n",
            "11_T1.nii.gz          38_T1.nii.gz          79_T1.nii.gz\r\n",
            "11_T2_f.nii.gz        38_T2_f.nii.gz        79_T2_f.nii.gz\r\n",
            "11_carotids_f.nii.gz  38_carotids_f.nii.gz  79_carotids_f.nii.gz\r\n",
            "11_tumor_f.nii.gz     38_tumor_f.nii.gz     79_tumor_f.nii.gz\r",
            "\r\n",
            "120_T1.nii.gz         39_T1.nii.gz          7_T1.nii.gz\r\n",
            "120_T2_f.nii.gz       39_carotids_f.nii.gz  7_T2_f.nii.gz\r\n",
            "120_carotids_f.nii.gz 39_tumor_f.nii.gz     7_carotids_f.nii.gz\r\n",
            "120_tumor_f.nii.gz    3_T1.nii.gz           7_tumor_f.nii.gz\r\n",
            "121_T1.nii.gz         3_T2_f.nii.gz         80_T1.nii.gz\r\n",
            "121_carotids_f.nii.gz 3_carotids_f.nii.gz   80_carotids_f.nii.gz\r\n",
            "121_tumor_f.nii.gz    3_tumor_f.nii.gz      80_tumor_f.nii.gz\r\n",
            "122_T1.nii.gz         40_T1.nii.gz          81_T1.nii.gz\r\n",
            "122_T2_f.nii.gz       40_T2_f.nii.gz        81_T2_f.nii.gz\r\n",
            "122_carotids_f.nii.gz 40_carotids_f.nii.gz  81_carotids_f.nii.gz\r\n",
            "122_tumor_f.nii.gz    40_tumor_f.nii.gz     81_tumor_f.nii.gz\r\n",
            "123_T1.nii.gz         41_T1.nii.gz          82_T1.nii.gz\r\n",
            "123_T2_f.nii.gz       41_T2_f.nii.gz        82_T2_f.nii.gz\r\n",
            "123_carotids_f.nii.gz 41_carotids_f.nii.gz  82_carotids_f.nii.gz\r\n",
            "123_tumor_f.nii.gz    41_tumor_f.nii.gz     82_tumor_f.nii.gz\r\n",
            "124_T1.nii.gz         42_T1.nii.gz          83_T1.nii.gz\r\n",
            "124_carotids_f.nii.gz 42_T2_f.nii.gz        83_T2_f.nii.gz\r\n",
            "124_tumor_f.nii.gz    42_carotids_f.nii.gz  83_carotids_f.nii.gz\r\n",
            "125_T1.nii.gz         42_tumor_f.nii.gz     83_tumor_f.nii.gz\r\n",
            "125_T2_f.nii.gz       43_T1.nii.gz          84_T1.nii.gz\r\n",
            "125_carotids_f.nii.gz 43_T2_f.nii.gz        84_T2_f.nii.gz\r\n",
            "125_tumor_f.nii.gz    43_carotids_f.nii.gz  84_carotids_f.nii.gz\r\n",
            "126_T1.nii.gz         43_tumor_f.nii.gz     84_tumor_f.nii.gz\r\n",
            "126_T2_f.nii.gz       44_T1.nii.gz          85_T1.nii.gz\r\n",
            "126_carotids_f.nii.gz 44_T2_f.nii.gz        85_carotids_f.nii.gz\r\n",
            "126_tumor_f.nii.gz    44_carotids_f.nii.gz  85_tumor_f.nii.gz\r\n",
            "127_T1.nii.gz         44_tumor_f.nii.gz     86_T1.nii.gz\r\n",
            "127_T2_f.nii.gz       45_T1.nii.gz          86_carotids_f.nii.gz\r\n",
            "127_carotids_f.nii.gz 45_T2_f.nii.gz        86_tumor_f.nii.gz\r\n",
            "127_tumor_f.nii.gz    45_carotids_f.nii.gz  87_T1.nii.gz\r\n",
            "128_T1.nii.gz         45_tumor_f.nii.gz     87_carotids_f.nii.gz\r\n",
            "128_T2_f.nii.gz       46_T1.nii.gz          87_tumor_f.nii.gz\r\n",
            "128_carotids_f.nii.gz 46_T2_f.nii.gz        88_T1.nii.gz\r\n",
            "128_tumor_f.nii.gz    46_carotids_f.nii.gz  88_T2_f.nii.gz\r\n",
            "129_T1.nii.gz         46_tumor_f.nii.gz     88_carotids_f.nii.gz\r\n",
            "129_T2_f.nii.gz       47_T1.nii.gz          88_tumor_f.nii.gz\r\n",
            "129_carotids_f.nii.gz 47_T2_f.nii.gz        89_T1.nii.gz\r\n",
            "129_tumor_f.nii.gz    47_carotids_f.nii.gz  89_T2_f.nii.gz\r\n",
            "12_T1.nii.gz          47_tumor_f.nii.gz     89_carotids_f.nii.gz\r\n",
            "12_T2_f.nii.gz        48_T1.nii.gz          89_tumor_f.nii.gz\r\n",
            "12_carotids_f.nii.gz  48_carotids_f.nii.gz  8_T1.nii.gz\r\n",
            "12_tumor_f.nii.gz     48_tumor_f.nii.gz     8_T2_f.nii.gz\r\n",
            "130_T1.nii.gz         49_T1.nii.gz          8_carotids_f.nii.gz\r\n",
            "130_T2_f.nii.gz       49_T2_f.nii.gz        8_tumor_f.nii.gz\r\n",
            "130_carotids_f.nii.gz 49_carotids_f.nii.gz  90_T1.nii.gz\r\n",
            "130_tumor_f.nii.gz    49_tumor_f.nii.gz     90_carotids_f.nii.gz\r\n",
            "131_T1.nii.gz         4_T1.nii.gz           90_tumor_f.nii.gz\r\n",
            "131_carotids_f.nii.gz 4_carotids_f.nii.gz   91_T1.nii.gz\r\n",
            "131_tumor_f.nii.gz    4_tumor_f.nii.gz      91_T2_f.nii.gz\r\n",
            "132_T1.nii.gz         50_T1.nii.gz          91_carotids_f.nii.gz\r\n",
            "132_carotids.nii.gz   50_T2_f.nii.gz        91_tumor_f.nii.gz\r\n",
            "132_tumor_f.nii.gz    50_carotids_f.nii.gz  92_T1.nii.gz\r\n",
            "133_T1.nii.gz         50_tumor_f.nii.gz     92_T2_f.nii.gz\r\n",
            "133_T2_f.nii.gz       51_T1.nii.gz          92_carotids_f.nii.gz\r\n",
            "133_carotids_f.nii.gz 51_T2_f.nii.gz        92_tumor_f.nii.gz\r\n",
            "133_tumor_f.nii.gz    51_carotids_f.nii.gz  93_T1.nii.gz\r\n",
            "134_T1.nii.gz         51_tumor_f.nii.gz     93_T2_f.nii.gz\r\n",
            "134_carotids_f.nii.gz 52_T1.nii.gz          93_carotids_f.nii.gz\r\n",
            "134_tumor_f.nii.gz    52_T2_f.nii.gz        93_tumor_f.nii.gz\r\n",
            "135_T1.nii.gz         52_carotids_f.nii.gz  94_T1.nii.gz\r\n",
            "135_T2_f.nii.gz       52_tumor_f.nii.gz     94_T2_f.nii.gz\r\n",
            "135_carotids_f.nii.gz 53_T1.nii.gz          94_carotids_f.nii.gz\r\n",
            "135_tumor_f.nii.gz    53_T2_f.nii.gz        94_tumor_f.nii.gz\r\n",
            "136_T1.nii.gz         53_carotids_f.nii.gz  95_T1.nii.gz\r\n",
            "136_T2_f.nii.gz       53_tumor_f.nii.gz     95_T2_f.nii.gz\r\n",
            "136_carotids_f.nii.gz 54_T1.nii.gz          95_carotids_f.nii.gz\r\n",
            "136_tumor_f.nii.gz    54_carotids_f.nii.gz  95_tumor_f.nii.gz\r\n",
            "13_T1.nii.gz          54_tumor_f.nii.gz     96_T1.nii.gz\r\n",
            "13_T2_f.nii.gz        55_T1.nii.gz          96_T2_f.nii.gz\r\n",
            "13_carotids_f.nii.gz  55_T2_f.nii.gz        96_carotids_f.nii.gz\r\n",
            "13_tumor_f.nii.gz     55_carotids_f.nii.gz  96_tumor_f.nii.gz\r\n",
            "14_T1.nii.gz          55_tumor_f.nii.gz     97_T1.nii.gz\r\n",
            "14_T2_f.nii.gz        56_T1.nii.gz          97_carotids_f.nii.gz\r\n",
            "14_carotids_f.nii.gz  56_T2_f.nii.gz        97_tumor_f.nii.gz\r\n",
            "14_tumor_f.nii.gz     56_carotids_f.nii.gz  98_T1.nii.gz\r\n",
            "15_T1.nii.gz          56_tumor_f.nii.gz     98_T2_f.nii.gz\r\n",
            "15_T2_f.nii.gz        57_T1.nii.gz          98_carotids_f.nii.gz\r\n",
            "15_carotids_f.nii.gz  57_T2_f.nii.gz        98_tumor_f.nii.gz\r\n",
            "15_tumor_f.nii.gz     57_carotids_f.nii.gz  99_T1.nii.gz\r\n",
            "16_T1.nii.gz          57_tumor_f.nii.gz     99_T2_f.nii.gz\r\n",
            "16_T2_f.nii.gz        58_T1.nii.gz          99_carotids_f.nii.gz\r\n",
            "16_carotids_f.nii.gz  58_T2_f.nii.gz        99_tumor_f.nii.gz\r\n",
            "16_tumor_f.nii.gz     58_carotids_f.nii.gz  9_T1.nii.gz\r\n",
            "17_T1.nii.gz          58_tumor_f.nii.gz     9_carotids_f.nii.gz\r\n",
            "17_T2_f.nii.gz        59_T1.nii.gz          9_tumor_f.nii.gz\r\n",
            "17_carotids_f.nii.gz  59_T2_f.nii.gz\r\n"
          ]
        }
      ],
      "source": [
        "!ls endonasal_mri_v2/MRIs_ALL"
      ]
    },
    {
      "cell_type": "code",
      "execution_count": null,
      "id": "098e8d1a",
      "metadata": {
        "id": "098e8d1a",
        "outputId": "7958ea18-20f5-48fc-c845-83a564eb63fd"
      },
      "outputs": [
        {
          "name": "stdout",
          "output_type": "stream",
          "text": [
            "[  1   2   3   4   5   6   7   8   9  10  11  12  13  14  15  16  17  18\n",
            "  19  20  21  22  23  24  25  26  27  28  29  30  31  32  33  34  35  36\n",
            "  37  38  39  40  41  42  43  44  45  46  47  48  49  50  51  52  53  54\n",
            "  55  56  57  58  59  60  61  62  63  64  65  66  67  68  69  70  71  72\n",
            "  73  74  75  76  77  78  79  80  81  82  83  84  85  86  87  88  89  90\n",
            "  91  92  93  94  95  96  97  98  99 100 101 102 103 104 105 106 107 108\n",
            " 109 110 111 112 113 114 115 116 117 118 119 120 121 122 123 124 125 126\n",
            " 127 128 129 130 131 132 133 134 135 136]\n"
          ]
        }
      ],
      "source": [
        "from glob import glob\n",
        "import os\n",
        "import numpy as np\n",
        "\n",
        "mris = glob('endonasal_mri_v2/MRIs_ALL/*_T1.nii.gz')\n",
        "mri_int = []\n",
        "for mri in mris:\n",
        "    mri_file = os.path.basename(mri).split('_')[0]\n",
        "    mri_int.append(mri_file)\n",
        "#     print(mri_file)\n",
        "mri_int = np.array(mri_int).astype(int)\n",
        "mri_int.sort()\n",
        "print(mri_int)\n",
        "\n",
        "for i in range(1,137,1):\n",
        "    if i != mri_int[i-1]:\n",
        "        print(i)"
      ]
    },
    {
      "cell_type": "code",
      "execution_count": null,
      "id": "1b93fa98",
      "metadata": {
        "scrolled": true,
        "id": "1b93fa98",
        "outputId": "3c175397-a444-4331-d4fe-e1c52c53b257"
      },
      "outputs": [
        {
          "name": "stdout",
          "output_type": "stream",
          "text": [
            "100\n"
          ]
        },
        {
          "data": {
            "text/plain": [
              "array([  2,   4,   9,  10,  18,  19,  20,  21,  23,  24,  33,  35,  37,\n",
              "        39,  48,  54,  61,  62,  71,  73,  77,  80,  85,  86,  87,  90,\n",
              "        97, 107, 108, 111, 119, 121, 124, 131, 132, 134])"
            ]
          },
          "execution_count": 41,
          "metadata": {},
          "output_type": "execute_result"
        }
      ],
      "source": [
        "from glob import glob\n",
        "import os\n",
        "import numpy as np\n",
        "\n",
        "mris = glob('endonasal_mri_v2/MRIs_ALL/*_T2_f.nii.gz')\n",
        "mri_int = []\n",
        "for mri in mris:\n",
        "    mri_file = os.path.basename(mri).split('_')[0]\n",
        "    mri_int.append(mri_file)\n",
        "#     print(mri_file)\n",
        "mri_int = np.array(mri_int).astype(int)\n",
        "mri_int.sort()\n",
        "print(len(mri_int))\n",
        "all_idx = np.zeros(137)\n",
        "for i in mri_int:\n",
        "    all_idx[i] = 1\n",
        "\n",
        "missing_cases = []\n",
        "for i in range(1,137,1):\n",
        "    if all_idx[i] != 1:\n",
        "        missing_cases.append(i)\n",
        "\n",
        "np.array(missing_cases)"
      ]
    },
    {
      "cell_type": "code",
      "execution_count": null,
      "id": "7b32d106",
      "metadata": {
        "id": "7b32d106",
        "outputId": "c851e58d-1cc1-436c-f53a-cd87e4a1044f"
      },
      "outputs": [
        {
          "name": "stdout",
          "output_type": "stream",
          "text": [
            "133\n"
          ]
        },
        {
          "data": {
            "text/plain": [
              "array([ 73,  75, 132])"
            ]
          },
          "execution_count": 42,
          "metadata": {},
          "output_type": "execute_result"
        }
      ],
      "source": [
        "from glob import glob\n",
        "import os\n",
        "import numpy as np\n",
        "\n",
        "mris = glob('endonasal_mri_v2/MRIs_ALL/*_carotids_f.nii.gz')\n",
        "mri_int = []\n",
        "for mri in mris:\n",
        "    mri_file = os.path.basename(mri).split('_')[0]\n",
        "    mri_int.append(mri_file)\n",
        "#     print(mri_file)\n",
        "mri_int = np.array(mri_int).astype(int)\n",
        "mri_int.sort()\n",
        "print(len(mri_int))\n",
        "all_idx = np.zeros(137)\n",
        "for i in mri_int:\n",
        "    all_idx[i] = 1\n",
        "\n",
        "missing_cases = []\n",
        "for i in range(1,137,1):\n",
        "    if all_idx[i] != 1:\n",
        "        missing_cases.append(i)\n",
        "\n",
        "np.array(missing_cases)"
      ]
    },
    {
      "cell_type": "code",
      "execution_count": null,
      "id": "c85f5a95",
      "metadata": {
        "id": "c85f5a95",
        "outputId": "d30d94e4-cd45-4753-ab93-44ac483aa22e"
      },
      "outputs": [
        {
          "name": "stdout",
          "output_type": "stream",
          "text": [
            "135\n"
          ]
        },
        {
          "data": {
            "text/plain": [
              "array([73])"
            ]
          },
          "execution_count": 43,
          "metadata": {},
          "output_type": "execute_result"
        }
      ],
      "source": [
        "from glob import glob\n",
        "import os\n",
        "import numpy as np\n",
        "\n",
        "mris = glob('endonasal_mri_v2/MRIs_ALL/*_tumor_f.nii.gz')\n",
        "mri_int = []\n",
        "for mri in mris:\n",
        "    mri_file = os.path.basename(mri).split('_')[0]\n",
        "    mri_int.append(mri_file)\n",
        "#     print(mri_file)\n",
        "mri_int = np.array(mri_int).astype(int)\n",
        "mri_int.sort()\n",
        "print(len(mri_int))\n",
        "all_idx = np.zeros(137)\n",
        "for i in mri_int:\n",
        "    all_idx[i] = 1\n",
        "\n",
        "missing_cases = []\n",
        "for i in range(1,137,1):\n",
        "    if all_idx[i] != 1:\n",
        "        missing_cases.append(i)\n",
        "\n",
        "np.array(missing_cases)"
      ]
    },
    {
      "cell_type": "code",
      "execution_count": null,
      "id": "5634559e",
      "metadata": {
        "id": "5634559e"
      },
      "outputs": [],
      "source": [
        "!pip -q install nibabel SimpleITK"
      ]
    },
    {
      "cell_type": "code",
      "execution_count": null,
      "id": "62a14c72",
      "metadata": {
        "id": "62a14c72",
        "outputId": "8c219a52-cd8f-41ef-c082-77d188a5d2e0"
      },
      "outputs": [
        {
          "name": "stdout",
          "output_type": "stream",
          "text": [
            "endonasal_mri_v2/MRIs_ALL/4_T1.nii.gz\n",
            "endonasal_mri_v2/MRIs_ALL/131_T1.nii.gz\n",
            "endonasal_mri_v2/MRIs_ALL/119_T1.nii.gz\n"
          ]
        }
      ],
      "source": [
        "from glob import glob\n",
        "import os\n",
        "import numpy as np\n",
        "import shutil\n",
        "import nibabel as nib\n",
        "import numpy as np\n",
        "import SimpleITK as sitk\n",
        "# img = nib.load(path)\n",
        "# img_array = img.get_fdata()\n",
        "\n",
        "\n",
        "new_root = 'endonasal_mri_v2/endonasal_mri_batch2/'\n",
        "\n",
        "mris = glob('endonasal_mri_v2/MRIs_ALL/*_carotids_f.nii.gz')\n",
        "mri_int = []\n",
        "for mri in mris:\n",
        "    mri_file = os.path.basename(mri).split('_')[0]\n",
        "    folder_order = str(mri_file).zfill(3)\n",
        "    folder_name = 'mri_' + folder_order\n",
        "    folder_dir = os.path.join(new_root,folder_name)\n",
        "    os.makedirs(folder_dir, exist_ok=True)\n",
        "\n",
        "\n",
        "    mask1 = nib.load(mri.replace('carotids', 'tumor'))\n",
        "    mask1_array = mask1.get_fdata()\n",
        "    #mask1_array[mask2_array==1] = 2\n",
        "\n",
        "    mask2 = nib.load(mri)\n",
        "    mask2_array = mask2.get_fdata()\n",
        "    mask2_array[mask2_array==1] = 2\n",
        "    mask2_array[mask1_array==1] = 1\n",
        "    mask_nifti = nib.Nifti1Image(mask2_array, mask1.affine, header=mask1.header)\n",
        "    mask_dst = os.path.join(folder_dir, 'mri_'+folder_order+'_mask.nii.gz')\n",
        "    nib.save(mask_nifti, mask_dst)\n",
        "\n",
        "\n",
        "    mri_src = os.path.join(os.path.dirname(mri), mri_file+'_T1.nii.gz')\n",
        "    mri_dst = os.path.join(folder_dir, 'mri_'+folder_order+'_t1c.nii.gz')\n",
        "    shutil.copy2(mri_src, mri_dst)\n",
        "\n",
        "    #mri_t1c = nib.load(mri_src)\n",
        "    #mri_t1c_array = mri_t1c.get_fdata()\n",
        "    #img_nifti = nib.Nifti1Image(mri_t1c_array, mri_t1c.affine, header=mri_t1c.header)\n",
        "    #nib.save(img_nifti, mri_dst)\n",
        "\n",
        "    #To reduce the data type\n",
        "    #print(f'Data type (from get_fdata): {mri_t1c_array.dtype}')\n",
        "    #mri_t1c_array = mri_t1c_array.astype(np.int32)\n",
        "\n",
        "    #To use sitk\n",
        "    #mri_t1c = sitk.ReadImage(mri_src)\n",
        "    #img_array = sitk.GetArrayFromImage(mri_t1c)\n",
        "    #img_sitk = sitk.GetImageFromArray(img_array)\n",
        "    #img_sitk.SetSpacing(mri_t1c.GetSpacing())\n",
        "    #img_sitk.SetDirection(mri_t1c.GetDirection())\n",
        "    #img_sitk.SetOrigin(mri_t1c.GetOrigin())\n",
        "    #writer = sitk.ImageFileWriter()\n",
        "    #mri_dst = os.path.join(folder_dir, 'mri_'+folder_order+'_t1c_sitk.nii.gz')\n",
        "    #writer.SetFileName(mri_dst)\n",
        "    #writer.Execute(img_sitk)\n",
        "\n",
        "    print(os.path.join(os.path.dirname(mri), mri_file+'_T1.nii.gz'))\n",
        "    #break"
      ]
    },
    {
      "cell_type": "code",
      "execution_count": null,
      "id": "478083f0",
      "metadata": {
        "id": "478083f0"
      },
      "outputs": [],
      "source": [
        "endonasal_mri_v2/endonasal_mri_batch2/"
      ]
    }
  ],
  "metadata": {
    "kernelspec": {
      "display_name": "Python 3 (ipykernel)",
      "language": "python",
      "name": "python3"
    },
    "language_info": {
      "codemirror_mode": {
        "name": "ipython",
        "version": 3
      },
      "file_extension": ".py",
      "mimetype": "text/x-python",
      "name": "python",
      "nbconvert_exporter": "python",
      "pygments_lexer": "ipython3",
      "version": "3.9.13"
    },
    "colab": {
      "provenance": [],
      "include_colab_link": true
    }
  },
  "nbformat": 4,
  "nbformat_minor": 5
}