{
  "nbformat": 4,
  "nbformat_minor": 0,
  "metadata": {
    "colab": {
      "provenance": [],
      "include_colab_link": true
    },
    "kernelspec": {
      "name": "python3",
      "display_name": "Python 3"
    },
    "language_info": {
      "name": "python"
    }
  },
  "cells": [
    {
      "cell_type": "markdown",
      "metadata": {
        "id": "view-in-github",
        "colab_type": "text"
      },
      "source": [
        "<a href=\"https://colab.research.google.com/github/mobarakol/tutorial_notebooks/blob/main/triangulation.ipynb\" target=\"_parent\"><img src=\"https://colab.research.google.com/assets/colab-badge.svg\" alt=\"Open In Colab\"/></a>"
      ]
    },
    {
      "cell_type": "code",
      "source": [
        "import cv2\n",
        "import numpy as np\n",
        "\n",
        "xyz= np.array([[95,10,44],\n",
        "               [550,0.5,10.5],\n",
        "               [12,13,43],\n",
        "               [10,79,76],\n",
        "               [10,30,50]])\n",
        "\n",
        "print('original xyz')\n",
        "print(f'{xyz.round()}')\n",
        "rvec_1 = np.zeros(3)\n",
        "tvec_1 = np.zeros(3)\n",
        "intrinsics = np.array([[664.63297660, 0.00000000, 931.53151205],\n",
        "                       [0.00000000, 663.83211807, 520.64004697],\n",
        "                       [0.00000000, 0.00000000, 1.00000000]])\n",
        "\n",
        "distortion = np.array([-0.40929449, 0.21631278, 0.00001112, 0.00127120, -0.07205712])\n",
        "image1_points, _ = cv2.projectPoints(xyz, rvec_1, tvec_1, intrinsics, distortion)\n",
        "print(image1_points)\n",
        "\n",
        "# apply translation for second image\n",
        "y_translation = 10\n",
        "T_1_to_2 = np.array([[1,0,0,0],\n",
        "                     [0,1,0,y_translation],\n",
        "                     [0,0,1,0], \n",
        "                     [0,0,0,1]])\n",
        "rvec_2 = np.zeros(3)\n",
        "tvec_2 = np.zeros(3)\n",
        "tvec_2[1]=y_translation\n",
        "image2_points, _ = cv2.projectPoints(xyz, rvec_2, tvec_2, intrinsics, distortion)\n",
        "print(image2_points)"
      ],
      "metadata": {
        "colab": {
          "base_uri": "https://localhost:8080/"
        },
        "id": "8zZT4bewyn0V",
        "outputId": "19faf9da-a272-4dbe-dd67-d27947fdc5d2"
      },
      "execution_count": 29,
      "outputs": [
        {
          "output_type": "stream",
          "name": "stdout",
          "text": [
            "original xyz\n",
            "[[ 95.  10.  44.]\n",
            " [550.   0.  10.]\n",
            " [ 12.  13.  43.]\n",
            " [ 10.  79.  76.]\n",
            " [ 10.  30.  50.]]\n",
            "[[[-4.32113632e+03 -3.19899985e+01]]\n",
            "\n",
            " [[-5.17605044e+13 -4.69983039e+10]]\n",
            "\n",
            " [[ 1.10552020e+03  7.08747172e+02]]\n",
            "\n",
            " [[ 9.95108512e+02  1.01498261e+03]]\n",
            "\n",
            " [[ 1.04709056e+03  8.65889770e+02]]]\n",
            "[[[-5.05450146e+03 -7.38887846e+02]]\n",
            "\n",
            " [[-5.18170115e+13 -9.88041865e+11]]\n",
            "\n",
            " [[ 1.09449093e+03  8.32016552e+02]]\n",
            "\n",
            " [[ 9.90087044e+02  1.03073707e+03]]\n",
            "\n",
            " [[ 1.03839041e+03  9.45270318e+02]]]\n"
          ]
        }
      ]
    },
    {
      "cell_type": "markdown",
      "source": [
        "Example-1:<br>\n",
        "cv2.triangulatePoints is a function of OpenCV that can calculate the coordinates of three-dimensional points. It takes as input two projection matrices and the corresponding coordinates of a point on the image, and outputs the coordinates of the point in 3D space.\n",
        "\n",
        "Here is a sample code using cv2.triangulatePoints:"
      ],
      "metadata": {
        "id": "bOPK2-YKth1e"
      }
    },
    {
      "cell_type": "code",
      "source": [
        "import cv2\n",
        "import numpy as np\n",
        "\n",
        "# Create two projection matrices for the left and right cameras\n",
        "P1 = np.array([[1, 0, 0, 0], [0, 1, 0, 0], [0, 0, 1, 0]])\n",
        "P2 = np.array([[1, 0, 0, 0.5], [0, 1, 0, 0], [0, 0, 1, 0]])\n",
        "\n",
        "# Create an array of 2D points in the left and right images\n",
        "points1 = np.array([[100, 200], [150, 250], [200, 300]])\n",
        "points2 = np.array([[125, 225], [175, 275], [225, 325]])\n",
        "\n",
        "# Convert the points to homogeneous coordinates\n",
        "points1 = np.concatenate((points1, np.ones((points1.shape[0], 1))), axis=1)\n",
        "points2 = np.concatenate((points2, np.ones((points2.shape[0], 1))), axis=1)\n",
        "\n",
        "# Triangulate the points to find their 3D coordinates\n",
        "# points3D = cv2.triangulatePoints(P1, P2, points1.T, points2.T)\n",
        "points3D = cv2.triangulatePoints(P1[:3], P2[:3], points1.T[:2], points2.T[:2])\n",
        "\n",
        "# Convert the points back to non-homogeneous coordinates\n",
        "points3D = points3D / points3D[3]\n",
        "\n",
        "# Print the 3D coordinates\n",
        "print(points3D[:3].T)"
      ],
      "metadata": {
        "colab": {
          "base_uri": "https://localhost:8080/"
        },
        "id": "p63UHUJNtZ_c",
        "outputId": "676c2d17-c42e-4008-858a-41ba1360ab98"
      },
      "execution_count": null,
      "outputs": [
        {
          "output_type": "stream",
          "name": "stdout",
          "text": [
            "[[-0.481  0.033  0.000]\n",
            " [-0.481  0.030  0.000]\n",
            " [-0.480  0.029  0.000]]\n"
          ]
        }
      ]
    },
    {
      "cell_type": "markdown",
      "source": [
        "Triangulate image points to world points comparing openCV to pure python"
      ],
      "metadata": {
        "id": "b-6Mli1Cm_hy"
      }
    },
    {
      "cell_type": "code",
      "source": [
        "from __future__ import print_function\n",
        "import numpy as np\n",
        "import cv2\n",
        "import time\n",
        "\n",
        "np.set_printoptions(formatter={'float': '{: 0.3f}'.format})\n",
        "\n",
        "\n",
        "def triangulate_nviews(P, ip):\n",
        "    \"\"\"\n",
        "    Triangulate a point visible in n camera views.\n",
        "    P is a list of camera projection matrices.\n",
        "    ip is a list of homogenised image points. eg [ [x, y, 1], [x, y, 1] ], OR,\n",
        "    ip is a 2d array - shape nx3 - [ [x, y, 1], [x, y, 1] ]\n",
        "    len of ip must be the same as len of P\n",
        "    \"\"\"\n",
        "    if not len(ip) == len(P):\n",
        "        raise ValueError('Number of points and number of cameras not equal.')\n",
        "    n = len(P)\n",
        "    M = np.zeros([3*n, 4+n])\n",
        "    for i, (x, p) in enumerate(zip(ip, P)):\n",
        "        M[3*i:3*i+3, :4] = p\n",
        "        M[3*i:3*i+3, 4+i] = -x\n",
        "    V = np.linalg.svd(M)[-1]\n",
        "    X = V[-1, :4]\n",
        "    return X / X[3]\n",
        "\n",
        "\n",
        "def triangulate_points(P1, P2, x1, x2):\n",
        "    \"\"\"\n",
        "    Two-view triangulation of points in\n",
        "    x1,x2 (nx3 homog. coordinates).\n",
        "    Similar to openCV triangulatePoints.\n",
        "    \"\"\"\n",
        "    if not len(x2) == len(x1):\n",
        "        raise ValueError(\"Number of points don't match.\")\n",
        "    X = [triangulate_nviews([P1, P2], [x[0], x[1]]) for x in zip(x1, x2)]\n",
        "    return np.array(X)\n",
        "\n",
        "\n",
        "# -----------------------------------------------------------------------------\n",
        "# Data\n",
        "# -----------------------------------------------------------------------------\n",
        "\n",
        "# 3 camera projection matrices\n",
        "P1 = np.array([[5.010e+03, 0.000e+00, 3.600e+02, 0.000e+00],\n",
        "               [0.000e+00, 5.010e+03, 6.400e+02, 0.000e+00],\n",
        "               [0.000e+00, 0.000e+00, 1.000e+00, 0.000e+00]])\n",
        "\n",
        "P2 = np.array([[5.037e+03, -9.611e+01, -1.756e+03, 4.284e+03],\n",
        "               [2.148e+02,  5.354e+03,  1.918e+02, 8.945e+02],\n",
        "               [3.925e-01,  7.092e-02,  9.169e-01, 4.930e-01]])\n",
        "\n",
        "P3 = np.array([[5.217e+03,  2.246e+02,  2.366e+03, -3.799e+03],\n",
        "               [-5.734e+02,  5.669e+03,  8.233e+02, -2.567e+02],\n",
        "               [-3.522e-01, -5.839e-02,  9.340e-01,  6.459e-01]])\n",
        "\n",
        "# 3 corresponding image points - nx2 arrays, n=1\n",
        "x1 = np.array([[274.128, 624.409]])\n",
        "x2 = np.array([[239.571, 533.568]])\n",
        "x3 = np.array([[297.574, 549.260]])\n",
        "\n",
        "# 3 corresponding homogeneous image points - nx3 arrays, n=1\n",
        "x1h = np.array([[274.128, 624.409, 1.0]])\n",
        "x2h = np.array([[239.571, 533.568, 1.0]])\n",
        "x3h = np.array([[297.574, 549.260, 1.0]])\n",
        "\n",
        "# 3 corresponding homogeneous image points - nx3 arrays, n=2\n",
        "x1h2 = np.array([[274.129, 624.409, 1.0], [322.527, 624.869, 1.0]])\n",
        "x2h2 = np.array([[239.572, 533.568, 1.0], [284.507, 534.572, 1.0]])\n",
        "x3h2 = np.array([[297.575, 549.260, 1.0], [338.942, 546.567, 1.0]])\n",
        "\n",
        "\n",
        "# -----------------------------------------------------------------------------\n",
        "# Test\n",
        "# -----------------------------------------------------------------------------\n",
        "\n",
        "print('Triangulate 3d points - units in meters')\n",
        "# triangulatePoints requires 2xn arrays, so transpose the points\n",
        "p = cv2.triangulatePoints(P1, P2, x1.T, x2.T)\n",
        "# however, homgeneous point is returned\n",
        "p /= p[3]\n",
        "print('Projected point from openCV:',  p.T)\n",
        "\n",
        "p = triangulate_nviews([P1, P2], [x1h, x2h])\n",
        "print('Projected point from 2 camera views:',  p)\n",
        "\n",
        "p = triangulate_nviews([P1, P2, P3], [x1h, x2h, x3h])\n",
        "print('Projected point from 3 camera views:',  p)\n",
        "\n",
        "# cv2 two image points - not homgeneous on input\n",
        "p = cv2.triangulatePoints(P1, P2, x1h2[:, :2].T, x2h2[:, :2].T)\n",
        "p /= p[3]\n",
        "print('Projected points from openCV:\\n', p.T)\n",
        "\n",
        "p = triangulate_points(P1, P2, x1h2, x2h2)\n",
        "print('Projected point from code:\\n',  p)\n",
        "\n",
        "# -----------------------------------------------------------------------------\n",
        "# Timing\n",
        "# -----------------------------------------------------------------------------\n",
        "\n",
        "t1 = time.time()\n",
        "for i in range(10000):\n",
        "    p = cv2.triangulatePoints(P1, P2, x1.T, x2.T)\n",
        "    p /= p[3]\n",
        "t2 = time.time()\n",
        "print('Elapsed time cv2:', t2-t1)\n",
        "\n",
        "t1 = time.time()\n",
        "for i in range(10000):\n",
        "    p = triangulate_nviews([P1, P2], [x1h, x2h])\n",
        "t2 = time.time()\n",
        "print('Elapsed time sfm:', t2-t1)"
      ],
      "metadata": {
        "colab": {
          "base_uri": "https://localhost:8080/"
        },
        "id": "MPD3CpvokEu5",
        "outputId": "97224dac-c28f-47b5-e1bf-c767fca7053d"
      },
      "execution_count": null,
      "outputs": [
        {
          "output_type": "stream",
          "name": "stdout",
          "text": [
            "Triangulate 3d points - units in meters\n",
            "Projected point from openCV: [[-0.035 -0.006  2.022  1.000]]\n",
            "Projected point from 2 camera views: [-0.034 -0.006  2.023  1.000]\n",
            "Projected point from 3 camera views: [-0.004  0.062  2.011  1.000]\n",
            "Projected points from openCV:\n",
            " [[-0.035 -0.006  2.022  1.000]\n",
            " [-0.015 -0.006  2.018  1.000]]\n",
            "Projected point from code:\n",
            " [[-0.034 -0.006  2.023  1.000]\n",
            " [-0.015 -0.006  2.019  1.000]]\n",
            "Elapsed time cv2: 0.11631059646606445\n",
            "Elapsed time sfm: 0.6416676044464111\n"
          ]
        }
      ]
    },
    {
      "cell_type": "markdown",
      "source": [
        "Example 2:<br>\n",
        "https://www.programcreek.com/python/?code=Huangying-Zhan%2FDF-VO%2FDF-VO-master%2Flibs%2Fgeometry%2Fops_3d.py\n"
      ],
      "metadata": {
        "id": "AEsIxK3InB-E"
      }
    },
    {
      "cell_type": "code",
      "execution_count": null,
      "metadata": {
        "id": "TFzDBAHHivv1"
      },
      "outputs": [],
      "source": [
        "def triangulation(kp1, kp2, T_1w, T_2w):\n",
        "    \"\"\"Triangulation to get 3D points\n",
        "    Args:\n",
        "        kp1 (Nx2): keypoint in view 1 (normalized)\n",
        "        kp2 (Nx2): keypoints in view 2 (normalized)\n",
        "        T_1w (4x4): pose of view 1 w.r.t  i.e. T_1w (from w to 1)\n",
        "        T_2w (4x4): pose of view 2 w.r.t world, i.e. T_2w (from w to 2)\n",
        "    Returns:\n",
        "        X (3xN): 3D coordinates of the keypoints w.r.t world coordinate\n",
        "        X1 (3xN): 3D coordinates of the keypoints w.r.t view1 coordinate\n",
        "        X2 (3xN): 3D coordinates of the keypoints w.r.t view2 coordinate\n",
        "    \"\"\"\n",
        "    kp1_3D = np.ones((3, kp1.shape[0]))\n",
        "    kp2_3D = np.ones((3, kp2.shape[0]))\n",
        "    kp1_3D[0], kp1_3D[1] = kp1[:, 0].copy(), kp1[:, 1].copy()\n",
        "    kp2_3D[0], kp2_3D[1] = kp2[:, 0].copy(), kp2[:, 1].copy()\n",
        "    X = cv2.triangulatePoints(T_1w[:3], T_2w[:3], kp1_3D[:2], kp2_3D[:2])\n",
        "    X /= X[3]\n",
        "    X1 = T_1w[:3] @ X\n",
        "    X2 = T_2w[:3] @ X\n",
        "    return X[:3], X1, X2 "
      ]
    },
    {
      "cell_type": "markdown",
      "source": [
        "Example-x <br>\n",
        "So the setting is given a coordinate system shown below where the z-axis is pointing out of the screen (towards you), the camera focal length is 270 pixels and image resolution is 640x480, then we have an object somewhere in 3D space, and two drones d1 and d2 taking two observations at two different viewpoints, where is d1 is at (6, 3, 2) and the corresponding image coordinate of the object is (320, 280), and that of d2 is (9.5, 4.5, 3) and (160, 408), also the heading of d1 is -20 degrees from the y-axis and that of d2 is +30 degrees from y-axis, the goal is to determine (x, y, z) where the object is at, the drones are hovering over the xy plane\n",
        "<img src=\"https://i.stack.imgur.com/vHI9a.png\" width=\"400\"/>\n",
        "\n",
        "Given the information, by letting d1 be the reference frame, we can have the camera intrinsics K = [[270, 0, 320], [0, 270, 240], [0, 0, 1]], the transformation is rotate +50 degrees with z-axis as the rotation axis, and translation t = [3.5, 1.5, 1]\n"
      ],
      "metadata": {
        "id": "ejzRFRAVo1lq"
      }
    },
    {
      "cell_type": "code",
      "source": [
        "def pixel2cam(pt, K):\n",
        "    u = (pt[0] - K[0][2]) / K[0][0]\n",
        "    v = (pt[1] - K[1][2]) / K[1][1]\n",
        "    return np.array([u, v], dtype=np.float32)\n",
        "\n",
        "def triangulate(points_1, points_2, K, R, t):\n",
        "    T1 = np.array([[1, 0, 0, 0], \n",
        "                   [0, 1, 0, 0], \n",
        "                   [0, 0, 1, 0]], dtype=np.float32)\n",
        "    T2 = np.hstack((R, t))\n",
        "    proj1 = np.matmul(K, T1)\n",
        "    proj2 = np.matmul(K, T2)\n",
        "    X = cv2.triangulatePoints(proj1, proj2, points_1, points_2)\n",
        "    X /= X[3]\n",
        "    return X\n",
        "\n",
        "K = np.array([[270, 0, 320], [0, 270, 240], [0, 0, 1]], dtype=np.float32)\n",
        "# rotate +50 degrees along z axis\n",
        "rotation_vector = np.array([0, -50 / 180 * np.pi, 0])\n",
        "R, _ = cv2.Rodrigues(rotation_vector)\n",
        "t = np.array([[3.5], [1.5], [1]], dtype=np.float)\n",
        "\n",
        "pt_1 = (320, 280)\n",
        "pt_2 = (160, 408)\n",
        "\n",
        "X = triangulate(pt_1, pt_2, K, R, t)"
      ],
      "metadata": {
        "colab": {
          "base_uri": "https://localhost:8080/"
        },
        "id": "MY33iG1zo12N",
        "outputId": "f00bea01-9527-4035-cdef-120a2559e86c"
      },
      "execution_count": null,
      "outputs": [
        {
          "output_type": "stream",
          "name": "stderr",
          "text": [
            "<ipython-input-14-9ceae85dd3e3>:21: DeprecationWarning: `np.float` is a deprecated alias for the builtin `float`. To silence this warning, use `float` by itself. Doing this will not modify any behavior and is safe. If you specifically wanted the numpy scalar type, use `np.float64` here.\n",
            "Deprecated in NumPy 1.20; for more details and guidance: https://numpy.org/devdocs/release/1.20.0-notes.html#deprecations\n",
            "  t = np.array([[3.5], [1.5], [1]], dtype=np.float)\n"
          ]
        }
      ]
    },
    {
      "cell_type": "markdown",
      "source": [
        "Example-x:"
      ],
      "metadata": {
        "id": "2avbmwyRraDx"
      }
    },
    {
      "cell_type": "code",
      "source": [
        "import numpy as np\n",
        "# Camera projection matrices\n",
        "P1 = np.eye(4)\n",
        "P2 = np.array([[ 0.878, -0.01 ,  0.479, -1.995],\n",
        "            [ 0.01 ,  1.   ,  0.002, -0.226],\n",
        "            [-0.479,  0.002,  0.878,  0.615],\n",
        "            [ 0.   ,  0.   ,  0.   ,  1.   ]])\n",
        "# Homogeneous arrays\n",
        "a3xN = np.array([[ 0.091,  0.167,  0.231,  0.083,  0.154],\n",
        "              [ 0.364,  0.333,  0.308,  0.333,  0.308],\n",
        "              [ 1.   ,  1.   ,  1.   ,  1.   ,  1.   ]])\n",
        "b3xN = np.array([[ 0.42 ,  0.537,  0.645,  0.431,  0.538],\n",
        "              [ 0.389,  0.375,  0.362,  0.357,  0.345],\n",
        "              [ 1.   ,  1.   ,  1.   ,  1.   ,  1.   ]])\n",
        "# The cv2 method\n",
        "X = cv2.triangulatePoints( P1[:3], P2[:3], a3xN[:2], b3xN[:2] )\n",
        "# Remember to divide out the 4th row. Make it homogeneous\n",
        "X /= X[3]\n",
        "# Recover the origin arrays from PX\n",
        "x1 = np.dot(P1[:3],X)\n",
        "x2 = np.dot(P2[:3],X)\n",
        "# Again, put in homogeneous form before using them\n",
        "x1 /= x1[2]\n",
        "x2 /= x2[2]\n",
        " \n",
        "print ('X\\n', X)\n",
        "print ('x1\\n', x1)\n",
        "print ('x2\\n', x2)"
      ],
      "metadata": {
        "colab": {
          "base_uri": "https://localhost:8080/"
        },
        "id": "k3qIIbHXrb_6",
        "outputId": "e2c643d5-43a3-42c2-e249-8e9b78757af9"
      },
      "execution_count": null,
      "outputs": [
        {
          "output_type": "stream",
          "name": "stdout",
          "text": [
            "X\n",
            " [[ 1.003  2.009  3.013  1.004  2.011]\n",
            " [ 4.012  4.010  4.017  4.030  4.019]\n",
            " [ 11.020  12.029  13.042  12.092  13.055]\n",
            " [ 1.000  1.000  1.000  1.000  1.000]]\n",
            "x1\n",
            " [[ 0.091  0.167  0.231  0.083  0.154]\n",
            " [ 0.364  0.333  0.308  0.333  0.308]\n",
            " [ 1.000  1.000  1.000  1.000  1.000]]\n",
            "x2\n",
            " [[ 0.420  0.537  0.645  0.431  0.538]\n",
            " [ 0.389  0.375  0.362  0.357  0.345]\n",
            " [ 1.000  1.000  1.000  1.000  1.000]]\n"
          ]
        }
      ]
    },
    {
      "cell_type": "markdown",
      "source": [
        "Example-3"
      ],
      "metadata": {
        "id": "0HUwq9VGncV3"
      }
    },
    {
      "cell_type": "code",
      "source": [
        "import numpy as np\n",
        "def triangulatePoints( P1, P2, x1, x2 ):\n",
        "    X = cv2.triangulatePoints( P1[:3], P2[:3], x1[:2], x2[:2] )\n",
        "    return X/X[3]\n",
        "# Camera projection matrices\n",
        "P1 = np.eye(4)\n",
        "P2 = np.array([[ 0.878, -0.01 ,  0.479, -1.995],\n",
        "            [ 0.01 ,  1.   ,  0.002, -0.226],\n",
        "            [-0.479,  0.002,  0.878,  0.615],\n",
        "            [ 0.   ,  0.   ,  0.   ,  1.   ]])\n",
        "# Homogeneous arrays\n",
        "a3xN = np.array([[ 0.091,  0.167,  0.231,  0.083,  0.154],\n",
        "              [ 0.364,  0.333,  0.308,  0.333,  0.308],\n",
        "              [ 1.   ,  1.   ,  1.   ,  1.   ,  1.   ]])\n",
        "b3xN = np.array([[ 0.42 ,  0.537,  0.645,  0.431,  0.538],\n",
        "              [ 0.389,  0.375,  0.362,  0.357,  0.345],\n",
        "              [ 1.   ,  1.   ,  1.   ,  1.   ,  1.   ]])\n",
        "\n",
        "X = triangulatePoints( P1, P2, a3xN, b3xN )\n",
        "# Remember to divide out the 4th row. Make it homogeneous\n",
        "X /= X[3]\n",
        "# Recover the origin arrays from PX\n",
        "x1 = np.dot(P1[:3],X)\n",
        "x2 = np.dot(P2[:3],X)\n",
        "# Again, put in homogeneous form before using them\n",
        "x1 /= x1[2]\n",
        "x2 /= x2[2]\n",
        " \n",
        "print ('X\\n', X)\n",
        "print ('x1\\n', x1)\n",
        "print ('x2\\n', x2)"
      ],
      "metadata": {
        "colab": {
          "base_uri": "https://localhost:8080/"
        },
        "id": "ygnhmaWWr2oQ",
        "outputId": "84813b4f-0029-4efa-eedc-c2287d428c5d"
      },
      "execution_count": null,
      "outputs": [
        {
          "output_type": "stream",
          "name": "stdout",
          "text": [
            "X\n",
            " [[ 1.003  2.009  3.013  1.004  2.011]\n",
            " [ 4.012  4.010  4.017  4.030  4.019]\n",
            " [ 11.020  12.029  13.042  12.092  13.055]\n",
            " [ 1.000  1.000  1.000  1.000  1.000]]\n",
            "x1\n",
            " [[ 0.091  0.167  0.231  0.083  0.154]\n",
            " [ 0.364  0.333  0.308  0.333  0.308]\n",
            " [ 1.000  1.000  1.000  1.000  1.000]]\n",
            "x2\n",
            " [[ 0.420  0.537  0.645  0.431  0.538]\n",
            " [ 0.389  0.375  0.362  0.357  0.345]\n",
            " [ 1.000  1.000  1.000  1.000  1.000]]\n"
          ]
        }
      ]
    },
    {
      "cell_type": "markdown",
      "source": [
        "Main"
      ],
      "metadata": {
        "id": "Iq0296s-sEmT"
      }
    },
    {
      "cell_type": "code",
      "source": [
        "!git clone https://github.com/swishswish123/3D_reconstruction.git"
      ],
      "metadata": {
        "id": "grnqXiNcoIXy",
        "colab": {
          "base_uri": "https://localhost:8080/"
        },
        "outputId": "ce85b5ce-110c-4fa5-c2ef-7be7ad69ce10"
      },
      "execution_count": 30,
      "outputs": [
        {
          "output_type": "stream",
          "name": "stdout",
          "text": [
            "Cloning into '3D_reconstruction'...\n",
            "remote: Enumerating objects: 236, done.\u001b[K\n",
            "remote: Counting objects: 100% (38/38), done.\u001b[K\n",
            "remote: Compressing objects: 100% (27/27), done.\u001b[K\n",
            "remote: Total 236 (delta 15), reused 32 (delta 11), pack-reused 198\u001b[K\n",
            "Receiving objects: 100% (236/236), 118.88 MiB | 27.90 MiB/s, done.\n",
            "Resolving deltas: 100% (73/73), done.\n",
            "Updating files: 100% (20/20), done.\n"
          ]
        }
      ]
    },
    {
      "cell_type": "code",
      "source": [
        "%cd 3D_reconstruction"
      ],
      "metadata": {
        "colab": {
          "base_uri": "https://localhost:8080/"
        },
        "id": "aRk9McVi6K49",
        "outputId": "1ad521f5-3b45-490b-e3b5-6fc498ceb3b5"
      },
      "execution_count": 31,
      "outputs": [
        {
          "output_type": "stream",
          "name": "stdout",
          "text": [
            "/content/3D_reconstruction\n"
          ]
        }
      ]
    },
    {
      "cell_type": "code",
      "source": [
        "!pip install -U -q PyDrive\n",
        "from pydrive.auth import GoogleAuth\n",
        "from pydrive.drive import GoogleDrive\n",
        "from google.colab import auth\n",
        "from oauth2client.client import GoogleCredentials\n",
        "# Authenticate and create the PyDrive client.\n",
        "auth.authenticate_user()\n",
        "gauth = GoogleAuth()\n",
        "gauth.credentials = GoogleCredentials.get_application_default()\n",
        "drive = GoogleDrive(gauth)\n",
        "downloaded = drive.CreateFile({'id':'1n9fJ-a9MQr3BucgcRqIGlF40omruhb4r'}) \n",
        "downloaded.GetContentFile('brain.zip')\n",
        "!unzip -q brain.zip"
      ],
      "metadata": {
        "id": "-iyw6Gf7C0_T"
      },
      "execution_count": 43,
      "outputs": []
    },
    {
      "cell_type": "code",
      "source": [
        "import os\n",
        "os.makedirs(\"assets/random\", exist_ok=True)\n",
        "!cp -rf brain assets/random/"
      ],
      "metadata": {
        "id": "p8vpoHUrDrKJ"
      },
      "execution_count": 48,
      "outputs": []
    },
    {
      "cell_type": "code",
      "source": [
        "!pip -q install scikit-surgerycore "
      ],
      "metadata": {
        "colab": {
          "base_uri": "https://localhost:8080/"
        },
        "id": "7dUNgAJm6iyE",
        "outputId": "53abb5af-0c3f-4bf6-f633-252965ac4a8c"
      },
      "execution_count": 35,
      "outputs": [
        {
          "output_type": "stream",
          "name": "stdout",
          "text": [
            "  Preparing metadata (setup.py) ... \u001b[?25l\u001b[?25hdone\n",
            "  Building wheel for scikit-surgerycore (setup.py) ... \u001b[?25l\u001b[?25hdone\n"
          ]
        }
      ]
    },
    {
      "cell_type": "code",
      "source": [
        "!ls assets/random/brain"
      ],
      "metadata": {
        "colab": {
          "base_uri": "https://localhost:8080/"
        },
        "id": "yjDt_SnuErxo",
        "outputId": "2c15c041-957f-4055-db9b-aca5982f70f3"
      },
      "execution_count": 50,
      "outputs": [
        {
          "output_type": "stream",
          "name": "stdout",
          "text": [
            "images\ttimes.npy  vecs.npy\n"
          ]
        }
      ]
    },
    {
      "cell_type": "code",
      "source": [
        "!python reconstruction.py"
      ],
      "metadata": {
        "colab": {
          "base_uri": "https://localhost:8080/"
        },
        "id": "lt61M7A96dHG",
        "outputId": "9c97aee3-d45a-4035-a19f-a71341d384c9"
      },
      "execution_count": 56,
      "outputs": [
        {
          "output_type": "stream",
          "name": "stdout",
          "text": [
            "image 0\n",
            "image 10\n",
            "image 20\n",
            "image 30\n",
            "image 40\n",
            "image 50\n",
            "image 60\n",
            "image 70\n",
            "image 80\n",
            "image 90\n",
            "image 100\n",
            "image 110\n",
            "image 120\n",
            "/content/3D_reconstruction/reconstruction_utils/utils.py:62: UserWarning: Gimbal lock detected. Setting third angle to zero since it is not possible to uniquely determine all angles.\n",
            "  euler = rot.as_euler('zyx', degrees=True)\n",
            "image 130\n",
            "image 140\n",
            "image 150\n",
            "image 160\n",
            "image 170\n",
            "image 180\n",
            "image 190\n",
            "done\n"
          ]
        }
      ]
    },
    {
      "cell_type": "code",
      "source": [
        "!python plot_reconstruction.py"
      ],
      "metadata": {
        "id": "bhYR7FqD6Nsk"
      },
      "execution_count": 57,
      "outputs": []
    },
    {
      "cell_type": "code",
      "source": [
        "!python plot_reconstruction_o3d.py"
      ],
      "metadata": {
        "colab": {
          "base_uri": "https://localhost:8080/"
        },
        "id": "wqPy79p-IIyG",
        "outputId": "289ba43f-4f06-4639-dae1-4e2bc7ff6e7e"
      },
      "execution_count": 61,
      "outputs": [
        {
          "output_type": "stream",
          "name": "stdout",
          "text": [
            "Traceback (most recent call last):\n",
            "  File \"plot_reconstruction_o3d.py\", line 19, in <module>\n",
            "    xyz = np.load(f'{reconstruction_output}/points.npy')\n",
            "  File \"/usr/local/lib/python3.8/dist-packages/numpy/lib/npyio.py\", line 407, in load\n",
            "    fid = stack.enter_context(open(os_fspath(file), \"rb\"))\n",
            "FileNotFoundError: [Errno 2] No such file or directory: '/content/3D_reconstruction/reconstructions/online/random/books/points.npy'\n"
          ]
        }
      ]
    },
    {
      "cell_type": "code",
      "source": [
        "!git pull"
      ],
      "metadata": {
        "colab": {
          "base_uri": "https://localhost:8080/"
        },
        "id": "CU2URJsZ8cFW",
        "outputId": "52fb1c78-b9f4-48ee-b6ff-cfc2e6d40f5d"
      },
      "execution_count": 60,
      "outputs": [
        {
          "output_type": "stream",
          "name": "stdout",
          "text": [
            "Already up to date.\n"
          ]
        }
      ]
    },
    {
      "cell_type": "code",
      "source": [
        "!pip -q install open3d"
      ],
      "metadata": {
        "colab": {
          "base_uri": "https://localhost:8080/"
        },
        "id": "gqu2MDT26YKk",
        "outputId": "cb4179f1-6d22-415f-950c-7493ec91be3d"
      },
      "execution_count": 59,
      "outputs": [
        {
          "output_type": "stream",
          "name": "stdout",
          "text": [
            "\u001b[2K     \u001b[90m━━━━━━━━━━━━━━━━━━━━━━━━━━━━━━━━━━━━━━━\u001b[0m \u001b[32m422.5/422.5 MB\u001b[0m \u001b[31m2.7 MB/s\u001b[0m eta \u001b[36m0:00:00\u001b[0m\n",
            "\u001b[2K     \u001b[90m━━━━━━━━━━━━━━━━━━━━━━━━━━━━━━━━━━━━━━━━\u001b[0m \u001b[32m9.9/9.9 MB\u001b[0m \u001b[31m89.7 MB/s\u001b[0m eta \u001b[36m0:00:00\u001b[0m\n",
            "\u001b[2K     \u001b[90m━━━━━━━━━━━━━━━━━━━━━━━━━━━━━━━━━━━━━━━━\u001b[0m \u001b[32m3.4/3.4 MB\u001b[0m \u001b[31m88.7 MB/s\u001b[0m eta \u001b[36m0:00:00\u001b[0m\n",
            "\u001b[2K     \u001b[90m━━━━━━━━━━━━━━━━━━━━━━━━━━━━━━━━━━━━━━━━\u001b[0m \u001b[32m75.3/75.3 KB\u001b[0m \u001b[31m10.0 MB/s\u001b[0m eta \u001b[36m0:00:00\u001b[0m\n",
            "\u001b[2K     \u001b[90m━━━━━━━━━━━━━━━━━━━━━━━━━━━━━━━━━━━━━━━━\u001b[0m \u001b[32m1.6/1.6 MB\u001b[0m \u001b[31m67.9 MB/s\u001b[0m eta \u001b[36m0:00:00\u001b[0m\n",
            "\u001b[?25h"
          ]
        }
      ]
    },
    {
      "cell_type": "code",
      "source": [],
      "metadata": {
        "id": "_uMx0ZqVIQEE"
      },
      "execution_count": null,
      "outputs": []
    }
  ]
}