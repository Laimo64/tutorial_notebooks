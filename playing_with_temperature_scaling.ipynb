{
  "nbformat": 4,
  "nbformat_minor": 0,
  "metadata": {
    "colab": {
      "provenance": [],
      "authorship_tag": "ABX9TyNsnZ0XgufsJ7wmLPDZ45NJ",
      "include_colab_link": true
    },
    "kernelspec": {
      "name": "python3",
      "display_name": "Python 3"
    },
    "language_info": {
      "name": "python"
    }
  },
  "cells": [
    {
      "cell_type": "markdown",
      "metadata": {
        "id": "view-in-github",
        "colab_type": "text"
      },
      "source": [
        "<a href=\"https://colab.research.google.com/github/mobarakol/tutorial_notebooks/blob/main/playing_with_temperature_scaling.ipynb\" target=\"_parent\"><img src=\"https://colab.research.google.com/assets/colab-badge.svg\" alt=\"Open In Colab\"/></a>"
      ]
    },
    {
      "cell_type": "markdown",
      "source": [
        "#Min-max normalization"
      ],
      "metadata": {
        "id": "mVqOJ3n0mlHu"
      }
    },
    {
      "cell_type": "code",
      "execution_count": 21,
      "metadata": {
        "colab": {
          "base_uri": "https://localhost:8080/"
        },
        "id": "_SRw6vnhjH3G",
        "outputId": "ce221336-da22-4743-8d30-c211c268f686"
      },
      "outputs": [
        {
          "output_type": "stream",
          "name": "stdout",
          "text": [
            "ece_level: [-0.2   0.01  0.1   0.3 ]\n",
            "Opt_t: 1.2\n",
            "ece_level_norm: [0.   0.42 0.6  1.  ]\n",
            "ece_level_norm_exp: [1.         1.52196156 1.8221188  2.71828183]\n",
            "cw_t_v1 (multi): [1.2        1.82635387 2.18654256 3.26193819]\n",
            "cw_t_v2 (add/sub): [1.3        1.35219616 1.38221188 1.47182818]\n"
          ]
        }
      ],
      "source": [
        "from sklearn import preprocessing\n",
        "from sklearn.preprocessing import minmax_scale\n",
        "import numpy as np\n",
        "min_max_scaler = preprocessing.MinMaxScaler()\n",
        "\n",
        "ece_level = np.array([-0.2, 0.01, 0.1, 0.3])\n",
        "opt_t = 1.20\n",
        "print('ece_level:',ece_level)\n",
        "print('Opt_t:',opt_t)\n",
        "\n",
        "ece_level_norm = minmax_scale(ece_level, feature_range=(0,1))\n",
        "ece_level_norm_exp = np.exp(ece_level_norm)\n",
        "cw_t_v1 = opt_t * ece_level_norm_exp\n",
        "weight = 0.1\n",
        "cw_t_v2 = opt_t + ece_level_norm_exp * weight\n",
        "print('ece_level_norm:',ece_level_norm)\n",
        "print('ece_level_norm_exp:',ece_level_norm_exp)\n",
        "print('cw_t_v1 (multi):',cw_t_v1)\n",
        "print('cw_t_v2 (add/sub):',cw_t_v2)\n"
      ]
    },
    {
      "cell_type": "markdown",
      "source": [
        "#Max normalization"
      ],
      "metadata": {
        "id": "5hevEiLcmsP9"
      }
    },
    {
      "cell_type": "code",
      "source": [
        "ece_level = np.array([-0.2, 0.01, 0.1, 0.3])\n",
        "opt_t = 1.20\n",
        "print('ece_level:',ece_level)\n",
        "print('Opt_t:',opt_t)\n",
        "\n",
        "ece_level_norm = ece_level / ece_level.max()\n",
        "ece_level_norm_exp = np.exp(ece_level_norm)\n",
        "cw_t_v1 = opt_t * ece_level_norm_exp\n",
        "weight = 0.1\n",
        "cw_t_v2 = opt_t + ece_level_norm_exp * weight\n",
        "print('ece_level_norm:',ece_level_norm)\n",
        "print('ece_level_norm_exp:',ece_level_norm_exp)\n",
        "print('cw_t_v1 (multi):',cw_t_v1)\n",
        "print('cw_t_v2 (add/sub):',cw_t_v2)"
      ],
      "metadata": {
        "colab": {
          "base_uri": "https://localhost:8080/"
        },
        "id": "iG1QCOoSjd3q",
        "outputId": "2c6ca525-e586-4d31-b282-430a8c5953a8"
      },
      "execution_count": 22,
      "outputs": [
        {
          "output_type": "stream",
          "name": "stdout",
          "text": [
            "ece_level: [-0.2   0.01  0.1   0.3 ]\n",
            "Opt_t: 1.2\n",
            "ece_level_norm: [-0.66666667  0.03333333  0.33333333  1.        ]\n",
            "ece_level_norm_exp: [0.51341712 1.03389511 1.39561243 2.71828183]\n",
            "cw_t_v1 (multi): [0.61610054 1.24067414 1.67473491 3.26193819]\n",
            "cw_t_v2 (add/sub): [1.25134171 1.30338951 1.33956124 1.47182818]\n"
          ]
        }
      ]
    },
    {
      "cell_type": "markdown",
      "source": [
        "#No normalization"
      ],
      "metadata": {
        "id": "aiH4uQ23mu3o"
      }
    },
    {
      "cell_type": "code",
      "source": [
        "ece_level = np.array([-0.2, 0.01, 0.1, 0.3])\n",
        "opt_t = 1.20\n",
        "print('ece_level:',ece_level)\n",
        "print('Opt_t:',opt_t)\n",
        "\n",
        "ece_level_norm = ece_level\n",
        "ece_level_norm_exp = np.exp(ece_level_norm)\n",
        "cw_t_v1 = opt_t * ece_level_norm_exp\n",
        "weight = 0.1\n",
        "cw_t_v2 = opt_t + ece_level_norm_exp * weight\n",
        "print('ece_level_norm:',ece_level_norm)\n",
        "print('ece_level_norm_exp:',ece_level_norm_exp)\n",
        "print('cw_t_v1 (multi):',cw_t_v1)\n",
        "print('cw_t_v2 (add/sub):',cw_t_v2)"
      ],
      "metadata": {
        "colab": {
          "base_uri": "https://localhost:8080/"
        },
        "id": "V2--fJcskNCZ",
        "outputId": "3762d3ec-cf7e-4468-bf11-f26c5be03df8"
      },
      "execution_count": 23,
      "outputs": [
        {
          "output_type": "stream",
          "name": "stdout",
          "text": [
            "ece_level: [-0.2   0.01  0.1   0.3 ]\n",
            "Opt_t: 1.2\n",
            "ece_level_norm: [-0.2   0.01  0.1   0.3 ]\n",
            "ece_level_norm_exp: [0.81873075 1.01005017 1.10517092 1.34985881]\n",
            "cw_t_v1 (multi): [0.9824769  1.2120602  1.3262051  1.61983057]\n",
            "cw_t_v2 (add/sub): [1.28187308 1.30100502 1.31051709 1.33498588]\n"
          ]
        }
      ]
    },
    {
      "cell_type": "markdown",
      "source": [
        "#No exp & normalization"
      ],
      "metadata": {
        "id": "eZq5ygRcrBCg"
      }
    },
    {
      "cell_type": "code",
      "source": [
        "ece_level = np.array([-0.2, 0.01, 0.1, 0.3])\n",
        "opt_t = 1.20\n",
        "print('ece_level:',ece_level)\n",
        "print('Opt_t:',opt_t)\n",
        "\n",
        "ece_level_norm = ece_level\n",
        "ece_level_norm_exp = ece_level_norm\n",
        "cw_t_v1 = opt_t * ece_level_norm_exp\n",
        "weight = 0.1\n",
        "cw_t_v2 = opt_t + ece_level_norm_exp * weight\n",
        "print('ece_level_norm:',ece_level_norm)\n",
        "print('ece_level_norm_exp:',ece_level_norm_exp)\n",
        "print('cw_t_v1 (multi):',cw_t_v1)\n",
        "print('cw_t_v2 (add/sub):',cw_t_v2)"
      ],
      "metadata": {
        "colab": {
          "base_uri": "https://localhost:8080/"
        },
        "id": "PJqdwBKomdGb",
        "outputId": "1ff04b25-6770-40a0-dbee-c897adc90faa"
      },
      "execution_count": 24,
      "outputs": [
        {
          "output_type": "stream",
          "name": "stdout",
          "text": [
            "ece_level: [-0.2   0.01  0.1   0.3 ]\n",
            "Opt_t: 1.2\n",
            "ece_level_norm: [-0.2   0.01  0.1   0.3 ]\n",
            "ece_level_norm_exp: [-0.2   0.01  0.1   0.3 ]\n",
            "cw_t_v1 (multi): [-0.24   0.012  0.12   0.36 ]\n",
            "cw_t_v2 (add/sub): [1.18  1.201 1.21  1.23 ]\n"
          ]
        }
      ]
    },
    {
      "cell_type": "code",
      "source": [],
      "metadata": {
        "id": "TuMz-7syrEiI"
      },
      "execution_count": null,
      "outputs": []
    }
  ]
}