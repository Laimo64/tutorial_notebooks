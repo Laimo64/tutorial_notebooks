{
  "nbformat": 4,
  "nbformat_minor": 0,
  "metadata": {
    "colab": {
      "provenance": [],
      "include_colab_link": true
    },
    "kernelspec": {
      "name": "python3",
      "display_name": "Python 3"
    },
    "language_info": {
      "name": "python"
    },
    "accelerator": "GPU",
    "gpuClass": "standard"
  },
  "cells": [
    {
      "cell_type": "markdown",
      "metadata": {
        "id": "view-in-github",
        "colab_type": "text"
      },
      "source": [
        "<a href=\"https://colab.research.google.com/github/mobarakol/tutorial_notebooks/blob/main/CIFAR10_AUC_ACC.ipynb\" target=\"_parent\"><img src=\"https://colab.research.google.com/assets/colab-badge.svg\" alt=\"Open In Colab\"/></a>"
      ]
    },
    {
      "cell_type": "code",
      "execution_count": 1,
      "metadata": {
        "colab": {
          "base_uri": "https://localhost:8080/"
        },
        "id": "-2T0EBzvWFB3",
        "outputId": "a213d4bd-97d8-43b8-ea29-6b643237b8a0"
      },
      "outputs": [
        {
          "output_type": "stream",
          "name": "stdout",
          "text": [
            "Cloning into 'Prior-LT'...\n",
            "remote: Enumerating objects: 57, done.\u001b[K\n",
            "remote: Counting objects: 100% (9/9), done.\u001b[K\n",
            "remote: Compressing objects: 100% (9/9), done.\u001b[K\n",
            "remote: Total 57 (delta 2), reused 0 (delta 0), pack-reused 48\u001b[K\n",
            "Unpacking objects: 100% (57/57), 28.96 KiB | 2.07 MiB/s, done.\n",
            "/content/Prior-LT\n"
          ]
        }
      ],
      "source": [
        "!git clone https://github.com/XuZhengzhuo/Prior-LT.git\n",
        "%cd Prior-LT"
      ]
    },
    {
      "cell_type": "code",
      "source": [
        "#src: https://github.com/XuZhengzhuo/Prior-LT\n",
        "import gdown\n",
        "url = 'https://drive.google.com/uc?id=1tclscVkcXj0lJum7Azy8qHecB7Pomc0c'\n",
        "gdown.download(url,'model_best_cifar10_lt50.pth.tar',quiet=False) "
      ],
      "metadata": {
        "colab": {
          "base_uri": "https://localhost:8080/",
          "height": 105
        },
        "id": "rrEvDC1wWbVD",
        "outputId": "7fbbf295-ab2f-45df-ba42-22072a699d7c"
      },
      "execution_count": 2,
      "outputs": [
        {
          "output_type": "stream",
          "name": "stderr",
          "text": [
            "Downloading...\n",
            "From: https://drive.google.com/uc?id=1tclscVkcXj0lJum7Azy8qHecB7Pomc0c\n",
            "To: /content/Prior-LT/model_best_cifar10_lt50.pth.tar\n",
            "100%|██████████| 3.77M/3.77M [00:00<00:00, 223MB/s]\n"
          ]
        },
        {
          "output_type": "execute_result",
          "data": {
            "text/plain": [
              "'model_best_cifar10_lt50.pth.tar'"
            ],
            "application/vnd.google.colaboratory.intrinsic+json": {
              "type": "string"
            }
          },
          "metadata": {},
          "execution_count": 2
        }
      ]
    },
    {
      "cell_type": "code",
      "source": [
        "import torch\n",
        "import torch.nn as nn\n",
        "import torch.optim as optim\n",
        "import torch.nn.functional as F\n",
        "import torchvision\n",
        "from torchvision import models\n",
        "import torchvision.transforms as transforms\n",
        "from torch.optim.lr_scheduler import _LRScheduler\n",
        "import matplotlib.pyplot as plt\n",
        "from PIL import Image\n",
        "import copy \n",
        "import os\n",
        "import argparse\n",
        "import sys\n",
        "import random\n",
        "import numpy as np\n",
        "from torchvision import models\n",
        "from models import resnet32\n",
        "device = 'cuda' if torch.cuda.is_available() else 'cpu'\n",
        "\n",
        "def test(model, testloader):\n",
        "    model.eval()\n",
        "    correct = 0\n",
        "    total = 0\n",
        "    \n",
        "    with torch.no_grad():\n",
        "        for batch_idx, (inputs, targets) in enumerate(testloader):\n",
        "            inputs, targets = inputs.to(device), targets.to(device)\n",
        "            outputs = model(inputs)\n",
        "            _, predicted = outputs.max(1)\n",
        "            total += targets.size(0)\n",
        "            correct += predicted.eq(targets).sum().item()\n",
        "    return correct / total\n",
        "def main(num_classes=100, ckpt=None, test_loader=None):\n",
        "    model = resnet32(num_classes=num_classes)\n",
        "    model.load_state_dict(torch.load(ckpt)['state_dict_model'])\n",
        "    model.to(device)\n",
        "    acc = test(model, test_loader)\n",
        "    return acc\n",
        "\n",
        "mean_cifar, std_cifar = (0.4914, 0.4822, 0.4465), (0.2023, 0.1994, 0.2010)\n",
        "transform_test = transforms.Compose([transforms.ToTensor(),\n",
        "    transforms.Normalize(mean_cifar, std_cifar),])\n",
        "\n",
        "test_dataset10 = torchvision.datasets.CIFAR10(root='data', train=False, download=True, transform=transform_test)\n",
        "test_loader10 = torch.utils.data.DataLoader(test_dataset10, batch_size=2048, shuffle=False, num_workers=2)\n",
        "\n",
        "main(num_classes=10, ckpt='model_best_cifar10_lt50.pth.tar', test_loader=test_loader10)"
      ],
      "metadata": {
        "colab": {
          "base_uri": "https://localhost:8080/"
        },
        "id": "U-hW-eocW2KS",
        "outputId": "5bf6edea-66d2-441a-f853-5a4c56cec3fb"
      },
      "execution_count": 3,
      "outputs": [
        {
          "output_type": "stream",
          "name": "stdout",
          "text": [
            "Downloading https://www.cs.toronto.edu/~kriz/cifar-10-python.tar.gz to data/cifar-10-python.tar.gz\n"
          ]
        },
        {
          "output_type": "stream",
          "name": "stderr",
          "text": [
            "100%|██████████| 170498071/170498071 [00:12<00:00, 13196703.91it/s]\n"
          ]
        },
        {
          "output_type": "stream",
          "name": "stdout",
          "text": [
            "Extracting data/cifar-10-python.tar.gz to data\n"
          ]
        },
        {
          "output_type": "execute_result",
          "data": {
            "text/plain": [
              "0.8493"
            ]
          },
          "metadata": {},
          "execution_count": 3
        }
      ]
    },
    {
      "cell_type": "markdown",
      "source": [
        "#AUC Score for multi-class classification\n",
        "src: https://thomasjpfan.github.io/scikit-learn-website/modules/generated/sklearn.metrics.roc_auc_score.html<br>\n",
        "\n",
        "multi_classstring, ‘ovr’ or ‘ovo’, optional(default=’raise’)\n",
        "Determines the type of multiclass configuration to use. multi_class must be provided when y_true is multiclass.\n",
        "\n",
        "'ovr':\n",
        "Calculate metrics for the multiclass case using the one-vs-rest approach.\n",
        "\n",
        "'ovo':\n",
        "Calculate metrics for the multiclass case using the one-vs-one approach."
      ],
      "metadata": {
        "id": "0MUhebiZYw-h"
      }
    },
    {
      "cell_type": "code",
      "source": [
        "from sklearn.metrics import roc_auc_score\n",
        "import torch.nn.functional as F\n",
        "\n",
        "def test(model, testloader):\n",
        "    model.eval()\n",
        "    correct = 0\n",
        "    total = 0\n",
        "    probability_all = []\n",
        "    targets_all = []\n",
        "    with torch.no_grad():\n",
        "        for batch_idx, (inputs, targets) in enumerate(testloader):\n",
        "            inputs, targets = inputs.to(device), targets.to(device)\n",
        "            logits = model(inputs)\n",
        "            probability = F.softmax(logits, dim=1)\n",
        "            probability_all.extend(probability.cpu().numpy())\n",
        "            targets_all.extend(targets.cpu().numpy())\n",
        "            _, predicted = logits.max(1)\n",
        "            total += targets.size(0)\n",
        "            correct += predicted.eq(targets).sum().item()\n",
        "    return correct / total, np.array(probability_all), np.array(targets_all)\n",
        "\n",
        "model = resnet32(num_classes=10)\n",
        "model.load_state_dict(torch.load('model_best_cifar10_lt50.pth.tar')['state_dict_model'])\n",
        "model.to(device)\n",
        "acc, probability_all, targets_all  = test(model, test_loader10)\n",
        "auc = roc_auc_score( targets_all, probability_all, multi_class='ovo')\n",
        "\n",
        "print('CIFAR10: accuracy:', acc, 'auc:',auc)\n"
      ],
      "metadata": {
        "colab": {
          "base_uri": "https://localhost:8080/"
        },
        "id": "2617rYbpYTT6",
        "outputId": "edc31332-3b81-45a6-e73a-73590bccb524"
      },
      "execution_count": 4,
      "outputs": [
        {
          "output_type": "stream",
          "name": "stdout",
          "text": [
            "CIFAR10: accuracy: 0.8493 auc: 0.9852102444444445\n"
          ]
        }
      ]
    },
    {
      "cell_type": "markdown",
      "source": [
        "Balanced Accuracy (BA) for Balanced Dataset"
      ],
      "metadata": {
        "id": "nA7GfIJqLu0S"
      }
    },
    {
      "cell_type": "code",
      "source": [
        "from sklearn.metrics import balanced_accuracy_score, accuracy_score\n",
        "import torch.nn.functional as F\n",
        "\n",
        "def test(model, testloader):\n",
        "    model.eval()\n",
        "    pred_all = []\n",
        "    targets_all = []\n",
        "    probability_all = []\n",
        "    targets_all = []\n",
        "    with torch.no_grad():\n",
        "        for batch_idx, (inputs, targets) in enumerate(testloader):\n",
        "            inputs, targets = inputs.to(device), targets.to(device)\n",
        "            logits = model(inputs)\n",
        "            probability = F.softmax(logits, dim=1)\n",
        "            probability_all.extend(probability.cpu().numpy())\n",
        "            targets_all.extend(targets.cpu().numpy())\n",
        "            _, predicted = logits.max(1)\n",
        "            pred_all.extend(predicted.cpu().numpy())\n",
        "\n",
        "    return targets_all, pred_all\n",
        "\n",
        "model = resnet32(num_classes=10)\n",
        "model.load_state_dict(torch.load('model_best_cifar10_lt50.pth.tar')['state_dict_model'])\n",
        "model.to(device)\n",
        "targets_all, pred_all  = test(model, test_loader10)\n",
        "acc = accuracy_score(targets_all, pred_all)\n",
        "bal_acc=balanced_accuracy_score(targets_all, pred_all)\n",
        "\n",
        "print('Accuracy:',acc, 'Balanced Accuracy:',bal_acc)\n",
        "\n"
      ],
      "metadata": {
        "id": "Tsh6Qc9sG-gc",
        "outputId": "38ec7f91-8106-427a-b51f-4ae587458344",
        "colab": {
          "base_uri": "https://localhost:8080/"
        }
      },
      "execution_count": 8,
      "outputs": [
        {
          "output_type": "stream",
          "name": "stdout",
          "text": [
            "Accuracy: 0.8493 Balanced Accuracy: 0.8493\n"
          ]
        }
      ]
    },
    {
      "cell_type": "markdown",
      "source": [
        "Balanced Accuracy (BA) for Imbalanced Dataset"
      ],
      "metadata": {
        "id": "2a4ZRWnrOLqi"
      }
    },
    {
      "cell_type": "code",
      "source": [
        "import torch\n",
        "import torchvision\n",
        "import torchvision.transforms as transforms\n",
        "import numpy as np\n",
        "\n",
        "class IMBALANCECIFAR10(torchvision.datasets.CIFAR10):\n",
        "    cls_num = 10\n",
        "\n",
        "    def __init__(self, root, imb_type='exp', imb_factor=0.01, rand_number=0, train=True,\n",
        "                 transform=None, target_transform=None,\n",
        "                 download=False):\n",
        "        super(IMBALANCECIFAR10, self).__init__(root, train, transform, target_transform, download)\n",
        "        np.random.seed(rand_number)\n",
        "        img_num_list = self.get_img_num_per_cls(self.cls_num, imb_type, imb_factor)\n",
        "        self.gen_imbalanced_data(img_num_list)\n",
        "\n",
        "    def get_img_num_per_cls(self, cls_num, imb_type, imb_factor):\n",
        "        img_max = len(self.data) / cls_num\n",
        "        img_num_per_cls = []\n",
        "        if imb_type == 'exp':\n",
        "            for cls_idx in range(cls_num):\n",
        "                num = img_max * (imb_factor**(cls_idx / (cls_num - 1.0)))\n",
        "                img_num_per_cls.append(int(num))\n",
        "        elif imb_type == 'step':\n",
        "            for cls_idx in range(cls_num // 2):\n",
        "                img_num_per_cls.append(int(img_max))\n",
        "            for cls_idx in range(cls_num // 2):\n",
        "                img_num_per_cls.append(int(img_max * imb_factor))\n",
        "        else:\n",
        "            img_num_per_cls.extend([int(img_max)] * cls_num)\n",
        "        return img_num_per_cls\n",
        "\n",
        "    def gen_imbalanced_data(self, img_num_per_cls):\n",
        "        new_data = []\n",
        "        new_targets = []\n",
        "        targets_np = np.array(self.targets, dtype=np.int64)\n",
        "        classes = np.unique(targets_np)\n",
        "        self.num_per_cls_dict = dict()\n",
        "        for the_class, the_img_num in zip(classes, img_num_per_cls):\n",
        "            self.num_per_cls_dict[the_class] = the_img_num\n",
        "            idx = np.where(targets_np == the_class)[0]\n",
        "            np.random.shuffle(idx)\n",
        "            selec_idx = idx[:the_img_num]\n",
        "            new_data.append(self.data[selec_idx, ...])\n",
        "            new_targets.extend([the_class, ] * the_img_num)\n",
        "        new_data = np.vstack(new_data)\n",
        "        self.data = new_data\n",
        "        self.targets = new_targets\n",
        "        \n",
        "    def get_cls_num_list(self):\n",
        "        cls_num_list = []\n",
        "        for i in range(self.cls_num):\n",
        "            cls_num_list.append(self.num_per_cls_dict[i])\n",
        "        return cls_num_list\n",
        "\n",
        "test_dataset10 = IMBALANCECIFAR10(root='data', imb_type='exp', imb_factor=0.1, rand_number=0, train=False, download=True, transform=transform_test)\n",
        "test_loader10_lt = torch.utils.data.DataLoader(test_dataset10, batch_size=2048, shuffle=False, num_workers=2)\n",
        "\n",
        "from sklearn.metrics import balanced_accuracy_score, accuracy_score\n",
        "import torch.nn.functional as F\n",
        "\n",
        "def test(model, testloader):\n",
        "    model.eval()\n",
        "    pred_all = []\n",
        "    targets_all = []\n",
        "    probability_all = []\n",
        "    targets_all = []\n",
        "    with torch.no_grad():\n",
        "        for batch_idx, (inputs, targets) in enumerate(testloader):\n",
        "            inputs, targets = inputs.to(device), targets.to(device)\n",
        "            logits = model(inputs)\n",
        "            probability = F.softmax(logits, dim=1)\n",
        "            probability_all.extend(probability.cpu().numpy())\n",
        "            targets_all.extend(targets.cpu().numpy())\n",
        "            _, predicted = logits.max(1)\n",
        "            pred_all.extend(predicted.cpu().numpy())\n",
        "\n",
        "    return targets_all, pred_all\n",
        "\n",
        "model = resnet32(num_classes=10)\n",
        "model.load_state_dict(torch.load('model_best_cifar10_lt50.pth.tar')['state_dict_model'])\n",
        "model.to(device)\n",
        "targets_all, pred_all  = test(model, test_loader10_lt)\n",
        "acc = accuracy_score(targets_all, pred_all)\n",
        "bal_acc=balanced_accuracy_score(targets_all, pred_all)\n",
        "\n",
        "print('Accuracy:',acc, 'Balanced Accuracy:',bal_acc)"
      ],
      "metadata": {
        "id": "pXt0KxZnM_yr",
        "outputId": "114ba07d-e0b3-4208-af37-ffdb9114893a",
        "colab": {
          "base_uri": "https://localhost:8080/"
        }
      },
      "execution_count": 13,
      "outputs": [
        {
          "output_type": "stream",
          "name": "stdout",
          "text": [
            "Files already downloaded and verified\n",
            "Accuracy: 0.8432908912830558 Balanced Accuracy: 0.8470933049992888\n"
          ]
        }
      ]
    },
    {
      "cell_type": "code",
      "source": [],
      "metadata": {
        "id": "vLLq7eH1O70o"
      },
      "execution_count": null,
      "outputs": []
    }
  ]
}