{
  "nbformat": 4,
  "nbformat_minor": 0,
  "metadata": {
    "colab": {
      "provenance": [],
      "authorship_tag": "ABX9TyMya4lETNPxktr9Z+XSyqud",
      "include_colab_link": true
    },
    "kernelspec": {
      "name": "python3",
      "display_name": "Python 3"
    },
    "language_info": {
      "name": "python"
    },
    "widgets": {
      "application/vnd.jupyter.widget-state+json": {
        "99ff8751beda4fe3abb204d73d8e57e6": {
          "model_module": "@jupyter-widgets/controls",
          "model_name": "VBoxModel",
          "model_module_version": "1.5.0",
          "state": {
            "_dom_classes": [
              "widget-interact"
            ],
            "_model_module": "@jupyter-widgets/controls",
            "_model_module_version": "1.5.0",
            "_model_name": "VBoxModel",
            "_view_count": null,
            "_view_module": "@jupyter-widgets/controls",
            "_view_module_version": "1.5.0",
            "_view_name": "VBoxView",
            "box_style": "",
            "children": [
              "IPY_MODEL_b82c7e84b8f74f9497cea67ba5182b80",
              "IPY_MODEL_92655ce7fafc4dea90b3caedc75e738d"
            ],
            "layout": "IPY_MODEL_ebc8a179303c47d8a6b1cfc689638641"
          }
        },
        "b82c7e84b8f74f9497cea67ba5182b80": {
          "model_module": "@jupyter-widgets/controls",
          "model_name": "IntSliderModel",
          "model_module_version": "1.5.0",
          "state": {
            "_dom_classes": [],
            "_model_module": "@jupyter-widgets/controls",
            "_model_module_version": "1.5.0",
            "_model_name": "IntSliderModel",
            "_view_count": null,
            "_view_module": "@jupyter-widgets/controls",
            "_view_module_version": "1.5.0",
            "_view_name": "IntSliderView",
            "continuous_update": true,
            "description": "layer",
            "description_tooltip": null,
            "disabled": false,
            "layout": "IPY_MODEL_92cf5736a3c1497daa6670da6a344e8f",
            "max": 154,
            "min": 0,
            "orientation": "horizontal",
            "readout": true,
            "readout_format": "d",
            "step": 1,
            "style": "IPY_MODEL_8a86ccda39f8409292fec9f76fc40b65",
            "value": 77
          }
        },
        "92655ce7fafc4dea90b3caedc75e738d": {
          "model_module": "@jupyter-widgets/output",
          "model_name": "OutputModel",
          "model_module_version": "1.0.0",
          "state": {
            "_dom_classes": [],
            "_model_module": "@jupyter-widgets/output",
            "_model_module_version": "1.0.0",
            "_model_name": "OutputModel",
            "_view_count": null,
            "_view_module": "@jupyter-widgets/output",
            "_view_module_version": "1.0.0",
            "_view_name": "OutputView",
            "layout": "IPY_MODEL_35586432544a4f79bb42c2b19ac89df9",
            "msg_id": "",
            "outputs": [
              {
                "output_type": "display_data",
                "data": {
                  "text/plain": "77"
                },
                "metadata": {}
              }
            ]
          }
        },
        "ebc8a179303c47d8a6b1cfc689638641": {
          "model_module": "@jupyter-widgets/base",
          "model_name": "LayoutModel",
          "model_module_version": "1.2.0",
          "state": {
            "_model_module": "@jupyter-widgets/base",
            "_model_module_version": "1.2.0",
            "_model_name": "LayoutModel",
            "_view_count": null,
            "_view_module": "@jupyter-widgets/base",
            "_view_module_version": "1.2.0",
            "_view_name": "LayoutView",
            "align_content": null,
            "align_items": null,
            "align_self": null,
            "border": null,
            "bottom": null,
            "display": null,
            "flex": null,
            "flex_flow": null,
            "grid_area": null,
            "grid_auto_columns": null,
            "grid_auto_flow": null,
            "grid_auto_rows": null,
            "grid_column": null,
            "grid_gap": null,
            "grid_row": null,
            "grid_template_areas": null,
            "grid_template_columns": null,
            "grid_template_rows": null,
            "height": null,
            "justify_content": null,
            "justify_items": null,
            "left": null,
            "margin": null,
            "max_height": null,
            "max_width": null,
            "min_height": null,
            "min_width": null,
            "object_fit": null,
            "object_position": null,
            "order": null,
            "overflow": null,
            "overflow_x": null,
            "overflow_y": null,
            "padding": null,
            "right": null,
            "top": null,
            "visibility": null,
            "width": null
          }
        },
        "92cf5736a3c1497daa6670da6a344e8f": {
          "model_module": "@jupyter-widgets/base",
          "model_name": "LayoutModel",
          "model_module_version": "1.2.0",
          "state": {
            "_model_module": "@jupyter-widgets/base",
            "_model_module_version": "1.2.0",
            "_model_name": "LayoutModel",
            "_view_count": null,
            "_view_module": "@jupyter-widgets/base",
            "_view_module_version": "1.2.0",
            "_view_name": "LayoutView",
            "align_content": null,
            "align_items": null,
            "align_self": null,
            "border": null,
            "bottom": null,
            "display": null,
            "flex": null,
            "flex_flow": null,
            "grid_area": null,
            "grid_auto_columns": null,
            "grid_auto_flow": null,
            "grid_auto_rows": null,
            "grid_column": null,
            "grid_gap": null,
            "grid_row": null,
            "grid_template_areas": null,
            "grid_template_columns": null,
            "grid_template_rows": null,
            "height": null,
            "justify_content": null,
            "justify_items": null,
            "left": null,
            "margin": null,
            "max_height": null,
            "max_width": null,
            "min_height": null,
            "min_width": null,
            "object_fit": null,
            "object_position": null,
            "order": null,
            "overflow": null,
            "overflow_x": null,
            "overflow_y": null,
            "padding": null,
            "right": null,
            "top": null,
            "visibility": null,
            "width": null
          }
        },
        "8a86ccda39f8409292fec9f76fc40b65": {
          "model_module": "@jupyter-widgets/controls",
          "model_name": "SliderStyleModel",
          "model_module_version": "1.5.0",
          "state": {
            "_model_module": "@jupyter-widgets/controls",
            "_model_module_version": "1.5.0",
            "_model_name": "SliderStyleModel",
            "_view_count": null,
            "_view_module": "@jupyter-widgets/base",
            "_view_module_version": "1.2.0",
            "_view_name": "StyleView",
            "description_width": "",
            "handle_color": null
          }
        },
        "35586432544a4f79bb42c2b19ac89df9": {
          "model_module": "@jupyter-widgets/base",
          "model_name": "LayoutModel",
          "model_module_version": "1.2.0",
          "state": {
            "_model_module": "@jupyter-widgets/base",
            "_model_module_version": "1.2.0",
            "_model_name": "LayoutModel",
            "_view_count": null,
            "_view_module": "@jupyter-widgets/base",
            "_view_module_version": "1.2.0",
            "_view_name": "LayoutView",
            "align_content": null,
            "align_items": null,
            "align_self": null,
            "border": null,
            "bottom": null,
            "display": null,
            "flex": null,
            "flex_flow": null,
            "grid_area": null,
            "grid_auto_columns": null,
            "grid_auto_flow": null,
            "grid_auto_rows": null,
            "grid_column": null,
            "grid_gap": null,
            "grid_row": null,
            "grid_template_areas": null,
            "grid_template_columns": null,
            "grid_template_rows": null,
            "height": null,
            "justify_content": null,
            "justify_items": null,
            "left": null,
            "margin": null,
            "max_height": null,
            "max_width": null,
            "min_height": null,
            "min_width": null,
            "object_fit": null,
            "object_position": null,
            "order": null,
            "overflow": null,
            "overflow_x": null,
            "overflow_y": null,
            "padding": null,
            "right": null,
            "top": null,
            "visibility": null,
            "width": null
          }
        },
        "05dfc8d8a0d548ee8f36728c17ef7992": {
          "model_module": "@jupyter-widgets/controls",
          "model_name": "VBoxModel",
          "model_module_version": "1.5.0",
          "state": {
            "_dom_classes": [
              "widget-interact"
            ],
            "_model_module": "@jupyter-widgets/controls",
            "_model_module_version": "1.5.0",
            "_model_name": "VBoxModel",
            "_view_count": null,
            "_view_module": "@jupyter-widgets/controls",
            "_view_module_version": "1.5.0",
            "_view_name": "VBoxView",
            "box_style": "",
            "children": [
              "IPY_MODEL_80c5b6c710be431fb6698a3f12b33033",
              "IPY_MODEL_5272bb2024ea4dde960ffb2a1f114577",
              "IPY_MODEL_e9c2fa71f4af4236b0b6067720f9ee19"
            ],
            "layout": "IPY_MODEL_73bc5ceebfe04d8180596d4b1f1438b2"
          }
        },
        "80c5b6c710be431fb6698a3f12b33033": {
          "model_module": "@jupyter-widgets/controls",
          "model_name": "ToggleButtonsModel",
          "model_module_version": "1.5.0",
          "state": {
            "_dom_classes": [],
            "_model_module": "@jupyter-widgets/controls",
            "_model_module_version": "1.5.0",
            "_model_name": "ToggleButtonsModel",
            "_options_labels": [
              "Normal",
              "Edema",
              "Non-enhancing tumor",
              "Enhancing tumor"
            ],
            "_view_count": null,
            "_view_module": "@jupyter-widgets/controls",
            "_view_module_version": "1.5.0",
            "_view_name": "ToggleButtonsView",
            "button_style": "info",
            "description": "Select Class:",
            "description_tooltip": null,
            "disabled": false,
            "icons": [],
            "index": 0,
            "layout": "IPY_MODEL_20ee1a03a7d3440385d2102d787a84d0",
            "style": "IPY_MODEL_c080a21fb2ff4f1281accba1a5439518",
            "tooltips": []
          }
        },
        "5272bb2024ea4dde960ffb2a1f114577": {
          "model_module": "@jupyter-widgets/controls",
          "model_name": "IntSliderModel",
          "model_module_version": "1.5.0",
          "state": {
            "_dom_classes": [],
            "_model_module": "@jupyter-widgets/controls",
            "_model_module_version": "1.5.0",
            "_model_name": "IntSliderModel",
            "_view_count": null,
            "_view_module": "@jupyter-widgets/controls",
            "_view_module_version": "1.5.0",
            "_view_name": "IntSliderView",
            "continuous_update": true,
            "description": "layer",
            "description_tooltip": null,
            "disabled": false,
            "layout": "IPY_MODEL_fcbcab0d39884591abc6d91193412857",
            "max": 154,
            "min": 0,
            "orientation": "horizontal",
            "readout": true,
            "readout_format": "d",
            "step": 1,
            "style": "IPY_MODEL_8b7c19ef0b594dfd912da26d9a651106",
            "value": 77
          }
        },
        "e9c2fa71f4af4236b0b6067720f9ee19": {
          "model_module": "@jupyter-widgets/output",
          "model_name": "OutputModel",
          "model_module_version": "1.0.0",
          "state": {
            "_dom_classes": [],
            "_model_module": "@jupyter-widgets/output",
            "_model_module_version": "1.0.0",
            "_model_name": "OutputModel",
            "_view_count": null,
            "_view_module": "@jupyter-widgets/output",
            "_view_module_version": "1.0.0",
            "_view_name": "OutputView",
            "layout": "IPY_MODEL_d28a75fb2b954fd08fcd84edf925fa4f",
            "msg_id": "",
            "outputs": [
              {
                "output_type": "stream",
                "name": "stdout",
                "text": [
                  "Plotting 77 Layer Label: Normal\n"
                ]
              }
            ]
          }
        },
        "73bc5ceebfe04d8180596d4b1f1438b2": {
          "model_module": "@jupyter-widgets/base",
          "model_name": "LayoutModel",
          "model_module_version": "1.2.0",
          "state": {
            "_model_module": "@jupyter-widgets/base",
            "_model_module_version": "1.2.0",
            "_model_name": "LayoutModel",
            "_view_count": null,
            "_view_module": "@jupyter-widgets/base",
            "_view_module_version": "1.2.0",
            "_view_name": "LayoutView",
            "align_content": null,
            "align_items": null,
            "align_self": null,
            "border": null,
            "bottom": null,
            "display": null,
            "flex": null,
            "flex_flow": null,
            "grid_area": null,
            "grid_auto_columns": null,
            "grid_auto_flow": null,
            "grid_auto_rows": null,
            "grid_column": null,
            "grid_gap": null,
            "grid_row": null,
            "grid_template_areas": null,
            "grid_template_columns": null,
            "grid_template_rows": null,
            "height": null,
            "justify_content": null,
            "justify_items": null,
            "left": null,
            "margin": null,
            "max_height": null,
            "max_width": null,
            "min_height": null,
            "min_width": null,
            "object_fit": null,
            "object_position": null,
            "order": null,
            "overflow": null,
            "overflow_x": null,
            "overflow_y": null,
            "padding": null,
            "right": null,
            "top": null,
            "visibility": null,
            "width": null
          }
        },
        "20ee1a03a7d3440385d2102d787a84d0": {
          "model_module": "@jupyter-widgets/base",
          "model_name": "LayoutModel",
          "model_module_version": "1.2.0",
          "state": {
            "_model_module": "@jupyter-widgets/base",
            "_model_module_version": "1.2.0",
            "_model_name": "LayoutModel",
            "_view_count": null,
            "_view_module": "@jupyter-widgets/base",
            "_view_module_version": "1.2.0",
            "_view_name": "LayoutView",
            "align_content": null,
            "align_items": null,
            "align_self": null,
            "border": null,
            "bottom": null,
            "display": null,
            "flex": null,
            "flex_flow": null,
            "grid_area": null,
            "grid_auto_columns": null,
            "grid_auto_flow": null,
            "grid_auto_rows": null,
            "grid_column": null,
            "grid_gap": null,
            "grid_row": null,
            "grid_template_areas": null,
            "grid_template_columns": null,
            "grid_template_rows": null,
            "height": null,
            "justify_content": null,
            "justify_items": null,
            "left": null,
            "margin": null,
            "max_height": null,
            "max_width": null,
            "min_height": null,
            "min_width": null,
            "object_fit": null,
            "object_position": null,
            "order": null,
            "overflow": null,
            "overflow_x": null,
            "overflow_y": null,
            "padding": null,
            "right": null,
            "top": null,
            "visibility": null,
            "width": null
          }
        },
        "c080a21fb2ff4f1281accba1a5439518": {
          "model_module": "@jupyter-widgets/controls",
          "model_name": "ToggleButtonsStyleModel",
          "model_module_version": "1.5.0",
          "state": {
            "_model_module": "@jupyter-widgets/controls",
            "_model_module_version": "1.5.0",
            "_model_name": "ToggleButtonsStyleModel",
            "_view_count": null,
            "_view_module": "@jupyter-widgets/base",
            "_view_module_version": "1.2.0",
            "_view_name": "StyleView",
            "button_width": "",
            "description_width": "",
            "font_weight": ""
          }
        },
        "fcbcab0d39884591abc6d91193412857": {
          "model_module": "@jupyter-widgets/base",
          "model_name": "LayoutModel",
          "model_module_version": "1.2.0",
          "state": {
            "_model_module": "@jupyter-widgets/base",
            "_model_module_version": "1.2.0",
            "_model_name": "LayoutModel",
            "_view_count": null,
            "_view_module": "@jupyter-widgets/base",
            "_view_module_version": "1.2.0",
            "_view_name": "LayoutView",
            "align_content": null,
            "align_items": null,
            "align_self": null,
            "border": null,
            "bottom": null,
            "display": null,
            "flex": null,
            "flex_flow": null,
            "grid_area": null,
            "grid_auto_columns": null,
            "grid_auto_flow": null,
            "grid_auto_rows": null,
            "grid_column": null,
            "grid_gap": null,
            "grid_row": null,
            "grid_template_areas": null,
            "grid_template_columns": null,
            "grid_template_rows": null,
            "height": null,
            "justify_content": null,
            "justify_items": null,
            "left": null,
            "margin": null,
            "max_height": null,
            "max_width": null,
            "min_height": null,
            "min_width": null,
            "object_fit": null,
            "object_position": null,
            "order": null,
            "overflow": null,
            "overflow_x": null,
            "overflow_y": null,
            "padding": null,
            "right": null,
            "top": null,
            "visibility": null,
            "width": null
          }
        },
        "8b7c19ef0b594dfd912da26d9a651106": {
          "model_module": "@jupyter-widgets/controls",
          "model_name": "SliderStyleModel",
          "model_module_version": "1.5.0",
          "state": {
            "_model_module": "@jupyter-widgets/controls",
            "_model_module_version": "1.5.0",
            "_model_name": "SliderStyleModel",
            "_view_count": null,
            "_view_module": "@jupyter-widgets/base",
            "_view_module_version": "1.2.0",
            "_view_name": "StyleView",
            "description_width": "",
            "handle_color": null
          }
        },
        "d28a75fb2b954fd08fcd84edf925fa4f": {
          "model_module": "@jupyter-widgets/base",
          "model_name": "LayoutModel",
          "model_module_version": "1.2.0",
          "state": {
            "_model_module": "@jupyter-widgets/base",
            "_model_module_version": "1.2.0",
            "_model_name": "LayoutModel",
            "_view_count": null,
            "_view_module": "@jupyter-widgets/base",
            "_view_module_version": "1.2.0",
            "_view_name": "LayoutView",
            "align_content": null,
            "align_items": null,
            "align_self": null,
            "border": null,
            "bottom": null,
            "display": null,
            "flex": null,
            "flex_flow": null,
            "grid_area": null,
            "grid_auto_columns": null,
            "grid_auto_flow": null,
            "grid_auto_rows": null,
            "grid_column": null,
            "grid_gap": null,
            "grid_row": null,
            "grid_template_areas": null,
            "grid_template_columns": null,
            "grid_template_rows": null,
            "height": null,
            "justify_content": null,
            "justify_items": null,
            "left": null,
            "margin": null,
            "max_height": null,
            "max_width": null,
            "min_height": null,
            "min_width": null,
            "object_fit": null,
            "object_position": null,
            "order": null,
            "overflow": null,
            "overflow_x": null,
            "overflow_y": null,
            "padding": null,
            "right": null,
            "top": null,
            "visibility": null,
            "width": null
          }
        }
      }
    }
  },
  "cells": [
    {
      "cell_type": "markdown",
      "metadata": {
        "id": "view-in-github",
        "colab_type": "text"
      },
      "source": [
        "<a href=\"https://colab.research.google.com/github/mobarakol/tutorial_notebooks/blob/main/mri_io_to_whole_brain_mask.ipynb\" target=\"_parent\"><img src=\"https://colab.research.google.com/assets/colab-badge.svg\" alt=\"Open In Colab\"/></a>"
      ]
    },
    {
      "cell_type": "markdown",
      "source": [
        "Download MRI"
      ],
      "metadata": {
        "id": "HduApNZONx8-"
      }
    },
    {
      "cell_type": "code",
      "execution_count": 3,
      "metadata": {
        "colab": {
          "base_uri": "https://localhost:8080/",
          "height": 35
        },
        "id": "LNYcKrD6Nk9x",
        "outputId": "ef046908-ebe8-4d24-d979-8ced1c689465"
      },
      "outputs": [
        {
          "output_type": "execute_result",
          "data": {
            "text/plain": [
              "'TSH86_Stealth_t1_2.nii.gz'"
            ],
            "application/vnd.google.colaboratory.intrinsic+json": {
              "type": "string"
            }
          },
          "metadata": {},
          "execution_count": 3
        }
      ],
      "source": [
        "import gdown\n",
        "url = 'https://drive.google.com/uc?id=1qsmHsz7bmXaFMZpab6DIWyqa3d44rYds'\n",
        "gdown.download(url,'TSH86_Stealth_t1_2.nii.gz',quiet=True) "
      ]
    },
    {
      "cell_type": "markdown",
      "source": [
        "Installation"
      ],
      "metadata": {
        "id": "SY2lIKuAOr1w"
      }
    },
    {
      "cell_type": "code",
      "source": [
        "!pip -q install nilearn nibabel SimpleITK"
      ],
      "metadata": {
        "colab": {
          "base_uri": "https://localhost:8080/"
        },
        "id": "ZHdGTXOvOtpg",
        "outputId": "e4b7c546-caa3-4fbb-d18c-c8f381c8a739"
      },
      "execution_count": 8,
      "outputs": [
        {
          "output_type": "stream",
          "name": "stdout",
          "text": [
            "\u001b[2K     \u001b[90m━━━━━━━━━━━━━━━━━━━━━━━━━━━━━━━━━━━━━━━━\u001b[0m \u001b[32m52.7/52.7 MB\u001b[0m \u001b[31m10.3 MB/s\u001b[0m eta \u001b[36m0:00:00\u001b[0m\n",
            "\u001b[?25h"
          ]
        }
      ]
    },
    {
      "cell_type": "markdown",
      "source": [
        "Using Nibable and Nilearn"
      ],
      "metadata": {
        "id": "x_mb6VzXVXX2"
      }
    },
    {
      "cell_type": "code",
      "source": [
        "from nilearn.masking import compute_epi_mask\n",
        "import nibabel as nib\n",
        "\n",
        "path = 'TSH86_Stealth_t1_2.nii.gz'\n",
        "mask_img = compute_epi_mask(path)\n",
        "nib.save(mask_img,'TSH86_Stealth_t1_2_whole_brain_mask.nii.gz')\n",
        "mask_img.shape"
      ],
      "metadata": {
        "colab": {
          "base_uri": "https://localhost:8080/"
        },
        "id": "xO_EIgUBN3E-",
        "outputId": "4d1fe09f-f492-492b-9250-db6e836f6dbd"
      },
      "execution_count": 11,
      "outputs": [
        {
          "output_type": "execute_result",
          "data": {
            "text/plain": [
              "(512, 512, 144)"
            ]
          },
          "metadata": {},
          "execution_count": 11
        }
      ]
    },
    {
      "cell_type": "markdown",
      "source": [
        "Using nibabel only"
      ],
      "metadata": {
        "id": "ipLzSlrOakld"
      }
    },
    {
      "cell_type": "code",
      "source": [
        "import nibabel as nib\n",
        "import numpy as np\n",
        "img = nib.load(path)\n",
        "img_array = img.get_fdata()\n",
        "mri_mask = (img_array>0).astype(int)\n",
        "img_nifti = nib.Nifti1Image(mri_mask, img.affine, header=img.header)\n",
        "nib.save(img_nifti,'mask_nibabel.nii.gz') #not as expected"
      ],
      "metadata": {
        "id": "4rPKmy9han28"
      },
      "execution_count": 13,
      "outputs": []
    },
    {
      "cell_type": "markdown",
      "source": [
        "Using SimpleITK<br>\n",
        "Resampling: https://github.com/mobarakol/lidc-preproc/blob/master/preproc.py\n"
      ],
      "metadata": {
        "id": "vgyOwdfehBDS"
      }
    },
    {
      "cell_type": "code",
      "source": [
        "import SimpleITK as sitk\n",
        "img = sitk.ReadImage(path)\n",
        "img_array = sitk.GetArrayFromImage(img)\n",
        "img_mask = sitk.GetImageFromArray(img_array)\n",
        "img_mask.SetSpacing(img.GetSpacing())\n",
        "img_mask.SetDirection(img.GetDirection())\n",
        "img_mask.SetOrigin(img.GetOrigin())\n",
        "writer = sitk.ImageFileWriter()\n",
        "writer.SetFileName('mask_sitk.nii.gz')\n",
        "writer.Execute(img_mask)\n",
        "img_array.shape"
      ],
      "metadata": {
        "colab": {
          "base_uri": "https://localhost:8080/"
        },
        "id": "pcAms6L7hF7k",
        "outputId": "622555e7-43d2-43d1-93f7-b176bca7232b"
      },
      "execution_count": 24,
      "outputs": [
        {
          "output_type": "execute_result",
          "data": {
            "text/plain": [
              "(144, 512, 512)"
            ]
          },
          "metadata": {},
          "execution_count": 24
        }
      ]
    },
    {
      "cell_type": "markdown",
      "source": [
        "Using Skimage"
      ],
      "metadata": {
        "id": "sfQNcxm0i1jI"
      }
    },
    {
      "cell_type": "code",
      "source": [
        "from skimage import io\n",
        "img_array = io.imread(path, plugin='simpleitk').astype(float)\n",
        "img_array.shape"
      ],
      "metadata": {
        "colab": {
          "base_uri": "https://localhost:8080/"
        },
        "id": "ZNAdr9ULPP_y",
        "outputId": "a66bab20-ffaf-4c1e-b82b-db1bfeaee7ca"
      },
      "execution_count": 10,
      "outputs": [
        {
          "output_type": "execute_result",
          "data": {
            "text/plain": [
              "(144, 512, 512)"
            ]
          },
          "metadata": {},
          "execution_count": 10
        }
      ]
    },
    {
      "cell_type": "markdown",
      "source": [
        "Public MRI dataset<br>\n",
        "Python Lib:"
      ],
      "metadata": {
        "id": "ZQQ5fQ6Uj2Ew"
      }
    },
    {
      "cell_type": "code",
      "source": [
        "from nilearn import datasets\n",
        "\n",
        "# By default 2nd subject will be fetched\n",
        "haxby_dataset = datasets.fetch_haxby()\n",
        "func_filename = haxby_dataset.func[0]"
      ],
      "metadata": {
        "colab": {
          "base_uri": "https://localhost:8080/"
        },
        "id": "PylwTpZ5VpR_",
        "outputId": "b25c2519-e555-477a-922d-90416e81418e"
      },
      "execution_count": 25,
      "outputs": [
        {
          "output_type": "stream",
          "name": "stdout",
          "text": [
            "\n",
            "Dataset created in /root/nilearn_data/haxby2001\n",
            "\n",
            "Downloading data from https://www.nitrc.org/frs/download.php/7868/mask.nii.gz ...\n",
            "Downloading data from http://data.pymvpa.org/datasets/haxby2001/MD5SUMS ...\n",
            "Downloading data from http://data.pymvpa.org/datasets/haxby2001/subj2-2010.01.14.tar.gz ...\n"
          ]
        },
        {
          "output_type": "stream",
          "name": "stderr",
          "text": [
            " ...done. (0 seconds, 0 min)\n",
            " ...done. (0 seconds, 0 min)\n",
            "Downloaded 241336320 of 291168628 bytes (82.9%,    0.4s remaining) ...done. (2 seconds, 0 min)\n",
            "Extracting data from /root/nilearn_data/haxby2001/def37a305edfda829916fa14c9ea08f8/subj2-2010.01.14.tar.gz..... done.\n"
          ]
        }
      ]
    },
    {
      "cell_type": "markdown",
      "source": [
        "Public Repo"
      ],
      "metadata": {
        "id": "VPLG8ICvkI1A"
      }
    },
    {
      "cell_type": "code",
      "source": [
        "!git clone https://github.com/hardik0/AI-for-Medicine-Specialization\n",
        "%cd AI-for-Medicine-Specialization/AI-for-Medical-Diagnosis/"
      ],
      "metadata": {
        "colab": {
          "base_uri": "https://localhost:8080/"
        },
        "id": "hIbKKDQtj8lE",
        "outputId": "427069c5-8058-4990-b4f9-43d723e4b099"
      },
      "execution_count": 26,
      "outputs": [
        {
          "output_type": "stream",
          "name": "stdout",
          "text": [
            "Cloning into 'AI-for-Medicine-Specialization'...\n",
            "remote: Enumerating objects: 1601, done.\u001b[K\n",
            "remote: Counting objects: 100% (28/28), done.\u001b[K\n",
            "remote: Compressing objects: 100% (28/28), done.\u001b[K\n",
            "remote: Total 1601 (delta 9), reused 2 (delta 0), pack-reused 1573\u001b[K\n",
            "Receiving objects: 100% (1601/1601), 720.36 MiB | 31.13 MiB/s, done.\n",
            "Resolving deltas: 100% (30/30), done.\n",
            "Updating files: 100% (1497/1497), done.\n",
            "/content/AI-for-Medicine-Specialization/AI-for-Medical-Diagnosis\n"
          ]
        }
      ]
    },
    {
      "cell_type": "code",
      "source": [
        "!pip -q install ipywidgets"
      ],
      "metadata": {
        "colab": {
          "base_uri": "https://localhost:8080/"
        },
        "id": "_f2Dq_GKo76c",
        "outputId": "e95816e9-d4b0-4331-896c-74daf0faaeb0"
      },
      "execution_count": 27,
      "outputs": [
        {
          "output_type": "stream",
          "name": "stdout",
          "text": [
            "\u001b[?25l     \u001b[90m━━━━━━━━━━━━━━━━━━━━━━━━━━━━━━━━━━━━━━━━\u001b[0m \u001b[32m0.0/1.6 MB\u001b[0m \u001b[31m?\u001b[0m eta \u001b[36m-:--:--\u001b[0m\r\u001b[2K     \u001b[91m━━━━━━━━━━━━━━━━━━━━━━━━━━━━━━━━━━━━━━━\u001b[0m\u001b[91m╸\u001b[0m \u001b[32m1.6/1.6 MB\u001b[0m \u001b[31m113.8 MB/s\u001b[0m eta \u001b[36m0:00:01\u001b[0m\r\u001b[2K     \u001b[90m━━━━━━━━━━━━━━━━━━━━━━━━━━━━━━━━━━━━━━━━\u001b[0m \u001b[32m1.6/1.6 MB\u001b[0m \u001b[31m42.8 MB/s\u001b[0m eta \u001b[36m0:00:00\u001b[0m\n",
            "\u001b[?25h"
          ]
        }
      ]
    },
    {
      "cell_type": "code",
      "source": [
        "image_data.shape[2] - 1"
      ],
      "metadata": {
        "colab": {
          "base_uri": "https://localhost:8080/"
        },
        "id": "4xJo7q2WqN_4",
        "outputId": "8bb5501b-86a0-4c98-c3ef-ffc2a1961640"
      },
      "execution_count": 35,
      "outputs": [
        {
          "output_type": "execute_result",
          "data": {
            "text/plain": [
              "154"
            ]
          },
          "metadata": {},
          "execution_count": 35
        }
      ]
    },
    {
      "cell_type": "code",
      "source": [
        "import numpy as np\n",
        "import nibabel as nib\n",
        "\n",
        "from ipywidgets import interact, interactive, IntSlider, ToggleButtons\n",
        "import matplotlib.pyplot as plt\n",
        "\n",
        "# Define the image path and load the data\n",
        "image_path = \"BraTS-Data/imagesTr/BRATS_001.nii.gz\"\n",
        "image_obj = nib.load(image_path)\n",
        "image_data = image_obj.get_fdata()\n",
        "print(f'Type of the image {type(image_obj)}')\n",
        "\n",
        "# Define a function to visualize the data\n",
        "def explore_3dimage(layer):\n",
        "    plt.figure(figsize=(10, 5))\n",
        "    channel = 2\n",
        "    plt.imshow(image_data[:, :, layer, channel], cmap='gray');\n",
        "    plt.title('Explore Layers of Brain MRI', fontsize=20)\n",
        "    plt.axis('off')\n",
        "    return layer\n",
        "\n",
        "# Run the ipywidgets interact() function to explore the data\n",
        "interact(explore_3dimage, layer=(0, image_data.shape[2] - 1));"
      ],
      "metadata": {
        "colab": {
          "base_uri": "https://localhost:8080/",
          "height": 519,
          "referenced_widgets": [
            "99ff8751beda4fe3abb204d73d8e57e6",
            "b82c7e84b8f74f9497cea67ba5182b80",
            "92655ce7fafc4dea90b3caedc75e738d",
            "ebc8a179303c47d8a6b1cfc689638641",
            "92cf5736a3c1497daa6670da6a344e8f",
            "8a86ccda39f8409292fec9f76fc40b65",
            "35586432544a4f79bb42c2b19ac89df9"
          ]
        },
        "id": "bTGcflp0kOW_",
        "outputId": "7d6fb47d-56e4-4553-e55d-a688bcbd5b67"
      },
      "execution_count": 40,
      "outputs": [
        {
          "output_type": "stream",
          "name": "stdout",
          "text": [
            "Type of the image <class 'nibabel.nifti1.Nifti1Image'>\n"
          ]
        },
        {
          "output_type": "display_data",
          "data": {
            "text/plain": [
              "interactive(children=(IntSlider(value=77, description='layer', max=154), Output()), _dom_classes=('widget-inte…"
            ],
            "application/vnd.jupyter.widget-view+json": {
              "version_major": 2,
              "version_minor": 0,
              "model_id": "99ff8751beda4fe3abb204d73d8e57e6"
            }
          },
          "metadata": {}
        },
        {
          "output_type": "display_data",
          "data": {
            "text/plain": [
              "<Figure size 1000x500 with 1 Axes>"
            ],
            "image/png": "[encoded data removed]"
          },
          "metadata": {}
        }
      ]
    },
    {
      "cell_type": "code",
      "source": [
        "# Define the data path and load the data\n",
        "label_path = \"./BraTS-Data/labelsTr/BRATS_001.nii.gz\"\n",
        "label_obj = nib.load(label_path)\n",
        "label_array = label_obj.get_fdata()\n",
        "# Create button values\n",
        "select_class = ToggleButtons(\n",
        "    options=['Normal','Edema', 'Non-enhancing tumor', 'Enhancing tumor'],\n",
        "    description='Select Class:',\n",
        "    disabled=False,\n",
        "    button_style='info', \n",
        "    \n",
        ")\n",
        "\n",
        "classes_dict = {\n",
        "    'Normal': 0.,\n",
        "    'Edema': 1.,\n",
        "    'Non-enhancing tumor': 2.,\n",
        "    'Enhancing tumor': 3. \n",
        "}\n",
        "# layer = 55\n",
        "# Create layer slider\n",
        "# select_layer = IntSlider(min=0, max=154, description='Select Layer', continuous_update=False)\n",
        "\n",
        "    \n",
        "# Define a function for plotting images\n",
        "def plot_image(seg_class, layer):\n",
        "    print(f\"Plotting {layer} Layer Label: {seg_class}\")\n",
        "    img_label = classes_dict[seg_class]\n",
        "    mask = np.where(label_array[:,:,layer] == img_label, 255, 0)\n",
        "    plt.figure(figsize=(10,5))\n",
        "    plt.imshow(mask, cmap='gray')\n",
        "    plt.axis('off');\n",
        "\n",
        "# Use the interactive() tool to create the visualization\n",
        "interactive(plot_image, seg_class=select_class, layer=(0, image_data.shape[2] - 1))"
      ],
      "metadata": {
        "colab": {
          "base_uri": "https://localhost:8080/",
          "height": 504,
          "referenced_widgets": [
            "05dfc8d8a0d548ee8f36728c17ef7992",
            "80c5b6c710be431fb6698a3f12b33033",
            "5272bb2024ea4dde960ffb2a1f114577",
            "e9c2fa71f4af4236b0b6067720f9ee19",
            "73bc5ceebfe04d8180596d4b1f1438b2",
            "20ee1a03a7d3440385d2102d787a84d0",
            "c080a21fb2ff4f1281accba1a5439518",
            "fcbcab0d39884591abc6d91193412857",
            "8b7c19ef0b594dfd912da26d9a651106",
            "d28a75fb2b954fd08fcd84edf925fa4f"
          ]
        },
        "id": "C8pa4GqOo_OY",
        "outputId": "decd0b53-9a0e-4348-d840-1a2ab1ba9a0d"
      },
      "execution_count": 45,
      "outputs": [
        {
          "output_type": "display_data",
          "data": {
            "text/plain": [
              "interactive(children=(ToggleButtons(button_style='info', description='Select Class:', options=('Normal', 'Edem…"
            ],
            "application/vnd.jupyter.widget-view+json": {
              "version_major": 2,
              "version_minor": 0,
              "model_id": "05dfc8d8a0d548ee8f36728c17ef7992"
            }
          },
          "metadata": {}
        },
        {
          "output_type": "display_data",
          "data": {
            "text/plain": [
              "<Figure size 1000x500 with 1 Axes>"
            ],
            "image/png": "[encoded data removed]"
          },
          "metadata": {}
        }
      ]
    },
    {
      "cell_type": "code",
      "source": [],
      "metadata": {
        "id": "ZxqdQO5Dpt8f"
      },
      "execution_count": null,
      "outputs": []
    }
  ]
}