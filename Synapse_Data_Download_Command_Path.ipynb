{
  "nbformat": 4,
  "nbformat_minor": 0,
  "metadata": {
    "colab": {
      "provenance": [],
      "include_colab_link": true
    },
    "kernelspec": {
      "name": "python3",
      "display_name": "Python 3"
    },
    "language_info": {
      "name": "python"
    }
  },
  "cells": [
    {
      "cell_type": "markdown",
      "metadata": {
        "id": "view-in-github",
        "colab_type": "text"
      },
      "source": [
        "<a href=\"https://colab.research.google.com/github/mobarakol/tutorial_notebooks/blob/main/Synapse_Data_Download_Command_Path.ipynb\" target=\"_parent\"><img src=\"https://colab.research.google.com/assets/colab-badge.svg\" alt=\"Open In Colab\"/></a>"
      ]
    },
    {
      "cell_type": "code",
      "source": [
        "!pip install -q synapseclient"
      ],
      "metadata": {
        "id": "VBtKxMzv393M",
        "outputId": "01587fd7-680b-41b4-9f2f-0dd3725b3e93",
        "colab": {
          "base_uri": "https://localhost:8080/"
        }
      },
      "execution_count": 1,
      "outputs": [
        {
          "output_type": "stream",
          "name": "stdout",
          "text": [
            "\u001b[2K     \u001b[90m━━━━━━━━━━━━━━━━━━━━━━━━━━━━━━━━━━━━━━━━\u001b[0m \u001b[32m225.8/225.8 kB\u001b[0m \u001b[31m2.9 MB/s\u001b[0m eta \u001b[36m0:00:00\u001b[0m\n",
            "\u001b[2K     \u001b[90m━━━━━━━━━━━━━━━━━━━━━━━━━━━━━━━━━━━━━━━━\u001b[0m \u001b[32m143.8/143.8 kB\u001b[0m \u001b[31m9.5 MB/s\u001b[0m eta \u001b[36m0:00:00\u001b[0m\n",
            "\u001b[2K     \u001b[90m━━━━━━━━━━━━━━━━━━━━━━━━━━━━━━━━━━━━━━━━\u001b[0m \u001b[32m57.9/57.9 kB\u001b[0m \u001b[31m3.3 MB/s\u001b[0m eta \u001b[36m0:00:00\u001b[0m\n",
            "\u001b[2K     \u001b[90m━━━━━━━━━━━━━━━━━━━━━━━━━━━━━━━━━━━━━━━━\u001b[0m \u001b[32m105.3/105.3 kB\u001b[0m \u001b[31m7.4 MB/s\u001b[0m eta \u001b[36m0:00:00\u001b[0m\n",
            "\u001b[2K     \u001b[90m━━━━━━━━━━━━━━━━━━━━━━━━━━━━━━━━━━━━━━━━\u001b[0m \u001b[32m50.8/50.8 kB\u001b[0m \u001b[31m2.2 MB/s\u001b[0m eta \u001b[36m0:00:00\u001b[0m\n",
            "\u001b[?25h"
          ]
        }
      ]
    },
    {
      "cell_type": "markdown",
      "source": [
        "Downloading in default path:"
      ],
      "metadata": {
        "id": "II-Q36yK136o"
      }
    },
    {
      "cell_type": "code",
      "source": [
        "import synapseclient\n",
        "import synapseutils\n",
        "import os\n",
        "syn = synapseclient.Synapse()\n",
        "syn.login('mobarakolislam','mypass',rememberMe=True)\n",
        "files = synapseutils.syncFromSynapse(syn, 'syn52115804')\n",
        "for idx in range(len(files)):\n",
        "    print(os.path.join(files[idx]['cacheDir'], files[idx]['files'][0]))"
      ],
      "metadata": {
        "id": "Sm1hk6knwwIJ",
        "outputId": "71f61481-a126-49f2-f83c-076bb5eeb76f",
        "colab": {
          "base_uri": "https://localhost:8080/"
        }
      },
      "execution_count": 16,
      "outputs": [
        {
          "output_type": "stream",
          "name": "stderr",
          "text": [
            "[WARNING] Logging into Synapse via passwords will be deprecated by early 2024. This message will disappear if you use a Synapse Personal Access Token to login.\n",
            "WARNING:synapseclient_default:Logging into Synapse via passwords will be deprecated by early 2024. This message will disappear if you use a Synapse Personal Access Token to login.\n",
            "[WARNING] The rememberMe parameter will be deprecated by early 2024. Please use the ~/.synapseConfig or SYNAPSE_AUTH_TOKEN environmental variable to set up your Synapse connection.\n",
            "WARNING:synapseclient_default:The rememberMe parameter will be deprecated by early 2024. Please use the ~/.synapseConfig or SYNAPSE_AUTH_TOKEN environmental variable to set up your Synapse connection.\n"
          ]
        },
        {
          "output_type": "stream",
          "name": "stdout",
          "text": [
            "Welcome, Mobarakol Islam!\n",
            "\n"
          ]
        },
        {
          "output_type": "stream",
          "name": "stderr",
          "text": [
            "INFO:synapseclient_default:Welcome, Mobarakol Islam!\n",
            "\n"
          ]
        },
        {
          "output_type": "stream",
          "name": "stdout",
          "text": [
            "/root/.synapseCache/555/127976555/annotations_08.csv\n",
            "/root/.synapseCache/557/127976557/annotations_09.csv\n",
            "/root/.synapseCache/559/127976559/annotations_10.csv\n",
            "/root/.synapseCache/561/127976561/annotations_11.csv\n",
            "/root/.synapseCache/563/127976563/annotations_12.csv\n",
            "/root/.synapseCache/565/127976565/annotations_13.csv\n",
            "/root/.synapseCache/567/127976567/annotations_14.csv\n",
            "/root/.synapseCache/569/127976569/annotations_15.csv\n",
            "/root/.synapseCache/571/127976571/annotations_16.csv\n",
            "/root/.synapseCache/573/127976573/annotations_17.csv\n",
            "/root/.synapseCache/575/127976575/annotations_18.csv\n",
            "/root/.synapseCache/578/127976578/annotations_19.csv\n",
            "/root/.synapseCache/581/127976581/annotations_20.csv\n",
            "/root/.synapseCache/583/127976583/annotations_21.csv\n",
            "/root/.synapseCache/585/127976585/annotations_22.csv\n",
            "/root/.synapseCache/587/127976587/annotations_23.csv\n",
            "/root/.synapseCache/589/127976589/annotations_24.csv\n",
            "/root/.synapseCache/591/127976591/annotations_25.csv\n",
            "/root/.synapseCache/593/127976593/annotations_01.csv\n",
            "/root/.synapseCache/595/127976595/annotations_02.csv\n",
            "/root/.synapseCache/597/127976597/annotations_03.csv\n",
            "/root/.synapseCache/599/127976599/annotations_04.csv\n",
            "/root/.synapseCache/601/127976601/annotations_05.csv\n",
            "/root/.synapseCache/603/127976603/annotations_06.csv\n",
            "/root/.synapseCache/605/127976605/annotations_07.csv\n"
          ]
        }
      ]
    },
    {
      "cell_type": "markdown",
      "source": [
        "Downloading in specific path:"
      ],
      "metadata": {
        "id": "kX4TvjD61_jU"
      }
    },
    {
      "cell_type": "code",
      "execution_count": 3,
      "metadata": {
        "colab": {
          "base_uri": "https://localhost:8080/"
        },
        "id": "0ACHFiKp3tmU",
        "outputId": "b757816f-27b3-46bd-db37-693fa6d5522f"
      },
      "outputs": [
        {
          "output_type": "stream",
          "name": "stderr",
          "text": [
            "[WARNING] Logging into Synapse via passwords will be deprecated by early 2024. This message will disappear if you use a Synapse Personal Access Token to login.\n",
            "WARNING:synapseclient_default:Logging into Synapse via passwords will be deprecated by early 2024. This message will disappear if you use a Synapse Personal Access Token to login.\n",
            "[WARNING] The rememberMe parameter will be deprecated by early 2024. Please use the ~/.synapseConfig or SYNAPSE_AUTH_TOKEN environmental variable to set up your Synapse connection.\n",
            "WARNING:synapseclient_default:The rememberMe parameter will be deprecated by early 2024. Please use the ~/.synapseConfig or SYNAPSE_AUTH_TOKEN environmental variable to set up your Synapse connection.\n"
          ]
        },
        {
          "output_type": "stream",
          "name": "stdout",
          "text": [
            "Welcome, Mobarakol Islam!\n",
            "\n"
          ]
        },
        {
          "output_type": "stream",
          "name": "stderr",
          "text": [
            "INFO:synapseclient_default:Welcome, Mobarakol Islam!\n",
            "\n"
          ]
        }
      ],
      "source": [
        "import synapseclient\n",
        "import synapseutils\n",
        "!mkdir dataset\n",
        "syn = synapseclient.Synapse()\n",
        "syn.login('mobarakolislam','mypass',rememberMe=True)\n",
        "files = synapseutils.syncFromSynapse(syn, 'syn52115804', path='/raid/compass/mobarak/datasets') #syn51232283\n"
      ]
    },
    {
      "cell_type": "markdown",
      "source": [
        "Command line:"
      ],
      "metadata": {
        "id": "6JDMQbP2uFIC"
      }
    },
    {
      "cell_type": "code",
      "source": [
        "!synapse get -r syn52115804\n",
        "or\n",
        "!synapse get syn00123 --downloadLocation /path/to/folder\n",
        "#Synapse username (leave blank if using an auth token): mobarakolislam\n",
        "#Password, api key, or auth token for user mobarakolislam:"
      ],
      "metadata": {
        "id": "hUPTrOtd4KPk"
      },
      "execution_count": null,
      "outputs": []
    }
  ]
}