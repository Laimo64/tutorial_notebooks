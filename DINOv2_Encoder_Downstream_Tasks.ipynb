{
  "nbformat": 4,
  "nbformat_minor": 0,
  "metadata": {
    "colab": {
      "provenance": [],
      "authorship_tag": "ABX9TyPrQTTN7gS+VIbYWICocvyO",
      "include_colab_link": true
    },
    "kernelspec": {
      "name": "python3",
      "display_name": "Python 3"
    },
    "language_info": {
      "name": "python"
    }
  },
  "cells": [
    {
      "cell_type": "markdown",
      "metadata": {
        "id": "view-in-github",
        "colab_type": "text"
      },
      "source": [
        "<a href=\"https://colab.research.google.com/github/mobarakol/tutorial_notebooks/blob/main/DINOv2_Encoder_Downstream_Tasks.ipynb\" target=\"_parent\"><img src=\"https://colab.research.google.com/assets/colab-badge.svg\" alt=\"Open In Colab\"/></a>"
      ]
    },
    {
      "cell_type": "markdown",
      "source": [
        "DINOv2 for Classification:"
      ],
      "metadata": {
        "id": "PowenDfGMrl2"
      }
    },
    {
      "cell_type": "code",
      "source": [
        "from transformers import AutoImageProcessor, Dinov2Model\n",
        "import torch\n",
        "import torch.nn as nn\n",
        "from PIL import Image\n",
        "import requests\n",
        "\n",
        "class DINO_Classification(nn.Module):\n",
        "    def __init__(self, number_classes=1000):\n",
        "        super(DINO_Classification, self).__init__()\n",
        "        self.dinov2 = Dinov2Model.from_pretrained(\"facebook/dinov2-base\")\n",
        "        self.classifier = nn.Linear(self.dinov2.config.hidden_size * 2, number_classes)\n",
        "\n",
        "    def forward(self, input):\n",
        "        outputs = self.dinov2(input)\n",
        "        sequence_output = outputs[0]  # batch_size, sequence_length, hidden_size\n",
        "        cls_token = sequence_output[:, 0]\n",
        "        patch_tokens = sequence_output[:, 1:]\n",
        "        linear_input = torch.cat([cls_token, patch_tokens.mean(dim=1)], dim=1)\n",
        "        logits = self.classifier(linear_input)\n",
        "\n",
        "        return logits\n",
        "\n",
        "url = 'http://images.cocodataset.org/val2017/000000039769.jpg'\n",
        "image = Image.open(requests.get(url, stream=True).raw)\n",
        "\n",
        "image_processor = AutoImageProcessor.from_pretrained(\"facebook/dinov2-base\")\n",
        "model = DINO_Classification(number_classes=20)\n",
        "\n",
        "inputs = image_processor(image, return_tensors=\"pt\")\n",
        "\n",
        "with torch.no_grad():\n",
        "    logits = model(inputs['pixel_values'])\n",
        "\n",
        "print('logits:', logits.shape)"
      ],
      "metadata": {
        "colab": {
          "base_uri": "https://localhost:8080/"
        },
        "id": "oHY588aHHhUR",
        "outputId": "ea09c8a7-e546-4101-fa18-0beb4383a266"
      },
      "execution_count": 16,
      "outputs": [
        {
          "output_type": "stream",
          "name": "stdout",
          "text": [
            "logits: torch.Size([1, 20])\n"
          ]
        }
      ]
    },
    {
      "cell_type": "markdown",
      "source": [
        "DINOv2 for Regression:"
      ],
      "metadata": {
        "id": "Ks88nvZGMmlU"
      }
    },
    {
      "cell_type": "code",
      "source": [
        "from transformers import AutoImageProcessor, Dinov2Model\n",
        "import torch\n",
        "import torch.nn as nn\n",
        "from PIL import Image\n",
        "import requests\n",
        "\n",
        "class DINO_Regression(nn.Module):\n",
        "    def __init__(self, ):\n",
        "        super(DINO_Regression, self).__init__()\n",
        "        self.dinov2 = Dinov2Model.from_pretrained(\"facebook/dinov2-base\")\n",
        "        self.regressor = nn.Sequential(\n",
        "            nn.Linear(self.dinov2.config.hidden_size * 2, 1),\n",
        "            nn.Sigmoid()\n",
        "        )\n",
        "\n",
        "    def forward(self, input):\n",
        "        outputs = self.dinov2(input)\n",
        "        sequence_output = outputs[0]  # batch_size, sequence_length, hidden_size\n",
        "        cls_token = sequence_output[:, 0]\n",
        "        patch_tokens = sequence_output[:, 1:]\n",
        "        linear_input = torch.cat([cls_token, patch_tokens.mean(dim=1)], dim=1)\n",
        "        logits = self.regressor(linear_input)\n",
        "\n",
        "        return logits\n",
        "\n",
        "url = 'http://images.cocodataset.org/val2017/000000039769.jpg'\n",
        "image = Image.open(requests.get(url, stream=True).raw)\n",
        "\n",
        "image_processor = AutoImageProcessor.from_pretrained(\"facebook/dinov2-base\")\n",
        "model = DINO_Regression()\n",
        "\n",
        "inputs = image_processor(image, return_tensors=\"pt\")\n",
        "\n",
        "with torch.no_grad():\n",
        "    logits = model(inputs['pixel_values'])\n",
        "\n",
        "print('logits:', logits)"
      ],
      "metadata": {
        "colab": {
          "base_uri": "https://localhost:8080/"
        },
        "id": "HlAiGUikHp4g",
        "outputId": "7765a235-303b-4653-b9cb-221ad3169f00"
      },
      "execution_count": 20,
      "outputs": [
        {
          "output_type": "stream",
          "name": "stdout",
          "text": [
            "logits: tensor([[0.7806]])\n"
          ]
        }
      ]
    },
    {
      "cell_type": "code",
      "source": [],
      "metadata": {
        "id": "XrAosXhvIdrE"
      },
      "execution_count": null,
      "outputs": []
    }
  ]
}