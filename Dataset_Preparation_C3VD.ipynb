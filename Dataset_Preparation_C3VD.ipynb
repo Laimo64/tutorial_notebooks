{
  "nbformat": 4,
  "nbformat_minor": 0,
  "metadata": {
    "colab": {
      "provenance": [],
      "include_colab_link": true
    },
    "kernelspec": {
      "name": "python3",
      "display_name": "Python 3"
    },
    "language_info": {
      "name": "python"
    }
  },
  "cells": [
    {
      "cell_type": "markdown",
      "metadata": {
        "id": "view-in-github",
        "colab_type": "text"
      },
      "source": [
        "<a href=\"https://colab.research.google.com/github/mobarakol/tutorial_notebooks/blob/main/Dataset_Preparation_C3VD.ipynb\" target=\"_parent\"><img src=\"https://colab.research.google.com/assets/colab-badge.svg\" alt=\"Open In Colab\"/></a>"
      ]
    },
    {
      "cell_type": "code",
      "source": [
        "!gdown 1twSOIn-ZceB3sK9l_9RUNXxDDVRqKh3g\n"
      ],
      "metadata": {
        "colab": {
          "base_uri": "https://localhost:8080/"
        },
        "id": "b8JHLAJaEO4N",
        "outputId": "baa3f6d7-81cd-4222-ca64-b2af2cbe0f01"
      },
      "execution_count": 1,
      "outputs": [
        {
          "output_type": "stream",
          "name": "stdout",
          "text": [
            "Downloading...\n",
            "From (original): https://drive.google.com/uc?id=1twSOIn-ZceB3sK9l_9RUNXxDDVRqKh3g\n",
            "From (redirected): https://drive.google.com/uc?id=1twSOIn-ZceB3sK9l_9RUNXxDDVRqKh3g&confirm=t&uuid=c8da46de-6f9c-4ac6-b77e-a32bd877ddeb\n",
            "To: /content/C3VD.zip\n",
            "100% 615M/615M [00:09<00:00, 61.9MB/s]\n"
          ]
        }
      ]
    },
    {
      "cell_type": "code",
      "source": [
        "!unzip -q C3VD.zip"
      ],
      "metadata": {
        "id": "kom7TgetG6f2"
      },
      "execution_count": 2,
      "outputs": []
    },
    {
      "cell_type": "code",
      "source": [
        "from __future__ import absolute_import, division, print_function\n",
        "\n",
        "import glob\n",
        "import os\n",
        "import random\n",
        "import numpy as np\n",
        "from PIL import Image  # using pillow-simd for increased speed\n",
        "from PIL import ImageFile\n",
        "import cv2\n",
        "\n",
        "import torch\n",
        "import torch.utils.data as data\n",
        "from torch.utils.data import DataLoader\n",
        "from torchvision import transforms\n",
        "\n",
        "ImageFile.LOAD_TRUNCATED_IMAGES=True\n",
        "\n",
        "def pil_loader(path):\n",
        "    # open path as file to avoid ResourceWarning\n",
        "    # (https://github.com/python-pillow/Pillow/issues/835)\n",
        "    with open(path, 'rb') as f:\n",
        "        with Image.open(f) as img:\n",
        "            return img.convert('RGB')\n",
        "\n",
        "class C3VDDataset(data.Dataset):\n",
        "    \"\"\"Superclass for monocular dataloaders\n",
        "\n",
        "    Args:\n",
        "        data_path\n",
        "        filenames\n",
        "        height\n",
        "        width\n",
        "        frame_idxs\n",
        "        num_scales\n",
        "        is_train\n",
        "        img_ext\n",
        "    \"\"\"\n",
        "    def __init__(self,\n",
        "                 data_path,\n",
        "                 height,\n",
        "                 width,\n",
        "                 frame_idxs,\n",
        "                 num_scales,\n",
        "                 model='train',\n",
        "                 load_depth=False,\n",
        "                 load_pose=False):\n",
        "        super(C3VDDataset, self).__init__()\n",
        "\n",
        "        self.data_path = data_path\n",
        "        self.height = height\n",
        "        self.width = width\n",
        "        self.num_scales = num_scales\n",
        "        self.interp = Image.LANCZOS\n",
        "\n",
        "        self.frame_idxs = frame_idxs\n",
        "\n",
        "        self.is_train = True if model == 'train' else False\n",
        "        self.load_depth = load_depth\n",
        "        self.load_pose = load_pose\n",
        "        self.loader = pil_loader\n",
        "        self.to_tensor = transforms.ToTensor()\n",
        "        self.rescale_factor = 100 / 65535\n",
        "        # We need to specify augmentations differently in newer versions of torchvision.\n",
        "        # We first try the newer tuple version; if this fails we fall back to scalars\n",
        "\n",
        "        self.K = np.array([[0.594, 0, 0.495, 0],\n",
        "                           [0, 0.742, 0.506, 0],\n",
        "                           [0, 0, 1, 0],\n",
        "                           [0, 0, 0, 1]], dtype=np.float32)\n",
        "        if model == 'train':\n",
        "            #self.valid_files = np.array([1, 3, 4, 6, 7, 8, 10, 11, 13, 14, 15, 17, 18, 20, 22])\n",
        "            self.valid_files = np.array([0])\n",
        "        else:\n",
        "            self.valid_files = np.array([0, 2, 5, 9, 12, 16, 19, 21])\n",
        "        self.frame_idxs_max = np.max(np.abs(self.frame_idxs))\n",
        "\n",
        "        try:\n",
        "            self.brightness = (0.8, 1.2)\n",
        "            self.contrast = (0.8, 1.2)\n",
        "            self.saturation = (0.8, 1.2)\n",
        "            self.hue = (-0.1, 0.1)\n",
        "            transforms.transforms.ColorJitter(self.brightness,self.contrast,self.saturation,self.hue)\n",
        "        except TypeError:\n",
        "            self.brightness = 0.2\n",
        "            self.contrast = 0.2\n",
        "            self.saturation = 0.2\n",
        "            self.hue = 0.1\n",
        "\n",
        "        self.resize = {}\n",
        "        for i in range(self.num_scales):\n",
        "            s = 2 ** i\n",
        "            self.resize[i] = transforms.Resize((self.height // s, self.width // s),\n",
        "                                               interpolation=self.interp)\n",
        "        self.scans = []\n",
        "        self.video_files_all = [os.path.join(self.data_path, file) for file in os.listdir(self.data_path)]\n",
        "        self.video_files_all.sort()\n",
        "        print(\"all\",self.video_files_all)\n",
        "        print(\"valid\",self.valid_files)\n",
        "\n",
        "        self.video_files = [self.video_files_all[i] for i in self.valid_files]\n",
        "\n",
        "\n",
        "        self.sequence_len = np.zeros([len(self.video_files)])\n",
        "        for i, video_file in enumerate(self.video_files):\n",
        "            image_paths = os.path.join(video_file, \"*_color.png\")\n",
        "            video_base = os.path.basename(video_file)\n",
        "            seq_image_paths = glob.glob(image_paths)\n",
        "            seq_image_paths.sort()\n",
        "\n",
        "            poses_path = os.path.join(video_file, \"pose.txt\")\n",
        "            seq_poses = self.get_pose_video(poses_path)\n",
        "\n",
        "            if self.frame_idxs_max > 0:\n",
        "                seq_image_paths = seq_image_paths[self.frame_idxs_max:-self.frame_idxs_max]\n",
        "                seq_poses = seq_poses[self.frame_idxs_max:-self.frame_idxs_max]\n",
        "            if model == 'val':\n",
        "                seq_image_paths = seq_image_paths[::80]\n",
        "                seq_poses = seq_poses[::80]\n",
        "            for j, seq_image_path in enumerate(seq_image_paths):\n",
        "                filename = os.path.basename(seq_image_path)\n",
        "                frame_index = int(filename[:4])\n",
        "                seq_depth_path = os.path.join(self.data_path, video_base, \"{:04d}_depth.tiff\".format(frame_index))\n",
        "                if os.path.exists(seq_image_path) and os.path.exists(seq_depth_path):\n",
        "                    self.scans.append(\n",
        "                        {\n",
        "                            \"seq_index\": i,\n",
        "                            \"sequence\": video_base,\n",
        "                            \"frame_index\": frame_index,\n",
        "                            \"pose\": seq_poses[j],\n",
        "                            \"length\": len(seq_image_paths),\n",
        "                        })\n",
        "        print(\"Prepared C3VD dataset with %d sets of RGB, depth, normal and occlusion images.\" % (len(self.scans)))\n",
        "\n",
        "    def __len__(self):\n",
        "        return len(self.scans)\n",
        "\n",
        "    def preprocess(self, inputs, color_aug):\n",
        "        \"\"\"Resize colour images to the required scales and augment if required\n",
        "\n",
        "        We create the color_aug object in advance and apply the same augmentation to all\n",
        "        images in this item. This ensures that all images input to the pose network receive the\n",
        "        same augmentation.\n",
        "        \"\"\"\n",
        "        for k in list(inputs):\n",
        "            if \"color\" in k:\n",
        "                n, im, i = k\n",
        "                for i in range(self.num_scales):\n",
        "                    inputs[(n, im, i)] = self.resize[i](inputs[(n, im, i - 1)])\n",
        "\n",
        "        for k in list(inputs):\n",
        "            f = inputs[k]\n",
        "            if \"color\" in k:\n",
        "                n, im, i = k\n",
        "                inputs[(n, im, i)] = self.to_tensor(f)\n",
        "                inputs[(n + \"_aug\", im, i)] = self.to_tensor(color_aug(f))\n",
        "\n",
        "    def get_color(self, video_base, frame_index, do_flip):\n",
        "        color_path = os.path.join(self.data_path, video_base, \"{:04d}_color.png\".format(frame_index))\n",
        "        color = self.loader(color_path)\n",
        "\n",
        "        if do_flip:\n",
        "            color = color.transpose(Image.FLIP_LEFT_RIGHT)\n",
        "\n",
        "        return color\n",
        "\n",
        "    def get_depth(self, video_base, frame_index, do_flip):\n",
        "        depth_path = os.path.join(self.data_path, video_base, \"{:04d}_depth.tiff\".format(frame_index))\n",
        "        depth_gt = cv2.imread(depth_path, 3)\n",
        "        depth_gt = np.array(depth_gt[:, :, 0])\n",
        "        depth_gt = depth_gt.astype(np.float32, order='C') * self.rescale_factor\n",
        "        if do_flip:\n",
        "            depth_gt = np.fliplr(depth_gt)\n",
        "\n",
        "        return depth_gt\n",
        "\n",
        "    def get_pose(self, video_base, frame_index):\n",
        "        file_path = os.path.join(self.data_path, video_base, \"pose.txt\")\n",
        "        with open(file_path, 'r') as f:\n",
        "            lines = f.read().splitlines()\n",
        "        values = lines[frame_index].split(',')\n",
        "        pose = np.array(values).astype(np.float32).reshape([4,4]).T\n",
        "\n",
        "        return pose\n",
        "\n",
        "    def get_pose_video(self, file_path):\n",
        "        with open(file_path, 'r') as f:\n",
        "            lines = f.read().splitlines()\n",
        "        poses = []\n",
        "        for line in lines:\n",
        "            values = line.split(',')\n",
        "            if len(values) != 16:\n",
        "                raise ValueError(\"Invalid camera pose format\")\n",
        "            pose = np.array(values).reshape([4,4]).T\n",
        "            poses.append(pose)\n",
        "\n",
        "        return np.array(poses)\n",
        "\n",
        "    def __getitem__(self, index):\n",
        "        \"\"\"Returns a single training item from the dataset as a dictionary.\n",
        "\n",
        "        Values correspond to torch tensors.\n",
        "        Keys in the dictionary are either strings or tuples:\n",
        "\n",
        "            (\"color\", <frame_id>, <scale>)          for raw colour images,\n",
        "            (\"color_aug\", <frame_id>, <scale>)      for augmented colour images,\n",
        "            (\"K\", scale) or (\"inv_K\", scale)        for camera intrinsics,\n",
        "            \"stereo_T\"                              for camera extrinsics, and\n",
        "            \"depth_gt\"                              for ground truth depth maps.\n",
        "\n",
        "        <frame_id> is either:\n",
        "            an integer (e.g. 0, -1, or 1) representing the temporal step relative to 'index',\n",
        "        or\n",
        "            \"s\" for the opposite image in the stereo pair.\n",
        "\n",
        "        <scale> is an integer representing the scale of the image relative to the fullsize image:\n",
        "            -1      images at native resolution as loaded from disk\n",
        "            0       images resized to (self.width,      self.height     )\n",
        "            1       images resized to (self.width // 2, self.height // 2)\n",
        "            2       images resized to (self.width // 4, self.height // 4)\n",
        "            3       images resized to (self.width // 8, self.height // 8)\n",
        "        \"\"\"\n",
        "        scan = self.scans[index]\n",
        "        video_base = scan[\"sequence\"]\n",
        "        frame_index = scan[\"frame_index\"]\n",
        "\n",
        "        inputs = {}\n",
        "\n",
        "        do_color_aug = self.is_train and random.random() > 0.5\n",
        "        do_flip = self.is_train and random.random() > 0.5\n",
        "\n",
        "        inputs[\"frame_id\"] = torch.from_numpy(np.array(frame_index))\n",
        "\n",
        "        for idx, i in enumerate(self.frame_idxs):\n",
        "            # print(frame_index + i, \"color\", i, -1)\n",
        "            inputs[(\"color\", i, -1)] = self.get_color(video_base, frame_index + i, do_flip)\n",
        "            color_path = os.path.join(self.data_path, video_base, \"{:04d}_color.png\".format(frame_index + i))\n",
        "            if idx == 0:\n",
        "                inputs['path'] = color_path\n",
        "\n",
        "        # adjusting intrinsics to match each scale in the pyramid\n",
        "        for scale in range(self.num_scales):\n",
        "            K = self.K.copy()\n",
        "            K[0, :] *= self.width // (2 ** scale)\n",
        "            K[1, :] *= self.height // (2 ** scale)\n",
        "\n",
        "\n",
        "            inv_K = np.linalg.pinv(K)\n",
        "\n",
        "            inputs[(\"K\", scale)] = torch.from_numpy(K)\n",
        "            inputs[(\"inv_K\", scale)] = torch.from_numpy(inv_K)\n",
        "\n",
        "        if do_color_aug:\n",
        "            color_aug = transforms.ColorJitter(self.brightness,self.contrast,self.saturation,self.hue)\n",
        "        else:\n",
        "            color_aug = (lambda x: x)\n",
        "\n",
        "        self.preprocess(inputs, color_aug)\n",
        "        for i in self.frame_idxs:\n",
        "            del inputs[(\"color\", i, -1)]\n",
        "            del inputs[(\"color_aug\", i, -1)]\n",
        "\n",
        "        if self.load_depth:\n",
        "            # print('depth:',frame_index)\n",
        "            depth_gt = self.get_depth(video_base, frame_index, do_flip)\n",
        "            inputs[\"depth_gt\"] = np.expand_dims(depth_gt, 0)\n",
        "            inputs[\"depth_gt\"] = torch.from_numpy(inputs[\"depth_gt\"].astype(np.float32))\n",
        "\n",
        "        if self.load_pose:\n",
        "            for i in self.frame_idxs:\n",
        "                inputs[(\"pose\", i)] = torch.from_numpy(self.get_pose(video_base, frame_index + i))\n",
        "                inputs[\"sequence\"] = video_base\n",
        "                inputs[\"keyframe\"] = \"0\"\n",
        "        return inputs\n"
      ],
      "metadata": {
        "id": "UUpyadc0EcBo"
      },
      "execution_count": 42,
      "outputs": []
    },
    {
      "cell_type": "code",
      "source": [
        "ds = C3VDDataset(data_path='/content/C3VD', height=256, width=320, frame_idxs=[0, -1, 1], num_scales=4, load_depth=True)\n",
        "\n",
        "test = ds[0]"
      ],
      "metadata": {
        "colab": {
          "base_uri": "https://localhost:8080/"
        },
        "id": "I9EF2s3zE4BK",
        "outputId": "e75f5251-faaf-46f6-f225-a8c9aedb593a"
      },
      "execution_count": 43,
      "outputs": [
        {
          "output_type": "stream",
          "name": "stdout",
          "text": [
            "all ['/content/C3VD/trans_t1_a']\n",
            "valid [0]\n",
            "Prepared C3VD dataset with 59 sets of RGB, depth, normal and occlusion images.\n"
          ]
        }
      ]
    },
    {
      "cell_type": "code",
      "source": [
        "dataloader = DataLoader(ds, 16, shuffle=False, num_workers=2, pin_memory=True, drop_last=False)\n",
        "for data in dataloader:\n",
        "    print(data[(\"color\", 0, 0)].shape)\n",
        "    break\n",
        "transforms.Resize((self.height // s, self.width // s), interpolation=self.interp)"
      ],
      "metadata": {
        "colab": {
          "base_uri": "https://localhost:8080/"
        },
        "id": "UVEC8o9ZOrWI",
        "outputId": "bce85d56-3c24-43e1-da79-d20412c88fa0"
      },
      "execution_count": 45,
      "outputs": [
        {
          "output_type": "stream",
          "name": "stdout",
          "text": [
            "torch.Size([16, 3, 256, 320])\n"
          ]
        }
      ]
    },
    {
      "cell_type": "code",
      "source": [
        "from PIL import Image\n",
        "resize = transforms.Resize((256, 320), interpolation=Image.LANCZOS)\n",
        "input_all = []\n",
        "for path in data[\"path\"]:\n",
        "    img = Image.open(path).convert('RGB')\n",
        "    # img = resize(img)\n",
        "    img = np.array(img)\n",
        "    # print(img.shape)\n",
        "    input_all.append(img)\n",
        "\n",
        "image_processor = AutoImageProcessor.from_pretrained(\"LiheYoung/depth-anything-small-hf\")\n",
        "input_all = np.array(input_all)\n",
        "inputs = image_processor(images=input_all, return_tensors=\"pt\", do_resize=False)\n",
        "inputs['pixel_values'].shape, inputs['pixel_values'].min(), inputs['pixel_values'].max()"
      ],
      "metadata": {
        "colab": {
          "base_uri": "https://localhost:8080/"
        },
        "id": "LqMJbNVYPOfq",
        "outputId": "157912e9-dfd8-4127-f123-2c37b4da987e"
      },
      "execution_count": 81,
      "outputs": [
        {
          "output_type": "execute_result",
          "data": {
            "text/plain": [
              "(torch.Size([16, 3, 1080, 1350]), tensor(-2.1179), tensor(2.6400))"
            ]
          },
          "metadata": {},
          "execution_count": 81
        }
      ]
    },
    {
      "cell_type": "code",
      "source": [
        "inputs = image_processor(images=input_all, return_tensors=\"pt\", do_resize=True)\n",
        "inputs['pixel_values'].shape, inputs['pixel_values'].min(), inputs['pixel_values'].max()"
      ],
      "metadata": {
        "colab": {
          "base_uri": "https://localhost:8080/"
        },
        "id": "3gSSJELKQJwt",
        "outputId": "1f05847c-6669-4387-c239-0e27cf6333d9"
      },
      "execution_count": 78,
      "outputs": [
        {
          "output_type": "execute_result",
          "data": {
            "text/plain": [
              "(torch.Size([16, 3, 518, 644]), tensor(-2.1179), tensor(2.6400))"
            ]
          },
          "metadata": {},
          "execution_count": 78
        }
      ]
    },
    {
      "cell_type": "code",
      "source": [
        "inputs = image_processor(images=input_all, return_tensors=\"pt\", do_resize=True, size=(252, 322))\n",
        "inputs['pixel_values'].shape, inputs['pixel_values'].min(), inputs['pixel_values'].max()"
      ],
      "metadata": {
        "colab": {
          "base_uri": "https://localhost:8080/"
        },
        "id": "h3fqozY2WbWb",
        "outputId": "f3a3e036-7400-4d4e-dcb4-8ee3c2ae215d"
      },
      "execution_count": 85,
      "outputs": [
        {
          "output_type": "execute_result",
          "data": {
            "text/plain": [
              "(torch.Size([16, 3, 252, 322]), tensor(-2.1179), tensor(2.6226))"
            ]
          },
          "metadata": {},
          "execution_count": 85
        }
      ]
    },
    {
      "cell_type": "code",
      "source": [
        "test.keys()"
      ],
      "metadata": {
        "id": "M8ca6QnRLup4",
        "outputId": "66d44af5-e957-4ad5-ed43-8d1603db8189",
        "colab": {
          "base_uri": "https://localhost:8080/"
        }
      },
      "execution_count": 31,
      "outputs": [
        {
          "output_type": "execute_result",
          "data": {
            "text/plain": [
              "dict_keys(['frame_id', 'path', ('K', 0), ('inv_K', 0), ('K', 1), ('inv_K', 1), ('K', 2), ('inv_K', 2), ('K', 3), ('inv_K', 3), ('color', 0, 0), ('color', 0, 1), ('color', 0, 2), ('color', 0, 3), ('color', -1, 0), ('color', -1, 1), ('color', -1, 2), ('color', -1, 3), ('color', 1, 0), ('color', 1, 1), ('color', 1, 2), ('color', 1, 3), ('color_aug', 0, 0), ('color_aug', 0, 1), ('color_aug', 0, 2), ('color_aug', 0, 3), ('color_aug', -1, 0), ('color_aug', -1, 1), ('color_aug', -1, 2), ('color_aug', -1, 3), ('color_aug', 1, 0), ('color_aug', 1, 1), ('color_aug', 1, 2), ('color_aug', 1, 3), 'depth_gt'])"
            ]
          },
          "metadata": {},
          "execution_count": 31
        }
      ]
    },
    {
      "cell_type": "code",
      "source": [
        "test['color', 0, 0].shape, test['color', 0, 0].min(), test['color', 0, 0].max()"
      ],
      "metadata": {
        "id": "y0phA9NKLxhq",
        "outputId": "653c2985-9f3a-4f4f-c058-c38fb27ab915",
        "colab": {
          "base_uri": "https://localhost:8080/"
        }
      },
      "execution_count": 38,
      "outputs": [
        {
          "output_type": "execute_result",
          "data": {
            "text/plain": [
              "(torch.Size([3, 256, 320]), tensor(0.), tensor(1.))"
            ]
          },
          "metadata": {},
          "execution_count": 38
        }
      ]
    },
    {
      "cell_type": "code",
      "source": [
        "test[\"color_aug\", 0, 0].shape, test[\"color_aug\", 0, 0].min(), test[\"color_aug\", 0, 0].max()"
      ],
      "metadata": {
        "colab": {
          "base_uri": "https://localhost:8080/"
        },
        "id": "cnWCEqhAK6XH",
        "outputId": "df855856-baf4-42e2-bece-e6a7569794d9"
      },
      "execution_count": 41,
      "outputs": [
        {
          "output_type": "execute_result",
          "data": {
            "text/plain": [
              "(torch.Size([3, 256, 320]), tensor(0.), tensor(1.))"
            ]
          },
          "metadata": {},
          "execution_count": 41
        }
      ]
    },
    {
      "cell_type": "code",
      "source": [
        "import matplotlib.pyplot as plt\n",
        "plt.subplot(131); plt.imshow(test['color', 0, 0].permute(1,2,0))\n",
        "plt.subplot(132); plt.imshow(test[\"color_aug\", 0, 0].permute(1,2,0))\n",
        "plt.subplot(133); plt.imshow(test['depth_gt'][0])"
      ],
      "metadata": {
        "id": "zQjvDBv-MDIL",
        "outputId": "94d0f38f-89db-4f70-85b0-076ede21da21",
        "colab": {
          "base_uri": "https://localhost:8080/",
          "height": 199
        }
      },
      "execution_count": 40,
      "outputs": [
        {
          "output_type": "execute_result",
          "data": {
            "text/plain": [
              "<matplotlib.image.AxesImage at 0x7fe4124dd6c0>"
            ]
          },
          "metadata": {},
          "execution_count": 40
        },
        {
          "output_type": "display_data",
          "data": {
            "text/plain": [
              "<Figure size 640x480 with 3 Axes>"
            ],
            "image/png": "[encoded data removed]"
          },
          "metadata": {}
        }
      ]
    },
    {
      "cell_type": "code",
      "source": [
        "test['path']"
      ],
      "metadata": {
        "colab": {
          "base_uri": "https://localhost:8080/",
          "height": 35
        },
        "id": "D-vsQi3EIHvP",
        "outputId": "5af96b8b-7b03-44d1-adcf-d40498842559"
      },
      "execution_count": 34,
      "outputs": [
        {
          "output_type": "execute_result",
          "data": {
            "text/plain": [
              "'/content/C3VD/trans_t1_a/0001_color.png'"
            ],
            "application/vnd.google.colaboratory.intrinsic+json": {
              "type": "string"
            }
          },
          "metadata": {},
          "execution_count": 34
        }
      ]
    },
    {
      "cell_type": "code",
      "source": [
        "from transformers import AutoImageProcessor, AutoModelForDepthEstimation, DepthAnythingForDepthEstimation\n",
        "import torch\n",
        "from torchvision import transforms\n",
        "import numpy as np\n",
        "from PIL import Image\n",
        "import requests\n",
        "import matplotlib.pyplot as plt\n",
        "\n",
        "image_processor = AutoImageProcessor.from_pretrained(\"LiheYoung/depth-anything-small-hf\")\n"
      ],
      "metadata": {
        "id": "vRzd7srbOUUY"
      },
      "execution_count": 58,
      "outputs": []
    },
    {
      "cell_type": "code",
      "source": [
        "inputs = image_processor(images=test['color', 0, 0], return_tensors=\"pt\", do_rescale=False)\n",
        "inputs['pixel_values'].shape, inputs['pixel_values'].max(), inputs['pixel_values'].mean()"
      ],
      "metadata": {
        "colab": {
          "base_uri": "https://localhost:8080/"
        },
        "id": "MZLEnbiyG15B",
        "outputId": "35a6b3e3-a502-4a95-c186-5d2b3131272d"
      },
      "execution_count": 35,
      "outputs": [
        {
          "output_type": "execute_result",
          "data": {
            "text/plain": [
              "(torch.Size([1, 3, 420, 518]), tensor(2.4286), tensor(0.4495))"
            ]
          },
          "metadata": {},
          "execution_count": 35
        }
      ]
    },
    {
      "cell_type": "code",
      "source": [
        "dir = '/content/C3VD/trans_t1_a/0001_color.png'\n",
        "image = Image.open(dir).convert(\"RGB\")\n",
        "inputs = image_processor(images=image, return_tensors=\"pt\")\n",
        "inputs['pixel_values'].shape, inputs['pixel_values'].max(), inputs['pixel_values'].mean()"
      ],
      "metadata": {
        "colab": {
          "base_uri": "https://localhost:8080/"
        },
        "id": "dGuHKEbsHA_A",
        "outputId": "375b066e-2703-4684-b88c-dc535dde3b08"
      },
      "execution_count": 37,
      "outputs": [
        {
          "output_type": "execute_result",
          "data": {
            "text/plain": [
              "(torch.Size([1, 3, 518, 644]), tensor(2.5529), tensor(0.4490))"
            ]
          },
          "metadata": {},
          "execution_count": 37
        }
      ]
    },
    {
      "cell_type": "code",
      "source": [],
      "metadata": {
        "colab": {
          "base_uri": "https://localhost:8080/"
        },
        "id": "XGDa-aDpHFtu",
        "outputId": "1d411636-b609-4e8b-d246-96212d9f5d8c"
      },
      "execution_count": 16,
      "outputs": [
        {
          "output_type": "execute_result",
          "data": {
            "text/plain": [
              "(tensor(2.4286), tensor(0.4495))"
            ]
          },
          "metadata": {},
          "execution_count": 16
        }
      ]
    },
    {
      "cell_type": "code",
      "source": [],
      "metadata": {
        "id": "6TkZUX4aHaTk"
      },
      "execution_count": null,
      "outputs": []
    }
  ]
}