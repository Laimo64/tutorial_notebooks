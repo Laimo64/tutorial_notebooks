{
  "cells": [
    {
      "cell_type": "markdown",
      "metadata": {
        "id": "view-in-github",
        "colab_type": "text"
      },
      "source": [
        "<a href=\"https://colab.research.google.com/github/mobarakol/tutorial_notebooks/blob/main/UNet_Model_BraTS.ipynb\" target=\"_parent\"><img src=\"https://colab.research.google.com/assets/colab-badge.svg\" alt=\"Open In Colab\"/></a>"
      ]
    },
    {
      "cell_type": "markdown",
      "metadata": {
        "id": "6XRxHiKdGHiT"
      },
      "source": [
        "# Medical Image Segmentation with U-NET\n"
      ]
    },
    {
      "cell_type": "markdown",
      "metadata": {
        "id": "w4TX-CXBHW4c"
      },
      "source": [
        "## Download the imaging dataset\n"
      ]
    },
    {
      "cell_type": "code",
      "execution_count": 148,
      "metadata": {
        "colab": {
          "base_uri": "https://localhost:8080/"
        },
        "id": "mt93oQ8xZkE9",
        "outputId": "23ac8aba-9f85-4b83-f437-fd9fc828b632"
      },
      "outputs": [
        {
          "output_type": "stream",
          "name": "stdout",
          "text": [
            "Downloading...\n",
            "From: https://drive.google.com/uc?id=194mSmKU5qNOkJ5GNocTwwvThbwWLwBEG\n",
            "To: /content/BraTS_total.zip\n",
            "100% 55.7M/55.7M [00:00<00:00, 99.2MB/s]\n"
          ]
        }
      ],
      "source": [
        "!gdown https://drive.google.com/uc?id=194mSmKU5qNOkJ5GNocTwwvThbwWLwBEG\n",
        "\n",
        "# Assuming the downloaded file is a ZIP file and its name is 'downloaded_data.zip'\n",
        "import zipfile\n",
        "with zipfile.ZipFile('BraTS_total.zip', 'r') as zip_ref:\n",
        "    zip_ref.extractall()"
      ]
    },
    {
      "cell_type": "markdown",
      "metadata": {
        "id": "5xWGT3KaML-D"
      },
      "source": [
        "# Implement a dataset class\n",
        "\n",
        "It can read the imaging dataset and get items, pairs of images and label maps, as training batches."
      ]
    },
    {
      "cell_type": "code",
      "source": [
        "from glob import glob\n",
        "\n",
        "#Test set folder\n",
        "!mkdir brats_test\n",
        "!mkdir brats_test/images\n",
        "!mkdir brats_test/masks\n",
        "\n",
        "test_patients_list = ['BraTS-GLI-t1c/BraTS-GLI-00000-000-t1c.nii.gz*', 'BraTS-GLI-t1c/BraTS-GLI-00005-000-t1c.nii.gz*']\n",
        "for patient in test_patients_list:\n",
        "    test_set = glob(patient)\n",
        "    for test_img_path in test_set:\n",
        "        test_seg_path = test_img_path.replace('t1c', 'seg')\n",
        "        !mv $test_img_path brats_test/images\n",
        "        !mv $test_seg_path brats_test/masks\n",
        "\n",
        "\n",
        "#Train set folder\n",
        "!mkdir brats_train\n",
        "!mkdir brats_train/images\n",
        "!mkdir brats_train/masks\n",
        "!mv BraTS-GLI-t1c/*.png brats_train/images\n",
        "!mv BraTS-GLI-seg/*.png brats_train/masks\n",
        "\n",
        "print('train:' ,len(glob('brats_train/images/*png')), len(glob('brats_train/masks/*png')))\n",
        "print('test:' ,len(glob('brats_test/images/*png')), len(glob('brats_test/masks/*png')))"
      ],
      "metadata": {
        "id": "pMwFKv0dl_TT",
        "colab": {
          "base_uri": "https://localhost:8080/"
        },
        "outputId": "8a734aa5-7fbf-4f24-c6d0-93bef0ee4af9"
      },
      "execution_count": 149,
      "outputs": [
        {
          "output_type": "stream",
          "name": "stdout",
          "text": [
            "mkdir: cannot create directory ‘brats_test’: File exists\n",
            "mkdir: cannot create directory ‘brats_test/images’: File exists\n",
            "mkdir: cannot create directory ‘brats_test/masks’: File exists\n",
            "mkdir: cannot create directory ‘brats_train’: File exists\n",
            "mkdir: cannot create directory ‘brats_train/images’: File exists\n",
            "mkdir: cannot create directory ‘brats_train/masks’: File exists\n",
            "train: 1395 1395\n",
            "test: 310 310\n"
          ]
        }
      ]
    },
    {
      "cell_type": "markdown",
      "source": [
        "Dataset and Dataloader Preparation:"
      ],
      "metadata": {
        "id": "dlerKP9NVyfj"
      }
    },
    {
      "cell_type": "code",
      "source": [
        "from torch.utils.data import Dataset, DataLoader\n",
        "from glob import glob\n",
        "import imageio.v2 as iio\n",
        "import matplotlib.pyplot as plt\n",
        "from glob import glob\n",
        "import numpy as np\n",
        "\n",
        "def normalise_intensity(image, ROI_thres=0.1):\n",
        "    pixel_thres = np.percentile(image, ROI_thres)\n",
        "    ROI = np.where(image > pixel_thres, image, 0) # If image value is greater than pixel threshold, return image value, otherwise return 0\n",
        "    mean = np.mean(ROI)\n",
        "    std = np.std(ROI)\n",
        "    ROI_norm = (ROI - mean) / (std + 1e-8) # Normalise ROI\n",
        "    return ROI_norm\n",
        "\n",
        "def map_labels(label):\n",
        "    label_map = {0: 0, 85: 1, 170: 2, 255: 3}\n",
        "    mapped_label = label.copy()\n",
        "    for k, v in label_map.items():\n",
        "        mapped_label[label == k] = v\n",
        "    return mapped_label\n",
        "\n",
        "class BratsDataset(Dataset):\n",
        "    def __init__(self, root='brats_train', transform=None):\n",
        "        self.img_path_all = glob(root + '/images/*png')\n",
        "        self.mask_path_all = [img_path.replace('images', 'masks') for img_path in self.img_path_all]\n",
        "        self.mask_path_all = [mask_path.replace('t1c', 'seg') for mask_path in self.mask_path_all]\n",
        "\n",
        "    def __len__(self):\n",
        "      return len(self.img_path_all)\n",
        "\n",
        "    def __getitem__(self, index):\n",
        "        image = iio.imread(self.img_path_all[index])\n",
        "        image = normalise_intensity(image)\n",
        "        label = iio.imread(self.mask_path_all[index])\n",
        "        label = map_labels(label)\n",
        "        return image, label\n",
        "\n",
        "train_dataset = BratsDataset(root='brats_train')\n",
        "test_dataset = BratsDataset(root='brats_test')\n",
        "\n",
        "input, label = test_dataset[35]\n",
        "plt.subplot(1,2,1), plt.axis('OFF'), plt.title('input:{}'.format(input.shape)), plt.imshow(input, cmap='gray')\n",
        "plt.subplot(1,2,2), plt.axis('OFF'), plt.title('label:{}'.format(label.shape)), plt.imshow(label, cmap='gray');"
      ],
      "metadata": {
        "id": "qye9BomHvuiU",
        "outputId": "66f618ad-bc40-4972-fad5-6fcc96ea9e8d",
        "colab": {
          "base_uri": "https://localhost:8080/",
          "height": 284
        }
      },
      "execution_count": 1,
      "outputs": [
        {
          "output_type": "display_data",
          "data": {
            "text/plain": [
              "<Figure size 640x480 with 2 Axes>"
            ],
            "image/png": "[encoded data removed]"
          },
          "metadata": {}
        }
      ]
    },
    {
      "cell_type": "markdown",
      "source": [
        "Model Creation: UNet"
      ],
      "metadata": {
        "id": "qtm8gXMVX4cz"
      }
    },
    {
      "cell_type": "code",
      "source": [
        "import torch.nn as nn\n",
        "import torch.nn.functional as F\n",
        "\n",
        "class conv_block(nn.Module):\n",
        "  def __init__(self, in_channels, out_channels, stride=1):\n",
        "    super().__init__()\n",
        "    # Convolution layer, a ReLU activation to add non-linearity, and Batch Normalisation\n",
        "    # Bias is set as false, as Batch Normalisation would remove the bias\n",
        "    self.conv = nn.Sequential(\n",
        "        nn.Conv2d(in_channels, out_channels, kernel_size=3, stride=stride, padding=1),\n",
        "        nn.BatchNorm2d(out_channels),\n",
        "        nn.ReLU()\n",
        "    )\n",
        "  def forward(self, x):\n",
        "    return self.conv(x)\n",
        "\n",
        "class UNet(nn.Module):\n",
        "  # U-Net Model involves an encoder, a bottleneck and decoder section\n",
        "  def __init__(self, num_classes=4):\n",
        "    super().__init__()\n",
        "    # Encoder with 4 blocks of Double_Convolution layers\n",
        "    # Includes 4 sets of max pooling operations with kernel 2x2 and stride 2 for downsampling\n",
        "    self.down_1 = nn.Sequential(\n",
        "        conv_block(1, 16),\n",
        "        conv_block(16, 16),\n",
        "    )\n",
        "    self.down_2 = nn.Sequential(\n",
        "        conv_block(16, 32, 2),\n",
        "        conv_block(32, 32),\n",
        "    )\n",
        "    self.down_3 = nn.Sequential(\n",
        "        conv_block(32, 64, 2),\n",
        "        conv_block(64, 64),\n",
        "    )\n",
        "    # Bottleneck\n",
        "    # Includes a Double Convolution layer followed by upsampling with ConvTranspose2d\n",
        "    self.bottle = nn.Sequential(\n",
        "        conv_block(64, 128, 2),\n",
        "        conv_block(128, 128),\n",
        "        nn.ConvTranspose2d(128, 64, kernel_size=3, stride=2, padding=1, output_padding=1)\n",
        "    )\n",
        "\n",
        "    # Decoder\n",
        "    # Concatinating with skip connections causes feature channels to double\n",
        "    # Double_Convolution and ConvTranspose2d each causes feature channels to halve\n",
        "    self.up_1 = nn.Sequential(\n",
        "        conv_block(128, 64),\n",
        "        conv_block(64, 64),\n",
        "        nn.ConvTranspose2d(64, 32, kernel_size=3, stride=2, padding=1, output_padding=1)\n",
        "    )\n",
        "    self.up_2 = nn.Sequential(\n",
        "        conv_block(64, 32),\n",
        "        conv_block(32, 32),\n",
        "        nn.ConvTranspose2d(32, 16, kernel_size=3, stride=2, padding=1, output_padding=1)\n",
        "    )\n",
        "    # Final Output Layer\n",
        "    self.out = nn.Sequential(\n",
        "        conv_block(32, 16),\n",
        "        conv_block(16, 16),\n",
        "        nn.Conv2d(16, num_classes, kernel_size=1, padding=0)\n",
        "    )\n",
        "\n",
        "  def forward(self, x):\n",
        "      # Use the convolutional operators defined above to build the U-net\n",
        "      # Encoder\n",
        "      x1 = self.down_1(x)\n",
        "      x2 = self.down_2(x1)\n",
        "      x3 = self.down_3(x2)\n",
        "\n",
        "      x4 = self.bottle(x3)\n",
        "\n",
        "      # Decoder\n",
        "      ### Insert your code ###\n",
        "      x5 = torch.cat((x4, x3), dim=1)\n",
        "      x6 = self.up_1(x5)\n",
        "      x7 = torch.cat((x6, x2), dim=1)\n",
        "      x8 = self.up_2(x7)\n",
        "      x9 = torch.cat((x8, x1), dim=1)\n",
        "      x10 = self.out(x9)\n",
        "      return x10"
      ],
      "metadata": {
        "id": "RZd_6j1lX3g4"
      },
      "execution_count": 2,
      "outputs": []
    },
    {
      "cell_type": "markdown",
      "source": [
        "Training:"
      ],
      "metadata": {
        "id": "da3fR_2IXssC"
      }
    },
    {
      "cell_type": "code",
      "source": [
        "import os\n",
        "import torch\n",
        "import torch.optim as optim\n",
        "import torch.nn as nn\n",
        "\n",
        "def train_per_epoch(model, trainloader, loss_fn, optimizer):\n",
        "    model.train()\n",
        "    loss_per_epoch = []\n",
        "    for batch_idx, (images, labels) in enumerate(trainloader):\n",
        "        images, labels = images.unsqueeze(1).to(device, dtype=torch.float32), labels.to(device, dtype=torch.long)\n",
        "        logits = model(images)\n",
        "        optimizer.zero_grad() # Clear previous gradients\n",
        "        loss = loss_fn(logits, labels) # Compute loss\n",
        "        loss.backward() # Carry out backpropagation and calculate gradients\n",
        "        optimizer.step() # Update model parameters\n",
        "        loss_per_epoch.append(loss.item())\n",
        "\n",
        "    return torch.tensor(loss_per_epoch).mean().item()\n",
        "\n",
        "def test_per_epoch(model, testloader, loss_fn, optimizer):\n",
        "    model.eval()\n",
        "    loss_per_epoch = []\n",
        "    with torch.no_grad():  # Disabling gradient calculation during reference to reduce memory consumption\n",
        "        for batch_idx, (images, labels) in enumerate(testloader):\n",
        "            images, labels = images.unsqueeze(1).to(device, dtype=torch.float32), labels.to(device, dtype=torch.long)\n",
        "            logits = model(images)\n",
        "            loss = loss_fn(logits, labels)\n",
        "            loss_per_epoch.append(loss.item())\n",
        "\n",
        "    return torch.tensor(loss_per_epoch).mean().item()\n",
        "\n",
        "device = 'cuda' if torch.cuda.is_available() else 'cpu'\n",
        "num_classes=4\n",
        "model = UNet(num_classes=num_classes)\n",
        "model = model.to(device)\n",
        "\n",
        "epochs = 200\n",
        "train_batch_size = 150\n",
        "eval_batch_size = 300\n",
        "model_dir = 'saved_models'\n",
        "os.makedirs(model_dir, exist_ok = True)\n",
        "optimizer = optim.Adam(model.parameters(), lr=1e-3)\n",
        "loss_fn = nn.CrossEntropyLoss(ignore_index=128)\n",
        "\n",
        "train_loader = DataLoader(train_dataset, batch_size=train_batch_size, shuffle=True, num_workers=2)\n",
        "test_loader = DataLoader(test_dataset, batch_size=eval_batch_size, shuffle=False, num_workers=2)\n",
        "print('Training on:', device, 'train sample size:', len(train_dataset), 'test sample size:', len(test_dataset))\n",
        "\n",
        "best_epoch, best_loss = 0.0, np.inf\n",
        "for epoch in range(epochs):\n",
        "    loss_training = train_per_epoch(model, train_loader, loss_fn, optimizer)\n",
        "    loss_testing = test_per_epoch(model, test_loader, loss_fn, optimizer)\n",
        "\n",
        "    # Save the best model\n",
        "    if loss_testing < best_loss:\n",
        "        best_loss = loss_testing\n",
        "        best_epoch = epoch\n",
        "        torch.save(model.state_dict(), os.path.join(model_dir, 'model_best.pt'))\n",
        "\n",
        "    if epoch % 2 == 0:\n",
        "        print('--- Epoch {}\\{}: Training loss = {:.4f}, Testing loss = {:.4f}, Best loss = {:.4f}, Best epoch = {} '.\\\n",
        "              format(epoch, epochs, loss_training, loss_testing, best_loss, best_epoch))"
      ],
      "metadata": {
        "id": "dm0-M7TjXuYA",
        "outputId": "6fa49c14-8bf5-4dc9-f32f-cc993373e098",
        "colab": {
          "base_uri": "https://localhost:8080/"
        }
      },
      "execution_count": 3,
      "outputs": [
        {
          "output_type": "stream",
          "name": "stdout",
          "text": [
            "Training on: cuda train sample size: 1395 test sample size: 310\n",
            "--- Epoch 0\\200: Training loss = 1.0032, Testing loss = 1.1262, Best loss = 1.1262, Best epoch = 0 \n",
            "--- Epoch 2\\200: Training loss = 0.6969, Testing loss = 0.9457, Best loss = 0.8612, Best epoch = 1 \n",
            "--- Epoch 4\\200: Training loss = 0.5441, Testing loss = 0.5483, Best loss = 0.5483, Best epoch = 4 \n",
            "--- Epoch 6\\200: Training loss = 0.4186, Testing loss = 0.4128, Best loss = 0.4128, Best epoch = 6 \n",
            "--- Epoch 8\\200: Training loss = 0.3261, Testing loss = 0.3178, Best loss = 0.3178, Best epoch = 8 \n",
            "--- Epoch 10\\200: Training loss = 0.2588, Testing loss = 0.2536, Best loss = 0.2536, Best epoch = 10 \n",
            "--- Epoch 12\\200: Training loss = 0.2089, Testing loss = 0.2138, Best loss = 0.2138, Best epoch = 12 \n",
            "--- Epoch 14\\200: Training loss = 0.1841, Testing loss = 0.1564, Best loss = 0.1564, Best epoch = 14 \n",
            "--- Epoch 16\\200: Training loss = 0.1471, Testing loss = 0.1325, Best loss = 0.1325, Best epoch = 16 \n",
            "--- Epoch 18\\200: Training loss = 0.1240, Testing loss = 0.1176, Best loss = 0.1176, Best epoch = 18 \n",
            "--- Epoch 20\\200: Training loss = 0.1096, Testing loss = 0.1028, Best loss = 0.1028, Best epoch = 20 \n",
            "--- Epoch 22\\200: Training loss = 0.0966, Testing loss = 0.0949, Best loss = 0.0949, Best epoch = 22 \n",
            "--- Epoch 24\\200: Training loss = 0.0874, Testing loss = 0.0870, Best loss = 0.0870, Best epoch = 24 \n",
            "--- Epoch 26\\200: Training loss = 0.0801, Testing loss = 0.0789, Best loss = 0.0789, Best epoch = 26 \n",
            "--- Epoch 28\\200: Training loss = 0.0719, Testing loss = 0.0816, Best loss = 0.0783, Best epoch = 27 \n",
            "--- Epoch 30\\200: Training loss = 0.0650, Testing loss = 0.0714, Best loss = 0.0714, Best epoch = 30 \n",
            "--- Epoch 32\\200: Training loss = 0.0582, Testing loss = 0.0718, Best loss = 0.0698, Best epoch = 31 \n",
            "--- Epoch 34\\200: Training loss = 0.0550, Testing loss = 0.0698, Best loss = 0.0649, Best epoch = 33 \n",
            "--- Epoch 36\\200: Training loss = 0.0512, Testing loss = 0.0618, Best loss = 0.0618, Best epoch = 36 \n",
            "--- Epoch 38\\200: Training loss = 0.0467, Testing loss = 0.0609, Best loss = 0.0609, Best epoch = 38 \n",
            "--- Epoch 40\\200: Training loss = 0.0434, Testing loss = 0.0589, Best loss = 0.0589, Best epoch = 40 \n",
            "--- Epoch 42\\200: Training loss = 0.0418, Testing loss = 0.0613, Best loss = 0.0569, Best epoch = 41 \n",
            "--- Epoch 44\\200: Training loss = 0.0392, Testing loss = 0.0525, Best loss = 0.0522, Best epoch = 43 \n",
            "--- Epoch 46\\200: Training loss = 0.0386, Testing loss = 0.0675, Best loss = 0.0522, Best epoch = 43 \n",
            "--- Epoch 48\\200: Training loss = 0.0361, Testing loss = 0.0512, Best loss = 0.0512, Best epoch = 48 \n",
            "--- Epoch 50\\200: Training loss = 0.0343, Testing loss = 0.0526, Best loss = 0.0512, Best epoch = 48 \n",
            "--- Epoch 52\\200: Training loss = 0.0318, Testing loss = 0.0478, Best loss = 0.0478, Best epoch = 52 \n",
            "--- Epoch 54\\200: Training loss = 0.0295, Testing loss = 0.0542, Best loss = 0.0476, Best epoch = 53 \n",
            "--- Epoch 56\\200: Training loss = 0.0271, Testing loss = 0.0502, Best loss = 0.0476, Best epoch = 53 \n",
            "--- Epoch 58\\200: Training loss = 0.0262, Testing loss = 0.0484, Best loss = 0.0476, Best epoch = 53 \n",
            "--- Epoch 60\\200: Training loss = 0.0242, Testing loss = 0.0481, Best loss = 0.0476, Best epoch = 53 \n",
            "--- Epoch 62\\200: Training loss = 0.0226, Testing loss = 0.0540, Best loss = 0.0476, Best epoch = 53 \n",
            "--- Epoch 64\\200: Training loss = 0.0223, Testing loss = 0.0471, Best loss = 0.0451, Best epoch = 63 \n",
            "--- Epoch 66\\200: Training loss = 0.0197, Testing loss = 0.0483, Best loss = 0.0451, Best epoch = 63 \n",
            "--- Epoch 68\\200: Training loss = 0.0191, Testing loss = 0.0449, Best loss = 0.0449, Best epoch = 68 \n",
            "--- Epoch 70\\200: Training loss = 0.0261, Testing loss = 0.0590, Best loss = 0.0449, Best epoch = 68 \n",
            "--- Epoch 72\\200: Training loss = 0.0239, Testing loss = 0.0427, Best loss = 0.0427, Best epoch = 72 \n",
            "--- Epoch 74\\200: Training loss = 0.0191, Testing loss = 0.0491, Best loss = 0.0427, Best epoch = 72 \n",
            "--- Epoch 76\\200: Training loss = 0.0166, Testing loss = 0.0470, Best loss = 0.0427, Best epoch = 72 \n",
            "--- Epoch 78\\200: Training loss = 0.0154, Testing loss = 0.0510, Best loss = 0.0427, Best epoch = 72 \n",
            "--- Epoch 80\\200: Training loss = 0.0143, Testing loss = 0.0432, Best loss = 0.0418, Best epoch = 79 \n",
            "--- Epoch 82\\200: Training loss = 0.0140, Testing loss = 0.0490, Best loss = 0.0418, Best epoch = 79 \n",
            "--- Epoch 84\\200: Training loss = 0.0133, Testing loss = 0.0434, Best loss = 0.0418, Best epoch = 79 \n",
            "--- Epoch 86\\200: Training loss = 0.0126, Testing loss = 0.0496, Best loss = 0.0418, Best epoch = 79 \n",
            "--- Epoch 88\\200: Training loss = 0.0123, Testing loss = 0.0454, Best loss = 0.0418, Best epoch = 79 \n",
            "--- Epoch 90\\200: Training loss = 0.0111, Testing loss = 0.0462, Best loss = 0.0412, Best epoch = 89 \n",
            "--- Epoch 92\\200: Training loss = 0.0107, Testing loss = 0.0443, Best loss = 0.0412, Best epoch = 89 \n",
            "--- Epoch 94\\200: Training loss = 0.0102, Testing loss = 0.0506, Best loss = 0.0412, Best epoch = 89 \n",
            "--- Epoch 96\\200: Training loss = 0.0100, Testing loss = 0.0477, Best loss = 0.0412, Best epoch = 89 \n",
            "--- Epoch 98\\200: Training loss = 0.0092, Testing loss = 0.0487, Best loss = 0.0412, Best epoch = 89 \n",
            "--- Epoch 100\\200: Training loss = 0.0097, Testing loss = 0.0450, Best loss = 0.0412, Best epoch = 89 \n",
            "--- Epoch 102\\200: Training loss = 0.0096, Testing loss = 0.0484, Best loss = 0.0412, Best epoch = 89 \n",
            "--- Epoch 104\\200: Training loss = 0.0086, Testing loss = 0.0504, Best loss = 0.0412, Best epoch = 89 \n",
            "--- Epoch 106\\200: Training loss = 0.0090, Testing loss = 0.0453, Best loss = 0.0412, Best epoch = 89 \n",
            "--- Epoch 108\\200: Training loss = 0.0083, Testing loss = 0.0492, Best loss = 0.0412, Best epoch = 89 \n",
            "--- Epoch 110\\200: Training loss = 0.0076, Testing loss = 0.0510, Best loss = 0.0412, Best epoch = 89 \n",
            "--- Epoch 112\\200: Training loss = 0.0073, Testing loss = 0.0494, Best loss = 0.0412, Best epoch = 89 \n",
            "--- Epoch 114\\200: Training loss = 0.0070, Testing loss = 0.0489, Best loss = 0.0412, Best epoch = 89 \n",
            "--- Epoch 116\\200: Training loss = 0.0069, Testing loss = 0.0492, Best loss = 0.0412, Best epoch = 89 \n",
            "--- Epoch 118\\200: Training loss = 0.0069, Testing loss = 0.0493, Best loss = 0.0412, Best epoch = 89 \n",
            "--- Epoch 120\\200: Training loss = 0.0068, Testing loss = 0.0566, Best loss = 0.0412, Best epoch = 89 \n",
            "--- Epoch 122\\200: Training loss = 0.0065, Testing loss = 0.0510, Best loss = 0.0412, Best epoch = 89 \n",
            "--- Epoch 124\\200: Training loss = 0.0063, Testing loss = 0.0496, Best loss = 0.0412, Best epoch = 89 \n",
            "--- Epoch 126\\200: Training loss = 0.0063, Testing loss = 0.0543, Best loss = 0.0412, Best epoch = 89 \n",
            "--- Epoch 128\\200: Training loss = 0.0062, Testing loss = 0.0540, Best loss = 0.0412, Best epoch = 89 \n",
            "--- Epoch 130\\200: Training loss = 0.0056, Testing loss = 0.0529, Best loss = 0.0412, Best epoch = 89 \n",
            "--- Epoch 132\\200: Training loss = 0.0052, Testing loss = 0.0502, Best loss = 0.0412, Best epoch = 89 \n",
            "--- Epoch 134\\200: Training loss = 0.0052, Testing loss = 0.0496, Best loss = 0.0412, Best epoch = 89 \n",
            "--- Epoch 136\\200: Training loss = 0.0050, Testing loss = 0.0484, Best loss = 0.0412, Best epoch = 89 \n",
            "--- Epoch 138\\200: Training loss = 0.0050, Testing loss = 0.0473, Best loss = 0.0412, Best epoch = 89 \n",
            "--- Epoch 140\\200: Training loss = 0.0054, Testing loss = 0.0548, Best loss = 0.0412, Best epoch = 89 \n",
            "--- Epoch 142\\200: Training loss = 0.0061, Testing loss = 0.0474, Best loss = 0.0412, Best epoch = 89 \n",
            "--- Epoch 144\\200: Training loss = 0.0085, Testing loss = 0.3138, Best loss = 0.0412, Best epoch = 89 \n",
            "--- Epoch 146\\200: Training loss = 0.0067, Testing loss = 0.0451, Best loss = 0.0412, Best epoch = 89 \n",
            "--- Epoch 148\\200: Training loss = 0.0059, Testing loss = 0.0478, Best loss = 0.0412, Best epoch = 89 \n",
            "--- Epoch 150\\200: Training loss = 0.0053, Testing loss = 0.0438, Best loss = 0.0412, Best epoch = 89 \n",
            "--- Epoch 152\\200: Training loss = 0.0049, Testing loss = 0.0538, Best loss = 0.0412, Best epoch = 89 \n",
            "--- Epoch 154\\200: Training loss = 0.0045, Testing loss = 0.0515, Best loss = 0.0412, Best epoch = 89 \n",
            "--- Epoch 156\\200: Training loss = 0.0044, Testing loss = 0.0531, Best loss = 0.0412, Best epoch = 89 \n",
            "--- Epoch 158\\200: Training loss = 0.0045, Testing loss = 0.0487, Best loss = 0.0412, Best epoch = 89 \n",
            "--- Epoch 160\\200: Training loss = 0.0043, Testing loss = 0.0492, Best loss = 0.0412, Best epoch = 89 \n",
            "--- Epoch 162\\200: Training loss = 0.0040, Testing loss = 0.0519, Best loss = 0.0412, Best epoch = 89 \n",
            "--- Epoch 164\\200: Training loss = 0.0039, Testing loss = 0.0470, Best loss = 0.0412, Best epoch = 89 \n",
            "--- Epoch 166\\200: Training loss = 0.0039, Testing loss = 0.0532, Best loss = 0.0412, Best epoch = 89 \n",
            "--- Epoch 168\\200: Training loss = 0.0038, Testing loss = 0.0489, Best loss = 0.0412, Best epoch = 89 \n",
            "--- Epoch 170\\200: Training loss = 0.0036, Testing loss = 0.0515, Best loss = 0.0412, Best epoch = 89 \n",
            "--- Epoch 172\\200: Training loss = 0.0037, Testing loss = 0.0487, Best loss = 0.0412, Best epoch = 89 \n",
            "--- Epoch 174\\200: Training loss = 0.0038, Testing loss = 0.0577, Best loss = 0.0412, Best epoch = 89 \n",
            "--- Epoch 176\\200: Training loss = 0.0033, Testing loss = 0.0511, Best loss = 0.0412, Best epoch = 89 \n",
            "--- Epoch 178\\200: Training loss = 0.0033, Testing loss = 0.0499, Best loss = 0.0412, Best epoch = 89 \n",
            "--- Epoch 180\\200: Training loss = 0.0033, Testing loss = 0.0561, Best loss = 0.0412, Best epoch = 89 \n",
            "--- Epoch 182\\200: Training loss = 0.0033, Testing loss = 0.0510, Best loss = 0.0412, Best epoch = 89 \n",
            "--- Epoch 184\\200: Training loss = 0.0036, Testing loss = 0.0503, Best loss = 0.0412, Best epoch = 89 \n",
            "--- Epoch 186\\200: Training loss = 0.0034, Testing loss = 0.0503, Best loss = 0.0412, Best epoch = 89 \n",
            "--- Epoch 188\\200: Training loss = 0.0034, Testing loss = 0.0504, Best loss = 0.0412, Best epoch = 89 \n",
            "--- Epoch 190\\200: Training loss = 0.0031, Testing loss = 0.0529, Best loss = 0.0412, Best epoch = 89 \n",
            "--- Epoch 192\\200: Training loss = 0.0030, Testing loss = 0.0520, Best loss = 0.0412, Best epoch = 89 \n",
            "--- Epoch 194\\200: Training loss = 0.0029, Testing loss = 0.0514, Best loss = 0.0412, Best epoch = 89 \n",
            "--- Epoch 196\\200: Training loss = 0.0029, Testing loss = 0.0516, Best loss = 0.0412, Best epoch = 89 \n",
            "--- Epoch 198\\200: Training loss = 0.0032, Testing loss = 0.0496, Best loss = 0.0412, Best epoch = 89 \n"
          ]
        }
      ]
    },
    {
      "cell_type": "markdown",
      "source": [
        "Evaluation on best trained weights:"
      ],
      "metadata": {
        "id": "vHsD4hNqkw4n"
      }
    },
    {
      "cell_type": "code",
      "source": [
        "!pip install -q torchmetrics"
      ],
      "metadata": {
        "id": "BPp42E-CoI2e"
      },
      "execution_count": 4,
      "outputs": []
    },
    {
      "cell_type": "code",
      "source": [
        "from torchmetrics import Dice\n",
        "import matplotlib.pyplot as plt\n",
        "import numpy as np\n",
        "\n",
        "def calculate_confusion_matrix_from_arrays(prediction, ground_truth, nr_labels):\n",
        "    replace_indices = np.vstack((\n",
        "        ground_truth.flatten(),\n",
        "        prediction.flatten())\n",
        "    ).T\n",
        "    confusion_matrix, _ = np.histogramdd(\n",
        "        replace_indices,\n",
        "        bins=(nr_labels, nr_labels),\n",
        "        range=[(0, nr_labels), (0, nr_labels)]\n",
        "    )\n",
        "    confusion_matrix = confusion_matrix.astype(np.uint32)\n",
        "    return confusion_matrix\n",
        "\n",
        "def calculate_dice(confusion_matrix):\n",
        "    dices = []\n",
        "    for index in range(confusion_matrix.shape[0]):\n",
        "        true_positives = confusion_matrix[index, index]\n",
        "        false_positives = confusion_matrix[:, index].sum() - true_positives\n",
        "        false_negatives = confusion_matrix[index, :].sum() - true_positives\n",
        "        denom = 2 * true_positives + false_positives + false_negatives\n",
        "        if denom == 0:\n",
        "            dice = 0\n",
        "        else:\n",
        "            dice = 2 * float(true_positives) / denom\n",
        "        dices.append(dice)\n",
        "    return dices\n",
        "\n",
        "\n",
        "def test_per_epoch(model, testloader):\n",
        "    model.eval()\n",
        "    fig, axs = plt.subplots(len(testloader), 3, figsize=(1*3, len(testloader)*1), subplot_kw=dict(xticks=[],yticks=[]))\n",
        "    confusion_matrix = np.zeros((num_classes, num_classes), dtype=np.uint32)\n",
        "    class_wise_dice = []\n",
        "    with torch.no_grad():\n",
        "        for batch_idx, (images, labels) in enumerate(testloader):\n",
        "            images, labels = images.unsqueeze(1).to(device, dtype=torch.float32), labels.to(device, dtype=torch.long)\n",
        "            logits = model(images)\n",
        "            prob = F.softmax(logits, dim=1)\n",
        "            pred_seg = torch.argmax(prob, dim=1)\n",
        "            confusion_matrix += calculate_confusion_matrix_from_arrays(pred_seg.cpu(), labels.cpu(), num_classes)\n",
        "            img_num = 0\n",
        "            axs[batch_idx, 0].imshow(images[img_num, 0].cpu().numpy(), cmap='gray')\n",
        "            axs[batch_idx, 1].imshow(labels[img_num].cpu().numpy(), cmap='gray')\n",
        "            axs[batch_idx, 2].imshow(pred_seg[img_num].cpu().numpy(), cmap='gray')\n",
        "\n",
        "    confusion_matrix = confusion_matrix[1:, 1:]  # exclude background\n",
        "    dices_per_class = {'dice_cls:{}'.format(cls + 1): dice\n",
        "                for cls, dice in enumerate(calculate_dice(confusion_matrix))}\n",
        "\n",
        "    plt.axis('OFF')\n",
        "    plt.tight_layout()\n",
        "    plt.show()\n",
        "    return dices_per_class\n",
        "\n",
        "num_classes=4\n",
        "model = UNet(num_classes=num_classes).to(device)\n",
        "model.load_state_dict(torch.load('/content/saved_models/model_best.pt'))\n",
        "eval_batch_size = 48\n",
        "test_loader = DataLoader(test_dataset, batch_size=eval_batch_size, shuffle=False, num_workers=2)\n",
        "dices_per_class = test_per_epoch(model, test_loader)\n",
        "dices_per_class_list = np.array(list(dices_per_class.values()))\n",
        "print('Class Wise Dice:', dices_per_class)\n",
        "print('Overall Dice:', np.mean(dices_per_class_list))"
      ],
      "metadata": {
        "id": "nPT7QthodKKM",
        "outputId": "4d8321c2-baf9-4f64-f758-1752b6260190",
        "colab": {
          "base_uri": "https://localhost:8080/",
          "height": 740
        }
      },
      "execution_count": 5,
      "outputs": [
        {
          "output_type": "display_data",
          "data": {
            "text/plain": [
              "<Figure size 300x700 with 21 Axes>"
            ],
            "image/png": "[encoded data removed]"
          },
          "metadata": {}
        },
        {
          "output_type": "stream",
          "name": "stdout",
          "text": [
            "Class Wise Dice: {'dice_cls:1': 0.8720851256508942, 'dice_cls:2': 0.7605854678515421, 'dice_cls:3': 0.8389476635238222}\n",
            "Overall Dice: 0.8238727523420861\n"
          ]
        }
      ]
    },
    {
      "cell_type": "code",
      "source": [],
      "metadata": {
        "id": "8ZcoKYLZD-ag"
      },
      "execution_count": null,
      "outputs": []
    }
  ],
  "metadata": {
    "accelerator": "GPU",
    "colab": {
      "provenance": [],
      "gpuType": "T4",
      "machine_shape": "hm",
      "include_colab_link": true
    },
    "kernelspec": {
      "display_name": "Python 3",
      "name": "python3"
    },
    "language_info": {
      "name": "python"
    }
  },
  "nbformat": 4,
  "nbformat_minor": 0
}