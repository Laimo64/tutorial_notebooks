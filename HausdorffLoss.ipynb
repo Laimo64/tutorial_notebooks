{
  "nbformat": 4,
  "nbformat_minor": 0,
  "metadata": {
    "colab": {
      "provenance": [],
      "authorship_tag": "ABX9TyN2bFB4f0GBnpdDoKllUbAk",
      "include_colab_link": true
    },
    "kernelspec": {
      "name": "python3",
      "display_name": "Python 3"
    },
    "language_info": {
      "name": "python"
    }
  },
  "cells": [
    {
      "cell_type": "markdown",
      "metadata": {
        "id": "view-in-github",
        "colab_type": "text"
      },
      "source": [
        "<a href=\"https://colab.research.google.com/github/mobarakol/tutorial_notebooks/blob/main/HausdorffLoss.ipynb\" target=\"_parent\"><img src=\"https://colab.research.google.com/assets/colab-badge.svg\" alt=\"Open In Colab\"/></a>"
      ]
    },
    {
      "cell_type": "markdown",
      "source": [
        "Src: https://kornia.readthedocs.io/en/latest/_modules/kornia/losses/hausdorff.html"
      ],
      "metadata": {
        "id": "owziJHNH1oLh"
      }
    },
    {
      "cell_type": "code",
      "execution_count": 1,
      "metadata": {
        "colab": {
          "base_uri": "https://localhost:8080/"
        },
        "id": "u1iYBD5syUvQ",
        "outputId": "2d625001-ac04-4773-a2ac-b4b94aa704fd"
      },
      "outputs": [
        {
          "output_type": "stream",
          "name": "stdout",
          "text": [
            "\u001b[?25l     \u001b[90m━━━━━━━━━━━━━━━━━━━━━━━━━━━━━━━━━━━━━━━━\u001b[0m \u001b[32m0.0/705.7 kB\u001b[0m \u001b[31m?\u001b[0m eta \u001b[36m-:--:--\u001b[0m\r\u001b[2K     \u001b[91m━━━━━━\u001b[0m\u001b[91m╸\u001b[0m\u001b[90m━━━━━━━━━━━━━━━━━━━━━━━━━━━━━━━━\u001b[0m \u001b[32m122.9/705.7 kB\u001b[0m \u001b[31m3.6 MB/s\u001b[0m eta \u001b[36m0:00:01\u001b[0m\r\u001b[2K     \u001b[91m━━━━━━━━━━━━━━━━━━━━━━━━━━━━━━━━━━━━━\u001b[0m\u001b[90m╺\u001b[0m \u001b[32m696.3/705.7 kB\u001b[0m \u001b[31m12.0 MB/s\u001b[0m eta \u001b[36m0:00:01\u001b[0m\r\u001b[2K     \u001b[90m━━━━━━━━━━━━━━━━━━━━━━━━━━━━━━━━━━━━━━━\u001b[0m \u001b[32m705.7/705.7 kB\u001b[0m \u001b[31m9.8 MB/s\u001b[0m eta \u001b[36m0:00:00\u001b[0m\n",
            "\u001b[?25h"
          ]
        }
      ],
      "source": [
        "!pip -q install kornia"
      ]
    },
    {
      "cell_type": "code",
      "source": [
        "from kornia.losses.hausdorff import HausdorffERLoss\n",
        "import torch\n",
        "\n",
        "hdloss = HausdorffERLoss()\n",
        "input = torch.randn(5, 3, 20, 20)\n",
        "target = (torch.rand(5, 1, 20, 20) * 2).long()\n",
        "loss = hdloss(input, target)\n",
        "loss"
      ],
      "metadata": {
        "colab": {
          "base_uri": "https://localhost:8080/"
        },
        "id": "nvQmW0flyk02",
        "outputId": "153ecbc8-8b50-4c14-fc8c-16faf1bdcbc4"
      },
      "execution_count": 31,
      "outputs": [
        {
          "output_type": "stream",
          "name": "stdout",
          "text": [
            "<class 'torch.Tensor'>\n"
          ]
        },
        {
          "output_type": "execute_result",
          "data": {
            "text/plain": [
              "tensor(0.2632)"
            ]
          },
          "metadata": {},
          "execution_count": 31
        }
      ]
    },
    {
      "cell_type": "markdown",
      "source": [
        "Multiclass:"
      ],
      "metadata": {
        "id": "ftao8lAJ0H2q"
      }
    },
    {
      "cell_type": "code",
      "source": [
        "prediction = torch.randn(5, 3, 20, 20) # prediction probability after logit (B, C, H, W)\n",
        "target = (torch.rand(5, 1, 20, 20) * 3).long() # solid multiclass target, not one-hot\n",
        "loss = hdloss(prediction.float(), target)\n",
        "loss"
      ],
      "metadata": {
        "colab": {
          "base_uri": "https://localhost:8080/"
        },
        "id": "sexpcRZBzAEp",
        "outputId": "3e357516-2567-4eeb-8e6c-4b2f6abd73b1"
      },
      "execution_count": 38,
      "outputs": [
        {
          "output_type": "execute_result",
          "data": {
            "text/plain": [
              "tensor(0.2270)"
            ]
          },
          "metadata": {},
          "execution_count": 38
        }
      ]
    },
    {
      "cell_type": "markdown",
      "source": [
        "Binary:"
      ],
      "metadata": {
        "id": "yZ_Yt1j60D1q"
      }
    },
    {
      "cell_type": "code",
      "source": [
        "prediction = torch.randn(5, 2, 20, 20)# prediction probability after logit\n",
        "target = (torch.rand(5, 1, 20, 20) * 2).long() # solid multiclass target, not one-hot\n",
        "loss = hdloss(prediction, target.long())\n",
        "loss"
      ],
      "metadata": {
        "colab": {
          "base_uri": "https://localhost:8080/"
        },
        "id": "CNhPDSUA0BI2",
        "outputId": "e7464134-0258-4137-98ea-87cb8b569da1"
      },
      "execution_count": 36,
      "outputs": [
        {
          "output_type": "execute_result",
          "data": {
            "text/plain": [
              "tensor(0.2188)"
            ]
          },
          "metadata": {},
          "execution_count": 36
        }
      ]
    },
    {
      "cell_type": "code",
      "source": [
        "import matplotlib.pyplot as plt\n",
        "plt.figure();plt.imshow(target[0,0])\n",
        "plt.figure();plt.imshow(prediction[0,1])"
      ],
      "metadata": {
        "colab": {
          "base_uri": "https://localhost:8080/",
          "height": 860
        },
        "id": "avWwKvcXzH2D",
        "outputId": "da8cb34c-ffc6-4a38-c357-3a82d688d32c"
      },
      "execution_count": 37,
      "outputs": [
        {
          "output_type": "execute_result",
          "data": {
            "text/plain": [
              "<matplotlib.image.AxesImage at 0x7e3748a1d120>"
            ]
          },
          "metadata": {},
          "execution_count": 37
        },
        {
          "output_type": "display_data",
          "data": {
            "text/plain": [
              "<Figure size 640x480 with 1 Axes>"
            ],
            "image/png": "[encoded data removed]"
          },
          "metadata": {}
        },
        {
          "output_type": "display_data",
          "data": {
            "text/plain": [
              "<Figure size 640x480 with 1 Axes>"
            ],
            "image/png": "[encoded data removed]"
          },
          "metadata": {}
        }
      ]
    }
  ]
}