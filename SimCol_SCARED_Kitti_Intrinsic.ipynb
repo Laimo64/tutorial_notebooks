{
  "nbformat": 4,
  "nbformat_minor": 0,
  "metadata": {
    "colab": {
      "provenance": [],
      "authorship_tag": "ABX9TyPQGUoyKFiUTpNoXG2PEVGQ",
      "include_colab_link": true
    },
    "kernelspec": {
      "name": "python3",
      "display_name": "Python 3"
    },
    "language_info": {
      "name": "python"
    }
  },
  "cells": [
    {
      "cell_type": "markdown",
      "metadata": {
        "id": "view-in-github",
        "colab_type": "text"
      },
      "source": [
        "<a href=\"https://colab.research.google.com/github/mobarakol/tutorial_notebooks/blob/main/SimCol_SCARED_Kitti_Intrinsic.ipynb\" target=\"_parent\"><img src=\"https://colab.research.google.com/assets/colab-badge.svg\" alt=\"Open In Colab\"/></a>"
      ]
    },
    {
      "cell_type": "markdown",
      "source": [
        "#SimCol: How to prepare intrinsic for reprojection loss\n",
        "\n",
        "Paper: https://arxiv.org/pdf/2307.11261\n",
        "\n",
        "Dataset: https://rdr.ucl.ac.uk/articles/dataset/Simcol3D_-_3D_Reconstruction_during_Colonoscopy_Challenge_Dataset/24077763\n",
        "\n",
        "Given camera intrinsic inside cam.txt file: 227.60416 0 227.60416 0 237.5 237.5  0 0 1\n",
        "\n",
        "Given camera intrinsic inside cam.txt file: fx 0 cx 0 fy cy 0 0 1\n",
        "\n",
        "Focal length: (fx fy)<br>\n",
        "Optical center: (cx cy)\n",
        "\n",
        "<img src=https://www.flir.fr/globalassets/support/iis/application-notes/tan2020004-stereo-vision/image019.png>"
      ],
      "metadata": {
        "id": "rA2hXaJmsBzf"
      }
    },
    {
      "cell_type": "markdown",
      "source": [
        "Method-1: Simplified\n",
        "\n",
        "Following:<br>\n",
        "(1) https://github.com/nianticlabs/monodepth2/issues/130<br>\n",
        "(2) https://github.com/nianticlabs/monodepth2/issues/6\n"
      ],
      "metadata": {
        "id": "lBrpDggW2g2Z"
      }
    },
    {
      "cell_type": "code",
      "source": [
        "import numpy as np\n",
        "fx = 227.60416\n",
        "fy = 237.5\n",
        "img_width =  475\n",
        "img_height = 475\n",
        "\n",
        "#Simplified intrinsic template matrix\n",
        "Norm_K = np.array([[fx / img_width, 0, 0.5, 0],\n",
        "                   [0, fy / img_height, 0.5, 0],\n",
        "                   [0, 0, 1, 0],\n",
        "                   [0, 0, 0, 1]], dtype=np.float32)\n",
        "\n",
        "print('AF-SfMlearner/Monodept2 Intrinsic:\\n', np.round(Norm_K, 3))\n",
        "\n",
        "print (\"In the very large majority of cases you should have fx = fy (unless you have an anamorphic lens)\")\n",
        "\n",
        "Norm_K = np.array([[fx / img_width, 0, 0.5, 0],\n",
        "                   [0, fx / img_height, 0.5, 0],\n",
        "                   [0, 0, 1, 0],\n",
        "                   [0, 0, 0, 1]], dtype=np.float32)\n",
        "\n",
        "print('AF-SfMlearner/Monodept2 Intrinsic:\\n', np.round(Norm_K, 3))"
      ],
      "metadata": {
        "colab": {
          "base_uri": "https://localhost:8080/"
        },
        "id": "Sr9R1wid2hKL",
        "outputId": "8f92b2b2-e990-4b83-e676-fab4a3fd6e1d"
      },
      "execution_count": 60,
      "outputs": [
        {
          "output_type": "stream",
          "name": "stdout",
          "text": [
            "AF-SfMlearner/Monodept2 Intrinsic:\n",
            " [[0.479 0.    0.5   0.   ]\n",
            " [0.    0.5   0.5   0.   ]\n",
            " [0.    0.    1.    0.   ]\n",
            " [0.    0.    0.    1.   ]]\n",
            "In the very large majority of cases you should have fx = fy (unless you have an anamorphic lens)\n",
            "AF-SfMlearner/Monodept2 Intrinsic:\n",
            " [[0.479 0.    0.5   0.   ]\n",
            " [0.    0.479 0.5   0.   ]\n",
            " [0.    0.    1.    0.   ]\n",
            " [0.    0.    0.    1.   ]]\n"
          ]
        }
      ]
    },
    {
      "cell_type": "markdown",
      "source": [
        "Method-2"
      ],
      "metadata": {
        "id": "L7m4hy_lw7-h"
      }
    },
    {
      "cell_type": "code",
      "execution_count": 25,
      "metadata": {
        "colab": {
          "base_uri": "https://localhost:8080/"
        },
        "id": "M1M9_YR8pTWf",
        "outputId": "06761db2-a313-4cd4-dc84-b393791f37b2"
      },
      "outputs": [
        {
          "output_type": "stream",
          "name": "stdout",
          "text": [
            "Norm Intrinsic:\n",
            " [[0.47916665 0.         0.47916665]\n",
            " [0.         0.5        0.5       ]\n",
            " [0.         0.         1.        ]]\n",
            "AF-SfMlearner/Monodept2 Intrinsic:\n",
            " [[0.479 0.    0.479 0.   ]\n",
            " [0.    0.5   0.5   0.   ]\n",
            " [0.    0.    1.    0.   ]\n",
            " [0.    0.    0.    1.   ]]\n"
          ]
        }
      ],
      "source": [
        "import numpy as np\n",
        "\n",
        "#Given Intrinsic in SimCol Datatset: 227.60416 0 227.60416 0 237.5 237.5  0 0 1\n",
        "Given_K = np.array([[227.60416,   0,           227.60416],\n",
        "                    [0,           237.5,       237.5],\n",
        "                    [0,           0,           1] ])\n",
        "\n",
        "#Normalising intrinsic to fit with AF-SfMlearner/Monodept2 dataloader:\n",
        "img_width =  475\n",
        "img_height = 475\n",
        "Given_K[0,:] /= img_width\n",
        "Given_K[1,:] /= img_height\n",
        "\n",
        "print('Norm Intrinsic:\\n', Given_K)\n",
        "\n",
        "# Obtaining 4x4 matrix as AF-SfMlearner\n",
        "K = np.eye(4)\n",
        "K[:3, :3] = np.round(Given_K,3)\n",
        "print('AF-SfMlearner/Monodept2 Intrinsic:\\n', K)"
      ]
    },
    {
      "cell_type": "markdown",
      "source": [
        "#SCARED: How to prepare intrinsic for reprojection loss\n",
        "\n",
        "Paper: https://arxiv.org/pdf/2101.01133"
      ],
      "metadata": {
        "id": "5-D0knEt54Mz"
      }
    },
    {
      "cell_type": "code",
      "source": [
        "import numpy as np\n",
        "\n",
        "fx = 1035.30811\n",
        "fy = 1035.08765\n",
        "\n",
        "img_width =  1280\n",
        "img_height = 1024\n",
        "Norm_K = np.array([[fx / img_width, 0, 0.5, 0],\n",
        "                   [0, fy / img_height, 0.5, 0],\n",
        "                   [0, 0, 1, 0],\n",
        "                   [0, 0, 0, 1]])\n",
        "\n",
        "print('AF-SfMlearner/Monodept2 Intrinsic:\\n', np.round(Norm_K, 2))\n",
        "\n",
        "print (\"In the very large majority of cases you should have fx = fy (unless you have an anamorphic lens)\")\n",
        "print(\"After averaging intrinsics from all the dataset sequence: avg_fx = 1049.60\")\n",
        "avg_fx = 1049.60\n",
        "Norm_K = np.array([[avg_fx / img_width, 0, 0.5, 0],\n",
        "                   [0, avg_fx / img_height, 0.5, 0],\n",
        "                   [0, 0, 1, 0],\n",
        "                   [0, 0, 0, 1]])\n",
        "\n",
        "print('AF-SfMlearner/Monodept2 Intrinsic:\\n', np.round(Norm_K, 2))"
      ],
      "metadata": {
        "colab": {
          "base_uri": "https://localhost:8080/"
        },
        "id": "JVuHATUV58oX",
        "outputId": "a0e23e18-f7d8-4dbb-b1ed-d027dcc34905"
      },
      "execution_count": 56,
      "outputs": [
        {
          "output_type": "stream",
          "name": "stdout",
          "text": [
            "AF-SfMlearner/Monodept2 Intrinsic:\n",
            " [[0.81 0.   0.5  0.  ]\n",
            " [0.   1.01 0.5  0.  ]\n",
            " [0.   0.   1.   0.  ]\n",
            " [0.   0.   0.   1.  ]]\n",
            "In the very large majority of cases you should have fx = fy (unless you have an anamorphic lens)\n",
            "After averaging intrinsics from all the dataset sequence: avg_fx = 1049.60\n",
            "AF-SfMlearner/Monodept2 Intrinsic:\n",
            " [[0.82 0.   0.5  0.  ]\n",
            " [0.   1.02 0.5  0.  ]\n",
            " [0.   0.   1.   0.  ]\n",
            " [0.   0.   0.   1.  ]]\n"
          ]
        }
      ]
    },
    {
      "cell_type": "markdown",
      "source": [
        "#Kitti Dataset:\n",
        "\n",
        "    Intrinsic of a sequence:<br>\n",
        "    [[7.070912e+02, 0.000000e+00, 6.018873e+02, 4.688783e+01],\n",
        "    [0.000000e+00, 7.070912e+02, 1.831104e+02, 1.178601e-01],\n",
        "    [0.000000e+00, 0.000000e+00, 1.000000e+00, 6.203223e-03]]"
      ],
      "metadata": {
        "id": "nSxFf9UG8SH9"
      }
    },
    {
      "cell_type": "code",
      "source": [
        "import numpy as np\n",
        "\n",
        "fx = 707.0912\n",
        "fy = 707.0912\n",
        "\n",
        "img_width =  1242\n",
        "img_height = 375\n",
        "Norm_K = np.array([[fx / img_width, 0, 0.5, 0],\n",
        "                   [0, fx / img_height, 0.5, 0],\n",
        "                   [0, 0, 1, 0],\n",
        "                   [0, 0, 0, 1]])\n",
        "\n",
        "print('AF-SfMlearner/Monodept2 Intrinsic:\\n', np.round(Norm_K, 2))\n",
        "\n",
        "print (\"In the very large majority of cases you should have fx = fy (unless you have an anamorphic lens)\")\n",
        "print(\"After averaging intrinsics from all the dataset sequence: avg_fx = 720.3599\")\n",
        "\n",
        "avg_fx = 720.3599\n",
        "Norm_K = np.array([[avg_fx / img_width, 0, 0.5, 0],\n",
        "                   [0, avg_fx / img_height, 0.5, 0],\n",
        "                   [0, 0, 1, 0],\n",
        "                   [0, 0, 0, 1]])\n",
        "\n",
        "print('AF-SfMlearner/Monodept2 Intrinsic:\\n', np.round(Norm_K, 2))"
      ],
      "metadata": {
        "colab": {
          "base_uri": "https://localhost:8080/"
        },
        "id": "vYNLTgzU6WQR",
        "outputId": "6fbd2ece-7324-4328-8abb-27b6ec49cd3e"
      },
      "execution_count": 59,
      "outputs": [
        {
          "output_type": "stream",
          "name": "stdout",
          "text": [
            "AF-SfMlearner/Monodept2 Intrinsic:\n",
            " [[0.57 0.   0.5  0.  ]\n",
            " [0.   1.89 0.5  0.  ]\n",
            " [0.   0.   1.   0.  ]\n",
            " [0.   0.   0.   1.  ]]\n",
            "In the very large majority of cases you should have fx = fy (unless you have an anamorphic lens)\n",
            "After averaging intrinsics from all the dataset sequence: avg_fx = 720.3599\n",
            "AF-SfMlearner/Monodept2 Intrinsic:\n",
            " [[0.58 0.   0.5  0.  ]\n",
            " [0.   1.92 0.5  0.  ]\n",
            " [0.   0.   1.   0.  ]\n",
            " [0.   0.   0.   1.  ]]\n"
          ]
        }
      ]
    }
  ]
}