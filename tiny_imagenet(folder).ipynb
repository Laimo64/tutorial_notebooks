{
  "nbformat": 4,
  "nbformat_minor": 0,
  "metadata": {
    "colab": {
      "name": "tiny_imagenet(folder).ipynb",
      "provenance": [],
      "authorship_tag": "ABX9TyNAsIChLIVuBywvcZ4/P4LL",
      "include_colab_link": true
    },
    "kernelspec": {
      "name": "python3",
      "display_name": "Python 3"
    },
    "language_info": {
      "name": "python"
    },
    "accelerator": "GPU",
    "widgets": {
      "application/vnd.jupyter.widget-state+json": {
        "3dff54db1a2a49598ca232fd4b5240f5": {
          "model_module": "@jupyter-widgets/controls",
          "model_name": "HBoxModel",
          "model_module_version": "1.5.0",
          "state": {
            "_dom_classes": [],
            "_model_module": "@jupyter-widgets/controls",
            "_model_module_version": "1.5.0",
            "_model_name": "HBoxModel",
            "_view_count": null,
            "_view_module": "@jupyter-widgets/controls",
            "_view_module_version": "1.5.0",
            "_view_name": "HBoxView",
            "box_style": "",
            "children": [
              "IPY_MODEL_242a9e3a86b74d27b2d29abb4156d115",
              "IPY_MODEL_4d717ad5bb9f4eff9f9b067c0f753d6f",
              "IPY_MODEL_6a8b41a6d7b54fb7aa01fd2af7767329"
            ],
            "layout": "IPY_MODEL_1de08b521bac45bb839ea5a32450c46a"
          }
        },
        "242a9e3a86b74d27b2d29abb4156d115": {
          "model_module": "@jupyter-widgets/controls",
          "model_name": "HTMLModel",
          "model_module_version": "1.5.0",
          "state": {
            "_dom_classes": [],
            "_model_module": "@jupyter-widgets/controls",
            "_model_module_version": "1.5.0",
            "_model_name": "HTMLModel",
            "_view_count": null,
            "_view_module": "@jupyter-widgets/controls",
            "_view_module_version": "1.5.0",
            "_view_name": "HTMLView",
            "description": "",
            "description_tooltip": null,
            "layout": "IPY_MODEL_16827739fb1d4d6eb09aa6afbc60d234",
            "placeholder": "​",
            "style": "IPY_MODEL_8e8c9e11fd964bf7ad14d59b0dedb5d4",
            "value": "100%"
          }
        },
        "4d717ad5bb9f4eff9f9b067c0f753d6f": {
          "model_module": "@jupyter-widgets/controls",
          "model_name": "FloatProgressModel",
          "model_module_version": "1.5.0",
          "state": {
            "_dom_classes": [],
            "_model_module": "@jupyter-widgets/controls",
            "_model_module_version": "1.5.0",
            "_model_name": "FloatProgressModel",
            "_view_count": null,
            "_view_module": "@jupyter-widgets/controls",
            "_view_module_version": "1.5.0",
            "_view_name": "ProgressView",
            "bar_style": "success",
            "description": "",
            "description_tooltip": null,
            "layout": "IPY_MODEL_c657e89f140e489facd27103b4722afd",
            "max": 102530333,
            "min": 0,
            "orientation": "horizontal",
            "style": "IPY_MODEL_be509099ac734c06bc458660ba0e7f7b",
            "value": 102530333
          }
        },
        "6a8b41a6d7b54fb7aa01fd2af7767329": {
          "model_module": "@jupyter-widgets/controls",
          "model_name": "HTMLModel",
          "model_module_version": "1.5.0",
          "state": {
            "_dom_classes": [],
            "_model_module": "@jupyter-widgets/controls",
            "_model_module_version": "1.5.0",
            "_model_name": "HTMLModel",
            "_view_count": null,
            "_view_module": "@jupyter-widgets/controls",
            "_view_module_version": "1.5.0",
            "_view_name": "HTMLView",
            "description": "",
            "description_tooltip": null,
            "layout": "IPY_MODEL_40d67d426ede41ab85ca33b832bd4d8c",
            "placeholder": "​",
            "style": "IPY_MODEL_0840d928353c43b0a54d6e269b0d53c8",
            "value": " 97.8M/97.8M [00:00&lt;00:00, 144MB/s]"
          }
        },
        "1de08b521bac45bb839ea5a32450c46a": {
          "model_module": "@jupyter-widgets/base",
          "model_name": "LayoutModel",
          "model_module_version": "1.2.0",
          "state": {
            "_model_module": "@jupyter-widgets/base",
            "_model_module_version": "1.2.0",
            "_model_name": "LayoutModel",
            "_view_count": null,
            "_view_module": "@jupyter-widgets/base",
            "_view_module_version": "1.2.0",
            "_view_name": "LayoutView",
            "align_content": null,
            "align_items": null,
            "align_self": null,
            "border": null,
            "bottom": null,
            "display": null,
            "flex": null,
            "flex_flow": null,
            "grid_area": null,
            "grid_auto_columns": null,
            "grid_auto_flow": null,
            "grid_auto_rows": null,
            "grid_column": null,
            "grid_gap": null,
            "grid_row": null,
            "grid_template_areas": null,
            "grid_template_columns": null,
            "grid_template_rows": null,
            "height": null,
            "justify_content": null,
            "justify_items": null,
            "left": null,
            "margin": null,
            "max_height": null,
            "max_width": null,
            "min_height": null,
            "min_width": null,
            "object_fit": null,
            "object_position": null,
            "order": null,
            "overflow": null,
            "overflow_x": null,
            "overflow_y": null,
            "padding": null,
            "right": null,
            "top": null,
            "visibility": null,
            "width": null
          }
        },
        "16827739fb1d4d6eb09aa6afbc60d234": {
          "model_module": "@jupyter-widgets/base",
          "model_name": "LayoutModel",
          "model_module_version": "1.2.0",
          "state": {
            "_model_module": "@jupyter-widgets/base",
            "_model_module_version": "1.2.0",
            "_model_name": "LayoutModel",
            "_view_count": null,
            "_view_module": "@jupyter-widgets/base",
            "_view_module_version": "1.2.0",
            "_view_name": "LayoutView",
            "align_content": null,
            "align_items": null,
            "align_self": null,
            "border": null,
            "bottom": null,
            "display": null,
            "flex": null,
            "flex_flow": null,
            "grid_area": null,
            "grid_auto_columns": null,
            "grid_auto_flow": null,
            "grid_auto_rows": null,
            "grid_column": null,
            "grid_gap": null,
            "grid_row": null,
            "grid_template_areas": null,
            "grid_template_columns": null,
            "grid_template_rows": null,
            "height": null,
            "justify_content": null,
            "justify_items": null,
            "left": null,
            "margin": null,
            "max_height": null,
            "max_width": null,
            "min_height": null,
            "min_width": null,
            "object_fit": null,
            "object_position": null,
            "order": null,
            "overflow": null,
            "overflow_x": null,
            "overflow_y": null,
            "padding": null,
            "right": null,
            "top": null,
            "visibility": null,
            "width": null
          }
        },
        "8e8c9e11fd964bf7ad14d59b0dedb5d4": {
          "model_module": "@jupyter-widgets/controls",
          "model_name": "DescriptionStyleModel",
          "model_module_version": "1.5.0",
          "state": {
            "_model_module": "@jupyter-widgets/controls",
            "_model_module_version": "1.5.0",
            "_model_name": "DescriptionStyleModel",
            "_view_count": null,
            "_view_module": "@jupyter-widgets/base",
            "_view_module_version": "1.2.0",
            "_view_name": "StyleView",
            "description_width": ""
          }
        },
        "c657e89f140e489facd27103b4722afd": {
          "model_module": "@jupyter-widgets/base",
          "model_name": "LayoutModel",
          "model_module_version": "1.2.0",
          "state": {
            "_model_module": "@jupyter-widgets/base",
            "_model_module_version": "1.2.0",
            "_model_name": "LayoutModel",
            "_view_count": null,
            "_view_module": "@jupyter-widgets/base",
            "_view_module_version": "1.2.0",
            "_view_name": "LayoutView",
            "align_content": null,
            "align_items": null,
            "align_self": null,
            "border": null,
            "bottom": null,
            "display": null,
            "flex": null,
            "flex_flow": null,
            "grid_area": null,
            "grid_auto_columns": null,
            "grid_auto_flow": null,
            "grid_auto_rows": null,
            "grid_column": null,
            "grid_gap": null,
            "grid_row": null,
            "grid_template_areas": null,
            "grid_template_columns": null,
            "grid_template_rows": null,
            "height": null,
            "justify_content": null,
            "justify_items": null,
            "left": null,
            "margin": null,
            "max_height": null,
            "max_width": null,
            "min_height": null,
            "min_width": null,
            "object_fit": null,
            "object_position": null,
            "order": null,
            "overflow": null,
            "overflow_x": null,
            "overflow_y": null,
            "padding": null,
            "right": null,
            "top": null,
            "visibility": null,
            "width": null
          }
        },
        "be509099ac734c06bc458660ba0e7f7b": {
          "model_module": "@jupyter-widgets/controls",
          "model_name": "ProgressStyleModel",
          "model_module_version": "1.5.0",
          "state": {
            "_model_module": "@jupyter-widgets/controls",
            "_model_module_version": "1.5.0",
            "_model_name": "ProgressStyleModel",
            "_view_count": null,
            "_view_module": "@jupyter-widgets/base",
            "_view_module_version": "1.2.0",
            "_view_name": "StyleView",
            "bar_color": null,
            "description_width": ""
          }
        },
        "40d67d426ede41ab85ca33b832bd4d8c": {
          "model_module": "@jupyter-widgets/base",
          "model_name": "LayoutModel",
          "model_module_version": "1.2.0",
          "state": {
            "_model_module": "@jupyter-widgets/base",
            "_model_module_version": "1.2.0",
            "_model_name": "LayoutModel",
            "_view_count": null,
            "_view_module": "@jupyter-widgets/base",
            "_view_module_version": "1.2.0",
            "_view_name": "LayoutView",
            "align_content": null,
            "align_items": null,
            "align_self": null,
            "border": null,
            "bottom": null,
            "display": null,
            "flex": null,
            "flex_flow": null,
            "grid_area": null,
            "grid_auto_columns": null,
            "grid_auto_flow": null,
            "grid_auto_rows": null,
            "grid_column": null,
            "grid_gap": null,
            "grid_row": null,
            "grid_template_areas": null,
            "grid_template_columns": null,
            "grid_template_rows": null,
            "height": null,
            "justify_content": null,
            "justify_items": null,
            "left": null,
            "margin": null,
            "max_height": null,
            "max_width": null,
            "min_height": null,
            "min_width": null,
            "object_fit": null,
            "object_position": null,
            "order": null,
            "overflow": null,
            "overflow_x": null,
            "overflow_y": null,
            "padding": null,
            "right": null,
            "top": null,
            "visibility": null,
            "width": null
          }
        },
        "0840d928353c43b0a54d6e269b0d53c8": {
          "model_module": "@jupyter-widgets/controls",
          "model_name": "DescriptionStyleModel",
          "model_module_version": "1.5.0",
          "state": {
            "_model_module": "@jupyter-widgets/controls",
            "_model_module_version": "1.5.0",
            "_model_name": "DescriptionStyleModel",
            "_view_count": null,
            "_view_module": "@jupyter-widgets/base",
            "_view_module_version": "1.2.0",
            "_view_name": "StyleView",
            "description_width": ""
          }
        }
      }
    }
  },
  "cells": [
    {
      "cell_type": "markdown",
      "metadata": {
        "id": "view-in-github",
        "colab_type": "text"
      },
      "source": [
        "<a href=\"https://colab.research.google.com/github/mobarakol/tutorial_notebooks/blob/main/tiny_imagenet(folder).ipynb\" target=\"_parent\"><img src=\"https://colab.research.google.com/assets/colab-badge.svg\" alt=\"Open In Colab\"/></a>"
      ]
    },
    {
      "cell_type": "markdown",
      "source": [
        "# Tiny-ImageNet\n",
        "It contains 200 classes from full imagenet dataset.<br>\n",
        "However, file structures are not for train and validation images. Train images are separated with a class-wise folder name where all validation images are a single folder. We need an additional propcessing to rearrange validation images into class-wise folders."
      ],
      "metadata": {
        "id": "gxGDnKghKvNI"
      }
    },
    {
      "cell_type": "markdown",
      "source": [
        "Donwload & unzip"
      ],
      "metadata": {
        "id": "pl6Makz8K5T_"
      }
    },
    {
      "cell_type": "code",
      "execution_count": 1,
      "metadata": {
        "colab": {
          "base_uri": "https://localhost:8080/"
        },
        "id": "0ViOjKNfKkPW",
        "outputId": "3380d684-542e-4a8a-d459-c3e0fa387ab6"
      },
      "outputs": [
        {
          "output_type": "stream",
          "name": "stdout",
          "text": [
            "--2022-04-29 17:14:17--  http://cs231n.stanford.edu/tiny-imagenet-200.zip\n",
            "Resolving cs231n.stanford.edu (cs231n.stanford.edu)... 171.64.68.10\n",
            "Connecting to cs231n.stanford.edu (cs231n.stanford.edu)|171.64.68.10|:80... connected.\n",
            "HTTP request sent, awaiting response... 200 OK\n",
            "Length: 248100043 (237M) [application/zip]\n",
            "Saving to: ‘tiny-imagenet-200.zip’\n",
            "\n",
            "tiny-imagenet-200.z 100%[===================>] 236.61M  51.0MB/s    in 5.7s    \n",
            "\n",
            "2022-04-29 17:14:23 (41.8 MB/s) - ‘tiny-imagenet-200.zip’ saved [248100043/248100043]\n",
            "\n"
          ]
        }
      ],
      "source": [
        "! wget http://cs231n.stanford.edu/tiny-imagenet-200.zip\n",
        "! unzip -q tiny-imagenet-200.zip"
      ]
    },
    {
      "cell_type": "markdown",
      "source": [
        "Preprocessing to rearranged the validation set in folders"
      ],
      "metadata": {
        "id": "QqUqXroILJCX"
      }
    },
    {
      "cell_type": "code",
      "source": [
        "import pandas as pd\n",
        "\n",
        "VALID_DIR = 'tiny-imagenet-200/val'\n",
        "val_data = pd.read_csv(f'{VALID_DIR}/val_annotations.txt', sep='\\t', \n",
        "                            header=None, names=['File', 'Class', 'X', 'Y', 'H', 'W'])\n",
        "\n",
        "val_data.head()"
      ],
      "metadata": {
        "colab": {
          "base_uri": "https://localhost:8080/",
          "height": 206
        },
        "id": "zVuaH9IYK_Cc",
        "outputId": "0904b01c-c235-4fd3-a645-34e1c068bae3"
      },
      "execution_count": 2,
      "outputs": [
        {
          "output_type": "execute_result",
          "data": {
            "text/plain": [
              "         File      Class   X   Y   H   W\n",
              "0  val_0.JPEG  n03444034   0  32  44  62\n",
              "1  val_1.JPEG  n04067472  52  55  57  59\n",
              "2  val_2.JPEG  n04070727   4   0  60  55\n",
              "3  val_3.JPEG  n02808440   3   3  63  63\n",
              "4  val_4.JPEG  n02808440   9  27  63  48"
            ],
            "text/html": [
              "\n",
              "  <div id=\"df-0098d8ed-9efa-4d02-b3b2-4f782d523a84\">\n",
              "    <div class=\"colab-df-container\">\n",
              "      <div>\n",
              "<style scoped>\n",
              "    .dataframe tbody tr th:only-of-type {\n",
              "        vertical-align: middle;\n",
              "    }\n",
              "\n",
              "    .dataframe tbody tr th {\n",
              "        vertical-align: top;\n",
              "    }\n",
              "\n",
              "    .dataframe thead th {\n",
              "        text-align: right;\n",
              "    }\n",
              "</style>\n",
              "<table border=\"1\" class=\"dataframe\">\n",
              "  <thead>\n",
              "    <tr style=\"text-align: right;\">\n",
              "      <th></th>\n",
              "      <th>File</th>\n",
              "      <th>Class</th>\n",
              "      <th>X</th>\n",
              "      <th>Y</th>\n",
              "      <th>H</th>\n",
              "      <th>W</th>\n",
              "    </tr>\n",
              "  </thead>\n",
              "  <tbody>\n",
              "    <tr>\n",
              "      <th>0</th>\n",
              "      <td>val_0.JPEG</td>\n",
              "      <td>n03444034</td>\n",
              "      <td>0</td>\n",
              "      <td>32</td>\n",
              "      <td>44</td>\n",
              "      <td>62</td>\n",
              "    </tr>\n",
              "    <tr>\n",
              "      <th>1</th>\n",
              "      <td>val_1.JPEG</td>\n",
              "      <td>n04067472</td>\n",
              "      <td>52</td>\n",
              "      <td>55</td>\n",
              "      <td>57</td>\n",
              "      <td>59</td>\n",
              "    </tr>\n",
              "    <tr>\n",
              "      <th>2</th>\n",
              "      <td>val_2.JPEG</td>\n",
              "      <td>n04070727</td>\n",
              "      <td>4</td>\n",
              "      <td>0</td>\n",
              "      <td>60</td>\n",
              "      <td>55</td>\n",
              "    </tr>\n",
              "    <tr>\n",
              "      <th>3</th>\n",
              "      <td>val_3.JPEG</td>\n",
              "      <td>n02808440</td>\n",
              "      <td>3</td>\n",
              "      <td>3</td>\n",
              "      <td>63</td>\n",
              "      <td>63</td>\n",
              "    </tr>\n",
              "    <tr>\n",
              "      <th>4</th>\n",
              "      <td>val_4.JPEG</td>\n",
              "      <td>n02808440</td>\n",
              "      <td>9</td>\n",
              "      <td>27</td>\n",
              "      <td>63</td>\n",
              "      <td>48</td>\n",
              "    </tr>\n",
              "  </tbody>\n",
              "</table>\n",
              "</div>\n",
              "      <button class=\"colab-df-convert\" onclick=\"convertToInteractive('df-0098d8ed-9efa-4d02-b3b2-4f782d523a84')\"\n",
              "              title=\"Convert this dataframe to an interactive table.\"\n",
              "              style=\"display:none;\">\n",
              "        \n",
              "  <svg xmlns=\"http://www.w3.org/2000/svg\" height=\"24px\"viewBox=\"0 0 24 24\"\n",
              "       width=\"24px\">\n",
              "    <path d=\"M0 0h24v24H0V0z\" fill=\"none\"/>\n",
              "    <path d=\"M18.56 5.44l.94 2.06.94-2.06 2.06-.94-2.06-.94-.94-2.06-.94 2.06-2.06.94zm-11 1L8.5 8.5l.94-2.06 2.06-.94-2.06-.94L8.5 2.5l-.94 2.06-2.06.94zm10 10l.94 2.06.94-2.06 2.06-.94-2.06-.94-.94-2.06-.94 2.06-2.06.94z\"/><path d=\"M17.41 7.96l-1.37-1.37c-.4-.4-.92-.59-1.43-.59-.52 0-1.04.2-1.43.59L10.3 9.45l-7.72 7.72c-.78.78-.78 2.05 0 2.83L4 21.41c.39.39.9.59 1.41.59.51 0 1.02-.2 1.41-.59l7.78-7.78 2.81-2.81c.8-.78.8-2.07 0-2.86zM5.41 20L4 18.59l7.72-7.72 1.47 1.35L5.41 20z\"/>\n",
              "  </svg>\n",
              "      </button>\n",
              "      \n",
              "  <style>\n",
              "    .colab-df-container {\n",
              "      display:flex;\n",
              "      flex-wrap:wrap;\n",
              "      gap: 12px;\n",
              "    }\n",
              "\n",
              "    .colab-df-convert {\n",
              "      background-color: #E8F0FE;\n",
              "      border: none;\n",
              "      border-radius: 50%;\n",
              "      cursor: pointer;\n",
              "      display: none;\n",
              "      fill: #1967D2;\n",
              "      height: 32px;\n",
              "      padding: 0 0 0 0;\n",
              "      width: 32px;\n",
              "    }\n",
              "\n",
              "    .colab-df-convert:hover {\n",
              "      background-color: #E2EBFA;\n",
              "      box-shadow: 0px 1px 2px rgba(60, 64, 67, 0.3), 0px 1px 3px 1px rgba(60, 64, 67, 0.15);\n",
              "      fill: #174EA6;\n",
              "    }\n",
              "\n",
              "    [theme=dark] .colab-df-convert {\n",
              "      background-color: #3B4455;\n",
              "      fill: #D2E3FC;\n",
              "    }\n",
              "\n",
              "    [theme=dark] .colab-df-convert:hover {\n",
              "      background-color: #434B5C;\n",
              "      box-shadow: 0px 1px 3px 1px rgba(0, 0, 0, 0.15);\n",
              "      filter: drop-shadow(0px 1px 2px rgba(0, 0, 0, 0.3));\n",
              "      fill: #FFFFFF;\n",
              "    }\n",
              "  </style>\n",
              "\n",
              "      <script>\n",
              "        const buttonEl =\n",
              "          document.querySelector('#df-0098d8ed-9efa-4d02-b3b2-4f782d523a84 button.colab-df-convert');\n",
              "        buttonEl.style.display =\n",
              "          google.colab.kernel.accessAllowed ? 'block' : 'none';\n",
              "\n",
              "        async function convertToInteractive(key) {\n",
              "          const element = document.querySelector('#df-0098d8ed-9efa-4d02-b3b2-4f782d523a84');\n",
              "          const dataTable =\n",
              "            await google.colab.kernel.invokeFunction('convertToInteractive',\n",
              "                                                     [key], {});\n",
              "          if (!dataTable) return;\n",
              "\n",
              "          const docLinkHtml = 'Like what you see? Visit the ' +\n",
              "            '<a target=\"_blank\" href=https://colab.research.google.com/notebooks/data_table.ipynb>data table notebook</a>'\n",
              "            + ' to learn more about interactive tables.';\n",
              "          element.innerHTML = '';\n",
              "          dataTable['output_type'] = 'display_data';\n",
              "          await google.colab.output.renderOutput(dataTable, element);\n",
              "          const docLink = document.createElement('div');\n",
              "          docLink.innerHTML = docLinkHtml;\n",
              "          element.appendChild(docLink);\n",
              "        }\n",
              "      </script>\n",
              "    </div>\n",
              "  </div>\n",
              "  "
            ]
          },
          "metadata": {},
          "execution_count": 2
        }
      ]
    },
    {
      "cell_type": "code",
      "source": [
        "import os\n",
        "VALID_DIR = 'tiny-imagenet-200/val'\n",
        "val_img_dir = os.path.join(VALID_DIR, 'images')\n",
        "fp = open(os.path.join(VALID_DIR, 'val_annotations.txt'), 'r')\n",
        "data = fp.readlines()\n",
        "\n",
        "# Mapping image file name with label name\n",
        "val_img_dict = {}\n",
        "for line in data:\n",
        "    words = line.split('\\t')\n",
        "    val_img_dict[words[0]] = words[1]\n",
        "fp.close()\n",
        "\n",
        "# moving images into corresponding class folders\n",
        "for img, folder in val_img_dict.items():\n",
        "    newpath = (os.path.join(val_img_dir, folder))\n",
        "    if not os.path.exists(newpath):\n",
        "        os.makedirs(newpath)\n",
        "    if os.path.exists(os.path.join(val_img_dir, img)):\n",
        "        os.rename(os.path.join(val_img_dir, img), os.path.join(newpath, img))\n"
      ],
      "metadata": {
        "id": "XjwpS-xdLglp"
      },
      "execution_count": 3,
      "outputs": []
    },
    {
      "cell_type": "markdown",
      "source": [
        "Training CNN model"
      ],
      "metadata": {
        "id": "TfQmThl_RS-O"
      }
    },
    {
      "cell_type": "code",
      "source": [
        "import torch\n",
        "import torch.nn as nn\n",
        "import torch.optim as optim\n",
        "import torch.nn.functional as F\n",
        "import torchvision\n",
        "from torchvision import datasets\n",
        "from torchvision import models\n",
        "import torchvision.transforms as transforms\n",
        "import os\n",
        "import argparse\n",
        "import copy\n",
        "import random\n",
        "import numpy as np\n",
        "device = 'cuda' if torch.cuda.is_available() else 'cpu'\n",
        "def seed_everything(seed=42):\n",
        "    random.seed(seed)\n",
        "    torch.manual_seed(seed)\n",
        "    torch.cuda.manual_seed_all(seed)\n",
        "    np.random.seed(seed)\n",
        "    os.environ['PYTHONHASHSEED'] = str(seed)\n",
        "    torch.backends.cudnn.deterministic = True\n",
        "    torch.backends.cudnn.benchmark = False\n",
        "parser = argparse.ArgumentParser(description='CIFAR-10H Training')\n",
        "parser.add_argument('--lr', default=0.1, type=float, help='learning rate')\n",
        "parser.add_argument('--lr_schedule', default=0, type=int, help='lr scheduler')\n",
        "parser.add_argument('--train_batch', default=512, type=int, help='batch size')\n",
        "parser.add_argument('--valid_batch', default=1024, type=int, help='batch size')\n",
        "parser.add_argument('--num_epoch', default=100, type=int, help='epoch number')\n",
        "parser.add_argument('--num_classes', type=int, default=200, help='number classes')\n",
        "args = parser.parse_args(args=[])\n",
        "\n",
        "def train(model, trainloader, criterion, optimizer):\n",
        "    model.train()\n",
        "    for batch_idx, (inputs, targets) in enumerate(trainloader):\n",
        "        inputs, targets = inputs.to(device), targets.to(device)\n",
        "        optimizer.zero_grad()\n",
        "        outputs = model(inputs)\n",
        "        loss = criterion(outputs, targets)\n",
        "        loss.backward()\n",
        "        optimizer.step()\n",
        "\n",
        "def test(model, testloader):\n",
        "    model.eval()\n",
        "    correct = 0\n",
        "    total = 0\n",
        "    with torch.no_grad():\n",
        "        for batch_idx, (inputs, targets) in enumerate(testloader):\n",
        "            inputs, targets = inputs.to(device), targets.to(device)\n",
        "            outputs = model(inputs)\n",
        "            _, predicted = outputs.max(1)\n",
        "            total += targets.size(0)\n",
        "            correct += predicted.eq(targets).sum().item()\n",
        "    return correct / total"
      ],
      "metadata": {
        "id": "UTn-SmzfNkk4"
      },
      "execution_count": 4,
      "outputs": []
    },
    {
      "cell_type": "markdown",
      "source": [
        "Training"
      ],
      "metadata": {
        "id": "Q6CZ-swoSWsw"
      }
    },
    {
      "cell_type": "code",
      "source": [
        "seed_everything()\n",
        "VALID_DIR = 'tiny-imagenet-200/val'\n",
        "val_img_dir = os.path.join(VALID_DIR, 'images')\n",
        "TRAIN_DIR = 'tiny-imagenet-200/train'\n",
        "transform_train = transforms.Compose([transforms.Resize(64), transforms.RandomHorizontalFlip(), \n",
        "        transforms.ToTensor(), transforms.Normalize((0.485, 0.456, 0.406,), (0.229, 0.224, 0.225,))]\n",
        "        )\n",
        "transform_test = transforms.Compose([transforms.Resize(64), transforms.ToTensor(),\n",
        "        transforms.Normalize((0.485, 0.456, 0.406,), (0.229, 0.224, 0.225,))]\n",
        "        )\n",
        "\n",
        "train_dataset = datasets.ImageFolder(os.path.join(TRAIN_DIR),\n",
        "            transform=transform_train,)\n",
        "test_dataset = datasets.ImageFolder(os.path.join(val_img_dir),\n",
        "    transform=transform_test,)\n",
        "\n",
        "\n",
        "trainloader = torch.utils.data.DataLoader(train_dataset, batch_size=args.train_batch, shuffle=True,\n",
        "                                          num_workers=2, pin_memory=True)\n",
        "testloader = torch.utils.data.DataLoader(test_dataset, batch_size=args.valid_batch, shuffle=False, \n",
        "                                         num_workers=2, pin_memory=True)\n",
        "print('sample size- Train:%d, Validation:%d'%(len(train_dataset), len(test_dataset)))\n",
        "\n",
        "\n",
        "model = models.resnet50(pretrained=True).to(device)\n",
        "model.fc = torch.nn.Linear(model.fc.in_features, args.num_classes)\n",
        "model.to(device)\n",
        "\n",
        "optimizer = optim.SGD(model.parameters(), lr=args.lr, momentum=0.9, weight_decay=5e-4)\n",
        "criterion = nn.CrossEntropyLoss()\n",
        "best_epoch, best_acc = 0, 0\n",
        "for epoch in range(args.num_epoch):\n",
        "    for epoch in range(args.num_epoch):\n",
        "        if epoch != 0 and epoch < 100 and epoch % 30 == 0:\n",
        "            for param in optimizer.param_groups:\n",
        "                param['lr'] = param['lr'] / 10 \n",
        "        train(model, trainloader, criterion, optimizer)\n",
        "        accuracy = test(model, testloader)\n",
        "        if accuracy > best_acc:\n",
        "            patience = 0\n",
        "            best_acc = accuracy\n",
        "            best_epoch = epoch\n",
        "            best_model = copy.deepcopy(model)\n",
        "            torch.save(best_model.state_dict(), 'best_model_tiny_imagenet.pth.tar')\n",
        "        print('epoch: {}  acc: {:.4f}  best epoch: {}  best acc: {:.4f}'.format(\n",
        "                epoch, accuracy, best_epoch, best_acc, optimizer.param_groups[0]['lr']))"
      ],
      "metadata": {
        "colab": {
          "base_uri": "https://localhost:8080/",
          "height": 1000,
          "referenced_widgets": [
            "3dff54db1a2a49598ca232fd4b5240f5",
            "242a9e3a86b74d27b2d29abb4156d115",
            "4d717ad5bb9f4eff9f9b067c0f753d6f",
            "6a8b41a6d7b54fb7aa01fd2af7767329",
            "1de08b521bac45bb839ea5a32450c46a",
            "16827739fb1d4d6eb09aa6afbc60d234",
            "8e8c9e11fd964bf7ad14d59b0dedb5d4",
            "c657e89f140e489facd27103b4722afd",
            "be509099ac734c06bc458660ba0e7f7b",
            "40d67d426ede41ab85ca33b832bd4d8c",
            "0840d928353c43b0a54d6e269b0d53c8"
          ]
        },
        "id": "O5IYHVb5Rukr",
        "outputId": "3848b72b-b88b-4752-9edb-54ff1a18a44e"
      },
      "execution_count": null,
      "outputs": [
        {
          "metadata": {
            "tags": null
          },
          "name": "stdout",
          "output_type": "stream",
          "text": [
            "sample size- Train:100000, Validation:10000\n"
          ]
        },
        {
          "metadata": {
            "tags": null
          },
          "name": "stderr",
          "output_type": "stream",
          "text": [
            "Downloading: \"https://download.pytorch.org/models/resnet50-0676ba61.pth\" to /root/.cache/torch/hub/checkpoints/resnet50-0676ba61.pth\n"
          ]
        },
        {
          "data": {
            "application/vnd.jupyter.widget-view+json": {
              "model_id": "3dff54db1a2a49598ca232fd4b5240f5",
              "version_major": 2,
              "version_minor": 0
            },
            "text/plain": [
              "  0%|          | 0.00/97.8M [00:00<?, ?B/s]"
            ]
          },
          "metadata": {},
          "output_type": "display_data"
        },
        {
          "output_type": "stream",
          "name": "stdout",
          "text": [
            "epoch: 0  acc: 0.3521  best epoch: 0  best acc: 0.3521\n",
            "epoch: 1  acc: 0.4039  best epoch: 1  best acc: 0.4039\n",
            "epoch: 2  acc: 0.4224  best epoch: 2  best acc: 0.4224\n",
            "epoch: 3  acc: 0.3809  best epoch: 2  best acc: 0.4224\n",
            "epoch: 4  acc: 0.4527  best epoch: 4  best acc: 0.4527\n",
            "epoch: 5  acc: 0.4381  best epoch: 4  best acc: 0.4527\n",
            "epoch: 6  acc: 0.4396  best epoch: 4  best acc: 0.4527\n",
            "epoch: 7  acc: 0.4411  best epoch: 4  best acc: 0.4527\n",
            "epoch: 8  acc: 0.4589  best epoch: 8  best acc: 0.4589\n",
            "epoch: 9  acc: 0.4326  best epoch: 8  best acc: 0.4589\n",
            "epoch: 10  acc: 0.4357  best epoch: 8  best acc: 0.4589\n",
            "epoch: 11  acc: 0.4527  best epoch: 8  best acc: 0.4589\n",
            "epoch: 12  acc: 0.4206  best epoch: 8  best acc: 0.4589\n",
            "epoch: 13  acc: 0.4348  best epoch: 8  best acc: 0.4589\n",
            "epoch: 14  acc: 0.4131  best epoch: 8  best acc: 0.4589\n",
            "epoch: 15  acc: 0.4242  best epoch: 8  best acc: 0.4589\n",
            "epoch: 16  acc: 0.4239  best epoch: 8  best acc: 0.4589\n",
            "epoch: 17  acc: 0.4374  best epoch: 8  best acc: 0.4589\n",
            "epoch: 18  acc: 0.4402  best epoch: 8  best acc: 0.4589\n",
            "epoch: 19  acc: 0.4091  best epoch: 8  best acc: 0.4589\n",
            "epoch: 20  acc: 0.4354  best epoch: 8  best acc: 0.4589\n",
            "epoch: 21  acc: 0.4199  best epoch: 8  best acc: 0.4589\n",
            "epoch: 22  acc: 0.4283  best epoch: 8  best acc: 0.4589\n",
            "epoch: 23  acc: 0.4214  best epoch: 8  best acc: 0.4589\n",
            "epoch: 24  acc: 0.4254  best epoch: 8  best acc: 0.4589\n",
            "epoch: 25  acc: 0.4244  best epoch: 8  best acc: 0.4589\n",
            "epoch: 26  acc: 0.3902  best epoch: 8  best acc: 0.4589\n",
            "epoch: 27  acc: 0.4300  best epoch: 8  best acc: 0.4589\n",
            "epoch: 28  acc: 0.4007  best epoch: 8  best acc: 0.4589\n",
            "epoch: 29  acc: 0.4267  best epoch: 8  best acc: 0.4589\n",
            "epoch: 30  acc: 0.5422  best epoch: 30  best acc: 0.5422\n",
            "epoch: 31  acc: 0.5435  best epoch: 31  best acc: 0.5435\n",
            "epoch: 32  acc: 0.5444  best epoch: 32  best acc: 0.5444\n",
            "epoch: 33  acc: 0.5463  best epoch: 33  best acc: 0.5463\n",
            "epoch: 34  acc: 0.5489  best epoch: 34  best acc: 0.5489\n",
            "epoch: 35  acc: 0.5483  best epoch: 34  best acc: 0.5489\n",
            "epoch: 36  acc: 0.5498  best epoch: 36  best acc: 0.5498\n",
            "epoch: 37  acc: 0.5501  best epoch: 37  best acc: 0.5501\n",
            "epoch: 38  acc: 0.5510  best epoch: 38  best acc: 0.5510\n",
            "epoch: 39  acc: 0.5517  best epoch: 39  best acc: 0.5517\n",
            "epoch: 40  acc: 0.5501  best epoch: 39  best acc: 0.5517\n",
            "epoch: 41  acc: 0.5512  best epoch: 39  best acc: 0.5517\n",
            "epoch: 42  acc: 0.5512  best epoch: 39  best acc: 0.5517\n",
            "epoch: 43  acc: 0.5508  best epoch: 39  best acc: 0.5517\n",
            "epoch: 44  acc: 0.5518  best epoch: 44  best acc: 0.5518\n",
            "epoch: 45  acc: 0.5525  best epoch: 45  best acc: 0.5525\n",
            "epoch: 46  acc: 0.5523  best epoch: 45  best acc: 0.5525\n",
            "epoch: 47  acc: 0.5530  best epoch: 47  best acc: 0.5530\n",
            "epoch: 48  acc: 0.5521  best epoch: 47  best acc: 0.5530\n",
            "epoch: 49  acc: 0.5545  best epoch: 49  best acc: 0.5545\n",
            "epoch: 50  acc: 0.5523  best epoch: 49  best acc: 0.5545\n",
            "epoch: 51  acc: 0.5537  best epoch: 49  best acc: 0.5545\n",
            "epoch: 52  acc: 0.5539  best epoch: 49  best acc: 0.5545\n",
            "epoch: 53  acc: 0.5519  best epoch: 49  best acc: 0.5545\n",
            "epoch: 54  acc: 0.5544  best epoch: 49  best acc: 0.5545\n",
            "epoch: 55  acc: 0.5526  best epoch: 49  best acc: 0.5545\n"
          ]
        }
      ]
    },
    {
      "cell_type": "code",
      "source": [
        ""
      ],
      "metadata": {
        "id": "iJ_xC-ZkSYId"
      },
      "execution_count": null,
      "outputs": []
    }
  ]
}