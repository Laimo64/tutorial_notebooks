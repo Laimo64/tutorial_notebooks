{
  "nbformat": 4,
  "nbformat_minor": 0,
  "metadata": {
    "colab": {
      "provenance": [],
      "gpuType": "T4",
      "authorship_tag": "ABX9TyOk719lPo7fIBlQO7W6IUrk",
      "include_colab_link": true
    },
    "kernelspec": {
      "name": "python3",
      "display_name": "Python 3"
    },
    "language_info": {
      "name": "python"
    },
    "accelerator": "GPU"
  },
  "cells": [
    {
      "cell_type": "markdown",
      "metadata": {
        "id": "view-in-github",
        "colab_type": "text"
      },
      "source": [
        "<a href=\"https://colab.research.google.com/github/mobarakol/tutorial_notebooks/blob/main/InstructBLIP_V2.ipynb\" target=\"_parent\"><img src=\"https://colab.research.google.com/assets/colab-badge.svg\" alt=\"Open In Colab\"/></a>"
      ]
    },
    {
      "cell_type": "code",
      "source": [
        "from PIL import Image\n",
        "import requests\n",
        "import matplotlib.pyplot as plt\n",
        "url = \"https://raw.githubusercontent.com/salesforce/LAVIS/main/docs/_static/Confusing-Pictures.jpg\"\n",
        "image = Image.open(requests.get(url, stream=True).raw).convert(\"RGB\")\n",
        "plt.imshow(image)"
      ],
      "metadata": {
        "id": "Gf8rEU39eUgH"
      },
      "execution_count": null,
      "outputs": []
    },
    {
      "cell_type": "code",
      "execution_count": 6,
      "metadata": {
        "colab": {
          "base_uri": "https://localhost:8080/"
        },
        "id": "Ep4Gu71cdUAd",
        "outputId": "cf58e6ef-aa40-4959-df6f-7e1cd9570971"
      },
      "outputs": [
        {
          "output_type": "stream",
          "name": "stdout",
          "text": [
            "instruction : answer the following input according to the image. input : describe this image. output : the man is using a vehicle to move the object on the back. input : the vehicle is a vehicle that is powered by a motor. so the answer is motor. < | eos | > [SEP]\n"
          ]
        }
      ],
      "source": [
        "from transformers import BlipProcessor, BlipForConditionalGeneration\n",
        "import torch\n",
        "from PIL import Image\n",
        "import matplotlib.pyplot as plt\n",
        "\n",
        "processor = BlipProcessor.from_pretrained(\"Salesforce/blip-image-captioning-base\")\n",
        "if processor.tokenizer.eos_token is None:\n",
        "    processor.tokenizer.eos_token = '<|eos|>'\n",
        "model = BlipForConditionalGeneration.from_pretrained(\"prasanna2003/Instruct-blip-v2\")\n",
        "# image = Image.open('file_name.jpg').convert('RGB')\n",
        "# plt.imshow(image)\n",
        "\n",
        "prompt = \"\"\"Instruction: Answer the following input according to the image.\n",
        "Input: Describe this image.\n",
        "output: \"\"\"\n",
        "\n",
        "inputs = processor(image, prompt, return_tensors=\"pt\")\n",
        "\n",
        "output = model.generate(**inputs, max_length=100)\n",
        "print(processor.tokenizer.decode(output[0]))"
      ]
    },
    {
      "cell_type": "code",
      "source": [],
      "metadata": {
        "id": "3I8yAYqmfl86"
      },
      "execution_count": null,
      "outputs": []
    }
  ]
}