{
  "nbformat": 4,
  "nbformat_minor": 0,
  "metadata": {
    "colab": {
      "provenance": [],
      "gpuType": "T4",
      "include_colab_link": true
    },
    "kernelspec": {
      "name": "python3",
      "display_name": "Python 3"
    },
    "language_info": {
      "name": "python"
    },
    "accelerator": "GPU"
  },
  "cells": [
    {
      "cell_type": "markdown",
      "metadata": {
        "id": "view-in-github",
        "colab_type": "text"
      },
      "source": [
        "<a href=\"https://colab.research.google.com/github/mobarakol/tutorial_notebooks/blob/main/SWIN_DETR_training.ipynb\" target=\"_parent\"><img src=\"https://colab.research.google.com/assets/colab-badge.svg\" alt=\"Open In Colab\"/></a>"
      ]
    },
    {
      "cell_type": "markdown",
      "source": [
        "# DETR training process\n"
      ],
      "metadata": {
        "id": "udwFrw6ZiYP6"
      }
    },
    {
      "cell_type": "markdown",
      "source": [
        "Clone DETR Repo after changing to our dataset"
      ],
      "metadata": {
        "id": "d9AQWNd9gKQa"
      }
    },
    {
      "cell_type": "code",
      "execution_count": null,
      "metadata": {
        "colab": {
          "base_uri": "https://localhost:8080/"
        },
        "id": "Pax7w1zmgEJ0",
        "outputId": "caa95b7d-3bbf-4e20-9c37-597654995eef"
      },
      "outputs": [
        {
          "output_type": "stream",
          "name": "stdout",
          "text": [
            "Cloning into 'DETR_Robotic_Surgery'...\n",
            "remote: Enumerating objects: 136, done.\u001b[K\n",
            "remote: Counting objects: 100% (56/56), done.\u001b[K\n",
            "remote: Compressing objects: 100% (55/55), done.\u001b[K\n",
            "remote: Total 136 (delta 18), reused 0 (delta 0), pack-reused 80\u001b[K\n",
            "Receiving objects: 100% (136/136), 24.64 MiB | 12.06 MiB/s, done.\n",
            "Resolving deltas: 100% (36/36), done.\n",
            "/content/DETR_Robotic_Surgery\n"
          ]
        }
      ],
      "source": [
        "!git clone https://github.com/Ilvecoding0912/DETR_Robotic_Surgery.git\n",
        "%cd DETR_Robotic_Surgery"
      ]
    },
    {
      "cell_type": "markdown",
      "source": [
        "Download DETR weights"
      ],
      "metadata": {
        "id": "npD6VBwsxc3m"
      }
    },
    {
      "cell_type": "code",
      "source": [
        "import gdown\n",
        "\n",
        "url = 'https://drive.google.com/uc?id=1HV2Tit0CsVeYKHugjx8QxROPegQa3AV-'\n",
        "gdown.download(url,'detr_weights.pth',quiet=True)"
      ],
      "metadata": {
        "colab": {
          "base_uri": "https://localhost:8080/",
          "height": 35
        },
        "id": "zD1ubNUGtKKi",
        "outputId": "a624fe82-7ece-45ae-9b3e-e2154784f51a"
      },
      "execution_count": null,
      "outputs": [
        {
          "output_type": "execute_result",
          "data": {
            "text/plain": [
              "'detr_weights.pth'"
            ],
            "application/vnd.google.colaboratory.intrinsic+json": {
              "type": "string"
            }
          },
          "metadata": {},
          "execution_count": 2
        }
      ]
    },
    {
      "cell_type": "code",
      "source": [
        "!pip -q install timm"
      ],
      "metadata": {
        "colab": {
          "base_uri": "https://localhost:8080/"
        },
        "id": "GoglqRuWeh1v",
        "outputId": "f7f8c46e-0246-4bac-f421-56d22231c9a1"
      },
      "execution_count": null,
      "outputs": [
        {
          "output_type": "stream",
          "name": "stdout",
          "text": [
            "\u001b[2K     \u001b[90m━━━━━━━━━━━━━━━━━━━━━━━━━━━━━━━━━━━━━━━━\u001b[0m \u001b[32m2.2/2.2 MB\u001b[0m \u001b[31m11.1 MB/s\u001b[0m eta \u001b[36m0:00:00\u001b[0m\n",
            "\u001b[2K     \u001b[90m━━━━━━━━━━━━━━━━━━━━━━━━━━━━━━━━━━━━━━\u001b[0m \u001b[32m268.8/268.8 kB\u001b[0m \u001b[31m13.2 MB/s\u001b[0m eta \u001b[36m0:00:00\u001b[0m\n",
            "\u001b[2K     \u001b[90m━━━━━━━━━━━━━━━━━━━━━━━━━━━━━━━━━━━━━━━━\u001b[0m \u001b[32m1.3/1.3 MB\u001b[0m \u001b[31m18.6 MB/s\u001b[0m eta \u001b[36m0:00:00\u001b[0m\n",
            "\u001b[?25h"
          ]
        }
      ]
    },
    {
      "cell_type": "markdown",
      "source": [
        "Resizing the input into 224x224:"
      ],
      "metadata": {
        "id": "LzuioT4pkIQT"
      }
    },
    {
      "cell_type": "code",
      "source": [
        "def replace_text_in_file(search_path, replace_path, search_text=None, replace_text=None):\n",
        "    with open(search_path, 'r') as file: content = file.read()\n",
        "    modified_content = content.replace(search_text, replace_text)\n",
        "    with open(replace_path, 'w') as file: file.write(modified_content)\n",
        "\n",
        "file_path = '/content/DETR_Robotic_Surgery/datasets/coco.py'\n",
        "replace_text_in_file(file_path, file_path, search_text='1024', replace_text='224')"
      ],
      "metadata": {
        "id": "t_V6ITX6bsz1"
      },
      "execution_count": null,
      "outputs": []
    },
    {
      "cell_type": "code",
      "source": [
        "%cd /content/DETR_Robotic_Surgery\n",
        "from collections import OrderedDict\n",
        "import torch\n",
        "from torch import nn\n",
        "from typing import Dict, List\n",
        "from util.misc import NestedTensor\n",
        "import torch.nn.functional as F\n",
        "from models.position_encoding import build_position_encoding\n",
        "from timm import create_model\n",
        "\n",
        "\n",
        "class backboneSWIN(nn.Module):\n",
        "\n",
        "    def __init__(self, ):\n",
        "        super().__init__()\n",
        "        self.swintran = create_model(\"swin_base_patch4_window7_224\", pretrained=True)\n",
        "        self.swintran.eval()\n",
        "        for param in self.swintran.parameters():\n",
        "            param.requires_grad = False\n",
        "\n",
        "\n",
        "\n",
        "    def forward(self, tensor_list: NestedTensor):\n",
        "        xs = OrderedDict()\n",
        "        with torch.no_grad():\n",
        "            x = self.swintran.patch_embed(tensor_list.tensors)\n",
        "            x = self.swintran.layers(x)\n",
        "            xs['0'] = self.swintran.norm(x).permute(0,3,1,2)\n",
        "\n",
        "        # print('out swin features', xs['0'].shape)\n",
        "        out: Dict[str, NestedTensor] = {}\n",
        "        for name, x in xs.items():\n",
        "            m = tensor_list.mask\n",
        "            # print('m', m.shape)\n",
        "            assert m is not None\n",
        "            import torch.nn.functional as F\n",
        "            mask = F.interpolate(m[None].float(), size=x.shape[-2:]).to(torch.bool)[0]\n",
        "            # mask = F.upsample_nearest(m[None].float(),size=x.shape[-2:]).to(torch.bool)[0]\n",
        "            # print('mobarak',name, x.shape, mask.shape)\n",
        "            out[name] = NestedTensor(x, mask)\n",
        "        return out\n",
        "\n",
        "class Joiner(nn.Sequential):\n",
        "    def __init__(self, backbone, position_embedding):\n",
        "        super().__init__(backbone, position_embedding)\n",
        "\n",
        "    def forward(self, tensor_list: NestedTensor):\n",
        "        xs = self[0](tensor_list)\n",
        "        out: List[NestedTensor] = []\n",
        "        pos = []\n",
        "        for name, x in xs.items():\n",
        "            out.append(x)\n",
        "            # position encoding\n",
        "            pos.append(self[1](x).to(x.tensors.dtype))\n",
        "\n",
        "        return out, pos\n",
        "\n",
        "def build_backbone(args):\n",
        "    position_embedding = build_position_encoding(args)\n",
        "    train_backbone = args.lr_backbone > 0\n",
        "    return_interm_layers = args.masks\n",
        "    backbone = backboneSWIN()#Backbone(args.backbone, train_backbone, return_interm_layers, args.dilation)\n",
        "    model = Joiner(backbone, position_embedding)\n",
        "    # model.num_channels = backbone.num_channels\n",
        "    return model"
      ],
      "metadata": {
        "colab": {
          "base_uri": "https://localhost:8080/"
        },
        "id": "aSwpRYFPe6uB",
        "outputId": "060de46e-15b2-4045-ab72-b4aaedd2cf68"
      },
      "execution_count": null,
      "outputs": [
        {
          "output_type": "stream",
          "name": "stdout",
          "text": [
            "/content/DETR_Robotic_Surgery\n"
          ]
        }
      ]
    },
    {
      "cell_type": "markdown",
      "source": [
        "Part of content related to training in 'main.py'.\n",
        "(We ignore the evaluation part.)"
      ],
      "metadata": {
        "id": "35SBHOQ4lXOi"
      }
    },
    {
      "cell_type": "code",
      "source": [
        "%cd /content/DETR_Robotic_Surgery\n",
        "from main import get_args_parser\n",
        "import argparse\n",
        "import torch\n",
        "import time\n",
        "import random\n",
        "import datetime\n",
        "import json\n",
        "from torch.utils.data import DataLoader, DistributedSampler\n",
        "import util.misc as utils\n",
        "from datasets import build_dataset, get_coco_api_from_dataset\n",
        "from pathlib import Path\n",
        "import numpy as np\n",
        "from engine import evaluate, train_one_epoch\n",
        "from models import build_model\n",
        "from datasets.coco import *\n",
        "import os\n",
        "\n",
        "def main():\n",
        "\n",
        "    parser = argparse.ArgumentParser('DETR training and evaluation script', parents=[get_args_parser()])\n",
        "    args = parser.parse_args([])\n",
        "    args.output_dir = './outputs' # Results dir\n",
        "    args.endovis_path = 'endovis17' # Path to our dataset\n",
        "    args.device = 'cuda' if torch.cuda.is_available() else 'cpu'\n",
        "    # training parameters\n",
        "    args.start_epoch = 0\n",
        "    args.epochs = 50 # total number of epoch\n",
        "    args.batch_size = 1\n",
        "\n",
        "    # create output directoty if not exist\n",
        "    if os.path.exists(args.output_dir) is False:\n",
        "        os.mkdir(args.output_dir)\n",
        "\n",
        "    utils.init_distributed_mode(args)\n",
        "    print(\"git:\\n  {}\\n\".format(utils.get_sha()))\n",
        "    print(args)\n",
        "\n",
        "    device = torch.device(args.device)\n",
        "\n",
        "    # fix the seed for reproducibility\n",
        "    seed = args.seed + utils.get_rank()\n",
        "    torch.manual_seed(seed)\n",
        "    np.random.seed(seed)\n",
        "    random.seed(seed)\n",
        "\n",
        "    # create model\n",
        "    model, criterion, postprocessors = build_model(args)\n",
        "    model.to(device)\n",
        "    # print(model)\n",
        "    model_without_ddp = model\n",
        "    n_parameters = sum(p.numel() for p in model.parameters() if p.requires_grad)\n",
        "    print('number of params:', n_parameters)\n",
        "\n",
        "    param_dicts = [\n",
        "        {\"params\": [p for n, p in model_without_ddp.named_parameters() if \"backbone\" not in n and p.requires_grad]},\n",
        "        {\n",
        "            \"params\": [p for n, p in model_without_ddp.named_parameters() if \"backbone\" in n and p.requires_grad],\n",
        "            \"lr\": args.lr_backbone,\n",
        "        },\n",
        "    ]\n",
        "    optimizer = torch.optim.AdamW(param_dicts, lr=args.lr,\n",
        "                                    weight_decay=args.weight_decay)\n",
        "    lr_scheduler = torch.optim.lr_scheduler.StepLR(optimizer, args.lr_drop)\n",
        "\n",
        "    # Our dataset class (initialize in datasets->coco.py)\n",
        "    dataset_train = EnvidosDataset(args.endovis_path, transforms=make_coco_transforms('train'), mode='train', length=4)\n",
        "\n",
        "    if args.distributed:\n",
        "        sampler_train = DistributedSampler(dataset_train)\n",
        "    else:\n",
        "        sampler_train = torch.utils.data.RandomSampler(dataset_train)\n",
        "\n",
        "    batch_sampler_train = torch.utils.data.BatchSampler(\n",
        "        sampler_train, args.batch_size, drop_last=True)\n",
        "\n",
        "    data_loader_train = DataLoader(dataset_train, batch_sampler=batch_sampler_train,\n",
        "                                    collate_fn=utils.collate_fn, num_workers=args.num_workers)\n",
        "\n",
        "    #---------------------- Training Process ----------------------\n",
        "    print(\"Start training\")\n",
        "    start_time = time.time()\n",
        "\n",
        "    sam_backbone = build_backbone(args)#BackboneBase()\n",
        "    sam_backbone.to(device)\n",
        "    sam_backbone.eval()\n",
        "    model_without_ddp.backbone = sam_backbone\n",
        "    model_without_ddp.input_proj = nn.Conv2d(1024, model_without_ddp.transformer.d_model, kernel_size=1)\n",
        "    model_without_ddp.to(device)\n",
        "\n",
        "    for epoch in range(args.start_epoch, args.epochs):\n",
        "        if args.distributed:\n",
        "            sampler_train.set_epoch(epoch)\n",
        "\n",
        "        #----------------- main training function (can be seen in 'engine.py') -----------------\n",
        "        train_stats = train_one_epoch(\n",
        "            model_without_ddp, criterion, data_loader_train, optimizer, device, epoch,\n",
        "            args.clip_max_norm)\n",
        "\n",
        "        lr_scheduler.step()\n",
        "\n",
        "        # Save trained models\n",
        "        output_dir = Path(args.output_dir)\n",
        "        if args.output_dir:\n",
        "            checkpoint_paths = [output_dir / f'checkpoint{epoch:04}.pth']\n",
        "            if (epoch + 1) % args.lr_drop == 0 or (epoch + 1) % 5 == 0:\n",
        "                checkpoint_paths.append(output_dir / f'checkpoint{epoch:04}_lr{args.lr}.pth')\n",
        "            for checkpoint_path in checkpoint_paths:\n",
        "                utils.save_on_master({\n",
        "                    'model': model_without_ddp.state_dict(),\n",
        "                    'optimizer': optimizer.state_dict(),\n",
        "                    'lr_scheduler': lr_scheduler.state_dict(),\n",
        "                    'epoch': epoch,\n",
        "                    'args': args,\n",
        "                }, checkpoint_path)\n",
        "\n",
        "        log_stats = {**{f'train_{k}': v for k, v in train_stats.items()},\n",
        "                        'epoch': epoch,\n",
        "                        'n_parameters': n_parameters}\n",
        "\n",
        "        if args.output_dir and utils.is_main_process():\n",
        "            with (output_dir / \"log.txt\").open(\"a\") as f:\n",
        "                f.write(json.dumps(log_stats) + \"\\n\")\n",
        "\n",
        "\n",
        "    total_time = time.time() - start_time\n",
        "    total_time_str = str(datetime.timedelta(seconds=int(total_time)))\n",
        "    print('Training time {}'.format(total_time_str))\n",
        "\n",
        "\n",
        "main()"
      ],
      "metadata": {
        "colab": {
          "base_uri": "https://localhost:8080/"
        },
        "id": "UkQzsVvBgdHt",
        "outputId": "aff7a1b0-5219-4175-e2a0-50a49f3a6674"
      },
      "execution_count": null,
      "outputs": [
        {
          "output_type": "stream",
          "name": "stdout",
          "text": [
            "/content/DETR_Robotic_Surgery\n",
            "Not using distributed mode\n",
            "git:\n",
            "  sha: 5cfd8162f26d016790d4b3fdc7b80dcf14c9ad10, status: has uncommited changes, branch: main\n",
            "\n",
            "Namespace(lr=0.0001, lr_backbone=1e-05, batch_size=1, weight_decay=0.0001, epochs=50, lr_drop=200, clip_max_norm=0.1, frozen_weights=None, model=True, backbone='resnet50', dilation=False, position_embedding='sine', enc_layers=6, dec_layers=6, dim_feedforward=2048, hidden_dim=256, dropout=0.1, nheads=8, num_queries=100, pre_norm=False, masks=False, aux_loss=True, set_cost_class=1, set_cost_bbox=5, set_cost_giou=2, mask_loss_coef=1, dice_loss_coef=1, bbox_loss_coef=5, giou_loss_coef=2, eos_coef=0.01, dataset_file='endovis17', coco_path=None, endovis_path='endovis17', coco_panoptic_path=None, remove_difficult=False, output_dir='./outputs', device='cuda', seed=42, resume='', start_epoch=0, eval=False, num_workers=2, world_size=1, dist_url='env://', distributed=False)\n"
          ]
        },
        {
          "output_type": "stream",
          "name": "stderr",
          "text": [
            "/usr/local/lib/python3.10/dist-packages/torchvision/models/_utils.py:208: UserWarning: The parameter 'pretrained' is deprecated since 0.13 and may be removed in the future, please use 'weights' instead.\n",
            "  warnings.warn(\n",
            "/usr/local/lib/python3.10/dist-packages/torchvision/models/_utils.py:223: UserWarning: Arguments other than a weight enum or `None` for 'weights' are deprecated since 0.13 and may be removed in the future. The current behavior is equivalent to passing `weights=ResNet50_Weights.IMAGENET1K_V1`. You can also use `weights=ResNet50_Weights.DEFAULT` to get the most up-to-date weights.\n",
            "  warnings.warn(msg)\n"
          ]
        },
        {
          "output_type": "stream",
          "name": "stdout",
          "text": [
            "number of params: 41281037\n",
            "Start training\n",
            "Epoch: [0]  [0/4]  eta: 0:00:01  lr: 0.000100  class_error: 33.33  loss: 40.7313 (40.7313)  loss_ce: 2.2733 (2.2733)  loss_bbox: 2.9468 (2.9468)  loss_giou: 1.7204 (1.7204)  loss_ce_0: 2.5862 (2.5862)  loss_bbox_0: 2.7820 (2.7820)  loss_giou_0: 1.3801 (1.3801)  loss_ce_1: 2.4352 (2.4352)  loss_bbox_1: 2.4938 (2.4938)  loss_giou_1: 1.2280 (1.2280)  loss_ce_2: 2.4121 (2.4121)  loss_bbox_2: 3.0030 (3.0030)  loss_giou_2: 1.4809 (1.4809)  loss_ce_3: 2.3199 (2.3199)  loss_bbox_3: 3.1853 (3.1853)  loss_giou_3: 1.4462 (1.4462)  loss_ce_4: 2.2419 (2.2419)  loss_bbox_4: 3.0485 (3.0485)  loss_giou_4: 1.7476 (1.7476)  loss_ce_unscaled: 2.2733 (2.2733)  class_error_unscaled: 33.3333 (33.3333)  loss_bbox_unscaled: 0.5894 (0.5894)  loss_giou_unscaled: 0.8602 (0.8602)  cardinality_error_unscaled: 97.0000 (97.0000)  loss_ce_0_unscaled: 2.5862 (2.5862)  loss_bbox_0_unscaled: 0.5564 (0.5564)  loss_giou_0_unscaled: 0.6900 (0.6900)  cardinality_error_0_unscaled: 97.0000 (97.0000)  loss_ce_1_unscaled: 2.4352 (2.4352)  loss_bbox_1_unscaled: 0.4988 (0.4988)  loss_giou_1_unscaled: 0.6140 (0.6140)  cardinality_error_1_unscaled: 97.0000 (97.0000)  loss_ce_2_unscaled: 2.4121 (2.4121)  loss_bbox_2_unscaled: 0.6006 (0.6006)  loss_giou_2_unscaled: 0.7405 (0.7405)  cardinality_error_2_unscaled: 97.0000 (97.0000)  loss_ce_3_unscaled: 2.3199 (2.3199)  loss_bbox_3_unscaled: 0.6371 (0.6371)  loss_giou_3_unscaled: 0.7231 (0.7231)  cardinality_error_3_unscaled: 97.0000 (97.0000)  loss_ce_4_unscaled: 2.2419 (2.2419)  loss_bbox_4_unscaled: 0.6097 (0.6097)  loss_giou_4_unscaled: 0.8738 (0.8738)  cardinality_error_4_unscaled: 97.0000 (97.0000)  time: 0.3566  data: 0.1936  max mem: 853\n",
            "Epoch: [0]  [3/4]  eta: 0:00:00  lr: 0.000100  class_error: 33.33  loss: 37.4899 (39.0382)  loss_ce: 2.1929 (2.2655)  loss_bbox: 2.4576 (2.5831)  loss_giou: 1.4638 (1.5160)  loss_ce_0: 2.5105 (2.5353)  loss_bbox_0: 2.7820 (2.7835)  loss_giou_0: 1.3801 (1.4834)  loss_ce_1: 2.4299 (2.4457)  loss_bbox_1: 2.7819 (2.7438)  loss_giou_1: 1.4335 (1.4468)  loss_ce_2: 2.4202 (2.4519)  loss_bbox_2: 2.5148 (2.5172)  loss_giou_2: 1.4025 (1.4085)  loss_ce_3: 2.3199 (2.3319)  loss_bbox_3: 2.3675 (2.6089)  loss_giou_3: 1.2452 (1.3769)  loss_ce_4: 2.1921 (2.2172)  loss_bbox_4: 2.4571 (2.7181)  loss_giou_4: 1.4837 (1.6045)  loss_ce_unscaled: 2.1929 (2.2655)  class_error_unscaled: 33.3333 (58.3333)  loss_bbox_unscaled: 0.4915 (0.5166)  loss_giou_unscaled: 0.7319 (0.7580)  cardinality_error_unscaled: 97.0000 (97.0000)  loss_ce_0_unscaled: 2.5105 (2.5353)  loss_bbox_0_unscaled: 0.5564 (0.5567)  loss_giou_0_unscaled: 0.6900 (0.7417)  cardinality_error_0_unscaled: 97.0000 (97.0000)  loss_ce_1_unscaled: 2.4299 (2.4457)  loss_bbox_1_unscaled: 0.5564 (0.5488)  loss_giou_1_unscaled: 0.7167 (0.7234)  cardinality_error_1_unscaled: 97.0000 (97.0000)  loss_ce_2_unscaled: 2.4202 (2.4519)  loss_bbox_2_unscaled: 0.5030 (0.5034)  loss_giou_2_unscaled: 0.7013 (0.7042)  cardinality_error_2_unscaled: 97.0000 (97.0000)  loss_ce_3_unscaled: 2.3199 (2.3319)  loss_bbox_3_unscaled: 0.4735 (0.5218)  loss_giou_3_unscaled: 0.6226 (0.6885)  cardinality_error_3_unscaled: 97.0000 (97.0000)  loss_ce_4_unscaled: 2.1921 (2.2172)  loss_bbox_4_unscaled: 0.4914 (0.5436)  loss_giou_4_unscaled: 0.7418 (0.8023)  cardinality_error_4_unscaled: 97.0000 (97.0000)  time: 0.2086  data: 0.0532  max mem: 853\n",
            "Epoch: [0] Total time: 0:00:00 (0.2322 s / it)\n",
            "Averaged stats: lr: 0.000100  class_error: 33.33  loss: 37.4899 (39.0382)  loss_ce: 2.1929 (2.2655)  loss_bbox: 2.4576 (2.5831)  loss_giou: 1.4638 (1.5160)  loss_ce_0: 2.5105 (2.5353)  loss_bbox_0: 2.7820 (2.7835)  loss_giou_0: 1.3801 (1.4834)  loss_ce_1: 2.4299 (2.4457)  loss_bbox_1: 2.7819 (2.7438)  loss_giou_1: 1.4335 (1.4468)  loss_ce_2: 2.4202 (2.4519)  loss_bbox_2: 2.5148 (2.5172)  loss_giou_2: 1.4025 (1.4085)  loss_ce_3: 2.3199 (2.3319)  loss_bbox_3: 2.3675 (2.6089)  loss_giou_3: 1.2452 (1.3769)  loss_ce_4: 2.1921 (2.2172)  loss_bbox_4: 2.4571 (2.7181)  loss_giou_4: 1.4837 (1.6045)  loss_ce_unscaled: 2.1929 (2.2655)  class_error_unscaled: 33.3333 (58.3333)  loss_bbox_unscaled: 0.4915 (0.5166)  loss_giou_unscaled: 0.7319 (0.7580)  cardinality_error_unscaled: 97.0000 (97.0000)  loss_ce_0_unscaled: 2.5105 (2.5353)  loss_bbox_0_unscaled: 0.5564 (0.5567)  loss_giou_0_unscaled: 0.6900 (0.7417)  cardinality_error_0_unscaled: 97.0000 (97.0000)  loss_ce_1_unscaled: 2.4299 (2.4457)  loss_bbox_1_unscaled: 0.5564 (0.5488)  loss_giou_1_unscaled: 0.7167 (0.7234)  cardinality_error_1_unscaled: 97.0000 (97.0000)  loss_ce_2_unscaled: 2.4202 (2.4519)  loss_bbox_2_unscaled: 0.5030 (0.5034)  loss_giou_2_unscaled: 0.7013 (0.7042)  cardinality_error_2_unscaled: 97.0000 (97.0000)  loss_ce_3_unscaled: 2.3199 (2.3319)  loss_bbox_3_unscaled: 0.4735 (0.5218)  loss_giou_3_unscaled: 0.6226 (0.6885)  cardinality_error_3_unscaled: 97.0000 (97.0000)  loss_ce_4_unscaled: 2.1921 (2.2172)  loss_bbox_4_unscaled: 0.4914 (0.5436)  loss_giou_4_unscaled: 0.7418 (0.8023)  cardinality_error_4_unscaled: 97.0000 (97.0000)\n",
            "Epoch: [1]  [0/4]  eta: 0:00:02  lr: 0.000100  class_error: 66.67  loss: 29.4538 (29.4538)  loss_ce: 2.1158 (2.1158)  loss_bbox: 1.3324 (1.3324)  loss_giou: 0.9772 (0.9772)  loss_ce_0: 2.4263 (2.4263)  loss_bbox_0: 1.8808 (1.8808)  loss_giou_0: 1.0664 (1.0664)  loss_ce_1: 2.2624 (2.2624)  loss_bbox_1: 1.3684 (1.3684)  loss_giou_1: 1.1142 (1.1142)  loss_ce_2: 2.2717 (2.2717)  loss_bbox_2: 1.5505 (1.5505)  loss_giou_2: 1.1883 (1.1883)  loss_ce_3: 2.2862 (2.2862)  loss_bbox_3: 1.7826 (1.7826)  loss_giou_3: 1.1458 (1.1458)  loss_ce_4: 2.0977 (2.0977)  loss_bbox_4: 1.5902 (1.5902)  loss_giou_4: 0.9969 (0.9969)  loss_ce_unscaled: 2.1158 (2.1158)  class_error_unscaled: 66.6667 (66.6667)  loss_bbox_unscaled: 0.2665 (0.2665)  loss_giou_unscaled: 0.4886 (0.4886)  cardinality_error_unscaled: 97.0000 (97.0000)  loss_ce_0_unscaled: 2.4263 (2.4263)  loss_bbox_0_unscaled: 0.3762 (0.3762)  loss_giou_0_unscaled: 0.5332 (0.5332)  cardinality_error_0_unscaled: 96.0000 (96.0000)  loss_ce_1_unscaled: 2.2624 (2.2624)  loss_bbox_1_unscaled: 0.2737 (0.2737)  loss_giou_1_unscaled: 0.5571 (0.5571)  cardinality_error_1_unscaled: 97.0000 (97.0000)  loss_ce_2_unscaled: 2.2717 (2.2717)  loss_bbox_2_unscaled: 0.3101 (0.3101)  loss_giou_2_unscaled: 0.5942 (0.5942)  cardinality_error_2_unscaled: 95.0000 (95.0000)  loss_ce_3_unscaled: 2.2862 (2.2862)  loss_bbox_3_unscaled: 0.3565 (0.3565)  loss_giou_3_unscaled: 0.5729 (0.5729)  cardinality_error_3_unscaled: 97.0000 (97.0000)  loss_ce_4_unscaled: 2.0977 (2.0977)  loss_bbox_4_unscaled: 0.3180 (0.3180)  loss_giou_4_unscaled: 0.4984 (0.4984)  cardinality_error_4_unscaled: 97.0000 (97.0000)  time: 0.5627  data: 0.2721  max mem: 853\n",
            "Epoch: [1]  [3/4]  eta: 0:00:00  lr: 0.000100  class_error: 66.67  loss: 25.6711 (27.2292)  loss_ce: 2.1184 (2.1655)  loss_bbox: 1.0218 (1.2389)  loss_giou: 0.6611 (0.8173)  loss_ce_0: 2.4263 (2.4352)  loss_bbox_0: 1.2662 (1.5648)  loss_giou_0: 0.8618 (0.9943)  loss_ce_1: 2.2624 (2.2702)  loss_bbox_1: 1.3550 (1.4091)  loss_giou_1: 0.9860 (1.0219)  loss_ce_2: 2.2717 (2.2775)  loss_bbox_2: 1.3511 (1.4379)  loss_giou_2: 0.9861 (1.0880)  loss_ce_3: 2.2186 (2.2554)  loss_bbox_3: 1.0529 (1.2442)  loss_giou_3: 0.6692 (0.8051)  loss_ce_4: 2.0977 (2.1436)  loss_bbox_4: 0.9928 (1.2644)  loss_giou_4: 0.6256 (0.7959)  loss_ce_unscaled: 2.1184 (2.1655)  class_error_unscaled: 66.6667 (66.6667)  loss_bbox_unscaled: 0.2044 (0.2478)  loss_giou_unscaled: 0.3305 (0.4086)  cardinality_error_unscaled: 97.0000 (97.0000)  loss_ce_0_unscaled: 2.4263 (2.4352)  loss_bbox_0_unscaled: 0.2532 (0.3130)  loss_giou_0_unscaled: 0.4309 (0.4972)  cardinality_error_0_unscaled: 97.0000 (96.7500)  loss_ce_1_unscaled: 2.2624 (2.2702)  loss_bbox_1_unscaled: 0.2710 (0.2818)  loss_giou_1_unscaled: 0.4930 (0.5110)  cardinality_error_1_unscaled: 97.0000 (96.7500)  loss_ce_2_unscaled: 2.2717 (2.2775)  loss_bbox_2_unscaled: 0.2702 (0.2876)  loss_giou_2_unscaled: 0.4931 (0.5440)  cardinality_error_2_unscaled: 96.0000 (96.2500)  loss_ce_3_unscaled: 2.2186 (2.2554)  loss_bbox_3_unscaled: 0.2106 (0.2488)  loss_giou_3_unscaled: 0.3346 (0.4025)  cardinality_error_3_unscaled: 97.0000 (97.0000)  loss_ce_4_unscaled: 2.0977 (2.1436)  loss_bbox_4_unscaled: 0.1986 (0.2529)  loss_giou_4_unscaled: 0.3128 (0.3980)  cardinality_error_4_unscaled: 97.0000 (97.0000)  time: 0.2419  data: 0.0720  max mem: 853\n",
            "Epoch: [1] Total time: 0:00:01 (0.2630 s / it)\n",
            "Averaged stats: lr: 0.000100  class_error: 66.67  loss: 25.6711 (27.2292)  loss_ce: 2.1184 (2.1655)  loss_bbox: 1.0218 (1.2389)  loss_giou: 0.6611 (0.8173)  loss_ce_0: 2.4263 (2.4352)  loss_bbox_0: 1.2662 (1.5648)  loss_giou_0: 0.8618 (0.9943)  loss_ce_1: 2.2624 (2.2702)  loss_bbox_1: 1.3550 (1.4091)  loss_giou_1: 0.9860 (1.0219)  loss_ce_2: 2.2717 (2.2775)  loss_bbox_2: 1.3511 (1.4379)  loss_giou_2: 0.9861 (1.0880)  loss_ce_3: 2.2186 (2.2554)  loss_bbox_3: 1.0529 (1.2442)  loss_giou_3: 0.6692 (0.8051)  loss_ce_4: 2.0977 (2.1436)  loss_bbox_4: 0.9928 (1.2644)  loss_giou_4: 0.6256 (0.7959)  loss_ce_unscaled: 2.1184 (2.1655)  class_error_unscaled: 66.6667 (66.6667)  loss_bbox_unscaled: 0.2044 (0.2478)  loss_giou_unscaled: 0.3305 (0.4086)  cardinality_error_unscaled: 97.0000 (97.0000)  loss_ce_0_unscaled: 2.4263 (2.4352)  loss_bbox_0_unscaled: 0.2532 (0.3130)  loss_giou_0_unscaled: 0.4309 (0.4972)  cardinality_error_0_unscaled: 97.0000 (96.7500)  loss_ce_1_unscaled: 2.2624 (2.2702)  loss_bbox_1_unscaled: 0.2710 (0.2818)  loss_giou_1_unscaled: 0.4930 (0.5110)  cardinality_error_1_unscaled: 97.0000 (96.7500)  loss_ce_2_unscaled: 2.2717 (2.2775)  loss_bbox_2_unscaled: 0.2702 (0.2876)  loss_giou_2_unscaled: 0.4931 (0.5440)  cardinality_error_2_unscaled: 96.0000 (96.2500)  loss_ce_3_unscaled: 2.2186 (2.2554)  loss_bbox_3_unscaled: 0.2106 (0.2488)  loss_giou_3_unscaled: 0.3346 (0.4025)  cardinality_error_3_unscaled: 97.0000 (97.0000)  loss_ce_4_unscaled: 2.0977 (2.1436)  loss_bbox_4_unscaled: 0.1986 (0.2529)  loss_giou_4_unscaled: 0.3128 (0.3980)  cardinality_error_4_unscaled: 97.0000 (97.0000)\n",
            "Epoch: [2]  [0/4]  eta: 0:00:01  lr: 0.000100  class_error: 66.67  loss: 33.5328 (33.5328)  loss_ce: 2.1487 (2.1487)  loss_bbox: 1.6914 (1.6914)  loss_giou: 1.5154 (1.5154)  loss_ce_0: 2.2812 (2.2812)  loss_bbox_0: 2.0376 (2.0376)  loss_giou_0: 1.2748 (1.2748)  loss_ce_1: 2.1977 (2.1977)  loss_bbox_1: 1.8701 (1.8701)  loss_giou_1: 1.3478 (1.3478)  loss_ce_2: 2.2748 (2.2748)  loss_bbox_2: 2.0783 (2.0783)  loss_giou_2: 1.4978 (1.4978)  loss_ce_3: 2.0743 (2.0743)  loss_bbox_3: 2.2530 (2.2530)  loss_giou_3: 1.4313 (1.4313)  loss_ce_4: 2.1006 (2.1006)  loss_bbox_4: 1.9123 (1.9123)  loss_giou_4: 1.5456 (1.5456)  loss_ce_unscaled: 2.1487 (2.1487)  class_error_unscaled: 66.6667 (66.6667)  loss_bbox_unscaled: 0.3383 (0.3383)  loss_giou_unscaled: 0.7577 (0.7577)  cardinality_error_unscaled: 97.0000 (97.0000)  loss_ce_0_unscaled: 2.2812 (2.2812)  loss_bbox_0_unscaled: 0.4075 (0.4075)  loss_giou_0_unscaled: 0.6374 (0.6374)  cardinality_error_0_unscaled: 97.0000 (97.0000)  loss_ce_1_unscaled: 2.1977 (2.1977)  loss_bbox_1_unscaled: 0.3740 (0.3740)  loss_giou_1_unscaled: 0.6739 (0.6739)  cardinality_error_1_unscaled: 97.0000 (97.0000)  loss_ce_2_unscaled: 2.2748 (2.2748)  loss_bbox_2_unscaled: 0.4157 (0.4157)  loss_giou_2_unscaled: 0.7489 (0.7489)  cardinality_error_2_unscaled: 97.0000 (97.0000)  loss_ce_3_unscaled: 2.0743 (2.0743)  loss_bbox_3_unscaled: 0.4506 (0.4506)  loss_giou_3_unscaled: 0.7156 (0.7156)  cardinality_error_3_unscaled: 97.0000 (97.0000)  loss_ce_4_unscaled: 2.1006 (2.1006)  loss_bbox_4_unscaled: 0.3825 (0.3825)  loss_giou_4_unscaled: 0.7728 (0.7728)  cardinality_error_4_unscaled: 97.0000 (97.0000)  time: 0.3450  data: 0.1866  max mem: 853\n",
            "Epoch: [2]  [3/4]  eta: 0:00:00  lr: 0.000100  class_error: 66.67  loss: 33.1557 (31.7439)  loss_ce: 2.0628 (2.0989)  loss_bbox: 1.6914 (1.6816)  loss_giou: 1.0503 (1.1578)  loss_ce_0: 2.2812 (2.2648)  loss_bbox_0: 2.0376 (1.9829)  loss_giou_0: 1.2393 (1.2693)  loss_ce_1: 2.1977 (2.2515)  loss_bbox_1: 1.8701 (1.8354)  loss_giou_1: 1.1823 (1.2434)  loss_ce_2: 2.2748 (2.2763)  loss_bbox_2: 2.0096 (1.8244)  loss_giou_2: 1.2386 (1.3588)  loss_ce_3: 2.1367 (2.1415)  loss_bbox_3: 2.0075 (1.9185)  loss_giou_3: 1.3450 (1.3034)  loss_ce_4: 2.0822 (2.1019)  loss_bbox_4: 1.9123 (1.8156)  loss_giou_4: 1.0893 (1.2176)  loss_ce_unscaled: 2.0628 (2.0989)  class_error_unscaled: 66.6667 (66.6667)  loss_bbox_unscaled: 0.3383 (0.3363)  loss_giou_unscaled: 0.5252 (0.5789)  cardinality_error_unscaled: 97.0000 (97.0000)  loss_ce_0_unscaled: 2.2812 (2.2648)  loss_bbox_0_unscaled: 0.4075 (0.3966)  loss_giou_0_unscaled: 0.6196 (0.6346)  cardinality_error_0_unscaled: 97.0000 (97.0000)  loss_ce_1_unscaled: 2.1977 (2.2515)  loss_bbox_1_unscaled: 0.3740 (0.3671)  loss_giou_1_unscaled: 0.5912 (0.6217)  cardinality_error_1_unscaled: 97.0000 (96.2500)  loss_ce_2_unscaled: 2.2748 (2.2763)  loss_bbox_2_unscaled: 0.4019 (0.3649)  loss_giou_2_unscaled: 0.6193 (0.6794)  cardinality_error_2_unscaled: 97.0000 (96.0000)  loss_ce_3_unscaled: 2.1367 (2.1415)  loss_bbox_3_unscaled: 0.4015 (0.3837)  loss_giou_3_unscaled: 0.6725 (0.6517)  cardinality_error_3_unscaled: 97.0000 (97.0000)  loss_ce_4_unscaled: 2.0822 (2.1019)  loss_bbox_4_unscaled: 0.3825 (0.3631)  loss_giou_4_unscaled: 0.5446 (0.6088)  cardinality_error_4_unscaled: 97.0000 (97.0000)  time: 0.1765  data: 0.0505  max mem: 853\n",
            "Epoch: [2] Total time: 0:00:00 (0.1955 s / it)\n",
            "Averaged stats: lr: 0.000100  class_error: 66.67  loss: 33.1557 (31.7439)  loss_ce: 2.0628 (2.0989)  loss_bbox: 1.6914 (1.6816)  loss_giou: 1.0503 (1.1578)  loss_ce_0: 2.2812 (2.2648)  loss_bbox_0: 2.0376 (1.9829)  loss_giou_0: 1.2393 (1.2693)  loss_ce_1: 2.1977 (2.2515)  loss_bbox_1: 1.8701 (1.8354)  loss_giou_1: 1.1823 (1.2434)  loss_ce_2: 2.2748 (2.2763)  loss_bbox_2: 2.0096 (1.8244)  loss_giou_2: 1.2386 (1.3588)  loss_ce_3: 2.1367 (2.1415)  loss_bbox_3: 2.0075 (1.9185)  loss_giou_3: 1.3450 (1.3034)  loss_ce_4: 2.0822 (2.1019)  loss_bbox_4: 1.9123 (1.8156)  loss_giou_4: 1.0893 (1.2176)  loss_ce_unscaled: 2.0628 (2.0989)  class_error_unscaled: 66.6667 (66.6667)  loss_bbox_unscaled: 0.3383 (0.3363)  loss_giou_unscaled: 0.5252 (0.5789)  cardinality_error_unscaled: 97.0000 (97.0000)  loss_ce_0_unscaled: 2.2812 (2.2648)  loss_bbox_0_unscaled: 0.4075 (0.3966)  loss_giou_0_unscaled: 0.6196 (0.6346)  cardinality_error_0_unscaled: 97.0000 (97.0000)  loss_ce_1_unscaled: 2.1977 (2.2515)  loss_bbox_1_unscaled: 0.3740 (0.3671)  loss_giou_1_unscaled: 0.5912 (0.6217)  cardinality_error_1_unscaled: 97.0000 (96.2500)  loss_ce_2_unscaled: 2.2748 (2.2763)  loss_bbox_2_unscaled: 0.4019 (0.3649)  loss_giou_2_unscaled: 0.6193 (0.6794)  cardinality_error_2_unscaled: 97.0000 (96.0000)  loss_ce_3_unscaled: 2.1367 (2.1415)  loss_bbox_3_unscaled: 0.4015 (0.3837)  loss_giou_3_unscaled: 0.6725 (0.6517)  cardinality_error_3_unscaled: 97.0000 (97.0000)  loss_ce_4_unscaled: 2.0822 (2.1019)  loss_bbox_4_unscaled: 0.3825 (0.3631)  loss_giou_4_unscaled: 0.5446 (0.6088)  cardinality_error_4_unscaled: 97.0000 (97.0000)\n",
            "Epoch: [3]  [0/4]  eta: 0:00:01  lr: 0.000100  class_error: 66.67  loss: 29.4121 (29.4121)  loss_ce: 1.9745 (1.9745)  loss_bbox: 1.4816 (1.4816)  loss_giou: 1.2605 (1.2605)  loss_ce_0: 2.3090 (2.3090)  loss_bbox_0: 1.6496 (1.6496)  loss_giou_0: 0.9830 (0.9830)  loss_ce_1: 2.1966 (2.1966)  loss_bbox_1: 1.4984 (1.4984)  loss_giou_1: 1.3100 (1.3100)  loss_ce_2: 2.2894 (2.2894)  loss_bbox_2: 1.6463 (1.6463)  loss_giou_2: 1.0727 (1.0727)  loss_ce_3: 2.1264 (2.1264)  loss_bbox_3: 1.4472 (1.4472)  loss_giou_3: 1.1935 (1.1935)  loss_ce_4: 2.0443 (2.0443)  loss_bbox_4: 1.5827 (1.5827)  loss_giou_4: 1.3465 (1.3465)  loss_ce_unscaled: 1.9745 (1.9745)  class_error_unscaled: 66.6667 (66.6667)  loss_bbox_unscaled: 0.2963 (0.2963)  loss_giou_unscaled: 0.6302 (0.6302)  cardinality_error_unscaled: 97.0000 (97.0000)  loss_ce_0_unscaled: 2.3090 (2.3090)  loss_bbox_0_unscaled: 0.3299 (0.3299)  loss_giou_0_unscaled: 0.4915 (0.4915)  cardinality_error_0_unscaled: 97.0000 (97.0000)  loss_ce_1_unscaled: 2.1966 (2.1966)  loss_bbox_1_unscaled: 0.2997 (0.2997)  loss_giou_1_unscaled: 0.6550 (0.6550)  cardinality_error_1_unscaled: 97.0000 (97.0000)  loss_ce_2_unscaled: 2.2894 (2.2894)  loss_bbox_2_unscaled: 0.3293 (0.3293)  loss_giou_2_unscaled: 0.5363 (0.5363)  cardinality_error_2_unscaled: 97.0000 (97.0000)  loss_ce_3_unscaled: 2.1264 (2.1264)  loss_bbox_3_unscaled: 0.2894 (0.2894)  loss_giou_3_unscaled: 0.5968 (0.5968)  cardinality_error_3_unscaled: 97.0000 (97.0000)  loss_ce_4_unscaled: 2.0443 (2.0443)  loss_bbox_4_unscaled: 0.3165 (0.3165)  loss_giou_4_unscaled: 0.6733 (0.6733)  cardinality_error_4_unscaled: 97.0000 (97.0000)  time: 0.3826  data: 0.2034  max mem: 853\n",
            "Epoch: [3]  [3/4]  eta: 0:00:00  lr: 0.000100  class_error: 66.67  loss: 24.7947 (26.4907)  loss_ce: 1.8568 (1.8913)  loss_bbox: 1.0885 (1.2343)  loss_giou: 0.8814 (1.0362)  loss_ce_0: 2.1440 (2.1712)  loss_bbox_0: 1.4340 (1.5364)  loss_giou_0: 0.9830 (1.0636)  loss_ce_1: 2.1949 (2.2115)  loss_bbox_1: 1.2121 (1.3277)  loss_giou_1: 0.9692 (1.0905)  loss_ce_2: 2.1168 (2.1346)  loss_bbox_2: 0.9989 (1.2257)  loss_giou_2: 0.9468 (1.0367)  loss_ce_3: 1.9310 (1.9934)  loss_bbox_3: 1.0884 (1.2806)  loss_giou_3: 0.8558 (1.0350)  loss_ce_4: 1.8976 (1.9172)  loss_bbox_4: 1.0147 (1.2516)  loss_giou_4: 0.9530 (1.0532)  loss_ce_unscaled: 1.8568 (1.8913)  class_error_unscaled: 66.6667 (66.6667)  loss_bbox_unscaled: 0.2177 (0.2469)  loss_giou_unscaled: 0.4407 (0.5181)  cardinality_error_unscaled: 97.0000 (97.0000)  loss_ce_0_unscaled: 2.1440 (2.1712)  loss_bbox_0_unscaled: 0.2868 (0.3073)  loss_giou_0_unscaled: 0.4915 (0.5318)  cardinality_error_0_unscaled: 97.0000 (96.7500)  loss_ce_1_unscaled: 2.1949 (2.2115)  loss_bbox_1_unscaled: 0.2424 (0.2655)  loss_giou_1_unscaled: 0.4846 (0.5452)  cardinality_error_1_unscaled: 96.0000 (96.0000)  loss_ce_2_unscaled: 2.1168 (2.1346)  loss_bbox_2_unscaled: 0.1998 (0.2451)  loss_giou_2_unscaled: 0.4734 (0.5184)  cardinality_error_2_unscaled: 97.0000 (96.5000)  loss_ce_3_unscaled: 1.9310 (1.9934)  loss_bbox_3_unscaled: 0.2177 (0.2561)  loss_giou_3_unscaled: 0.4279 (0.5175)  cardinality_error_3_unscaled: 97.0000 (96.5000)  loss_ce_4_unscaled: 1.8976 (1.9172)  loss_bbox_4_unscaled: 0.2029 (0.2503)  loss_giou_4_unscaled: 0.4765 (0.5266)  cardinality_error_4_unscaled: 97.0000 (97.0000)  time: 0.1921  data: 0.0551  max mem: 853\n",
            "Epoch: [3] Total time: 0:00:00 (0.2093 s / it)\n",
            "Averaged stats: lr: 0.000100  class_error: 66.67  loss: 24.7947 (26.4907)  loss_ce: 1.8568 (1.8913)  loss_bbox: 1.0885 (1.2343)  loss_giou: 0.8814 (1.0362)  loss_ce_0: 2.1440 (2.1712)  loss_bbox_0: 1.4340 (1.5364)  loss_giou_0: 0.9830 (1.0636)  loss_ce_1: 2.1949 (2.2115)  loss_bbox_1: 1.2121 (1.3277)  loss_giou_1: 0.9692 (1.0905)  loss_ce_2: 2.1168 (2.1346)  loss_bbox_2: 0.9989 (1.2257)  loss_giou_2: 0.9468 (1.0367)  loss_ce_3: 1.9310 (1.9934)  loss_bbox_3: 1.0884 (1.2806)  loss_giou_3: 0.8558 (1.0350)  loss_ce_4: 1.8976 (1.9172)  loss_bbox_4: 1.0147 (1.2516)  loss_giou_4: 0.9530 (1.0532)  loss_ce_unscaled: 1.8568 (1.8913)  class_error_unscaled: 66.6667 (66.6667)  loss_bbox_unscaled: 0.2177 (0.2469)  loss_giou_unscaled: 0.4407 (0.5181)  cardinality_error_unscaled: 97.0000 (97.0000)  loss_ce_0_unscaled: 2.1440 (2.1712)  loss_bbox_0_unscaled: 0.2868 (0.3073)  loss_giou_0_unscaled: 0.4915 (0.5318)  cardinality_error_0_unscaled: 97.0000 (96.7500)  loss_ce_1_unscaled: 2.1949 (2.2115)  loss_bbox_1_unscaled: 0.2424 (0.2655)  loss_giou_1_unscaled: 0.4846 (0.5452)  cardinality_error_1_unscaled: 96.0000 (96.0000)  loss_ce_2_unscaled: 2.1168 (2.1346)  loss_bbox_2_unscaled: 0.1998 (0.2451)  loss_giou_2_unscaled: 0.4734 (0.5184)  cardinality_error_2_unscaled: 97.0000 (96.5000)  loss_ce_3_unscaled: 1.9310 (1.9934)  loss_bbox_3_unscaled: 0.2177 (0.2561)  loss_giou_3_unscaled: 0.4279 (0.5175)  cardinality_error_3_unscaled: 97.0000 (96.5000)  loss_ce_4_unscaled: 1.8976 (1.9172)  loss_bbox_4_unscaled: 0.2029 (0.2503)  loss_giou_4_unscaled: 0.4765 (0.5266)  cardinality_error_4_unscaled: 97.0000 (97.0000)\n",
            "Epoch: [4]  [0/4]  eta: 0:00:01  lr: 0.000100  class_error: 66.67  loss: 26.8986 (26.8986)  loss_ce: 1.9129 (1.9129)  loss_bbox: 1.1620 (1.1620)  loss_giou: 1.0267 (1.0267)  loss_ce_0: 2.3291 (2.3291)  loss_bbox_0: 1.5493 (1.5493)  loss_giou_0: 1.0501 (1.0501)  loss_ce_1: 2.3296 (2.3296)  loss_bbox_1: 1.7602 (1.7602)  loss_giou_1: 0.7463 (0.7463)  loss_ce_2: 2.0482 (2.0482)  loss_bbox_2: 1.4603 (1.4603)  loss_giou_2: 0.9222 (0.9222)  loss_ce_3: 2.0367 (2.0367)  loss_bbox_3: 1.3333 (1.3333)  loss_giou_3: 1.0553 (1.0553)  loss_ce_4: 1.9426 (1.9426)  loss_bbox_4: 1.2042 (1.2042)  loss_giou_4: 1.0297 (1.0297)  loss_ce_unscaled: 1.9129 (1.9129)  class_error_unscaled: 66.6667 (66.6667)  loss_bbox_unscaled: 0.2324 (0.2324)  loss_giou_unscaled: 0.5133 (0.5133)  cardinality_error_unscaled: 97.0000 (97.0000)  loss_ce_0_unscaled: 2.3291 (2.3291)  loss_bbox_0_unscaled: 0.3099 (0.3099)  loss_giou_0_unscaled: 0.5251 (0.5251)  cardinality_error_0_unscaled: 97.0000 (97.0000)  loss_ce_1_unscaled: 2.3296 (2.3296)  loss_bbox_1_unscaled: 0.3520 (0.3520)  loss_giou_1_unscaled: 0.3732 (0.3732)  cardinality_error_1_unscaled: 97.0000 (97.0000)  loss_ce_2_unscaled: 2.0482 (2.0482)  loss_bbox_2_unscaled: 0.2921 (0.2921)  loss_giou_2_unscaled: 0.4611 (0.4611)  cardinality_error_2_unscaled: 97.0000 (97.0000)  loss_ce_3_unscaled: 2.0367 (2.0367)  loss_bbox_3_unscaled: 0.2667 (0.2667)  loss_giou_3_unscaled: 0.5277 (0.5277)  cardinality_error_3_unscaled: 97.0000 (97.0000)  loss_ce_4_unscaled: 1.9426 (1.9426)  loss_bbox_4_unscaled: 0.2408 (0.2408)  loss_giou_4_unscaled: 0.5148 (0.5148)  cardinality_error_4_unscaled: 97.0000 (97.0000)  time: 0.3591  data: 0.2016  max mem: 853\n",
            "Epoch: [4]  [3/4]  eta: 0:00:00  lr: 0.000100  class_error: 66.67  loss: 22.1986 (23.4176)  loss_ce: 1.8952 (1.8808)  loss_bbox: 0.6810 (0.8070)  loss_giou: 0.5106 (0.7026)  loss_ce_0: 2.2893 (2.2964)  loss_bbox_0: 1.0299 (1.1766)  loss_giou_0: 0.9516 (0.9496)  loss_ce_1: 2.2000 (2.2454)  loss_bbox_1: 0.9689 (1.2313)  loss_giou_1: 0.7463 (0.8560)  loss_ce_2: 2.0482 (2.1146)  loss_bbox_2: 1.0757 (1.1708)  loss_giou_2: 0.7102 (0.7922)  loss_ce_3: 1.9970 (2.0042)  loss_bbox_3: 0.8289 (0.9442)  loss_giou_3: 0.5596 (0.7375)  loss_ce_4: 1.9426 (1.9341)  loss_bbox_4: 0.7370 (0.8425)  loss_giou_4: 0.5519 (0.7317)  loss_ce_unscaled: 1.8952 (1.8808)  class_error_unscaled: 66.6667 (66.6667)  loss_bbox_unscaled: 0.1362 (0.1614)  loss_giou_unscaled: 0.2553 (0.3513)  cardinality_error_unscaled: 97.0000 (97.0000)  loss_ce_0_unscaled: 2.2893 (2.2964)  loss_bbox_0_unscaled: 0.2060 (0.2353)  loss_giou_0_unscaled: 0.4758 (0.4748)  cardinality_error_0_unscaled: 97.0000 (97.0000)  loss_ce_1_unscaled: 2.2000 (2.2454)  loss_bbox_1_unscaled: 0.1938 (0.2463)  loss_giou_1_unscaled: 0.3732 (0.4280)  cardinality_error_1_unscaled: 97.0000 (96.7500)  loss_ce_2_unscaled: 2.0482 (2.1146)  loss_bbox_2_unscaled: 0.2151 (0.2342)  loss_giou_2_unscaled: 0.3551 (0.3961)  cardinality_error_2_unscaled: 97.0000 (96.7500)  loss_ce_3_unscaled: 1.9970 (2.0042)  loss_bbox_3_unscaled: 0.1658 (0.1888)  loss_giou_3_unscaled: 0.2798 (0.3688)  cardinality_error_3_unscaled: 97.0000 (96.5000)  loss_ce_4_unscaled: 1.9426 (1.9341)  loss_bbox_4_unscaled: 0.1474 (0.1685)  loss_giou_4_unscaled: 0.2759 (0.3658)  cardinality_error_4_unscaled: 97.0000 (97.0000)  time: 0.1832  data: 0.0549  max mem: 853\n",
            "Epoch: [4] Total time: 0:00:00 (0.2007 s / it)\n",
            "Averaged stats: lr: 0.000100  class_error: 66.67  loss: 22.1986 (23.4176)  loss_ce: 1.8952 (1.8808)  loss_bbox: 0.6810 (0.8070)  loss_giou: 0.5106 (0.7026)  loss_ce_0: 2.2893 (2.2964)  loss_bbox_0: 1.0299 (1.1766)  loss_giou_0: 0.9516 (0.9496)  loss_ce_1: 2.2000 (2.2454)  loss_bbox_1: 0.9689 (1.2313)  loss_giou_1: 0.7463 (0.8560)  loss_ce_2: 2.0482 (2.1146)  loss_bbox_2: 1.0757 (1.1708)  loss_giou_2: 0.7102 (0.7922)  loss_ce_3: 1.9970 (2.0042)  loss_bbox_3: 0.8289 (0.9442)  loss_giou_3: 0.5596 (0.7375)  loss_ce_4: 1.9426 (1.9341)  loss_bbox_4: 0.7370 (0.8425)  loss_giou_4: 0.5519 (0.7317)  loss_ce_unscaled: 1.8952 (1.8808)  class_error_unscaled: 66.6667 (66.6667)  loss_bbox_unscaled: 0.1362 (0.1614)  loss_giou_unscaled: 0.2553 (0.3513)  cardinality_error_unscaled: 97.0000 (97.0000)  loss_ce_0_unscaled: 2.2893 (2.2964)  loss_bbox_0_unscaled: 0.2060 (0.2353)  loss_giou_0_unscaled: 0.4758 (0.4748)  cardinality_error_0_unscaled: 97.0000 (97.0000)  loss_ce_1_unscaled: 2.2000 (2.2454)  loss_bbox_1_unscaled: 0.1938 (0.2463)  loss_giou_1_unscaled: 0.3732 (0.4280)  cardinality_error_1_unscaled: 97.0000 (96.7500)  loss_ce_2_unscaled: 2.0482 (2.1146)  loss_bbox_2_unscaled: 0.2151 (0.2342)  loss_giou_2_unscaled: 0.3551 (0.3961)  cardinality_error_2_unscaled: 97.0000 (96.7500)  loss_ce_3_unscaled: 1.9970 (2.0042)  loss_bbox_3_unscaled: 0.1658 (0.1888)  loss_giou_3_unscaled: 0.2798 (0.3688)  cardinality_error_3_unscaled: 97.0000 (96.5000)  loss_ce_4_unscaled: 1.9426 (1.9341)  loss_bbox_4_unscaled: 0.1474 (0.1685)  loss_giou_4_unscaled: 0.2759 (0.3658)  cardinality_error_4_unscaled: 97.0000 (97.0000)\n",
            "Epoch: [5]  [0/4]  eta: 0:00:02  lr: 0.000100  class_error: 66.67  loss: 22.9138 (22.9138)  loss_ce: 1.7800 (1.7800)  loss_bbox: 0.8907 (0.8907)  loss_giou: 0.5985 (0.5985)  loss_ce_0: 2.2820 (2.2820)  loss_bbox_0: 1.4881 (1.4881)  loss_giou_0: 1.1564 (1.1564)  loss_ce_1: 2.2469 (2.2469)  loss_bbox_1: 1.0166 (1.0166)  loss_giou_1: 0.7652 (0.7652)  loss_ce_2: 1.9751 (1.9751)  loss_bbox_2: 1.2681 (1.2681)  loss_giou_2: 0.7286 (0.7286)  loss_ce_3: 1.8775 (1.8775)  loss_bbox_3: 0.9409 (0.9409)  loss_giou_3: 0.6164 (0.6164)  loss_ce_4: 1.8438 (1.8438)  loss_bbox_4: 0.8301 (0.8301)  loss_giou_4: 0.6089 (0.6089)  loss_ce_unscaled: 1.7800 (1.7800)  class_error_unscaled: 66.6667 (66.6667)  loss_bbox_unscaled: 0.1781 (0.1781)  loss_giou_unscaled: 0.2992 (0.2992)  cardinality_error_unscaled: 95.0000 (95.0000)  loss_ce_0_unscaled: 2.2820 (2.2820)  loss_bbox_0_unscaled: 0.2976 (0.2976)  loss_giou_0_unscaled: 0.5782 (0.5782)  cardinality_error_0_unscaled: 97.0000 (97.0000)  loss_ce_1_unscaled: 2.2469 (2.2469)  loss_bbox_1_unscaled: 0.2033 (0.2033)  loss_giou_1_unscaled: 0.3826 (0.3826)  cardinality_error_1_unscaled: 93.0000 (93.0000)  loss_ce_2_unscaled: 1.9751 (1.9751)  loss_bbox_2_unscaled: 0.2536 (0.2536)  loss_giou_2_unscaled: 0.3643 (0.3643)  cardinality_error_2_unscaled: 96.0000 (96.0000)  loss_ce_3_unscaled: 1.8775 (1.8775)  loss_bbox_3_unscaled: 0.1882 (0.1882)  loss_giou_3_unscaled: 0.3082 (0.3082)  cardinality_error_3_unscaled: 92.0000 (92.0000)  loss_ce_4_unscaled: 1.8438 (1.8438)  loss_bbox_4_unscaled: 0.1660 (0.1660)  loss_giou_4_unscaled: 0.3044 (0.3044)  cardinality_error_4_unscaled: 94.0000 (94.0000)  time: 0.5767  data: 0.3205  max mem: 853\n",
            "Epoch: [5]  [3/4]  eta: 0:00:00  lr: 0.000100  class_error: 33.33  loss: 22.9138 (22.9698)  loss_ce: 1.7225 (1.7612)  loss_bbox: 0.8907 (1.0092)  loss_giou: 0.5985 (0.6987)  loss_ce_0: 2.1821 (2.2444)  loss_bbox_0: 1.2828 (1.3380)  loss_giou_0: 1.0995 (1.0257)  loss_ce_1: 2.0385 (2.1077)  loss_bbox_1: 0.9957 (1.0048)  loss_giou_1: 0.7652 (0.8107)  loss_ce_2: 1.9751 (2.0035)  loss_bbox_2: 1.0531 (1.0792)  loss_giou_2: 0.7286 (0.7295)  loss_ce_3: 1.8775 (1.8745)  loss_bbox_3: 0.9409 (1.0881)  loss_giou_3: 0.6164 (0.7082)  loss_ce_4: 1.7424 (1.7657)  loss_bbox_4: 0.8575 (1.0164)  loss_giou_4: 0.6089 (0.7044)  loss_ce_unscaled: 1.7225 (1.7612)  class_error_unscaled: 66.6667 (58.3333)  loss_bbox_unscaled: 0.1781 (0.2018)  loss_giou_unscaled: 0.2992 (0.3493)  cardinality_error_unscaled: 82.0000 (88.7500)  loss_ce_0_unscaled: 2.1821 (2.2444)  loss_bbox_0_unscaled: 0.2566 (0.2676)  loss_giou_0_unscaled: 0.5498 (0.5128)  cardinality_error_0_unscaled: 93.0000 (92.7500)  loss_ce_1_unscaled: 2.0385 (2.1077)  loss_bbox_1_unscaled: 0.1991 (0.2010)  loss_giou_1_unscaled: 0.3826 (0.4053)  cardinality_error_1_unscaled: 88.0000 (90.0000)  loss_ce_2_unscaled: 1.9751 (2.0035)  loss_bbox_2_unscaled: 0.2106 (0.2158)  loss_giou_2_unscaled: 0.3643 (0.3647)  cardinality_error_2_unscaled: 92.0000 (93.0000)  loss_ce_3_unscaled: 1.8775 (1.8745)  loss_bbox_3_unscaled: 0.1882 (0.2176)  loss_giou_3_unscaled: 0.3082 (0.3541)  cardinality_error_3_unscaled: 85.0000 (89.7500)  loss_ce_4_unscaled: 1.7424 (1.7657)  loss_bbox_4_unscaled: 0.1715 (0.2033)  loss_giou_4_unscaled: 0.3044 (0.3522)  cardinality_error_4_unscaled: 86.0000 (90.5000)  time: 0.2727  data: 0.0842  max mem: 853\n",
            "Epoch: [5] Total time: 0:00:01 (0.2948 s / it)\n",
            "Averaged stats: lr: 0.000100  class_error: 33.33  loss: 22.9138 (22.9698)  loss_ce: 1.7225 (1.7612)  loss_bbox: 0.8907 (1.0092)  loss_giou: 0.5985 (0.6987)  loss_ce_0: 2.1821 (2.2444)  loss_bbox_0: 1.2828 (1.3380)  loss_giou_0: 1.0995 (1.0257)  loss_ce_1: 2.0385 (2.1077)  loss_bbox_1: 0.9957 (1.0048)  loss_giou_1: 0.7652 (0.8107)  loss_ce_2: 1.9751 (2.0035)  loss_bbox_2: 1.0531 (1.0792)  loss_giou_2: 0.7286 (0.7295)  loss_ce_3: 1.8775 (1.8745)  loss_bbox_3: 0.9409 (1.0881)  loss_giou_3: 0.6164 (0.7082)  loss_ce_4: 1.7424 (1.7657)  loss_bbox_4: 0.8575 (1.0164)  loss_giou_4: 0.6089 (0.7044)  loss_ce_unscaled: 1.7225 (1.7612)  class_error_unscaled: 66.6667 (58.3333)  loss_bbox_unscaled: 0.1781 (0.2018)  loss_giou_unscaled: 0.2992 (0.3493)  cardinality_error_unscaled: 82.0000 (88.7500)  loss_ce_0_unscaled: 2.1821 (2.2444)  loss_bbox_0_unscaled: 0.2566 (0.2676)  loss_giou_0_unscaled: 0.5498 (0.5128)  cardinality_error_0_unscaled: 93.0000 (92.7500)  loss_ce_1_unscaled: 2.0385 (2.1077)  loss_bbox_1_unscaled: 0.1991 (0.2010)  loss_giou_1_unscaled: 0.3826 (0.4053)  cardinality_error_1_unscaled: 88.0000 (90.0000)  loss_ce_2_unscaled: 1.9751 (2.0035)  loss_bbox_2_unscaled: 0.2106 (0.2158)  loss_giou_2_unscaled: 0.3643 (0.3647)  cardinality_error_2_unscaled: 92.0000 (93.0000)  loss_ce_3_unscaled: 1.8775 (1.8745)  loss_bbox_3_unscaled: 0.1882 (0.2176)  loss_giou_3_unscaled: 0.3082 (0.3541)  cardinality_error_3_unscaled: 85.0000 (89.7500)  loss_ce_4_unscaled: 1.7424 (1.7657)  loss_bbox_4_unscaled: 0.1715 (0.2033)  loss_giou_4_unscaled: 0.3044 (0.3522)  cardinality_error_4_unscaled: 86.0000 (90.5000)\n",
            "Epoch: [6]  [0/4]  eta: 0:00:01  lr: 0.000100  class_error: 33.33  loss: 23.7012 (23.7012)  loss_ce: 1.6412 (1.6412)  loss_bbox: 1.3937 (1.3937)  loss_giou: 0.9566 (0.9566)  loss_ce_0: 2.0665 (2.0665)  loss_bbox_0: 1.1068 (1.1068)  loss_giou_0: 1.1755 (1.1755)  loss_ce_1: 2.0414 (2.0414)  loss_bbox_1: 1.0279 (1.0279)  loss_giou_1: 0.8410 (0.8410)  loss_ce_2: 1.8862 (1.8862)  loss_bbox_2: 1.1479 (1.1479)  loss_giou_2: 0.8164 (0.8164)  loss_ce_3: 1.8610 (1.8610)  loss_bbox_3: 0.9789 (0.9789)  loss_giou_3: 0.7871 (0.7871)  loss_ce_4: 1.6958 (1.6958)  loss_bbox_4: 1.3257 (1.3257)  loss_giou_4: 0.9516 (0.9516)  loss_ce_unscaled: 1.6412 (1.6412)  class_error_unscaled: 33.3333 (33.3333)  loss_bbox_unscaled: 0.2787 (0.2787)  loss_giou_unscaled: 0.4783 (0.4783)  cardinality_error_unscaled: 97.0000 (97.0000)  loss_ce_0_unscaled: 2.0665 (2.0665)  loss_bbox_0_unscaled: 0.2214 (0.2214)  loss_giou_0_unscaled: 0.5877 (0.5877)  cardinality_error_0_unscaled: 96.0000 (96.0000)  loss_ce_1_unscaled: 2.0414 (2.0414)  loss_bbox_1_unscaled: 0.2056 (0.2056)  loss_giou_1_unscaled: 0.4205 (0.4205)  cardinality_error_1_unscaled: 94.0000 (94.0000)  loss_ce_2_unscaled: 1.8862 (1.8862)  loss_bbox_2_unscaled: 0.2296 (0.2296)  loss_giou_2_unscaled: 0.4082 (0.4082)  cardinality_error_2_unscaled: 96.0000 (96.0000)  loss_ce_3_unscaled: 1.8610 (1.8610)  loss_bbox_3_unscaled: 0.1958 (0.1958)  loss_giou_3_unscaled: 0.3935 (0.3935)  cardinality_error_3_unscaled: 97.0000 (97.0000)  loss_ce_4_unscaled: 1.6958 (1.6958)  loss_bbox_4_unscaled: 0.2651 (0.2651)  loss_giou_4_unscaled: 0.4758 (0.4758)  cardinality_error_4_unscaled: 97.0000 (97.0000)  time: 0.3554  data: 0.1975  max mem: 853\n",
            "Epoch: [6]  [3/4]  eta: 0:00:00  lr: 0.000100  class_error: 66.67  loss: 21.3087 (21.5335)  loss_ce: 1.6412 (1.6444)  loss_bbox: 0.8115 (0.9850)  loss_giou: 0.6916 (0.7305)  loss_ce_0: 2.0220 (2.0387)  loss_bbox_0: 1.0180 (1.1063)  loss_giou_0: 0.6534 (0.8438)  loss_ce_1: 2.0303 (2.0084)  loss_bbox_1: 1.0279 (1.0243)  loss_giou_1: 0.6745 (0.7225)  loss_ce_2: 1.8064 (1.8614)  loss_bbox_2: 1.0139 (1.0270)  loss_giou_2: 0.8091 (0.8226)  loss_ce_3: 1.8610 (1.8342)  loss_bbox_3: 0.8062 (0.8636)  loss_giou_3: 0.6308 (0.6624)  loss_ce_4: 1.6958 (1.7069)  loss_bbox_4: 0.7384 (0.9271)  loss_giou_4: 0.6623 (0.7244)  loss_ce_unscaled: 1.6412 (1.6444)  class_error_unscaled: 33.3333 (50.0000)  loss_bbox_unscaled: 0.1623 (0.1970)  loss_giou_unscaled: 0.3458 (0.3652)  cardinality_error_unscaled: 95.0000 (92.0000)  loss_ce_0_unscaled: 2.0220 (2.0387)  loss_bbox_0_unscaled: 0.2036 (0.2213)  loss_giou_0_unscaled: 0.3267 (0.4219)  cardinality_error_0_unscaled: 96.0000 (95.7500)  loss_ce_1_unscaled: 2.0303 (2.0084)  loss_bbox_1_unscaled: 0.2056 (0.2049)  loss_giou_1_unscaled: 0.3372 (0.3612)  cardinality_error_1_unscaled: 96.0000 (95.7500)  loss_ce_2_unscaled: 1.8064 (1.8614)  loss_bbox_2_unscaled: 0.2028 (0.2054)  loss_giou_2_unscaled: 0.4045 (0.4113)  cardinality_error_2_unscaled: 96.0000 (95.0000)  loss_ce_3_unscaled: 1.8610 (1.8342)  loss_bbox_3_unscaled: 0.1612 (0.1727)  loss_giou_3_unscaled: 0.3154 (0.3312)  cardinality_error_3_unscaled: 95.0000 (93.0000)  loss_ce_4_unscaled: 1.6958 (1.7069)  loss_bbox_4_unscaled: 0.1477 (0.1854)  loss_giou_4_unscaled: 0.3312 (0.3622)  cardinality_error_4_unscaled: 96.0000 (94.7500)  time: 0.1822  data: 0.0535  max mem: 853\n",
            "Epoch: [6] Total time: 0:00:00 (0.2006 s / it)\n",
            "Averaged stats: lr: 0.000100  class_error: 66.67  loss: 21.3087 (21.5335)  loss_ce: 1.6412 (1.6444)  loss_bbox: 0.8115 (0.9850)  loss_giou: 0.6916 (0.7305)  loss_ce_0: 2.0220 (2.0387)  loss_bbox_0: 1.0180 (1.1063)  loss_giou_0: 0.6534 (0.8438)  loss_ce_1: 2.0303 (2.0084)  loss_bbox_1: 1.0279 (1.0243)  loss_giou_1: 0.6745 (0.7225)  loss_ce_2: 1.8064 (1.8614)  loss_bbox_2: 1.0139 (1.0270)  loss_giou_2: 0.8091 (0.8226)  loss_ce_3: 1.8610 (1.8342)  loss_bbox_3: 0.8062 (0.8636)  loss_giou_3: 0.6308 (0.6624)  loss_ce_4: 1.6958 (1.7069)  loss_bbox_4: 0.7384 (0.9271)  loss_giou_4: 0.6623 (0.7244)  loss_ce_unscaled: 1.6412 (1.6444)  class_error_unscaled: 33.3333 (50.0000)  loss_bbox_unscaled: 0.1623 (0.1970)  loss_giou_unscaled: 0.3458 (0.3652)  cardinality_error_unscaled: 95.0000 (92.0000)  loss_ce_0_unscaled: 2.0220 (2.0387)  loss_bbox_0_unscaled: 0.2036 (0.2213)  loss_giou_0_unscaled: 0.3267 (0.4219)  cardinality_error_0_unscaled: 96.0000 (95.7500)  loss_ce_1_unscaled: 2.0303 (2.0084)  loss_bbox_1_unscaled: 0.2056 (0.2049)  loss_giou_1_unscaled: 0.3372 (0.3612)  cardinality_error_1_unscaled: 96.0000 (95.7500)  loss_ce_2_unscaled: 1.8064 (1.8614)  loss_bbox_2_unscaled: 0.2028 (0.2054)  loss_giou_2_unscaled: 0.4045 (0.4113)  cardinality_error_2_unscaled: 96.0000 (95.0000)  loss_ce_3_unscaled: 1.8610 (1.8342)  loss_bbox_3_unscaled: 0.1612 (0.1727)  loss_giou_3_unscaled: 0.3154 (0.3312)  cardinality_error_3_unscaled: 95.0000 (93.0000)  loss_ce_4_unscaled: 1.6958 (1.7069)  loss_bbox_4_unscaled: 0.1477 (0.1854)  loss_giou_4_unscaled: 0.3312 (0.3622)  cardinality_error_4_unscaled: 96.0000 (94.7500)\n",
            "Epoch: [7]  [0/4]  eta: 0:00:02  lr: 0.000100  class_error: 33.33  loss: 19.7379 (19.7379)  loss_ce: 1.5398 (1.5398)  loss_bbox: 0.6087 (0.6087)  loss_giou: 0.5056 (0.5056)  loss_ce_0: 2.1891 (2.1891)  loss_bbox_0: 1.1906 (1.1906)  loss_giou_0: 0.8028 (0.8028)  loss_ce_1: 1.8927 (1.8927)  loss_bbox_1: 1.1540 (1.1540)  loss_giou_1: 0.8921 (0.8921)  loss_ce_2: 1.8180 (1.8180)  loss_bbox_2: 0.8710 (0.8710)  loss_giou_2: 0.5948 (0.5948)  loss_ce_3: 1.6248 (1.6248)  loss_bbox_3: 0.8262 (0.8262)  loss_giou_3: 0.5616 (0.5616)  loss_ce_4: 1.5355 (1.5355)  loss_bbox_4: 0.6244 (0.6244)  loss_giou_4: 0.5063 (0.5063)  loss_ce_unscaled: 1.5398 (1.5398)  class_error_unscaled: 33.3333 (33.3333)  loss_bbox_unscaled: 0.1217 (0.1217)  loss_giou_unscaled: 0.2528 (0.2528)  cardinality_error_unscaled: 97.0000 (97.0000)  loss_ce_0_unscaled: 2.1891 (2.1891)  loss_bbox_0_unscaled: 0.2381 (0.2381)  loss_giou_0_unscaled: 0.4014 (0.4014)  cardinality_error_0_unscaled: 97.0000 (97.0000)  loss_ce_1_unscaled: 1.8927 (1.8927)  loss_bbox_1_unscaled: 0.2308 (0.2308)  loss_giou_1_unscaled: 0.4460 (0.4460)  cardinality_error_1_unscaled: 97.0000 (97.0000)  loss_ce_2_unscaled: 1.8180 (1.8180)  loss_bbox_2_unscaled: 0.1742 (0.1742)  loss_giou_2_unscaled: 0.2974 (0.2974)  cardinality_error_2_unscaled: 97.0000 (97.0000)  loss_ce_3_unscaled: 1.6248 (1.6248)  loss_bbox_3_unscaled: 0.1652 (0.1652)  loss_giou_3_unscaled: 0.2808 (0.2808)  cardinality_error_3_unscaled: 95.0000 (95.0000)  loss_ce_4_unscaled: 1.5355 (1.5355)  loss_bbox_4_unscaled: 0.1249 (0.1249)  loss_giou_4_unscaled: 0.2531 (0.2531)  cardinality_error_4_unscaled: 96.0000 (96.0000)  time: 0.6027  data: 0.3141  max mem: 853\n",
            "Epoch: [7]  [3/4]  eta: 0:00:00  lr: 0.000100  class_error: 66.67  loss: 18.0377 (18.2547)  loss_ce: 1.5398 (1.5826)  loss_bbox: 0.6087 (0.6301)  loss_giou: 0.5056 (0.4967)  loss_ce_0: 1.9358 (2.0054)  loss_bbox_0: 0.6634 (0.8415)  loss_giou_0: 0.5937 (0.6318)  loss_ce_1: 1.8796 (1.8954)  loss_bbox_1: 0.7964 (0.8695)  loss_giou_1: 0.5758 (0.6398)  loss_ce_2: 1.7302 (1.7593)  loss_bbox_2: 0.7298 (0.7649)  loss_giou_2: 0.5893 (0.5906)  loss_ce_3: 1.6276 (1.6652)  loss_bbox_3: 0.6684 (0.6695)  loss_giou_3: 0.4889 (0.5251)  loss_ce_4: 1.5764 (1.5986)  loss_bbox_4: 0.6244 (0.6064)  loss_giou_4: 0.4994 (0.4822)  loss_ce_unscaled: 1.5398 (1.5826)  class_error_unscaled: 33.3333 (50.0000)  loss_bbox_unscaled: 0.1217 (0.1260)  loss_giou_unscaled: 0.2528 (0.2483)  cardinality_error_unscaled: 87.0000 (90.7500)  loss_ce_0_unscaled: 1.9358 (2.0054)  loss_bbox_0_unscaled: 0.1327 (0.1683)  loss_giou_0_unscaled: 0.2969 (0.3159)  cardinality_error_0_unscaled: 96.0000 (95.5000)  loss_ce_1_unscaled: 1.8796 (1.8954)  loss_bbox_1_unscaled: 0.1593 (0.1739)  loss_giou_1_unscaled: 0.2879 (0.3199)  cardinality_error_1_unscaled: 96.0000 (96.0000)  loss_ce_2_unscaled: 1.7302 (1.7593)  loss_bbox_2_unscaled: 0.1460 (0.1530)  loss_giou_2_unscaled: 0.2946 (0.2953)  cardinality_error_2_unscaled: 97.0000 (96.7500)  loss_ce_3_unscaled: 1.6276 (1.6652)  loss_bbox_3_unscaled: 0.1337 (0.1339)  loss_giou_3_unscaled: 0.2445 (0.2625)  cardinality_error_3_unscaled: 91.0000 (92.7500)  loss_ce_4_unscaled: 1.5764 (1.5986)  loss_bbox_4_unscaled: 0.1249 (0.1213)  loss_giou_4_unscaled: 0.2497 (0.2411)  cardinality_error_4_unscaled: 95.0000 (94.5000)  time: 0.2792  data: 0.0830  max mem: 853\n",
            "Epoch: [7] Total time: 0:00:01 (0.3048 s / it)\n",
            "Averaged stats: lr: 0.000100  class_error: 66.67  loss: 18.0377 (18.2547)  loss_ce: 1.5398 (1.5826)  loss_bbox: 0.6087 (0.6301)  loss_giou: 0.5056 (0.4967)  loss_ce_0: 1.9358 (2.0054)  loss_bbox_0: 0.6634 (0.8415)  loss_giou_0: 0.5937 (0.6318)  loss_ce_1: 1.8796 (1.8954)  loss_bbox_1: 0.7964 (0.8695)  loss_giou_1: 0.5758 (0.6398)  loss_ce_2: 1.7302 (1.7593)  loss_bbox_2: 0.7298 (0.7649)  loss_giou_2: 0.5893 (0.5906)  loss_ce_3: 1.6276 (1.6652)  loss_bbox_3: 0.6684 (0.6695)  loss_giou_3: 0.4889 (0.5251)  loss_ce_4: 1.5764 (1.5986)  loss_bbox_4: 0.6244 (0.6064)  loss_giou_4: 0.4994 (0.4822)  loss_ce_unscaled: 1.5398 (1.5826)  class_error_unscaled: 33.3333 (50.0000)  loss_bbox_unscaled: 0.1217 (0.1260)  loss_giou_unscaled: 0.2528 (0.2483)  cardinality_error_unscaled: 87.0000 (90.7500)  loss_ce_0_unscaled: 1.9358 (2.0054)  loss_bbox_0_unscaled: 0.1327 (0.1683)  loss_giou_0_unscaled: 0.2969 (0.3159)  cardinality_error_0_unscaled: 96.0000 (95.5000)  loss_ce_1_unscaled: 1.8796 (1.8954)  loss_bbox_1_unscaled: 0.1593 (0.1739)  loss_giou_1_unscaled: 0.2879 (0.3199)  cardinality_error_1_unscaled: 96.0000 (96.0000)  loss_ce_2_unscaled: 1.7302 (1.7593)  loss_bbox_2_unscaled: 0.1460 (0.1530)  loss_giou_2_unscaled: 0.2946 (0.2953)  cardinality_error_2_unscaled: 97.0000 (96.7500)  loss_ce_3_unscaled: 1.6276 (1.6652)  loss_bbox_3_unscaled: 0.1337 (0.1339)  loss_giou_3_unscaled: 0.2445 (0.2625)  cardinality_error_3_unscaled: 91.0000 (92.7500)  loss_ce_4_unscaled: 1.5764 (1.5986)  loss_bbox_4_unscaled: 0.1249 (0.1213)  loss_giou_4_unscaled: 0.2497 (0.2411)  cardinality_error_4_unscaled: 95.0000 (94.5000)\n",
            "Epoch: [8]  [0/4]  eta: 0:00:01  lr: 0.000100  class_error: 33.33  loss: 20.4084 (20.4084)  loss_ce: 1.4182 (1.4182)  loss_bbox: 0.9203 (0.9203)  loss_giou: 0.7683 (0.7683)  loss_ce_0: 1.6861 (1.6861)  loss_bbox_0: 1.4741 (1.4741)  loss_giou_0: 0.9752 (0.9752)  loss_ce_1: 1.8516 (1.8516)  loss_bbox_1: 0.9900 (0.9900)  loss_giou_1: 0.9055 (0.9055)  loss_ce_2: 1.8158 (1.8158)  loss_bbox_2: 0.9452 (0.9452)  loss_giou_2: 0.6894 (0.6894)  loss_ce_3: 1.5746 (1.5746)  loss_bbox_3: 0.7152 (0.7152)  loss_giou_3: 0.6253 (0.6253)  loss_ce_4: 1.4700 (1.4700)  loss_bbox_4: 0.8377 (0.8377)  loss_giou_4: 0.7459 (0.7459)  loss_ce_unscaled: 1.4182 (1.4182)  class_error_unscaled: 33.3333 (33.3333)  loss_bbox_unscaled: 0.1841 (0.1841)  loss_giou_unscaled: 0.3841 (0.3841)  cardinality_error_unscaled: 93.0000 (93.0000)  loss_ce_0_unscaled: 1.6861 (1.6861)  loss_bbox_0_unscaled: 0.2948 (0.2948)  loss_giou_0_unscaled: 0.4876 (0.4876)  cardinality_error_0_unscaled: 96.0000 (96.0000)  loss_ce_1_unscaled: 1.8516 (1.8516)  loss_bbox_1_unscaled: 0.1980 (0.1980)  loss_giou_1_unscaled: 0.4528 (0.4528)  cardinality_error_1_unscaled: 97.0000 (97.0000)  loss_ce_2_unscaled: 1.8158 (1.8158)  loss_bbox_2_unscaled: 0.1890 (0.1890)  loss_giou_2_unscaled: 0.3447 (0.3447)  cardinality_error_2_unscaled: 97.0000 (97.0000)  loss_ce_3_unscaled: 1.5746 (1.5746)  loss_bbox_3_unscaled: 0.1430 (0.1430)  loss_giou_3_unscaled: 0.3127 (0.3127)  cardinality_error_3_unscaled: 94.0000 (94.0000)  loss_ce_4_unscaled: 1.4700 (1.4700)  loss_bbox_4_unscaled: 0.1675 (0.1675)  loss_giou_4_unscaled: 0.3729 (0.3729)  cardinality_error_4_unscaled: 94.0000 (94.0000)  time: 0.3877  data: 0.1837  max mem: 853\n",
            "Epoch: [8]  [3/4]  eta: 0:00:00  lr: 0.000100  class_error: 33.33  loss: 18.3794 (19.1271)  loss_ce: 1.4182 (1.4304)  loss_bbox: 0.6532 (0.7665)  loss_giou: 0.5088 (0.5876)  loss_ce_0: 1.8701 (1.9686)  loss_bbox_0: 0.9525 (1.1198)  loss_giou_0: 0.8208 (0.7963)  loss_ce_1: 1.8094 (1.8456)  loss_bbox_1: 0.9900 (0.9397)  loss_giou_1: 0.8737 (0.8172)  loss_ce_2: 1.7992 (1.7825)  loss_bbox_2: 0.7084 (0.8043)  loss_giou_2: 0.5511 (0.6255)  loss_ce_3: 1.5735 (1.6153)  loss_bbox_3: 0.6329 (0.6467)  loss_giou_3: 0.4665 (0.5416)  loss_ce_4: 1.4700 (1.4696)  loss_bbox_4: 0.7309 (0.7670)  loss_giou_4: 0.5694 (0.6028)  loss_ce_unscaled: 1.4182 (1.4304)  class_error_unscaled: 33.3333 (41.6667)  loss_bbox_unscaled: 0.1306 (0.1533)  loss_giou_unscaled: 0.2544 (0.2938)  cardinality_error_unscaled: 79.0000 (84.5000)  loss_ce_0_unscaled: 1.8701 (1.9686)  loss_bbox_0_unscaled: 0.1905 (0.2240)  loss_giou_0_unscaled: 0.4104 (0.3982)  cardinality_error_0_unscaled: 96.0000 (96.5000)  loss_ce_1_unscaled: 1.8094 (1.8456)  loss_bbox_1_unscaled: 0.1980 (0.1879)  loss_giou_1_unscaled: 0.4368 (0.4086)  cardinality_error_1_unscaled: 96.0000 (96.2500)  loss_ce_2_unscaled: 1.7992 (1.7825)  loss_bbox_2_unscaled: 0.1417 (0.1609)  loss_giou_2_unscaled: 0.2755 (0.3128)  cardinality_error_2_unscaled: 97.0000 (95.0000)  loss_ce_3_unscaled: 1.5735 (1.6153)  loss_bbox_3_unscaled: 0.1266 (0.1293)  loss_giou_3_unscaled: 0.2333 (0.2708)  cardinality_error_3_unscaled: 89.0000 (90.0000)  loss_ce_4_unscaled: 1.4700 (1.4696)  loss_bbox_4_unscaled: 0.1462 (0.1534)  loss_giou_4_unscaled: 0.2847 (0.3014)  cardinality_error_4_unscaled: 89.0000 (90.2500)  time: 0.1892  data: 0.0500  max mem: 853\n",
            "Epoch: [8] Total time: 0:00:00 (0.2061 s / it)\n",
            "Averaged stats: lr: 0.000100  class_error: 33.33  loss: 18.3794 (19.1271)  loss_ce: 1.4182 (1.4304)  loss_bbox: 0.6532 (0.7665)  loss_giou: 0.5088 (0.5876)  loss_ce_0: 1.8701 (1.9686)  loss_bbox_0: 0.9525 (1.1198)  loss_giou_0: 0.8208 (0.7963)  loss_ce_1: 1.8094 (1.8456)  loss_bbox_1: 0.9900 (0.9397)  loss_giou_1: 0.8737 (0.8172)  loss_ce_2: 1.7992 (1.7825)  loss_bbox_2: 0.7084 (0.8043)  loss_giou_2: 0.5511 (0.6255)  loss_ce_3: 1.5735 (1.6153)  loss_bbox_3: 0.6329 (0.6467)  loss_giou_3: 0.4665 (0.5416)  loss_ce_4: 1.4700 (1.4696)  loss_bbox_4: 0.7309 (0.7670)  loss_giou_4: 0.5694 (0.6028)  loss_ce_unscaled: 1.4182 (1.4304)  class_error_unscaled: 33.3333 (41.6667)  loss_bbox_unscaled: 0.1306 (0.1533)  loss_giou_unscaled: 0.2544 (0.2938)  cardinality_error_unscaled: 79.0000 (84.5000)  loss_ce_0_unscaled: 1.8701 (1.9686)  loss_bbox_0_unscaled: 0.1905 (0.2240)  loss_giou_0_unscaled: 0.4104 (0.3982)  cardinality_error_0_unscaled: 96.0000 (96.5000)  loss_ce_1_unscaled: 1.8094 (1.8456)  loss_bbox_1_unscaled: 0.1980 (0.1879)  loss_giou_1_unscaled: 0.4368 (0.4086)  cardinality_error_1_unscaled: 96.0000 (96.2500)  loss_ce_2_unscaled: 1.7992 (1.7825)  loss_bbox_2_unscaled: 0.1417 (0.1609)  loss_giou_2_unscaled: 0.2755 (0.3128)  cardinality_error_2_unscaled: 97.0000 (95.0000)  loss_ce_3_unscaled: 1.5735 (1.6153)  loss_bbox_3_unscaled: 0.1266 (0.1293)  loss_giou_3_unscaled: 0.2333 (0.2708)  cardinality_error_3_unscaled: 89.0000 (90.0000)  loss_ce_4_unscaled: 1.4700 (1.4696)  loss_bbox_4_unscaled: 0.1462 (0.1534)  loss_giou_4_unscaled: 0.2847 (0.3014)  cardinality_error_4_unscaled: 89.0000 (90.2500)\n",
            "Epoch: [9]  [0/4]  eta: 0:00:01  lr: 0.000100  class_error: 66.67  loss: 18.9186 (18.9186)  loss_ce: 1.5696 (1.5696)  loss_bbox: 0.7858 (0.7858)  loss_giou: 0.4543 (0.4543)  loss_ce_0: 1.9044 (1.9044)  loss_bbox_0: 0.9652 (0.9652)  loss_giou_0: 0.7719 (0.7719)  loss_ce_1: 1.9071 (1.9071)  loss_bbox_1: 0.8755 (0.8755)  loss_giou_1: 0.6878 (0.6878)  loss_ce_2: 1.7218 (1.7218)  loss_bbox_2: 0.8767 (0.8767)  loss_giou_2: 0.6197 (0.6197)  loss_ce_3: 1.6695 (1.6695)  loss_bbox_3: 0.7502 (0.7502)  loss_giou_3: 0.4668 (0.4668)  loss_ce_4: 1.5245 (1.5245)  loss_bbox_4: 0.8509 (0.8509)  loss_giou_4: 0.5167 (0.5167)  loss_ce_unscaled: 1.5696 (1.5696)  class_error_unscaled: 66.6667 (66.6667)  loss_bbox_unscaled: 0.1572 (0.1572)  loss_giou_unscaled: 0.2271 (0.2271)  cardinality_error_unscaled: 43.0000 (43.0000)  loss_ce_0_unscaled: 1.9044 (1.9044)  loss_bbox_0_unscaled: 0.1930 (0.1930)  loss_giou_0_unscaled: 0.3859 (0.3859)  cardinality_error_0_unscaled: 95.0000 (95.0000)  loss_ce_1_unscaled: 1.9071 (1.9071)  loss_bbox_1_unscaled: 0.1751 (0.1751)  loss_giou_1_unscaled: 0.3439 (0.3439)  cardinality_error_1_unscaled: 94.0000 (94.0000)  loss_ce_2_unscaled: 1.7218 (1.7218)  loss_bbox_2_unscaled: 0.1753 (0.1753)  loss_giou_2_unscaled: 0.3098 (0.3098)  cardinality_error_2_unscaled: 82.0000 (82.0000)  loss_ce_3_unscaled: 1.6695 (1.6695)  loss_bbox_3_unscaled: 0.1500 (0.1500)  loss_giou_3_unscaled: 0.2334 (0.2334)  cardinality_error_3_unscaled: 59.0000 (59.0000)  loss_ce_4_unscaled: 1.5245 (1.5245)  loss_bbox_4_unscaled: 0.1702 (0.1702)  loss_giou_4_unscaled: 0.2584 (0.2584)  cardinality_error_4_unscaled: 53.0000 (53.0000)  time: 0.3744  data: 0.1951  max mem: 853\n",
            "Epoch: [9]  [3/4]  eta: 0:00:00  lr: 0.000100  class_error: 33.33  loss: 18.9186 (19.6015)  loss_ce: 1.4326 (1.4571)  loss_bbox: 0.7858 (0.8104)  loss_giou: 0.6113 (0.7038)  loss_ce_0: 1.8574 (1.8303)  loss_bbox_0: 0.9652 (1.1208)  loss_giou_0: 0.7719 (0.8860)  loss_ce_1: 1.6985 (1.7450)  loss_bbox_1: 0.8755 (0.9262)  loss_giou_1: 0.6878 (0.7791)  loss_ce_2: 1.6033 (1.6521)  loss_bbox_2: 0.8767 (0.8648)  loss_giou_2: 0.6197 (0.7498)  loss_ce_3: 1.5089 (1.5677)  loss_bbox_3: 0.7502 (0.8248)  loss_giou_3: 0.5162 (0.6992)  loss_ce_4: 1.4695 (1.4646)  loss_bbox_4: 0.8217 (0.8238)  loss_giou_4: 0.5660 (0.6961)  loss_ce_unscaled: 1.4326 (1.4571)  class_error_unscaled: 33.3333 (41.6667)  loss_bbox_unscaled: 0.1572 (0.1621)  loss_giou_unscaled: 0.3056 (0.3519)  cardinality_error_unscaled: 45.0000 (65.2500)  loss_ce_0_unscaled: 1.8574 (1.8303)  loss_bbox_0_unscaled: 0.1930 (0.2242)  loss_giou_0_unscaled: 0.3859 (0.4430)  cardinality_error_0_unscaled: 95.0000 (95.2500)  loss_ce_1_unscaled: 1.6985 (1.7450)  loss_bbox_1_unscaled: 0.1751 (0.1852)  loss_giou_1_unscaled: 0.3439 (0.3895)  cardinality_error_1_unscaled: 94.0000 (90.5000)  loss_ce_2_unscaled: 1.6033 (1.6521)  loss_bbox_2_unscaled: 0.1753 (0.1730)  loss_giou_2_unscaled: 0.3098 (0.3749)  cardinality_error_2_unscaled: 82.0000 (85.5000)  loss_ce_3_unscaled: 1.5089 (1.5677)  loss_bbox_3_unscaled: 0.1500 (0.1650)  loss_giou_3_unscaled: 0.2581 (0.3496)  cardinality_error_3_unscaled: 59.0000 (75.0000)  loss_ce_4_unscaled: 1.4695 (1.4646)  loss_bbox_4_unscaled: 0.1643 (0.1648)  loss_giou_4_unscaled: 0.2830 (0.3480)  cardinality_error_4_unscaled: 53.0000 (71.2500)  time: 0.1870  data: 0.0535  max mem: 853\n",
            "Epoch: [9] Total time: 0:00:00 (0.2049 s / it)\n",
            "Averaged stats: lr: 0.000100  class_error: 33.33  loss: 18.9186 (19.6015)  loss_ce: 1.4326 (1.4571)  loss_bbox: 0.7858 (0.8104)  loss_giou: 0.6113 (0.7038)  loss_ce_0: 1.8574 (1.8303)  loss_bbox_0: 0.9652 (1.1208)  loss_giou_0: 0.7719 (0.8860)  loss_ce_1: 1.6985 (1.7450)  loss_bbox_1: 0.8755 (0.9262)  loss_giou_1: 0.6878 (0.7791)  loss_ce_2: 1.6033 (1.6521)  loss_bbox_2: 0.8767 (0.8648)  loss_giou_2: 0.6197 (0.7498)  loss_ce_3: 1.5089 (1.5677)  loss_bbox_3: 0.7502 (0.8248)  loss_giou_3: 0.5162 (0.6992)  loss_ce_4: 1.4695 (1.4646)  loss_bbox_4: 0.8217 (0.8238)  loss_giou_4: 0.5660 (0.6961)  loss_ce_unscaled: 1.4326 (1.4571)  class_error_unscaled: 33.3333 (41.6667)  loss_bbox_unscaled: 0.1572 (0.1621)  loss_giou_unscaled: 0.3056 (0.3519)  cardinality_error_unscaled: 45.0000 (65.2500)  loss_ce_0_unscaled: 1.8574 (1.8303)  loss_bbox_0_unscaled: 0.1930 (0.2242)  loss_giou_0_unscaled: 0.3859 (0.4430)  cardinality_error_0_unscaled: 95.0000 (95.2500)  loss_ce_1_unscaled: 1.6985 (1.7450)  loss_bbox_1_unscaled: 0.1751 (0.1852)  loss_giou_1_unscaled: 0.3439 (0.3895)  cardinality_error_1_unscaled: 94.0000 (90.5000)  loss_ce_2_unscaled: 1.6033 (1.6521)  loss_bbox_2_unscaled: 0.1753 (0.1730)  loss_giou_2_unscaled: 0.3098 (0.3749)  cardinality_error_2_unscaled: 82.0000 (85.5000)  loss_ce_3_unscaled: 1.5089 (1.5677)  loss_bbox_3_unscaled: 0.1500 (0.1650)  loss_giou_3_unscaled: 0.2581 (0.3496)  cardinality_error_3_unscaled: 59.0000 (75.0000)  loss_ce_4_unscaled: 1.4695 (1.4646)  loss_bbox_4_unscaled: 0.1643 (0.1648)  loss_giou_4_unscaled: 0.2830 (0.3480)  cardinality_error_4_unscaled: 53.0000 (71.2500)\n",
            "Epoch: [10]  [0/4]  eta: 0:00:01  lr: 0.000100  class_error: 66.67  loss: 15.9836 (15.9836)  loss_ce: 1.3012 (1.3012)  loss_bbox: 0.4896 (0.4896)  loss_giou: 0.4313 (0.4313)  loss_ce_0: 1.8177 (1.8177)  loss_bbox_0: 0.8482 (0.8482)  loss_giou_0: 0.6758 (0.6758)  loss_ce_1: 1.8263 (1.8263)  loss_bbox_1: 0.4235 (0.4235)  loss_giou_1: 0.4100 (0.4100)  loss_ce_2: 1.5419 (1.5419)  loss_bbox_2: 0.6485 (0.6485)  loss_giou_2: 0.5423 (0.5423)  loss_ce_3: 1.5224 (1.5224)  loss_bbox_3: 0.6315 (0.6315)  loss_giou_3: 0.5128 (0.5128)  loss_ce_4: 1.3608 (1.3608)  loss_bbox_4: 0.4893 (0.4893)  loss_giou_4: 0.5104 (0.5104)  loss_ce_unscaled: 1.3012 (1.3012)  class_error_unscaled: 66.6667 (66.6667)  loss_bbox_unscaled: 0.0979 (0.0979)  loss_giou_unscaled: 0.2156 (0.2156)  cardinality_error_unscaled: 80.0000 (80.0000)  loss_ce_0_unscaled: 1.8177 (1.8177)  loss_bbox_0_unscaled: 0.1696 (0.1696)  loss_giou_0_unscaled: 0.3379 (0.3379)  cardinality_error_0_unscaled: 97.0000 (97.0000)  loss_ce_1_unscaled: 1.8263 (1.8263)  loss_bbox_1_unscaled: 0.0847 (0.0847)  loss_giou_1_unscaled: 0.2050 (0.2050)  cardinality_error_1_unscaled: 97.0000 (97.0000)  loss_ce_2_unscaled: 1.5419 (1.5419)  loss_bbox_2_unscaled: 0.1297 (0.1297)  loss_giou_2_unscaled: 0.2712 (0.2712)  cardinality_error_2_unscaled: 97.0000 (97.0000)  loss_ce_3_unscaled: 1.5224 (1.5224)  loss_bbox_3_unscaled: 0.1263 (0.1263)  loss_giou_3_unscaled: 0.2564 (0.2564)  cardinality_error_3_unscaled: 95.0000 (95.0000)  loss_ce_4_unscaled: 1.3608 (1.3608)  loss_bbox_4_unscaled: 0.0979 (0.0979)  loss_giou_4_unscaled: 0.2552 (0.2552)  cardinality_error_4_unscaled: 94.0000 (94.0000)  time: 0.3996  data: 0.2435  max mem: 853\n",
            "Epoch: [10]  [3/4]  eta: 0:00:00  lr: 0.000100  class_error: 66.67  loss: 20.2212 (19.6260)  loss_ce: 1.3012 (1.3715)  loss_bbox: 0.7757 (0.8897)  loss_giou: 0.6803 (0.7409)  loss_ce_0: 1.8019 (1.8123)  loss_bbox_0: 1.0519 (1.0788)  loss_giou_0: 0.6758 (0.8466)  loss_ce_1: 1.6793 (1.7273)  loss_bbox_1: 0.9213 (0.8998)  loss_giou_1: 0.5740 (0.7474)  loss_ce_2: 1.5999 (1.6313)  loss_bbox_2: 0.9091 (0.9250)  loss_giou_2: 0.7193 (0.7765)  loss_ce_3: 1.4669 (1.4608)  loss_bbox_3: 1.0108 (0.9384)  loss_giou_3: 0.7786 (0.7809)  loss_ce_4: 1.3608 (1.3757)  loss_bbox_4: 0.8665 (0.8599)  loss_giou_4: 0.8189 (0.7631)  loss_ce_unscaled: 1.3012 (1.3715)  class_error_unscaled: 66.6667 (75.0000)  loss_bbox_unscaled: 0.1551 (0.1779)  loss_giou_unscaled: 0.3402 (0.3704)  cardinality_error_unscaled: 56.0000 (59.7500)  loss_ce_0_unscaled: 1.8019 (1.8123)  loss_bbox_0_unscaled: 0.2104 (0.2158)  loss_giou_0_unscaled: 0.3379 (0.4233)  cardinality_error_0_unscaled: 93.0000 (92.7500)  loss_ce_1_unscaled: 1.6793 (1.7273)  loss_bbox_1_unscaled: 0.1843 (0.1800)  loss_giou_1_unscaled: 0.2870 (0.3737)  cardinality_error_1_unscaled: 91.0000 (92.0000)  loss_ce_2_unscaled: 1.5999 (1.6313)  loss_bbox_2_unscaled: 0.1818 (0.1850)  loss_giou_2_unscaled: 0.3596 (0.3883)  cardinality_error_2_unscaled: 92.0000 (92.5000)  loss_ce_3_unscaled: 1.4669 (1.4608)  loss_bbox_3_unscaled: 0.2022 (0.1877)  loss_giou_3_unscaled: 0.3893 (0.3904)  cardinality_error_3_unscaled: 75.0000 (78.7500)  loss_ce_4_unscaled: 1.3608 (1.3757)  loss_bbox_4_unscaled: 0.1733 (0.1720)  loss_giou_4_unscaled: 0.4095 (0.3815)  cardinality_error_4_unscaled: 79.0000 (80.7500)  time: 0.1914  data: 0.0662  max mem: 853\n",
            "Epoch: [10] Total time: 0:00:00 (0.2085 s / it)\n",
            "Averaged stats: lr: 0.000100  class_error: 66.67  loss: 20.2212 (19.6260)  loss_ce: 1.3012 (1.3715)  loss_bbox: 0.7757 (0.8897)  loss_giou: 0.6803 (0.7409)  loss_ce_0: 1.8019 (1.8123)  loss_bbox_0: 1.0519 (1.0788)  loss_giou_0: 0.6758 (0.8466)  loss_ce_1: 1.6793 (1.7273)  loss_bbox_1: 0.9213 (0.8998)  loss_giou_1: 0.5740 (0.7474)  loss_ce_2: 1.5999 (1.6313)  loss_bbox_2: 0.9091 (0.9250)  loss_giou_2: 0.7193 (0.7765)  loss_ce_3: 1.4669 (1.4608)  loss_bbox_3: 1.0108 (0.9384)  loss_giou_3: 0.7786 (0.7809)  loss_ce_4: 1.3608 (1.3757)  loss_bbox_4: 0.8665 (0.8599)  loss_giou_4: 0.8189 (0.7631)  loss_ce_unscaled: 1.3012 (1.3715)  class_error_unscaled: 66.6667 (75.0000)  loss_bbox_unscaled: 0.1551 (0.1779)  loss_giou_unscaled: 0.3402 (0.3704)  cardinality_error_unscaled: 56.0000 (59.7500)  loss_ce_0_unscaled: 1.8019 (1.8123)  loss_bbox_0_unscaled: 0.2104 (0.2158)  loss_giou_0_unscaled: 0.3379 (0.4233)  cardinality_error_0_unscaled: 93.0000 (92.7500)  loss_ce_1_unscaled: 1.6793 (1.7273)  loss_bbox_1_unscaled: 0.1843 (0.1800)  loss_giou_1_unscaled: 0.2870 (0.3737)  cardinality_error_1_unscaled: 91.0000 (92.0000)  loss_ce_2_unscaled: 1.5999 (1.6313)  loss_bbox_2_unscaled: 0.1818 (0.1850)  loss_giou_2_unscaled: 0.3596 (0.3883)  cardinality_error_2_unscaled: 92.0000 (92.5000)  loss_ce_3_unscaled: 1.4669 (1.4608)  loss_bbox_3_unscaled: 0.2022 (0.1877)  loss_giou_3_unscaled: 0.3893 (0.3904)  cardinality_error_3_unscaled: 75.0000 (78.7500)  loss_ce_4_unscaled: 1.3608 (1.3757)  loss_bbox_4_unscaled: 0.1733 (0.1720)  loss_giou_4_unscaled: 0.4095 (0.3815)  cardinality_error_4_unscaled: 79.0000 (80.7500)\n"
          ]
        }
      ]
    },
    {
      "cell_type": "code",
      "source": [],
      "metadata": {
        "id": "W4NF_dkZkgOS"
      },
      "execution_count": null,
      "outputs": []
    }
  ]
}