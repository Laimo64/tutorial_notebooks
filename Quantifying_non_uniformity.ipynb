{
  "nbformat": 4,
  "nbformat_minor": 0,
  "metadata": {
    "colab": {
      "name": "Quantifying_non-uniformity",
      "provenance": [],
      "authorship_tag": "ABX9TyOCT2Xc9ItIvMdbdckyyGOD",
      "include_colab_link": true
    },
    "kernelspec": {
      "name": "python3",
      "display_name": "Python 3"
    },
    "language_info": {
      "name": "python"
    }
  },
  "cells": [
    {
      "cell_type": "markdown",
      "metadata": {
        "id": "view-in-github",
        "colab_type": "text"
      },
      "source": [
        "<a href=\"https://colab.research.google.com/github/mobarakol/tutorial_notebooks/blob/main/Quantifying_non_uniformity.ipynb\" target=\"_parent\"><img src=\"https://colab.research.google.com/assets/colab-badge.svg\" alt=\"Open In Colab\"/></a>"
      ]
    },
    {
      "cell_type": "markdown",
      "source": [
        "https://stats.stackexchange.com/questions/25827/how-does-one-measure-the-non-uniformity-of-a-distribution"
      ],
      "metadata": {
        "id": "4ECqLUVUkSXk"
      }
    },
    {
      "cell_type": "code",
      "execution_count": null,
      "metadata": {
        "colab": {
          "base_uri": "https://localhost:8080/"
        },
        "id": "IyRqsZAwkMk7",
        "outputId": "acbd1a64-1189-4611-9944-6bc24f7b80e3"
      },
      "outputs": [
        {
          "output_type": "stream",
          "name": "stdout",
          "text": [
            "(10,) (10,) (10,)\n",
            "std            : [5 3 6 0 4 2 7 8 1 9]\n",
            "shannon entropy: [5 3 6 2 0 4 8 7 1 9]\n",
            "kl_div         : [5 3 6 2 0 4 8 7 1 9]\n"
          ]
        }
      ],
      "source": [
        "import numpy as np\n",
        "from scipy.stats import entropy\n",
        "from scipy.special import kl_div\n",
        "from scipy.special import rel_entr\n",
        "\n",
        "def get_shannon_entropy(A):\n",
        "    pA = A / A.sum()\n",
        "    se = -np.sum(pA*np.log2(pA))\n",
        "    return se\n",
        "\n",
        "def softmax(x):\n",
        "    f_x = np.exp(x) / np.sum(np.exp(x))\n",
        "    return f_x\n",
        "\n",
        "rng = np.random.default_rng(12345)\n",
        "dist = []\n",
        "std = []\n",
        "se = []\n",
        "kl = []\n",
        "for _ in range(10):\n",
        "    rints = softmax(rng.random((10, 1)))\n",
        "    dist.append(rints)\n",
        "    std.append(np.std(rints))\n",
        "    se.append(entropy(rints, base=2))\n",
        "    kl.append(np.sum(kl_div(np.squeeze(rints), np.ones(10)/10)))\n",
        "std = np.array(std)\n",
        "se = 1 - np.array(se).squeeze()\n",
        "kl = np.array(kl)\n",
        "print(std.shape, se.shape, kl.shape)\n",
        "\n",
        "print('std            :',np.argsort(std))\n",
        "print('shannon entropy:',np.argsort(se))\n",
        "print('kl_div         :',np.argsort(kl))"
      ]
    },
    {
      "cell_type": "code",
      "source": [
        ""
      ],
      "metadata": {
        "id": "kRbFpYZjSUn0"
      },
      "execution_count": null,
      "outputs": []
    }
  ]
}