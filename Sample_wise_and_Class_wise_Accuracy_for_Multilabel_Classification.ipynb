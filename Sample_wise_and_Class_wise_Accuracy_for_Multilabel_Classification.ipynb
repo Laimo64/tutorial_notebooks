{
  "nbformat": 4,
  "nbformat_minor": 0,
  "metadata": {
    "colab": {
      "name": "Sample-wise and Class-wise Accuracy for Multilabel Classification.ipynb",
      "provenance": [],
      "include_colab_link": true
    },
    "kernelspec": {
      "name": "python3",
      "display_name": "Python 3"
    },
    "language_info": {
      "name": "python"
    }
  },
  "cells": [
    {
      "cell_type": "markdown",
      "metadata": {
        "id": "view-in-github",
        "colab_type": "text"
      },
      "source": [
        "<a href=\"https://colab.research.google.com/github/mobarakol/tutorial_notebooks/blob/main/Sample_wise_and_Class_wise_Accuracy_for_Multilabel_Classification.ipynb\" target=\"_parent\"><img src=\"https://colab.research.google.com/assets/colab-badge.svg\" alt=\"Open In Colab\"/></a>"
      ]
    },
    {
      "cell_type": "code",
      "metadata": {
        "id": "LdIso5JibvfB"
      },
      "source": [
        "## import libraries\n",
        "\n",
        "import torch\n",
        "import numpy as np\n",
        "from sklearn.metrics import accuracy_score, multilabel_confusion_matrix, hamming_loss"
      ],
      "execution_count": null,
      "outputs": []
    },
    {
      "cell_type": "markdown",
      "source": [
        "Ref: https://mmuratarat.github.io/2020-01-25/multilabel_classification_metrics"
      ],
      "metadata": {
        "id": "e2vKEEEUOEPK"
      }
    },
    {
      "cell_type": "markdown",
      "source": [
        "# Sample Wise Accuracy \n"
      ],
      "metadata": {
        "id": "VNHDsQTOSDYI"
      }
    },
    {
      "cell_type": "markdown",
      "source": [
        "# 1. Subset Accuracy / Exact Match Ratio: \n",
        "The set of labels predicted for a sample must exactly match the corresponding set of labels in y_true."
      ],
      "metadata": {
        "id": "_35hLh9rzagr"
      }
    },
    {
      "cell_type": "code",
      "metadata": {
        "colab": {
          "base_uri": "https://localhost:8080/"
        },
        "id": "ypjVZjEPb7nt",
        "outputId": "5d636346-fed8-4455-8ad9-f1d734168eef"
      },
      "source": [
        "## Example 1\n",
        "\n",
        "pred_logits = torch.tensor([ 1.,  0.3976, -1., 1., -1., -1., -1., -0.913 ])\n",
        "pred_sigmoid = torch.sigmoid(pred_logits)\n",
        "pred = torch.round(pred_sigmoid)\n",
        "gt = np.array([1., 1., 0., 1., 0., 0., 0., 0.])\n",
        "\n",
        "print('pred_logits: ', pred_logits)\n",
        "print('pred_sigmoid: ', pred_sigmoid)\n",
        "print('pred: ', pred)\n",
        "print('gt: ', gt)\n",
        "\n",
        "acc = accuracy_score(gt, pred.detach().cpu().numpy())\n",
        "print('Accuracy: ', acc)"
      ],
      "execution_count": null,
      "outputs": [
        {
          "output_type": "stream",
          "name": "stdout",
          "text": [
            "pred_logits:  tensor([ 1.0000,  0.3976, -1.0000,  1.0000, -1.0000, -1.0000, -1.0000, -0.9130])\n",
            "pred_sigmoid:  tensor([0.7311, 0.5981, 0.2689, 0.7311, 0.2689, 0.2689, 0.2689, 0.2864])\n",
            "pred:  tensor([1., 1., 0., 1., 0., 0., 0., 0.])\n",
            "gt:  [1. 1. 0. 1. 0. 0. 0. 0.]\n",
            "Accuracy:  1.0\n"
          ]
        }
      ]
    },
    {
      "cell_type": "code",
      "metadata": {
        "colab": {
          "base_uri": "https://localhost:8080/"
        },
        "id": "a91Ep3dHeaUj",
        "outputId": "9001a56e-162a-4c49-e5ba-4349ecac6fb9"
      },
      "source": [
        "## Example 2\n",
        "\n",
        "pred_logits = torch.tensor([ 1.,  0.3976, -1., 1., -1., -1., -1., -0.913 ])\n",
        "pred_sigmoid = torch.sigmoid(pred_logits)\n",
        "pred = torch.round(pred_sigmoid)\n",
        "gt = np.array([1., 0., 0., 1., 0., 0., 1., 0.])        ## Adjustment on grouth truth so that the correct label is 6/8\n",
        "\n",
        "print('pred_logits: ', pred_logits)\n",
        "print('pred_sigmoid: ', pred_sigmoid)\n",
        "print('pred: ', pred)\n",
        "print('gt: ', gt)\n",
        "\n",
        "acc = accuracy_score(gt, pred.detach().cpu().numpy())\n",
        "print('Accuracy: ', acc)"
      ],
      "execution_count": null,
      "outputs": [
        {
          "output_type": "stream",
          "name": "stdout",
          "text": [
            "pred_logits:  tensor([ 1.0000,  0.3976, -1.0000,  1.0000, -1.0000, -1.0000, -1.0000, -0.9130])\n",
            "pred_sigmoid:  tensor([0.7311, 0.5981, 0.2689, 0.7311, 0.2689, 0.2689, 0.2689, 0.2864])\n",
            "pred:  tensor([1., 1., 0., 1., 0., 0., 0., 0.])\n",
            "gt:  [1. 0. 0. 1. 0. 0. 1. 0.]\n",
            "Accuracy:  0.75\n"
          ]
        }
      ]
    },
    {
      "cell_type": "code",
      "metadata": {
        "colab": {
          "base_uri": "https://localhost:8080/"
        },
        "id": "YN7ePmk_i1Fa",
        "outputId": "eff82cd2-2f2a-450f-f0b5-f04503f4d573"
      },
      "source": [
        "## Example 3 (1 sample with 8 classes prediction)\n",
        "\n",
        "pred_logits = torch.tensor([[ 1.,  0.3976, -1., 1., -1., -1., -1., -0.913 ]])\n",
        "pred_sigmoid = torch.sigmoid(pred_logits)\n",
        "pred = torch.round(pred_sigmoid)\n",
        "gt = np.array([[1., 0., 0., 1., 0., 0., 1., 0.]])        ## Adjustment on grouth truth so that the correct prediction is 6/8\n",
        "\n",
        "print('pred_logits: ', pred_logits)\n",
        "print('pred_sigmoid: ', pred_sigmoid)\n",
        "print('pred: ', pred)\n",
        "print('gt: ', gt)\n",
        "\n",
        "acc = accuracy_score(gt, pred.detach().cpu().numpy())\n",
        "print('Accuracy: ', acc)                                ## Accuracy = 0 "
      ],
      "execution_count": null,
      "outputs": [
        {
          "output_type": "stream",
          "name": "stdout",
          "text": [
            "pred_logits:  tensor([[ 1.0000,  0.3976, -1.0000,  1.0000, -1.0000, -1.0000, -1.0000, -0.9130]])\n",
            "pred_sigmoid:  tensor([[0.7311, 0.5981, 0.2689, 0.7311, 0.2689, 0.2689, 0.2689, 0.2864]])\n",
            "pred:  tensor([[1., 1., 0., 1., 0., 0., 0., 0.]])\n",
            "gt:  [[1. 0. 0. 1. 0. 0. 1. 0.]]\n",
            "Accuracy:  0.0\n"
          ]
        }
      ]
    },
    {
      "cell_type": "code",
      "metadata": {
        "colab": {
          "base_uri": "https://localhost:8080/"
        },
        "id": "WWVn5LvCfOC1",
        "outputId": "7f9821b7-f669-4549-9603-227d27e22afc"
      },
      "source": [
        "## Example 4 (Multilabel: 3 samples, 4 classes)\n",
        "\n",
        "pred_logits = torch.tensor([[ 1.,  0.3976,  -1., -0.913 ],[ 1.,  0.3976, -1., 1.],[  -1., 1., -1., -1.]])\n",
        "pred_sigmoid = torch.sigmoid(pred_logits)\n",
        "pred = torch.round(pred_sigmoid)\n",
        "gt = np.array([[1., 1., 0., 0.], [1., 1., 0., 1.], [0., 1., 0., 0.]])    \n",
        "\n",
        "print('pred_logits: ', pred_logits)\n",
        "print('pred_sigmoid: ', pred_sigmoid)\n",
        "print('pred: ', pred)\n",
        "print('gt: ', gt)\n",
        "\n",
        "acc = accuracy_score(gt, pred.detach().cpu().numpy())\n",
        "print('Accuracy: ', acc)"
      ],
      "execution_count": null,
      "outputs": [
        {
          "output_type": "stream",
          "name": "stdout",
          "text": [
            "pred_logits:  tensor([[ 1.0000,  0.3976, -1.0000, -0.9130],\n",
            "        [ 1.0000,  0.3976, -1.0000,  1.0000],\n",
            "        [-1.0000,  1.0000, -1.0000, -1.0000]])\n",
            "pred_sigmoid:  tensor([[0.7311, 0.5981, 0.2689, 0.2864],\n",
            "        [0.7311, 0.5981, 0.2689, 0.7311],\n",
            "        [0.2689, 0.7311, 0.2689, 0.2689]])\n",
            "pred:  tensor([[1., 1., 0., 0.],\n",
            "        [1., 1., 0., 1.],\n",
            "        [0., 1., 0., 0.]])\n",
            "gt:  [[1. 1. 0. 0.]\n",
            " [1. 1. 0. 1.]\n",
            " [0. 1. 0. 0.]]\n",
            "Accuracy:  1.0\n"
          ]
        }
      ]
    },
    {
      "cell_type": "code",
      "metadata": {
        "colab": {
          "base_uri": "https://localhost:8080/"
        },
        "id": "FfaE02SpgLC0",
        "outputId": "9254e76c-4eba-465a-b379-e2fdc1200246"
      },
      "source": [
        "## Example 5 (Multilabel: 3 samples, 4 classes)\n",
        "\n",
        "pred_logits = torch.tensor([[ 1.,  0.3976,  -1., -0.913 ],[ 1.,  0.3976, -1., 1.],[  -1., 1., -1., -1.]])\n",
        "pred_sigmoid = torch.sigmoid(pred_logits)\n",
        "pred = torch.round(pred_sigmoid)\n",
        "gt = np.array([[1., 0., 0., 0.], [1., 1., 0., 1.], [0., 1., 0., 0.]])    ## Adjustment on sample 1 (1 prediction is wrong), correct label = 2/3\n",
        "\n",
        "print('pred_logits: ', pred_logits)\n",
        "print('pred_sigmoid: ', pred_sigmoid)\n",
        "print('pred: ', pred)\n",
        "print('gt: ', gt)\n",
        "\n",
        "acc = accuracy_score(gt, pred.detach().cpu().numpy())\n",
        "print('Accuracy: ', acc)"
      ],
      "execution_count": null,
      "outputs": [
        {
          "output_type": "stream",
          "name": "stdout",
          "text": [
            "pred_logits:  tensor([[ 1.0000,  0.3976, -1.0000, -0.9130],\n",
            "        [ 1.0000,  0.3976, -1.0000,  1.0000],\n",
            "        [-1.0000,  1.0000, -1.0000, -1.0000]])\n",
            "pred_sigmoid:  tensor([[0.7311, 0.5981, 0.2689, 0.2864],\n",
            "        [0.7311, 0.5981, 0.2689, 0.7311],\n",
            "        [0.2689, 0.7311, 0.2689, 0.2689]])\n",
            "pred:  tensor([[1., 1., 0., 0.],\n",
            "        [1., 1., 0., 1.],\n",
            "        [0., 1., 0., 0.]])\n",
            "gt:  [[1. 0. 0. 0.]\n",
            " [1. 1. 0. 1.]\n",
            " [0. 1. 0. 0.]]\n",
            "Accuracy:  0.6666666666666666\n"
          ]
        }
      ]
    },
    {
      "cell_type": "markdown",
      "source": [
        "# 2. Example based / Instance based accuracy:"
      ],
      "metadata": {
        "id": "Vfo3BVRCzfnK"
      }
    },
    {
      "cell_type": "markdown",
      "source": [
        "Accuracy for each instance is defined as the proportion of the predicted correct labels to the total number (predicted and actual) of labels for that instance. Overall accuracy is the average across all instances.\n",
        "\n",
        "ref: https://www.researchgate.net/profile/Rachana-Buch/publication/327110772_A_Survey_on_Multi_Label_Classification/links/5bf56905299bf1124fe4aef2/A-Survey-on-Multi-Label-Classification.pdf"
      ],
      "metadata": {
        "id": "3K0OPORhzEQW"
      }
    },
    {
      "cell_type": "code",
      "source": [
        "## Example 6 (Multilabel: 3 samples, 4 classes)\n",
        "\n",
        "pred_logits = torch.tensor([[ 1.,  0.3976,  -1., -0.913 ],[ 1.,  0.3976, -1., 1.],[  -1., 1., -1., -1.]])\n",
        "pred_sigmoid = torch.sigmoid(pred_logits)\n",
        "pred = torch.round(pred_sigmoid)\n",
        "gt = np.array([[1., 0., 0., 0.], [1., 1., 0., 1.], [0., 1., 0., 0.]])    ## Adjustment on sample 1 (1 prediction is wrong), correct label = 11/12\n",
        "\n",
        "print('pred_logits: ', pred_logits)\n",
        "print('pred_sigmoid: ', pred_sigmoid)\n",
        "print('pred: ', pred)\n",
        "print('gt: ', gt)\n",
        "\n",
        "acc_sample = []\n",
        "for i in range(len(gt)):\n",
        "    acc_per_sample = accuracy_score(gt[i], pred[i].detach().cpu().numpy())\n",
        "    acc_sample.append(acc_per_sample)\n",
        "print('Accuracy per sample:', acc_sample)\n",
        "print('Accuracy: ', np.nanmean(acc_sample))"
      ],
      "metadata": {
        "colab": {
          "base_uri": "https://localhost:8080/"
        },
        "id": "AaTMZ_W5S5bB",
        "outputId": "197221cf-5f07-4ca7-baa8-d89bd5249068"
      },
      "execution_count": null,
      "outputs": [
        {
          "output_type": "stream",
          "name": "stdout",
          "text": [
            "pred_logits:  tensor([[ 1.0000,  0.3976, -1.0000, -0.9130],\n",
            "        [ 1.0000,  0.3976, -1.0000,  1.0000],\n",
            "        [-1.0000,  1.0000, -1.0000, -1.0000]])\n",
            "pred_sigmoid:  tensor([[0.7311, 0.5981, 0.2689, 0.2864],\n",
            "        [0.7311, 0.5981, 0.2689, 0.7311],\n",
            "        [0.2689, 0.7311, 0.2689, 0.2689]])\n",
            "pred:  tensor([[1., 1., 0., 0.],\n",
            "        [1., 1., 0., 1.],\n",
            "        [0., 1., 0., 0.]])\n",
            "gt:  [[1. 0. 0. 0.]\n",
            " [1. 1. 0. 1.]\n",
            " [0. 1. 0. 0.]]\n",
            "Accuracy per sample: [0.75, 1.0, 1.0]\n",
            "Accuracy:  0.9166666666666666\n"
          ]
        }
      ]
    },
    {
      "cell_type": "markdown",
      "source": [
        "# Class-wise Accuracy"
      ],
      "metadata": {
        "id": "Oktwsve6zxpi"
      }
    },
    {
      "cell_type": "markdown",
      "source": [
        "# 1. Class-wise confusion matrix: \n",
        "Compute class-wise (default) or sample-wise (samplewise=True) multilabel confusion matrix to evaluate the accuracy of a classification, and output confusion matrices for each class or sample."
      ],
      "metadata": {
        "id": "DNgobHcwz3XF"
      }
    },
    {
      "cell_type": "code",
      "source": [
        "# Using confusion matrix to compute TP, TN, FP and FN values, then calculate accuracy using (TP+TN)/(TP+TN+FP+TN)\n",
        "gt = np.array([[1, 0, 1, 0, 1],\n",
        "                  [0, 1, 0, 1, 0],\n",
        "                  [1, 0, 0, 1, 0]])\n",
        "pred = np.array([[-1.32, 0.65, 1.12, 0.02, -1.03],\n",
        "                  [-1.01, -0.5, 0.0, 0.2, 0.04],\n",
        "                  [1.23, 0.4, 0.5, 0.8, -0.4]]) \n",
        "pred_sigmoid = torch.sigmoid(torch.from_numpy(pred)) \n",
        "pred_sigmoid = np.array(pred_sigmoid)\n",
        "threshold = 0.5 \n",
        "pred_indicator = np.array(pred_sigmoid > threshold, dtype=float)\n",
        "\n",
        "print('pred_logits: ', pred)\n",
        "print('pred_sigmoid: ', pred_sigmoid)\n",
        "print('pred: ', pred_indicator)\n",
        "print('gt: ', gt)\n",
        "\n",
        "matrix = multilabel_confusion_matrix(gt, pred_indicator, samplewise=False)\n",
        "print('class_wise_confusion_matrix:', matrix)\n",
        "cls_acc = []\n",
        "for i in range(len(matrix)):\n",
        "  TN = matrix[i][0][0]\n",
        "  FN = matrix[i][1][0]\n",
        "  TP = matrix[i][1][1]\n",
        "  FP = matrix[i][0][1]\n",
        "  class_wise_accu = (TN + TP) / (TN+TP+FN+FP)\n",
        "  cls_acc.append(class_wise_accu)\n",
        "print('class_wise_acc:', cls_acc)\n",
        "print('acc:', np.nanmean(cls_acc))"
      ],
      "metadata": {
        "colab": {
          "base_uri": "https://localhost:8080/"
        },
        "id": "1Ud5iNI-1cjD",
        "outputId": "ad100bce-23bd-485d-b2d9-bf54e1a4b75c"
      },
      "execution_count": null,
      "outputs": [
        {
          "output_type": "stream",
          "name": "stdout",
          "text": [
            "pred_logits:  [[-1.32  0.65  1.12  0.02 -1.03]\n",
            " [-1.01 -0.5   0.    0.2   0.04]\n",
            " [ 1.23  0.4   0.5   0.8  -0.4 ]]\n",
            "pred_sigmoid:  [[0.21081829 0.65701046 0.75398872 0.50499983 0.2630841 ]\n",
            " [0.26697985 0.37754067 0.5        0.549834   0.50999867]\n",
            " [0.77381857 0.59868766 0.62245933 0.68997448 0.40131234]]\n",
            "pred:  [[0. 1. 1. 1. 0.]\n",
            " [0. 0. 0. 1. 1.]\n",
            " [1. 1. 1. 1. 0.]]\n",
            "gt:  [[1 0 1 0 1]\n",
            " [0 1 0 1 0]\n",
            " [1 0 0 1 0]]\n",
            "class_wise_confusion_matrix: [[[1 0]\n",
            "  [1 1]]\n",
            "\n",
            " [[0 2]\n",
            "  [1 0]]\n",
            "\n",
            " [[1 1]\n",
            "  [0 1]]\n",
            "\n",
            " [[0 1]\n",
            "  [0 2]]\n",
            "\n",
            " [[1 1]\n",
            "  [1 0]]]\n",
            "class_wise_acc: [0.6666666666666666, 0.0, 0.6666666666666666, 0.6666666666666666, 0.3333333333333333]\n",
            "acc: 0.4666666666666667\n"
          ]
        }
      ]
    },
    {
      "cell_type": "markdown",
      "source": [
        "# Questions: Is overall class-wise accuracy = overall sample-wise accuracy?"
      ],
      "metadata": {
        "id": "y44TE3rx23aL"
      }
    },
    {
      "cell_type": "code",
      "source": [
        "## Example 1\n",
        "gt = np.array([[1, 0, 1, 0, 1],\n",
        "                  [1, 1, 0, 0, 0],\n",
        "                  [1, 0, 1, 0, 0]])\n",
        "pred = np.array([[-1.32, 0.65, 1.12, 0.02, -1.03],\n",
        "                  [-1.01, -0.5, 0.0, 0.2, 0.04],\n",
        "                  [1.23, 0.4, 0.5, 0.8, -0.4]]) \n",
        "pred_sigmoid = torch.sigmoid(torch.from_numpy(pred)) \n",
        "pred_sigmoid = np.array(pred_sigmoid)\n",
        "threshold = 0.5 \n",
        "pred_indicator = np.array(pred_sigmoid > threshold, dtype=float)\n",
        "\n",
        "print('#################### Sample-wise Accuracy ####################')\n",
        "acc_sample = []\n",
        "for i in range(len(gt)):\n",
        "    acc_per_sample = accuracy_score(gt[i], pred_indicator[i])\n",
        "    acc_sample.append(acc_per_sample)\n",
        "print('Accuracy per sample:', acc_sample)\n",
        "print('Overall Accuracy (sample-wise): ', np.nanmean(acc_sample))\n",
        "\n",
        "print('\\n#################### Class-wise Accuracy ####################')\n",
        "matrix = multilabel_confusion_matrix(gt, pred_indicator, samplewise=False)\n",
        "# print('class_wise_confusion_matrix:', matrix)\n",
        "cls_acc = []\n",
        "for i in range(len(matrix)):\n",
        "  TN = matrix[i][0][0]\n",
        "  FN = matrix[i][1][0]\n",
        "  TP = matrix[i][1][1]\n",
        "  FP = matrix[i][0][1]\n",
        "  class_wise_accu = (TN + TP) / (TN+TP+FN+FP)\n",
        "  cls_acc.append(class_wise_accu)\n",
        "print('Accuracy per sample:', cls_acc)\n",
        "print('Overall Accuracy (class-wise):', np.nanmean(cls_acc))"
      ],
      "metadata": {
        "colab": {
          "base_uri": "https://localhost:8080/"
        },
        "id": "E8caVtXp2174",
        "outputId": "90169f93-d65b-4fda-de2b-3c7f421dd09b"
      },
      "execution_count": null,
      "outputs": [
        {
          "output_type": "stream",
          "name": "stdout",
          "text": [
            "#################### Sample-wise Accuracy ####################\n",
            "Accuracy per sample: [0.2, 0.2, 0.6]\n",
            "Overall Accuracy (sample-wise):  0.3333333333333333\n",
            "\n",
            "#################### Class-wise Accuracy ####################\n",
            "Accuracy per sample: [0.3333333333333333, 0.0, 1.0, 0.0, 0.3333333333333333]\n",
            "Overall Accuracy (class-wise): 0.3333333333333333\n"
          ]
        }
      ]
    },
    {
      "cell_type": "code",
      "source": [
        "## Example 2\n",
        "gt = np.array([[1, 0, 1, 0, 1],\n",
        "                  [1, 1, 0, 0, 0],\n",
        "                  [1, 0, 1, 0, 0]])\n",
        "pred = np.array([[-1.32, 0.65, -1.12, 0.02, -1.03],\n",
        "                  [1.01, -0.5, 0.0, 1.56, -0.04],\n",
        "                  [1.23, -0.4, 0.5, 0.8, 0.4]]) \n",
        "pred_sigmoid = torch.sigmoid(torch.from_numpy(pred)) \n",
        "pred_sigmoid = np.array(pred_sigmoid)\n",
        "threshold = 0.5 \n",
        "pred_indicator = np.array(pred_sigmoid > threshold, dtype=float)\n",
        "\n",
        "print('#################### Sample-wise Accuracy ####################')\n",
        "acc_sample = []\n",
        "for i in range(len(gt)):\n",
        "    acc_per_sample = accuracy_score(gt[i], pred_indicator[i])\n",
        "    acc_sample.append(acc_per_sample)\n",
        "print('Accuracy per sample:', acc_sample)\n",
        "print('Overall Accuracy (sample-wise): ', np.nanmean(acc_sample))\n",
        "\n",
        "print('\\n#################### Class-wise Accuracy ####################')\n",
        "matrix = multilabel_confusion_matrix(gt, pred_indicator, samplewise=False)\n",
        "# print('class_wise_confusion_matrix:', matrix)\n",
        "cls_acc = []\n",
        "for i in range(len(matrix)):\n",
        "  TN = matrix[i][0][0]\n",
        "  FN = matrix[i][1][0]\n",
        "  TP = matrix[i][1][1]\n",
        "  FP = matrix[i][0][1]\n",
        "  class_wise_accu = (TN + TP) / (TN+TP+FN+FP)\n",
        "  cls_acc.append(class_wise_accu)\n",
        "print('Accuracy per sample:', cls_acc)\n",
        "print('Overall Accuracy (class-wise):', np.nanmean(cls_acc))"
      ],
      "metadata": {
        "colab": {
          "base_uri": "https://localhost:8080/"
        },
        "id": "hrS3xS4u4YZa",
        "outputId": "f4b84b0b-6044-44a4-a176-ec3c425fc354"
      },
      "execution_count": null,
      "outputs": [
        {
          "output_type": "stream",
          "name": "stdout",
          "text": [
            "#################### Sample-wise Accuracy ####################\n",
            "Accuracy per sample: [0.0, 0.6, 0.6]\n",
            "Overall Accuracy (sample-wise):  0.39999999999999997\n",
            "\n",
            "#################### Class-wise Accuracy ####################\n",
            "Accuracy per sample: [0.6666666666666666, 0.3333333333333333, 0.6666666666666666, 0.0, 0.3333333333333333]\n",
            "Overall Accuracy (class-wise): 0.39999999999999997\n"
          ]
        }
      ]
    },
    {
      "cell_type": "markdown",
      "source": [
        "# Other evaluation metrics: Hamming score / Hamming loss\n",
        "Hamming Score is the fraction of correct predictions compared to the total labels. This is similar to Accuracy, and in fact they are interchangeable. \n",
        "\n",
        "The Hamming loss is the fraction of labels that are incorrectly predicted.\n",
        "\n",
        "ref: https://wiki.hasty.ai/metrics/hamming-score#:~:text=Hamming%20Score%20is%20the%20fraction,in%20fact%20they%20are%20interchangeable."
      ],
      "metadata": {
        "id": "YuDsTdHV4z42"
      }
    },
    {
      "cell_type": "code",
      "source": [
        "gt = np.array([[1, 0, 1, 0, 1],\n",
        "                  [1, 1, 0, 0, 0],\n",
        "                  [1, 0, 1, 0, 0]])\n",
        "pred = np.array([[-1.32, 0.65, -1.12, 0.02, -1.03],\n",
        "                  [1.01, -0.5, 0.0, 1.56, -0.04],\n",
        "                  [1.23, -0.4, 0.5, 0.8, 0.4]]) \n",
        "pred_sigmoid = torch.sigmoid(torch.from_numpy(pred)) \n",
        "pred_sigmoid = np.array(pred_sigmoid)\n",
        "threshold = 0.5 \n",
        "pred_indicator = np.array(pred_sigmoid > threshold, dtype=float)\n",
        "\n",
        "print('pred_logits: ', pred)\n",
        "print('pred_sigmoid: ', pred_sigmoid)\n",
        "print('pred: ', pred_indicator)\n",
        "print('gt: ', gt)\n",
        "\n",
        "print('Hamming Loss', hamming_loss(gt, pred_indicator))\n",
        "\n",
        "# true_class_index = np.argwhere(gt==1)\n",
        "# print('true_class_index', true_class_index) # the shape is (7, 2)\n",
        "\n",
        "# correct = 0\n",
        "# for i in range(true_class_index.shape[0]):\n",
        "#   if pred_indicator[true_class_index[i][0], true_class_index[i][1]] == 1.0:\n",
        "#     correct += 1\n",
        "# print('correct', correct)\n",
        "# print('total true classes', true_class_index.shape[0])\n",
        "# acc = correct / true_class_index.shape[0]\n",
        "# print('acc', acc)\n"
      ],
      "metadata": {
        "colab": {
          "base_uri": "https://localhost:8080/"
        },
        "id": "li9ASnUg5Dvm",
        "outputId": "b7fd19e4-1009-4f79-ce93-5bd58db98363"
      },
      "execution_count": null,
      "outputs": [
        {
          "output_type": "stream",
          "name": "stdout",
          "text": [
            "pred_logits:  [[-1.32  0.65 -1.12  0.02 -1.03]\n",
            " [ 1.01 -0.5   0.    1.56 -0.04]\n",
            " [ 1.23 -0.4   0.5   0.8   0.4 ]]\n",
            "pred_sigmoid:  [[0.21081829 0.65701046 0.24601128 0.50499983 0.2630841 ]\n",
            " [0.73302015 0.37754067 0.5        0.82635335 0.49000133]\n",
            " [0.77381857 0.40131234 0.62245933 0.68997448 0.59868766]]\n",
            "pred:  [[0. 1. 0. 1. 0.]\n",
            " [1. 0. 0. 1. 0.]\n",
            " [1. 0. 1. 1. 1.]]\n",
            "gt:  [[1 0 1 0 1]\n",
            " [1 1 0 0 0]\n",
            " [1 0 1 0 0]]\n",
            "Hamming Loss 0.6\n",
            "true_class_index [[0 0]\n",
            " [0 2]\n",
            " [0 4]\n",
            " [1 0]\n",
            " [1 1]\n",
            " [2 0]\n",
            " [2 2]]\n",
            "correct 3\n",
            "total true classes 7\n",
            "acc 0.42857142857142855\n"
          ]
        }
      ]
    }
  ]
}