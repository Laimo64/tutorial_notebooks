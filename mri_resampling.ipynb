{
  "nbformat": 4,
  "nbformat_minor": 0,
  "metadata": {
    "colab": {
      "provenance": [],
      "authorship_tag": "ABX9TyNsQ0NJydsySI9llVX9iB2Z",
      "include_colab_link": true
    },
    "kernelspec": {
      "name": "python3",
      "display_name": "Python 3"
    },
    "language_info": {
      "name": "python"
    }
  },
  "cells": [
    {
      "cell_type": "markdown",
      "metadata": {
        "id": "view-in-github",
        "colab_type": "text"
      },
      "source": [
        "<a href=\"https://colab.research.google.com/github/mobarakol/tutorial_notebooks/blob/main/mri_resampling.ipynb\" target=\"_parent\"><img src=\"https://colab.research.google.com/assets/colab-badge.svg\" alt=\"Open In Colab\"/></a>"
      ]
    },
    {
      "cell_type": "markdown",
      "source": [
        "Resampling MRI:<br>\n",
        "Modifying voxel spacing, origin, get direction of a MRI following a reference MRI<br>\n",
        "Download public MRIs and my reference MRI:"
      ],
      "metadata": {
        "id": "AvaepSu2NsT9"
      }
    },
    {
      "cell_type": "code",
      "execution_count": 1,
      "metadata": {
        "colab": {
          "base_uri": "https://localhost:8080/",
          "height": 35
        },
        "id": "AeGqWAc6Ih1F",
        "outputId": "a65608fa-43c2-4f23-e6e1-0c7ebb64e770"
      },
      "outputs": [
        {
          "output_type": "execute_result",
          "data": {
            "text/plain": [
              "'ref_mri.nii.gz'"
            ],
            "application/vnd.google.colaboratory.intrinsic+json": {
              "type": "string"
            }
          },
          "metadata": {},
          "execution_count": 1
        }
      ],
      "source": [
        "import gdown\n",
        "\n",
        "url = 'https://drive.google.com/uc?id=12VsmYrHN-a0OzVlwP8CxkuAK4zTfMaaC'\n",
        "gdown.download(url,'pituitary_public.zip',quiet=True)\n",
        "!unzip -q pituitary_public.zip\n",
        "\n",
        "\n",
        "url = 'https://drive.google.com/uc?id=1QwB-DFkvDHR0kqVffLrqDGJ3xY-47yJ6'\n",
        "gdown.download(url,'ref_mri.nii.gz',quiet=True)"
      ]
    },
    {
      "cell_type": "markdown",
      "source": [
        "Installing lib:"
      ],
      "metadata": {
        "id": "C01RG9ZFOMkk"
      }
    },
    {
      "cell_type": "code",
      "source": [
        "!pip -q install SimpleITK"
      ],
      "metadata": {
        "colab": {
          "base_uri": "https://localhost:8080/"
        },
        "id": "hD_acSn5OOqV",
        "outputId": "cd28de42-f62e-4a8f-8387-3fee4c4c6c3e"
      },
      "execution_count": 2,
      "outputs": [
        {
          "output_type": "stream",
          "name": "stdout",
          "text": [
            "\u001b[2K     \u001b[90m━━━━━━━━━━━━━━━━━━━━━━━━━━━━━━━━━━━━━━━━\u001b[0m \u001b[32m52.7/52.7 MB\u001b[0m \u001b[31m7.4 MB/s\u001b[0m eta \u001b[36m0:00:00\u001b[0m\n",
            "\u001b[?25h"
          ]
        }
      ]
    },
    {
      "cell_type": "markdown",
      "source": [
        "Resampling: Modifying voxel spacing, origin, get direction of a MRI following a reference MRI"
      ],
      "metadata": {
        "id": "2yR_OqZUORij"
      }
    },
    {
      "cell_type": "code",
      "source": [
        "import nibabel as nib\n",
        "from glob import glob\n",
        "import numpy as np\n",
        "import os\n",
        "import SimpleITK as sitk\n",
        "\n",
        "def get_resampling(ref_mri, mri, path):\n",
        "    mri.SetSpacing(ref_mri.GetSpacing())\n",
        "    #  mri.SetDirection(ref_mri.GetDirection())\n",
        "    mri.SetOrigin(ref_mri.GetOrigin())\n",
        "    writer = sitk.ImageFileWriter()\n",
        "    writer.SetFileName(path)\n",
        "    writer.Execute(mri)\n",
        "\n",
        "\n",
        "ref_mri = sitk.ReadImage('ref_mri.nii.gz')\n",
        "\n",
        "#resampling mri\n",
        "path_all = glob('pituitary_public/*/*T1_C.nii')\n",
        "for path in path_all:\n",
        "    print('mri to resample:', path)\n",
        "    mri = sitk.ReadImage(path)\n",
        "    path = path.replace('pituitary_public', 'pituitary_resampled')\n",
        "    os.makedirs(os.path.dirname(path), exist_ok = True)\n",
        "    path = path.replace(os.path.basename(path), os.path.basename(os.path.dirname(path))+'_t1c.nii.gz')\n",
        "    get_resampling(ref_mri, mri, path)\n",
        "    print('saved in:', path)\n",
        "\n",
        "#resampling mask\n",
        "path_all = glob('pituitary_public/*/mask.nii')\n",
        "for path in path_all:\n",
        "    print('mri to resample:', path)\n",
        "    mri = sitk.ReadImage(path)\n",
        "    path = path.replace('pituitary_public', 'pituitary_resampled')\n",
        "    os.makedirs(os.path.dirname(path), exist_ok = True)\n",
        "    path = path.replace(os.path.basename(path), os.path.basename(os.path.dirname(path))+'_mask.nii.gz')\n",
        "    get_resampling(ref_mri, mri, path)\n",
        "    print('saved in:', path)"
      ],
      "metadata": {
        "colab": {
          "base_uri": "https://localhost:8080/"
        },
        "id": "um4Bz3yVK7GK",
        "outputId": "b946ea35-7902-4979-d1c6-cdf2939f2bd1"
      },
      "execution_count": 3,
      "outputs": [
        {
          "output_type": "stream",
          "name": "stdout",
          "text": [
            "mri to resample: pituitary_public/mri_005/COR_T1_C.nii\n",
            "saved in: pituitary_resampled/mri_005/mri_005_t1c.nii.gz\n",
            "mri to resample: pituitary_public/mri_007/COR_T1_C.nii\n",
            "saved in: pituitary_resampled/mri_007/mri_007_t1c.nii.gz\n",
            "mri to resample: pituitary_public/mri_009/COR_T1_C.nii\n",
            "saved in: pituitary_resampled/mri_009/mri_009_t1c.nii.gz\n",
            "mri to resample: pituitary_public/mri_006/COR_T1_C.nii\n",
            "saved in: pituitary_resampled/mri_006/mri_006_t1c.nii.gz\n",
            "mri to resample: pituitary_public/mri_001/COR_T1_C.nii\n",
            "saved in: pituitary_resampled/mri_001/mri_001_t1c.nii.gz\n",
            "mri to resample: pituitary_public/mri_011/COR_T1_C.nii\n",
            "saved in: pituitary_resampled/mri_011/mri_011_t1c.nii.gz\n",
            "mri to resample: pituitary_public/mri_013/COR_T1_C.nii\n",
            "saved in: pituitary_resampled/mri_013/mri_013_t1c.nii.gz\n",
            "mri to resample: pituitary_public/mri_004/COR_T1_C.nii\n",
            "saved in: pituitary_resampled/mri_004/mri_004_t1c.nii.gz\n",
            "mri to resample: pituitary_public/mri_010/COR_T1_C.nii\n",
            "saved in: pituitary_resampled/mri_010/mri_010_t1c.nii.gz\n",
            "mri to resample: pituitary_public/mri_014/COR_T1_C.nii\n",
            "saved in: pituitary_resampled/mri_014/mri_014_t1c.nii.gz\n",
            "mri to resample: pituitary_public/mri_003/COR_T1_C.nii\n",
            "saved in: pituitary_resampled/mri_003/mri_003_t1c.nii.gz\n",
            "mri to resample: pituitary_public/mri_002/COR_T1_C.nii\n",
            "saved in: pituitary_resampled/mri_002/mri_002_t1c.nii.gz\n",
            "mri to resample: pituitary_public/mri_012/COR_T1_C.nii\n",
            "saved in: pituitary_resampled/mri_012/mri_012_t1c.nii.gz\n",
            "mri to resample: pituitary_public/mri_008/COR_T1_C.nii\n",
            "saved in: pituitary_resampled/mri_008/mri_008_t1c.nii.gz\n",
            "mri to resample: pituitary_public/mri_005/mask.nii\n",
            "saved in: pituitary_resampled/mri_005/mri_005_mask.nii.gz\n",
            "mri to resample: pituitary_public/mri_007/mask.nii\n",
            "saved in: pituitary_resampled/mri_007/mri_007_mask.nii.gz\n",
            "mri to resample: pituitary_public/mri_009/mask.nii\n",
            "saved in: pituitary_resampled/mri_009/mri_009_mask.nii.gz\n",
            "mri to resample: pituitary_public/mri_006/mask.nii\n",
            "saved in: pituitary_resampled/mri_006/mri_006_mask.nii.gz\n",
            "mri to resample: pituitary_public/mri_001/mask.nii\n",
            "saved in: pituitary_resampled/mri_001/mri_001_mask.nii.gz\n",
            "mri to resample: pituitary_public/mri_011/mask.nii\n",
            "saved in: pituitary_resampled/mri_011/mri_011_mask.nii.gz\n",
            "mri to resample: pituitary_public/mri_013/mask.nii\n",
            "saved in: pituitary_resampled/mri_013/mri_013_mask.nii.gz\n",
            "mri to resample: pituitary_public/mri_004/mask.nii\n",
            "saved in: pituitary_resampled/mri_004/mri_004_mask.nii.gz\n",
            "mri to resample: pituitary_public/mri_010/mask.nii\n",
            "saved in: pituitary_resampled/mri_010/mri_010_mask.nii.gz\n",
            "mri to resample: pituitary_public/mri_014/mask.nii\n",
            "saved in: pituitary_resampled/mri_014/mri_014_mask.nii.gz\n",
            "mri to resample: pituitary_public/mri_003/mask.nii\n",
            "saved in: pituitary_resampled/mri_003/mri_003_mask.nii.gz\n",
            "mri to resample: pituitary_public/mri_002/mask.nii\n",
            "saved in: pituitary_resampled/mri_002/mri_002_mask.nii.gz\n",
            "mri to resample: pituitary_public/mri_012/mask.nii\n",
            "saved in: pituitary_resampled/mri_012/mri_012_mask.nii.gz\n",
            "mri to resample: pituitary_public/mri_008/mask.nii\n",
            "saved in: pituitary_resampled/mri_008/mri_008_mask.nii.gz\n"
          ]
        }
      ]
    },
    {
      "cell_type": "code",
      "source": [],
      "metadata": {
        "id": "qrXDrxkjNpfE"
      },
      "execution_count": null,
      "outputs": []
    }
  ]
}